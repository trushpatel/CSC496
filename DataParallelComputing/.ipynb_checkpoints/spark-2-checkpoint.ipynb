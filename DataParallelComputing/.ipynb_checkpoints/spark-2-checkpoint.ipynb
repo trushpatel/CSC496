{
 "cells": [
  {
   "cell_type": "code",
   "execution_count": 1,
   "id": "8620247d",
   "metadata": {},
   "outputs": [],
   "source": [
    "import os\n",
    "import sys\n",
    "spark_path = os.environ['SPARK_HOME']\n",
    "sys.path.append(spark_path + \"/bin\")\n",
    "sys.path.append(spark_path + \"/python\")\n",
    "sys.path.append(spark_path + \"/python/pyspark/\")\n",
    "sys.path.append(spark_path + \"/python/lib\")\n",
    "sys.path.append(spark_path + \"/python/lib/pyspark.zip\")\n",
    "sys.path.append(spark_path + \"/python/lib/py4j-0.10.9-src.zip\")\n",
    "\n",
    "import findspark\n",
    "findspark.init()\n",
    "import pyspark"
   ]
  },
  {
   "cell_type": "code",
   "execution_count": 2,
   "id": "2b698fdc",
   "metadata": {},
   "outputs": [],
   "source": [
    "number_cores = 6\n",
    "memory_gb = 16\n",
    "conf = (pyspark.SparkConf().setMaster('local[{}]'.format(number_cores)).set('spark.driver.memory', '{}g'.format(memory_gb)))\n",
    "sc = pyspark.SparkContext(conf=conf)"
   ]
  },
  {
   "cell_type": "code",
   "execution_count": 9,
   "id": "a9def3a2",
   "metadata": {},
   "outputs": [
    {
     "name": "stdout",
     "output_type": "stream",
     "text": [
      "total 1.2G\r\n",
      "-rw-r--r-- 1 trush PDC-edu-Lab 396M Sep 15 08:07 genome-scores.csv\r\n",
      "-rw-r--r-- 1 trush PDC-edu-Lab  18K Sep 15 08:03 genome-tags.csv\r\n",
      "-rw-r--r-- 1 trush PDC-edu-Lab 1.3M Sep 15 08:03 links.csv\r\n",
      "-rw-r--r-- 1 trush PDC-edu-Lab 2.8M Sep 15 08:03 movies.csv\r\n",
      "-rw-r--r-- 1 trush PDC-edu-Lab 725M Sep 15 08:08 ratings.csv\r\n",
      "-rw-r--r-- 1 trush PDC-edu-Lab 9.6K Sep 15 08:03 README.txt\r\n",
      "-rw-r--r-- 1 trush PDC-edu-Lab  38M Sep 15 08:04 tags.csv\r\n"
     ]
    }
   ],
   "source": [
    "ls -lh /users/trush/CSC496/DataParallelComputing/data/ml-latest"
   ]
  },
  {
   "cell_type": "code",
   "execution_count": 10,
   "id": "c3f1e1d6",
   "metadata": {},
   "outputs": [
    {
     "name": "stdout",
     "output_type": "stream",
     "text": [
      "data  spark-2.ipynb\r\n"
     ]
    }
   ],
   "source": [
    "!ls"
   ]
  },
  {
   "cell_type": "code",
   "execution_count": 13,
   "id": "2f11b6f8",
   "metadata": {},
   "outputs": [],
   "source": [
    "ratings = sc.textFile(\"/users/trush/CSC496/DataParallelComputing/data/ml-latest/ratings.csv\")"
   ]
  },
  {
   "cell_type": "code",
   "execution_count": 14,
   "id": "d677283d",
   "metadata": {},
   "outputs": [
    {
     "data": {
      "text/plain": [
       "['userId,movieId,rating,timestamp',\n",
       " '1,307,3.5,1256677221',\n",
       " '1,481,3.5,1256677456',\n",
       " '1,1091,1.5,1256677471',\n",
       " '1,1257,4.5,1256677460']"
      ]
     },
     "execution_count": 14,
     "metadata": {},
     "output_type": "execute_result"
    }
   ],
   "source": [
    "ratings.take(5)"
   ]
  },
  {
   "cell_type": "code",
   "execution_count": 15,
   "id": "f1f16fc5",
   "metadata": {},
   "outputs": [
    {
     "data": {
      "text/plain": [
       "/users/trush/CSC496/DataParallelComputing/data/ml-latest/ratings.csv MapPartitionsRDD[5] at textFile at NativeMethodAccessorImpl.java:0"
      ]
     },
     "execution_count": 15,
     "metadata": {},
     "output_type": "execute_result"
    }
   ],
   "source": [
    "ratings.cache()"
   ]
  },
  {
   "cell_type": "code",
   "execution_count": 16,
   "id": "558a82de",
   "metadata": {},
   "outputs": [
    {
     "name": "stdout",
     "output_type": "stream",
     "text": [
      "CPU times: user 32.2 ms, sys: 11.5 ms, total: 43.7 ms\n",
      "Wall time: 14.6 s\n"
     ]
    },
    {
     "data": {
      "text/plain": [
       "27753445"
      ]
     },
     "execution_count": 16,
     "metadata": {},
     "output_type": "execute_result"
    }
   ],
   "source": [
    "%%time\n",
    "ratings.count()"
   ]
  },
  {
   "cell_type": "code",
   "execution_count": 18,
   "id": "2b91516d",
   "metadata": {},
   "outputs": [
    {
     "name": "stdout",
     "output_type": "stream",
     "text": [
      "CPU times: user 12.8 ms, sys: 16.6 ms, total: 29.4 ms\n",
      "Wall time: 8.76 s\n"
     ]
    },
    {
     "data": {
      "text/plain": [
       "27753445"
      ]
     },
     "execution_count": 18,
     "metadata": {},
     "output_type": "execute_result"
    }
   ],
   "source": [
    "%%time\n",
    "ratings.count()"
   ]
  },
  {
   "cell_type": "code",
   "execution_count": 20,
   "id": "46df032d",
   "metadata": {},
   "outputs": [
    {
     "name": "stdout",
     "output_type": "stream",
     "text": [
      "CPU times: user 23 ms, sys: 10.7 ms, total: 33.7 ms\n",
      "Wall time: 8.85 s\n"
     ]
    },
    {
     "data": {
      "text/plain": [
       "27753445"
      ]
     },
     "execution_count": 20,
     "metadata": {},
     "output_type": "execute_result"
    }
   ],
   "source": [
    "%%time\n",
    "ratings.count()"
   ]
  },
  {
   "cell_type": "markdown",
   "id": "70aeddad",
   "metadata": {},
   "source": [
    "# Average ratings over the years of every movie"
   ]
  },
  {
   "cell_type": "code",
   "execution_count": 22,
   "id": "45cb2246",
   "metadata": {},
   "outputs": [
    {
     "name": "stdout",
     "output_type": "stream",
     "text": [
      "userId,movieId,rating,timestamp\n"
     ]
    }
   ],
   "source": [
    "ratingHeader = ratings.first()\n",
    "print(ratingHeader)"
   ]
  },
  {
   "cell_type": "code",
   "execution_count": 23,
   "id": "e0921035",
   "metadata": {},
   "outputs": [
    {
     "data": {
      "text/plain": [
       "['1,307,3.5,1256677221',\n",
       " '1,481,3.5,1256677456',\n",
       " '1,1091,1.5,1256677471',\n",
       " '1,1257,4.5,1256677460',\n",
       " '1,1449,4.5,1256677264']"
      ]
     },
     "execution_count": 23,
     "metadata": {},
     "output_type": "execute_result"
    }
   ],
   "source": [
    "ratingsOnly = ratings.filter(lambda x : x != ratingHeader)\n",
    "ratingsOnly.take(5)"
   ]
  },
  {
   "cell_type": "code",
   "execution_count": 24,
   "id": "71a27129",
   "metadata": {},
   "outputs": [
    {
     "data": {
      "text/plain": [
       "'3.5'"
      ]
     },
     "execution_count": 24,
     "metadata": {},
     "output_type": "execute_result"
    }
   ],
   "source": [
    "s = '1,307,3.5,1256677221'\n",
    "s.split(\",\")[2]"
   ]
  },
  {
   "cell_type": "code",
   "execution_count": 27,
   "id": "23e4cafd",
   "metadata": {},
   "outputs": [
    {
     "data": {
      "text/plain": [
       "[('307', 3.5), ('481', 3.5), ('1091', 1.5), ('1257', 4.5), ('1449', 4.5)]"
      ]
     },
     "execution_count": 27,
     "metadata": {},
     "output_type": "execute_result"
    }
   ],
   "source": [
    "movieRatings = ratingsOnly.map(lambda line : (line.split(\",\")[1], float(line.split(\",\")[2])))\n",
    "movieRatings.take(5)"
   ]
  },
  {
   "cell_type": "markdown",
   "id": "c28d36e5",
   "metadata": {},
   "source": [
    "## Possible approaches in aggregating data\n",
    " - groupByKey and mapValues\n",
    " - reduceByKey and "
   ]
  },
  {
   "cell_type": "code",
   "execution_count": null,
   "id": "2eb40260",
   "metadata": {},
   "outputs": [],
   "source": []
  }
 ],
 "metadata": {
  "kernelspec": {
   "display_name": "Python 3",
   "language": "python",
   "name": "python3"
  },
  "language_info": {
   "codemirror_mode": {
    "name": "ipython",
    "version": 3
   },
   "file_extension": ".py",
   "mimetype": "text/x-python",
   "name": "python",
   "nbconvert_exporter": "python",
   "pygments_lexer": "ipython3",
   "version": "3.6.9"
  }
 },
 "nbformat": 4,
 "nbformat_minor": 5
}
