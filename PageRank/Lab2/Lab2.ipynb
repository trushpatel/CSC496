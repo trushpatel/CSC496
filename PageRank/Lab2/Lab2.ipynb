{
 "cells": [
  {
   "cell_type": "markdown",
   "id": "897d5503",
   "metadata": {},
   "source": [
    "# Lab 2"
   ]
  },
  {
   "cell_type": "code",
   "execution_count": 1,
   "id": "3c8645c2",
   "metadata": {},
   "outputs": [],
   "source": [
    "import os\n",
    "import sys\n",
    "spark_path = os.environ['SPARK_HOME']\n",
    "sys.path.append(spark_path + \"/bin\")\n",
    "sys.path.append(spark_path + \"/python\")\n",
    "sys.path.append(spark_path + \"/python/pyspark/\")\n",
    "sys.path.append(spark_path + \"/python/lib\")\n",
    "sys.path.append(spark_path + \"/python/lib/pyspark.zip\")\n",
    "sys.path.append(spark_path + \"/python/lib/py4j-0.10.9-src.zip\")\n",
    "\n",
    "import findspark\n",
    "findspark.init()\n",
    "import pyspark"
   ]
  },
  {
   "cell_type": "code",
   "execution_count": 2,
   "id": "96adad3f",
   "metadata": {},
   "outputs": [],
   "source": [
    "number_cores = 6\n",
    "memory_gb = 16\n",
    "conf = (pyspark.SparkConf().setMaster('local[{}]'.format(number_cores)).set('spark.driver.memory', '{}g'.format(memory_gb)))\n",
    "sc = pyspark.SparkContext(conf=conf)"
   ]
  },
  {
   "cell_type": "code",
   "execution_count": 3,
   "id": "6302f425",
   "metadata": {},
   "outputs": [
    {
     "name": "stdout",
     "output_type": "stream",
     "text": [
      "auth_log  Lab2.ipynb\r\n"
     ]
    }
   ],
   "source": [
    "!ls /users/trush/CSC496/PageRank/Lab2"
   ]
  },
  {
   "cell_type": "code",
   "execution_count": 17,
   "id": "be009215",
   "metadata": {},
   "outputs": [
    {
     "data": {
      "text/plain": [
       "['Dec 13 00:06:16 submitty sshd[19509]: pam_unix(sshd:auth): authentication failure; logname= uid=0 euid=0 tty=ssh ruser= rhost=218.92.0.184  user=root',\n",
       " 'Dec 13 00:06:17 submitty sshd[19509]: Failed password for root from 218.92.0.184 port 3753 ssh2',\n",
       " 'Dec 13 00:06:21 submitty sshd[19509]: Failed password for root from 218.92.0.184 port 3753 ssh2',\n",
       " 'Dec 13 00:07:01 submitty CRON[19523]: pam_unix(cron:session): session opened for user submitty_daemon by (uid=0)',\n",
       " 'Dec 13 00:07:02 submitty CRON[19523]: pam_unix(cron:session): session closed for user submitty_daemon',\n",
       " 'Dec 13 00:08:01 submitty CRON[19536]: pam_unix(cron:session): session opened for user submitty_daemon by (uid=0)',\n",
       " 'Dec 13 00:08:01 submitty CRON[19536]: pam_unix(cron:session): session closed for user submitty_daemon',\n",
       " 'Dec 13 00:08:29 submitty sshd[19552]: Invalid user shalini from 27.128.173.81 port 49454',\n",
       " 'Dec 13 00:08:29 submitty sshd[19552]: pam_unix(sshd:auth): check pass; user unknown',\n",
       " 'Dec 13 00:08:29 submitty sshd[19552]: pam_unix(sshd:auth): authentication failure; logname= uid=0 euid=0 tty=ssh ruser= rhost=27.128.173.81',\n",
       " 'Dec 13 00:08:32 submitty sshd[19552]: Failed password for invalid user shalini from 27.128.173.81 port 49454 ssh2',\n",
       " 'Dec 13 00:08:40 submitty sshd[19560]: Invalid user user5 from 134.175.17.32 port 44532',\n",
       " 'Dec 13 00:08:40 submitty sshd[19560]: pam_unix(sshd:auth): check pass; user unknown',\n",
       " 'Dec 13 00:08:40 submitty sshd[19560]: pam_unix(sshd:auth): authentication failure; logname= uid=0 euid=0 tty=ssh ruser= rhost=134.175.17.32',\n",
       " 'Dec 13 00:08:41 submitty sshd[19562]: Invalid user lms from 201.90.101.165 port 44854',\n",
       " 'Dec 13 00:08:41 submitty sshd[19562]: pam_unix(sshd:auth): check pass; user unknown',\n",
       " 'Dec 13 00:08:41 submitty sshd[19562]: pam_unix(sshd:auth): authentication failure; logname= uid=0 euid=0 tty=ssh ruser= rhost=201.90.101.165',\n",
       " 'Dec 13 00:08:43 submitty sshd[19560]: Failed password for invalid user user5 from 134.175.17.32 port 44532 ssh2',\n",
       " 'Dec 13 00:08:43 submitty sshd[19560]: Received disconnect from 134.175.17.32 port 44532:11: Bye Bye [preauth]',\n",
       " 'Dec 13 00:08:43 submitty sshd[19560]: Disconnected from invalid user user5 134.175.17.32 port 44532 [preauth]',\n",
       " 'Dec 13 00:08:43 submitty sshd[19562]: Failed password for invalid user lms from 201.90.101.165 port 44854 ssh2',\n",
       " 'Dec 13 00:08:44 submitty sshd[19562]: Received disconnect from 201.90.101.165 port 44854:11: Bye Bye [preauth]',\n",
       " 'Dec 13 00:08:44 submitty sshd[19562]: Disconnected from invalid user lms 201.90.101.165 port 44854 [preauth]',\n",
       " 'Dec 13 00:09:01 submitty CRON[19580]: pam_unix(cron:session): session opened for user root by (uid=0)',\n",
       " 'Dec 13 00:09:01 submitty CRON[19581]: pam_unix(cron:session): session opened for user submitty_daemon by (uid=0)',\n",
       " 'Dec 13 00:09:01 submitty CRON[19580]: pam_unix(cron:session): session closed for user root',\n",
       " 'Dec 13 00:09:01 submitty CRON[19581]: pam_unix(cron:session): session closed for user submitty_daemon',\n",
       " 'Dec 13 00:10:01 submitty CRON[19702]: pam_unix(cron:session): session opened for user submitty_daemon by (uid=0)',\n",
       " 'Dec 13 00:10:01 submitty CRON[19702]: pam_unix(cron:session): session closed for user submitty_daemon',\n",
       " 'Dec 13 00:10:35 submitty sshd[19716]: pam_unix(sshd:auth): authentication failure; logname= uid=0 euid=0 tty=ssh ruser= rhost=218.92.0.247  user=root',\n",
       " 'Dec 13 00:10:36 submitty sshd[19716]: Failed password for root from 218.92.0.247 port 16026 ssh2',\n",
       " 'Dec 13 00:10:40 submitty sshd[19716]: Failed password for root from 218.92.0.247 port 16026 ssh2',\n",
       " 'Dec 13 00:11:01 submitty CRON[19734]: pam_unix(cron:session): session opened for user submitty_daemon by (uid=0)',\n",
       " 'Dec 13 00:11:02 submitty CRON[19734]: pam_unix(cron:session): session closed for user submitty_daemon',\n",
       " 'Dec 13 00:11:06 submitty sshd[19744]: Invalid user ttf from 119.45.22.71 port 60804',\n",
       " 'Dec 13 00:11:06 submitty sshd[19744]: pam_unix(sshd:auth): check pass; user unknown',\n",
       " 'Dec 13 00:11:06 submitty sshd[19744]: pam_unix(sshd:auth): authentication failure; logname= uid=0 euid=0 tty=ssh ruser= rhost=119.45.22.71',\n",
       " 'Dec 13 00:11:07 submitty sshd[19744]: Failed password for invalid user ttf from 119.45.22.71 port 60804 ssh2',\n",
       " 'Dec 13 00:11:08 submitty sshd[19744]: Received disconnect from 119.45.22.71 port 60804:11: Bye Bye [preauth]',\n",
       " 'Dec 13 00:11:08 submitty sshd[19744]: Disconnected from invalid user ttf 119.45.22.71 port 60804 [preauth]',\n",
       " 'Dec 13 00:11:21 submitty sshd[19752]: Invalid user finn from 58.17.200.197 port 49650',\n",
       " 'Dec 13 00:11:21 submitty sshd[19752]: pam_unix(sshd:auth): check pass; user unknown',\n",
       " 'Dec 13 00:11:21 submitty sshd[19752]: pam_unix(sshd:auth): authentication failure; logname= uid=0 euid=0 tty=ssh ruser= rhost=58.17.200.197',\n",
       " 'Dec 13 00:11:23 submitty sshd[19752]: Failed password for invalid user finn from 58.17.200.197 port 49650 ssh2',\n",
       " 'Dec 13 00:11:23 submitty sshd[19752]: Received disconnect from 58.17.200.197 port 49650:11: Bye Bye [preauth]',\n",
       " 'Dec 13 00:11:23 submitty sshd[19752]: Disconnected from invalid user finn 58.17.200.197 port 49650 [preauth]',\n",
       " 'Dec 13 00:11:43 submitty sshd[19777]: warning: /etc/hosts.allow, line 13: host name/name mismatch: static.vnpt.vn != dnsfirewall.wcupa.edu',\n",
       " 'Dec 13 00:11:44 submitty sshd[19777]: Invalid user merle from 14.161.45.187 port 56273',\n",
       " 'Dec 13 00:11:44 submitty sshd[19777]: pam_unix(sshd:auth): check pass; user unknown',\n",
       " 'Dec 13 00:11:44 submitty sshd[19777]: pam_unix(sshd:auth): authentication failure; logname= uid=0 euid=0 tty=ssh ruser= rhost=14.161.45.187']"
      ]
     },
     "execution_count": 17,
     "metadata": {},
     "output_type": "execute_result"
    }
   ],
   "source": [
    "auth_log = sc.textFile(\"/users/trush/CSC496/PageRank/Lab2/auth_log/auth.log\")\n",
    "auth_log.take(50)"
   ]
  },
  {
   "cell_type": "code",
   "execution_count": 5,
   "id": "7814ee55",
   "metadata": {},
   "outputs": [],
   "source": [
    "auth_log1 = sc.textFile(\"/users/trush/CSC496/PageRank/Lab2/auth_log/auth.log.1\")\n",
    "#auth_log1.take(5)"
   ]
  },
  {
   "cell_type": "code",
   "execution_count": 6,
   "id": "93bb8123",
   "metadata": {},
   "outputs": [],
   "source": [
    "auth_log2 = sc.textFile(\"/users/trush/CSC496/PageRank/Lab2/auth_log/auth.log.2\")\n",
    "#auth_log2.take(5)"
   ]
  },
  {
   "cell_type": "code",
   "execution_count": 7,
   "id": "a955d99c",
   "metadata": {},
   "outputs": [],
   "source": [
    "auth_log3 = sc.textFile(\"/users/trush/CSC496/PageRank/Lab2/auth_log/auth.log.3\")\n",
    "#auth_log3.take(5)"
   ]
  },
  {
   "cell_type": "code",
   "execution_count": 8,
   "id": "b4af727b",
   "metadata": {},
   "outputs": [],
   "source": [
    "auth_log4 = sc.textFile(\"/users/trush/CSC496/PageRank/Lab2/auth_log/auth.log.4\")\n",
    "#auth_log4.take(5)"
   ]
  },
  {
   "cell_type": "markdown",
   "id": "20819762",
   "metadata": {},
   "source": [
    "## 1. How many failed attempts to access the server as root are there? List all countries from which these attempts where carried out."
   ]
  },
  {
   "cell_type": "code",
   "execution_count": 45,
   "id": "c4fd3677",
   "metadata": {},
   "outputs": [
    {
     "data": {
      "text/plain": [
       "7899"
      ]
     },
     "execution_count": 45,
     "metadata": {},
     "output_type": "execute_result"
    }
   ],
   "source": [
    "# Number of failed attempts to login as root\n",
    "failed_attempts = auth_log.filter(lambda x: \"root\" in x and (\"authentication failure\" in x or \"Failed password\" in x or \"session opened\" not in x or \"session closed\" not in x))\n",
    "#failed_attempts.take(50)\n",
    "# find distinct attempts by unique ip\n",
    "failed_attempts.count()"
   ]
  },
  {
   "cell_type": "code",
   "execution_count": 52,
   "id": "2f12f631",
   "metadata": {},
   "outputs": [
    {
     "data": {
      "text/plain": [
       "[['Dec 13 00:06:16 submitty sshd[19509]: pam_unix(sshd:auth): authentication failure; logname= uid=0 euid=0 tty=ssh ruser= rhost=218.92.0.184  user=root'],\n",
       " ['Dec 13 00:06:17 submitty sshd[19509]: Failed password for root ',\n",
       "  ' 218.92.0.184 port 3753 ssh2'],\n",
       " ['Dec 13 00:06:21 submitty sshd[19509]: Failed password for root ',\n",
       "  ' 218.92.0.184 port 3753 ssh2'],\n",
       " ['Dec 13 00:09:01 submitty CRON[19580]: pam_unix(cron:session): session opened for user root by (uid=0)'],\n",
       " ['Dec 13 00:09:01 submitty CRON[19580]: pam_unix(cron:session): session closed for user root']]"
      ]
     },
     "execution_count": 52,
     "metadata": {},
     "output_type": "execute_result"
    }
   ],
   "source": [
    "# Countries where the failed attempts were carried out\n",
    "# Split each literal to isolate the ip\n",
    "# use python library to match ip to country\n",
    "countries = failed_attempts.map(lambda line: line.rsplit(\"from\"))\n",
    "countries.take(5)"
   ]
  },
  {
   "cell_type": "markdown",
   "id": "1fd56cdf",
   "metadata": {},
   "source": [
    "## 2. How many failed attempts to access the server as non-root users are there? What are the attempted usernames? List all countries from which these attempts where carried out. "
   ]
  },
  {
   "cell_type": "code",
   "execution_count": 47,
   "id": "2defbcb4",
   "metadata": {},
   "outputs": [
    {
     "data": {
      "text/plain": [
       "26016"
      ]
     },
     "execution_count": 47,
     "metadata": {},
     "output_type": "execute_result"
    }
   ],
   "source": [
    "# Number of failed attempts to login as non-root\n",
    "failed_attempts_nonroot = auth_log.filter(lambda x: \"root\" not in x and (\"authentication failure\" not in x or \"Failed password\" not in x or \"session opened\" in x or \"session closed\" not in x))\n",
    "#failed_attempts.take(5)\n",
    "failed_attempts_nonroot.count()\n",
    "\n",
    "# "
   ]
  },
  {
   "cell_type": "markdown",
   "id": "03d385b3",
   "metadata": {},
   "source": [
    "## 3. Through out the durations of the log files, which date has the highest number of attack attempts? Anything interesting about that particular date?"
   ]
  },
  {
   "cell_type": "code",
   "execution_count": null,
   "id": "3079f677",
   "metadata": {},
   "outputs": [],
   "source": [
    "# Something to do with Chinese Labor Day (May 1)"
   ]
  }
 ],
 "metadata": {
  "kernelspec": {
   "display_name": "Python 3",
   "language": "python",
   "name": "python3"
  },
  "language_info": {
   "codemirror_mode": {
    "name": "ipython",
    "version": 3
   },
   "file_extension": ".py",
   "mimetype": "text/x-python",
   "name": "python",
   "nbconvert_exporter": "python",
   "pygments_lexer": "ipython3",
   "version": "3.6.9"
  }
 },
 "nbformat": 4,
 "nbformat_minor": 5
}
