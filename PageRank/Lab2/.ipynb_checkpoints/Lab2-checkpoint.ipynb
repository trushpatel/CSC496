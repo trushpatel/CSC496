{
 "cells": [
  {
   "cell_type": "markdown",
   "id": "897d5503",
   "metadata": {},
   "source": [
    "# Lab 2"
   ]
  },
  {
   "cell_type": "code",
   "execution_count": null,
   "id": "87aff78d",
   "metadata": {},
   "outputs": [],
   "source": [
    "#pip install IP2Location"
   ]
  },
  {
   "cell_type": "code",
   "execution_count": null,
   "id": "3c8645c2",
   "metadata": {},
   "outputs": [],
   "source": [
    "import os\n",
    "import sys\n",
    "spark_path = os.environ['SPARK_HOME']\n",
    "sys.path.append(spark_path + \"/bin\")\n",
    "sys.path.append(spark_path + \"/python\")\n",
    "sys.path.append(spark_path + \"/python/pyspark/\")\n",
    "sys.path.append(spark_path + \"/python/lib\")\n",
    "sys.path.append(spark_path + \"/python/lib/pyspark.zip\")\n",
    "sys.path.append(spark_path + \"/python/lib/py4j-0.10.9-src.zip\")\n",
    "\n",
    "import findspark\n",
    "findspark.init()\n",
    "import pyspark"
   ]
  },
  {
   "cell_type": "code",
   "execution_count": null,
   "id": "96adad3f",
   "metadata": {},
   "outputs": [],
   "source": [
    "number_cores = 6\n",
    "memory_gb = 16\n",
    "conf = (pyspark.SparkConf().setMaster('local[{}]'.format(number_cores)).set('spark.driver.memory', '{}g'.format(memory_gb)))\n",
    "sc = pyspark.SparkContext(conf=conf)"
   ]
  },
  {
   "cell_type": "code",
   "execution_count": null,
   "id": "6302f425",
   "metadata": {},
   "outputs": [],
   "source": [
    "!ls /users/trush/CSC496/PageRank/Lab2"
   ]
  },
  {
   "cell_type": "code",
   "execution_count": null,
   "id": "be009215",
   "metadata": {},
   "outputs": [],
   "source": [
    "auth_log = sc.textFile(\"/users/trush/CSC496/PageRank/Lab2/data\")\n",
    "auth_log.take(5)"
   ]
  },
  {
   "cell_type": "markdown",
   "id": "20819762",
   "metadata": {},
   "source": [
    "## 1. How many failed attempts to access the server as root are there? List all countries from which these attempts where carried out."
   ]
  },
  {
   "cell_type": "code",
   "execution_count": null,
   "id": "c4fd3677",
   "metadata": {},
   "outputs": [],
   "source": [
    "'''\n",
    "# Total failed attempts to login\n",
    "total_attempts = auth_log.count()\n",
    "print(total_attempts)\n",
    "total_successful_attempts = auth_log.filter(lambda x: \"CRON\" in x)\n",
    "print(total_successful_attempts.count())\n",
    "total_failed_attempts = auth_log.filter(lambda x: \"sshd\" in x)\n",
    "print(total_failed_attempts.count())\n",
    "\n",
    "other_attempts = auth_log.filter(lambda x: \"sshd\" not in x and \"CRON\" not in x)\n",
    "other_attempts.take(50)\n",
    "'''\n",
    "# Number of failed attempts to login as root\n",
    "failed_attempts = auth_log.filter(lambda x: \"root\" in x and \"sshd\" in x)\n",
    "#failed_attempts.take(10)\n",
    "print(failed_attempts.count())"
   ]
  },
  {
   "cell_type": "code",
   "execution_count": null,
   "id": "3841e0c3",
   "metadata": {},
   "outputs": [],
   "source": [
    "import IP2Location\n",
    "import re\n",
    "\n",
    "database = IP2Location.IP2Location(os.path.join(\"data\", \"/users/trush/CSC496/PageRank/Lab2/IP-COUNTRY.BIN\"))\n",
    "\n",
    "def get_country_name(x):\n",
    "    ip = re.split(pattern=r'(\\d{1,3}\\.\\d{1,3}\\.\\d{1,3}\\.\\d{1,3})', string=x)[1]\n",
    "    #print(ip)\n",
    "    rec = database.get_all(x).country_long\n",
    "    #print(type(rec))\n",
    "    return rec\n",
    "\n",
    "get_country_name('218.92.0.248')"
   ]
  },
  {
   "cell_type": "code",
   "execution_count": null,
   "id": "0611dc95",
   "metadata": {},
   "outputs": [],
   "source": [
    "failed_root_countries = failed_attempts.map(lambda line: get_country_name(line))\n",
    "#failed_root_countries.take(5)\n",
    "failed_root_countries.distinct().collect()"
   ]
  },
  {
   "cell_type": "markdown",
   "id": "1626383c",
   "metadata": {},
   "source": [
    "There are a total of 75,630 failed attempts to access the server as root. A filter on the log files returns all entries with attempts to login as root (sshd log receives unauthorized login attempts, and CRON log represents successful logins). The function get_country_name splits each line in failed attempts to isolate the IP address and uses the IP2Location database to identify the country location. Then, failed_root_countries is assigned to a map of each country relative to each failed attempt's IP address. Finally, the distinct country names are outputted to identify all countries from which failed attempts were carried out."
   ]
  },
  {
   "cell_type": "markdown",
   "id": "1fd56cdf",
   "metadata": {},
   "source": [
    "## 2. How many failed attempts to access the server as non-root users are there? What are the attempted usernames? List all countries from which these attempts where carried out. "
   ]
  },
  {
   "cell_type": "code",
   "execution_count": null,
   "id": "2defbcb4",
   "metadata": {},
   "outputs": [],
   "source": [
    "# Number of failed attempts to login as non-root\n",
    "failed_nonroot = auth_log.filter(lambda x: \"root\" not in x and \"sshd\" in x and \"user unknown\" not in x)\n",
    "#failed_nonroot.take(5)\n",
    "print(failed_nonroot.count())"
   ]
  },
  {
   "cell_type": "code",
   "execution_count": null,
   "id": "6aec69c3",
   "metadata": {},
   "outputs": [],
   "source": [
    "def get_username(x):\n",
    "    line = re.split(pattern=r'user ', string=x)[1]\n",
    "    line = re.split(pattern=r' from', string=line)[0]\n",
    "    line = re.split(pattern=r'(\\d{1,3}\\.\\d{1,3}\\.\\d{1,3}\\.\\d{1,3})', string=line)[0]\n",
    "    return line"
   ]
  },
  {
   "cell_type": "code",
   "execution_count": null,
   "id": "7b8f388f",
   "metadata": {},
   "outputs": [],
   "source": [
    "failed_usernames = failed_nonroot.filter(lambda x: 'user ' in x)\n",
    "#failed_usernames.take(5)\n",
    "failed_nonroot_usernames = failed_usernames.map(lambda line: get_username(line))\n",
    "#failed_nonroot_usernames.take(50)\n",
    "failed_nonroot_usernames.distinct().collect()"
   ]
  },
  {
   "cell_type": "code",
   "execution_count": null,
   "id": "0b926065",
   "metadata": {
    "scrolled": false
   },
   "outputs": [],
   "source": [
    "failed_nonroot_countries = failed_nonroot.map(lambda line: get_country_name(line))\n",
    "#failed_nonroot_countries.take(5)\n",
    "failed_nonroot_countries.distinct().collect()"
   ]
  },
  {
   "cell_type": "markdown",
   "id": "9cff969f",
   "metadata": {},
   "source": [
    "There are 76,541 failed attempts to access the server as non-root. A filter on the log files identifies all non-root entries, (explain sshd) with known usernames. All entries with a user name are filtered from failed_nonroot and assigned to failed_usernames. The values are then mapped according to the username in each entry using the get_username function. Each distinct value is outputted as list that identifies every username associated with failed login attempts."
   ]
  },
  {
   "cell_type": "markdown",
   "id": "03d385b3",
   "metadata": {},
   "source": [
    "## 3. Through out the durations of the log files, which date has the highest number of attack attempts? Anything interesting about that particular date?"
   ]
  },
  {
   "cell_type": "code",
   "execution_count": null,
   "id": "82142070",
   "metadata": {},
   "outputs": [],
   "source": [
    "def get_date(x):\n",
    "    line = re.split(pattern=r'(Jan?|Feb?|Mar?|Apr?|May?|Jun?|Jul?|Aug?|Sep?|Oct?|Nov?|Dec?\\s+\\d{1,2})', string=x)[1] + re.split(pattern=r'(Jan?|Feb?|Mar?|Apr?|May?|Jun?|Jul?|Aug?|Sep?|Oct?|Nov?|Dec?\\s+\\d{1,2})', string=x)[2]\n",
    "    line = re.split(pattern=r'\\d{2}\\:\\d{2}\\:\\d{2}', string=line)[0]\n",
    "    return line"
   ]
  },
  {
   "cell_type": "code",
   "execution_count": null,
   "id": "3079f677",
   "metadata": {},
   "outputs": [],
   "source": [
    "dates = failed_attempts.map(lambda line: (get_date(line), 1))\n",
    "dates.take(5)\n",
    "countsByKey = dates.countByKey()\n",
    "countsByKey"
   ]
  },
  {
   "cell_type": "markdown",
   "id": "6f1b972c",
   "metadata": {},
   "source": [
    "The log files are mapped by the date which is formatted as one A-Z, two a-z, one or two whitespace characters, and two 0-9. The .countByKey() method outputs the number of attack attempts per date. The date with the most number of attacks is December 6, but it is important to note the high volume of attempts from December 2 through December 8. These dates are important because (EXPLAIN)."
   ]
  },
  {
   "cell_type": "code",
   "execution_count": null,
   "id": "ab275b23",
   "metadata": {},
   "outputs": [],
   "source": []
  }
 ],
 "metadata": {
  "kernelspec": {
   "display_name": "Python 3",
   "language": "python",
   "name": "python3"
  },
  "language_info": {
   "codemirror_mode": {
    "name": "ipython",
    "version": 3
   },
   "file_extension": ".py",
   "mimetype": "text/x-python",
   "name": "python",
   "nbconvert_exporter": "python",
   "pygments_lexer": "ipython3",
   "version": "3.6.9"
  }
 },
 "nbformat": 4,
 "nbformat_minor": 5
}
