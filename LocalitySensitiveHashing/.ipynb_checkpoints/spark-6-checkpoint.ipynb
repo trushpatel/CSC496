{
 "cells": [
  {
   "cell_type": "code",
   "execution_count": 1,
   "id": "018a3d84",
   "metadata": {},
   "outputs": [],
   "source": [
    "import os\n",
    "import sys\n",
    "spark_path = os.environ['SPARK_HOME']\n",
    "sys.path.append(spark_path + \"/bin\")\n",
    "sys.path.append(spark_path + \"/python\")\n",
    "sys.path.append(spark_path + \"/python/pyspark/\")\n",
    "sys.path.append(spark_path + \"/python/lib\")\n",
    "sys.path.append(spark_path + \"/python/lib/pyspark.zip\")\n",
    "sys.path.append(spark_path + \"/python/lib/py4j-0.10.9-src.zip\")\n",
    "\n",
    "import findspark\n",
    "findspark.init()\n",
    "import pyspark"
   ]
  },
  {
   "cell_type": "code",
   "execution_count": 2,
   "id": "2ee03505",
   "metadata": {},
   "outputs": [],
   "source": [
    "number_cores = 6\n",
    "memory_gb = 16\n",
    "conf = (pyspark.SparkConf().setMaster('local[{}]'.format(number_cores)).set('spark.driver.memory', '{}g'.format(memory_gb)))\n",
    "sc = pyspark.SparkContext(conf=conf)"
   ]
  },
  {
   "cell_type": "code",
   "execution_count": 3,
   "id": "e559ef2e",
   "metadata": {},
   "outputs": [],
   "source": [
    "from pyspark.ml.feature import MinHashLSH\n",
    "from pyspark.ml.linalg import Vectors\n",
    "from pyspark.sql.functions import col\n",
    "import numpy\n",
    "spark = pyspark.sql.SparkSession(sc)"
   ]
  },
  {
   "cell_type": "markdown",
   "id": "a94ecf4a",
   "metadata": {},
   "source": [
    "Run pip install numpy in pyspark environment, restart this notebook and rerun"
   ]
  },
  {
   "cell_type": "code",
   "execution_count": 4,
   "id": "3da77ec7",
   "metadata": {},
   "outputs": [
    {
     "name": "stdout",
     "output_type": "stream",
     "text": [
      "The hashed dataset where hashed values are stored in the column 'hashes':\n",
      "+---+--------------------+--------------------+\n",
      "| id|            features|              hashes|\n",
      "+---+--------------------+--------------------+\n",
      "|  0|(6,[0,1,2],[1.0,1...|[[4.42744551E8], ...|\n",
      "|  1|(6,[2,3,4],[1.0,1...|[[4.48942786E8], ...|\n",
      "|  2|(6,[0,2,4],[1.0,1...|[[1.458682805E9],...|\n",
      "|  3|(6,[1,3,5],[1.0,1...|[[4.42744551E8], ...|\n",
      "|  4|(6,[2,3,5],[1.0,1...|[[4.48942786E8], ...|\n",
      "|  5|(6,[1,2,4],[1.0,1...|[[4.42744551E8], ...|\n",
      "+---+--------------------+--------------------+\n",
      "\n"
     ]
    }
   ],
   "source": [
    "dataA = [(0, Vectors.sparse(6, [0, 1, 2], [1.0, 1.0, 1.0]),),\n",
    "         (1, Vectors.sparse(6, [2, 3, 4], [1.0, 1.0, 1.0]),),\n",
    "         (2, Vectors.sparse(6, [0, 2, 4], [1.0, 1.0, 1.0]),),\n",
    "         (3, Vectors.sparse(6, [1, 3, 5], [1.0, 1.0, 1.0]),),\n",
    "         (4, Vectors.sparse(6, [2, 3, 5], [1.0, 1.0, 1.0]),),\n",
    "         (5, Vectors.sparse(6, [1, 2, 4], [1.0, 1.0, 1.0]),),]\n",
    "dfA = spark.createDataFrame(dataA, [\"id\", \"features\"])\n",
    "mh = MinHashLSH(inputCol=\"features\", outputCol=\"hashes\", numHashTables=3)\n",
    "model = mh.fit(dfA)\n",
    "print(\"The hashed dataset where hashed values are stored in the column 'hashes':\")\n",
    "model.transform(dfA).show()"
   ]
  },
  {
   "cell_type": "code",
   "execution_count": 5,
   "id": "6644b646",
   "metadata": {},
   "outputs": [
    {
     "name": "stdout",
     "output_type": "stream",
     "text": [
      "root\n",
      " |-- datasetA: struct (nullable = false)\n",
      " |    |-- id: long (nullable = true)\n",
      " |    |-- features: vector (nullable = true)\n",
      " |    |-- hashes: array (nullable = true)\n",
      " |    |    |-- element: vector (containsNull = true)\n",
      " |-- datasetB: struct (nullable = false)\n",
      " |    |-- id: long (nullable = true)\n",
      " |    |-- features: vector (nullable = true)\n",
      " |    |-- hashes: array (nullable = true)\n",
      " |    |    |-- element: vector (containsNull = true)\n",
      " |-- distance: double (nullable = false)\n",
      "\n"
     ]
    }
   ],
   "source": [
    "final = model.approxSimilarityJoin(dfA, dfA, 1.0, distCol=\"distance\")\n",
    "final.createOrReplaceTempView(\"final\")\n",
    "final.printSchema()"
   ]
  },
  {
   "cell_type": "markdown",
   "id": "0aeb5b29",
   "metadata": {},
   "source": [
    "## Important\n"
   ]
  },
  {
   "cell_type": "code",
   "execution_count": 8,
   "id": "7ef48716",
   "metadata": {},
   "outputs": [
    {
     "name": "stdout",
     "output_type": "stream",
     "text": [
      "+---+--------------------+---+--------------------+--------+\n",
      "| id|            features| id|            features|distance|\n",
      "+---+--------------------+---+--------------------+--------+\n",
      "|  0|(6,[0,1,2],[1.0,1...|  2|(6,[0,2,4],[1.0,1...|     0.5|\n",
      "|  0|(6,[0,1,2],[1.0,1...|  3|(6,[1,3,5],[1.0,1...|     0.8|\n",
      "|  0|(6,[0,1,2],[1.0,1...|  5|(6,[1,2,4],[1.0,1...|     0.5|\n",
      "|  1|(6,[2,3,4],[1.0,1...|  2|(6,[0,2,4],[1.0,1...|     0.5|\n",
      "|  1|(6,[2,3,4],[1.0,1...|  4|(6,[2,3,5],[1.0,1...|     0.5|\n",
      "|  1|(6,[2,3,4],[1.0,1...|  5|(6,[1,2,4],[1.0,1...|     0.5|\n",
      "|  2|(6,[0,2,4],[1.0,1...|  0|(6,[0,1,2],[1.0,1...|     0.5|\n",
      "|  2|(6,[0,2,4],[1.0,1...|  1|(6,[2,3,4],[1.0,1...|     0.5|\n",
      "|  2|(6,[0,2,4],[1.0,1...|  5|(6,[1,2,4],[1.0,1...|     0.5|\n",
      "|  3|(6,[1,3,5],[1.0,1...|  0|(6,[0,1,2],[1.0,1...|     0.8|\n",
      "|  3|(6,[1,3,5],[1.0,1...|  4|(6,[2,3,5],[1.0,1...|     0.5|\n",
      "|  3|(6,[1,3,5],[1.0,1...|  5|(6,[1,2,4],[1.0,1...|     0.8|\n",
      "|  4|(6,[2,3,5],[1.0,1...|  1|(6,[2,3,4],[1.0,1...|     0.5|\n",
      "|  4|(6,[2,3,5],[1.0,1...|  3|(6,[1,3,5],[1.0,1...|     0.5|\n",
      "|  5|(6,[1,2,4],[1.0,1...|  0|(6,[0,1,2],[1.0,1...|     0.5|\n",
      "|  5|(6,[1,2,4],[1.0,1...|  1|(6,[2,3,4],[1.0,1...|     0.5|\n",
      "|  5|(6,[1,2,4],[1.0,1...|  2|(6,[0,2,4],[1.0,1...|     0.5|\n",
      "|  5|(6,[1,2,4],[1.0,1...|  3|(6,[1,3,5],[1.0,1...|     0.8|\n",
      "+---+--------------------+---+--------------------+--------+\n",
      "\n"
     ]
    }
   ],
   "source": [
    "sql = \"\"\"\n",
    "select datasetA.id, datasetA.features, datasetB.id, datasetB.features, distance\n",
    "from final where datasetA.id != datasetB.id order by datasetA.id, datasetB.id\"\"\"\n",
    "spark.sql(sql).show()"
   ]
  },
  {
   "cell_type": "code",
   "execution_count": 31,
   "id": "04d551dd",
   "metadata": {},
   "outputs": [],
   "source": [
    "dataB = [('C1', Vectors.sparse(7, [0, 1, 5, 6], [1.0, 1.0, 1.0, 1.0])),\n",
    "         ('C2', Vectors.sparse(7, [2, 3, 4], [1.0, 1.0, 1.0])),\n",
    "         ('C3', Vectors.sparse(7, [0, 5, 6], [1.0, 1.0, 1.0])),\n",
    "         ('C4', Vectors.sparse(7, [1, 2, 3, 4], [1.0, 1.0, 1.0, 1.0]))]"
   ]
  },
  {
   "cell_type": "markdown",
   "id": "a7948149",
   "metadata": {},
   "source": [
    "## Note:\n",
    "Linux environment with true Hadoop support wholeTextFiles, but we will try a different way:\n",
    "    raw_data = sc.wholeTextFile().cache()"
   ]
  },
  {
   "cell_type": "code",
   "execution_count": 32,
   "id": "b77f23b9",
   "metadata": {},
   "outputs": [
    {
     "data": {
      "text/plain": [
       "['/users/trush/CSC496/LocalitySensitiveHashing/data/57_obama_2013.txt',\n",
       " '/users/trush/CSC496/LocalitySensitiveHashing/data/46_nixon_1969.txt',\n",
       " '/users/trush/CSC496/LocalitySensitiveHashing/data/27_cleveland_1893.txt',\n",
       " '/users/trush/CSC496/LocalitySensitiveHashing/data/32_wilson_1913.txt',\n",
       " '/users/trush/CSC496/LocalitySensitiveHashing/data/15_polk_1845.txt',\n",
       " '/users/trush/CSC496/LocalitySensitiveHashing/data/34_harding_1921.txt',\n",
       " '/users/trush/CSC496/LocalitySensitiveHashing/data/40_roosevelt_franklin_1945.txt',\n",
       " '/users/trush/CSC496/LocalitySensitiveHashing/data/4_jefferson_1801.txt',\n",
       " '/users/trush/CSC496/LocalitySensitiveHashing/data/48_carter_1977.txt',\n",
       " '/users/trush/CSC496/LocalitySensitiveHashing/data/41_truman_1949.txt',\n",
       " '/users/trush/CSC496/LocalitySensitiveHashing/data/6_madison_1809.txt',\n",
       " '/users/trush/CSC496/LocalitySensitiveHashing/data/14_harrison_1841.txt',\n",
       " '/users/trush/CSC496/LocalitySensitiveHashing/data/24_garfield_1881.txt',\n",
       " '/users/trush/CSC496/LocalitySensitiveHashing/data/43_eisenhower_1957.txt',\n",
       " '/users/trush/CSC496/LocalitySensitiveHashing/data/39_roosevelt_franklin_1941.txt',\n",
       " '/users/trush/CSC496/LocalitySensitiveHashing/data/12_jackson_1833.txt',\n",
       " '/users/trush/CSC496/LocalitySensitiveHashing/data/20_lincoln_1865.txt',\n",
       " '/users/trush/CSC496/LocalitySensitiveHashing/data/8_monroe_1817.txt',\n",
       " '/users/trush/CSC496/LocalitySensitiveHashing/data/52_clinton_1993.txt',\n",
       " '/users/trush/CSC496/LocalitySensitiveHashing/data/2_washington_1793.txt',\n",
       " '/users/trush/CSC496/LocalitySensitiveHashing/data/55_bush_george_w_2005.txt',\n",
       " '/users/trush/CSC496/LocalitySensitiveHashing/data/36_hoover_1929.txt',\n",
       " '/users/trush/CSC496/LocalitySensitiveHashing/data/31_taft_1909.txt',\n",
       " '/users/trush/CSC496/LocalitySensitiveHashing/data/25_cleveland_1885.txt',\n",
       " '/users/trush/CSC496/LocalitySensitiveHashing/data/54_bush_george_w_2001.txt',\n",
       " '/users/trush/CSC496/LocalitySensitiveHashing/data/56_obama_2009.txt',\n",
       " '/users/trush/CSC496/LocalitySensitiveHashing/data/30_roosevelt_theodore_1905.txt',\n",
       " '/users/trush/CSC496/LocalitySensitiveHashing/data/5_jefferson_1805.txt',\n",
       " '/users/trush/CSC496/LocalitySensitiveHashing/data/42_eisenhower_1953.txt',\n",
       " '/users/trush/CSC496/LocalitySensitiveHashing/data/53_clinton_1997.txt',\n",
       " '/users/trush/CSC496/LocalitySensitiveHashing/data/1_washington_1789.txt',\n",
       " '/users/trush/CSC496/LocalitySensitiveHashing/data/45_johnson_1965.txt',\n",
       " '/users/trush/CSC496/LocalitySensitiveHashing/data/7_madison_1813.txt',\n",
       " '/users/trush/CSC496/LocalitySensitiveHashing/data/3_adams_john_1797.txt',\n",
       " '/users/trush/CSC496/LocalitySensitiveHashing/data/29_mckinley_1901.txt',\n",
       " '/users/trush/CSC496/LocalitySensitiveHashing/data/11_jackson_1829.txt',\n",
       " '/users/trush/CSC496/LocalitySensitiveHashing/data/51_bush_george_h_w_1989.txt',\n",
       " '/users/trush/CSC496/LocalitySensitiveHashing/data/22_grant_1873.txt',\n",
       " '/users/trush/CSC496/LocalitySensitiveHashing/data/44_kennedy_1961.txt',\n",
       " '/users/trush/CSC496/LocalitySensitiveHashing/data/50_reagan_1985.txt',\n",
       " '/users/trush/CSC496/LocalitySensitiveHashing/data/28_mckinley_1897.txt',\n",
       " '/users/trush/CSC496/LocalitySensitiveHashing/data/47_nixon_1973.txt',\n",
       " '/users/trush/CSC496/LocalitySensitiveHashing/data/33_wilson_1917.txt',\n",
       " '/users/trush/CSC496/LocalitySensitiveHashing/data/10_adams_john_quincy_1825.txt',\n",
       " '/users/trush/CSC496/LocalitySensitiveHashing/data/26_harrison_1889.txt',\n",
       " '/users/trush/CSC496/LocalitySensitiveHashing/data/21_grant_1869.txt',\n",
       " '/users/trush/CSC496/LocalitySensitiveHashing/data/49_reagan_1981.txt',\n",
       " '/users/trush/CSC496/LocalitySensitiveHashing/data/37_roosevelt_franklin_1933.txt',\n",
       " '/users/trush/CSC496/LocalitySensitiveHashing/data/16_taylor_1849.txt',\n",
       " '/users/trush/CSC496/LocalitySensitiveHashing/data/17_pierce_1853.txt',\n",
       " '/users/trush/CSC496/LocalitySensitiveHashing/data/9_monroe_1821.txt',\n",
       " '/users/trush/CSC496/LocalitySensitiveHashing/data/35_coolidge_1925.txt',\n",
       " '/users/trush/CSC496/LocalitySensitiveHashing/data/38_roosevelt_franklin_1937.txt',\n",
       " '/users/trush/CSC496/LocalitySensitiveHashing/data/23_hayes_1877.txt',\n",
       " '/users/trush/CSC496/LocalitySensitiveHashing/data/19_lincoln_1861.txt',\n",
       " '/users/trush/CSC496/LocalitySensitiveHashing/data/13_van_buren_1837.txt',\n",
       " '/users/trush/CSC496/LocalitySensitiveHashing/data/18_buchanan_1857.txt']"
      ]
     },
     "execution_count": 32,
     "metadata": {},
     "output_type": "execute_result"
    }
   ],
   "source": [
    "import glob\n",
    "data_path = \"/users/trush/CSC496/LocalitySensitiveHashing/data\"\n",
    "all_files = glob.glob(\"/users/trush/CSC496/LocalitySensitiveHashing/data/*.txt\")\n",
    "\n",
    "file_names = sc.parallelize(all_files)\n",
    "file_names.collect()"
   ]
  },
  {
   "cell_type": "code",
   "execution_count": null,
   "id": "7f5db203",
   "metadata": {},
   "outputs": [],
   "source": []
  }
 ],
 "metadata": {
  "kernelspec": {
   "display_name": "Python 3",
   "language": "python",
   "name": "python3"
  },
  "language_info": {
   "codemirror_mode": {
    "name": "ipython",
    "version": 3
   },
   "file_extension": ".py",
   "mimetype": "text/x-python",
   "name": "python",
   "nbconvert_exporter": "python",
   "pygments_lexer": "ipython3",
   "version": "3.6.9"
  }
 },
 "nbformat": 4,
 "nbformat_minor": 5
}
