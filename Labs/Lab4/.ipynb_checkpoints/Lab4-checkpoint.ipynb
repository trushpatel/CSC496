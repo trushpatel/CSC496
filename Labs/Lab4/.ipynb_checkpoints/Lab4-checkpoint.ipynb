{
 "cells": [
  {
   "cell_type": "code",
   "execution_count": 1,
   "id": "32e150df",
   "metadata": {},
   "outputs": [],
   "source": [
    "import os\n",
    "import sys\n",
    "spark_path = os.environ['SPARK_HOME']\n",
    "sys.path.append(spark_path + \"/bin\")\n",
    "sys.path.append(spark_path + \"/python\")\n",
    "sys.path.append(spark_path + \"/python/pyspark/\")\n",
    "sys.path.append(spark_path + \"/python/lib\")\n",
    "sys.path.append(spark_path + \"/python/lib/pyspark.zip\")\n",
    "sys.path.append(spark_path + \"/python/lib/py4j-0.10.9-src.zip\")\n",
    "\n",
    "import findspark\n",
    "findspark.init()\n",
    "import pyspark"
   ]
  },
  {
   "cell_type": "code",
   "execution_count": 2,
   "id": "a09ab199",
   "metadata": {},
   "outputs": [],
   "source": [
    "number_cores = 6\n",
    "memory_gb = 16\n",
    "conf = (pyspark.SparkConf().setMaster('local[{}]'.format(number_cores)).set(\"spark.driver.maxResultSize\", \"5g\"))\n",
    "sc = pyspark.SparkContext(conf=conf)"
   ]
  },
  {
   "cell_type": "code",
   "execution_count": 3,
   "id": "4479586a",
   "metadata": {},
   "outputs": [
    {
     "name": "stdout",
     "output_type": "stream",
     "text": [
      "data  Lab4.ipynb\r\n"
     ]
    }
   ],
   "source": [
    "!dir /users/trush/CSC496/Labs/Lab4"
   ]
  },
  {
   "cell_type": "code",
   "execution_count": 8,
   "id": "b46eb221",
   "metadata": {},
   "outputs": [
    {
     "name": "stdout",
     "output_type": "stream",
     "text": [
      "total 0\r\n"
     ]
    }
   ],
   "source": [
    "!ls -lh /users/trush/CSC496/Labs/Lab4/data"
   ]
  },
  {
   "cell_type": "markdown",
   "id": "f80842d3",
   "metadata": {},
   "source": [
    "# 1. Identify 100 users with highest number of ratings/reviews/followers.  You can decide/justify this ranking and decide the importance of ratings/reviews/followers. "
   ]
  },
  {
   "cell_type": "markdown",
   "id": "29cacaf5",
   "metadata": {},
   "source": [
    "# 2. Extract the reviews of these users and combine it with the business information."
   ]
  },
  {
   "cell_type": "markdown",
   "id": "769f5c53",
   "metadata": {},
   "source": [
    "### a. Are they continental, regional, or local eaters?\n",
    "- Variations in latitude and longitude of reviewed businesses (distance between furthest pair of restaurants, cluster into 3)"
   ]
  },
  {
   "cell_type": "markdown",
   "id": "7fe68616",
   "metadata": {},
   "source": [
    "### b. Is there a preference in restaurant/food style of their reviews?\n",
    "- Frequent itemsets\n",
    "    - per user\n",
    "        - set of items: categories\n",
    "        - set of baskets: restaurants"
   ]
  },
  {
   "cell_type": "markdown",
   "id": "9899a645",
   "metadata": {},
   "source": [
    "### c. Can you infer the locations of these users?\n",
    "- Locations of businesses most frequently visited (consider timestamp for users who go on trips to review restaurants)"
   ]
  },
  {
   "cell_type": "markdown",
   "id": "b4d227db",
   "metadata": {},
   "source": [
    "# 3. Identify one of your favorite restaurants that is available on Yelp. Search for all reviews and reviewers for this restaurants.  "
   ]
  },
  {
   "cell_type": "markdown",
   "id": "a3d143ae",
   "metadata": {},
   "source": [
    "### a. Is this restaurant frequented by non-local reviewers (how do you know)?\n",
    "- Coach's"
   ]
  },
  {
   "cell_type": "markdown",
   "id": "8a96da59",
   "metadata": {},
   "source": [
    "### b. What are the positive things about this restaurant (study higher-rated reviews)\n",
    "- sentiment analysis"
   ]
  },
  {
   "cell_type": "markdown",
   "id": "b35c91e5",
   "metadata": {},
   "source": [
    "### c. What are the negative things about this restaurant (study lower-rated reviews)\n",
    "- sentiment analysis"
   ]
  },
  {
   "cell_type": "code",
   "execution_count": null,
   "id": "e5a8d4a7",
   "metadata": {},
   "outputs": [],
   "source": []
  }
 ],
 "metadata": {
  "kernelspec": {
   "display_name": "Python 3",
   "language": "python",
   "name": "python3"
  },
  "language_info": {
   "codemirror_mode": {
    "name": "ipython",
    "version": 3
   },
   "file_extension": ".py",
   "mimetype": "text/x-python",
   "name": "python",
   "nbconvert_exporter": "python",
   "pygments_lexer": "ipython3",
   "version": "3.6.9"
  }
 },
 "nbformat": 4,
 "nbformat_minor": 5
}
