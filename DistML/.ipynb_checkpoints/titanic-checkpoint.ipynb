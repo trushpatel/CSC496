{
 "cells": [
  {
   "cell_type": "code",
   "execution_count": 1,
   "id": "981d9148",
   "metadata": {},
   "outputs": [],
   "source": [
    "import os\n",
    "import sys\n",
    "\n",
    "spark_path = os.environ['SPARK_HOME']\n",
    "sys.path.append(spark_path + \"/bin\")\n",
    "sys.path.append(spark_path + \"/python\")\n",
    "sys.path.append(spark_path + \"/python/pyspark/\")\n",
    "sys.path.append(spark_path + \"/python/lib\")\n",
    "sys.path.append(spark_path + \"/python/lib/pyspark.zip\")\n",
    "sys.path.append(spark_path + \"/python/lib/py4j-0.10.9-src.zip\")\n",
    "\n",
    "import findspark\n",
    "findspark.init()\n",
    "\n",
    "import pyspark"
   ]
  },
  {
   "cell_type": "code",
   "execution_count": 33,
   "id": "603a789a",
   "metadata": {},
   "outputs": [],
   "source": [
    "from pyspark.mllib.regression import LabeledPoint\n",
    "from pyspark.mllib.classification import SVMWithSGD\n",
    "import numpy\n",
    "from pyspark.mllib.linalg import Matrix, Matrices, Vectors, DenseMatrix, SparseVector"
   ]
  },
  {
   "cell_type": "code",
   "execution_count": 2,
   "id": "06114368",
   "metadata": {},
   "outputs": [],
   "source": [
    "number_cores = 8\n",
    "memory_gb = 16\n",
    "conf = (pyspark.SparkConf().setMaster('local[{}]'.format(number_cores)).set('spark.driver.memory', '{}g'.format(memory_gb)))\n",
    "sc = pyspark.SparkContext(conf=conf)"
   ]
  },
  {
   "cell_type": "code",
   "execution_count": 4,
   "id": "c5c6944c",
   "metadata": {},
   "outputs": [
    {
     "name": "stdout",
     "output_type": "stream",
     "text": [
      "gender_submission.csv  test.csv  train.csv\r\n"
     ]
    }
   ],
   "source": [
    "!dir ./data"
   ]
  },
  {
   "cell_type": "code",
   "execution_count": 5,
   "id": "4d14178a",
   "metadata": {},
   "outputs": [],
   "source": [
    "spark = pyspark.sql.SparkSession(sc)"
   ]
  },
  {
   "cell_type": "code",
   "execution_count": 10,
   "id": "80a694e1",
   "metadata": {},
   "outputs": [
    {
     "name": "stdout",
     "output_type": "stream",
     "text": [
      "root\n",
      " |-- PassengerId: integer (nullable = true)\n",
      " |-- Survived: integer (nullable = true)\n",
      " |-- Pclass: integer (nullable = true)\n",
      " |-- Name: string (nullable = true)\n",
      " |-- Sex: string (nullable = true)\n",
      " |-- Age: double (nullable = true)\n",
      " |-- SibSp: integer (nullable = true)\n",
      " |-- Parch: integer (nullable = true)\n",
      " |-- Ticket: string (nullable = true)\n",
      " |-- Fare: double (nullable = true)\n",
      " |-- Cabin: string (nullable = true)\n",
      " |-- Embarked: string (nullable = true)\n",
      "\n"
     ]
    }
   ],
   "source": [
    "df = spark.read.csv('./data/train.csv', header = True, inferSchema = True)\n",
    "df.printSchema()"
   ]
  },
  {
   "cell_type": "markdown",
   "id": "f3ad2640",
   "metadata": {},
   "source": [
    "- PassengerID\n",
    "- Sex (Women and children first)\n",
    "- Age (Male > 10 considered adult)\n",
    "- Cabin (Numbers increase back to front, front sank first; A-F in decreasing class order)\n",
    "- PClass (higher classes were further away from boiler room/rising water)"
   ]
  },
  {
   "cell_type": "code",
   "execution_count": 11,
   "id": "aeedcdf7",
   "metadata": {},
   "outputs": [
    {
     "data": {
      "text/plain": [
       "[Row(PassengerId=1, Survived=0, Pclass=3, Name='Braund, Mr. Owen Harris', Sex='male', Age=22.0, SibSp=1, Parch=0, Ticket='A/5 21171', Fare=7.25, Cabin=None, Embarked='S'),\n",
       " Row(PassengerId=2, Survived=1, Pclass=1, Name='Cumings, Mrs. John Bradley (Florence Briggs Thayer)', Sex='female', Age=38.0, SibSp=1, Parch=0, Ticket='PC 17599', Fare=71.2833, Cabin='C85', Embarked='C'),\n",
       " Row(PassengerId=3, Survived=1, Pclass=3, Name='Heikkinen, Miss. Laina', Sex='female', Age=26.0, SibSp=0, Parch=0, Ticket='STON/O2. 3101282', Fare=7.925, Cabin=None, Embarked='S'),\n",
       " Row(PassengerId=4, Survived=1, Pclass=1, Name='Futrelle, Mrs. Jacques Heath (Lily May Peel)', Sex='female', Age=35.0, SibSp=1, Parch=0, Ticket='113803', Fare=53.1, Cabin='C123', Embarked='S'),\n",
       " Row(PassengerId=5, Survived=0, Pclass=3, Name='Allen, Mr. William Henry', Sex='male', Age=35.0, SibSp=0, Parch=0, Ticket='373450', Fare=8.05, Cabin=None, Embarked='S')]"
      ]
     },
     "execution_count": 11,
     "metadata": {},
     "output_type": "execute_result"
    }
   ],
   "source": [
    "df.take(5)"
   ]
  },
  {
   "cell_type": "code",
   "execution_count": 12,
   "id": "4a5a47c9",
   "metadata": {},
   "outputs": [
    {
     "name": "stdout",
     "output_type": "stream",
     "text": [
      "[Row(Survived=1), Row(Survived=0)]\n"
     ]
    }
   ],
   "source": [
    "unique_survivors = df.select('Survived').distinct().collect()\n",
    "print(unique_survivors)"
   ]
  },
  {
   "cell_type": "code",
   "execution_count": 13,
   "id": "954941bc",
   "metadata": {},
   "outputs": [
    {
     "name": "stdout",
     "output_type": "stream",
     "text": [
      "['PassengerId', 'Survived', 'Pclass', 'Name', 'Sex', 'Age', 'SibSp', 'Parch', 'Ticket', 'Fare', 'Cabin', 'Embarked']\n"
     ]
    }
   ],
   "source": [
    "columns = df.columns\n",
    "print(columns)"
   ]
  },
  {
   "cell_type": "code",
   "execution_count": 15,
   "id": "00cd98d7",
   "metadata": {},
   "outputs": [],
   "source": [
    "cat_columns = ['PassengerId', 'Survived', 'Pclass', 'Name', 'Sex', 'Age', 'SibSp', 'Parch', 'Ticket', 'Fare', 'Cabin', 'Embarked']"
   ]
  },
  {
   "cell_type": "code",
   "execution_count": 16,
   "id": "005b7708",
   "metadata": {},
   "outputs": [],
   "source": [
    "cat_dictionary = {}\n",
    "\n",
    "for c in cat_columns:\n",
    "    unique_c = df.select(c).distinct().collect()\n",
    "    #print(c + \": \" + str(len(unique_c)))\n",
    "    cat_dictionary[c] = {}\n",
    "    i = 0\n",
    "    for v in unique_c:\n",
    "        cat_dictionary[c][v[c]] = i\n",
    "        i += 1"
   ]
  },
  {
   "cell_type": "code",
   "execution_count": 17,
   "id": "8d12ea5f",
   "metadata": {},
   "outputs": [
    {
     "name": "stdout",
     "output_type": "stream",
     "text": [
      "{'PassengerId': {148: 0, 463: 1, 471: 2, 496: 3, 833: 4, 243: 5, 392: 6, 540: 7, 623: 8, 737: 9, 858: 10, 31: 11, 516: 12, 85: 13, 137: 14, 251: 15, 451: 16, 580: 17, 808: 18, 65: 19, 458: 20, 879: 21, 883: 22, 53: 23, 255: 24, 481: 25, 588: 26, 799: 27, 804: 28, 133: 29, 296: 30, 472: 31, 853: 32, 78: 33, 322: 34, 513: 35, 321: 36, 362: 37, 613: 38, 633: 39, 673: 40, 857: 41, 375: 42, 593: 43, 597: 44, 876: 45, 108: 46, 155: 47, 683: 48, 744: 49, 34: 50, 193: 51, 211: 52, 368: 53, 530: 54, 642: 55, 796: 56, 101: 57, 115: 58, 126: 59, 756: 60, 772: 61, 81: 62, 385: 63, 830: 64, 847: 65, 874: 66, 28: 67, 183: 68, 210: 69, 436: 70, 497: 71, 596: 72, 762: 73, 300: 74, 406: 75, 412: 76, 784: 77, 787: 78, 842: 79, 587: 80, 731: 81, 76: 82, 667: 83, 688: 84, 723: 85, 26: 86, 27: 87, 332: 88, 501: 89, 577: 90, 626: 91, 384: 92, 831: 93, 44: 94, 159: 95, 192: 96, 271: 97, 606: 98, 743: 99, 811: 100, 844: 101, 253: 102, 806: 103, 103: 104, 236: 105, 329: 106, 460: 107, 12: 108, 336: 109, 350: 110, 223: 111, 738: 112, 860: 113, 388: 114, 417: 115, 548: 116, 602: 117, 91: 118, 409: 119, 578: 120, 663: 121, 333: 122, 707: 123, 822: 124, 222: 125, 285: 126, 601: 127, 875: 128, 22: 129, 128: 130, 209: 131, 330: 132, 372: 133, 604: 134, 685: 135, 727: 136, 122: 137, 230: 138, 319: 139, 493: 140, 625: 141, 686: 142, 93: 143, 157: 144, 190: 145, 225: 146, 232: 147, 233: 148, 758: 149, 246: 150, 346: 151, 360: 152, 367: 153, 476: 154, 539: 155, 599: 156, 725: 157, 855: 158, 861: 159, 111: 160, 224: 161, 519: 162, 654: 163, 47: 164, 140: 165, 177: 166, 416: 167, 556: 168, 711: 169, 827: 170, 132: 171, 152: 172, 444: 173, 665: 174, 671: 175, 185: 176, 305: 177, 353: 178, 355: 179, 618: 180, 694: 181, 696: 182, 747: 183, 882: 184, 291: 185, 325: 186, 386: 187, 435: 188, 473: 189, 581: 190, 603: 191, 660: 192, 748: 193, 774: 194, 146: 195, 704: 196, 259: 197, 512: 198, 797: 199, 1: 200, 206: 201, 52: 202, 297: 203, 363: 204, 768: 205, 770: 206, 777: 207, 212: 208, 674: 209, 715: 210, 274: 211, 631: 212, 182: 213, 442: 214, 689: 215, 699: 216, 792: 217, 13: 218, 218: 219, 280: 220, 348: 221, 440: 222, 734: 223, 6: 224, 16: 225, 86: 226, 474: 227, 636: 228, 760: 229, 168: 230, 205: 231, 572: 232, 852: 233, 887: 234, 3: 235, 142: 236, 178: 237, 308: 238, 328: 239, 867: 240, 20: 241, 40: 242, 164: 243, 429: 244, 470: 245, 839: 246, 169: 247, 500: 248, 139: 249, 283: 250, 359: 251, 479: 252, 295: 253, 340: 254, 431: 255, 692: 256, 881: 257, 94: 258, 250: 259, 377: 260, 402: 261, 432: 262, 582: 263, 57: 264, 570: 265, 868: 266, 647: 267, 292: 268, 306: 269, 339: 270, 676: 271, 54: 272, 120: 273, 559: 274, 491: 275, 634: 276, 646: 277, 96: 278, 235: 279, 545: 280, 620: 281, 776: 282, 846: 283, 871: 284, 452: 285, 732: 286, 840: 287, 48: 288, 266: 289, 507: 290, 544: 291, 650: 292, 5: 293, 163: 294, 191: 295, 268: 296, 258: 297, 279: 298, 709: 299, 729: 300, 19: 301, 397: 302, 430: 303, 754: 304, 92: 305, 419: 306, 542: 307, 553: 308, 560: 309, 836: 310, 415: 311, 780: 312, 257: 313, 299: 314, 641: 315, 644: 316, 826: 317, 64: 318, 117: 319, 227: 320, 579: 321, 504: 322, 554: 323, 598: 324, 764: 325, 886: 326, 41: 327, 154: 328, 309: 329, 425: 330, 347: 331, 447: 332, 455: 333, 484: 334, 607: 335, 15: 336, 43: 337, 845: 338, 262: 339, 511: 340, 112: 341, 269: 342, 327: 343, 563: 344, 615: 345, 849: 346, 165: 347, 666: 348, 775: 349, 358: 350, 366: 351, 843: 352, 854: 353, 179: 354, 189: 355, 207: 356, 489: 357, 590: 358, 675: 359, 862: 360, 37: 361, 383: 362, 659: 363, 61: 364, 127: 365, 316: 366, 461: 367, 502: 368, 523: 369, 819: 370, 88: 371, 197: 372, 486: 373, 531: 374, 318: 375, 462: 376, 547: 377, 107: 378, 202: 379, 263: 380, 374: 381, 564: 382, 619: 383, 891: 384, 9: 385, 17: 386, 231: 387, 552: 388, 324: 389, 586: 390, 609: 391, 72: 392, 286: 393, 398: 394, 505: 395, 538: 396, 175: 397, 387: 398, 423: 399, 695: 400, 746: 401, 381: 402, 498: 403, 721: 404, 850: 405, 35: 406, 503: 407, 583: 408, 594: 409, 610: 410, 614: 411, 761: 412, 880: 413, 677: 414, 739: 415, 310: 416, 485: 417, 568: 418, 698: 419, 742: 420, 838: 421, 870: 422, 196: 423, 437: 424, 456: 425, 829: 426, 834: 427, 217: 428, 290: 429, 441: 430, 733: 431, 800: 432, 884: 433, 229: 434, 307: 435, 326: 436, 537: 437, 766: 438, 823: 439, 114: 440, 173: 441, 220: 442, 278: 443, 301: 444, 494: 445, 669: 446, 713: 447, 810: 448, 813: 449, 890: 450, 4: 451, 55: 452, 59: 453, 445: 454, 684: 455, 8: 456, 100: 457, 241: 458, 449: 459, 450: 460, 495: 461, 717: 462, 757: 463, 161: 464, 555: 465, 687: 466, 23: 467, 39: 468, 679: 469, 719: 470, 49: 471, 176: 472, 380: 473, 520: 474, 629: 475, 672: 476, 736: 477, 791: 478, 7: 479, 162: 480, 514: 481, 549: 482, 637: 483, 877: 484, 130: 485, 238: 486, 244: 487, 446: 488, 624: 489, 648: 490, 84: 491, 136: 492, 453: 493, 720: 494, 856: 495, 247: 496, 314: 497, 627: 498, 664: 499, 691: 500, 728: 501, 824: 502, 87: 503, 565: 504, 649: 505, 171: 506, 273: 507, 343: 508, 434: 509, 439: 510, 443: 511, 585: 512, 51: 513, 194: 514, 277: 515, 331: 516, 428: 517, 465: 518, 794: 519, 391: 520, 438: 521, 532: 522, 706: 523, 821: 524, 69: 525, 129: 526, 166: 527, 448: 528, 467: 529, 97: 530, 400: 531, 543: 532, 524: 533, 533: 534, 661: 535, 693: 536, 234: 537, 239: 538, 264: 539, 312: 540, 389: 541, 869: 542, 63: 543, 635: 544, 885: 545, 395: 546, 403: 547, 779: 548, 459: 549, 509: 550, 10: 551, 77: 552, 102: 553, 361: 554, 589: 555, 814: 556, 848: 557, 658: 558, 50: 559, 518: 560, 750: 561, 771: 562, 267: 563, 293: 564, 404: 565, 527: 566, 817: 567, 45: 568, 569: 569, 769: 570, 793: 571, 216: 572, 759: 573, 812: 574, 38: 575, 261: 576, 320: 577, 418: 578, 82: 579, 181: 580, 249: 581, 364: 582, 510: 583, 167: 584, 288: 585, 394: 586, 576: 587, 703: 588, 80: 589, 240: 590, 289: 591, 356: 592, 889: 593, 25: 594, 73: 595, 245: 596, 427: 597, 591: 598, 763: 599, 816: 600, 113: 601, 237: 602, 645: 603, 795: 604, 24: 605, 160: 606, 818: 607, 70: 608, 408: 609, 62: 610, 121: 611, 125: 612, 396: 613, 730: 614, 156: 615, 351: 616, 480: 617, 143: 618, 219: 619, 697: 620, 95: 621, 411: 622, 477: 623, 482: 624, 740: 625, 29: 626, 226: 627, 390: 628, 651: 629, 741: 630, 789: 631, 464: 632, 526: 633, 528: 634, 558: 635, 21: 636, 214: 637, 653: 638, 710: 639, 323: 640, 550: 641, 335: 642, 338: 643, 352: 644, 492: 645, 798: 646, 866: 647, 98: 648, 195: 649, 256: 650, 678: 651, 714: 652, 287: 653, 345: 654, 490: 655, 595: 656, 752: 657, 767: 658, 790: 659, 828: 660, 809: 661, 863: 662, 32: 663, 60: 664, 90: 665, 371: 666, 622: 667, 75: 668, 382: 669, 469: 670, 621: 671, 630: 672, 786: 673, 203: 674, 221: 675, 265: 676, 457: 677, 640: 678, 662: 679, 782: 680, 835: 681, 141: 682, 151: 683, 341: 684, 414: 685, 433: 686, 608: 687, 712: 688, 724: 689, 859: 690, 334: 691, 592: 692, 751: 693, 801: 694, 145: 695, 200: 696, 272: 697, 376: 698, 488: 699, 515: 700, 680: 701, 735: 702, 56: 703, 109: 704, 254: 705, 378: 706, 487: 707, 639: 708, 213: 709, 228: 710, 478: 711, 534: 712, 655: 713, 303: 714, 426: 715, 574: 716, 718: 717, 749: 718, 170: 719, 354: 720, 702: 721, 708: 722, 807: 723, 304: 724, 536: 725, 611: 726, 612: 727, 668: 728, 783: 729, 105: 730, 298: 731, 370: 732, 753: 733, 865: 734, 58: 735, 188: 736, 726: 737, 837: 738, 11: 739, 33: 740, 204: 741, 421: 742, 575: 743, 781: 744, 872: 745, 888: 746, 83: 747, 110: 748, 150: 749, 369: 750, 413: 751, 508: 752, 541: 753, 825: 754, 68: 755, 71: 756, 106: 757, 260: 758, 567: 759, 525: 760, 561: 761, 116: 762, 147: 763, 14: 764, 198: 765, 317: 766, 546: 767, 600: 768, 638: 769, 805: 770, 344: 771, 349: 772, 424: 773, 657: 774, 123: 775, 342: 776, 373: 777, 379: 778, 454: 779, 832: 780, 158: 781, 199: 782, 242: 783, 270: 784, 284: 785, 690: 786, 135: 787, 248: 788, 499: 789, 522: 790, 42: 791, 119: 792, 337: 793, 466: 794, 506: 795, 566: 796, 2: 797, 79: 798, 201: 799, 765: 800, 778: 801, 803: 802, 131: 803, 149: 804, 276: 805, 365: 806, 773: 807, 820: 808, 294: 809, 357: 810, 529: 811, 118: 812, 573: 813, 722: 814, 124: 815, 281: 816, 571: 817, 30: 818, 99: 819, 184: 820, 302: 821, 313: 822, 652: 823, 815: 824, 66: 825, 405: 826, 557: 827, 682: 828, 700: 829, 46: 830, 67: 831, 186: 832, 275: 833, 282: 834, 605: 835, 802: 836, 311: 837, 535: 838, 873: 839, 616: 840, 628: 841, 632: 842, 681: 843, 174: 844, 215: 845, 410: 846, 172: 847, 562: 848, 716: 849, 864: 850, 252: 851, 399: 852, 551: 853, 144: 854, 153: 855, 420: 856, 705: 857, 785: 858, 851: 859, 670: 860, 745: 861, 18: 862, 475: 863, 74: 864, 138: 865, 755: 866, 104: 867, 180: 868, 468: 869, 483: 870, 643: 871, 656: 872, 134: 873, 584: 874, 841: 875, 878: 876, 407: 877, 521: 878, 788: 879, 617: 880, 701: 881, 36: 882, 187: 883, 208: 884, 315: 885, 393: 886, 89: 887, 401: 888, 422: 889, 517: 890}, 'Survived': {1: 0, 0: 1}, 'Pclass': {1: 0, 3: 1, 2: 2}, 'Name': {'\"Watt, Mrs. James (Elizabeth \"\"Bessie\"\" Inglis Milne)\"': 0, 'Young, Miss. Marie Grice': 1, 'Parr, Mr. William Henry Marsh': 2, 'Soholt, Mr. Peter Andreas Lauritz Andersen': 3, 'Goldsmith, Mrs. Frank John (Emily Alice Brown)': 4, 'Dimic, Mr. Jovan': 5, 'Harper, Mr. Henry Sleeper': 6, 'Reuchlin, Jonkheer. John George': 7, 'Fahlstrom, Mr. Arne Jonas': 8, 'Hosono, Mr. Masabumi': 9, 'Partner, Mr. Austen': 10, 'Van Impe, Miss. Catharina': 11, 'Bjornstrom-Steffansson, Mr. Mauritz Hakan': 12, 'Saad, Mr. Khalil': 13, 'Sirota, Mr. Maurice': 14, 'Slemen, Mr. Richard James': 15, 'McCormack, Mr. Thomas Joseph': 16, 'Potter, Mrs. Thomas Jr (Lily Alexenia Wilson)': 17, 'Palsson, Miss. Stina Viola': 18, '\"Nakid, Miss. Maria (\"\"Mary\"\")\"': 19, 'Goodwin, Master. Harold Victor': 20, 'Sharp, Mr. Percival James R': 21, 'Lam, Mr. Ali': 22, 'Endres, Miss. Caroline Louise': 23, 'Pettersson, Miss. Ellen Natalia': 24, 'Barbara, Miss. Saiide': 25, 'Slocovski, Mr. Selman Francis': 26, '\"Carr, Miss. Helen \"\"Ellen\"\"\"': 27, 'Tornquist, Mr. William Henry': 28, 'Olsson, Mr. Nils Johan Goransson': 29, 'Augustsson, Mr. Albert': 30, 'Nysveen, Mr. Johan Hansen': 31, 'Dahl, Mr. Karl Edwart': 32, 'Richards, Mrs. Sidney (Emily Hocking)': 33, 'Hagland, Mr. Ingvald Olai Olsen': 34, 'Carter, Master. William Thornton II': 35, 'van Melkebeke, Mr. Philemon': 36, 'Johnson, Mrs. Oscar W (Elisabeth Vilhelmina Berg)': 37, 'Skoog, Master. Harald': 38, 'Lefebre, Miss. Ida': 39, 'Frolicher-Stehli, Mr. Maxmillian': 40, 'Thorneycroft, Mr. Percival': 41, 'Icard, Miss. Amelie': 42, 'Morrow, Mr. Thomas Rowan': 43, 'Goldenberg, Mrs. Samuel L (Edwiga Grabowska)': 44, 'Salkjelsvik, Miss. Anna Kristine': 45, 'Bracken, Mr. James H': 46, 'Foreman, Mr. Benjamin Laventall': 47, 'Keefe, Mr. Arthur': 48, 'Sinkkonen, Miss. Anna': 49, \"O'Driscoll, Miss. Bridget\": 50, 'Rommetvedt, Mr. Knud Paust': 51, 'Ilmakangas, Miss. Pieta Sofia': 52, 'Fry, Mr. Richard': 53, 'Svensson, Mr. Johan': 54, 'Gustafsson, Mr. Alfred Ossian': 55, 'Jenkin, Mr. Stephen Curnow': 56, 'Ward, Miss. Anna': 57, 'Johannesen-Bratthammer, Mr. Bernt': 58, 'Padro y Manent, Mr. Julian': 59, 'Stanley, Miss. Amy Zillah Elsie': 60, 'Abbing, Mr. Anthony': 61, 'Dahlberg, Miss. Gerda Ulrika': 62, '\"Hegarty, Miss. Hanora \"\"Nora\"\"\"': 63, 'Todoroff, Mr. Lalio': 64, 'Albimona, Mr. Nassef Cassem': 65, 'Perkin, Mr. John Henry': 66, 'Parrish, Mrs. (Lutie Davis)': 67, 'Wick, Miss. Mary Natalie': 68, 'Cavendish, Mr. Tyrell William': 69, '\"Cohen, Mr. Gurshon \"\"Gus\"\"\"': 70, 'de Mulder, Mr. Theodore': 71, 'Compton, Miss. Sara Rebecca': 72, 'Vander Cruyssen, Mr. Victor': 73, 'Ali, Mr. Ahmed': 74, 'Oreskovic, Miss. Marija': 75, 'Moor, Mrs. (Beila)': 76, 'Cameron, Miss. Clear Annie': 77, '\"Coutts, Master. William Loch \"\"William\"\"\"': 78, 'Caram, Mrs. Joseph (Maria Elias)': 79, '\"Mayne, Mlle. Berthe Antonine (\"\"Mrs de Villiers\"\")\"': 80, 'McDermott, Miss. Brigdet Delia': 81, 'Blackwell, Mr. Stephen Weart': 82, 'Goodwin, Miss. Lillian Amy': 83, 'Nilsson, Miss. Helmina Josefina': 84, 'Harder, Mr. George Achilles': 85, 'Seward, Mr. Frederic Kimber': 86, 'Mudd, Mr. Thomas Charles': 87, 'Chaffee, Mr. Herbert Fuller': 88, 'Baxter, Mr. Quigg Edmond': 89, 'Kink-Heilmann, Miss. Luise Gretchen': 90, '\"Romaine, Mr. Charles Hallace (\"\"Mr C Rolmane\"\")\"': 91, 'Hold, Mr. Stephen': 92, 'Saundercock, Mr. William Henry': 93, 'Fortune, Miss. Mabel Helen': 94, '\"Petroff, Mr. Pastcho (\"\"Pentcho\"\")\"': 95, 'Hickman, Mr. Stanley George': 96, 'Torber, Mr. Ernst William': 97, 'Coleff, Mr. Peju': 98, 'Rice, Master. Eugene': 99, 'Chibnall, Mrs. (Edith Martha Bowerman)': 100, 'Eustis, Miss. Elizabeth Mussey': 101, 'Risien, Mr. Samuel Beard': 102, 'Lievens, Mr. Rene Aime': 103, 'Backstrom, Mrs. Karl Alfred (Maria Mathilda Gustafsson)': 104, 'Smith, Mr. James Clinch': 105, 'Graham, Mrs. William Thompson (Edith Junkins)': 106, 'McGough, Mr. James Robert': 107, 'Maenpaa, Mr. Matti Alexanteri': 108, 'Strom, Mrs. Wilhelm (Elna Matilda Persson)': 109, 'Saalfeld, Mr. Adolphe': 110, 'Hart, Miss. Eva Miriam': 111, 'Stoytcheff, Mr. Ilia': 112, 'Berriman, Mr. William John': 113, 'Webber, Miss. Susan': 114, 'Panula, Mr. Ernesti Arvid': 115, 'Pears, Mr. Thomas Clinton': 116, 'Farthing, Mr. John': 117, 'Davis, Miss. Mary': 118, 'Odahl, Mr. Nils Martin': 119, 'Moussa, Mrs. (Mantoura Boulos)': 120, 'Holverson, Mrs. Alexander Oskar (Mary Aline Towner)': 121, 'Harris, Mr. George': 122, 'Johnson, Mr. Alfred': 123, 'Lennon, Mr. Denis': 124, 'Moss, Mr. Albert Johan': 125, 'Denkoff, Mr. Mitto': 126, 'Boulos, Mrs. Joseph (Sultana)': 127, 'Mernagh, Mr. Robert': 128, 'Thorneycroft, Mrs. Percival (Florence Kate White)': 129, 'Lemore, Mrs. (Amelia Milley)': 130, 'Myhrman, Mr. Pehr Fabian Oliver Malkolm': 131, 'Nicola-Yarred, Miss. Jamila': 132, 'Laroche, Miss. Simonne Marie Anne Andree': 133, 'Rogers, Mr. William John': 134, 'Olsen, Mr. Ole Martin': 135, 'Green, Mr. George Henry': 136, 'Leinonen, Mr. Antti Gustaf': 137, 'Daniel, Mr. Robert Williams': 138, 'Persson, Mr. Ernst Ulrik': 139, 'Naidenoff, Mr. Penko': 140, 'Fleming, Miss. Margaret': 141, 'Dennis, Mr. Samuel': 142, 'Collander, Mr. Erik Gustaf': 143, 'Betros, Mr. Tannous': 144, 'Brocklebank, Mr. William Alfred': 145, 'Olsvigen, Mr. Thor Anderson': 146, 'Meyer, Mr. August': 147, 'Johanson, Mr. Jakob Alfred': 148, 'Jensen, Mr. Svend Lauritz': 149, 'Jensen, Mr. Niels Peder': 150, 'Klaber, Mr. Herman': 151, 'McNamee, Mr. Neal': 152, 'Johnston, Mr. Andrew G': 153, 'Tomlin, Mr. Ernest Portage': 154, 'Williams, Mr. Charles Duane': 155, 'Rice, Master. Eric': 156, '\"Troutt, Miss. Edwina Celia \"\"Winnie\"\"\"': 157, 'Mannion, Miss. Margareth': 158, 'Montvila, Rev. Juozas': 159, 'Kink, Mr. Vincenz': 160, '\"Parkes, Mr. Francis \"\"Frank\"\"\"': 161, 'Kent, Mr. Edward Austin': 162, 'Frauenthal, Dr. Henry William': 163, 'Alhomaki, Mr. Ilmari Rudolf': 164, 'Pernot, Mr. Rene': 165, 'Smith, Mr. Richard William': 166, 'Lemberopolous, Mr. Peter L': 167, 'Rosblom, Mrs. Viktor (Helena Wilhelmina)': 168, 'Vander Planke, Mr. Leo Edmondus': 169, 'Cunningham, Mr. Alfred Fleming': 170, 'Baclini, Miss. Eugenie': 171, 'Duran y More, Miss. Asuncion': 172, '\"O\\'Dwyer, Miss. Ellen \"\"Nellie\"\"\"': 173, '\"Yrois, Miss. Henriette (\"\"Mrs Harbeck\"\")\"': 174, 'Mangan, Miss. Mary': 175, 'Woolner, Mr. Hugh': 176, 'Goldschmidt, Mr. George B': 177, 'Futrelle, Mr. Jacques Heath': 178, 'Fox, Mr. Stanley Hubert': 179, 'Buss, Miss. Kate': 180, 'Kvillner, Mr. Johan Henrik Johannesson': 181, 'Taylor, Mr. Elmer Zebley': 182, 'Dean, Master. Bertram Vere': 183, 'Culumovic, Mr. Jeso': 184, 'Harknett, Miss. Alice Phoebe': 185, 'Rothschild, Mrs. Martin (Elizabeth L. Barrett)': 186, '\"Duff Gordon, Lady. (Lucille Christiana Sutherland) (\"\"Mrs Morgan\"\")\"': 187, 'Rush, Mr. Alfred George John': 188, 'Sutton, Mr. Frederick': 189, 'Bystrom, Mrs. (Karolina)': 190, 'Palsson, Master. Gosta Leonard': 191, 'Sunderland, Mr. Victor Francis': 192, 'Lewy, Mr. Ervin G': 193, 'Moraweck, Dr. Ernest': 194, 'Olsson, Miss. Elina': 195, 'Strandberg, Miss. Ida Sofia': 196, 'Jacobsohn, Mrs. Sidney Samuel (Amy Frances Christy)': 197, 'Ostby, Mr. Engelhart Cornelius': 198, 'Caldwell, Master. Alden Gates': 199, 'Doling, Mrs. John T (Ada Julia Bone)': 200, 'Hart, Mr. Benjamin': 201, 'Foo, Mr. Choong': 202, 'Simonius-Blumer, Col. Oberst Alfons': 203, 'Butler, Mr. Reginald Fenton': 204, 'Theobald, Mr. Thomas Leonard': 205, 'Williams, Mr. Charles Eugene': 206, 'Millet, Mr. Francis Davis': 207, '\"Bradley, Mr. George (\"\"George Arthur Brayton\"\")\"': 208, 'Kirkland, Rev. Charles Leonard': 209, 'Allum, Mr. Owen George': 210, 'Lobb, Mr. William Arthur': 211, 'Birkeland, Mr. Hans Martin Monsen': 212, 'Alexander, Mr. William': 213, 'Becker, Master. Richard F': 214, 'Turcin, Mr. Stjepan': 215, 'Jermyn, Miss. Annie': 216, 'Widener, Mr. Harry Elkins': 217, '\"Mullens, Miss. Katherine \"\"Katie\"\"\"': 218, 'Ringhini, Mr. Sante': 219, 'Webber, Mr. James': 220, 'Downton, Mr. William James': 221, 'Chapman, Mr. Charles Henry': 222, 'Cherry, Miss. Gladys': 223, 'Gee, Mr. Arthur H': 224, 'Hagland, Mr. Konrad Mathias Reiersen': 225, 'Nicholson, Mr. Arthur Ernest': 226, 'Herman, Miss. Alice': 227, 'Razi, Mr. Raihed': 228, 'Nasser, Mr. Nicholas': 229, 'Ling, Mr. Lee': 230, 'Thorne, Mrs. Gertrude Maybelle': 231, 'Artagaveytia, Mr. Ramon': 232, 'Moor, Master. Meier': 233, 'Mionoff, Mr. Stoytcho': 234, '\"Phillips, Miss. Kate Florence (\"\"Mrs Kate Louise Phillips Marshall\"\")\"': 235, 'Colley, Mr. Edward Pomeroy': 236, 'Peters, Miss. Katie': 237, 'Chambers, Mrs. Norman Campbell (Bertha Griggs)': 238, 'Petroff, Mr. Nedelio': 239, 'Ford, Mr. William Neal': 240, 'Barton, Mr. David John': 241, '\"Goldsmith, Master. Frank John William \"\"Frankie\"\"\"': 242, 'Sandstrom, Mrs. Hjalmar (Agnes Charlotta Bengtsson)': 243, 'Hocking, Mr. Richard George': 244, 'Quick, Miss. Phyllis May': 245, 'Moran, Mr. Daniel J': 246, 'Warren, Mrs. Frank Manley (Anna Sophia Atkinson)': 247, 'Lahoud, Mr. Sarkis': 248, 'Carter, Mrs. Ernest Courtenay (Lilian Hughes)': 249, 'Osman, Mrs. Mara': 250, 'Lester, Mr. James': 251, 'Arnold-Franchi, Mrs. Josef (Josefine Franchi)': 252, 'White, Mr. Richard Frasar': 253, 'Nysten, Miss. Anna Sofia': 254, '\"Murphy, Miss. Katherine \"\"Kate\"\"\"': 255, 'Campbell, Mr. William': 256, 'Allison, Mrs. Hudson J C (Bessie Waldo Daniels)': 257, 'Hoyt, Mr. William Fisher': 258, 'Bishop, Mrs. Dickinson H (Helen Walton)': 259, 'Lehmann, Miss. Bertha': 260, 'Peduzzi, Mr. Joseph': 261, '\"Morley, Mr. Henry Samuel (\"\"Mr Henry Marshall\"\")\"': 262, '\"Gilnagh, Miss. Katherine \"\"Katie\"\"\"': 263, 'Goldsmith, Mr. Frank John': 264, 'Yasbeck, Mr. Antoni': 265, 'Gaskell, Mr. Alfred': 266, '\"Lovell, Mr. John Hall (\"\"Henry\"\")\"': 267, 'Charters, Mr. David': 268, 'Laitinen, Miss. Kristina Sofia': 269, 'Silverthorne, Mr. Spencer Victor': 270, 'Serepeca, Miss. Augusta': 271, 'Roebling, Mr. Washington Augustus II': 272, 'Silven, Miss. Lyyli Karoliina': 273, 'Astor, Mrs. John Jacob (Madeleine Talmadge Force)': 274, 'Petranec, Miss. Matilda': 275, 'Graham, Mr. George Edward': 276, 'Karaic, Mr. Milan': 277, 'Goodwin, Mr. Charles Edward': 278, 'Harris, Mr. Henry Birkhardt': 279, 'Ekstrom, Mr. Johan': 280, 'Jerwan, Mrs. Amin S (Marie Marthe Thuillard)': 281, 'Crosby, Miss. Harriet R': 282, 'Thayer, Mrs. John Borland (Marian Longstreth Morris)': 283, 'Thayer, Mr. John Borland': 284, 'Rekic, Mr. Tido': 285, 'Hendekovic, Mr. Ignjac': 286, 'Jalsevac, Mr. Ivan': 287, 'Renouf, Mr. Peter Henry': 288, 'Moore, Mr. Leonard Charles': 289, 'Cribb, Mr. John Hatfield': 290, 'Asplund, Miss. Lillian Gertrud': 291, '\"Collyer, Miss. Marjorie \"\"Lottie\"\"\"': 292, 'Hanna, Mr. Mansour': 293, 'Turja, Miss. Anna Sofia': 294, 'Reynaldo, Ms. Encarnacion': 295, 'Garside, Miss. Ethel': 296, 'Chapman, Mr. John Henry': 297, '\"O\\'Leary, Miss. Hanora \"\"Norah\"\"\"': 298, 'Vande Velde, Mr. Johannes Joseph': 299, 'Dean, Mr. Bertram Frank': 300, 'Leonard, Mr. Lionel': 301, 'Rosblom, Mr. Viktor Richard': 302, 'Maisner, Mr. Simon': 303, 'Somerton, Mr. Francis William': 304, 'Sivic, Mr. Husein': 305, 'Becker, Miss. Marion Louise': 306, 'Elias, Mr. Dibo': 307, 'Bostandyeff, Mr. Guentcho': 308, 'Mitkoff, Mr. Mito': 309, 'Carter, Mrs. William Ernest (Lucile Polk)': 310, 'Beavan, Mr. William Thomas': 311, 'Murdlin, Mr. Joseph': 312, 'Wilhelms, Mr. Charles': 313, 'Madill, Miss. Georgette Alexandra': 314, 'Asplund, Master. Clarence Gustaf Hugo': 315, 'Dick, Mr. Albert Adrian': 316, 'Rothes, the Countess. of (Lucy Noel Martha Dyer-Edwards)': 317, 'Hocking, Mrs. Elizabeth (Eliza Needs)': 318, 'Stone, Mrs. George Nelson (Martha Evelyn)': 319, 'Andersson, Mr. Anders Johan': 320, 'Andersson, Miss. Ellis Anna Maria': 321, 'Elias, Mr. Tannous': 322, \"O'Brien, Mr. Timothy\": 323, 'Mallet, Master. Andre': 324, 'Uruchurtu, Don. Manuel E': 325, 'Andersson, Miss. Erna Alexandra': 326, 'Sundman, Mr. Johan Julian': 327, 'Simmons, Mr. John': 328, 'Sjoblom, Miss. Anna Sofia': 329, 'Johnson, Master. Harold Theodor': 330, 'Vander Planke, Miss. Augusta Maria': 331, 'Carbines, Mr. William': 332, 'Givard, Mr. Hans Kristensen': 333, 'Berglund, Mr. Karl Ivar Sven': 334, 'Lang, Mr. Fang': 335, 'Flynn, Mr. John': 336, 'Coelho, Mr. Domingos Fernandeo': 337, 'Svensson, Mr. Olof': 338, 'Van Impe, Mr. Jean Baptiste': 339, 'Cleaver, Miss. Alice': 340, 'Chambers, Mr. Norman Campbell': 341, '\"Ryerson, Miss. Susan Parker \"\"Suzette\"\"\"': 342, 'Cairns, Mr. Alexander': 343, 'Hays, Miss. Margaret Bechstein': 344, 'Newell, Miss. Marjorie': 345, 'Barkworth, Mr. Algernon Henry Wilson': 346, 'Rugg, Miss. Emily': 347, 'Mellinger, Mrs. (Elizabeth Anne Maidment)': 348, 'Keane, Miss. Nora A': 349, 'Lahtinen, Mrs. William (Anna Sylfven)': 350, 'Molson, Mr. Harry Markland': 351, 'Aks, Mrs. Sam (Leah Rosen)': 352, 'Cumings, Mrs. John Bradley (Florence Briggs Thayer)': 353, 'Sage, Miss. Constance Gladys': 354, 'Ivanoff, Mr. Kanio': 355, 'Waelens, Mr. Achille': 356, 'Van der hoef, Mr. Wyckoff': 357, 'Shellard, Mr. Frederick William': 358, 'Van Impe, Mrs. Jean Baptiste (Rosalie Paula Govaert)': 359, \"O'Brien, Mr. Thomas\": 360, 'Taussig, Mrs. Emil (Tillie Mandelbaum)': 361, '\"Homer, Mr. Harry (\"\"Mr E Haven\"\")\"': 362, 'Murphy, Miss. Margaret Jane': 363, 'Harper, Rev. John': 364, 'Heikkinen, Miss. Laina': 365, 'Kiernan, Mr. Philip': 366, '\"Williams, Mr. Howard Hugh \"\"Harry\"\"\"': 367, 'Robert, Mrs. Edward Scott (Elisabeth Walton McMillan)': 368, 'Lam, Mr. Len': 369, 'Richard, Mr. Emile': 370, 'Meyer, Mrs. Edgar Joseph (Leila Saks)': 371, 'Goldenberg, Mr. Samuel L': 372, 'Bishop, Mr. Dickinson H': 373, 'Ball, Mrs. (Ada E Hall)': 374, 'Pasic, Mr. Jakob': 375, 'Bonnell, Miss. Elizabeth': 376, 'Stead, Mr. William Thomas': 377, 'Walker, Mr. William Anderson': 378, 'Ibrahim Shawah, Mr. Yousseff': 379, 'Fortune, Mr. Charles Alexander': 380, 'Calic, Mr. Jovo': 381, 'McKane, Mr. Peter David': 382, 'Silvey, Mr. William Baird': 383, 'Connaghton, Mr. Michael': 384, 'Boulos, Mr. Hanna': 385, 'Asplund, Master. Edvin Rojj Felix': 386, 'Natsch, Mr. Charles H': 387, 'Hart, Mrs. Benjamin (Esther Ada Bloomfield)': 388, 'Andersson, Miss. Ebba Iris Alfrida': 389, 'Hakkarainen, Mrs. Pekka Pietari (Elin Matilda Dolck)': 390, 'Penasco y Castellana, Mrs. Victor de Satode (Maria Josefa Perez de Soto y Vallejo)': 391, 'Sage, Mr. George John Jr': 392, 'Sage, Miss. Stella Anna': 393, 'Yasbeck, Mrs. Antoni (Selini Alexander)': 394, 'Burke, Mr. Jeremiah': 395, 'Dorking, Mr. Edward Arthur': 396, 'Canavan, Miss. Mary': 397, 'Stephenson, Mrs. Walter Bertram (Martha Eustis)': 398, 'Marechal, Mr. Pierre': 399, 'Baclini, Mrs. Solomon (Latifa Qurban)': 400, 'Gill, Mr. John William': 401, '\"Johnston, Miss. Catherine Helen \"\"Carrie\"\"\"': 402, 'Goodwin, Master. William Frederick': 403, 'Hood, Mr. Ambrose Jr': 404, 'Stankovic, Mr. Ivan': 405, 'Connolly, Miss. Kate': 406, 'Kelly, Mr. James': 407, 'Sandstrom, Miss. Marguerite Rut': 408, 'Glynn, Miss. Mary Agatha': 409, 'Porter, Mr. Walter Chamberlain': 410, 'Smart, Mr. John Montgomery': 411, 'Kimball, Mr. Edwin Nelson Jr': 412, 'Sutehall, Mr. Henry Jr': 413, 'Ahlin, Mrs. Johan (Johanna Persdotter Larsson)': 414, 'Carrau, Mr. Francisco M': 415, 'Trout, Mrs. William H (Jessie L)': 416, 'Doharr, Mr. Tannous': 417, 'Thomas, Master. Assad Alexander': 418, 'Nenkoff, Mr. Christo': 419, 'Lefebre, Miss. Jeannie': 420, 'Cacic, Miss. Marija': 421, 'Renouf, Mrs. Peter Henry (Lillian Jefferys)': 422, 'Ponesell, Mr. Martin': 423, 'Nye, Mrs. (Elizabeth Ramell)': 424, 'Pinsky, Mrs. (Rosa)': 425, 'Davies, Mr. Charles Henry': 426, 'Maioni, Miss. Roberta': 427, 'Elias, Mr. Joseph Jr': 428, 'Richards, Master. George Sibley': 429, 'Faunthorpe, Mrs. Lizzie (Elizabeth Anne Wilkinson)': 430, 'de Pelsmaeker, Mr. Alfons': 431, 'Sadlier, Mr. Matthew': 432, 'Meek, Mrs. Thomas (Annie Louise Rowley)': 433, 'LeRoy, Miss. Bertha': 434, 'Thayer, Mr. John Borland Jr': 435, 'Palsson, Mrs. Nils (Alma Cornelia Berglund)': 436, 'Oreskovic, Mr. Luka': 437, 'Louch, Mrs. Charles Alexander (Alice Adelaide Slow)': 438, 'Yousseff, Mr. Gerious': 439, 'Jarvis, Mr. John Denzil': 440, 'Collyer, Mr. Harvey': 441, 'Nasser, Mrs. Nicholas (Adele Achem)': 442, '\"Barber, Miss. Ellen \"\"Nellie\"\"\"': 443, 'Haas, Miss. Aloisia': 444, 'Gustafsson, Mr. Johan Birger': 445, 'Leader, Dr. Alice (Farnham)': 446, 'Beckwith, Mr. Richard Leonard': 447, 'Henry, Miss. Delia': 448, 'Hakkarainen, Mr. Pekka Pietari': 449, 'Widegren, Mr. Carl/Charles Peter': 450, 'Jensen, Mr. Hans Peder': 451, 'Nicholls, Mr. Joseph Charles': 452, '\"Madigan, Miss. Margaret \"\"Maggie\"\"\"': 453, 'Lefebre, Miss. Mathilde': 454, 'Collyer, Mrs. Harvey (Charlotte Annie Tate)': 455, 'Adams, Mr. John': 456, 'Nankoff, Mr. Minko': 457, 'Abbott, Mrs. Stanton (Rosa Hunt)': 458, 'Pavlovic, Mr. Stefo': 459, 'Frolicher, Miss. Hedwig Margaritha': 460, 'de Messemaeker, Mrs. Guillaume Joseph (Emma)': 461, 'Giglio, Mr. Victor': 462, 'Danbom, Mrs. Ernst Gilbert (Anna Sigrid Maria Brogren)': 463, 'Quick, Mrs. Frederick Charles (Jane Richards)': 464, 'Coleff, Mr. Satio': 465, 'Elsbury, Mr. William James': 466, 'Moran, Mr. James': 467, 'Andrews, Miss. Kornelia Theodosia': 468, 'Wiseman, Mr. Phillippe': 469, 'Hansen, Mr. Henry Damsgaard': 470, 'Calderhead, Mr. Edward Pennington': 471, 'Peter, Miss. Anna': 472, 'Paulner, Mr. Uscher': 473, 'Hale, Mr. Reginald': 474, 'Penasco y Castellana, Mr. Victor de Satode': 475, 'Slabenoff, Mr. Petco': 476, 'Levy, Mr. Rene Jacques': 477, 'Fortune, Mr. Mark': 478, '\"Bowen, Mr. David John \"\"Dai\"\"\"': 479, 'Giles, Mr. Frederick Edward': 480, 'Vestrom, Miss. Hulda Amanda Adolfina': 481, 'Baumann, Mr. John D': 482, 'Jussila, Miss. Mari Aina': 483, 'Ford, Mrs. Edward (Margaret Ann Watson)': 484, 'McCarthy, Mr. Timothy J': 485, 'Beckwith, Mrs. Richard Leonard (Sallie Monypeny)': 486, 'Wheadon, Mr. Edward H': 487, 'Andreasson, Mr. Paul Edvin': 488, 'Navratil, Master. Edmond Roger': 489, 'Kassem, Mr. Fared': 490, 'Markun, Mr. Johann': 491, 'Mamee, Mr. Hanna': 492, 'Panula, Master. Eino Viljami': 493, 'Ryerson, Miss. Emily Borie': 494, 'Greenberg, Mr. Samuel': 495, 'Minahan, Dr. William Edward': 496, 'Johnson, Mr. William Cahoone Jr': 497, 'Arnold-Franchi, Mr. Josef': 498, 'Rintamaki, Mr. Matti': 499, 'Hodges, Mr. Henry Price': 500, 'Andersson, Master. Sigvard Harald Elias': 501, 'Coxon, Mr. Daniel': 502, 'Goodwin, Master. Sidney Leonard': 503, '\"Ford, Miss. Doolina Margaret \"\"Daisy\"\"\"': 504, 'Butt, Major. Archibald Willingham': 505, 'Weir, Col. John': 506, 'Smith, Mr. Thomas': 507, 'Jansson, Mr. Carl Olof': 508, 'Niskanen, Mr. Juha': 509, 'Newell, Mr. Arthur Webster': 510, 'Vande Walle, Mr. Nestor Cyriel': 511, 'Tikkanen, Mr. Juho': 512, 'Andersson, Miss. Sigrid Elisabeth': 513, 'Ross, Mr. John Hugo': 514, 'Hassab, Mr. Hammad': 515, 'Andrews, Mr. Thomas Jr': 516, 'Pears, Mrs. Thomas (Edith Wearne)': 517, 'Braund, Mr. Lewis Richard': 518, 'Lulic, Mr. Nikola': 519, 'Madsen, Mr. Fridtjof Arne': 520, 'Blank, Mr. Henry': 521, 'Hirvonen, Miss. Hildur E': 522, 'Brewe, Dr. Arthur Jackson': 523, 'Samaan, Mr. Youssef': 524, 'Chronopoulos, Mr. Apostolos': 525, 'Attalah, Mr. Sleiman': 526, 'Fortune, Miss. Alice Elizabeth': 527, 'Leitch, Miss. Jessie Wills': 528, 'Wiklund, Mr. Jakob Alfred': 529, 'Karun, Miss. Manca': 530, 'Crosby, Capt. Edward Gifford': 531, 'Hansen, Mr. Claus Peter': 532, 'McGovern, Miss. Mary': 533, 'Adahl, Mr. Mauritz Nils Martin': 534, 'Wright, Mr. George': 535, 'Patchett, Mr. George': 536, 'Willey, Mr. Edward': 537, '\"Harper, Miss. Annie Jessie \"\"Nina\"\"\"': 538, 'Abbott, Mr. Rossmore Edward': 539, 'Gronnestad, Mr. Daniel Danielsen': 540, 'Kilgannon, Mr. Thomas J': 541, 'Johansson, Mr. Gustaf Joel': 542, 'Sedgwick, Mr. Charles Frederick Waddington': 543, 'Caldwell, Mrs. Albert Francis (Sylvia Mae Harbaugh)': 544, 'Davidson, Mr. Thornton': 545, 'Graham, Miss. Margaret Edith': 546, 'Behr, Mr. Karl Howell': 547, 'Moen, Mr. Sigurd Hansen': 548, '\"O\\'Brien, Mrs. Thomas (Johanna \"\"Hannah\"\" Godfrey)\"': 549, 'Hickman, Mr. Lewis': 550, 'McEvoy, Mr. Michael': 551, 'Eklund, Mr. Hans Linus': 552, 'Hedman, Mr. Oskar Arvid': 553, 'Harper, Mrs. Henry Sleeper (Myna Haxtun)': 554, 'Attalah, Miss. Malake': 555, 'Turpin, Mr. William John Robert': 556, 'Gustafsson, Mr. Karl Gideon': 557, 'Carter, Mr. William Ernest': 558, 'Peuchen, Major. Arthur Godfrey': 559, 'Toomey, Miss. Ellen': 560, 'Osen, Mr. Olaf Elon': 561, 'Abelson, Mr. Samuel': 562, 'Aubart, Mme. Leontine Pauline': 563, 'Markoff, Mr. Marin': 564, 'Wick, Mrs. George Dennick (Mary Hitchcock)': 565, 'Carlsson, Mr. Frans Olof': 566, 'Zabour, Miss. Hileni': 567, 'Robins, Mrs. Alexander A (Grace Charity Laury)': 568, '\"Navratil, Mr. Michel (\"\"Louis M Hoffman\"\")\"': 569, 'Duane, Mr. Frank': 570, 'McCoy, Mr. Bernard': 571, 'Davison, Mrs. Thomas Henry (Mary E Finck)': 572, 'Richards, Master. William Rowe': 573, 'Farrell, Mr. James': 574, 'Christmann, Mr. Emil': 575, 'Youseff, Mr. Gerious': 576, 'Honkanen, Miss. Eliina': 577, 'Bissette, Miss. Amelia': 578, 'Hampe, Mr. Leon': 579, 'Corn, Mr. Harry': 580, 'Asim, Mr. Adola': 581, 'Jonsson, Mr. Carl': 582, \"O'Connell, Mr. Patrick D\": 583, 'Cor, Mr. Liudevit': 584, 'Dantcheff, Mr. Ristiu': 585, 'Rood, Mr. Hugh Roscoe': 586, 'Coleridge, Mr. Reginald Charles': 587, 'Johansson, Mr. Erik': 588, 'Robbins, Mr. Victor': 589, 'Lindqvist, Mr. Eino William': 590, 'Garfirth, Mr. John': 591, '\"McGowan, Miss. Anna \"\"Annie\"\"\"': 592, 'Bidois, Miss. Rosalie': 593, 'Hays, Mrs. Charles Melville (Clara Jennings Gregg)': 594, 'Bazzani, Miss. Albina': 595, 'Doling, Miss. Elsie': 596, 'Hamalainen, Master. Viljo': 597, 'Hippach, Miss. Jean Gertrude': 598, 'Plotcharsky, Mr. Vasil': 599, 'Harrington, Mr. Charles H': 600, 'Celotti, Mr. Francesco': 601, 'Kantor, Mr. Sinai': 602, 'Pekoniemi, Mr. Edvard': 603, 'Hamalainen, Mrs. William (Anna)': 604, 'Petterson, Mr. Johan Emil': 605, 'Brown, Mr. Thomas William Solomon': 606, 'Sirayanian, Mr. Orsen': 607, 'Gale, Mr. Shadrach': 608, 'Ryan, Mr. Patrick': 609, 'Perreault, Miss. Anne': 610, 'Hippach, Mrs. Louis Albert (Ida Sophia Fischer)': 611, 'Tobin, Mr. Roger': 612, 'Balkic, Mr. Cerin': 613, 'Braund, Mr. Owen Harris': 614, 'Byles, Rev. Thomas Roussel Davids': 615, 'Meo, Mr. Alfonzo': 616, 'Baxter, Mrs. James (Helene DeLaudeniere Chaput)': 617, 'Carter, Miss. Lucile Polk': 618, 'Panula, Mrs. Juha (Maria Emilia Ojala)': 619, 'Bailey, Mr. Percy Andrew': 620, 'Devaney, Miss. Margaret Delia': 621, 'Gustafsson, Mr. Anders Vilhelm': 622, 'Mineff, Mr. Ivan': 623, 'Hansen, Mr. Henrik Juul': 624, 'Asplund, Mrs. Carl Oscar (Selma Augusta Emilia Johansson)': 625, 'Barbara, Mrs. (Catherine David)': 626, 'Hewlett, Mrs. (Mary D Kingcome) ': 627, 'Palsson, Miss. Torborg Danira': 628, 'Vanden Steen, Mr. Leo Peter': 629, 'Hawksford, Mr. Walter James': 630, 'Panula, Master. Urho Abraham': 631, 'McMahon, Mr. Martin': 632, 'Isham, Miss. Ann Elizabeth': 633, 'Longley, Miss. Gretchen Fiske': 634, 'Knight, Mr. Robert J': 635, 'Nicola-Yarred, Master. Elias': 636, 'Smiljanic, Mr. Mile': 637, 'Pengelly, Mr. Frederick William': 638, 'Turkula, Mrs. (Hedwig)': 639, 'Gillespie, Mr. William Henry': 640, 'Guggenheim, Mr. Benjamin': 641, 'Heininen, Miss. Wendla Maria': 642, 'Staneff, Mr. Ivan': 643, 'Brown, Mrs. James Joseph (Margaret Tobin)': 644, 'Olsen, Mr. Karl Siegwart Andreas': 645, 'Williams-Lambert, Mr. Fletcher Fellows': 646, 'Pickard, Mr. Berk (Berk Trembisky)': 647, 'Kelly, Miss. Mary': 648, 'Radeff, Mr. Alexander': 649, 'Eitemiller, Mr. George Floyd': 650, 'Edvardsson, Mr. Gustaf Hjalmar': 651, 'Ilett, Miss. Bertha': 652, 'Shorney, Mr. Charles Joseph': 653, 'Taussig, Mr. Emil': 654, 'Ayoub, Miss. Banoura': 655, 'Zabour, Miss. Thamine': 656, 'Otter, Mr. Richard': 657, 'Novel, Mr. Mansouer': 658, 'Mellors, Mr. William John': 659, 'Peter, Mrs. Catherine (Catherine Rizk)': 660, 'Badt, Mr. Mohamed': 661, 'Troupiansky, Mr. Moses Aaron': 662, 'Wells, Miss. Joan': 663, '\"Najib, Miss. Adele Kiamie \"\"Jane\"\"\"': 664, 'Turpin, Mrs. William John Robert (Dorothy Ann Wonnacott)': 665, \"O'Sullivan, Miss. Bridget Mary\": 666, 'Panula, Mr. Jaako Arnold': 667, 'Long, Mr. Milton Clyde': 668, 'Swift, Mrs. Frederick Joel (Margaret Welles Barron)': 669, 'Allen, Mr. William Henry': 670, 'Allison, Master. Hudson Trevor': 671, 'Sage, Mr. Douglas Bullen': 672, 'Crease, Mr. Ernest James': 673, 'Yousif, Mr. Wazli': 674, 'Beane, Mrs. Edward (Ethel Clarke)': 675, 'Lesurer, Mr. Gustave J': 676, 'Drew, Mrs. James Vivian (Lulu Thorne Christian)': 677, 'Hassan, Mr. Houssein G N': 678, 'Ali, Mr. William': 679, 'Hart, Mr. Henry': 680, 'Minahan, Miss. Daisy E': 681, 'Cacic, Mr. Luka': 682, 'Jussila, Mr. Eiriik': 683, 'Emir, Mr. Farred Chehab': 684, 'Moutal, Mr. Rahamin Haim': 685, 'Frauenthal, Mrs. Henry William (Clara Heinsheimer)': 686, 'del Carlo, Mr. Sebastiano': 687, 'Goodwin, Mrs. Frederick (Augusta Tyler)': 688, 'Humblen, Mr. Adolf Mathias Nicolai Olsen': 689, 'Williams, Mr. Leslie': 690, 'Dick, Mrs. Albert Adrian (Vera Gillespie)': 691, 'Shelley, Mrs. William (Imanita Parrish Hall)': 692, 'Dowdell, Miss. Elizabeth': 693, 'Backstrom, Mr. Karl Alfred': 694, 'Larsson, Mr. Bengt Edvin': 695, '\"Mockler, Miss. Helen Mary \"\"Ellie\"\"\"': 696, 'Brown, Mrs. Thomas William Solomon (Elizabeth Catherine Ford)': 697, 'Kraeff, Mr. Theodor': 698, 'Bateman, Rev. Robert James': 699, 'Goncalves, Mr. Manuel Estanslas': 700, 'Clifford, Mr. George Quincy': 701, 'Nosworthy, Mr. Richard Cater': 702, 'Appleton, Mrs. Edward Dale (Charlotte Lamson)': 703, 'Mitchell, Mr. Henry Michael': 704, 'West, Miss. Constance Mirium': 705, 'Sheerlinck, Mr. Jan Baptist': 706, 'Slayter, Miss. Hilda Mary': 707, 'Skoog, Mr. Wilhelm': 708, 'Harrison, Mr. William': 709, 'Stranden, Mr. Juho': 710, 'Jacobsohn, Mr. Sidney Samuel': 711, 'Francatelli, Miss. Laura Mabel': 712, 'Kantor, Mrs. Sinai (Miriam Sternin)': 713, 'Laroche, Mr. Joseph Philippe Lemercier': 714, 'Larsson, Mr. August Viktor': 715, 'Harmer, Mr. Abraham (David Lishin)': 716, 'Anderson, Mr. Harry': 717, 'Skoog, Master. Karl Thorsten': 718, 'Scanlan, Mr. James': 719, 'Salonen, Mr. Johan Werner': 720, 'Lobb, Mrs. William Arthur (Cordelia K Stanlick)': 721, 'Kalvik, Mr. Johannes Halvorsen': 722, 'Bourke, Mr. John': 723, 'Matthews, Mr. William John': 724, 'Funk, Miss. Annie Clemmer': 725, 'Kallio, Mr. Nikolai Erland': 726, 'Baclini, Miss. Marie Catherine': 727, 'Windelov, Mr. Einar': 728, 'Bourke, Mrs. John (Catherine)': 729, 'Andersen-Jensen, Miss. Carla Christine Nielsine': 730, 'Vovk, Mr. Janko': 731, 'Laroche, Mrs. Joseph (Juliette Marie Louise Lafargue)': 732, 'Jardin, Mr. Jose Neto': 733, 'Lines, Miss. Mary Conover': 734, 'Norman, Mr. Robert Douglas': 735, 'Dooley, Mr. Patrick': 736, 'Jussila, Miss. Katriina': 737, 'van Billiard, Mr. Austin Blyler': 738, 'Dodge, Master. Washington': 739, \"O'Connor, Mr. Maurice\": 740, 'Hoyt, Mrs. Frederick Maxfield (Jane Anne Forby)': 741, 'Taussig, Miss. Ruth': 742, 'Hogeboom, Mrs. John C (Anna Andrews)': 743, 'Johnson, Miss. Eleanor Ileen': 744, '\"Kelly, Miss. Anna Katherine \"\"Annie Kate\"\"\"': 745, 'Gheorgheff, Mr. Stanio': 746, 'Karlsson, Mr. Nils August': 747, 'Daly, Mr. Eugene Patrick': 748, 'Bryhl, Mr. Kurt Arnold Gottfrid': 749, 'Rice, Master. George Hugh': 750, 'Spencer, Mrs. William Augustus (Marie Eugenie)': 751, 'Rice, Master. Arthur': 752, 'Flynn, Mr. James': 753, '\"Coutts, Master. Eden Leslie \"\"Neville\"\"\"': 754, 'Douglas, Mr. Walter Donald': 755, 'Cook, Mr. Jacob': 756, 'White, Mr. Percival Wayland': 757, 'Burns, Miss. Elizabeth Margaret': 758, 'Pain, Dr. Alfred': 759, 'Davies, Mr. Alfred J': 760, 'Shutes, Miss. Elizabeth W': 761, 'Rice, Mrs. William (Margaret Norton)': 762, 'Connors, Mr. Patrick': 763, 'Futrelle, Mrs. Jacques Heath (Lily May Peel)': 764, 'Touma, Mrs. Darwis (Hanne Youssef Razi)': 765, '\"Kelly, Mrs. Florence \"\"Fannie\"\"\"': 766, 'Carter, Rev. Ernest Courtenay': 767, 'Baclini, Miss. Helene Barbara': 768, 'Davies, Master. John Morgan Jr': 769, 'Mack, Mrs. (Mary)': 770, 'Leyson, Mr. Robert William Norman': 771, 'Allison, Miss. Helen Loraine': 772, 'Silvey, Mrs. William Baird (Alice Munger)': 773, 'Gavey, Mr. Lawrence': 774, '\"Keane, Mr. Andrew \"\"Andy\"\"\"': 775, 'Saad, Mr. Amin': 776, 'Sloper, Mr. William Thompson': 777, '\"Andersson, Mr. August Edvard (\"\"Wennerstrom\"\")\"': 778, 'Mellinger, Miss. Madeleine Violet': 779, 'Andersson, Miss. Ingeborg Constanzia': 780, 'Carlsson, Mr. August Sigfrid': 781, 'Abelson, Mrs. Samuel (Hannah Wizosky)': 782, 'Drazenoic, Mr. Jozef': 783, 'Harris, Mrs. Henry Birkhardt (Irene Wallach)': 784, 'Holverson, Mr. Alexander Oskar': 785, 'Sobey, Mr. Samuel James Hayden': 786, 'Taylor, Mrs. Elmer Zebley (Juliet Cummins Wright)': 787, 'Vander Planke, Mrs. Julius (Emelia Maria Vandemoortele)': 788, 'Masselmani, Mrs. Fatima': 789, 'West, Mrs. Edwy Arthur (Ada Mary Worth)': 790, 'Cardeza, Mr. Thomas Drake Martinez': 791, 'Fischer, Mr. Eberhard Thelander': 792, 'Weisz, Mrs. Leopold (Mathilde Francoise Pede)': 793, 'Reeves, Mr. David': 794, 'Clarke, Mrs. Charles V (Ada Maria Winfield)': 795, 'Danbom, Mr. Ernst Gilbert': 796, 'Emanuel, Miss. Virginia Ethel': 797, 'Boulos, Miss. Nourelain': 798, 'Bing, Mr. Lee': 799, 'McCoy, Miss. Agnes': 800, 'Laleff, Mr. Kristo': 801, 'Sage, Mr. Frederick': 802, 'Christy, Miss. Julie Rachel': 803, '\"Duff Gordon, Sir. Cosmo Edmund (\"\"Mr Morgan\"\")\"': 804, 'Stahelin-Maeglin, Dr. Max': 805, 'Hickman, Mr. Leonard Mark': 806, 'Stewart, Mr. Albert A': 807, 'Lindahl, Miss. Agda Thorilda Viktoria': 808, '\"Healy, Miss. Hanora \"\"Nora\"\"\"': 809, 'Morley, Mr. William': 810, 'Panula, Master. Juha Niilo': 811, 'Lindblom, Miss. Augusta Charlotta': 812, 'Danoff, Mr. Yoto': 813, 'Rouse, Mr. Richard Henry': 814, 'Stanley, Mr. Edward Roland': 815, 'Watson, Mr. Ennis Hastings': 816, 'Beesley, Mr. Lawrence': 817, 'Sage, Master. Thomas Henry': 818, 'Harris, Mr. Walter': 819, 'Horgan, Mr. John': 820, 'Marvin, Mr. Daniel Warner': 821, 'West, Mr. Edwy Arthur': 822, 'Navratil, Master. Michel M': 823, 'Allen, Miss. Elisabeth Walton': 824, 'Barah, Mr. Hanna Assi': 825, 'Andrew, Mr. Edgardo Samuel': 826, 'Zimmerman, Mr. Leo': 827, 'Beane, Mr. Edward': 828, 'Meyer, Mr. Edgar Joseph': 829, 'Moran, Miss. Bertha': 830, '\"Ford, Miss. Robina Maggie \"\"Ruby\"\"\"': 831, 'Lurette, Miss. Elise': 832, 'Milling, Mr. Jacob Christian': 833, 'Calic, Mr. Petar': 834, 'Skoog, Miss. Mabel': 835, 'Johnson, Mr. Malkolm Joackim': 836, 'Jonkoff, Mr. Lalio': 837, 'Bengtsson, Mr. John Viktor': 838, 'Spedden, Mrs. Frederic Oakley (Margaretta Corning Stone)': 839, 'Olsen, Mr. Henry Margido': 840, 'Ohman, Miss. Velin': 841, 'Cann, Mr. Ernest Charles': 842, 'Smith, Miss. Marion Elsie': 843, 'Ridsdale, Miss. Lucy': 844, '\"Leeni, Mr. Fahim (\"\"Philip Zenni\"\")\"': 845, 'Skoog, Miss. Margit Elizabeth': 846, 'Nirva, Mr. Iisakki Antino Aijo': 847, 'Skoog, Mrs. William (Anna Bernhardina Karlsson)': 848, 'Sivola, Mr. Antti Wilhelm': 849, '\"Angle, Mrs. William A (Florence \"\"Mary\"\" Agnes Hughes)\"': 850, 'Nakid, Mr. Sahid': 851, 'Moubarek, Master. Gerios': 852, 'Sdycoff, Mr. Todor': 853, 'Gilinski, Mr. Eliezer': 854, 'Lundahl, Mr. Johan Svensson': 855, 'Chip, Mr. Chang': 856, 'Fynney, Mr. Joseph J': 857, 'Strom, Miss. Telma Matilda': 858, 'Lindell, Mr. Edvard Bengtsson': 859, 'Herman, Mrs. Samuel (Jane Laver)': 860, 'Greenfield, Mr. William Bertram': 861, 'Daly, Mr. Peter Denis ': 862, '\"Sage, Miss. Dorothy Edith \"\"Dolly\"\"\"': 863, 'Bowerman, Miss. Elsie Edith': 864, 'Landergren, Miss. Aurora Adelia': 865, 'Kenyon, Mrs. Frederick R (Marion)': 866, '\"Frost, Mr. Anthony Wood \"\"Archie\"\"\"': 867, 'Bourke, Miss. Mary': 868, 'Gallagher, Mr. Martin': 869, 'Lefebre, Master. Henry Forbes': 870, 'Sawyer, Mr. Frederick Charles': 871, 'Klasen, Mr. Klas Albin': 872, '\"Flynn, Mr. John Irwin (\"\"Irving\"\")\"': 873, 'Andersson, Mrs. Anders Johan (Alfrida Konstantia Brogren)': 874, 'Sagesser, Mlle. Emma': 875, 'Johansson, Mr. Karl Johan': 876, 'Toufik, Mr. Nakli': 877, '\"Moubarek, Master. Halim Gonios (\"\"William George\"\")\"': 878, 'Sjostedt, Mr. Ernst Adolf': 879, 'Meanwell, Miss. (Marion Ogden)': 880, 'Mallet, Mr. Albert': 881, 'Newsom, Miss. Helen Monypeny': 882, 'Newell, Miss. Madeleine': 883, 'Hoyt, Mr. Frederick Maxfield': 884, 'Reed, Mr. James George': 885, '\"Brown, Miss. Amelia \"\"Mildred\"\"\"': 886, 'Holm, Mr. John Fredrik Alexander': 887, 'Banfield, Mr. Frederick James': 888, 'Hunt, Mr. George Henry': 889, 'Dakic, Mr. Branko': 890}, 'Sex': {'female': 0, 'male': 1}, 'Age': {8.0: 0, 70.0: 1, 7.0: 2, 20.5: 3, 49.0: 4, 29.0: 5, 40.5: 6, 64.0: 7, 47.0: 8, 42.0: 9, 24.5: 10, 44.0: 11, 35.0: 12, None: 13, 62.0: 14, 18.0: 15, 80.0: 16, 34.5: 17, 39.0: 18, 1.0: 19, 45.5: 20, 34.0: 21, 37.0: 22, 25.0: 23, 36.0: 24, 0.92: 25, 41.0: 26, 0.42: 27, 4.0: 28, 30.5: 29, 23.0: 30, 56.0: 31, 50.0: 32, 14.5: 33, 45.0: 34, 0.75: 35, 71.0: 36, 32.5: 37, 31.0: 38, 11.0: 39, 58.0: 40, 23.5: 41, 21.0: 42, 51.0: 43, 14.0: 44, 0.67: 45, 63.0: 46, 48.0: 47, 22.0: 48, 60.0: 49, 74.0: 50, 66.0: 51, 36.5: 52, 19.0: 53, 3.0: 54, 53.0: 55, 61.0: 56, 59.0: 57, 46.0: 58, 28.0: 59, 28.5: 60, 2.0: 61, 57.0: 62, 17.0: 63, 38.0: 64, 27.0: 65, 10.0: 66, 40.0: 67, 30.0: 68, 13.0: 69, 33.0: 70, 6.0: 71, 20.0: 72, 52.0: 73, 32.0: 74, 15.0: 75, 5.0: 76, 24.0: 77, 55.0: 78, 70.5: 79, 55.5: 80, 26.0: 81, 0.83: 82, 9.0: 83, 65.0: 84, 16.0: 85, 12.0: 86, 54.0: 87, 43.0: 88}, 'SibSp': {1: 0, 3: 1, 5: 2, 4: 3, 8: 4, 2: 5, 0: 6}, 'Parch': {1: 0, 6: 1, 3: 2, 5: 3, 4: 4, 2: 5, 0: 6}, 'Ticket': {'367230': 0, 'P/PP 3381': 1, '244270': 2, '363291': 3, 'SOTON/OQ 3101317': 4, '31418': 5, '26360': 6, '2700': 7, '14313': 8, '345763': 9, 'A/5 21172': 10, '364500': 11, '19877': 12, '350029': 13, '113800': 14, 'A/4. 39886': 15, 'C.A. 2673': 16, '113807': 17, 'PC 17604': 18, 'C.A. 2315': 19, '2628': 20, '370375': 21, 'C 7077': 22, '394140': 23, '31027': 24, '367229': 25, 'A/4 45380': 26, '349218': 27, '349213': 28, '244373': 29, 'A/5 2817': 30, '350035': 31, '28206': 32, '1601': 33, '21440': 34, '349225': 35, '364498': 36, '342826': 37, '112053': 38, 'C.A. 17248': 39, '19996': 40, 'STON/O 2. 3101288': 41, '2683': 42, '2648': 43, '28220': 44, '350043': 45, '111428': 46, '239853': 47, '349236': 48, 'PC 17757': 49, '113050': 50, 'SOTON/OQ 392076': 51, '349208': 52, '349241': 53, 'C.A. 29178': 54, 'A/5 2466': 55, '16966': 56, '111320': 57, '26707': 58, '28228': 59, '237565': 60, '5727': 61, '376566': 62, 'W.E.P. 5734': 63, '349233': 64, '330980': 65, '219533': 66, 'PC 17482': 67, '343276': 68, '112059': 69, '28551': 70, '364511': 71, 'C.A. 34651': 72, '2699': 73, '17464': 74, '112050': 75, '345764': 76, '11813': 77, '323951': 78, '334912': 79, '347062': 80, '382649': 81, 'A.5. 18509': 82, 'C 4001': 83, '348121': 84, '230434': 85, '345777': 86, 'C.A. 33112': 87, 'STON/O 2. 3101275': 88, '17453': 89, 'F.C.C. 13531': 90, 'STON/O2. 3101290': 91, '2669': 92, '368703': 93, 'C.A. 18723': 94, '367232': 95, '113505': 96, 'F.C.C. 13528': 97, '113503': 98, 'C.A. 34260': 99, '113796': 100, '17465': 101, '2926': 102, '347088': 103, '110152': 104, '7267': 105, '237668': 106, '7540': 107, '695': 108, '230433': 109, '250652': 110, '345769': 111, '349224': 112, '347087': 113, '17421': 114, '345364': 115, 'W./C. 6608': 116, '36928': 117, '336439': 118, 'S.O./P.P. 751': 119, '8471': 120, '2685': 121, '239865': 122, '113056': 123, '17466': 124, '370373': 125, '28425': 126, '374887': 127, '237671': 128, '2671': 129, '113776': 130, '347071': 131, 'A/4. 34244': 132, '234360': 133, '16988': 134, '347078': 135, '233866': 136, '113783': 137, '36963': 138, '34218': 139, 'PC 17601': 140, '28664': 141, 'SC/AH Basle 541': 142, 'PC 17761': 143, '349215': 144, '28424': 145, 'SOTON/O2 3101287': 146, '236852': 147, '345770': 148, 'A/5. 10482': 149, 'SC/Paris 2163': 150, '315151': 151, '350404': 152, '11967': 153, 'PC 17477': 154, '345572': 155, 'SOTON/O.Q. 392078': 156, '231945': 157, '237798': 158, '2693': 159, '347743': 160, 'STON/O 2. 3101285': 161, '315090': 162, '113788': 163, '220367': 164, 'PC 17599': 165, 'PC 17558': 166, '345778': 167, '349239': 168, '2691': 169, '7553': 170, '364850': 171, '3101281': 172, 'PC 17318': 173, '349206': 174, '4138': 175, 'STON/O 2. 3101294': 176, '230080': 177, '226875': 178, '330877': 179, 'SC 1748': 180, 'PC 17474': 181, 'C.A. 31026': 182, '3101276': 183, '384461': 184, '2626': 185, '350407': 186, '350048': 187, '392091': 188, '347466': 189, '349214': 190, '13213': 191, 'C.A. 5547': 192, 'PC 17610': 193, '349222': 194, '243880': 195, '223596': 196, '36866': 197, 'STON/O2. 3101282': 198, '248747': 199, '248740': 200, '24160': 201, 'STON/O 2. 3101280': 202, 'W./C. 6609': 203, '347076': 204, '65303': 205, '19952': 206, '29104': 207, '29105': 208, '349912': 209, '382652': 210, '347470': 211, '2649': 212, 'SOTON/OQ 392090': 213, '113510': 214, '350052': 215, '4133': 216, 'A./5. 3235': 217, '312991': 218, '330909': 219, '113501': 220, 'A/5 21173': 221, 'PC 17608': 222, '347074': 223, '368323': 224, '218629': 225, '111426': 226, '2631': 227, '230136': 228, 'PC 17585': 229, 'SC/PARIS 2167': 230, '113051': 231, '349221': 232, '350026': 233, '11668': 234, 'A4. 54510': 235, '2668': 236, '349910': 237, '312993': 238, '250648': 239, 'C.A./SOTON 34068': 240, '349909': 241, '2690': 242, '349251': 243, '330919': 244, 'S.O.C. 14879': 245, '7534': 246, '347054': 247, '113514': 248, '370129': 249, '347083': 250, 'SC/PARIS 2149': 251, '364849': 252, '3101277': 253, 'PC 17600': 254, '2694': 255, 'A/5 3902': 256, '248723': 257, '343275': 258, '3101267': 259, '367655': 260, 'PC 17483': 261, '349203': 262, '231919': 263, '113767': 264, '370365': 265, '4579': 266, '112277': 267, 'W./C. 6607': 268, 'S.C./PARIS 2079': 269, '347468': 270, '348123': 271, 'LINE': 272, '315153': 273, 'F.C.C. 13529': 274, '370369': 275, 'SOTON/O.Q. 3101307': 276, '362316': 277, '2666': 278, '2667': 279, '3101264': 280, 'SOTON/OQ 392089': 281, '2695': 282, '4137': 283, '113806': 284, '3460': 285, 'SOTON/OQ 392082': 286, 'CA. 2314': 287, '315094': 288, '113803': 289, '364851': 290, '349237': 291, '349256': 292, '113028': 293, '349244': 294, '2687': 295, '29106': 296, '12460': 297, '2625': 298, '349216': 299, '65306': 300, '11769': 301, '31028': 302, '347077': 303, '14311': 304, '365226': 305, '347063': 306, '347060': 307, 'CA 2144': 308, '113572': 309, '2661': 310, '315037': 311, 'A/5. 13032': 312, '13509': 313, '7545': 314, 'SW/PP 751': 315, '111361': 316, '229236': 317, 'A/S 2816': 318, '349205': 319, 'SC/Paris 2123': 320, '113787': 321, '345765': 322, 'PC 17759': 323, 'C.A. 29566': 324, '244252': 325, 'STON/O 2. 3101274': 326, '371110': 327, '17463': 328, '335677': 329, '239855': 330, '113773': 331, '345780': 332, '112379': 333, '349212': 334, 'A/5 21171': 335, '2627': 336, '28213': 337, 'Fa 265302': 338, '11771': 339, '358585': 340, '392096': 341, '11774': 342, 'SO/C 14885': 343, '365222': 344, 'W./C. 14263': 345, 'SOTON/O.Q. 3101310': 346, 'C 7076': 347, '323592': 348, '364846': 349, '12749': 350, '54636': 351, 'SC/PARIS 2133': 352, 'W/C 14208': 353, 'PC 17760': 354, '13567': 355, '36864': 356, '36865': 357, '2686': 358, '2629': 359, '250653': 360, 'STON/O 2. 3101273': 361, 'C 17369': 362, 'C.A. 37671': 363, '248706': 364, '2665': 365, '345774': 366, '349223': 367, '2672': 368, '35852': 369, '315098': 370, 'PC 17605': 371, '386525': 372, '244278': 373, 'W./C. 14258': 374, 'SOTON/O.Q. 392087': 375, 'STON/O 2. 3101292': 376, '347742': 377, '349227': 378, '110465': 379, '113784': 380, 'C.A. 24579': 381, '347073': 382, '376564': 383, '2674': 384, '2223': 385, '7552': 386, 'S.W./PP 752': 387, 'SOTON/O.Q. 3101305': 388, '113794': 389, '347085': 390, '372622': 391, '17474': 392, '374910': 393, '19988': 394, '248733': 395, '28403': 396, '345767': 397, '330932': 398, '29011': 399, 'PC 17611': 400, '233639': 401, 'SOTON/O.Q. 3101312': 402, '349247': 403, '7598': 404, '350025': 405, '347089': 406, '370376': 407, '315089': 408, 'PP 9549': 409, '2650': 410, '367226': 411, 'STON/O 2. 3101289': 412, '349246': 413, 'A/5. 3337': 414, '2623': 415, '113509': 416, '2653': 417, '347064': 418, '11755': 419, '2908': 420, '248738': 421, '226593': 422, 'STON/O 2. 3101269': 423, 'A/5 3594': 424, '2641': 425, '364499': 426, '324669': 427, '315093': 428, 'A/5. 3336': 429, '113798': 430, 'PC 17593': 431, 'SOTON/O.Q. 3101311': 432, '349242': 433, '113804': 434, '11753': 435, '348124': 436, '248698': 437, '250649': 438, 'C.A. 24580': 439, 'PC 17595': 440, '113043': 441, '315088': 442, '364848': 443, 'SC/AH 29037': 444, '2680': 445, 'SC/PARIS 2131': 446, '110413': 447, '111427': 448, '335097': 449, '17764': 450, 'C.A. 31921': 451, '347081': 452, '347067': 453, '3101295': 454, '374746': 455, '315084': 456, 'PC 17756': 457, '2624': 458, '244358': 459, '13049': 460, '349240': 461, '13214': 462, 'PC 17475': 463, '364516': 464, '347082': 465, '370371': 466, '113059': 467, '349209': 468, '29103': 469, '330959': 470, '349234': 471, '349254': 472, '35281': 473, '2664': 474, '220845': 475, 'S.C./A.4. 23567': 476, 'C.A. 6212': 477, '382651': 478, 'STON/O 2. 3101286': 479, '349228': 480, '312992': 481, '29751': 482, 'A/5 3536': 483, '315097': 484, '349217': 485, '244361': 486, '27849': 487, '19950': 488, '349249': 489, '11752': 490, '111240': 491, '113781': 492, '4134': 493, '330979': 494, '350417': 495, '349248': 496, '239854': 497, '2663': 498, '3101265': 499, '349257': 500, 'A/5. 2151': 501, '350046': 502, '343095': 503, '315086': 504, 'PC 17572': 505, '2697': 506, '27267': 507, 'SCO/W 1585': 508, '113786': 509, '4135': 510, '3411': 511, '12233': 512, 'SOTON/O2 3101272': 513, '250644': 514, '240929': 515, '350060': 516, 'STON/O2. 3101279': 517, '370370': 518, '347464': 519, 'C.A. 33111': 520, '345779': 521, '110813': 522, '250647': 523, '370372': 524, '19943': 525, '349243': 526, '14973': 527, '350047': 528, 'C.A. 29395': 529, 'C.A. 33595': 530, 'PC 17473': 531, '349219': 532, '345773': 533, 'SOTON/OQ 3101316': 534, '11765': 535, '65304': 536, 'A/4. 20589': 537, '349245': 538, '364512': 539, '36973': 540, 'A/5. 851': 541, 'A/5 21174': 542, '341826': 543, '349204': 544, '113789': 545, '35273': 546, '370377': 547, 'PC 17476': 548, '383121': 549, '237442': 550, '9234': 551, '113760': 552, 'PC 17609': 553, '239856': 554, '363294': 555, '4136': 556, '367231': 557, '29750': 558, '237736': 559, 'CA. 2343': 560, '234604': 561, '110564': 562, 'PC 17603': 563, 'C 7075': 564, '349253': 565, '2662': 566, 'STON/O 2. 3101293': 567, '2689': 568, '349201': 569, '28665': 570, '234686': 571, '330935': 572, 'A./5. 2152': 573, '19928': 574, 'PC 17612': 575, '350042': 576, '33638': 577, '3474': 578, 'PC 17592': 579, '13568': 580, '27042': 581, '28134': 582, '250655': 583, '248727': 584, '250643': 585, '347061': 586, 'A.5. 11206': 587, '36947': 588, '345781': 589, '7546': 590, '371060': 591, '350036': 592, '36568': 593, '244367': 594, 'PP 4348': 595, '345783': 596, 'SOTON/O.Q. 3101306': 597, '367228': 598, '111369': 599, '13507': 600, '244310': 601, '236171': 602, '373450': 603, '3101278': 604, '3101298': 605, 'A/4 48871': 606, '2659': 607, '8475': 608, '112058': 609, 'PC 17582': 610, '350034': 611, 'STON/O2. 3101271': 612, '315096': 613, '14312': 614, '19972': 615, '347080': 616, '350050': 617, '113792': 618, '363592': 619, '237789': 620, '236853': 621, 'S.P. 3464': 622, 'PC 17754': 623, 'A/5 3540': 624, '248731': 625, '330931': 626, '6563': 627, '343120': 628, '250646': 629, '13502': 630, 'WE/P 5735': 631, '330958': 632, '315082': 633, 'SOTON/OQ 392086': 634, 'S.O.P. 1166': 635, '112052': 636, 'PC 17485': 637, '250651': 638, 'F.C. 12750': 639, '330923': 640, '2651': 641, '349252': 642, '347069': 643, '2620': 644, '349210': 645, '36967': 646, 'PC 17569': 647, '19947': 648, 'STON/O2. 3101283': 649, '2003': 650, '349231': 651, '243847': 652, '234818': 653, 'PC 17597': 654, '371362': 655, '11751': 656, '2647': 657, 'SC/AH 3085': 658, '693': 659, 'PC 17758': 660, 'S.O./P.P. 3': 661, '113055': 662, '211536': 663, '2678': 664, '11767': 665, '364506': 666, '392092': 667, 'PC 17590': 668, '2677': 669, '349207': 670, '35851': 671, '347068': 672, 'PC 17755': 673, '36209': 674, '3101296': 675, '228414': 676, '350406': 677, 'PC 17596': 678, 'SC/PARIS 2146': 679, '29108': 680}, 'Fare': {15.5: 0, 133.65: 1, 8.5167: 2, 29.125: 3, 10.4625: 4, 7.0458: 5, 9.475: 6, 11.1333: 7, 0.0: 8, 7.7333: 9, 73.5: 10, 77.2875: 11, 15.9: 12, 11.5: 13, 8.6833: 14, 41.5792: 15, 9.5: 16, 8.4042: 17, 14.4542: 18, 14.4583: 19, 8.85: 20, 38.5: 21, 27.7208: 22, 91.0792: 23, 4.0125: 24, 46.9: 25, 20.2125: 26, 7.8292: 27, 39.6875: 28, 6.975: 29, 13.7917: 30, 49.5042: 31, 15.1: 32, 34.6542: 33, 57.9792: 34, 151.55: 35, 7.7875: 36, 69.3: 37, 7.5208: 38, 31.275: 39, 14.1083: 40, 31.3875: 41, 7.65: 42, 29.0: 43, 7.775: 44, 7.2292: 45, 83.475: 46, 512.3292: 47, 18.75: 48, 8.7125: 49, 262.375: 50, 76.7292: 51, 23.25: 52, 11.2417: 53, 6.4375: 54, 13.8583: 55, 35.0: 56, 13.8625: 57, 15.2458: 58, 23.45: 59, 18.0: 60, 63.3583: 61, 7.1417: 62, 16.1: 63, 80.0: 64, 30.6958: 65, 7.25: 66, 120.0: 67, 16.7: 68, 26.55: 69, 6.8583: 70, 29.7: 71, 33.5: 72, 227.525: 73, 22.525: 74, 40.125: 75, 78.85: 76, 39.0: 77, 12.275: 78, 20.575: 79, 26.2833: 80, 9.35: 81, 61.3792: 82, 20.525: 83, 12.875: 84, 49.5: 85, 51.4792: 86, 7.7292: 87, 211.3375: 88, 8.6542: 89, 9.8375: 90, 86.5: 91, 15.55: 92, 55.4417: 93, 26.2875: 94, 106.425: 95, 7.0542: 96, 26.3875: 97, 25.5875: 98, 15.75: 99, 15.7417: 100, 7.6292: 101, 35.5: 102, 6.45: 103, 8.1375: 104, 27.75: 105, 211.5: 106, 7.7417: 107, 77.9583: 108, 7.225: 109, 27.9: 110, 12.2875: 111, 9.225: 112, 76.2917: 113, 7.4958: 114, 113.275: 115, 30.5: 116, 19.2583: 117, 23.0: 118, 75.25: 119, 50.0: 120, 78.2667: 121, 36.75: 122, 12.525: 123, 83.1583: 124, 12.475: 125, 14.5: 126, 8.05: 127, 10.5167: 128, 71.0: 129, 59.4: 130, 21.075: 131, 32.5: 132, 31.0: 133, 69.55: 134, 7.125: 135, 108.9: 136, 82.1708: 137, 34.0208: 138, 21.0: 139, 13.5: 140, 7.7375: 141, 20.25: 142, 14.0: 143, 6.4958: 144, 6.95: 145, 9.8458: 146, 8.1583: 147, 22.025: 148, 7.8792: 149, 9.4833: 150, 25.4667: 151, 51.8625: 152, 9.825: 153, 56.9292: 154, 89.1042: 155, 247.5208: 156, 153.4625: 157, 61.175: 158, 12.65: 159, 14.4: 160, 28.7125: 161, 37.0042: 162, 8.0292: 163, 15.0458: 164, 24.15: 165, 39.4: 166, 26.25: 167, 7.05: 168, 6.75: 169, 28.5: 170, 6.2375: 171, 81.8583: 172, 57.0: 173, 19.5: 174, 25.9292: 175, 8.4583: 176, 135.6333: 177, 7.875: 178, 13.4167: 179, 7.8: 180, 7.725: 181, 8.4333: 182, 71.2833: 183, 79.2: 184, 8.1125: 185, 9.2167: 186, 12.35: 187, 27.0: 188, 263.0: 189, 22.3583: 190, 7.55: 191, 30.0: 192, 7.8542: 193, 13.0: 194, 8.6625: 195, 164.8667: 196, 7.8875: 197, 17.8: 198, 25.925: 199, 56.4958: 200, 15.05: 201, 66.6: 202, 93.5: 203, 19.9667: 204, 33.0: 205, 50.4958: 206, 146.5208: 207, 7.3125: 208, 221.7792: 209, 7.75: 210, 55.9: 211, 52.0: 212, 52.5542: 213, 17.4: 214, 53.1: 215, 24.0: 216, 15.0: 217, 32.3208: 218, 8.3625: 219, 5.0: 220, 34.375: 221, 30.0708: 222, 61.9792: 223, 79.65: 224, 39.6: 225, 8.3: 226, 10.5: 227, 7.7958: 228, 9.8417: 229, 10.1708: 230, 55.0: 231, 7.8958: 232, 21.6792: 233, 26.0: 234, 9.0: 235, 15.85: 236, 65.0: 237, 16.0: 238, 134.5: 239, 12.0: 240, 18.7875: 241, 42.4: 242, 47.1: 243, 7.925: 244, 90.0: 245, 9.5875: 246, 110.8833: 247}, 'Cabin': {'A23': 0, 'B79': 1, 'E44': 2, 'F E69': 3, 'D28': 4, 'C78': 5, 'C95': 6, 'F G73': 7, 'B58 B60': 8, 'D7': 9, 'C128': 10, 'B39': 11, 'B22': 12, 'C110': 13, 'D21': 14, 'F2': 15, 'B30': 16, 'C104': 17, 'B50': 18, 'A6': 19, 'E31': 20, 'C90': 21, 'D45': 22, 'C45': 23, 'C65': 24, 'C22 C26': 25, 'A19': 26, 'B51 B53 B55': 27, 'E33': 28, 'A16': 29, 'B4': 30, 'B96 B98': 31, 'E10': 32, 'C82': 33, 'D20': 34, 'E77': 35, 'B38': 36, 'E8': 37, 'A32': 38, 'C87': 39, 'B20': 40, 'E50': 41, 'B80': 42, 'D48': 43, 'E49': 44, None: 45, 'T': 46, 'A36': 47, 'C123': 48, 'D37': 49, 'C83': 50, 'C62 C64': 51, 'C103': 52, 'D35': 53, 'C111': 54, 'F G63': 55, 'C126': 56, 'D15': 57, 'B18': 58, 'C54': 59, 'E121': 60, 'D46': 61, 'B19': 62, 'C68': 63, 'C50': 64, 'C93': 65, 'E36': 66, 'D': 67, 'E46': 68, 'C124': 69, 'C30': 70, 'E101': 71, 'A26': 72, 'G6': 73, 'C85': 74, 'B3': 75, 'D47': 76, 'B28': 77, 'B71': 78, 'A31': 79, 'E67': 80, 'C148': 81, 'A10': 82, 'D30': 83, 'D19': 84, 'B37': 85, 'E25': 86, 'C86': 87, 'A20': 88, 'E40': 89, 'D17': 90, 'C52': 91, 'C91': 92, 'B77': 93, 'B86': 94, 'D33': 95, 'B94': 96, 'D10 D12': 97, 'D49': 98, 'C23 C25 C27': 99, 'D9': 100, 'F4': 101, 'B102': 102, 'F33': 103, 'B5': 104, 'E24': 105, 'E63': 106, 'A14': 107, 'A24': 108, 'C92': 109, 'A7': 110, 'D36': 111, 'C46': 112, 'E34': 113, 'E12': 114, 'D50': 115, 'B101': 116, 'C99': 117, 'E38': 118, 'C47': 119, 'D26': 120, 'C125': 121, 'F38': 122, 'A5': 123, 'C32': 124, 'C2': 125, 'B73': 126, 'C7': 127, 'B57 B59 B63 B66': 128, 'B69': 129, 'E17': 130, 'B35': 131, 'B49': 132, 'D11': 133, 'D6': 134, 'C70': 135, 'C106': 136, 'C101': 137, 'B78': 138, 'C118': 139, 'C49': 140, 'E68': 141, 'D56': 142, 'E58': 143, 'B42': 144, 'A34': 145, 'B82 B84': 146, 'B41': 147}, 'Embarked': {'Q': 0, None: 1, 'C': 2, 'S': 3}}\n"
     ]
    }
   ],
   "source": [
    "# feature vector that we will multiply the weights to\n",
    "print(cat_dictionary)"
   ]
  },
  {
   "cell_type": "code",
   "execution_count": 29,
   "id": "140b4a35",
   "metadata": {},
   "outputs": [
    {
     "data": {
      "text/plain": [
       "0"
      ]
     },
     "execution_count": 29,
     "metadata": {},
     "output_type": "execute_result"
    }
   ],
   "source": [
    "cat_dictionary['Survived'][1]"
   ]
  },
  {
   "cell_type": "code",
   "execution_count": 34,
   "id": "5bc367df",
   "metadata": {},
   "outputs": [],
   "source": [
    "def dataPrep(r):\n",
    "    key = 0\n",
    "    value = []\n",
    "    for c in columns:\n",
    "        if c == 'Survived':\n",
    "            key = cat_dictionary[c][r[columns.index(c)]]\n",
    "        else:\n",
    "            if c in cat_columns:\n",
    "                value.append(cat_dictionary[c][r[columns.index(c)]])\n",
    "            else:\n",
    "                value.append(r[columns.index(c)])\n",
    "    return LabeledPoint(key, value)"
   ]
  },
  {
   "cell_type": "code",
   "execution_count": 35,
   "id": "bc697105",
   "metadata": {},
   "outputs": [
    {
     "data": {
      "text/plain": [
       "[LabeledPoint(1.0, [200.0,1.0,614.0,1.0,48.0,0.0,6.0,335.0,66.0,45.0,3.0]),\n",
       " LabeledPoint(0.0, [797.0,0.0,353.0,0.0,64.0,0.0,6.0,165.0,183.0,74.0,2.0]),\n",
       " LabeledPoint(0.0, [235.0,1.0,365.0,0.0,81.0,6.0,6.0,198.0,244.0,45.0,3.0]),\n",
       " LabeledPoint(0.0, [451.0,0.0,764.0,0.0,12.0,0.0,6.0,289.0,215.0,48.0,3.0]),\n",
       " LabeledPoint(1.0, [293.0,1.0,670.0,1.0,12.0,6.0,6.0,603.0,127.0,45.0,3.0])]"
      ]
     },
     "execution_count": 35,
     "metadata": {},
     "output_type": "execute_result"
    }
   ],
   "source": [
    "# values of each feature for each row\n",
    "df_clean = df.rdd.map(dataPrep)\n",
    "df_clean.take(5)"
   ]
  },
  {
   "cell_type": "code",
   "execution_count": 36,
   "id": "69e5098d",
   "metadata": {},
   "outputs": [
    {
     "data": {
      "text/plain": [
       "1"
      ]
     },
     "execution_count": 36,
     "metadata": {},
     "output_type": "execute_result"
    }
   ],
   "source": [
    "columns.index(\"Survived\")"
   ]
  },
  {
   "cell_type": "code",
   "execution_count": 37,
   "id": "9bc3d62b",
   "metadata": {},
   "outputs": [],
   "source": [
    "# Split data for training set and testing set (in reality you want 3, training, testing, and validating)\n",
    "df_svm = df_clean.randomSplit([0.8, 0.2], 1234)"
   ]
  },
  {
   "cell_type": "code",
   "execution_count": 38,
   "id": "9a49d2e9",
   "metadata": {},
   "outputs": [
    {
     "name": "stdout",
     "output_type": "stream",
     "text": [
      "891\n",
      "710\n",
      "181\n"
     ]
    }
   ],
   "source": [
    "print(df_clean.count())\n",
    "print(df_svm[0].count())\n",
    "print(df_svm[1].count())"
   ]
  },
  {
   "cell_type": "code",
   "execution_count": 39,
   "id": "6644636f",
   "metadata": {},
   "outputs": [],
   "source": [
    "svm_titanic = SVMWithSGD.train(df_svm[0], iterations=200)"
   ]
  },
  {
   "cell_type": "code",
   "execution_count": 41,
   "id": "90f5730e",
   "metadata": {},
   "outputs": [
    {
     "data": {
      "text/plain": [
       "0"
      ]
     },
     "execution_count": 41,
     "metadata": {},
     "output_type": "execute_result"
    }
   ],
   "source": [
    "svm_titanic.predict([200.0,1.0,614.0,1.0,48.0,0.0,6.0,335.0,66.0,45.0,3.0])"
   ]
  },
  {
   "cell_type": "code",
   "execution_count": 44,
   "id": "35709be3",
   "metadata": {},
   "outputs": [],
   "source": [
    "def testPrediction(p):\n",
    "    prediction = svm_titanic.predict(p.features)\n",
    "    if prediction == p.label:\n",
    "        return (\"correct\", 1)\n",
    "    else:\n",
    "        return (\"incorrect\", 1)"
   ]
  },
  {
   "cell_type": "code",
   "execution_count": 45,
   "id": "afeb484d",
   "metadata": {},
   "outputs": [
    {
     "data": {
      "text/plain": [
       "[('correct', 76), ('incorrect', 105)]"
      ]
     },
     "execution_count": 45,
     "metadata": {},
     "output_type": "execute_result"
    }
   ],
   "source": [
    "df_results = df_svm[1].map(testPrediction).reduceByKey(lambda x, y: x + y)\n",
    "df_results.collect()"
   ]
  },
  {
   "cell_type": "code",
   "execution_count": 47,
   "id": "8f9389c8",
   "metadata": {},
   "outputs": [
    {
     "data": {
      "text/plain": [
       "0.7238095238095238"
      ]
     },
     "execution_count": 47,
     "metadata": {},
     "output_type": "execute_result"
    }
   ],
   "source": [
    "76/105"
   ]
  },
  {
   "cell_type": "code",
   "execution_count": 48,
   "id": "3e4a3286",
   "metadata": {},
   "outputs": [
    {
     "data": {
      "text/plain": [
       "[LabeledPoint(1.0, [319.0,1.0,763.0,1.0,79.0,6.0,6.0,275.0,210.0,45.0,0.0]),\n",
       " LabeledPoint(1.0, [809.0,1.0,444.0,0.0,77.0,6.0,6.0,48.0,20.0,45.0,3.0]),\n",
       " LabeledPoint(1.0, [37.0,2.0,687.0,1.0,5.0,0.0,6.0,230.0,22.0,45.0,2.0]),\n",
       " LabeledPoint(1.0, [474.0,1.0,459.0,1.0,74.0,6.0,6.0,433.0,232.0,45.0,3.0]),\n",
       " LabeledPoint(1.0, [77.0,1.0,153.0,1.0,13.0,0.0,5.0,268.0,59.0,45.0,3.0]),\n",
       " LabeledPoint(0.0, [28.0,1.0,418.0,1.0,27.0,6.0,0.0,298.0,2.0,45.0,2.0]),\n",
       " LabeledPoint(0.0, [662.0,0.0,669.0,0.0,47.0,6.0,6.0,124.0,175.0,90.0,3.0])]"
      ]
     },
     "execution_count": 48,
     "metadata": {},
     "output_type": "execute_result"
    }
   ],
   "source": [
    "df_svm[0].sample(False, 0.01).collect()"
   ]
  },
  {
   "cell_type": "code",
   "execution_count": null,
   "id": "6b161cd1",
   "metadata": {},
   "outputs": [],
   "source": [
    "sc.stop()"
   ]
  }
 ],
 "metadata": {
  "kernelspec": {
   "display_name": "Python 3",
   "language": "python",
   "name": "python3"
  },
  "language_info": {
   "codemirror_mode": {
    "name": "ipython",
    "version": 3
   },
   "file_extension": ".py",
   "mimetype": "text/x-python",
   "name": "python",
   "nbconvert_exporter": "python",
   "pygments_lexer": "ipython3",
   "version": "3.6.9"
  }
 },
 "nbformat": 4,
 "nbformat_minor": 5
}
