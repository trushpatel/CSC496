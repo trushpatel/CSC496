{
 "cells": [
  {
   "cell_type": "code",
   "execution_count": 1,
   "metadata": {},
   "outputs": [],
   "source": [
    "import os\n",
    "import sys\n",
    "\n",
    "spark_path = os.environ['SPARK_HOME']\n",
    "sys.path.append(spark_path + \"/bin\")\n",
    "sys.path.append(spark_path + \"/python\")\n",
    "sys.path.append(spark_path + \"/python/pyspark/\")\n",
    "sys.path.append(spark_path + \"/python/lib\")\n",
    "sys.path.append(spark_path + \"/python/lib/pyspark.zip\")\n",
    "sys.path.append(spark_path + \"/python/lib/py4j-0.10.9-src.zip\")\n",
    "\n",
    "import findspark\n",
    "findspark.init()\n",
    "\n",
    "import pyspark"
   ]
  },
  {
   "cell_type": "code",
   "execution_count": 2,
   "metadata": {},
   "outputs": [],
   "source": [
    "number_cores = 8\n",
    "memory_gb = 24\n",
    "conf = (pyspark.SparkConf().setMaster('local[{}]'.format(number_cores)).set('spark.driver.memory', '{}g'.format(memory_gb)))\n",
    "sc = pyspark.SparkContext(conf=conf)"
   ]
  },
  {
   "cell_type": "code",
   "execution_count": 3,
   "metadata": {},
   "outputs": [
    {
     "name": "stdout",
     "output_type": "stream",
     "text": [
      "ls: cannot access '../data/yelp/': No such file or directory\r\n"
     ]
    }
   ],
   "source": [
    "!ls -lh ../data/yelp/"
   ]
  },
  {
   "cell_type": "markdown",
   "metadata": {},
   "source": [
    "### Identify 100 users with highest number of ratings/fans.  \n",
    "\n",
    "- User dataset\n",
    "- You can decide/justify this ranking and decide the importance of ratings/fans. \n",
    "- Focusing on fans is better. \n"
   ]
  },
  {
   "cell_type": "markdown",
   "metadata": {},
   "source": [
    "#### Step 1: \n",
    "- Load the data:\n",
    "  - We can use SQL: SQlContext"
   ]
  },
  {
   "cell_type": "code",
   "execution_count": 4,
   "metadata": {},
   "outputs": [],
   "source": [
    "# import SQLContext and create a sqlContext\n",
    "from pyspark.sql import SQLContext\n",
    "sqlContext = SQLContext(sc)"
   ]
  },
  {
   "cell_type": "code",
   "execution_count": 5,
   "metadata": {},
   "outputs": [],
   "source": [
    "# get SQL table\n",
    "#df_json = sqlContext.read.json(\"../data/yelp/yelp_academic_dataset_user.json.gz\")"
   ]
  },
  {
   "cell_type": "code",
   "execution_count": 6,
   "metadata": {
    "scrolled": true
   },
   "outputs": [
    {
     "ename": "NameError",
     "evalue": "name 'df_json' is not defined",
     "output_type": "error",
     "traceback": [
      "\u001b[0;31m---------------------------------------------------------------------------\u001b[0m",
      "\u001b[0;31mNameError\u001b[0m                                 Traceback (most recent call last)",
      "\u001b[0;32m<ipython-input-6-9a24efc32681>\u001b[0m in \u001b[0;36m<module>\u001b[0;34m\u001b[0m\n\u001b[0;32m----> 1\u001b[0;31m \u001b[0mdf_json\u001b[0m\u001b[0;34m.\u001b[0m\u001b[0mprintSchema\u001b[0m\u001b[0;34m(\u001b[0m\u001b[0;34m)\u001b[0m\u001b[0;34m\u001b[0m\u001b[0;34m\u001b[0m\u001b[0m\n\u001b[0m",
      "\u001b[0;31mNameError\u001b[0m: name 'df_json' is not defined"
     ]
    }
   ],
   "source": [
    "df_json.printSchema()"
   ]
  },
  {
   "cell_type": "code",
   "execution_count": null,
   "metadata": {},
   "outputs": [],
   "source": [
    "df_json.registerTempTable(\"tbl_json\")"
   ]
  },
  {
   "cell_type": "markdown",
   "metadata": {},
   "source": [
    "  - PySpark way"
   ]
  },
  {
   "cell_type": "code",
   "execution_count": null,
   "metadata": {},
   "outputs": [],
   "source": [
    "df_data = sc.textFile(\"../data/yelp/yelp_academic_dataset_user.json.gz\")\n",
    "print(df_data.count())\n",
    "df_data.take(1)"
   ]
  },
  {
   "cell_type": "markdown",
   "metadata": {},
   "source": [
    "#### Step 2:\n",
    "  - Get the information using SQL Statement"
   ]
  },
  {
   "cell_type": "code",
   "execution_count": null,
   "metadata": {},
   "outputs": [],
   "source": [
    "df_json.printSchema()"
   ]
  },
  {
   "cell_type": "code",
   "execution_count": null,
   "metadata": {},
   "outputs": [],
   "source": [
    "# 100 users with highest number of ratings/fans.\n",
    "highest_fan = sqlContext.sql(\"SELECT user_id, review_count, fans FROM tbl_json ORDER BY fans DESC LIMIT 100\")"
   ]
  },
  {
   "cell_type": "code",
   "execution_count": null,
   "metadata": {},
   "outputs": [],
   "source": [
    "highest_fan.show()"
   ]
  },
  {
   "cell_type": "markdown",
   "metadata": {},
   "source": [
    "  - Get the information using PySpark Statement"
   ]
  },
  {
   "cell_type": "code",
   "execution_count": null,
   "metadata": {},
   "outputs": [],
   "source": [
    "df_data.take(1)"
   ]
  },
  {
   "cell_type": "code",
   "execution_count": null,
   "metadata": {},
   "outputs": [],
   "source": [
    "import json\n",
    "\n",
    "df_top_users1 = df_data.map(lambda x: json.loads(x)).map(lambda x: (x[\"user_id\"], x[\"review_count\"], x[\"fans\"]))\n",
    "df_top_users1.take(1)"
   ]
  },
  {
   "cell_type": "code",
   "execution_count": null,
   "metadata": {},
   "outputs": [],
   "source": [
    "def extract_user(x):\n",
    "    x_json = json.loads(x)\n",
    "    return (x_json[\"user_id\"], x_json[\"review_count\"], x_json[\"fans\"])\n",
    "\n",
    "tmp = df_data.take(1)\n",
    "extract_user(tmp[0])"
   ]
  },
  {
   "cell_type": "code",
   "execution_count": null,
   "metadata": {
    "scrolled": true
   },
   "outputs": [],
   "source": [
    "df_top_users2 = df_data.map(extract_user).takeOrdered(100, lambda x: -x[2])\n",
    "df_top_users2"
   ]
  },
  {
   "cell_type": "code",
   "execution_count": null,
   "metadata": {},
   "outputs": [],
   "source": [
    "highest_fan.show()"
   ]
  },
  {
   "cell_type": "markdown",
   "metadata": {},
   "source": [
    "### Extract the reviews of these users and combine it with the business information. \n",
    "\n",
    "\n",
    "- Are they continental, regional, or local eaters? \n",
    "    - Look at review data for business data, look at business data for location. \n",
    "    - A dataset exists, is posted on Discord. \n",
    "    - Second options: distance between furthest pair of restaurants, cluster into three. \n",
    "- Is there a preference in restaurant/food style of their reviews? \n",
    "    - How/Can we phrase this as a frequent items question?\n",
    "        - per user\n",
    "            - set of items: categories\n",
    "            - set of baskets: restaurants\n",
    "- Can you infer the locations of these users?\n",
    "    - pay attention to timing patterns of review"
   ]
  },
  {
   "cell_type": "markdown",
   "metadata": {},
   "source": [
    "#### How to prepare data to answer the questions?\n",
    "\n",
    "- List of users with highest fans (user_id, review_count, fans) - local \n",
    "- We need to map users to reviews"
   ]
  },
  {
   "cell_type": "code",
   "execution_count": null,
   "metadata": {},
   "outputs": [],
   "source": [
    "# in the review.json, they have user_id, so we \n",
    "# conditional statement in the parsedJson .. \n",
    "raw_review_df.filter(lambda x: json.loads(x)[\"user_id\"] in user_list)"
   ]
  },
  {
   "cell_type": "code",
   "execution_count": null,
   "metadata": {},
   "outputs": [],
   "source": [
    "raw_review_df = sc.textFile(\"../data/yelp/yelp_academic_dataset_review.json.gz\")\n",
    "print(raw_review_df.count())\n",
    "raw_review_df.take(1)"
   ]
  },
  {
   "cell_type": "code",
   "execution_count": null,
   "metadata": {},
   "outputs": [],
   "source": [
    "review = raw_review_df.take(1)\n",
    "json.loads(review[0])[\"user_id\"] in df_top_users"
   ]
  },
  {
   "cell_type": "code",
   "execution_count": null,
   "metadata": {},
   "outputs": [],
   "source": [
    "df_test = raw_review_df.map(lambda x: json.loads(x)[\"user_id\"])\n",
    "df_test.take(1)"
   ]
  },
  {
   "cell_type": "code",
   "execution_count": null,
   "metadata": {
    "scrolled": true
   },
   "outputs": [],
   "source": [
    "user_list = []\n",
    "for item in df_top_users:\n",
    "    user_list.append(item[0])\n",
    "user_list"
   ]
  },
  {
   "cell_type": "code",
   "execution_count": null,
   "metadata": {},
   "outputs": [],
   "source": [
    "'JjXuiru1_ONzDkYVrHN0aw' in user_list"
   ]
  },
  {
   "cell_type": "code",
   "execution_count": null,
   "metadata": {},
   "outputs": [],
   "source": [
    "df_user_reviews = raw_review_df.filter(lambda x: json.loads(x)[\"user_id\"] in user_list)\n",
    "print(df_user_reviews.count())\n",
    "df_user_reviews.take(1)"
   ]
  },
  {
   "cell_type": "code",
   "execution_count": null,
   "metadata": {},
   "outputs": [],
   "source": [
    "sum = 0\n",
    "for item in df_top_users:\n",
    "    sum = sum + int(item[1])\n",
    "sum"
   ]
  },
  {
   "cell_type": "markdown",
   "metadata": {},
   "source": [
    "At this point, what data do we have?\n",
    "\n",
    "- user_id, reviews, fans\n",
    "- review raw data for top users (complete)\n",
    "\n",
    "What else do we need to answer:\n",
    "- Are they continental, regional, or local eaters?\n",
    "\n",
    "- business_id: get it from review data for top users ."
   ]
  },
  {
   "cell_type": "code",
   "execution_count": null,
   "metadata": {},
   "outputs": [],
   "source": [
    "raw_business_df = sc.textFile(\"../data/yelp/yelp_academic_dataset_business.json.gz\")\n",
    "print(raw_business_df.count())\n",
    "raw_business_df.take(1)"
   ]
  },
  {
   "cell_type": "code",
   "execution_count": null,
   "metadata": {},
   "outputs": [],
   "source": [
    "df_business = df_user_reviews.map(lambda x: json.loads(x)[\"business_id\"])\n",
    "df_business.count()"
   ]
  },
  {
   "cell_type": "code",
   "execution_count": null,
   "metadata": {},
   "outputs": [],
   "source": [
    "df_business.distinct().count()"
   ]
  },
  {
   "cell_type": "code",
   "execution_count": null,
   "metadata": {},
   "outputs": [],
   "source": [
    "df_business.take(2)"
   ]
  },
  {
   "cell_type": "code",
   "execution_count": null,
   "metadata": {},
   "outputs": [],
   "source": [
    "df_unique_business = df_business.distinct().collect()"
   ]
  },
  {
   "cell_type": "code",
   "execution_count": null,
   "metadata": {},
   "outputs": [],
   "source": [
    "# start by copy/pasting old code and we will modify. \n",
    "# do not run this cell!!!!!\n",
    "\n",
    "df_user_reviews = raw_review_df.filter(lambda x: json.loads(x)[\"user_id\"] in user_list)\n",
    "print(df_user_reviews.count())\n",
    "df_user_reviews.take(1)"
   ]
  },
  {
   "cell_type": "markdown",
   "metadata": {},
   "source": [
    "Two options:\n",
    "1. Grab complete businesses data for businesses in the list, extract lat/long later. \n",
    "2. Write function to extract lat/long from businesses in the list only. \n",
    "\n",
    "Which one?"
   ]
  },
  {
   "cell_type": "code",
   "execution_count": null,
   "metadata": {},
   "outputs": [],
   "source": [
    "df_unique_business[:10]"
   ]
  },
  {
   "cell_type": "code",
   "execution_count": null,
   "metadata": {},
   "outputs": [],
   "source": [
    "# option 1:\n",
    "df_user_businesses = raw_business_df.filter(lambda x: json.loads(x)[\"business_id\"] in df_unique_business)"
   ]
  },
  {
   "cell_type": "code",
   "execution_count": null,
   "metadata": {},
   "outputs": [],
   "source": [
    "print(df_user_businesses.count())\n",
    "df_user_businesses.take(1)"
   ]
  },
  {
   "cell_type": "code",
   "execution_count": null,
   "metadata": {},
   "outputs": [],
   "source": [
    "df_latlong = df_user_businesses.map(lambda x: (json.loads(x)[\"business_id\"],json.loads(x)[\"latitude\"],json.loads(x)[\"longitude\"]))\n",
    "print(df_latlong.count())\n",
    "df_latlong.take(2)"
   ]
  },
  {
   "cell_type": "markdown",
   "metadata": {},
   "source": [
    "\n",
    "On Spark cluster:\n",
    "- user_id, reviews, fans: 100 data items\n",
    "- review_id, user_id, business_id,...: 16937 items\n",
    "- business_id, lat, long: 11863 items\n",
    "\n",
    "How to bring them all together?\n",
    "1. Convert everything to SparkSQL, do SQL things\n",
    "2. Filter data down to smaller items, bring them all back to the notebook, do Python things"
   ]
  },
  {
   "cell_type": "markdown",
   "metadata": {},
   "source": [
    "### Identify one of your favorite restaurants that is available on Yelp. Search for all reviews and reviewers for this restaurants. \n",
    "\n",
    "- Is this restaurant frequented by non-local reviewers (how do you know)?\n",
    "- What are the positive things about this restaurant (study higher-rated reviews)\n",
    "- What are the negative things about this restaurant (study lower-rated reviews)"
   ]
  }
 ],
 "metadata": {
  "kernelspec": {
   "display_name": "Python 3",
   "language": "python",
   "name": "python3"
  },
  "language_info": {
   "codemirror_mode": {
    "name": "ipython",
    "version": 3
   },
   "file_extension": ".py",
   "mimetype": "text/x-python",
   "name": "python",
   "nbconvert_exporter": "python",
   "pygments_lexer": "ipython3",
   "version": "3.6.9"
  }
 },
 "nbformat": 4,
 "nbformat_minor": 4
}
