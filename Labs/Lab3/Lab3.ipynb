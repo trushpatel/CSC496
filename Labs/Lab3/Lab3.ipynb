{
 "cells": [
  {
   "cell_type": "code",
   "execution_count": 1,
   "id": "3bc2342e",
   "metadata": {},
   "outputs": [],
   "source": [
    "import os\n",
    "import sys\n",
    "spark_path = os.environ['SPARK_HOME']\n",
    "sys.path.append(spark_path + \"/bin\")\n",
    "sys.path.append(spark_path + \"/python\")\n",
    "sys.path.append(spark_path + \"/python/pyspark/\")\n",
    "sys.path.append(spark_path + \"/python/lib\")\n",
    "sys.path.append(spark_path + \"/python/lib/pyspark.zip\")\n",
    "sys.path.append(spark_path + \"/python/lib/py4j-0.10.9-src.zip\")\n",
    "\n",
    "import findspark\n",
    "findspark.init()\n",
    "import pyspark"
   ]
  },
  {
   "cell_type": "code",
   "execution_count": 2,
   "id": "476af424",
   "metadata": {},
   "outputs": [],
   "source": [
    "number_cores = 6\n",
    "memory_gb = 16\n",
    "conf = (pyspark.SparkConf().setMaster('local[{}]'.format(number_cores)).set('spark.driver.memory', '{}g'.format(memory_gb)))\n",
    "sc = pyspark.SparkContext(conf=conf)"
   ]
  },
  {
   "cell_type": "code",
   "execution_count": 3,
   "id": "3d388d67",
   "metadata": {},
   "outputs": [
    {
     "name": "stdout",
     "output_type": "stream",
     "text": [
      "data  Lab3.ipynb\r\n"
     ]
    }
   ],
   "source": [
    "!dir /users/trush/CSC496/Labs/Lab3"
   ]
  },
  {
   "cell_type": "markdown",
   "id": "94dad922",
   "metadata": {},
   "source": [
    "## How do you parse JSON?"
   ]
  },
  {
   "cell_type": "code",
   "execution_count": 36,
   "id": "fa46dfac",
   "metadata": {},
   "outputs": [
    {
     "data": {
      "text/plain": [
       "{'user_id': 'ntlvfPzc8eglqvk92iDIAw',\n",
       " 'name': 'Rafael',\n",
       " 'review_count': 553,\n",
       " 'yelping_since': '2007-07-06 03:27:11',\n",
       " 'useful': 628,\n",
       " 'funny': 225,\n",
       " 'cool': 227,\n",
       " 'elite': '',\n",
       " 'friends': 'oeMvJh94PiGQnx_6GlndPQ, wm1z1PaJKvHgSDRKfwhfDg, IkRib6Xs91PPW7pon7VVig, A8Aq8f0-XvLBcyMk2GJdJQ, eEZM1kogR7eL4GOBZyPvBA, e1o1LN7ez5ckCpQeAab4iw, _HrJVzFaRFUhPva8cwBjpQ, pZeGZGzX-ROT_D5lam5uNg, 0S6EI51ej5J7dgYz3-O0lA, woDt8raW-AorxQM_tIE2eA, hWUnSE5gKXNe7bDc8uAG9A, c_3LDSO2RHwZ94_Q6j_O7w, -uv1wDiaplY6eXXS0VwQiA, QFjqxXn3acDC7hckFGUKMg, ErOqapICmHPTN8YobZIcfQ, mJLRvqLOKhqEdkgt9iEaCQ, VKX7jlScJSA-ja5hYRw12Q, ijIC9w5PRcj3dWVlanjZeg, CIZGlEw-Bp0rmkP8M6yQ9Q, OC6fT5WZ8EU7tEVJ3bzPBQ, UZSDGTDpycDzrlfUlyw2dQ, deL6e_z9xqZTIODKqnvRXQ, 5mG2ENw2PylIWElqHSMGqg, Uh5Kug2fvDd51RYmsNZkGg, 4dI4uoShugD9z84fYupelQ, EQpFHqGT9Tk6YSwORTtwpg, o4EGL2-ICGmRJzJ3GxB-vw, s8gK7sdVzJcYKcPv2dkZXw, vOYVZgb_GVe-kdtjQwSUHw, wBbjgHsrKr7BsPBrQwJf2w, p59u2EC_qcmCmLeX1jCi5Q, VSAZI1eHDrOPRWMK4Q2DIQ, efMfeI_dkhpeGykaRJqxfQ, x6qYcQ8_i0mMDzSLsFCbZg, K_zSmtNGw1fu-vmxyTVfCQ, 5IM6YPQCK-NABkXmHhlRGQ, U_w8ZMD26vnkeeS1sD7s4Q, AbfS_oXF8H6HJb5jFqhrLw, hbcjX4_D4KIfonNnwrH-cg, UKf66_MPz0zHCP70mF6p1g, hK2gYbxZRTqcqlSiQQcrtQ, 2Q45w_Twx_T9dXqlE16xtQ, BwRn8qcKSeA77HLaOTbfiQ, jouOn4VS_DtFPtMR2w8VDA, ESteyJabbfvqas6CEDs3pQ',\n",
       " 'fans': 14,\n",
       " 'average_stars': 3.57,\n",
       " 'compliment_hot': 3,\n",
       " 'compliment_more': 2,\n",
       " 'compliment_profile': 1,\n",
       " 'compliment_cute': 0,\n",
       " 'compliment_list': 1,\n",
       " 'compliment_note': 11,\n",
       " 'compliment_plain': 15,\n",
       " 'compliment_cool': 22,\n",
       " 'compliment_funny': 22,\n",
       " 'compliment_writer': 10,\n",
       " 'compliment_photos': 0}"
      ]
     },
     "execution_count": 36,
     "metadata": {},
     "output_type": "execute_result"
    }
   ],
   "source": [
    "import json\n",
    "\n",
    "def parseJSON(t):\n",
    "    res = json.loads(t)\n",
    "    return res\n",
    "\n",
    "test = '{\"user_id\":\"ntlvfPzc8eglqvk92iDIAw\",\"name\":\"Rafael\",\"review_count\":553,\"yelping_since\":\"2007-07-06 03:27:11\",\"useful\":628,\"funny\":225,\"cool\":227,\"elite\":\"\",\"friends\":\"oeMvJh94PiGQnx_6GlndPQ, wm1z1PaJKvHgSDRKfwhfDg, IkRib6Xs91PPW7pon7VVig, A8Aq8f0-XvLBcyMk2GJdJQ, eEZM1kogR7eL4GOBZyPvBA, e1o1LN7ez5ckCpQeAab4iw, _HrJVzFaRFUhPva8cwBjpQ, pZeGZGzX-ROT_D5lam5uNg, 0S6EI51ej5J7dgYz3-O0lA, woDt8raW-AorxQM_tIE2eA, hWUnSE5gKXNe7bDc8uAG9A, c_3LDSO2RHwZ94_Q6j_O7w, -uv1wDiaplY6eXXS0VwQiA, QFjqxXn3acDC7hckFGUKMg, ErOqapICmHPTN8YobZIcfQ, mJLRvqLOKhqEdkgt9iEaCQ, VKX7jlScJSA-ja5hYRw12Q, ijIC9w5PRcj3dWVlanjZeg, CIZGlEw-Bp0rmkP8M6yQ9Q, OC6fT5WZ8EU7tEVJ3bzPBQ, UZSDGTDpycDzrlfUlyw2dQ, deL6e_z9xqZTIODKqnvRXQ, 5mG2ENw2PylIWElqHSMGqg, Uh5Kug2fvDd51RYmsNZkGg, 4dI4uoShugD9z84fYupelQ, EQpFHqGT9Tk6YSwORTtwpg, o4EGL2-ICGmRJzJ3GxB-vw, s8gK7sdVzJcYKcPv2dkZXw, vOYVZgb_GVe-kdtjQwSUHw, wBbjgHsrKr7BsPBrQwJf2w, p59u2EC_qcmCmLeX1jCi5Q, VSAZI1eHDrOPRWMK4Q2DIQ, efMfeI_dkhpeGykaRJqxfQ, x6qYcQ8_i0mMDzSLsFCbZg, K_zSmtNGw1fu-vmxyTVfCQ, 5IM6YPQCK-NABkXmHhlRGQ, U_w8ZMD26vnkeeS1sD7s4Q, AbfS_oXF8H6HJb5jFqhrLw, hbcjX4_D4KIfonNnwrH-cg, UKf66_MPz0zHCP70mF6p1g, hK2gYbxZRTqcqlSiQQcrtQ, 2Q45w_Twx_T9dXqlE16xtQ, BwRn8qcKSeA77HLaOTbfiQ, jouOn4VS_DtFPtMR2w8VDA, ESteyJabbfvqas6CEDs3pQ\",\"fans\":14,\"average_stars\":3.57,\"compliment_hot\":3,\"compliment_more\":2,\"compliment_profile\":1,\"compliment_cute\":0,\"compliment_list\":1,\"compliment_note\":11,\"compliment_plain\":15,\"compliment_cool\":22,\"compliment_funny\":22,\"compliment_writer\":10,\"compliment_photos\":0}'\n",
    "parseJSON(test)"
   ]
  },
  {
   "cell_type": "code",
   "execution_count": 5,
   "id": "cc56544a",
   "metadata": {},
   "outputs": [
    {
     "data": {
      "text/plain": [
       "['{\"user_id\":\"ntlvfPzc8eglqvk92iDIAw\",\"name\":\"Rafael\",\"review_count\":553,\"yelping_since\":\"2007-07-06 03:27:11\",\"useful\":628,\"funny\":225,\"cool\":227,\"elite\":\"\",\"friends\":\"oeMvJh94PiGQnx_6GlndPQ, wm1z1PaJKvHgSDRKfwhfDg, IkRib6Xs91PPW7pon7VVig, A8Aq8f0-XvLBcyMk2GJdJQ, eEZM1kogR7eL4GOBZyPvBA, e1o1LN7ez5ckCpQeAab4iw, _HrJVzFaRFUhPva8cwBjpQ, pZeGZGzX-ROT_D5lam5uNg, 0S6EI51ej5J7dgYz3-O0lA, woDt8raW-AorxQM_tIE2eA, hWUnSE5gKXNe7bDc8uAG9A, c_3LDSO2RHwZ94_Q6j_O7w, -uv1wDiaplY6eXXS0VwQiA, QFjqxXn3acDC7hckFGUKMg, ErOqapICmHPTN8YobZIcfQ, mJLRvqLOKhqEdkgt9iEaCQ, VKX7jlScJSA-ja5hYRw12Q, ijIC9w5PRcj3dWVlanjZeg, CIZGlEw-Bp0rmkP8M6yQ9Q, OC6fT5WZ8EU7tEVJ3bzPBQ, UZSDGTDpycDzrlfUlyw2dQ, deL6e_z9xqZTIODKqnvRXQ, 5mG2ENw2PylIWElqHSMGqg, Uh5Kug2fvDd51RYmsNZkGg, 4dI4uoShugD9z84fYupelQ, EQpFHqGT9Tk6YSwORTtwpg, o4EGL2-ICGmRJzJ3GxB-vw, s8gK7sdVzJcYKcPv2dkZXw, vOYVZgb_GVe-kdtjQwSUHw, wBbjgHsrKr7BsPBrQwJf2w, p59u2EC_qcmCmLeX1jCi5Q, VSAZI1eHDrOPRWMK4Q2DIQ, efMfeI_dkhpeGykaRJqxfQ, x6qYcQ8_i0mMDzSLsFCbZg, K_zSmtNGw1fu-vmxyTVfCQ, 5IM6YPQCK-NABkXmHhlRGQ, U_w8ZMD26vnkeeS1sD7s4Q, AbfS_oXF8H6HJb5jFqhrLw, hbcjX4_D4KIfonNnwrH-cg, UKf66_MPz0zHCP70mF6p1g, hK2gYbxZRTqcqlSiQQcrtQ, 2Q45w_Twx_T9dXqlE16xtQ, BwRn8qcKSeA77HLaOTbfiQ, jouOn4VS_DtFPtMR2w8VDA, ESteyJabbfvqas6CEDs3pQ\",\"fans\":14,\"average_stars\":3.57,\"compliment_hot\":3,\"compliment_more\":2,\"compliment_profile\":1,\"compliment_cute\":0,\"compliment_list\":1,\"compliment_note\":11,\"compliment_plain\":15,\"compliment_cool\":22,\"compliment_funny\":22,\"compliment_writer\":10,\"compliment_photos\":0}']"
      ]
     },
     "execution_count": 5,
     "metadata": {},
     "output_type": "execute_result"
    }
   ],
   "source": [
    "graph_data = sc.textFile(\"/users/trush/CSC496/Labs/Lab3/data/yelp_small.json\")\n",
    "graph_data.take(1)"
   ]
  },
  {
   "cell_type": "markdown",
   "id": "372bb804",
   "metadata": {},
   "source": [
    "## Key points:\n",
    "Always try and make your data smaller. Cache often if possible."
   ]
  },
  {
   "cell_type": "markdown",
   "id": "2a3bd19d",
   "metadata": {},
   "source": [
    "### Hands-on:\n",
    "1. How do you apply pagerank on num_num?\n",
    "2. How do you link the answers back to the actual page of hollies.dat?"
   ]
  },
  {
   "cell_type": "code",
   "execution_count": 6,
   "id": "5b507704",
   "metadata": {},
   "outputs": [],
   "source": [
    "from pyspark.sql import SQLContext\n",
    "sqlContext = SQLContext(sc)"
   ]
  },
  {
   "cell_type": "code",
   "execution_count": 7,
   "id": "709104c4",
   "metadata": {},
   "outputs": [],
   "source": [
    "json_df = sqlContext.read.json(\"/users/trush/CSC496/Labs/Lab3/data/yelp_small.json\")"
   ]
  },
  {
   "cell_type": "code",
   "execution_count": 8,
   "id": "e0f37e72",
   "metadata": {},
   "outputs": [
    {
     "name": "stdout",
     "output_type": "stream",
     "text": [
      "CPU times: user 3.7 ms, sys: 0 ns, total: 3.7 ms\n",
      "Wall time: 932 ms\n"
     ]
    },
    {
     "data": {
      "text/plain": [
       "1000"
      ]
     },
     "execution_count": 8,
     "metadata": {},
     "output_type": "execute_result"
    }
   ],
   "source": [
    "%%time\n",
    "json_df.count()"
   ]
  },
  {
   "cell_type": "code",
   "execution_count": 9,
   "id": "ae288e2d",
   "metadata": {},
   "outputs": [
    {
     "name": "stdout",
     "output_type": "stream",
     "text": [
      "CPU times: user 3.44 ms, sys: 0 ns, total: 3.44 ms\n",
      "Wall time: 301 ms\n"
     ]
    },
    {
     "data": {
      "text/plain": [
       "1000"
      ]
     },
     "execution_count": 9,
     "metadata": {},
     "output_type": "execute_result"
    }
   ],
   "source": [
    "%%time\n",
    "json_df.count()"
   ]
  },
  {
   "cell_type": "code",
   "execution_count": 10,
   "id": "e44001b0",
   "metadata": {},
   "outputs": [
    {
     "name": "stdout",
     "output_type": "stream",
     "text": [
      "root\n",
      " |-- average_stars: double (nullable = true)\n",
      " |-- compliment_cool: long (nullable = true)\n",
      " |-- compliment_cute: long (nullable = true)\n",
      " |-- compliment_funny: long (nullable = true)\n",
      " |-- compliment_hot: long (nullable = true)\n",
      " |-- compliment_list: long (nullable = true)\n",
      " |-- compliment_more: long (nullable = true)\n",
      " |-- compliment_note: long (nullable = true)\n",
      " |-- compliment_photos: long (nullable = true)\n",
      " |-- compliment_plain: long (nullable = true)\n",
      " |-- compliment_profile: long (nullable = true)\n",
      " |-- compliment_writer: long (nullable = true)\n",
      " |-- cool: long (nullable = true)\n",
      " |-- elite: string (nullable = true)\n",
      " |-- fans: long (nullable = true)\n",
      " |-- friends: string (nullable = true)\n",
      " |-- funny: long (nullable = true)\n",
      " |-- name: string (nullable = true)\n",
      " |-- review_count: long (nullable = true)\n",
      " |-- useful: long (nullable = true)\n",
      " |-- user_id: string (nullable = true)\n",
      " |-- yelping_since: string (nullable = true)\n",
      "\n"
     ]
    }
   ],
   "source": [
    "json_df.printSchema()"
   ]
  },
  {
   "cell_type": "code",
   "execution_count": 11,
   "id": "4e00ba59",
   "metadata": {},
   "outputs": [],
   "source": [
    "json_df.registerTempTable(\"tbl_json\")"
   ]
  },
  {
   "cell_type": "markdown",
   "id": "0437ba11",
   "metadata": {},
   "source": [
    "## 1. How many unique users are there in the dataset?"
   ]
  },
  {
   "cell_type": "code",
   "execution_count": 40,
   "id": "7fb4b086",
   "metadata": {},
   "outputs": [
    {
     "data": {
      "text/plain": [
       "1000"
      ]
     },
     "execution_count": 40,
     "metadata": {},
     "output_type": "execute_result"
    }
   ],
   "source": [
    "# map with just user_id .distinct().count()\n",
    "users = graph_data.map(lambda x: parseJSONUser(x))\n",
    "users.take(5)\n",
    "users.distinct().count()\n",
    "#graph_data.countByKey()"
   ]
  },
  {
   "cell_type": "markdown",
   "id": "da661f30",
   "metadata": {},
   "source": [
    "There are 1000 unique users in the small dataset."
   ]
  },
  {
   "cell_type": "markdown",
   "id": "f4fad9c7",
   "metadata": {},
   "source": [
    "## 2. Identify the user(s) with the highest number of reviews. What is(are) the average/median review scores for these user(s)?"
   ]
  },
  {
   "cell_type": "code",
   "execution_count": 37,
   "id": "f12f5014",
   "metadata": {},
   "outputs": [],
   "source": [
    "def parseJSONUser(x):\n",
    "    res = json.loads(x)\n",
    "    return res['user_id']"
   ]
  },
  {
   "cell_type": "code",
   "execution_count": 58,
   "id": "b7262a19",
   "metadata": {},
   "outputs": [],
   "source": [
    "def parseJSONReviews(x):\n",
    "    res = json.loads(x)\n",
    "    return (res['user_id'], int(res['review_count']))"
   ]
  },
  {
   "cell_type": "code",
   "execution_count": 69,
   "id": "ccfbbd5a",
   "metadata": {},
   "outputs": [
    {
     "data": {
      "text/plain": [
       "[('8k3aO-mPeyhbR5HUucA5aA', 14455),\n",
       " ('hWDybu_KvYLSdEFzGrniTw', 12487),\n",
       " ('Hi10sGSZNxQH3NLyWSZ1oA', 11112),\n",
       " ('XYSDrIef7g4Gmp3lNFVO6A', 4828),\n",
       " ('CQUDh80m48xnzUkx-X5NAw', 4181),\n",
       " ('YttDgOC9AlM4HcAlDsbB2A', 3379),\n",
       " ('ITa3vh5ERI90G_WP4SmGUQ', 3079),\n",
       " ('PkNs-Rw6MHQfu6j5pBZMMw', 2978),\n",
       " ('ZIOCmdFaMIF56FR-nWr_2A', 2922),\n",
       " ('Ryxj0u0AW3mRsRypdYli2A', 2642)]"
      ]
     },
     "execution_count": 69,
     "metadata": {},
     "output_type": "execute_result"
    }
   ],
   "source": [
    "# map with user_id and review_count\n",
    "user_data = graph_data.map(lambda x: parseJSON(x))\n",
    "#user_data.take(1)\n",
    "# How many users to average/median (top 100?)?\n",
    "highest_num_reviews = graph_data.map(lambda x: parseJSONReviews(x)).sortBy(lambda x: (x[1]), ascending = False)\n",
    "highest_num_reviews.take(10)\n",
    "#highest_reviews = users.map(lambda x: x).sortBy((lambda x: ((int)(x[1]))), ascending = False)\n",
    "#highest_reviews.take(10)\n",
    "#avg_highest_reviews = highest_reviews.map(lambda x: ((int)(x[1])))\n",
    "#avg_highest_reviews.take(5)"
   ]
  },
  {
   "cell_type": "markdown",
   "id": "b7134765",
   "metadata": {},
   "source": [
    "The top 5 users with the highest number of reviews are 8k3aO-mPeyhbR5HUucA5aA with 14455 reviews, hWDybu_KvYLSdEFzGrniTw with 12487 reviews, Hi10sGSZNxQH3NLyWSZ1oA with 11112 reviews, XYSDrIef7g4Gmp3lNFVO6A with 4828 reviews, and CQUDh80m48xnzUkx-X5NAw with 4181 reviews."
   ]
  },
  {
   "cell_type": "markdown",
   "id": "62f60d73",
   "metadata": {},
   "source": [
    "## 3. Identify several (two or more) interesting user attributes and think of and carry out one interesting analysis. Interesting is relative, and you should use Markdown cell to describe why/how these are interesting!"
   ]
  },
  {
   "cell_type": "code",
   "execution_count": 68,
   "id": "64bc6ac5",
   "metadata": {},
   "outputs": [
    {
     "data": {
      "text/plain": [
       "[{'user_id': 'ntlvfPzc8eglqvk92iDIAw',\n",
       "  'name': 'Rafael',\n",
       "  'review_count': 553,\n",
       "  'yelping_since': '2007-07-06 03:27:11',\n",
       "  'useful': 628,\n",
       "  'funny': 225,\n",
       "  'cool': 227,\n",
       "  'elite': '',\n",
       "  'friends': 'oeMvJh94PiGQnx_6GlndPQ, wm1z1PaJKvHgSDRKfwhfDg, IkRib6Xs91PPW7pon7VVig, A8Aq8f0-XvLBcyMk2GJdJQ, eEZM1kogR7eL4GOBZyPvBA, e1o1LN7ez5ckCpQeAab4iw, _HrJVzFaRFUhPva8cwBjpQ, pZeGZGzX-ROT_D5lam5uNg, 0S6EI51ej5J7dgYz3-O0lA, woDt8raW-AorxQM_tIE2eA, hWUnSE5gKXNe7bDc8uAG9A, c_3LDSO2RHwZ94_Q6j_O7w, -uv1wDiaplY6eXXS0VwQiA, QFjqxXn3acDC7hckFGUKMg, ErOqapICmHPTN8YobZIcfQ, mJLRvqLOKhqEdkgt9iEaCQ, VKX7jlScJSA-ja5hYRw12Q, ijIC9w5PRcj3dWVlanjZeg, CIZGlEw-Bp0rmkP8M6yQ9Q, OC6fT5WZ8EU7tEVJ3bzPBQ, UZSDGTDpycDzrlfUlyw2dQ, deL6e_z9xqZTIODKqnvRXQ, 5mG2ENw2PylIWElqHSMGqg, Uh5Kug2fvDd51RYmsNZkGg, 4dI4uoShugD9z84fYupelQ, EQpFHqGT9Tk6YSwORTtwpg, o4EGL2-ICGmRJzJ3GxB-vw, s8gK7sdVzJcYKcPv2dkZXw, vOYVZgb_GVe-kdtjQwSUHw, wBbjgHsrKr7BsPBrQwJf2w, p59u2EC_qcmCmLeX1jCi5Q, VSAZI1eHDrOPRWMK4Q2DIQ, efMfeI_dkhpeGykaRJqxfQ, x6qYcQ8_i0mMDzSLsFCbZg, K_zSmtNGw1fu-vmxyTVfCQ, 5IM6YPQCK-NABkXmHhlRGQ, U_w8ZMD26vnkeeS1sD7s4Q, AbfS_oXF8H6HJb5jFqhrLw, hbcjX4_D4KIfonNnwrH-cg, UKf66_MPz0zHCP70mF6p1g, hK2gYbxZRTqcqlSiQQcrtQ, 2Q45w_Twx_T9dXqlE16xtQ, BwRn8qcKSeA77HLaOTbfiQ, jouOn4VS_DtFPtMR2w8VDA, ESteyJabbfvqas6CEDs3pQ',\n",
       "  'fans': 14,\n",
       "  'average_stars': 3.57,\n",
       "  'compliment_hot': 3,\n",
       "  'compliment_more': 2,\n",
       "  'compliment_profile': 1,\n",
       "  'compliment_cute': 0,\n",
       "  'compliment_list': 1,\n",
       "  'compliment_note': 11,\n",
       "  'compliment_plain': 15,\n",
       "  'compliment_cool': 22,\n",
       "  'compliment_funny': 22,\n",
       "  'compliment_writer': 10,\n",
       "  'compliment_photos': 0}]"
      ]
     },
     "execution_count": 68,
     "metadata": {},
     "output_type": "execute_result"
    }
   ],
   "source": [
    "# friends, fans, elite\n",
    "user_data.take(1)"
   ]
  },
  {
   "cell_type": "markdown",
   "id": "56ba2223",
   "metadata": {},
   "source": [
    "## 4. Identify the top-ten most influential users from the Yelp dataset. Justify the attribute(s) that you pick to measure the level of influence!  "
   ]
  },
  {
   "cell_type": "code",
   "execution_count": null,
   "id": "89c0fb4f",
   "metadata": {},
   "outputs": [],
   "source": [
    "# PageRank: add weight for certain attributes"
   ]
  }
 ],
 "metadata": {
  "kernelspec": {
   "display_name": "Python 3",
   "language": "python",
   "name": "python3"
  },
  "language_info": {
   "codemirror_mode": {
    "name": "ipython",
    "version": 3
   },
   "file_extension": ".py",
   "mimetype": "text/x-python",
   "name": "python",
   "nbconvert_exporter": "python",
   "pygments_lexer": "ipython3",
   "version": "3.6.9"
  }
 },
 "nbformat": 4,
 "nbformat_minor": 5
}
