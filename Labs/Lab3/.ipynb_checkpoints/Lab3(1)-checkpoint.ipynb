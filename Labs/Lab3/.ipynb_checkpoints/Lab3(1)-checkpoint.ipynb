{
 "cells": [
  {
   "cell_type": "code",
   "execution_count": 1,
   "id": "3bc2342e",
   "metadata": {},
   "outputs": [],
   "source": [
    "import os\n",
    "import sys\n",
    "spark_path = os.environ['SPARK_HOME']\n",
    "sys.path.append(spark_path + \"/bin\")\n",
    "sys.path.append(spark_path + \"/python\")\n",
    "sys.path.append(spark_path + \"/python/pyspark/\")\n",
    "sys.path.append(spark_path + \"/python/lib\")\n",
    "sys.path.append(spark_path + \"/python/lib/pyspark.zip\")\n",
    "sys.path.append(spark_path + \"/python/lib/py4j-0.10.9-src.zip\")\n",
    "\n",
    "import findspark\n",
    "findspark.init()\n",
    "import pyspark"
   ]
  },
  {
   "cell_type": "code",
   "execution_count": 2,
   "id": "476af424",
   "metadata": {},
   "outputs": [],
   "source": [
    "number_cores = 6\n",
    "memory_gb = 16\n",
    "conf = (pyspark.SparkConf().setMaster('local[{}]'.format(number_cores)).set(\"spark.driver.maxResultSize\", \"5g\"))\n",
    "sc = pyspark.SparkContext(conf=conf)"
   ]
  },
  {
   "cell_type": "code",
   "execution_count": 3,
   "id": "3d388d67",
   "metadata": {},
   "outputs": [
    {
     "name": "stdout",
     "output_type": "stream",
     "text": [
      "data  Lab3(1).ipynb  Lab3.ipynb\r\n"
     ]
    }
   ],
   "source": [
    "!dir /users/trush/CSC496/Labs/Lab3"
   ]
  },
  {
   "cell_type": "markdown",
   "id": "94dad922",
   "metadata": {},
   "source": [
    "## How do you parse JSON?"
   ]
  },
  {
   "cell_type": "code",
   "execution_count": 4,
   "id": "fa46dfac",
   "metadata": {},
   "outputs": [
    {
     "data": {
      "text/plain": [
       "{'user_id': 'ntlvfPzc8eglqvk92iDIAw',\n",
       " 'name': 'Rafael',\n",
       " 'review_count': 553,\n",
       " 'yelping_since': '2007-07-06 03:27:11',\n",
       " 'useful': 628,\n",
       " 'funny': 225,\n",
       " 'cool': 227,\n",
       " 'elite': '',\n",
       " 'friends': 'oeMvJh94PiGQnx_6GlndPQ, wm1z1PaJKvHgSDRKfwhfDg, IkRib6Xs91PPW7pon7VVig, A8Aq8f0-XvLBcyMk2GJdJQ, eEZM1kogR7eL4GOBZyPvBA, e1o1LN7ez5ckCpQeAab4iw, _HrJVzFaRFUhPva8cwBjpQ, pZeGZGzX-ROT_D5lam5uNg, 0S6EI51ej5J7dgYz3-O0lA, woDt8raW-AorxQM_tIE2eA, hWUnSE5gKXNe7bDc8uAG9A, c_3LDSO2RHwZ94_Q6j_O7w, -uv1wDiaplY6eXXS0VwQiA, QFjqxXn3acDC7hckFGUKMg, ErOqapICmHPTN8YobZIcfQ, mJLRvqLOKhqEdkgt9iEaCQ, VKX7jlScJSA-ja5hYRw12Q, ijIC9w5PRcj3dWVlanjZeg, CIZGlEw-Bp0rmkP8M6yQ9Q, OC6fT5WZ8EU7tEVJ3bzPBQ, UZSDGTDpycDzrlfUlyw2dQ, deL6e_z9xqZTIODKqnvRXQ, 5mG2ENw2PylIWElqHSMGqg, Uh5Kug2fvDd51RYmsNZkGg, 4dI4uoShugD9z84fYupelQ, EQpFHqGT9Tk6YSwORTtwpg, o4EGL2-ICGmRJzJ3GxB-vw, s8gK7sdVzJcYKcPv2dkZXw, vOYVZgb_GVe-kdtjQwSUHw, wBbjgHsrKr7BsPBrQwJf2w, p59u2EC_qcmCmLeX1jCi5Q, VSAZI1eHDrOPRWMK4Q2DIQ, efMfeI_dkhpeGykaRJqxfQ, x6qYcQ8_i0mMDzSLsFCbZg, K_zSmtNGw1fu-vmxyTVfCQ, 5IM6YPQCK-NABkXmHhlRGQ, U_w8ZMD26vnkeeS1sD7s4Q, AbfS_oXF8H6HJb5jFqhrLw, hbcjX4_D4KIfonNnwrH-cg, UKf66_MPz0zHCP70mF6p1g, hK2gYbxZRTqcqlSiQQcrtQ, 2Q45w_Twx_T9dXqlE16xtQ, BwRn8qcKSeA77HLaOTbfiQ, jouOn4VS_DtFPtMR2w8VDA, ESteyJabbfvqas6CEDs3pQ',\n",
       " 'fans': 14,\n",
       " 'average_stars': 3.57,\n",
       " 'compliment_hot': 3,\n",
       " 'compliment_more': 2,\n",
       " 'compliment_profile': 1,\n",
       " 'compliment_cute': 0,\n",
       " 'compliment_list': 1,\n",
       " 'compliment_note': 11,\n",
       " 'compliment_plain': 15,\n",
       " 'compliment_cool': 22,\n",
       " 'compliment_funny': 22,\n",
       " 'compliment_writer': 10,\n",
       " 'compliment_photos': 0}"
      ]
     },
     "execution_count": 4,
     "metadata": {},
     "output_type": "execute_result"
    }
   ],
   "source": [
    "import json\n",
    "\n",
    "def parseJSON(t):\n",
    "    res = json.loads(t)\n",
    "    return res\n",
    "\n",
    "test = '{\"user_id\":\"ntlvfPzc8eglqvk92iDIAw\",\"name\":\"Rafael\",\"review_count\":553,\"yelping_since\":\"2007-07-06 03:27:11\",\"useful\":628,\"funny\":225,\"cool\":227,\"elite\":\"\",\"friends\":\"oeMvJh94PiGQnx_6GlndPQ, wm1z1PaJKvHgSDRKfwhfDg, IkRib6Xs91PPW7pon7VVig, A8Aq8f0-XvLBcyMk2GJdJQ, eEZM1kogR7eL4GOBZyPvBA, e1o1LN7ez5ckCpQeAab4iw, _HrJVzFaRFUhPva8cwBjpQ, pZeGZGzX-ROT_D5lam5uNg, 0S6EI51ej5J7dgYz3-O0lA, woDt8raW-AorxQM_tIE2eA, hWUnSE5gKXNe7bDc8uAG9A, c_3LDSO2RHwZ94_Q6j_O7w, -uv1wDiaplY6eXXS0VwQiA, QFjqxXn3acDC7hckFGUKMg, ErOqapICmHPTN8YobZIcfQ, mJLRvqLOKhqEdkgt9iEaCQ, VKX7jlScJSA-ja5hYRw12Q, ijIC9w5PRcj3dWVlanjZeg, CIZGlEw-Bp0rmkP8M6yQ9Q, OC6fT5WZ8EU7tEVJ3bzPBQ, UZSDGTDpycDzrlfUlyw2dQ, deL6e_z9xqZTIODKqnvRXQ, 5mG2ENw2PylIWElqHSMGqg, Uh5Kug2fvDd51RYmsNZkGg, 4dI4uoShugD9z84fYupelQ, EQpFHqGT9Tk6YSwORTtwpg, o4EGL2-ICGmRJzJ3GxB-vw, s8gK7sdVzJcYKcPv2dkZXw, vOYVZgb_GVe-kdtjQwSUHw, wBbjgHsrKr7BsPBrQwJf2w, p59u2EC_qcmCmLeX1jCi5Q, VSAZI1eHDrOPRWMK4Q2DIQ, efMfeI_dkhpeGykaRJqxfQ, x6qYcQ8_i0mMDzSLsFCbZg, K_zSmtNGw1fu-vmxyTVfCQ, 5IM6YPQCK-NABkXmHhlRGQ, U_w8ZMD26vnkeeS1sD7s4Q, AbfS_oXF8H6HJb5jFqhrLw, hbcjX4_D4KIfonNnwrH-cg, UKf66_MPz0zHCP70mF6p1g, hK2gYbxZRTqcqlSiQQcrtQ, 2Q45w_Twx_T9dXqlE16xtQ, BwRn8qcKSeA77HLaOTbfiQ, jouOn4VS_DtFPtMR2w8VDA, ESteyJabbfvqas6CEDs3pQ\",\"fans\":14,\"average_stars\":3.57,\"compliment_hot\":3,\"compliment_more\":2,\"compliment_profile\":1,\"compliment_cute\":0,\"compliment_list\":1,\"compliment_note\":11,\"compliment_plain\":15,\"compliment_cool\":22,\"compliment_funny\":22,\"compliment_writer\":10,\"compliment_photos\":0}'\n",
    "parseJSON(test)"
   ]
  },
  {
   "cell_type": "code",
   "execution_count": 5,
   "id": "cc56544a",
   "metadata": {},
   "outputs": [
    {
     "data": {
      "text/plain": [
       "['{\"user_id\":\"ntlvfPzc8eglqvk92iDIAw\",\"name\":\"Rafael\",\"review_count\":553,\"yelping_since\":\"2007-07-06 03:27:11\",\"useful\":628,\"funny\":225,\"cool\":227,\"elite\":\"\",\"friends\":\"oeMvJh94PiGQnx_6GlndPQ, wm1z1PaJKvHgSDRKfwhfDg, IkRib6Xs91PPW7pon7VVig, A8Aq8f0-XvLBcyMk2GJdJQ, eEZM1kogR7eL4GOBZyPvBA, e1o1LN7ez5ckCpQeAab4iw, _HrJVzFaRFUhPva8cwBjpQ, pZeGZGzX-ROT_D5lam5uNg, 0S6EI51ej5J7dgYz3-O0lA, woDt8raW-AorxQM_tIE2eA, hWUnSE5gKXNe7bDc8uAG9A, c_3LDSO2RHwZ94_Q6j_O7w, -uv1wDiaplY6eXXS0VwQiA, QFjqxXn3acDC7hckFGUKMg, ErOqapICmHPTN8YobZIcfQ, mJLRvqLOKhqEdkgt9iEaCQ, VKX7jlScJSA-ja5hYRw12Q, ijIC9w5PRcj3dWVlanjZeg, CIZGlEw-Bp0rmkP8M6yQ9Q, OC6fT5WZ8EU7tEVJ3bzPBQ, UZSDGTDpycDzrlfUlyw2dQ, deL6e_z9xqZTIODKqnvRXQ, 5mG2ENw2PylIWElqHSMGqg, Uh5Kug2fvDd51RYmsNZkGg, 4dI4uoShugD9z84fYupelQ, EQpFHqGT9Tk6YSwORTtwpg, o4EGL2-ICGmRJzJ3GxB-vw, s8gK7sdVzJcYKcPv2dkZXw, vOYVZgb_GVe-kdtjQwSUHw, wBbjgHsrKr7BsPBrQwJf2w, p59u2EC_qcmCmLeX1jCi5Q, VSAZI1eHDrOPRWMK4Q2DIQ, efMfeI_dkhpeGykaRJqxfQ, x6qYcQ8_i0mMDzSLsFCbZg, K_zSmtNGw1fu-vmxyTVfCQ, 5IM6YPQCK-NABkXmHhlRGQ, U_w8ZMD26vnkeeS1sD7s4Q, AbfS_oXF8H6HJb5jFqhrLw, hbcjX4_D4KIfonNnwrH-cg, UKf66_MPz0zHCP70mF6p1g, hK2gYbxZRTqcqlSiQQcrtQ, 2Q45w_Twx_T9dXqlE16xtQ, BwRn8qcKSeA77HLaOTbfiQ, jouOn4VS_DtFPtMR2w8VDA, ESteyJabbfvqas6CEDs3pQ\",\"fans\":14,\"average_stars\":3.57,\"compliment_hot\":3,\"compliment_more\":2,\"compliment_profile\":1,\"compliment_cute\":0,\"compliment_list\":1,\"compliment_note\":11,\"compliment_plain\":15,\"compliment_cool\":22,\"compliment_funny\":22,\"compliment_writer\":10,\"compliment_photos\":0}']"
      ]
     },
     "execution_count": 5,
     "metadata": {},
     "output_type": "execute_result"
    }
   ],
   "source": [
    "graph_data = sc.textFile(\"./data/yelp_academic_dataset_user.json\")\n",
    "graph_data.take(1)"
   ]
  },
  {
   "cell_type": "markdown",
   "id": "372bb804",
   "metadata": {},
   "source": [
    "## Key points:\n",
    "Always try and make your data smaller. Cache often if possible."
   ]
  },
  {
   "cell_type": "markdown",
   "id": "2a3bd19d",
   "metadata": {},
   "source": [
    "### Hands-on:\n",
    "1. How do you apply pagerank on num_num?\n",
    "2. How do you link the answers back to the actual page of hollies.dat?"
   ]
  },
  {
   "cell_type": "code",
   "execution_count": 6,
   "id": "5b507704",
   "metadata": {},
   "outputs": [],
   "source": [
    "from pyspark.sql import SQLContext\n",
    "sqlContext = SQLContext(sc)"
   ]
  },
  {
   "cell_type": "code",
   "execution_count": 7,
   "id": "709104c4",
   "metadata": {},
   "outputs": [],
   "source": [
    "json_df = sqlContext.read.json(\"./data/yelp_academic_dataset_user.json\")"
   ]
  },
  {
   "cell_type": "code",
   "execution_count": 8,
   "id": "e0f37e72",
   "metadata": {},
   "outputs": [
    {
     "name": "stdout",
     "output_type": "stream",
     "text": [
      "CPU times: user 3.82 ms, sys: 0 ns, total: 3.82 ms\n",
      "Wall time: 3.72 s\n"
     ]
    },
    {
     "data": {
      "text/plain": [
       "1968703"
      ]
     },
     "execution_count": 8,
     "metadata": {},
     "output_type": "execute_result"
    }
   ],
   "source": [
    "%%time\n",
    "json_df.count()"
   ]
  },
  {
   "cell_type": "code",
   "execution_count": 9,
   "id": "ae288e2d",
   "metadata": {},
   "outputs": [
    {
     "name": "stdout",
     "output_type": "stream",
     "text": [
      "CPU times: user 2.61 ms, sys: 3.28 ms, total: 5.89 ms\n",
      "Wall time: 2.7 s\n"
     ]
    },
    {
     "data": {
      "text/plain": [
       "1968703"
      ]
     },
     "execution_count": 9,
     "metadata": {},
     "output_type": "execute_result"
    }
   ],
   "source": [
    "%%time\n",
    "json_df.count()"
   ]
  },
  {
   "cell_type": "code",
   "execution_count": 10,
   "id": "e44001b0",
   "metadata": {},
   "outputs": [
    {
     "name": "stdout",
     "output_type": "stream",
     "text": [
      "root\n",
      " |-- average_stars: double (nullable = true)\n",
      " |-- compliment_cool: long (nullable = true)\n",
      " |-- compliment_cute: long (nullable = true)\n",
      " |-- compliment_funny: long (nullable = true)\n",
      " |-- compliment_hot: long (nullable = true)\n",
      " |-- compliment_list: long (nullable = true)\n",
      " |-- compliment_more: long (nullable = true)\n",
      " |-- compliment_note: long (nullable = true)\n",
      " |-- compliment_photos: long (nullable = true)\n",
      " |-- compliment_plain: long (nullable = true)\n",
      " |-- compliment_profile: long (nullable = true)\n",
      " |-- compliment_writer: long (nullable = true)\n",
      " |-- cool: long (nullable = true)\n",
      " |-- elite: string (nullable = true)\n",
      " |-- fans: long (nullable = true)\n",
      " |-- friends: string (nullable = true)\n",
      " |-- funny: long (nullable = true)\n",
      " |-- name: string (nullable = true)\n",
      " |-- review_count: long (nullable = true)\n",
      " |-- useful: long (nullable = true)\n",
      " |-- user_id: string (nullable = true)\n",
      " |-- yelping_since: string (nullable = true)\n",
      "\n"
     ]
    }
   ],
   "source": [
    "json_df.printSchema()"
   ]
  },
  {
   "cell_type": "code",
   "execution_count": 11,
   "id": "4e00ba59",
   "metadata": {},
   "outputs": [],
   "source": [
    "json_df.registerTempTable(\"tbl_json\")"
   ]
  },
  {
   "cell_type": "markdown",
   "id": "0437ba11",
   "metadata": {},
   "source": [
    "## 1. How many unique users are there in the dataset?"
   ]
  },
  {
   "cell_type": "code",
   "execution_count": 12,
   "id": "985b2ba7",
   "metadata": {},
   "outputs": [],
   "source": [
    "def parseJSONUser(x):\n",
    "    res = json.loads(x)\n",
    "    return res['user_id']"
   ]
  },
  {
   "cell_type": "code",
   "execution_count": 13,
   "id": "7fb4b086",
   "metadata": {},
   "outputs": [
    {
     "data": {
      "text/plain": [
       "1968703"
      ]
     },
     "execution_count": 13,
     "metadata": {},
     "output_type": "execute_result"
    }
   ],
   "source": [
    "# map with just user_id .distinct().count()\n",
    "users = graph_data.map(lambda x: parseJSONUser(x))\n",
    "#users.take(1)\n",
    "users.distinct().count()\n",
    "#graph_data.countByKey()"
   ]
  },
  {
   "cell_type": "markdown",
   "id": "da661f30",
   "metadata": {},
   "source": [
    "There are 1,968,703 unique users in the dataset."
   ]
  },
  {
   "cell_type": "markdown",
   "id": "f4fad9c7",
   "metadata": {},
   "source": [
    "## 2. Identify the user(s) with the highest number of reviews. What is(are) the average/median stars for these user(s)?"
   ]
  },
  {
   "cell_type": "code",
   "execution_count": 14,
   "id": "0d79e9fd",
   "metadata": {},
   "outputs": [],
   "source": [
    "def parseJSONReviews(x):\n",
    "    res = json.loads(x)\n",
    "    return (res['user_id'], res['name'], res['average_stars'], int(res['review_count']))"
   ]
  },
  {
   "cell_type": "code",
   "execution_count": null,
   "id": "fd88d0f0",
   "metadata": {},
   "outputs": [],
   "source": [
    "# map with user_id and review_count\n",
    "user_data = graph_data.map(lambda x: parseJSON(x))\n",
    "#user_data.take(1)\n",
    "highest_num_reviews = graph_data.map(lambda x: parseJSONReviews(x)).sortBy(lambda x: (x[3]), ascending = False)\n",
    "top10 = highest_num_reviews.take(10)\n",
    "top10"
   ]
  },
  {
   "cell_type": "code",
   "execution_count": null,
   "id": "e6c71249",
   "metadata": {},
   "outputs": [],
   "source": [
    "# Average stars for users with top 10 highest number of reviews\n",
    "def avg_top10(x):\n",
    "    total = 0\n",
    "    for i in range(10):\n",
    "        total = total + top10[i][2]\n",
    "    return total/10\n",
    "# Median stars for users with top 10 highest number of reviews\n",
    "def med_top10(x):\n",
    "    x.sort(key = lambda x: float(x[2]))\n",
    "    return x[len(x)//2][2]"
   ]
  },
  {
   "cell_type": "code",
   "execution_count": null,
   "id": "3a971cea",
   "metadata": {},
   "outputs": [],
   "source": [
    "print(\"Average: \" + str(avg_top10(top10)))\n",
    "print(\"Median: \" + str(med_top10(top10)))"
   ]
  },
  {
   "cell_type": "markdown",
   "id": "b646f2c9",
   "metadata": {},
   "source": [
    "The top 10 users with the highest number of reviews are:\n",
    "1. 8k3aO-mPeyhbR5HUucA5aA (Victor) with 3.28 average stars and 14455 reviews\n",
    "2. RtGqdDBvvBCjcu5dUqwfzA (Shila) with 3.87 average stars and 12772 reviews\n",
    "3. hWDybu_KvYLSdEFzGrniTw (Bruce) with 3.64 average stars and 12487 reviews\n",
    "4. Hi10sGSZNxQH3NLyWSZ1oA (Fox) with 3.8 average stars and 11112 reviews\n",
    "5. P5bUL3Engv-2z6kKohB6qQ (Kim) with 3.8 average stars and 9875 reviews\n",
    "6. 8RcEwGrFIgkt9WQ35E6SnQ (George) with 3.49 average stars and 7745 reviews\n",
    "7. nmdkHL2JKFx55T3nq5VziA (Nijole) with 3.71 average stars and 7626 reviews\n",
    "8. Xwnf20FKuikiHcSpcEbpKQ (Kenneth) with 3.32 average stars and 6762 reviews\n",
    "9. CxDOIDnH8gp9KXzpBHJYXw (Jennifer) with 3.33 average stars and 6633 reviews\n",
    "10. HFECrzYDpgbS5EmTBtj2zQ (Eric) with 3.93 average stars and 5500 reviews\n",
    "\n",
    "The average stars for the top 10 users is about 3.62 stars. The median stars for the top 10 users is 3.71 stars."
   ]
  },
  {
   "cell_type": "markdown",
   "id": "62f60d73",
   "metadata": {},
   "source": [
    "## 3. Identify several (two or more) interesting user attributes and think of and carry out one interesting analysis. Interesting is relative, and you should use Markdown cell to describe why/how these are interesting!"
   ]
  },
  {
   "cell_type": "code",
   "execution_count": null,
   "id": "9a79e8d0",
   "metadata": {},
   "outputs": [],
   "source": [
    "# Is the number of friends relative to number of fans correlated to elite status? Which is more important?\n",
    "def parseJSON1(x):\n",
    "    res = json.loads(x)\n",
    "    return (res['user_id'], len(res['elite']), res['fans']/len(res['friends']))\n",
    "\n",
    "# Do users with more elite years have higher or lower average stars?\n",
    "def parseJSON2(x):\n",
    "    res = json.loads(x)\n",
    "    return (res['user_id'], len(res['elite']), res['average_stars'])"
   ]
  },
  {
   "cell_type": "code",
   "execution_count": null,
   "id": "980b64d2",
   "metadata": {},
   "outputs": [],
   "source": [
    "fans_friends_top = graph_data.map(lambda x: parseJSON1(x)).sortBy(lambda x: (x[2]), ascending = False)\n",
    "fans_friends_top.take(10)"
   ]
  },
  {
   "cell_type": "code",
   "execution_count": null,
   "id": "a06ffb42",
   "metadata": {},
   "outputs": [],
   "source": [
    "fans_friends_bottom = graph_data.map(lambda x: parseJSON1(x)).sortBy(lambda x: (x[2]), ascending = True)\n",
    "fans_friends_bottom.take(10)"
   ]
  },
  {
   "cell_type": "code",
   "execution_count": null,
   "id": "39a68649",
   "metadata": {},
   "outputs": [],
   "source": [
    "stars_top = graph_data.map(lambda x: parseJSON2(x)).sortBy(lambda x: (x[1]), ascending = False)\n",
    "top20 = stars_top.take(20)"
   ]
  },
  {
   "cell_type": "code",
   "execution_count": null,
   "id": "27773bf3",
   "metadata": {},
   "outputs": [],
   "source": [
    "stars_bottom = graph_data.map(lambda x: parseJSON2(x)).sortBy(lambda x: (x[1]), ascending = True)\n",
    "bot20 = stars_bottom.take(20)"
   ]
  },
  {
   "cell_type": "code",
   "execution_count": null,
   "id": "67b0271c",
   "metadata": {},
   "outputs": [],
   "source": [
    "sum1 = 0\n",
    "sum2 = 0\n",
    "for i in range(20):\n",
    "    sum1 = sum1 + top20[i][2]\n",
    "    sum2 = sum2 + bot20[i][2]\n",
    "top_avg = sum1/20\n",
    "bot_avg = sum2/20\n",
    "print(top_avg)\n",
    "print(bot_avg)"
   ]
  },
  {
   "cell_type": "markdown",
   "id": "7dd00dbc",
   "metadata": {},
   "source": [
    "This analysis revolved around three questions:\n",
    "1. Is the number of fans relative to the number of friends correlated to elite status?\n",
    "3. Do users with more elite years have higher or lower average stars?\n",
    "\n",
    "The answer to the first question lies in the number of elite years relative to the ratio of fans to friends. The question is essentially \"Do elite squad members have more fans or friends and is this ratio relevant to elite status?\" The data shows that there is generally no correlation between the ratio of fans to friends and elite status. Users with the highest ratio had 0 years as elite members and users with the lowest ratio also had zero years as elite members. This is interesting because it may initially be assumed that elite members may have more fans than friends, but there is no difference between elite and non-elite users in this metric.\n",
    "\n",
    "The answer to the third question can be found by finding the top 20 (arbitrary number) users with the most elite years and comparing their average stars to the bottom 20 users with the least elite years. The average stars for the top 20 is 3.73 and 3.5 for the bottom 20. This indicates that Elite Squad member have a slightly higher average stars metric than non-Elite Squad members. Although there is just a slight difference in the average stars of elite and non-elite users, the results are interesting because they suggest that there may be a correlation in higher average reviews and elite status or that elite members are seeking out relatively better places to review than non-elite members."
   ]
  },
  {
   "cell_type": "markdown",
   "id": "56ba2223",
   "metadata": {},
   "source": [
    "## 4. Identify the top-ten most influential users from the Yelp dataset. Justify the attribute(s) that you pick to measure the level of influence!  "
   ]
  },
  {
   "cell_type": "code",
   "execution_count": null,
   "id": "89c0fb4f",
   "metadata": {},
   "outputs": [],
   "source": [
    "# PageRank: add weight for elite attribute\n",
    "# Use numFriends and/or numFans according and/or average_stars to findings from 3"
   ]
  },
  {
   "cell_type": "code",
   "execution_count": null,
   "id": "d3561134",
   "metadata": {},
   "outputs": [],
   "source": [
    "def parseJSONRanks(x):\n",
    "    res = json.loads(x)\n",
    "    return (res['user_id'], res['friends'].split(\", \"))"
   ]
  },
  {
   "cell_type": "code",
   "execution_count": null,
   "id": "01470ede",
   "metadata": {},
   "outputs": [],
   "source": [
    "links = graph_data.map(lambda x: (parseJSONRanks(x)))\n",
    "links.take(2)"
   ]
  },
  {
   "cell_type": "code",
   "execution_count": null,
   "id": "7344ceb5",
   "metadata": {},
   "outputs": [],
   "source": [
    "N = links.count()\n",
    "ranks = links.map(lambda line: (line[0], 1/N))\n",
    "ranks.take(2)\n",
    "#links.count()"
   ]
  },
  {
   "cell_type": "code",
   "execution_count": null,
   "id": "b756bfd8",
   "metadata": {},
   "outputs": [],
   "source": [
    "votes = ranks.join(links)\n",
    "votes.take(2)"
   ]
  },
  {
   "cell_type": "code",
   "execution_count": null,
   "id": "369c21d6",
   "metadata": {},
   "outputs": [],
   "source": [
    "def calculateVotes(t):\n",
    "    res = []\n",
    "    for item in t[1][1]:\n",
    "        count = len(t[1][1])\n",
    "        res.append((item, (t[1][0]/count)))\n",
    "    return res"
   ]
  },
  {
   "cell_type": "code",
   "execution_count": null,
   "id": "eefd4345",
   "metadata": {},
   "outputs": [],
   "source": [
    "votes = ranks.join(links) \\\n",
    "        .flatMap(calculateVotes)\n",
    "#votes.collect()"
   ]
  },
  {
   "cell_type": "code",
   "execution_count": null,
   "id": "78833b21",
   "metadata": {},
   "outputs": [],
   "source": [
    "ranks.collect()"
   ]
  },
  {
   "cell_type": "code",
   "execution_count": null,
   "id": "e27ba9b9",
   "metadata": {
    "scrolled": false
   },
   "outputs": [],
   "source": [
    "ranks = votes.reduceByKey(lambda x, y: x + y).sortBy(lambda x: x[1], ascending = False)\n",
    "ranks.take(10)"
   ]
  },
  {
   "cell_type": "markdown",
   "id": "a3e9d8d3",
   "metadata": {},
   "source": [
    "The top 10 most influential users ranked by number of friends are:\n",
    "1. dIIKEfOgo0KqUfGQvGikPg with a rank of 0.0011126683086706926\n",
    "2. 9KIGNO7qJ6366VBAzO0Npw with a rank of 0.0010495141855696403\n",
    "3. HdUpeg9oYzvzHIgeJuM2uQ with a rank of 0.0010390560539754216\n",
    "4. eWV_zVbcwlhJbsn3DubQtw with a rank of 0.0010012317508540838\n",
    "5. Rr_aHsPuio9SenoW8C7Q1A with a rank of 0.001\n",
    "6. 262WYEA0cr-Hpo7h0l7d6w with a rank of 0.001\n",
    "7. XdMJQTJu1QzRUxLMyJ04Fg with a rank of 0.001\n",
    "8. qVc8ODYU5SZjKXVBgXdI7w with a rank of 0.0007186471670369667\n",
    "9. NfU0zDaTMEQ4-X9dbQWd9A with a rank of 0.000700523232185168\n",
    "10. PeLGa5vUR8_mcsn-fn42Jg with a rank of 0.0006304201640210481\n",
    "\n",
    "This ranking is based off number of friends. Users with more friends have a wider sphere of influence, thus higher votes; therefore, users with many friends that have many friends are ranked higher."
   ]
  },
  {
   "cell_type": "code",
   "execution_count": null,
   "id": "b951ad3a",
   "metadata": {},
   "outputs": [],
   "source": []
  }
 ],
 "metadata": {
  "kernelspec": {
   "display_name": "Python 3",
   "language": "python",
   "name": "python3"
  },
  "language_info": {
   "codemirror_mode": {
    "name": "ipython",
    "version": 3
   },
   "file_extension": ".py",
   "mimetype": "text/x-python",
   "name": "python",
   "nbconvert_exporter": "python",
   "pygments_lexer": "ipython3",
   "version": "3.6.9"
  }
 },
 "nbformat": 4,
 "nbformat_minor": 5
}
