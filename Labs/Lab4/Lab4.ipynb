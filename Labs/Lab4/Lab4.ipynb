{
 "cells": [
  {
   "cell_type": "code",
   "execution_count": 1,
   "metadata": {},
   "outputs": [],
   "source": [
    "import os\n",
    "import sys\n",
    "spark_path = os.environ['SPARK_HOME']\n",
    "sys.path.append(spark_path + \"/bin\")\n",
    "sys.path.append(spark_path + \"/python\")\n",
    "sys.path.append(spark_path + \"/python/pyspark/\")\n",
    "sys.path.append(spark_path + \"/python/lib\")\n",
    "sys.path.append(spark_path + \"/python/lib/pyspark.zip\")\n",
    "sys.path.append(spark_path + \"/python/lib/py4j-0.10.9-src.zip\")\n",
    "\n",
    "import findspark\n",
    "findspark.init()\n",
    "import pyspark"
   ]
  },
  {
   "cell_type": "code",
   "execution_count": 2,
   "metadata": {},
   "outputs": [],
   "source": [
    "number_cores = 6\n",
    "memory_gb = 16\n",
    "conf = (pyspark.SparkConf().setMaster('local[{}]'.format(number_cores)).set(\"spark.driver.maxResultSize\", \"5g\"))\n",
    "sc = pyspark.SparkContext(conf=conf)"
   ]
  },
  {
   "cell_type": "code",
   "execution_count": 3,
   "metadata": {},
   "outputs": [
    {
     "name": "stdout",
     "output_type": "stream",
     "text": [
      "yelp_academic_dataset_business.json.gz\tyelp_academic_dataset_user.json.gz\r\n",
      "yelp_academic_dataset_review.json.gz\r\n"
     ]
    }
   ],
   "source": [
    "!dir ./data"
   ]
  },
  {
   "cell_type": "code",
   "execution_count": 4,
   "metadata": {},
   "outputs": [
    {
     "name": "stdout",
     "output_type": "stream",
     "text": [
      "total 4.2G\r\n",
      "-rw-r--r-- 1 trush PDC-edu-Lab  25M Dec  1 07:48 yelp_academic_dataset_business.json.gz\r\n",
      "-rw-r--r-- 1 trush PDC-edu-Lab 2.4G Dec  1 07:56 yelp_academic_dataset_review.json.gz\r\n",
      "-rw-r--r-- 1 trush PDC-edu-Lab 1.8G Dec  1 07:55 yelp_academic_dataset_user.json.gz\r\n"
     ]
    }
   ],
   "source": [
    "!ls -lh ./data"
   ]
  },
  {
   "cell_type": "markdown",
   "metadata": {},
   "source": [
    "# 1. Identify 100 users with highest number of ratings/fans.  "
   ]
  },
  {
   "cell_type": "code",
   "execution_count": 5,
   "metadata": {},
   "outputs": [],
   "source": [
    "# Step 1: Load the data using SQL Context\n",
    "\n",
    "from pyspark.sql import SQLContext\n",
    "sqlContext = SQLContext(sc)"
   ]
  },
  {
   "cell_type": "code",
   "execution_count": 6,
   "metadata": {},
   "outputs": [],
   "source": [
    "# get SQL table\n",
    "df_json = sqlContext.read.json(\"./data/yelp_academic_dataset_user.json.gz\")"
   ]
  },
  {
   "cell_type": "code",
   "execution_count": 7,
   "metadata": {
    "scrolled": true
   },
   "outputs": [],
   "source": [
    "#df_json.printSchema()"
   ]
  },
  {
   "cell_type": "code",
   "execution_count": 8,
   "metadata": {},
   "outputs": [],
   "source": [
    "df_json.registerTempTable(\"tbl_json\")"
   ]
  },
  {
   "cell_type": "markdown",
   "metadata": {},
   "source": [
    "  - PySpark way"
   ]
  },
  {
   "cell_type": "code",
   "execution_count": 9,
   "metadata": {},
   "outputs": [],
   "source": [
    "df_data = sc.textFile(\"./data/yelp_academic_dataset_user.json.gz\")\n",
    "#print(df_data.count())\n",
    "#df_data.take(1)"
   ]
  },
  {
   "cell_type": "markdown",
   "metadata": {},
   "source": [
    "#### Step 2:\n",
    "  - Get the information using SQL Statement"
   ]
  },
  {
   "cell_type": "code",
   "execution_count": 10,
   "metadata": {},
   "outputs": [],
   "source": [
    "#df_json.printSchema()"
   ]
  },
  {
   "cell_type": "code",
   "execution_count": 11,
   "metadata": {},
   "outputs": [],
   "source": [
    "# 100 users with highest number of ratings/fans.\n",
    "highest_fan = sqlContext.sql(\"SELECT user_id, review_count, fans FROM tbl_json ORDER BY fans DESC LIMIT 100\")"
   ]
  },
  {
   "cell_type": "code",
   "execution_count": 12,
   "metadata": {},
   "outputs": [],
   "source": [
    "#highest_fan.show()"
   ]
  },
  {
   "cell_type": "markdown",
   "metadata": {},
   "source": [
    "  - Get the information using PySpark Statement"
   ]
  },
  {
   "cell_type": "code",
   "execution_count": 13,
   "metadata": {},
   "outputs": [],
   "source": [
    "#df_data.take(1)"
   ]
  },
  {
   "cell_type": "code",
   "execution_count": 14,
   "metadata": {},
   "outputs": [],
   "source": [
    "import json\n",
    "\n",
    "df_top_users1 = df_data.map(lambda x: json.loads(x)).map(lambda x: (x[\"user_id\"], x[\"review_count\"], x[\"fans\"]))\n",
    "#df_top_users1.take(1)"
   ]
  },
  {
   "cell_type": "code",
   "execution_count": 15,
   "metadata": {},
   "outputs": [],
   "source": [
    "def extract_user(x):\n",
    "    x_json = json.loads(x)\n",
    "    return (x_json[\"user_id\"], x_json[\"review_count\"], x_json[\"fans\"])\n",
    "\n",
    "#tmp = df_data.take(1)\n",
    "#extract_user(tmp[0])"
   ]
  },
  {
   "cell_type": "code",
   "execution_count": 16,
   "metadata": {
    "scrolled": true
   },
   "outputs": [],
   "source": [
    "df_top_users2 = df_data.map(extract_user).takeOrdered(100, lambda x: -x[2])\n",
    "#df_top_users2"
   ]
  },
  {
   "cell_type": "markdown",
   "metadata": {},
   "source": [
    "The top 100 users with the highest number of fans were found by mapping the user data with lists of each user_id and their respective review_count and fans then sorting them in descending order by fans. The top 100 users with the highest number of fans are:"
   ]
  },
  {
   "cell_type": "code",
   "execution_count": 17,
   "metadata": {},
   "outputs": [
    {
     "data": {
      "text/plain": [
       "[('37cpUoM8hlkSQfReIEBd-Q', 1787, 11568),\n",
       " ('hizGc5W1tBHPghM5YKCAtg', 1629, 3315),\n",
       " ('eKUGKQRE-Ywi5dY55_zChg', 2430, 2916),\n",
       " ('Hi10sGSZNxQH3NLyWSZ1oA', 11112, 2718),\n",
       " ('j14WgRoU_-2ZE1aw1dXrJg', 3566, 2634),\n",
       " ('iLjMdZi0Tm7DQxX1C1_2dg', 2431, 2516),\n",
       " ('JjXuiru1_ONzDkYVrHN0aw', 1207, 2316),\n",
       " ('ITa3vh5ERI90G_WP4SmGUQ', 3079, 2280),\n",
       " ('UsXqCXRZwSCSw0AT7y1uBg', 2919, 2263),\n",
       " ('VHdY6oG2JPVNjihWhOooAQ', 1979, 2140),\n",
       " ('fgwI3rYHOv1ipfVfCSx7pg', 1847, 2113),\n",
       " ('nkN_do3fJ9xekchVC-v68A', 1363, 2046),\n",
       " ('m07sy7eLtOjVdZ8oN9JKag', 4913, 2034),\n",
       " ('peuxbSQwXed-81cSqL7Ykw', 1592, 1916),\n",
       " ('AHRrG3T1gJpHvtpZ-K0G_g', 2109, 1747),\n",
       " ('WG3w_73scm_JUWJ_3Lgn0Q', 5013, 1733),\n",
       " ('NfU0zDaTMEQ4-X9dbQWd9A', 1137, 1726),\n",
       " ('lt7bNHl-TXziny4FETu8nA', 802, 1708),\n",
       " ('3zxy3LVBV3ttxoYbY4rQ8A', 1894, 1696),\n",
       " ('ysCBsXWPB-LAiewVS3jZfQ', 3687, 1672),\n",
       " ('wEE-YMx5pmSuagLtNxMPKA', 1845, 1653),\n",
       " ('djxnI8Ux8ZYQJhiOQkrRhA', 2315, 1614),\n",
       " ('G9Vb6yQ047TC3O_-GG4WZA', 1540, 1574),\n",
       " ('JADdo9NEeO5Az9aOYbyvZA', 2382, 1464),\n",
       " ('58yXn5Y4409kc9q88YwU6w', 1538, 1411),\n",
       " ('AbMjnKOwg736fcIu8apuyQ', 2867, 1408),\n",
       " ('23J4vG9_xxxdnmi8CBX7Ng', 1667, 1379),\n",
       " ('B7ecAeAIrXg7sgmabS38pg', 2603, 1363),\n",
       " ('q_QQ5kBBwlCcbL1s4NVK3g', 1218, 1354),\n",
       " ('IU86PZPgTDCFwJEuAg2j7g', 2138, 1313),\n",
       " ('lZbotco47bHU7oE5b3d1DA', 642, 1307),\n",
       " ('cufhYFdyrUAt4SWe-m0grQ', 2380, 1282),\n",
       " ('8k3aO-mPeyhbR5HUucA5aA', 14455, 1271),\n",
       " ('QnIrewrXxFnssw_gG1gF-Q', 2768, 1244),\n",
       " ('IDVFG1pNSHIHoVuoLuZpcQ', 1502, 1233),\n",
       " ('zFYs8gSUYDvXkb6O7YkRkw', 894, 1216),\n",
       " ('3mNz5nQFTIBQm0oU5mBR0w', 2737, 1208),\n",
       " ('ET8n-r7glWYqZhuR6GcdNw', 2112, 1202),\n",
       " ('pnTiEaqM4slogpY97n9Kvg', 1167, 1189),\n",
       " ('o5STsEtfvD1Ig0J7Z-1uxA', 1932, 1174),\n",
       " ('gjhzKWsqCIrpEd9pevbKZw', 3179, 1173),\n",
       " ('mvK1pv-x0Z5rP4Hz9cWBWw', 1653, 1140),\n",
       " ('nxWrhF_hyX0wwjrEkQX8uQ', 1254, 1138),\n",
       " ('Ve0LUwcrzxL7w0RYgY4Aaw', 1987, 1110),\n",
       " ('5MCBLBxr10NLUKZ4AboAMg', 2773, 1100),\n",
       " ('W7DHyQlY_kXls2iXt-_2Ag', 2924, 1099),\n",
       " ('U4INQZOPSUaj8hMjLlZ3KA', 4631, 1090),\n",
       " ('6s-g2vFu12OemhiK3FJuOQ', 2368, 1073),\n",
       " ('_aSs5dSAabuwnXUGBPzASw', 392, 1065),\n",
       " ('oazuTtSyKV6zrhbsgbdbUQ', 657, 1056),\n",
       " ('yh8_9Ix1wp9dekvyOZbilQ', 2091, 1040),\n",
       " ('i_DR3vdE73nVm2GlMbGpGA', 951, 1033),\n",
       " ('GFyA9ULGAeD-xZEPto2y7A', 1305, 1028),\n",
       " ('ZIOCmdFaMIF56FR-nWr_2A', 2922, 1023),\n",
       " ('WwulXySQN8t2hwqH_yWurA', 839, 1018),\n",
       " ('w-w-k-QXosIKQ8HQVwU6IQ', 2740, 1014),\n",
       " ('I2XEhv9zBeAJcwYIrnMf1g', 1061, 1014),\n",
       " ('mgytZAasaiBf-END4aZD9w', 1622, 984),\n",
       " ('hcJzh-FFDEfYKGpyM0TpZA', 790, 982),\n",
       " ('aIJ-2R1q5G7oqzBSgK_Vvw', 1229, 979),\n",
       " ('dIIKEfOgo0KqUfGQvGikPg', 2061, 971),\n",
       " ('2qKOL7C7WbG_M3EOWvTFxA', 1325, 959),\n",
       " ('Pf7FI0OukC_CEcCz0ZxoUw', 2362, 952),\n",
       " ('WWnhqRnWWjutMqh-2SzEuQ', 3729, 940),\n",
       " ('om5ZiponkpRqUNa3pVPiRg', 2677, 924),\n",
       " ('f1MFQxTZAWJnRQdrouLg_A', 1513, 918),\n",
       " ('giJqvuH8EC62Hi5WboZ08w', 90, 917),\n",
       " ('To7EBxWC-Yz011V2-tdTvA', 572, 915),\n",
       " ('1vXJWH7L0IMEz5-8aU3SOA', 825, 914),\n",
       " ('rcU7ysY41qGppbw4pQgjqg', 1893, 913),\n",
       " ('9lU5zOPluc6Y8JZUL9nzsQ', 809, 912),\n",
       " ('1kpMAKRZuAz3OzxBav3XTg', 1197, 889),\n",
       " ('0G-QF457q_0Z_jKqh6xWiA', 1877, 860),\n",
       " ('bsMGQruRQGgQZK4KA9Q4Aw', 1626, 860),\n",
       " ('9HGR8sU_zm15sI109H-SGQ', 924, 859),\n",
       " ('jt49xjEjQisu6wTTGn6B3A', 1727, 857),\n",
       " ('vHc-UrI9yfL_pnnc6nJtyQ', 931, 857),\n",
       " ('l3S1srqK1CvjB_S4r-ZBeg', 1143, 849),\n",
       " ('nmdkHL2JKFx55T3nq5VziA', 7626, 842),\n",
       " ('pou3BbKsIozfH50rxmnMew', 2447, 836),\n",
       " ('CdeyZZ6ZGhvs7YCzVheeRg', 505, 834),\n",
       " ('qI3uzegMdq3q3WxAajECGw', 916, 831),\n",
       " ('NNL1zLTP2J_SOputgoPYeQ', 1642, 831),\n",
       " ('NRGJ4IvauajqqCbhT640cw', 1239, 830),\n",
       " ('SQXsow-nuLYYQnTcsIedIA', 546, 829),\n",
       " ('DS0Idr2XDhz5e7ZfSy0dYA', 1493, 826),\n",
       " ('idJ35gltZ90eFFCm2YvtXQ', 1197, 825),\n",
       " ('QiciohgD8N6vCty4vGL3pQ', 878, 824),\n",
       " ('MGPQVLsODMm9ZtYQW-g_OA', 1806, 823),\n",
       " ('4Y81J2Tdq5XAnkeYmCZ2ow', 1413, 818),\n",
       " ('--2vR0DIsmQ6WfcSzKWigw', 1498, 808),\n",
       " ('ACUVZ4SiN0gni7dzVDm9EQ', 2093, 805),\n",
       " ('RgDVC3ZUBqpEe6Y1kPhIpw', 1279, 802),\n",
       " ('lYp818T-xh8Ss79To5Azhw', 1523, 793),\n",
       " ('59GSwMflQFllOAWvw0F5mw', 694, 790),\n",
       " ('7IV3JXTXufasWNSkDEdrcQ', 734, 790),\n",
       " ('CxDOIDnH8gp9KXzpBHJYXw', 6633, 789),\n",
       " ('kPgNVSxXnhkyWBkqTcW45g', 910, 788),\n",
       " ('8DEyKVyplnOcSKx39vatbg', 836, 786),\n",
       " ('bLbSNkLggFnqwNNzzq-Ijw', 4627, 785)]"
      ]
     },
     "execution_count": 17,
     "metadata": {},
     "output_type": "execute_result"
    }
   ],
   "source": [
    "df_top_users2"
   ]
  },
  {
   "cell_type": "markdown",
   "metadata": {},
   "source": [
    "# 2. Extract the reviews of these users and combine it with the business information. "
   ]
  },
  {
   "cell_type": "markdown",
   "metadata": {},
   "source": [
    "## a. Are they continental, regional, or local eaters?  "
   ]
  },
  {
   "cell_type": "code",
   "execution_count": 18,
   "metadata": {},
   "outputs": [],
   "source": [
    "df_reviews = sqlContext.read.json(\"./data/yelp_academic_dataset_review.json.gz\")\n",
    "df_business = sqlContext.read.json(\"./data/yelp_academic_dataset_business.json.gz\")"
   ]
  },
  {
   "cell_type": "code",
   "execution_count": 19,
   "metadata": {},
   "outputs": [],
   "source": [
    "df_reviews.registerTempTable(\"df_reviews\")\n",
    "df_business.registerTempTable(\"df_business\")"
   ]
  },
  {
   "cell_type": "code",
   "execution_count": 20,
   "metadata": {},
   "outputs": [],
   "source": [
    "highest_fan.registerTempTable(\"highest_fan\")"
   ]
  },
  {
   "cell_type": "code",
   "execution_count": 21,
   "metadata": {
    "scrolled": true
   },
   "outputs": [],
   "source": [
    "business_locations = sqlContext.sql(\"SELECT df_reviews.user_id, latitude, longitude FROM df_reviews, df_business, highest_fan WHERE df_reviews.business_id=df_business.business_id AND highest_fan.user_id = df_reviews.user_id\")"
   ]
  },
  {
   "cell_type": "code",
   "execution_count": 22,
   "metadata": {},
   "outputs": [],
   "source": [
    "#df_business.printSchema()"
   ]
  },
  {
   "cell_type": "code",
   "execution_count": 23,
   "metadata": {},
   "outputs": [],
   "source": [
    "#df_reviews.printSchema()"
   ]
  },
  {
   "cell_type": "code",
   "execution_count": 24,
   "metadata": {},
   "outputs": [],
   "source": [
    "#business_locations.show()"
   ]
  },
  {
   "cell_type": "markdown",
   "metadata": {},
   "source": [
    "__Distance between 2 points lat, lon__\n",
    "\n",
    "d=2*asin(sqrt((sin((lat1-lat2)/2))^2 + cos(lat1)*cos(lat2)*(sin((lon1-lon2)/2))^2))\n",
    "\n",
    "https://edwilliams.org/avform147.htm"
   ]
  },
  {
   "cell_type": "code",
   "execution_count": 25,
   "metadata": {},
   "outputs": [],
   "source": [
    "import math\n",
    "def distance(lat1, lon1, lat2, lon2):\n",
    "    return 2*math.asin(math.sqrt((math.sin((lat1-lat2)/2))**2 + math.cos(lat1)*math.cos(lat2)*(math.sin((lon1-lon2)/2))**2))"
   ]
  },
  {
   "cell_type": "code",
   "execution_count": 26,
   "metadata": {},
   "outputs": [
    {
     "data": {
      "text/plain": [
       "2.795102054155977"
      ]
     },
     "execution_count": 26,
     "metadata": {},
     "output_type": "execute_result"
    }
   ],
   "source": [
    "distance(36.1128958062, -115.1776370528, 33.3483825, -111.8591895)"
   ]
  },
  {
   "cell_type": "code",
   "execution_count": 27,
   "metadata": {},
   "outputs": [],
   "source": [
    "locations = business_locations.rdd"
   ]
  },
  {
   "cell_type": "code",
   "execution_count": 28,
   "metadata": {},
   "outputs": [],
   "source": [
    "locations1 = locations.map(lambda x: (x[0],[x[1], x[2]]))"
   ]
  },
  {
   "cell_type": "code",
   "execution_count": 29,
   "metadata": {},
   "outputs": [],
   "source": [
    "#locations1.take(20)"
   ]
  },
  {
   "cell_type": "code",
   "execution_count": 30,
   "metadata": {},
   "outputs": [],
   "source": [
    "user_latlon = locations1.groupByKey().mapValues(list)"
   ]
  },
  {
   "cell_type": "code",
   "execution_count": 31,
   "metadata": {},
   "outputs": [],
   "source": [
    "#user_latlon.take(1)"
   ]
  },
  {
   "cell_type": "code",
   "execution_count": 32,
   "metadata": {},
   "outputs": [],
   "source": [
    "# Return triplet of number of local, regional, and continental reviews\n",
    "def get_dist_classification(x):\n",
    "    distances = [0, 0, 0]\n",
    "    for i in range(len(x[1])):\n",
    "        for j in range(len(x[1])):\n",
    "            y = distance(x[1][i][0], x[1][i][1], x[1][j][0], x[1][j][1]) \n",
    "            if y >= 0 and y < 0.10:\n",
    "                distances[0] = distances[0] + 1\n",
    "            elif y >= 0.10 and y < 0.50:\n",
    "                distances[1] = distances[1] + 1\n",
    "            elif y >= 0.50:\n",
    "                distances[2] = distances[2] + 1\n",
    "    if distances[0] >= distances[1] and distances[0] >= distances[2]:\n",
    "        return (x[0], \"local\");\n",
    "    elif distances[1] >= distances[0] and distances[1] >= distances[2]:\n",
    "        return (x[0], \"regional\");\n",
    "    elif distances[2] >= distances[0] and distances[2] >= distances[1]:\n",
    "        return (x[0], \"continental\");"
   ]
  },
  {
   "cell_type": "code",
   "execution_count": 33,
   "metadata": {},
   "outputs": [],
   "source": [
    "user_dist_classification = user_latlon.map(lambda x: get_dist_classification(x))"
   ]
  },
  {
   "cell_type": "markdown",
   "metadata": {},
   "source": [
    "The users are classified as local, regional, or continental eaters based on the locations of the businesses they have reviewed. The classifications for the top 100 users are:"
   ]
  },
  {
   "cell_type": "code",
   "execution_count": 34,
   "metadata": {},
   "outputs": [
    {
     "data": {
      "text/plain": [
       "[('U4INQZOPSUaj8hMjLlZ3KA', 'local'),\n",
       " ('CxDOIDnH8gp9KXzpBHJYXw', 'regional'),\n",
       " ('dIIKEfOgo0KqUfGQvGikPg', 'local'),\n",
       " ('NNL1zLTP2J_SOputgoPYeQ', 'continental'),\n",
       " ('peuxbSQwXed-81cSqL7Ykw', 'local'),\n",
       " ('NfU0zDaTMEQ4-X9dbQWd9A', 'local'),\n",
       " ('pou3BbKsIozfH50rxmnMew', 'continental'),\n",
       " ('ZIOCmdFaMIF56FR-nWr_2A', 'local'),\n",
       " ('IDVFG1pNSHIHoVuoLuZpcQ', 'local'),\n",
       " ('bLbSNkLggFnqwNNzzq-Ijw', 'local'),\n",
       " ('B7ecAeAIrXg7sgmabS38pg', 'continental'),\n",
       " ('Hi10sGSZNxQH3NLyWSZ1oA', 'continental'),\n",
       " ('vHc-UrI9yfL_pnnc6nJtyQ', 'continental'),\n",
       " ('8DEyKVyplnOcSKx39vatbg', 'local'),\n",
       " ('gjhzKWsqCIrpEd9pevbKZw', 'continental'),\n",
       " ('eKUGKQRE-Ywi5dY55_zChg', 'local'),\n",
       " ('WWnhqRnWWjutMqh-2SzEuQ', 'continental'),\n",
       " ('zFYs8gSUYDvXkb6O7YkRkw', 'local'),\n",
       " ('JADdo9NEeO5Az9aOYbyvZA', 'local'),\n",
       " ('wEE-YMx5pmSuagLtNxMPKA', 'continental'),\n",
       " ('i_DR3vdE73nVm2GlMbGpGA', 'local'),\n",
       " ('nmdkHL2JKFx55T3nq5VziA', 'local'),\n",
       " ('W7DHyQlY_kXls2iXt-_2Ag', 'local'),\n",
       " ('Ve0LUwcrzxL7w0RYgY4Aaw', 'local'),\n",
       " ('VHdY6oG2JPVNjihWhOooAQ', 'continental'),\n",
       " ('djxnI8Ux8ZYQJhiOQkrRhA', 'continental'),\n",
       " ('om5ZiponkpRqUNa3pVPiRg', 'continental'),\n",
       " ('q_QQ5kBBwlCcbL1s4NVK3g', 'local'),\n",
       " ('oazuTtSyKV6zrhbsgbdbUQ', 'local'),\n",
       " ('58yXn5Y4409kc9q88YwU6w', 'local'),\n",
       " ('mvK1pv-x0Z5rP4Hz9cWBWw', 'local'),\n",
       " ('59GSwMflQFllOAWvw0F5mw', 'local'),\n",
       " ('GFyA9ULGAeD-xZEPto2y7A', 'continental'),\n",
       " ('To7EBxWC-Yz011V2-tdTvA', 'local'),\n",
       " ('ET8n-r7glWYqZhuR6GcdNw', 'continental'),\n",
       " ('ITa3vh5ERI90G_WP4SmGUQ', 'continental'),\n",
       " ('ysCBsXWPB-LAiewVS3jZfQ', 'local'),\n",
       " ('bsMGQruRQGgQZK4KA9Q4Aw', 'continental'),\n",
       " ('8k3aO-mPeyhbR5HUucA5aA', 'local'),\n",
       " ('idJ35gltZ90eFFCm2YvtXQ', 'local'),\n",
       " ('0G-QF457q_0Z_jKqh6xWiA', 'continental'),\n",
       " ('nkN_do3fJ9xekchVC-v68A', 'continental'),\n",
       " ('jt49xjEjQisu6wTTGn6B3A', 'continental'),\n",
       " ('m07sy7eLtOjVdZ8oN9JKag', 'continental'),\n",
       " ('rcU7ysY41qGppbw4pQgjqg', 'continental'),\n",
       " ('3mNz5nQFTIBQm0oU5mBR0w', 'continental'),\n",
       " ('fgwI3rYHOv1ipfVfCSx7pg', 'local'),\n",
       " ('o5STsEtfvD1Ig0J7Z-1uxA', 'local'),\n",
       " ('yh8_9Ix1wp9dekvyOZbilQ', 'continental'),\n",
       " ('mgytZAasaiBf-END4aZD9w', 'local'),\n",
       " ('QiciohgD8N6vCty4vGL3pQ', 'continental'),\n",
       " ('hizGc5W1tBHPghM5YKCAtg', 'continental'),\n",
       " ('6s-g2vFu12OemhiK3FJuOQ', 'local'),\n",
       " ('IU86PZPgTDCFwJEuAg2j7g', 'continental'),\n",
       " ('qI3uzegMdq3q3WxAajECGw', 'continental'),\n",
       " ('AHRrG3T1gJpHvtpZ-K0G_g', 'continental'),\n",
       " ('1vXJWH7L0IMEz5-8aU3SOA', 'local'),\n",
       " ('j14WgRoU_-2ZE1aw1dXrJg', 'continental'),\n",
       " ('2qKOL7C7WbG_M3EOWvTFxA', 'continental'),\n",
       " ('3zxy3LVBV3ttxoYbY4rQ8A', 'local'),\n",
       " ('9HGR8sU_zm15sI109H-SGQ', 'local'),\n",
       " ('7IV3JXTXufasWNSkDEdrcQ', 'continental'),\n",
       " ('4Y81J2Tdq5XAnkeYmCZ2ow', 'continental'),\n",
       " ('NRGJ4IvauajqqCbhT640cw', 'local'),\n",
       " ('ACUVZ4SiN0gni7dzVDm9EQ', 'continental'),\n",
       " ('WG3w_73scm_JUWJ_3Lgn0Q', 'local'),\n",
       " ('G9Vb6yQ047TC3O_-GG4WZA', 'local'),\n",
       " ('lYp818T-xh8Ss79To5Azhw', 'continental'),\n",
       " ('5MCBLBxr10NLUKZ4AboAMg', 'continental'),\n",
       " ('aIJ-2R1q5G7oqzBSgK_Vvw', 'local'),\n",
       " ('l3S1srqK1CvjB_S4r-ZBeg', 'local'),\n",
       " ('MGPQVLsODMm9ZtYQW-g_OA', 'local'),\n",
       " ('UsXqCXRZwSCSw0AT7y1uBg', 'continental'),\n",
       " ('Pf7FI0OukC_CEcCz0ZxoUw', 'continental'),\n",
       " ('AbMjnKOwg736fcIu8apuyQ', 'local'),\n",
       " ('nxWrhF_hyX0wwjrEkQX8uQ', 'local'),\n",
       " ('JjXuiru1_ONzDkYVrHN0aw', 'continental'),\n",
       " ('w-w-k-QXosIKQ8HQVwU6IQ', 'continental'),\n",
       " ('pnTiEaqM4slogpY97n9Kvg', 'continental'),\n",
       " ('QnIrewrXxFnssw_gG1gF-Q', 'continental'),\n",
       " ('--2vR0DIsmQ6WfcSzKWigw', 'local'),\n",
       " ('9lU5zOPluc6Y8JZUL9nzsQ', 'local'),\n",
       " ('iLjMdZi0Tm7DQxX1C1_2dg', 'continental'),\n",
       " ('SQXsow-nuLYYQnTcsIedIA', 'local'),\n",
       " ('lt7bNHl-TXziny4FETu8nA', 'continental'),\n",
       " ('WwulXySQN8t2hwqH_yWurA', 'continental'),\n",
       " ('RgDVC3ZUBqpEe6Y1kPhIpw', 'local'),\n",
       " ('f1MFQxTZAWJnRQdrouLg_A', 'local'),\n",
       " ('DS0Idr2XDhz5e7ZfSy0dYA', 'continental'),\n",
       " ('I2XEhv9zBeAJcwYIrnMf1g', 'local'),\n",
       " ('cufhYFdyrUAt4SWe-m0grQ', 'continental'),\n",
       " ('37cpUoM8hlkSQfReIEBd-Q', 'local'),\n",
       " ('kPgNVSxXnhkyWBkqTcW45g', 'local'),\n",
       " ('23J4vG9_xxxdnmi8CBX7Ng', 'local'),\n",
       " ('CdeyZZ6ZGhvs7YCzVheeRg', 'local'),\n",
       " ('giJqvuH8EC62Hi5WboZ08w', 'local'),\n",
       " ('hcJzh-FFDEfYKGpyM0TpZA', 'local'),\n",
       " ('lZbotco47bHU7oE5b3d1DA', 'local'),\n",
       " ('1kpMAKRZuAz3OzxBav3XTg', 'local'),\n",
       " ('_aSs5dSAabuwnXUGBPzASw', 'local')]"
      ]
     },
     "execution_count": 34,
     "metadata": {},
     "output_type": "execute_result"
    }
   ],
   "source": [
    "user_dist_classification.collect()"
   ]
  },
  {
   "cell_type": "markdown",
   "metadata": {},
   "source": [
    "Each review in of the top 100 users is mapped with a list of the latitude and longitude of the business reviewed (using SQL). Then, the latitude/longitude pairs are aggregated to a list and mapped with the associated user_id. The distance function is used to calculate the distance between two latitude/longitude pairs (i.e., the distance between two businesses reviewed by a given user). The distance between each business is mapped as a list with the user_id, then the get_dist_classification function determines whether a user is a local, regional, or continental reviewer. The distance between two businesses is considered local if it is between 0 and 0.10, regional between 0.10 and 0.50, and continental above 0.50 (these numbers were arbitrarily chosen, but finding the actual parameters would significantly increase the accuracy of this model). The classification with the greatest number of reviews is considered the user's distance classification. It appears that the top 100 reviewers are primarily local or continental with 1 regional user out of 100. This may indicate that active/popular reviewers are on both extremes of the spectrum either reviewing businesses nearby or extensively travelling but not in the middle."
   ]
  },
  {
   "cell_type": "markdown",
   "metadata": {},
   "source": [
    "## b. Is there a preference in restaurant/food style of their reviews? "
   ]
  },
  {
   "cell_type": "code",
   "execution_count": 35,
   "metadata": {},
   "outputs": [],
   "source": [
    "business_styles = sqlContext.sql(\"SELECT df_reviews.user_id, categories FROM df_reviews, df_business, highest_fan WHERE df_reviews.business_id=df_business.business_id AND highest_fan.user_id = df_reviews.user_id\")"
   ]
  },
  {
   "cell_type": "code",
   "execution_count": 36,
   "metadata": {},
   "outputs": [],
   "source": [
    "user_styles = business_styles.rdd.groupByKey().mapValues(list)"
   ]
  },
  {
   "cell_type": "code",
   "execution_count": 37,
   "metadata": {},
   "outputs": [],
   "source": [
    "#user_styles.take(1)"
   ]
  },
  {
   "cell_type": "code",
   "execution_count": 38,
   "metadata": {},
   "outputs": [],
   "source": [
    "def get_styles(x):\n",
    "    styles = []\n",
    "    for i in range(len(x[1])):\n",
    "        if (x[1][i] == None):\n",
    "            continue\n",
    "        y = x[1][i].split(\", \")\n",
    "        for j in range(len(y)):\n",
    "            styles.append(y[j])\n",
    "    return (x[0], styles)"
   ]
  },
  {
   "cell_type": "code",
   "execution_count": 39,
   "metadata": {},
   "outputs": [
    {
     "data": {
      "text/plain": [
       "('Lnwip57QIhwr81NhubGMgQ',\n",
       " ['Travel Services',\n",
       "  'Tours',\n",
       "  'Airport Shuttles',\n",
       "  'Transportation',\n",
       "  'Hotels & Travel'])"
      ]
     },
     "execution_count": 39,
     "metadata": {},
     "output_type": "execute_result"
    }
   ],
   "source": [
    "get_styles(('Lnwip57QIhwr81NhubGMgQ',\n",
    "  ['Travel Services, Tours, Airport Shuttles, Transportation, Hotels & Travel']))"
   ]
  },
  {
   "cell_type": "code",
   "execution_count": 40,
   "metadata": {},
   "outputs": [],
   "source": [
    "user_styles1 = user_styles.map(lambda x: get_styles(x))"
   ]
  },
  {
   "cell_type": "code",
   "execution_count": 41,
   "metadata": {},
   "outputs": [],
   "source": [
    "#user_styles1.take(1)"
   ]
  },
  {
   "cell_type": "code",
   "execution_count": 42,
   "metadata": {},
   "outputs": [],
   "source": [
    "def get_counts(x):\n",
    "    dict_count_occurences = {}\n",
    "\n",
    "    for i in x[1]:\n",
    "        if i in dict_count_occurences:\n",
    "            dict_count_occurences[i] += 1\n",
    "        else:\n",
    "            dict_count_occurences[i] = 1\n",
    "    y = max(dict_count_occurences, key=dict_count_occurences.get)\n",
    "    return (x[0], y)"
   ]
  },
  {
   "cell_type": "code",
   "execution_count": 43,
   "metadata": {},
   "outputs": [],
   "source": [
    "user_styles2 = user_styles1.map(lambda x: get_counts(x))"
   ]
  },
  {
   "cell_type": "code",
   "execution_count": 44,
   "metadata": {},
   "outputs": [
    {
     "data": {
      "text/plain": [
       "[('U4INQZOPSUaj8hMjLlZ3KA', 'Restaurants'),\n",
       " ('CxDOIDnH8gp9KXzpBHJYXw', 'Restaurants'),\n",
       " ('dIIKEfOgo0KqUfGQvGikPg', 'Restaurants'),\n",
       " ('NNL1zLTP2J_SOputgoPYeQ', 'Restaurants'),\n",
       " ('peuxbSQwXed-81cSqL7Ykw', 'Restaurants'),\n",
       " ('NfU0zDaTMEQ4-X9dbQWd9A', 'Restaurants'),\n",
       " ('pou3BbKsIozfH50rxmnMew', 'Restaurants'),\n",
       " ('ZIOCmdFaMIF56FR-nWr_2A', 'Restaurants'),\n",
       " ('IDVFG1pNSHIHoVuoLuZpcQ', 'Restaurants'),\n",
       " ('bLbSNkLggFnqwNNzzq-Ijw', 'Restaurants'),\n",
       " ('B7ecAeAIrXg7sgmabS38pg', 'Restaurants'),\n",
       " ('Hi10sGSZNxQH3NLyWSZ1oA', 'Restaurants'),\n",
       " ('vHc-UrI9yfL_pnnc6nJtyQ', 'Restaurants'),\n",
       " ('8DEyKVyplnOcSKx39vatbg', 'Restaurants'),\n",
       " ('gjhzKWsqCIrpEd9pevbKZw', 'Restaurants'),\n",
       " ('eKUGKQRE-Ywi5dY55_zChg', 'Restaurants'),\n",
       " ('WWnhqRnWWjutMqh-2SzEuQ', 'Restaurants'),\n",
       " ('zFYs8gSUYDvXkb6O7YkRkw', 'Restaurants'),\n",
       " ('JADdo9NEeO5Az9aOYbyvZA', 'Restaurants'),\n",
       " ('wEE-YMx5pmSuagLtNxMPKA', 'Restaurants'),\n",
       " ('i_DR3vdE73nVm2GlMbGpGA', 'Restaurants'),\n",
       " ('nmdkHL2JKFx55T3nq5VziA', 'Restaurants'),\n",
       " ('W7DHyQlY_kXls2iXt-_2Ag', 'Restaurants'),\n",
       " ('Ve0LUwcrzxL7w0RYgY4Aaw', 'Restaurants'),\n",
       " ('VHdY6oG2JPVNjihWhOooAQ', 'Restaurants'),\n",
       " ('djxnI8Ux8ZYQJhiOQkrRhA', 'Restaurants'),\n",
       " ('om5ZiponkpRqUNa3pVPiRg', 'Restaurants'),\n",
       " ('q_QQ5kBBwlCcbL1s4NVK3g', 'Restaurants'),\n",
       " ('oazuTtSyKV6zrhbsgbdbUQ', 'Arts & Entertainment'),\n",
       " ('58yXn5Y4409kc9q88YwU6w', 'Restaurants'),\n",
       " ('mvK1pv-x0Z5rP4Hz9cWBWw', 'Restaurants'),\n",
       " ('59GSwMflQFllOAWvw0F5mw', 'Restaurants'),\n",
       " ('GFyA9ULGAeD-xZEPto2y7A', 'Restaurants'),\n",
       " ('To7EBxWC-Yz011V2-tdTvA', 'Arts & Entertainment'),\n",
       " ('ET8n-r7glWYqZhuR6GcdNw', 'Restaurants'),\n",
       " ('ITa3vh5ERI90G_WP4SmGUQ', 'Restaurants'),\n",
       " ('ysCBsXWPB-LAiewVS3jZfQ', 'Restaurants'),\n",
       " ('bsMGQruRQGgQZK4KA9Q4Aw', 'Restaurants'),\n",
       " ('8k3aO-mPeyhbR5HUucA5aA', 'Hotels & Travel'),\n",
       " ('idJ35gltZ90eFFCm2YvtXQ', 'Restaurants'),\n",
       " ('0G-QF457q_0Z_jKqh6xWiA', 'Restaurants'),\n",
       " ('nkN_do3fJ9xekchVC-v68A', 'Restaurants'),\n",
       " ('jt49xjEjQisu6wTTGn6B3A', 'Food'),\n",
       " ('m07sy7eLtOjVdZ8oN9JKag', 'Restaurants'),\n",
       " ('rcU7ysY41qGppbw4pQgjqg', 'Restaurants'),\n",
       " ('3mNz5nQFTIBQm0oU5mBR0w', 'Hotels & Travel'),\n",
       " ('fgwI3rYHOv1ipfVfCSx7pg', 'Restaurants'),\n",
       " ('o5STsEtfvD1Ig0J7Z-1uxA', 'Restaurants'),\n",
       " ('yh8_9Ix1wp9dekvyOZbilQ', 'Restaurants'),\n",
       " ('mgytZAasaiBf-END4aZD9w', 'Restaurants'),\n",
       " ('QiciohgD8N6vCty4vGL3pQ', 'Restaurants'),\n",
       " ('hizGc5W1tBHPghM5YKCAtg', 'Restaurants'),\n",
       " ('6s-g2vFu12OemhiK3FJuOQ', 'Restaurants'),\n",
       " ('IU86PZPgTDCFwJEuAg2j7g', 'Restaurants'),\n",
       " ('qI3uzegMdq3q3WxAajECGw', 'Event Planning & Services'),\n",
       " ('AHRrG3T1gJpHvtpZ-K0G_g', 'Restaurants'),\n",
       " ('1vXJWH7L0IMEz5-8aU3SOA', 'Restaurants'),\n",
       " ('j14WgRoU_-2ZE1aw1dXrJg', 'Restaurants'),\n",
       " ('2qKOL7C7WbG_M3EOWvTFxA', 'Restaurants'),\n",
       " ('3zxy3LVBV3ttxoYbY4rQ8A', 'Restaurants'),\n",
       " ('9HGR8sU_zm15sI109H-SGQ', 'Hotels & Travel'),\n",
       " ('7IV3JXTXufasWNSkDEdrcQ', 'Restaurants'),\n",
       " ('4Y81J2Tdq5XAnkeYmCZ2ow', 'Restaurants'),\n",
       " ('NRGJ4IvauajqqCbhT640cw', 'Restaurants'),\n",
       " ('ACUVZ4SiN0gni7dzVDm9EQ', 'Restaurants'),\n",
       " ('WG3w_73scm_JUWJ_3Lgn0Q', 'Restaurants'),\n",
       " ('G9Vb6yQ047TC3O_-GG4WZA', 'Nightlife'),\n",
       " ('lYp818T-xh8Ss79To5Azhw', 'Restaurants'),\n",
       " ('5MCBLBxr10NLUKZ4AboAMg', 'Restaurants'),\n",
       " ('aIJ-2R1q5G7oqzBSgK_Vvw', 'Restaurants'),\n",
       " ('l3S1srqK1CvjB_S4r-ZBeg', 'Restaurants'),\n",
       " ('MGPQVLsODMm9ZtYQW-g_OA', 'Event Planning & Services'),\n",
       " ('UsXqCXRZwSCSw0AT7y1uBg', 'Restaurants'),\n",
       " ('Pf7FI0OukC_CEcCz0ZxoUw', 'Restaurants'),\n",
       " ('AbMjnKOwg736fcIu8apuyQ', 'Restaurants'),\n",
       " ('nxWrhF_hyX0wwjrEkQX8uQ', 'Restaurants'),\n",
       " ('JjXuiru1_ONzDkYVrHN0aw', 'Restaurants'),\n",
       " ('w-w-k-QXosIKQ8HQVwU6IQ', 'Restaurants'),\n",
       " ('pnTiEaqM4slogpY97n9Kvg', 'Restaurants'),\n",
       " ('QnIrewrXxFnssw_gG1gF-Q', 'Restaurants'),\n",
       " ('--2vR0DIsmQ6WfcSzKWigw', 'Arts & Entertainment'),\n",
       " ('9lU5zOPluc6Y8JZUL9nzsQ', 'Restaurants'),\n",
       " ('iLjMdZi0Tm7DQxX1C1_2dg', 'Restaurants'),\n",
       " ('SQXsow-nuLYYQnTcsIedIA', 'Restaurants'),\n",
       " ('lt7bNHl-TXziny4FETu8nA', 'Restaurants'),\n",
       " ('WwulXySQN8t2hwqH_yWurA', 'Restaurants'),\n",
       " ('RgDVC3ZUBqpEe6Y1kPhIpw', 'Food'),\n",
       " ('f1MFQxTZAWJnRQdrouLg_A', 'Restaurants'),\n",
       " ('DS0Idr2XDhz5e7ZfSy0dYA', 'Restaurants'),\n",
       " ('I2XEhv9zBeAJcwYIrnMf1g', 'Event Planning & Services'),\n",
       " ('cufhYFdyrUAt4SWe-m0grQ', 'Restaurants'),\n",
       " ('37cpUoM8hlkSQfReIEBd-Q', 'Restaurants'),\n",
       " ('kPgNVSxXnhkyWBkqTcW45g', 'Restaurants'),\n",
       " ('23J4vG9_xxxdnmi8CBX7Ng', 'Shopping'),\n",
       " ('CdeyZZ6ZGhvs7YCzVheeRg', 'Restaurants'),\n",
       " ('giJqvuH8EC62Hi5WboZ08w', 'German'),\n",
       " ('hcJzh-FFDEfYKGpyM0TpZA', 'Restaurants'),\n",
       " ('lZbotco47bHU7oE5b3d1DA', 'Caterers'),\n",
       " ('1kpMAKRZuAz3OzxBav3XTg', 'Event Planning & Services'),\n",
       " ('_aSs5dSAabuwnXUGBPzASw', 'Hotels')]"
      ]
     },
     "execution_count": 44,
     "metadata": {},
     "output_type": "execute_result"
    }
   ],
   "source": [
    "user_styles2.collect()"
   ]
  },
  {
   "cell_type": "markdown",
   "metadata": {},
   "source": [
    "Each user's preference in business style is determined by aggregating the styles of every business they have reviewed and mapping the data as a list of strings (styles) for each user_id. Then, the lists of strings are aggregated into a single list by splitting the strings with multiple styles and appending them to a single list. The number of occurrences of each style is calculated in the get_counts function, and the user's preferred style is the style with the most number of occurrences.\n",
    "\n",
    "The output shows that the majority of the top 100 users review restaurants as well as hotels/travel. This may indicate that the top 100 reviewers travel to restaurants in various locations and review the food and hospitality they experience."
   ]
  },
  {
   "cell_type": "markdown",
   "metadata": {},
   "source": [
    "## c. Can you infer the locations of these users?"
   ]
  },
  {
   "cell_type": "code",
   "execution_count": 45,
   "metadata": {},
   "outputs": [],
   "source": [
    "import statistics\n",
    "def get_avg_latlon(x):\n",
    "    lat = []\n",
    "    lon = []\n",
    "    for i in range(len(x[1])):\n",
    "        lat.append(x[1][i][0])\n",
    "        lon.append(x[1][i][1]) \n",
    "    return (x[0], statistics.mean(lat), statistics.mean(lon))"
   ]
  },
  {
   "cell_type": "code",
   "execution_count": 46,
   "metadata": {},
   "outputs": [],
   "source": [
    "inferred_loc = user_latlon.map(lambda x: get_avg_latlon(x))"
   ]
  },
  {
   "cell_type": "code",
   "execution_count": 47,
   "metadata": {},
   "outputs": [
    {
     "data": {
      "text/plain": [
       "[('U4INQZOPSUaj8hMjLlZ3KA', 36.51283329476192, -112.13721542705822),\n",
       " ('CxDOIDnH8gp9KXzpBHJYXw', 43.85072735940806, -79.3867659523086),\n",
       " ('dIIKEfOgo0KqUfGQvGikPg', 33.8201266602196, -111.61873846308333),\n",
       " ('NNL1zLTP2J_SOputgoPYeQ', 40.82428099853519, -84.4194633651611),\n",
       " ('peuxbSQwXed-81cSqL7Ykw', 36.118188533676665, -115.16908479082666),\n",
       " ('NfU0zDaTMEQ4-X9dbQWd9A', 41.32055109933965, -82.6153455315933),\n",
       " ('pou3BbKsIozfH50rxmnMew', 38.39303621056666, -91.97555693439833),\n",
       " ('ZIOCmdFaMIF56FR-nWr_2A', 35.87446814155674, -113.54711028996454),\n",
       " ('IDVFG1pNSHIHoVuoLuZpcQ', 35.53689021071149, -114.51023736574253),\n",
       " ('bLbSNkLggFnqwNNzzq-Ijw', 36.09158875728172, -115.13965717917111),\n",
       " ('B7ecAeAIrXg7sgmabS38pg', 34.56928123779546, -113.30101414721364),\n",
       " ('Hi10sGSZNxQH3NLyWSZ1oA', 40.35675393178529, -81.67682894785214),\n",
       " ('vHc-UrI9yfL_pnnc6nJtyQ', 42.03307563417222, -113.79016276923889),\n",
       " ('8DEyKVyplnOcSKx39vatbg', 36.113911596501765, -115.19636836577276),\n",
       " ('gjhzKWsqCIrpEd9pevbKZw', 39.63213809704368, -97.8752273098046),\n",
       " ('eKUGKQRE-Ywi5dY55_zChg', 36.12186013322895, -115.17662001042895),\n",
       " ('WWnhqRnWWjutMqh-2SzEuQ', 37.06893993551028, -106.7805031099243),\n",
       " ('zFYs8gSUYDvXkb6O7YkRkw', 33.94295968466406, -112.59894931477018),\n",
       " ('JADdo9NEeO5Az9aOYbyvZA', 36.05251009167727, -115.10400096191876),\n",
       " ('wEE-YMx5pmSuagLtNxMPKA', 40.354992656310344, -89.16710609084139),\n",
       " ('i_DR3vdE73nVm2GlMbGpGA', 36.03033415539697, -115.07468793676136),\n",
       " ('nmdkHL2JKFx55T3nq5VziA', 36.200487130449496, -114.45892315375454),\n",
       " ('W7DHyQlY_kXls2iXt-_2Ag', 35.54311345883509, -114.43752815911228),\n",
       " ('Ve0LUwcrzxL7w0RYgY4Aaw', 35.77782199993158, -105.54744659981053),\n",
       " ('VHdY6oG2JPVNjihWhOooAQ', 38.84101340621667, -93.27941941902917),\n",
       " ('djxnI8Ux8ZYQJhiOQkrRhA', 37.661151681419014, -108.92400942722536),\n",
       " ('om5ZiponkpRqUNa3pVPiRg', 37.07528779273552, -100.44490433314343),\n",
       " ('q_QQ5kBBwlCcbL1s4NVK3g', 44.18935083042, -78.89712375505),\n",
       " ('oazuTtSyKV6zrhbsgbdbUQ', 38.145348708514284, -106.25048148500714),\n",
       " ('58yXn5Y4409kc9q88YwU6w', 37.04178845935625, -104.2683589294875),\n",
       " ('mvK1pv-x0Z5rP4Hz9cWBWw', 35.64944417861475, -114.59136297148524),\n",
       " ('59GSwMflQFllOAWvw0F5mw', 37.76988778562647, -107.47676141199118),\n",
       " ('GFyA9ULGAeD-xZEPto2y7A', 39.56955731128611, -92.01038877594445),\n",
       " ('To7EBxWC-Yz011V2-tdTvA', 36.13931828715333, -115.15349222658),\n",
       " ('ET8n-r7glWYqZhuR6GcdNw', 37.512506561373236, -91.63775395420986),\n",
       " ('ITa3vh5ERI90G_WP4SmGUQ', 38.316613835369644, -92.70667719249286),\n",
       " ('ysCBsXWPB-LAiewVS3jZfQ', 37.659560308767105, -106.72655767789276),\n",
       " ('bsMGQruRQGgQZK4KA9Q4Aw', 37.140310018630004, -93.249976125845),\n",
       " ('8k3aO-mPeyhbR5HUucA5aA', 37.98637757305, -106.2741514807),\n",
       " ('idJ35gltZ90eFFCm2YvtXQ', 36.117939976514, -115.167135025514),\n",
       " ('0G-QF457q_0Z_jKqh6xWiA', 41.01684055332958, -87.92000621687042),\n",
       " ('nkN_do3fJ9xekchVC-v68A', 35.805390490382145, -108.804954669775),\n",
       " ('jt49xjEjQisu6wTTGn6B3A', 42.788023801572, -84.04461481583),\n",
       " ('m07sy7eLtOjVdZ8oN9JKag', 36.71328899594483, -105.83957766551724),\n",
       " ('rcU7ysY41qGppbw4pQgjqg', 37.89944281094706, -80.27382848954706),\n",
       " ('3mNz5nQFTIBQm0oU5mBR0w', 36.66623612170465, -112.17879381973256),\n",
       " ('fgwI3rYHOv1ipfVfCSx7pg', 34.393032940025, -113.04969552592813),\n",
       " ('o5STsEtfvD1Ig0J7Z-1uxA', 37.47357401718182, -112.4112738717591),\n",
       " ('yh8_9Ix1wp9dekvyOZbilQ', 37.018017849494, -103.575011294974),\n",
       " ('mgytZAasaiBf-END4aZD9w', 36.9617674621283, -111.14472869651321),\n",
       " ('QiciohgD8N6vCty4vGL3pQ', 42.5140120664375, -84.764737358125),\n",
       " ('hizGc5W1tBHPghM5YKCAtg', 36.215835231375, -108.6492881404),\n",
       " ('6s-g2vFu12OemhiK3FJuOQ', 39.23480145414674, -100.1099455944),\n",
       " ('IU86PZPgTDCFwJEuAg2j7g', 35.63627825430345, -106.06980269422759),\n",
       " ('qI3uzegMdq3q3WxAajECGw', 37.12264943733125, -90.51359627057812),\n",
       " ('AHRrG3T1gJpHvtpZ-K0G_g', 40.03714616709123, -86.88386738695789),\n",
       " ('1vXJWH7L0IMEz5-8aU3SOA', 35.92352882082, -114.901109753216),\n",
       " ('j14WgRoU_-2ZE1aw1dXrJg', 36.354454213409525, -84.53312181505238),\n",
       " ('2qKOL7C7WbG_M3EOWvTFxA', 37.384496308213336, -98.87459472816667),\n",
       " ('3zxy3LVBV3ttxoYbY4rQ8A', 34.368628293903704, -113.03236266847037),\n",
       " ('9HGR8sU_zm15sI109H-SGQ', 35.47988090397778, -112.55764431158333),\n",
       " ('7IV3JXTXufasWNSkDEdrcQ', 34.47149768691428, -113.06368851017857),\n",
       " ('4Y81J2Tdq5XAnkeYmCZ2ow', 34.54812889865333, -113.21038136608),\n",
       " ('NRGJ4IvauajqqCbhT640cw', 36.074331472541665, -115.11016571376923),\n",
       " ('ACUVZ4SiN0gni7dzVDm9EQ', 39.5232147380802, -100.33420011357425),\n",
       " ('WG3w_73scm_JUWJ_3Lgn0Q', 35.92327503690476, -115.32179665193333),\n",
       " ('G9Vb6yQ047TC3O_-GG4WZA', 35.725319231586795, -114.68296656737736),\n",
       " ('lYp818T-xh8Ss79To5Azhw', 38.81053965692381, -94.91530282168095),\n",
       " ('5MCBLBxr10NLUKZ4AboAMg', 37.65399834659444, -94.34141856107777),\n",
       " ('aIJ-2R1q5G7oqzBSgK_Vvw', 35.95619955185682, -114.94221265988637),\n",
       " ('l3S1srqK1CvjB_S4r-ZBeg', 37.379201325644445, -109.21169809536111),\n",
       " ('MGPQVLsODMm9ZtYQW-g_OA', 40.57796727703334, -87.29782490666666),\n",
       " ('UsXqCXRZwSCSw0AT7y1uBg', 40.00026288673793, -97.40494970694138),\n",
       " ('Pf7FI0OukC_CEcCz0ZxoUw', 37.361235433977356, -113.14824448899623),\n",
       " ('AbMjnKOwg736fcIu8apuyQ', 36.07767823426338, -115.12857930089578),\n",
       " ('nxWrhF_hyX0wwjrEkQX8uQ', 35.15392567431818, -113.98869339146728),\n",
       " ('JjXuiru1_ONzDkYVrHN0aw', 40.84189109604, -80.55312505316),\n",
       " ('w-w-k-QXosIKQ8HQVwU6IQ', 36.75842303409508, -107.03536991631107),\n",
       " ('pnTiEaqM4slogpY97n9Kvg', 37.62272978995926, -106.66224217772593),\n",
       " ('QnIrewrXxFnssw_gG1gF-Q', 39.66046689571212, -99.9342753997697),\n",
       " ('--2vR0DIsmQ6WfcSzKWigw', 36.114238155979415, -115.15853987434117),\n",
       " ('9lU5zOPluc6Y8JZUL9nzsQ', 36.1186252681125, -115.18188540306667),\n",
       " ('iLjMdZi0Tm7DQxX1C1_2dg', 41.64584635955, -91.14036093304),\n",
       " ('SQXsow-nuLYYQnTcsIedIA', 35.8547765, -104.87316726041),\n",
       " ('lt7bNHl-TXziny4FETu8nA', 35.19390803067647, -108.16890642102942),\n",
       " ('WwulXySQN8t2hwqH_yWurA', 42.310893842733336, -95.17715883794445),\n",
       " ('RgDVC3ZUBqpEe6Y1kPhIpw', 35.998255550562504, -80.932941477425),\n",
       " ('f1MFQxTZAWJnRQdrouLg_A', 33.48982766724, -111.94166092637),\n",
       " ('DS0Idr2XDhz5e7ZfSy0dYA', 41.59132292533572, -89.5989775594),\n",
       " ('I2XEhv9zBeAJcwYIrnMf1g', 35.225795060050004, -80.8425571258),\n",
       " ('cufhYFdyrUAt4SWe-m0grQ', 42.38174919497037, -82.45372684133704),\n",
       " ('37cpUoM8hlkSQfReIEBd-Q', 36.09853135, -115.15708015),\n",
       " ('kPgNVSxXnhkyWBkqTcW45g', 35.7261761365, -100.48719448571428),\n",
       " ('23J4vG9_xxxdnmi8CBX7Ng', 34.832409299999995, -113.77608475),\n",
       " ('CdeyZZ6ZGhvs7YCzVheeRg', 37.987810891900004, -106.85124181228),\n",
       " ('giJqvuH8EC62Hi5WboZ08w', 40.4500419, -79.9138882),\n",
       " ('hcJzh-FFDEfYKGpyM0TpZA', 43.64780155, -79.4199867),\n",
       " ('lZbotco47bHU7oE5b3d1DA', 35.64871345, -97.9691787),\n",
       " ('1kpMAKRZuAz3OzxBav3XTg', 45.515975, -73.558089),\n",
       " ('_aSs5dSAabuwnXUGBPzASw', 36.1090597032, -115.17006387025)]"
      ]
     },
     "execution_count": 47,
     "metadata": {},
     "output_type": "execute_result"
    }
   ],
   "source": [
    "inferred_loc.collect()"
   ]
  },
  {
   "cell_type": "markdown",
   "metadata": {},
   "source": [
    "I inferred the locations of the users by finding the average of the latitudes and longitudes of the reviewed businesses. However, it may be argued that this is an inaccurate approach because users may not be reviewing places that are an equidistant radius from their respective locations. A more accurate approach may be to consider the dates during which users reviewed businesses. A user may travel to review businesses if the dates of reviews concentrated in certain locations are further apart. The existing output may be further contextualized by identifying the city/state or even the address of the average latitude/longitude with a library like geopy."
   ]
  },
  {
   "cell_type": "markdown",
   "metadata": {},
   "source": [
    "# 3. Identify one of your favorite restaurants that is available on Yelp. Search for all reviews and reviewers for this restaurants."
   ]
  },
  {
   "cell_type": "markdown",
   "metadata": {},
   "source": [
    "## KFC"
   ]
  },
  {
   "cell_type": "code",
   "execution_count": 48,
   "metadata": {},
   "outputs": [],
   "source": [
    "df_KFC = sqlContext.sql(\"SELECT df_reviews.user_id, df_business.business_id, df_reviews.stars, text FROM df_reviews, df_business WHERE df_reviews.business_id=df_business.business_id AND df_business.business_id='0SySGK7xWEHSo4ZLvD1C0A'\")"
   ]
  },
  {
   "cell_type": "code",
   "execution_count": 49,
   "metadata": {},
   "outputs": [],
   "source": [
    "df_KFC1 = df_KFC.rdd"
   ]
  },
  {
   "cell_type": "code",
   "execution_count": 50,
   "metadata": {},
   "outputs": [],
   "source": [
    "business_locations1 = sqlContext.sql(\"SELECT df_reviews.user_id, latitude, longitude FROM df_reviews, df_business, highest_fan WHERE df_reviews.business_id=df_business.business_id\")"
   ]
  },
  {
   "cell_type": "code",
   "execution_count": 51,
   "metadata": {},
   "outputs": [],
   "source": [
    "locations2 = business_locations1.rdd"
   ]
  },
  {
   "cell_type": "code",
   "execution_count": 52,
   "metadata": {},
   "outputs": [],
   "source": [
    "locations3 = locations2.map(lambda x: (x[0],[x[1], x[2]]))"
   ]
  },
  {
   "cell_type": "code",
   "execution_count": 53,
   "metadata": {},
   "outputs": [],
   "source": [
    "user_latlon1 = locations3.groupByKey().mapValues(list)"
   ]
  },
  {
   "cell_type": "code",
   "execution_count": 54,
   "metadata": {},
   "outputs": [],
   "source": [
    "user_dist_classification1 = user_latlon.map(lambda x: get_dist_classification(x))"
   ]
  },
  {
   "cell_type": "code",
   "execution_count": 55,
   "metadata": {},
   "outputs": [],
   "source": [
    "#user_dist_classification1.take(10)"
   ]
  },
  {
   "cell_type": "code",
   "execution_count": 59,
   "metadata": {},
   "outputs": [],
   "source": [
    "user_dist = user_dist_classification1.collect()"
   ]
  },
  {
   "cell_type": "code",
   "execution_count": 60,
   "metadata": {},
   "outputs": [],
   "source": [
    "def get_nonlocal(x):\n",
    "    for i in user_dist:\n",
    "        if (x[0] == i[0]) and (i[1] != 'local'):\n",
    "            return (x[0], i[1])\n",
    "        elif (x[0] == i[0]) and (i[1] == 'local'):\n",
    "            return ('-','-')\n",
    "    return ('-', 'local')"
   ]
  },
  {
   "cell_type": "code",
   "execution_count": 61,
   "metadata": {},
   "outputs": [],
   "source": [
    "df_KFC2 = df_KFC1.map(lambda x: get_nonlocal(x))"
   ]
  },
  {
   "cell_type": "code",
   "execution_count": 62,
   "metadata": {},
   "outputs": [
    {
     "data": {
      "text/plain": [
       "[('-', 'local'),\n",
       " ('-', 'local'),\n",
       " ('-', 'local'),\n",
       " ('-', 'local'),\n",
       " ('-', 'local'),\n",
       " ('-', 'local'),\n",
       " ('-', 'local')]"
      ]
     },
     "execution_count": 62,
     "metadata": {},
     "output_type": "execute_result"
    }
   ],
   "source": [
    "df_KFC2.collect()"
   ]
  },
  {
   "cell_type": "markdown",
   "metadata": {},
   "source": [
    "## a. Is this restaurant frequented by non-local reviewers (how do you know)?"
   ]
  },
  {
   "cell_type": "markdown",
   "metadata": {},
   "source": [
    "No, this location only has reviews from local reviewers. This is found by identifying the reviews associated with the location, then getting the distance classification of every user in the user dataset since the location may not have reviews from the already classified top 100. The resulting output supports the claim that the restaurant is primarily reviewed by local reviewers"
   ]
  },
  {
   "cell_type": "code",
   "execution_count": 63,
   "metadata": {},
   "outputs": [
    {
     "data": {
      "text/plain": [
       "[Row(user_id='KCHbs_KET1F4bbTlrrt5bQ', business_id='0SySGK7xWEHSo4ZLvD1C0A', stars=1.0, text=\"I would seriously avoid this particular KFC. Last time I went I got a chicken sandwich (not sure what type exactly) but the chicken was tough and slightly grey colored. It tasted off. It's like it was recooked several times and was awful. Just absolutely nasty.\"),\n",
       " Row(user_id='H_l3Okb4P-ij2euaQZ1ikw', business_id='0SySGK7xWEHSo4ZLvD1C0A', stars=1.0, text=\"This is the worst fast food experiences ever at this location. I've been here several times over the years and I keep telling myself I'm a glutton for punishment. But, it is near park and ride & my son wanted some KFC. This time, I finally learned my lesson. Never again. \\n\\nIt was prime dinner time, after work. So it is busy but the drive thru was moving. I ordered two value meals. Two. Nothing outrageous like you will see at a KFC when someone will come through and order like 3 buckets of chicken. \\n\\nI pulled up and paid & got my two drinks. So far, so good. So a few minutes go by...then 5, then 10. Then FIFTEEN. I've turned my engine off by now and there is a line behind me. I see workers laughing and goofing off, save for one older lady with grey hair who looked frazzled. I finally wave down the kid working the window. He says it will be just a few more minutes & quickly shuts the window. \\n\\nI've worked fast food in high school almost 30 years ago, I get it. So I wait another 5 minutes. I see another kid throw and bunch of free chocolate chip cookies in my bag & the kid gives it to me. \\n\\nNow, as I've said, I've been here before & they have screwed up my (not complicated) orders 9 out of 10 times. So I don't move & check it. \\n\\nThings were missing. Wrong things put in. \\n\\nMine was not a special order. Two value meals. Straightforward. I tell the kid by knocking since he's back to goofing off. I tell him (nicely, because I don't want it spit in) what was wrong. He says ok, another 5 minutes go by. \\n\\nHe finally gives me the food (and more cookies for free) and starts complaining that the people behind me are going to give him hell. I just stared. Like listen, kid. I know these jobs suck. And when you are older, other jobs will suck for other reasons. But don't make me wait for 20 minutes & then cry about what hell you will be getting? Then explain to me what happened. I even offered to pull up at one point and he said they don't do that. It was puzzling. \\n\\nGot home, gave kids food and the 20 cookies they gave me. Chalupa shells burnt & oil soaked & chicken gross. Never again. Thought about asking for a manager but figured they would give zero craps. Weird experience.\"),\n",
       " Row(user_id='uIgv9cfd0KAODrXIlDQoyw', business_id='0SySGK7xWEHSo4ZLvD1C0A', stars=1.0, text=\"I know not to expect much from fast food places, but this experience was truly disappointing. Seems like everywhere you go now service is going way downhill.\\n\\nI picked up an 8 piece bucket meal last night. The drumsticks and wings had hunks of meat missing off of them and were TINY as is. Looked like someone had pulled meat off. Every single biscuit was hard as a rock. We were pounding them on the table and they weren't evening crumbling. You could probably use one as a front door knocker. My family was still hungry after. Do not visit this location. Very disappointing.\"),\n",
       " Row(user_id='IZv7gwX5YXiRbderomhRfw', business_id='0SySGK7xWEHSo4ZLvD1C0A', stars=1.0, text=\"I wish I could give a half star. Quality control isn't a priority here. Yes it's fast food, but have a little standard. The store is somewhat clean, I guess. I've eaten inside several times and again no control over appearance. I'm guessing this is where KFC/Taco Bell managers come before they get fired. Some of the female staff here are so nice, they need to move on. They rest could give two poops about working. Orders are 50/50 on weather they get it right. I'm hope this place closes when the Taco Bell opens in Wexford. I also hope they fire everyone and making they re interview to work in Wexford. The food is questionable at best. Chicken is past is freshest most times. Stay a way from any chicken sandwich. The meat is warn out, beat, and rock hard. Mac and cheese is horrible at best. I wouldn't feed cows with the corn. The busques are rock hard. Sometimes you get normal tacos some times they are rationed as to reflect they are out of product. They didn't mess up the soda at least. Stay a way and go get ready eat food at giant eagle. That at least a 2-3 star place.\"),\n",
       " Row(user_id='nr1NipgkHhbw_gvlGfLiLQ', business_id='0SySGK7xWEHSo4ZLvD1C0A', stars=1.0, text=\"I ordered ten piece meal but they give me eight \\n piece!! I called 3 times but no one answer! My wife and my two children's daughters I don't have enough to eat!! BAD SERVICE!!!!!!\"),\n",
       " Row(user_id='v4rlS4O7LvOdgpjeNx6Pug', business_id='0SySGK7xWEHSo4ZLvD1C0A', stars=2.0, text=\"if you come to this kfc before noon, it is very good.\\n\\nif you get chicken that's been sitting on the warmer - disgusting\"),\n",
       " Row(user_id='H_d_mKOMoMwWTjF7Yj0Kqg', business_id='0SySGK7xWEHSo4ZLvD1C0A', stars=4.0, text=\"This place is delicious!!!! Although they missed an item on an order ......it's a very clean enviroment aswell. Sometimes it has its ups and downs but overall a very good resteraunt.\")]"
      ]
     },
     "execution_count": 63,
     "metadata": {},
     "output_type": "execute_result"
    }
   ],
   "source": [
    "df_KFC1.collect()"
   ]
  },
  {
   "cell_type": "markdown",
   "metadata": {},
   "source": [
    "## b. What are the positive things about this restaurant (study higher-rated reviews)"
   ]
  },
  {
   "cell_type": "markdown",
   "metadata": {},
   "source": [
    "There are very few positive things in the reviews for this particular KFC location. There is one review with 4 stars that states the food was delicious, and the environment was clean."
   ]
  },
  {
   "cell_type": "markdown",
   "metadata": {},
   "source": [
    "## c. What are the negative things about this restaurant (study lower-rated reviews)"
   ]
  },
  {
   "cell_type": "markdown",
   "metadata": {},
   "source": [
    "The negative things stated in the reviews for this location are that the food was very low-quality. Many reviewers cited undercooked or disfigured food, unprofessional employees, incorrect orders, and excessive wait times."
   ]
  }
 ],
 "metadata": {
  "kernelspec": {
   "display_name": "Python 3",
   "language": "python",
   "name": "python3"
  },
  "language_info": {
   "codemirror_mode": {
    "name": "ipython",
    "version": 3
   },
   "file_extension": ".py",
   "mimetype": "text/x-python",
   "name": "python",
   "nbconvert_exporter": "python",
   "pygments_lexer": "ipython3",
   "version": "3.6.9"
  }
 },
 "nbformat": 4,
 "nbformat_minor": 4
}
