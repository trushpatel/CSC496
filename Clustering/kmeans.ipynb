{
 "cells": [
  {
   "cell_type": "code",
   "execution_count": 1,
   "id": "aaa54a81",
   "metadata": {},
   "outputs": [],
   "source": [
    "import os\n",
    "import sys\n",
    "\n",
    "spark_path = os.environ['SPARK_HOME']\n",
    "sys.path.append(spark_path + \"/bin\")\n",
    "sys.path.append(spark_path + \"/python\")\n",
    "sys.path.append(spark_path + \"/python/pyspark/\")\n",
    "sys.path.append(spark_path + \"/python/lib\")\n",
    "sys.path.append(spark_path + \"/python/lib/pyspark.zip\")\n",
    "sys.path.append(spark_path + \"/python/lib/py4j-0.10.9-src.zip\")\n",
    "\n",
    "import findspark\n",
    "findspark.init()\n",
    "\n",
    "import pyspark"
   ]
  },
  {
   "cell_type": "code",
   "execution_count": 2,
   "id": "f4488261",
   "metadata": {},
   "outputs": [],
   "source": [
    "number_cores = 8\n",
    "memory_gb = 8\n",
    "conf = (pyspark.SparkConf().setMaster('local[{}]'.format(number_cores)).set('spark.driver.memory', '{}g'.format(memory_gb)))\n",
    "sc = pyspark.SparkContext(conf=conf)"
   ]
  },
  {
   "cell_type": "code",
   "execution_count": 3,
   "id": "a9dbecda",
   "metadata": {},
   "outputs": [],
   "source": [
    "from pyspark.ml.linalg import Vectors\n",
    "data = [(Vectors.dense([0.0, 0.0]), 2.0),\n",
    "        (Vectors.dense([1.0, 1.0]), 2.0),\n",
    "        (Vectors.dense([9.0, 8.0]), 2.0),\n",
    "        (Vectors.dense([8.0, 9.0]), 2.0)]"
   ]
  },
  {
   "cell_type": "code",
   "execution_count": 4,
   "id": "73e26148",
   "metadata": {},
   "outputs": [],
   "source": [
    "from pyspark.sql import SQLContext\n",
    "sqlContext= SQLContext(sc)\n",
    "df = sqlContext.createDataFrame(data, [\"features\", \"weighCol\"])"
   ]
  },
  {
   "cell_type": "code",
   "execution_count": 66,
   "id": "20e985cd",
   "metadata": {},
   "outputs": [
    {
     "data": {
      "text/plain": [
       "10"
      ]
     },
     "execution_count": 66,
     "metadata": {},
     "output_type": "execute_result"
    }
   ],
   "source": [
    "from pyspark.ml.clustering import KMeans\n",
    "kmeans = KMeans(k=2)\n",
    "kmeans.setSeed(1)\n",
    "kmeans.setWeightCol(\"weighCol\")\n",
    "kmeans.setMaxIter(10)\n",
    "kmeans.getMaxIter()"
   ]
  },
  {
   "cell_type": "code",
   "execution_count": 6,
   "id": "af079de1",
   "metadata": {},
   "outputs": [
    {
     "data": {
      "text/plain": [
       "'euclidean'"
      ]
     },
     "execution_count": 6,
     "metadata": {},
     "output_type": "execute_result"
    }
   ],
   "source": [
    "kmeans.clear(kmeans.maxIter)\n",
    "model = kmeans.fit(df)\n",
    "model.getDistanceMeasure()"
   ]
  },
  {
   "cell_type": "code",
   "execution_count": 7,
   "id": "400d5007",
   "metadata": {},
   "outputs": [
    {
     "data": {
      "text/plain": [
       "0"
      ]
     },
     "execution_count": 7,
     "metadata": {},
     "output_type": "execute_result"
    }
   ],
   "source": [
    "model.setPredictionCol(\"newPrediction\")\n",
    "model.predict(df.head().features)"
   ]
  },
  {
   "cell_type": "code",
   "execution_count": 8,
   "id": "6b45b773",
   "metadata": {},
   "outputs": [
    {
     "data": {
      "text/plain": [
       "2"
      ]
     },
     "execution_count": 8,
     "metadata": {},
     "output_type": "execute_result"
    }
   ],
   "source": [
    "centers = model.clusterCenters()\n",
    "len(centers)"
   ]
  },
  {
   "cell_type": "code",
   "execution_count": 9,
   "id": "5ded7def",
   "metadata": {},
   "outputs": [
    {
     "data": {
      "text/plain": [
       "[Row(features=DenseVector([0.0, 0.0]), newPrediction=0),\n",
       " Row(features=DenseVector([1.0, 1.0]), newPrediction=0),\n",
       " Row(features=DenseVector([9.0, 8.0]), newPrediction=1),\n",
       " Row(features=DenseVector([8.0, 9.0]), newPrediction=1)]"
      ]
     },
     "execution_count": 9,
     "metadata": {},
     "output_type": "execute_result"
    }
   ],
   "source": [
    "transformed = model.transform(df).select(\"features\", \"newPrediction\")\n",
    "rows = transformed.collect()\n",
    "rows"
   ]
  },
  {
   "cell_type": "markdown",
   "id": "96b6684e",
   "metadata": {},
   "source": [
    "## Run the model for Bisecting KMeans based on the API"
   ]
  },
  {
   "cell_type": "code",
   "execution_count": 10,
   "id": "51801fd1",
   "metadata": {},
   "outputs": [],
   "source": [
    "#data = [(Vectors.dense([0.0, 0.0]), 2.0), (Vectors.dense([1.0, 1.0]), 2.0),\n",
    "#        (Vectors.dense([9.0, 8.0]), 2.0), (Vectors.dense([8.0, 9.0]), 2.0)]"
   ]
  },
  {
   "cell_type": "code",
   "execution_count": 11,
   "id": "8eba88fe",
   "metadata": {},
   "outputs": [],
   "source": [
    "#df = sqlContext.createDataFrame(data, [\"features\", \"weighCol\"])"
   ]
  },
  {
   "cell_type": "code",
   "execution_count": 12,
   "id": "d9adde79",
   "metadata": {},
   "outputs": [],
   "source": [
    "#bkm = BisectingKMeans(k=2, minDivisibleClusterSize=1.0)"
   ]
  },
  {
   "cell_type": "code",
   "execution_count": 13,
   "id": "a1f19796",
   "metadata": {},
   "outputs": [],
   "source": [
    "#bkm.setMaxIter(10)"
   ]
  },
  {
   "cell_type": "code",
   "execution_count": 14,
   "id": "1882cfb2",
   "metadata": {},
   "outputs": [],
   "source": [
    "#bkm.getMaxIter()"
   ]
  },
  {
   "cell_type": "code",
   "execution_count": 15,
   "id": "4a21440a",
   "metadata": {},
   "outputs": [],
   "source": [
    "#bkm.clear(bkm.maxIter)"
   ]
  },
  {
   "cell_type": "code",
   "execution_count": 16,
   "id": "ad84288d",
   "metadata": {},
   "outputs": [],
   "source": [
    "#bkm.setSeed(1)"
   ]
  },
  {
   "cell_type": "code",
   "execution_count": 17,
   "id": "4b2b9af2",
   "metadata": {},
   "outputs": [],
   "source": [
    "#bkm.setWeightCol(\"weighCol\")"
   ]
  },
  {
   "cell_type": "code",
   "execution_count": 18,
   "id": "73c44475",
   "metadata": {},
   "outputs": [],
   "source": [
    "#bkm.getSeed()"
   ]
  },
  {
   "cell_type": "code",
   "execution_count": 19,
   "id": "e07d3933",
   "metadata": {},
   "outputs": [],
   "source": [
    "#bkm.clear(bkm.seed)"
   ]
  },
  {
   "cell_type": "code",
   "execution_count": 20,
   "id": "cf810954",
   "metadata": {},
   "outputs": [],
   "source": [
    "#model = bkm.fit(df)"
   ]
  },
  {
   "cell_type": "code",
   "execution_count": 21,
   "id": "d2fbf165",
   "metadata": {},
   "outputs": [],
   "source": [
    "#model.getMaxIter()"
   ]
  },
  {
   "cell_type": "code",
   "execution_count": 22,
   "id": "94bb8601",
   "metadata": {},
   "outputs": [],
   "source": [
    "#model.setPredictionCol(\"newPrediction\")"
   ]
  },
  {
   "cell_type": "code",
   "execution_count": 23,
   "id": "6dc26241",
   "metadata": {},
   "outputs": [],
   "source": [
    "#model.predict(df.head().features)"
   ]
  },
  {
   "cell_type": "code",
   "execution_count": 24,
   "id": "7c29d8ea",
   "metadata": {},
   "outputs": [],
   "source": [
    "#centers = model.clusterCenters()"
   ]
  },
  {
   "cell_type": "code",
   "execution_count": 25,
   "id": "2133028d",
   "metadata": {},
   "outputs": [],
   "source": [
    "#len(centers)"
   ]
  },
  {
   "cell_type": "code",
   "execution_count": 26,
   "id": "4c7a9f4d",
   "metadata": {},
   "outputs": [],
   "source": [
    "#model.computeCost(df)"
   ]
  },
  {
   "cell_type": "code",
   "execution_count": 27,
   "id": "aba0a2e6",
   "metadata": {},
   "outputs": [],
   "source": [
    "#model.hasSummary"
   ]
  },
  {
   "cell_type": "code",
   "execution_count": 28,
   "id": "788e1546",
   "metadata": {},
   "outputs": [],
   "source": [
    "#summary = model.summary"
   ]
  },
  {
   "cell_type": "code",
   "execution_count": 29,
   "id": "b1ffaaea",
   "metadata": {},
   "outputs": [],
   "source": [
    "#summary.k"
   ]
  },
  {
   "cell_type": "code",
   "execution_count": 30,
   "id": "fee7b36c",
   "metadata": {},
   "outputs": [],
   "source": [
    "#summary.clusterSizes"
   ]
  },
  {
   "cell_type": "code",
   "execution_count": 31,
   "id": "e54e9806",
   "metadata": {},
   "outputs": [],
   "source": [
    "#summary.trainingCost"
   ]
  },
  {
   "cell_type": "code",
   "execution_count": 32,
   "id": "b38cdbc6",
   "metadata": {},
   "outputs": [],
   "source": [
    "#transformed = model.transform(df).select(\"features\", \"newPrediction\")"
   ]
  },
  {
   "cell_type": "code",
   "execution_count": 33,
   "id": "351c3cee",
   "metadata": {},
   "outputs": [],
   "source": [
    "#rows = transformed.collect()"
   ]
  },
  {
   "cell_type": "code",
   "execution_count": 34,
   "id": "c72e46ca",
   "metadata": {},
   "outputs": [],
   "source": [
    "#rows[0].newPrediction == rows[1].newPrediction"
   ]
  },
  {
   "cell_type": "code",
   "execution_count": 35,
   "id": "aa2b09fd",
   "metadata": {},
   "outputs": [],
   "source": [
    "#rows[2].newPrediction == rows[3].newPrediction"
   ]
  },
  {
   "cell_type": "code",
   "execution_count": 36,
   "id": "647e7344",
   "metadata": {},
   "outputs": [],
   "source": [
    "#bkm_path = temp_path + \"/bkm\""
   ]
  },
  {
   "cell_type": "code",
   "execution_count": 37,
   "id": "3d6cec96",
   "metadata": {},
   "outputs": [],
   "source": [
    "#bkm.save(bkm_path)"
   ]
  },
  {
   "cell_type": "code",
   "execution_count": 38,
   "id": "c911e8db",
   "metadata": {},
   "outputs": [],
   "source": [
    "#bkm2 = BisectingKMeans.load(bkm_path)"
   ]
  },
  {
   "cell_type": "code",
   "execution_count": 39,
   "id": "82fa949c",
   "metadata": {},
   "outputs": [],
   "source": [
    "#bkm2.getK()"
   ]
  },
  {
   "cell_type": "code",
   "execution_count": 40,
   "id": "b4f2b9b3",
   "metadata": {},
   "outputs": [],
   "source": [
    "#bkm2.getDistanceMeasure()"
   ]
  },
  {
   "cell_type": "code",
   "execution_count": 41,
   "id": "3f094138",
   "metadata": {},
   "outputs": [],
   "source": [
    "#model_path = temp_path + \"/bkm_model\""
   ]
  },
  {
   "cell_type": "code",
   "execution_count": 42,
   "id": "f0f51d5a",
   "metadata": {},
   "outputs": [],
   "source": [
    "#model.save(model_path)"
   ]
  },
  {
   "cell_type": "code",
   "execution_count": 43,
   "id": "bf12ffb8",
   "metadata": {},
   "outputs": [],
   "source": [
    "#model2 = BisectingKMeansModel.load(model_path)"
   ]
  },
  {
   "cell_type": "code",
   "execution_count": 44,
   "id": "92e97e16",
   "metadata": {},
   "outputs": [],
   "source": [
    "#model2.hasSummary"
   ]
  },
  {
   "cell_type": "code",
   "execution_count": 45,
   "id": "d6c74292",
   "metadata": {},
   "outputs": [],
   "source": [
    "#model.clusterCenters()[0] == model2.clusterCenters()[0]"
   ]
  },
  {
   "cell_type": "code",
   "execution_count": 46,
   "id": "e03563c0",
   "metadata": {},
   "outputs": [],
   "source": [
    "#model.clusterCenters()[1] == model2.clusterCenters()[1]"
   ]
  },
  {
   "cell_type": "code",
   "execution_count": 47,
   "id": "9f3e2329",
   "metadata": {},
   "outputs": [],
   "source": [
    "#model.transform(df).take(1) == model2.transform(df).take(1)"
   ]
  },
  {
   "cell_type": "markdown",
   "id": "d741e8b8",
   "metadata": {},
   "source": [
    "## Reddit Crypto Data\n",
    "\n",
    "- Download the [Reddit Crypto data](https://www.cs.wcupa.edu/lngo/data2/reddit_crypto.zip)\n",
    "- Unzip the crypto data.\n",
    "- Review [the metadata](https://www.kaggle.com/pavellexyr/reddit-cryptocurrency-data-for-august-2021)\n",
    "- Perform a K-mean clustering on the text of posts and comments. Address the followings:\n",
    "  - What data point to remove, what not to remove?\n",
    "  - How to clean up text data?\n",
    "  - How to make the resulting cluster data more meaningful?"
   ]
  },
  {
   "cell_type": "code",
   "execution_count": 51,
   "id": "f28ce72b",
   "metadata": {},
   "outputs": [],
   "source": [
    "spark = pyspark.sql.SparkSession(sc)\n",
    "df_posts = spark.read.csv(\"/users/trush/CSC496/Clustering/data/crypto-aug-2021-posts.csv\",\n",
    "                          header=True,\n",
    "                          inferSchema=True,\n",
    "                          multiLine=True,\n",
    "                          escape='\"').cache()"
   ]
  },
  {
   "cell_type": "code",
   "execution_count": 49,
   "id": "addf911f",
   "metadata": {},
   "outputs": [
    {
     "data": {
      "text/plain": [
       "250569"
      ]
     },
     "execution_count": 49,
     "metadata": {},
     "output_type": "execute_result"
    }
   ],
   "source": [
    "df_posts.count()"
   ]
  },
  {
   "cell_type": "code",
   "execution_count": 52,
   "id": "4496dcb9",
   "metadata": {},
   "outputs": [
    {
     "name": "stdout",
     "output_type": "stream",
     "text": [
      "root\n",
      " |-- type: string (nullable = true)\n",
      " |-- id: string (nullable = true)\n",
      " |-- subreddit.id: string (nullable = true)\n",
      " |-- subreddit.name: string (nullable = true)\n",
      " |-- subreddit.nsfw: boolean (nullable = true)\n",
      " |-- created_utc: integer (nullable = true)\n",
      " |-- permalink: string (nullable = true)\n",
      " |-- domain: string (nullable = true)\n",
      " |-- url: string (nullable = true)\n",
      " |-- selftext: string (nullable = true)\n",
      " |-- title: string (nullable = true)\n",
      " |-- score: integer (nullable = true)\n",
      "\n"
     ]
    }
   ],
   "source": [
    "df_posts.printSchema()"
   ]
  },
  {
   "cell_type": "code",
   "execution_count": 58,
   "id": "4eed7a9b",
   "metadata": {},
   "outputs": [
    {
     "data": {
      "text/plain": [
       "[Row(type='post', id='pfi1nw', subreddit.id='9e4pv', subreddit.name='cryptomoonshots', subreddit.nsfw=False, created_utc=1630454394, permalink='https://old.reddit.com/r/CryptoMoonShots/comments/pfi1nw/next_generation_safe_token_with_cake_rewards_meth/', domain='self.cryptomoonshots', url=None, selftext=\"⚜️ 𝓟𝓻𝓸𝓶𝓮𝓽𝓱𝓮𝓾𝓼 ⚜️\\n\\n&amp;#x200B;\\n\\n&amp;#x200B;\\n\\nThursday 8pm UTC #Prometheus will launch. The NFT titans will be combined to the most (in)famous people in the world. The first one who will be Zeus in the battle against others is Elon Musk - otherwise called: Elon Zuskus.\\n\\n&amp;#x200B;\\n\\nLet's see what he brings to the battlefield!\\n\\n&amp;#x200B;\\n\\n&amp;#x200B;\\n\\n⚡️ [https://t.me/Prometheus\\\\_BSC](https://t.me/Prometheus_BSC)\\n\\n&amp;#x200B;\\n\\n&amp;#x200B;\\n\\n&amp;#x200B;\\n\\n&amp;#x200B;\\n\\n&amp;#x200B;\\n\\n——— 🔥: 𝐈𝐧𝐟𝐨 :🔥 ———\\n\\n&amp;#x200B;\\n\\n🍰 Never been done before Cross-Chain NFT project with $CAKE rewards!\\n\\n🖼 NFT Giveaways to the community! (Custom and existing)\\n\\n♠️ NFT Game with custom Prometheus NFT's in development\\n\\n🖥 Real tech development (SPXcharts and Cross-Chain Technology)\\n\\n🔮 Devs and marketing of previous/existing HUGE projects!\\n\\n🎥Doxxed Devs!\\n\\n&amp;#x200B;\\n\\n‼️The community has a voice in bascially ever move the team makes=\\n\\n&amp;#x200B;\\n\\n&amp;#x200B;\\n\\n&amp;#x200B;\\n\\n——— 🔥: 𝐓𝐨𝐤𝐞𝐧𝐨𝐦𝐢𝐜𝐬 :🔥 ———\\n\\n&amp;#x200B;\\n\\n🍰 𝟗% 𝐂𝐚𝐤𝐞 𝐑𝐞𝐟𝐥𝐞𝐜𝐭𝐢𝐨𝐧𝐬\\n\\n🌊 𝟏% 𝐋𝐢𝐪𝐮𝐢𝐝𝐢𝐭𝐲\\n\\n🔮𝟓% 𝐌𝐚𝐫𝐤𝐞𝐭𝐢𝐧𝐠 &amp; 𝐃𝐞𝐯𝐞𝐥𝐨𝐩𝐦𝐞𝐧𝐭\\n\\n💐𝟒% 𝐂𝐡𝐚𝐫𝐢𝐭𝐲 &amp; 𝐁𝐮𝐲𝐛𝐚𝐜𝐤\\n\\n🔥𝟑𝟎% 𝐈𝐧𝐢𝐭𝐢𝐚𝐥 𝐁𝐮𝐫𝐧 𝐨𝐟 𝐓𝐨𝐭𝐚𝐥 𝐒𝐮𝐩𝐩𝐥𝐲\\n\\n&amp;#x200B;\\n\\n&amp;#x200B;\\n\\n&amp;#x200B;\\n\\n——— 🔥: 𝐏𝐫𝐨𝐦𝐨𝐭𝐢𝐨𝐧 :🔥 ———\\n\\n&amp;#x200B;\\n\\n⚡️𝐇𝐮𝐠𝐞 𝐢𝐧𝐟𝐥𝐮𝐞𝐧𝐜𝐞𝐫𝐬 𝐛𝐚𝐜𝐤𝐢𝐧𝐠 𝐮𝐩 𝐭𝐡𝐞 𝐩𝐫𝐨𝐣𝐞𝐜𝐭!\\n\\n⚡️𝐕𝐢𝐫𝐚𝐥 𝐌𝐚𝐫𝐤𝐞𝐭𝐢𝐧𝐠 𝐒𝐭𝐫𝐚𝐭𝐞𝐠𝐢𝐞𝐬!\\n\\n⚡️Big funds available prior to launch!\\n\\n&amp;#x200B;\\n\\n&amp;#x200B;\\n\\n&amp;#x200B;\\n\\n——— 🔥: TECHNOLOGY: 🔥 ———\\n\\n&amp;#x200B;\\n\\n🌀𝐒𝐏𝐗𝐜𝐡𝐚𝐫𝐭𝐬 𝐚𝐫𝐞 𝐢𝐧 𝐀𝐥𝐩𝐡𝐚 (𝐩𝐫𝐞𝐯𝐢𝐞𝐰 on twitter) 𝐚𝐧𝐝 𝐨𝐭𝐡𝐞𝐫\\n\\n𝐫𝐞𝐯𝐨𝐥𝐮𝐭𝐢𝐨𝐧𝐚𝐫𝐲 𝐭𝐞𝐜𝐡 𝐢𝐬 𝐛𝐞𝐢𝐧𝐠 𝐝𝐞𝐯𝐞𝐥𝐨𝐩𝐞𝐝 𝟐𝟒/𝟕!\\n\\n🌀 Custom NFT Game in development!\\n\\n🌀 Cross-Chain Technology development starting soon\\n\\n&amp;#x200B;\\n\\n&amp;#x200B;\\n\\n&amp;#x200B;\\n\\n——— ♥️ : 𝐂𝐡𝐚𝐫𝐢𝐭𝐲 : ♥️ ———\\n\\n&amp;#x200B;\\n\\n🎈𝐖𝐞 𝐚𝐫𝐞 𝐝𝐞𝐝𝐢𝐜𝐚𝐭𝐞𝐝 𝐭𝐨 𝐝𝐨𝐢𝐧𝐠 𝐠𝐨𝐨𝐝 𝐢𝐧 𝐭𝐡𝐞 𝐰𝐨𝐫𝐥𝐝,\\n\\n𝐰𝐡𝐢𝐜𝐡 𝐢𝐬 𝐰𝐡𝐲 𝐰𝐞 𝐡𝐚𝐯𝐞 𝐜𝐡𝐨𝐬𝐞𝐧\\n\\n𝐭𝐨 𝐦𝐚𝐤𝐞 𝐨𝐮𝐫 𝐦𝐚𝐢𝐧 𝐜𝐡𝐚𝐫𝐢𝐭𝐲 𝐟𝐨𝐫 𝐝𝐨𝐧𝐚𝐭𝐢𝐨𝐧𝐬\\n\\n𝐀𝐥𝐞𝐱’𝐬 𝐋𝐞𝐦𝐨𝐧𝐚𝐝𝐞 𝐒𝐭𝐚𝐧𝐝.\\n\\nBe𝐜𝐚𝐮𝐬𝐞 𝐂𝐀𝐊𝐄 𝐚𝐥𝐰𝐚𝐲𝐬 𝐠𝐨𝐞𝐬 𝐰𝐞𝐥𝐥 𝐰𝐢𝐭𝐡 𝐋𝐞𝐦𝐨𝐧𝐚𝐝𝐞!\\n\\n&amp;#x200B;\\n\\n&amp;#x200B;\\n\\n&amp;#x200B;\\n\\n♥️ 𝐅𝐢𝐠𝐡𝐭𝐢𝐧𝐠 𝐜𝐡𝐢𝐥𝐝𝐡𝐨𝐨𝐝 𝐜𝐚𝐧𝐜𝐞𝐫, 𝐨𝐧𝐞 𝐜𝐮𝐩 𝐚𝐭 𝐚 𝐭𝐢𝐦𝐞 ♥️\\n\\n&amp;#x200B;\\n\\n&amp;#x200B;\\n\\n&amp;#x200B;\\n\\n——— 🔥: 𝐒𝐨𝐜𝐢𝐚𝐥𝐬 :🔥 ———\\n\\n&amp;#x200B;\\n\\nℹ️𝐅𝐨𝐫 𝐦𝐨𝐫𝐞 𝐢𝐧𝐟𝐨𝐫𝐦𝐚𝐭𝐢𝐨𝐧 𝐚𝐛𝐨𝐮𝐭 𝐭𝐡𝐞 𝐩𝐫𝐨𝐣𝐞𝐜𝐭 𝐢𝐧𝐜𝐥𝐮𝐝𝐢𝐧𝐠 𝐑𝐨𝐚𝐝𝐌𝐚𝐩 𝐩𝐥𝐞𝐚𝐬𝐞 𝐯𝐢𝐞𝐰 𝐜𝐨𝐧𝐭𝐚𝐜𝐭 𝐢𝐧𝐟𝐨𝐫𝐦𝐚𝐭𝐢𝐨𝐧 𝐛𝐞𝐥𝐨𝐰:\\n\\n&amp;#x200B;\\n\\n🌍 𝐖𝐞𝐛𝐬𝐢𝐭𝐞 : [https://prometheusbsc.com/](https://prometheusbsc.com/)\\n\\n🐦 𝐓𝐰𝐢𝐭𝐭𝐞𝐫: [https://twitter.com/Prometheus\\\\_BSC](https://twitter.com/Prometheus_BSC)\\n\\n🔖 𝐓𝐞𝐥𝐞𝐠𝐫𝐚𝐦: [https://t.me/Prometheus\\\\_BSC](https://t.me/Prometheus_BSC)\\n\\n🌐 𝐅𝐚𝐜𝐞𝐛𝐨𝐨𝐤: [facebook.com/groups/prometheus](https://facebook.com/groups/prometheus)\\n\\n🌐 𝐈𝐧𝐬𝐭𝐚𝐠𝐫𝐚𝐦: [https://www.instagram.com/prometheusbsc/](https://www.instagram.com/prometheusbsc/)\\n\\n🌐 𝐒𝐮𝐛𝐫𝐞𝐝𝐝𝐢𝐭: [reddit.com/r/prometheus](https://reddit.com/r/prometheus)\\n\\n&amp;#x200B;\\n\\n&amp;#x200B;\\n\\n&amp;#x200B;\\n\\n🔥𝐋𝐢𝐠𝐡𝐭𝐢𝐧𝐠 𝐭𝐡𝐞 𝐅𝐢𝐫𝐞𝐬 𝐨𝐟 𝐈𝐧𝐧𝐨𝐯𝐚𝐭𝐢𝐨𝐧🔥\", title='🌍Next Generation Safe Token with $Cake Rewards - 🎈$Meth Fair Launch Thursday 8pm UTC - NFT Gaming - Join Us !!!🐦', score=3)]"
      ]
     },
     "execution_count": 58,
     "metadata": {},
     "output_type": "execute_result"
    }
   ],
   "source": [
    "df_posts.take(1)"
   ]
  },
  {
   "cell_type": "code",
   "execution_count": null,
   "id": "062790ba",
   "metadata": {},
   "outputs": [],
   "source": [
    "# Sentiment: score"
   ]
  },
  {
   "cell_type": "code",
   "execution_count": null,
   "id": "f6ad786d",
   "metadata": {},
   "outputs": [],
   "source": [
    "from pyspark.ml.linalg import Vectors\n",
    "data = [(Vectors.dense([0.0, 0.0]), 2.0),\n",
    "        (Vectors.dense([1.0, 1.0]), 2.0),\n",
    "        (Vectors.dense([9.0, 8.0]), 2.0),\n",
    "        (Vectors.dense([8.0, 9.0]), 2.0)]"
   ]
  },
  {
   "cell_type": "code",
   "execution_count": 68,
   "id": "41502491",
   "metadata": {},
   "outputs": [],
   "source": [
    "data = df_posts.rdd.map(lambda x: (Vectors.dense([x['score']]),1.0))"
   ]
  },
  {
   "cell_type": "code",
   "execution_count": 69,
   "id": "5e390704",
   "metadata": {},
   "outputs": [
    {
     "data": {
      "text/plain": [
       "[(DenseVector([3.0]), 1.0),\n",
       " (DenseVector([1.0]), 1.0),\n",
       " (DenseVector([3.0]), 1.0),\n",
       " (DenseVector([11.0]), 1.0),\n",
       " (DenseVector([1.0]), 1.0)]"
      ]
     },
     "execution_count": 69,
     "metadata": {},
     "output_type": "execute_result"
    }
   ],
   "source": [
    "data.take(5)"
   ]
  },
  {
   "cell_type": "code",
   "execution_count": 70,
   "id": "a8729014",
   "metadata": {},
   "outputs": [],
   "source": [
    "from pyspark.sql import SQLContext\n",
    "sqlContext= SQLContext(sc)\n",
    "df_kdata = sqlContext.createDataFrame(data, [\"features\", \"weighCol\"])"
   ]
  },
  {
   "cell_type": "code",
   "execution_count": 71,
   "id": "e523ac11",
   "metadata": {},
   "outputs": [
    {
     "data": {
      "text/plain": [
       "50"
      ]
     },
     "execution_count": 71,
     "metadata": {},
     "output_type": "execute_result"
    }
   ],
   "source": [
    "from pyspark.ml.clustering import KMeans\n",
    "kmeans = KMeans(k=7)\n",
    "kmeans.setSeed(1)\n",
    "kmeans.setWeightCol(\"weighCol\")\n",
    "kmeans.setMaxIter(50)\n",
    "kmeans.getMaxIter()"
   ]
  },
  {
   "cell_type": "code",
   "execution_count": 72,
   "id": "7bdb3b4f",
   "metadata": {},
   "outputs": [],
   "source": [
    "model = kmeans.fit(df_kdata)"
   ]
  },
  {
   "cell_type": "code",
   "execution_count": 73,
   "id": "219462a4",
   "metadata": {},
   "outputs": [
    {
     "data": {
      "text/plain": [
       "[Row(features=DenseVector([3.0]), newPrediction=0),\n",
       " Row(features=DenseVector([1.0]), newPrediction=0),\n",
       " Row(features=DenseVector([3.0]), newPrediction=0),\n",
       " Row(features=DenseVector([11.0]), newPrediction=0),\n",
       " Row(features=DenseVector([1.0]), newPrediction=0)]"
      ]
     },
     "execution_count": 73,
     "metadata": {},
     "output_type": "execute_result"
    }
   ],
   "source": [
    "model.setPredictionCol(\"newPrediction\")\n",
    "model.predict(df_kdata.head().features)\n",
    "transformed = model.transform(df_kdata).select(\"features\", \"newPrediction\")"
   ]
  },
  {
   "cell_type": "code",
   "execution_count": 76,
   "id": "1ef55cea",
   "metadata": {},
   "outputs": [
    {
     "data": {
      "text/plain": [
       "[Row(features=DenseVector([3.0]), newPrediction=0),\n",
       " Row(features=DenseVector([1.0]), newPrediction=0),\n",
       " Row(features=DenseVector([3.0]), newPrediction=0),\n",
       " Row(features=DenseVector([11.0]), newPrediction=0),\n",
       " Row(features=DenseVector([1.0]), newPrediction=0),\n",
       " Row(features=DenseVector([1.0]), newPrediction=0),\n",
       " Row(features=DenseVector([1.0]), newPrediction=0),\n",
       " Row(features=DenseVector([1.0]), newPrediction=0),\n",
       " Row(features=DenseVector([1.0]), newPrediction=0),\n",
       " Row(features=DenseVector([1.0]), newPrediction=0)]"
      ]
     },
     "execution_count": 76,
     "metadata": {},
     "output_type": "execute_result"
    }
   ],
   "source": [
    "transformed.take(10)"
   ]
  },
  {
   "cell_type": "code",
   "execution_count": null,
   "id": "f609a197",
   "metadata": {},
   "outputs": [],
   "source": []
  }
 ],
 "metadata": {
  "kernelspec": {
   "display_name": "Python 3",
   "language": "python",
   "name": "python3"
  },
  "language_info": {
   "codemirror_mode": {
    "name": "ipython",
    "version": 3
   },
   "file_extension": ".py",
   "mimetype": "text/x-python",
   "name": "python",
   "nbconvert_exporter": "python",
   "pygments_lexer": "ipython3",
   "version": "3.6.9"
  }
 },
 "nbformat": 4,
 "nbformat_minor": 5
}
