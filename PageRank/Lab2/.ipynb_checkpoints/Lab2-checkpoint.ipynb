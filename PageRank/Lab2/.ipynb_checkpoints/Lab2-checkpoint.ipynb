{
 "cells": [
  {
   "cell_type": "markdown",
   "id": "897d5503",
   "metadata": {},
   "source": [
    "# Lab 2"
   ]
  },
  {
   "cell_type": "code",
   "execution_count": 1,
   "id": "3c8645c2",
   "metadata": {},
   "outputs": [],
   "source": [
    "import os\n",
    "import sys\n",
    "spark_path = os.environ['SPARK_HOME']\n",
    "sys.path.append(spark_path + \"/bin\")\n",
    "sys.path.append(spark_path + \"/python\")\n",
    "sys.path.append(spark_path + \"/python/pyspark/\")\n",
    "sys.path.append(spark_path + \"/python/lib\")\n",
    "sys.path.append(spark_path + \"/python/lib/pyspark.zip\")\n",
    "sys.path.append(spark_path + \"/python/lib/py4j-0.10.9-src.zip\")\n",
    "\n",
    "import findspark\n",
    "findspark.init()\n",
    "import pyspark"
   ]
  },
  {
   "cell_type": "code",
   "execution_count": 2,
   "id": "96adad3f",
   "metadata": {},
   "outputs": [],
   "source": [
    "number_cores = 6\n",
    "memory_gb = 16\n",
    "conf = (pyspark.SparkConf().setMaster('local[{}]'.format(number_cores)).set('spark.driver.memory', '{}g'.format(memory_gb)))\n",
    "sc = pyspark.SparkContext(conf=conf)"
   ]
  },
  {
   "cell_type": "code",
   "execution_count": 3,
   "id": "6302f425",
   "metadata": {},
   "outputs": [
    {
     "name": "stdout",
     "output_type": "stream",
     "text": [
      "auth_log  Lab2.ipynb\r\n"
     ]
    }
   ],
   "source": [
    "!ls /users/trush/CSC496/PageRank/Lab2"
   ]
  },
  {
   "cell_type": "code",
   "execution_count": 30,
   "id": "be009215",
   "metadata": {},
   "outputs": [
    {
     "data": {
      "text/plain": [
       "['Dec 13 00:06:16 submitty sshd[19509]: pam_unix(sshd:auth): authentication failure; logname= uid=0 euid=0 tty=ssh ruser= rhost=218.92.0.184  user=root',\n",
       " 'Dec 13 00:06:17 submitty sshd[19509]: Failed password for root from 218.92.0.184 port 3753 ssh2',\n",
       " 'Dec 13 00:06:21 submitty sshd[19509]: Failed password for root from 218.92.0.184 port 3753 ssh2',\n",
       " 'Dec 13 00:07:01 submitty CRON[19523]: pam_unix(cron:session): session opened for user submitty_daemon by (uid=0)',\n",
       " 'Dec 13 00:07:02 submitty CRON[19523]: pam_unix(cron:session): session closed for user submitty_daemon',\n",
       " 'Dec 13 00:08:01 submitty CRON[19536]: pam_unix(cron:session): session opened for user submitty_daemon by (uid=0)',\n",
       " 'Dec 13 00:08:01 submitty CRON[19536]: pam_unix(cron:session): session closed for user submitty_daemon',\n",
       " 'Dec 13 00:08:29 submitty sshd[19552]: Invalid user shalini from 27.128.173.81 port 49454',\n",
       " 'Dec 13 00:08:29 submitty sshd[19552]: pam_unix(sshd:auth): check pass; user unknown',\n",
       " 'Dec 13 00:08:29 submitty sshd[19552]: pam_unix(sshd:auth): authentication failure; logname= uid=0 euid=0 tty=ssh ruser= rhost=27.128.173.81',\n",
       " 'Dec 13 00:08:32 submitty sshd[19552]: Failed password for invalid user shalini from 27.128.173.81 port 49454 ssh2',\n",
       " 'Dec 13 00:08:40 submitty sshd[19560]: Invalid user user5 from 134.175.17.32 port 44532',\n",
       " 'Dec 13 00:08:40 submitty sshd[19560]: pam_unix(sshd:auth): check pass; user unknown',\n",
       " 'Dec 13 00:08:40 submitty sshd[19560]: pam_unix(sshd:auth): authentication failure; logname= uid=0 euid=0 tty=ssh ruser= rhost=134.175.17.32',\n",
       " 'Dec 13 00:08:41 submitty sshd[19562]: Invalid user lms from 201.90.101.165 port 44854']"
      ]
     },
     "execution_count": 30,
     "metadata": {},
     "output_type": "execute_result"
    }
   ],
   "source": [
    "auth_log = sc.textFile(\"/users/trush/CSC496/PageRank/Lab2/auth_log/auth.log\")\n",
    "auth_log.take(15)"
   ]
  },
  {
   "cell_type": "code",
   "execution_count": 13,
   "id": "7814ee55",
   "metadata": {},
   "outputs": [],
   "source": [
    "auth_log1 = sc.textFile(\"/users/trush/CSC496/PageRank/Lab2/auth_log/auth.log.1\")\n",
    "#auth_log1.take(5)"
   ]
  },
  {
   "cell_type": "code",
   "execution_count": 14,
   "id": "93bb8123",
   "metadata": {},
   "outputs": [],
   "source": [
    "auth_log2 = sc.textFile(\"/users/trush/CSC496/PageRank/Lab2/auth_log/auth.log.2\")\n",
    "#auth_log2.take(5)"
   ]
  },
  {
   "cell_type": "code",
   "execution_count": 15,
   "id": "a955d99c",
   "metadata": {},
   "outputs": [],
   "source": [
    "auth_log3 = sc.textFile(\"/users/trush/CSC496/PageRank/Lab2/auth_log/auth.log.3\")\n",
    "#auth_log3.take(5)"
   ]
  },
  {
   "cell_type": "code",
   "execution_count": 16,
   "id": "b4af727b",
   "metadata": {},
   "outputs": [],
   "source": [
    "auth_log4 = sc.textFile(\"/users/trush/CSC496/PageRank/Lab2/auth_log/auth.log.4\")\n",
    "#auth_log4.take(5)"
   ]
  },
  {
   "cell_type": "markdown",
   "id": "20819762",
   "metadata": {},
   "source": [
    "## 1. How many failed attempts to access the server as root are there? List all countries from which these attempts where carried out."
   ]
  },
  {
   "cell_type": "code",
   "execution_count": 39,
   "id": "c4fd3677",
   "metadata": {},
   "outputs": [
    {
     "data": {
      "text/plain": [
       "6135"
      ]
     },
     "execution_count": 39,
     "metadata": {},
     "output_type": "execute_result"
    }
   ],
   "source": [
    "# Number of failed attempts to login as root\n",
    "failed_attempts = auth_log.filter(lambda x: \"root\" in x and (\"session opened\" not in x and \"session closed\" not in x))\n",
    "#failed_attempts.take(5)\n",
    "# find distinct attempts by unique ip\n",
    "failed_attempts.count()"
   ]
  },
  {
   "cell_type": "code",
   "execution_count": 75,
   "id": "2f12f631",
   "metadata": {},
   "outputs": [
    {
     "data": {
      "text/plain": [
       "[['Dec 13 00:06:16 submitty sshd[19509]: pam_unix(sshd:auth): authentication failure; logname= uid=0 euid=0 tty=ssh ruser= rhost=218.92.0.184  user=root'],\n",
       " ['Dec 13 00:06:17 submitty sshd[19509]: Failed password for root ',\n",
       "  ' 218.92.0.184 port 3753 ssh2'],\n",
       " ['Dec 13 00:06:21 submitty sshd[19509]: Failed password for root ',\n",
       "  ' 218.92.0.184 port 3753 ssh2'],\n",
       " ['Dec 13 00:10:35 submitty sshd[19716]: pam_unix(sshd:auth): authentication failure; logname= uid=0 euid=0 tty=ssh ruser= rhost=218.92.0.247  user=root'],\n",
       " ['Dec 13 00:10:36 submitty sshd[19716]: Failed password for root ',\n",
       "  ' 218.92.0.247 port 16026 ssh2']]"
      ]
     },
     "execution_count": 75,
     "metadata": {},
     "output_type": "execute_result"
    }
   ],
   "source": [
    "# Countries where the failed attempts were carried out\n",
    "# Split each literal to isolate the ip\n",
    "# use python library to match ip to country\n",
    "countries = failed_attempts.map(lambda line: line.split(\"from\"))\n",
    "countries.take(5)"
   ]
  },
  {
   "cell_type": "markdown",
   "id": "1fd56cdf",
   "metadata": {},
   "source": [
    "## 2. How many failed attempts to access the server as non-root users are there? What are the attempted usernames? List all countries from which these attempts where carried out. "
   ]
  },
  {
   "cell_type": "code",
   "execution_count": 74,
   "id": "2defbcb4",
   "metadata": {},
   "outputs": [],
   "source": [
    "# Number of failed attempts to login as non-root\n",
    "failed_attempts_nonroot = auth_log.filter(lambda x: \"root\" not in x and (\"session opened\" not in x and \"session closed\" not in x))\n",
    "#failed_attempts.take(5)\n",
    "#failed_attempts_nonroot.count()"
   ]
  },
  {
   "cell_type": "markdown",
   "id": "03d385b3",
   "metadata": {},
   "source": [
    "## 3. Through out the durations of the log files, which date has the highest number of attack attempts? Anything interesting about that particular date?"
   ]
  },
  {
   "cell_type": "code",
   "execution_count": null,
   "id": "3079f677",
   "metadata": {},
   "outputs": [],
   "source": []
  }
 ],
 "metadata": {
  "kernelspec": {
   "display_name": "Python 3",
   "language": "python",
   "name": "python3"
  },
  "language_info": {
   "codemirror_mode": {
    "name": "ipython",
    "version": 3
   },
   "file_extension": ".py",
   "mimetype": "text/x-python",
   "name": "python",
   "nbconvert_exporter": "python",
   "pygments_lexer": "ipython3",
   "version": "3.6.9"
  }
 },
 "nbformat": 4,
 "nbformat_minor": 5
}
