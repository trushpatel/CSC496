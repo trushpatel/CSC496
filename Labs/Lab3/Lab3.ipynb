{
 "cells": [
  {
   "cell_type": "code",
   "execution_count": 1,
   "id": "3bc2342e",
   "metadata": {},
   "outputs": [],
   "source": [
    "import os\n",
    "import sys\n",
    "spark_path = os.environ['SPARK_HOME']\n",
    "sys.path.append(spark_path + \"/bin\")\n",
    "sys.path.append(spark_path + \"/python\")\n",
    "sys.path.append(spark_path + \"/python/pyspark/\")\n",
    "sys.path.append(spark_path + \"/python/lib\")\n",
    "sys.path.append(spark_path + \"/python/lib/pyspark.zip\")\n",
    "sys.path.append(spark_path + \"/python/lib/py4j-0.10.9-src.zip\")\n",
    "\n",
    "import findspark\n",
    "findspark.init()\n",
    "import pyspark"
   ]
  },
  {
   "cell_type": "code",
   "execution_count": 2,
   "id": "476af424",
   "metadata": {},
   "outputs": [],
   "source": [
    "number_cores = 6\n",
    "memory_gb = 16\n",
    "conf = (pyspark.SparkConf().setMaster('local[{}]'.format(number_cores)).set('spark.driver.memory', '{}g'.format(memory_gb)))\n",
    "sc = pyspark.SparkContext(conf=conf)"
   ]
  },
  {
   "cell_type": "code",
   "execution_count": 3,
   "id": "3d388d67",
   "metadata": {},
   "outputs": [
    {
     "name": "stdout",
     "output_type": "stream",
     "text": [
      "data  Lab3.ipynb\r\n"
     ]
    }
   ],
   "source": [
    "!dir /users/trush/CSC496/Labs/Lab3"
   ]
  },
  {
   "cell_type": "markdown",
   "id": "94dad922",
   "metadata": {},
   "source": [
    "## How do you parse JSON?"
   ]
  },
  {
   "cell_type": "code",
   "execution_count": 4,
   "id": "fa46dfac",
   "metadata": {},
   "outputs": [
    {
     "data": {
      "text/plain": [
       "{'user_id': 'ntlvfPzc8eglqvk92iDIAw',\n",
       " 'name': 'Rafael',\n",
       " 'review_count': 553,\n",
       " 'yelping_since': '2007-07-06 03:27:11',\n",
       " 'useful': 628,\n",
       " 'funny': 225,\n",
       " 'cool': 227,\n",
       " 'elite': '',\n",
       " 'friends': 'oeMvJh94PiGQnx_6GlndPQ, wm1z1PaJKvHgSDRKfwhfDg, IkRib6Xs91PPW7pon7VVig, A8Aq8f0-XvLBcyMk2GJdJQ, eEZM1kogR7eL4GOBZyPvBA, e1o1LN7ez5ckCpQeAab4iw, _HrJVzFaRFUhPva8cwBjpQ, pZeGZGzX-ROT_D5lam5uNg, 0S6EI51ej5J7dgYz3-O0lA, woDt8raW-AorxQM_tIE2eA, hWUnSE5gKXNe7bDc8uAG9A, c_3LDSO2RHwZ94_Q6j_O7w, -uv1wDiaplY6eXXS0VwQiA, QFjqxXn3acDC7hckFGUKMg, ErOqapICmHPTN8YobZIcfQ, mJLRvqLOKhqEdkgt9iEaCQ, VKX7jlScJSA-ja5hYRw12Q, ijIC9w5PRcj3dWVlanjZeg, CIZGlEw-Bp0rmkP8M6yQ9Q, OC6fT5WZ8EU7tEVJ3bzPBQ, UZSDGTDpycDzrlfUlyw2dQ, deL6e_z9xqZTIODKqnvRXQ, 5mG2ENw2PylIWElqHSMGqg, Uh5Kug2fvDd51RYmsNZkGg, 4dI4uoShugD9z84fYupelQ, EQpFHqGT9Tk6YSwORTtwpg, o4EGL2-ICGmRJzJ3GxB-vw, s8gK7sdVzJcYKcPv2dkZXw, vOYVZgb_GVe-kdtjQwSUHw, wBbjgHsrKr7BsPBrQwJf2w, p59u2EC_qcmCmLeX1jCi5Q, VSAZI1eHDrOPRWMK4Q2DIQ, efMfeI_dkhpeGykaRJqxfQ, x6qYcQ8_i0mMDzSLsFCbZg, K_zSmtNGw1fu-vmxyTVfCQ, 5IM6YPQCK-NABkXmHhlRGQ, U_w8ZMD26vnkeeS1sD7s4Q, AbfS_oXF8H6HJb5jFqhrLw, hbcjX4_D4KIfonNnwrH-cg, UKf66_MPz0zHCP70mF6p1g, hK2gYbxZRTqcqlSiQQcrtQ, 2Q45w_Twx_T9dXqlE16xtQ, BwRn8qcKSeA77HLaOTbfiQ, jouOn4VS_DtFPtMR2w8VDA, ESteyJabbfvqas6CEDs3pQ',\n",
       " 'fans': 14,\n",
       " 'average_stars': 3.57,\n",
       " 'compliment_hot': 3,\n",
       " 'compliment_more': 2,\n",
       " 'compliment_profile': 1,\n",
       " 'compliment_cute': 0,\n",
       " 'compliment_list': 1,\n",
       " 'compliment_note': 11,\n",
       " 'compliment_plain': 15,\n",
       " 'compliment_cool': 22,\n",
       " 'compliment_funny': 22,\n",
       " 'compliment_writer': 10,\n",
       " 'compliment_photos': 0}"
      ]
     },
     "execution_count": 4,
     "metadata": {},
     "output_type": "execute_result"
    }
   ],
   "source": [
    "import json\n",
    "\n",
    "def parseJSON(t):\n",
    "    res = json.loads(t)\n",
    "    return res\n",
    "\n",
    "test = '{\"user_id\":\"ntlvfPzc8eglqvk92iDIAw\",\"name\":\"Rafael\",\"review_count\":553,\"yelping_since\":\"2007-07-06 03:27:11\",\"useful\":628,\"funny\":225,\"cool\":227,\"elite\":\"\",\"friends\":\"oeMvJh94PiGQnx_6GlndPQ, wm1z1PaJKvHgSDRKfwhfDg, IkRib6Xs91PPW7pon7VVig, A8Aq8f0-XvLBcyMk2GJdJQ, eEZM1kogR7eL4GOBZyPvBA, e1o1LN7ez5ckCpQeAab4iw, _HrJVzFaRFUhPva8cwBjpQ, pZeGZGzX-ROT_D5lam5uNg, 0S6EI51ej5J7dgYz3-O0lA, woDt8raW-AorxQM_tIE2eA, hWUnSE5gKXNe7bDc8uAG9A, c_3LDSO2RHwZ94_Q6j_O7w, -uv1wDiaplY6eXXS0VwQiA, QFjqxXn3acDC7hckFGUKMg, ErOqapICmHPTN8YobZIcfQ, mJLRvqLOKhqEdkgt9iEaCQ, VKX7jlScJSA-ja5hYRw12Q, ijIC9w5PRcj3dWVlanjZeg, CIZGlEw-Bp0rmkP8M6yQ9Q, OC6fT5WZ8EU7tEVJ3bzPBQ, UZSDGTDpycDzrlfUlyw2dQ, deL6e_z9xqZTIODKqnvRXQ, 5mG2ENw2PylIWElqHSMGqg, Uh5Kug2fvDd51RYmsNZkGg, 4dI4uoShugD9z84fYupelQ, EQpFHqGT9Tk6YSwORTtwpg, o4EGL2-ICGmRJzJ3GxB-vw, s8gK7sdVzJcYKcPv2dkZXw, vOYVZgb_GVe-kdtjQwSUHw, wBbjgHsrKr7BsPBrQwJf2w, p59u2EC_qcmCmLeX1jCi5Q, VSAZI1eHDrOPRWMK4Q2DIQ, efMfeI_dkhpeGykaRJqxfQ, x6qYcQ8_i0mMDzSLsFCbZg, K_zSmtNGw1fu-vmxyTVfCQ, 5IM6YPQCK-NABkXmHhlRGQ, U_w8ZMD26vnkeeS1sD7s4Q, AbfS_oXF8H6HJb5jFqhrLw, hbcjX4_D4KIfonNnwrH-cg, UKf66_MPz0zHCP70mF6p1g, hK2gYbxZRTqcqlSiQQcrtQ, 2Q45w_Twx_T9dXqlE16xtQ, BwRn8qcKSeA77HLaOTbfiQ, jouOn4VS_DtFPtMR2w8VDA, ESteyJabbfvqas6CEDs3pQ\",\"fans\":14,\"average_stars\":3.57,\"compliment_hot\":3,\"compliment_more\":2,\"compliment_profile\":1,\"compliment_cute\":0,\"compliment_list\":1,\"compliment_note\":11,\"compliment_plain\":15,\"compliment_cool\":22,\"compliment_funny\":22,\"compliment_writer\":10,\"compliment_photos\":0}'\n",
    "parseJSON(test)"
   ]
  },
  {
   "cell_type": "code",
   "execution_count": 5,
   "id": "cc56544a",
   "metadata": {},
   "outputs": [
    {
     "data": {
      "text/plain": [
       "['{\"user_id\":\"ntlvfPzc8eglqvk92iDIAw\",\"name\":\"Rafael\",\"review_count\":553,\"yelping_since\":\"2007-07-06 03:27:11\",\"useful\":628,\"funny\":225,\"cool\":227,\"elite\":\"\",\"friends\":\"oeMvJh94PiGQnx_6GlndPQ, wm1z1PaJKvHgSDRKfwhfDg, IkRib6Xs91PPW7pon7VVig, A8Aq8f0-XvLBcyMk2GJdJQ, eEZM1kogR7eL4GOBZyPvBA, e1o1LN7ez5ckCpQeAab4iw, _HrJVzFaRFUhPva8cwBjpQ, pZeGZGzX-ROT_D5lam5uNg, 0S6EI51ej5J7dgYz3-O0lA, woDt8raW-AorxQM_tIE2eA, hWUnSE5gKXNe7bDc8uAG9A, c_3LDSO2RHwZ94_Q6j_O7w, -uv1wDiaplY6eXXS0VwQiA, QFjqxXn3acDC7hckFGUKMg, ErOqapICmHPTN8YobZIcfQ, mJLRvqLOKhqEdkgt9iEaCQ, VKX7jlScJSA-ja5hYRw12Q, ijIC9w5PRcj3dWVlanjZeg, CIZGlEw-Bp0rmkP8M6yQ9Q, OC6fT5WZ8EU7tEVJ3bzPBQ, UZSDGTDpycDzrlfUlyw2dQ, deL6e_z9xqZTIODKqnvRXQ, 5mG2ENw2PylIWElqHSMGqg, Uh5Kug2fvDd51RYmsNZkGg, 4dI4uoShugD9z84fYupelQ, EQpFHqGT9Tk6YSwORTtwpg, o4EGL2-ICGmRJzJ3GxB-vw, s8gK7sdVzJcYKcPv2dkZXw, vOYVZgb_GVe-kdtjQwSUHw, wBbjgHsrKr7BsPBrQwJf2w, p59u2EC_qcmCmLeX1jCi5Q, VSAZI1eHDrOPRWMK4Q2DIQ, efMfeI_dkhpeGykaRJqxfQ, x6qYcQ8_i0mMDzSLsFCbZg, K_zSmtNGw1fu-vmxyTVfCQ, 5IM6YPQCK-NABkXmHhlRGQ, U_w8ZMD26vnkeeS1sD7s4Q, AbfS_oXF8H6HJb5jFqhrLw, hbcjX4_D4KIfonNnwrH-cg, UKf66_MPz0zHCP70mF6p1g, hK2gYbxZRTqcqlSiQQcrtQ, 2Q45w_Twx_T9dXqlE16xtQ, BwRn8qcKSeA77HLaOTbfiQ, jouOn4VS_DtFPtMR2w8VDA, ESteyJabbfvqas6CEDs3pQ\",\"fans\":14,\"average_stars\":3.57,\"compliment_hot\":3,\"compliment_more\":2,\"compliment_profile\":1,\"compliment_cute\":0,\"compliment_list\":1,\"compliment_note\":11,\"compliment_plain\":15,\"compliment_cool\":22,\"compliment_funny\":22,\"compliment_writer\":10,\"compliment_photos\":0}']"
      ]
     },
     "execution_count": 5,
     "metadata": {},
     "output_type": "execute_result"
    }
   ],
   "source": [
    "graph_data = sc.textFile(\"/users/trush/CSC496/Labs/Lab3/data/yelp_small.json\")\n",
    "graph_data.take(1)"
   ]
  },
  {
   "cell_type": "markdown",
   "id": "372bb804",
   "metadata": {},
   "source": [
    "## Key points:\n",
    "Always try and make your data smaller. Cache often if possible."
   ]
  },
  {
   "cell_type": "markdown",
   "id": "2a3bd19d",
   "metadata": {},
   "source": [
    "### Hands-on:\n",
    "1. How do you apply pagerank on num_num?\n",
    "2. How do you link the answers back to the actual page of hollies.dat?"
   ]
  },
  {
   "cell_type": "code",
   "execution_count": 6,
   "id": "5b507704",
   "metadata": {},
   "outputs": [],
   "source": [
    "from pyspark.sql import SQLContext\n",
    "sqlContext = SQLContext(sc)"
   ]
  },
  {
   "cell_type": "code",
   "execution_count": 7,
   "id": "709104c4",
   "metadata": {},
   "outputs": [],
   "source": [
    "json_df = sqlContext.read.json(\"/users/trush/CSC496/Labs/Lab3/data/yelp_small.json\")"
   ]
  },
  {
   "cell_type": "code",
   "execution_count": 8,
   "id": "e0f37e72",
   "metadata": {},
   "outputs": [
    {
     "name": "stdout",
     "output_type": "stream",
     "text": [
      "CPU times: user 2.49 ms, sys: 1.11 ms, total: 3.6 ms\n",
      "Wall time: 879 ms\n"
     ]
    },
    {
     "data": {
      "text/plain": [
       "1000"
      ]
     },
     "execution_count": 8,
     "metadata": {},
     "output_type": "execute_result"
    }
   ],
   "source": [
    "%%time\n",
    "json_df.count()"
   ]
  },
  {
   "cell_type": "code",
   "execution_count": 9,
   "id": "ae288e2d",
   "metadata": {},
   "outputs": [
    {
     "name": "stdout",
     "output_type": "stream",
     "text": [
      "CPU times: user 2.88 ms, sys: 1.28 ms, total: 4.15 ms\n",
      "Wall time: 234 ms\n"
     ]
    },
    {
     "data": {
      "text/plain": [
       "1000"
      ]
     },
     "execution_count": 9,
     "metadata": {},
     "output_type": "execute_result"
    }
   ],
   "source": [
    "%%time\n",
    "json_df.count()"
   ]
  },
  {
   "cell_type": "code",
   "execution_count": 10,
   "id": "e44001b0",
   "metadata": {},
   "outputs": [
    {
     "name": "stdout",
     "output_type": "stream",
     "text": [
      "root\n",
      " |-- average_stars: double (nullable = true)\n",
      " |-- compliment_cool: long (nullable = true)\n",
      " |-- compliment_cute: long (nullable = true)\n",
      " |-- compliment_funny: long (nullable = true)\n",
      " |-- compliment_hot: long (nullable = true)\n",
      " |-- compliment_list: long (nullable = true)\n",
      " |-- compliment_more: long (nullable = true)\n",
      " |-- compliment_note: long (nullable = true)\n",
      " |-- compliment_photos: long (nullable = true)\n",
      " |-- compliment_plain: long (nullable = true)\n",
      " |-- compliment_profile: long (nullable = true)\n",
      " |-- compliment_writer: long (nullable = true)\n",
      " |-- cool: long (nullable = true)\n",
      " |-- elite: string (nullable = true)\n",
      " |-- fans: long (nullable = true)\n",
      " |-- friends: string (nullable = true)\n",
      " |-- funny: long (nullable = true)\n",
      " |-- name: string (nullable = true)\n",
      " |-- review_count: long (nullable = true)\n",
      " |-- useful: long (nullable = true)\n",
      " |-- user_id: string (nullable = true)\n",
      " |-- yelping_since: string (nullable = true)\n",
      "\n"
     ]
    }
   ],
   "source": [
    "json_df.printSchema()"
   ]
  },
  {
   "cell_type": "code",
   "execution_count": 11,
   "id": "4e00ba59",
   "metadata": {},
   "outputs": [],
   "source": [
    "json_df.registerTempTable(\"tbl_json\")"
   ]
  },
  {
   "cell_type": "markdown",
   "id": "0437ba11",
   "metadata": {},
   "source": [
    "## 1. How many unique users are there in the dataset?"
   ]
  },
  {
   "cell_type": "code",
   "execution_count": 12,
   "id": "985b2ba7",
   "metadata": {},
   "outputs": [],
   "source": [
    "def parseJSONUser(x):\n",
    "    res = json.loads(x)\n",
    "    return res['user_id']"
   ]
  },
  {
   "cell_type": "code",
   "execution_count": 13,
   "id": "7fb4b086",
   "metadata": {},
   "outputs": [
    {
     "data": {
      "text/plain": [
       "1000"
      ]
     },
     "execution_count": 13,
     "metadata": {},
     "output_type": "execute_result"
    }
   ],
   "source": [
    "# map with just user_id .distinct().count()\n",
    "users = graph_data.map(lambda x: parseJSONUser(x))\n",
    "users.take(5)\n",
    "users.distinct().count()\n",
    "#graph_data.countByKey()"
   ]
  },
  {
   "cell_type": "markdown",
   "id": "da661f30",
   "metadata": {},
   "source": [
    "There are 1000 unique users in the small dataset."
   ]
  },
  {
   "cell_type": "markdown",
   "id": "f4fad9c7",
   "metadata": {},
   "source": [
    "## 2. Identify the user(s) with the highest number of reviews. What is(are) the average/median stars for these user(s)?"
   ]
  },
  {
   "cell_type": "code",
   "execution_count": 68,
   "id": "0d79e9fd",
   "metadata": {},
   "outputs": [],
   "source": [
    "def parseJSONReviews(x):\n",
    "    res = json.loads(x)\n",
    "    return (res['user_id'], res['name'], res['average_stars'], int(res['review_count']))"
   ]
  },
  {
   "cell_type": "code",
   "execution_count": 69,
   "id": "fd88d0f0",
   "metadata": {},
   "outputs": [
    {
     "data": {
      "text/plain": [
       "[('8k3aO-mPeyhbR5HUucA5aA', 'Victor', 3.28, 14455),\n",
       " ('hWDybu_KvYLSdEFzGrniTw', 'Bruce', 3.64, 12487),\n",
       " ('Hi10sGSZNxQH3NLyWSZ1oA', 'Fox', 3.8, 11112),\n",
       " ('XYSDrIef7g4Gmp3lNFVO6A', 'Neal', 3.96, 4828),\n",
       " ('CQUDh80m48xnzUkx-X5NAw', 'David', 3.9, 4181),\n",
       " ('YttDgOC9AlM4HcAlDsbB2A', 'Phil', 3.58, 3379),\n",
       " ('ITa3vh5ERI90G_WP4SmGUQ', 'Peter', 3.99, 3079),\n",
       " ('PkNs-Rw6MHQfu6j5pBZMMw', 'Maria', 3.67, 2978),\n",
       " ('ZIOCmdFaMIF56FR-nWr_2A', 'Randy', 3.77, 2922),\n",
       " ('Ryxj0u0AW3mRsRypdYli2A', 'Arnel', 4.29, 2642)]"
      ]
     },
     "execution_count": 69,
     "metadata": {},
     "output_type": "execute_result"
    }
   ],
   "source": [
    "# map with user_id and review_count\n",
    "user_data = graph_data.map(lambda x: parseJSON(x))\n",
    "user_data.take(1)\n",
    "# ** HOW MANY USERS TO AVERAGE (TOP 100?)? ** ** DO YOU WANT USER_ID OR NAME? **\n",
    "highest_num_reviews = graph_data.map(lambda x: parseJSONReviews(x)).sortBy(lambda x: (x[3]), ascending = False)\n",
    "top10 = highest_num_reviews.take(10)\n",
    "top10"
   ]
  },
  {
   "cell_type": "code",
   "execution_count": 113,
   "id": "e6c71249",
   "metadata": {},
   "outputs": [],
   "source": [
    "# Average stars for users with top 10 highest number of reviews\n",
    "def avg_top10(x):\n",
    "    total = 0\n",
    "    for i in range(10):\n",
    "        total = total + top10[i][2]\n",
    "    return total/10\n",
    "# Median stars for users with top 10 highest number of reviews\n",
    "import statistics\n",
    "def med_top10(x):\n",
    "    x.sort(key = lambda x: float(x[2]))\n",
    "    return x[len(x)//2][2]"
   ]
  },
  {
   "cell_type": "code",
   "execution_count": 117,
   "id": "b996ba51",
   "metadata": {},
   "outputs": [
    {
     "name": "stdout",
     "output_type": "stream",
     "text": [
      "Average: 3.7880000000000003\n",
      "Median: 3.8\n"
     ]
    }
   ],
   "source": [
    "print(\"Average: \" + str(avg_top10(top10)))\n",
    "print(\"Median: \" + str(med_top10(top10)))"
   ]
  },
  {
   "cell_type": "markdown",
   "id": "b646f2c9",
   "metadata": {},
   "source": [
    "The top 10 users with the highest number of reviews are:\n",
    "1. 8k3aO-mPeyhbR5HUucA5aA (Victor) with 14455 reviews\n",
    "2. hWDybu_KvYLSdEFzGrniTw (Bruce) with 12487 reviews\n",
    "3. Hi10sGSZNxQH3NLyWSZ1oA (Fox) with 11112 reviews\n",
    "4. XYSDrIef7g4Gmp3lNFVO6A (Neal) with 4828 reviews\n",
    "5. CQUDh80m48xnzUkx-X5NAw (David) with 4181 reviews\n",
    "6. YttDgOC9AlM4HcAlDsbB2A (Phil) with 3379 reviews\n",
    "7. ITa3vh5ERI90G_WP4SmGUQ (Peter) with 3079 reviews\n",
    "8. PkNs-Rw6MHQfu6j5pBZMMw (Maria) with 2978 reviews\n",
    "9. ZIOCmdFaMIF56FR-nWr_2A (Randy) with 2922 reviews\n",
    "10. Ryxj0u0AW3mRsRypdYli2A (Arnel) with 2642 reviews\n",
    "\n",
    "The average stars for the top 10 users is about 3.79 stars. The median stars for the top 10 users is 3.8 stars."
   ]
  },
  {
   "cell_type": "markdown",
   "id": "62f60d73",
   "metadata": {},
   "source": [
    "## 3. Identify several (two or more) interesting user attributes and think of and carry out one interesting analysis. Interesting is relative, and you should use Markdown cell to describe why/how these are interesting!"
   ]
  },
  {
   "cell_type": "code",
   "execution_count": null,
   "id": "64bc6ac5",
   "metadata": {},
   "outputs": [],
   "source": [
    "# friends, fans, elite, average_stars\n",
    "# numFriends relative to numFans\n",
    "# Are numFriends and/or numFans and/or average_stars correlated to elite status?\n",
    "#user_data.take(2)"
   ]
  },
  {
   "cell_type": "code",
   "execution_count": null,
   "id": "6206e733",
   "metadata": {},
   "outputs": [],
   "source": [
    "def parseJSONStars(x):\n",
    "    res = json.loads(x)\n",
    "    return (res['user_id'], res['average_stars'], len(res['elite']), len(res['friends']), res['fans'])"
   ]
  },
  {
   "cell_type": "code",
   "execution_count": null,
   "id": "87559e86",
   "metadata": {},
   "outputs": [],
   "source": [
    "stars = graph_data.map(lambda x: parseJSONStars(x)).sortBy(lambda x: (x[3]), ascending = False)\n",
    "stars.take(10)"
   ]
  },
  {
   "cell_type": "markdown",
   "id": "56ba2223",
   "metadata": {},
   "source": [
    "## 4. Identify the top-ten most influential users from the Yelp dataset. Justify the attribute(s) that you pick to measure the level of influence!  "
   ]
  },
  {
   "cell_type": "code",
   "execution_count": null,
   "id": "89c0fb4f",
   "metadata": {},
   "outputs": [],
   "source": [
    "# PageRank: add weight for elite attribute\n",
    "# Use numFriends and/or numFans according and/or average_stars to findings from 3"
   ]
  },
  {
   "cell_type": "code",
   "execution_count": 121,
   "id": "fda62bca",
   "metadata": {},
   "outputs": [],
   "source": [
    "def parseJSONFriends(x):\n",
    "    res = json.loads(x)\n",
    "    return (res['user_id'], res['friends'])"
   ]
  },
  {
   "cell_type": "code",
   "execution_count": 124,
   "id": "01470ede",
   "metadata": {},
   "outputs": [
    {
     "data": {
      "text/plain": [
       "[('ntlvfPzc8eglqvk92iDIAw',\n",
       "  ['oeMvJh94PiGQnx_6GlndPQ, wm1z1PaJKvHgSDRKfwhfDg, IkRib6Xs91PPW7pon7VVig, A8Aq8f0-XvLBcyMk2GJdJQ, eEZM1kogR7eL4GOBZyPvBA, e1o1LN7ez5ckCpQeAab4iw, _HrJVzFaRFUhPva8cwBjpQ, pZeGZGzX-ROT_D5lam5uNg, 0S6EI51ej5J7dgYz3-O0lA, woDt8raW-AorxQM_tIE2eA, hWUnSE5gKXNe7bDc8uAG9A, c_3LDSO2RHwZ94_Q6j_O7w, -uv1wDiaplY6eXXS0VwQiA, QFjqxXn3acDC7hckFGUKMg, ErOqapICmHPTN8YobZIcfQ, mJLRvqLOKhqEdkgt9iEaCQ, VKX7jlScJSA-ja5hYRw12Q, ijIC9w5PRcj3dWVlanjZeg, CIZGlEw-Bp0rmkP8M6yQ9Q, OC6fT5WZ8EU7tEVJ3bzPBQ, UZSDGTDpycDzrlfUlyw2dQ, deL6e_z9xqZTIODKqnvRXQ, 5mG2ENw2PylIWElqHSMGqg, Uh5Kug2fvDd51RYmsNZkGg, 4dI4uoShugD9z84fYupelQ, EQpFHqGT9Tk6YSwORTtwpg, o4EGL2-ICGmRJzJ3GxB-vw, s8gK7sdVzJcYKcPv2dkZXw, vOYVZgb_GVe-kdtjQwSUHw, wBbjgHsrKr7BsPBrQwJf2w, p59u2EC_qcmCmLeX1jCi5Q, VSAZI1eHDrOPRWMK4Q2DIQ, efMfeI_dkhpeGykaRJqxfQ, x6qYcQ8_i0mMDzSLsFCbZg, K_zSmtNGw1fu-vmxyTVfCQ, 5IM6YPQCK-NABkXmHhlRGQ, U_w8ZMD26vnkeeS1sD7s4Q, AbfS_oXF8H6HJb5jFqhrLw, hbcjX4_D4KIfonNnwrH-cg, UKf66_MPz0zHCP70mF6p1g, hK2gYbxZRTqcqlSiQQcrtQ, 2Q45w_Twx_T9dXqlE16xtQ, BwRn8qcKSeA77HLaOTbfiQ, jouOn4VS_DtFPtMR2w8VDA, ESteyJabbfvqas6CEDs3pQ']),\n",
       " ('FOBRPlBHa3WPHFB5qYDlVg',\n",
       "  ['ly7EnE8leJmyqyePVYFlug, pRlR63iDytsnnniPb3AOug, kc-rnN-ndnFTdHG4TfIgeQ, GYndf-h6dAwpGP0lDBz2Wg, FPo3SwQuAK53QVZm_eIyBg, 9fF_T3pQu3ay1oA7h_VYNA, G5T3bd6dUs5zkQ2VMZtRUw, tufuEc5f9TWR05_yko46QQ, 4lMab047cJsEt8puhy8dew, bEbLwLpJauEG-HW0w_0IKw, xz9o3T3uJxyeLZ6Cyb8cFQ, LxBh46T0wO9VlsJUK5q2cw, dUALcXVUTC7NYHuE5GKjtw, LM6pxbcfdyUS8M2jWoQk1g, nQG7XkgrsG4MXXXfexJwAA, 8t6qbx5mNimrLrqs01VIvg, A-pcQqvtlsxd-JgBOIdwHw, 2i2NOMPClqwUA64SkzyIvQ, bnf7t21SCFw3HWfV_soG_Q, b_ED_rPl7OLwEpUlr4VI5A, Avlw4sAK8uGpcQY89Gk0Tg, euxheBcyvFLJqNQSbsFsJQ, 1Ksjxp5WuG2Cni24Ipal6w, nH5NCbQ7eacONPMV8VpdEw, AMqRKxavwt1yTBzlMrG8sQ, f71r-LEp9O8yJu76XhPadQ, cjotiAHFSbFuvbxTWmGi1Q, _KfzNJcprrOQlvoAOawS2Q, PjdEARXumUBwx5zj6jTkng, mGTObjvjjIVy6C3FLNH2pw, wwHxfdwZoGLGmvYznFMvgw, 1hup0FxTWkjNAcVf4Xvj6w, GMzlmv2K6jvLnSQcipGKGA, -zfHj6Ar9FeTAcVyK_xpFA, JyMizIjW3qhGahAYq6CFmQ, czJvKmduyIljcLWfX-9NCw, AIhfuFmX62k7a22gXXAB2Q, 8vU81Y40XNCPykYAfaxyjQ, dsNJ3rcIqO8GETxyQwrL9g, PeLGa5vUR8_mcsn-fn42Jg, Cvvu2V_FO3FjxIHpartSMg, lsSiIjAKVl-QRxKjRErBeg, ITfHnc90OfdNYmin4wDQ1g, DuWB9jtjdfGR3ey9b2GUiA, Jc0T3q_8bOjg9pPlJb3MBQ, jQNE4kG65Pyplz8MiVDJXw, t4uPIUnmF7zdAb6cWT3yTA, RLAR2Vnb2klcb2UsfF6FUQ, v0JtfrbTDNPvSp3rXv8IRg, RvoPAtu1iSSwUfhD3tg1Nw, K68lvhWO_Ln39vdmWns2HA, -fQPzH-e-ubDIiLQhybEjQ, X3S5AhlmLhyiTlaiTF7NyA, n9lFMzaSM30dNHFcl93AJw, NQZDDxDG5_Im6SxYSPcGYA, skzHFVplaHoOinPtymI04w, MpOMfaq4ikuhmFqj2tJx1g, u4NQ1BZ2nXIxRY1gxsPYgw, Y1ICO26IsN7i_1OVD0Inyw, pHqOWnVzU_0JeLPm3wHUbQ, eijfUFNF6flY-cY4Ff6BIA, QJI9OSEn6ujRCtrX06vs1w, 9_ME--bvyZStdz6iwGzMCw, CYQNdjHCL9nedkLMfKLHmg, tTppOboFA2OaNelu3l8-pg, 3lU1iYLNW434mDJ-3dpZ0w, wy4NZPGAonzuz9RzSDtDNA, LGQ7Fu_Ev33lWLtpshou-g, ME6G91A0axSfSYK9YBnWQg, MjGdUi8Yje6x5HhbvwnlDg, gBEihTFxWQ5CzOH1tGjAPw, 4Y0ha2qM31Ea8jZE2hMUKQ, ZnQmJclqMNM1rl2vDFnm5w, BoNlCPHJoYmimuGjpQXWuw, soaCrgXmwdR6SkUZ7Qc3Mg, TE9o4cWvNXg5IYcjAwI5hg, dIIKEfOgo0KqUfGQvGikPg, TVf0-xIHIEsmN2dAKGAIiA, _ey5n3llYV2RfdCDCy6jhw, TUpdK4l8GAWIsdcD8JbkVw, jL2o3huthRW2lo73ezLHdw, RaNkWBMywhBqCZOQWSN_SQ, 9AFhmlMesozq-sq2KFE-gw, ij7kqaoPR_Zwtcrxn11kXQ, dSS5gT5Ajmv-NKoxna4e4w, Ez7OB58ciPCfLVqofd6YQg, VLhnqw7pzxObaQZ4Tpzp9w, v1wa0SP2l6yB11orrh0PEg, DMHPVjHKaUStUBMPH2TjNA, n6hHjOuv8NAWubj0U7LFLA, 6rvdsoYos-0udWV7mcNtOg, u1rtE-FomZXg9vuOVqTCjQ, 0qR6SusZ-m4YVzl3V1UfDA, RZkc9rgACbOsX9mpa2TDXg, eFuUcwjyBgX9vG-i_3hLfQ, Cuk2vdOMwTz71NjBuCF0Mg, zk_mInlLMmLLqMk6IvXm9g, GGWjA8v479feCo6OPTLQOg, FOvWgXp5L23vcx3RNl823A, 94ci59pEqujuw_P1HLW5XQ, ouJuVAEPnnEC_zhcrSf5GA, hxDeqPbPwkKEFXOfK7av9A, x5SbZmP74zu-UMc86YN4XA, ZjDs4lRCaTHugz2EW_nQyA, BECNMzLRiFj3y5k7G4rshA, sDGwhNAQIubV36t_fex6VA, OsElvMpJD17xc3A_nwF5NQ, ns7KN6l_O39R3U3IKfz3mQ, YwT2RxiC4H_8JT_Dkmzb5g, W92S95QwdQERvx7lvxmeKg, HtCPdVujYJAZF4FKr-C9Lg, qzbPv64K36TnRA7Ki7EDaQ, k2aTPsAOfrlFN9LLrWrCLg, UmXzwFM2OkZHWJ5cJZlqkg, UG4EKu13JRwzRix6ESINdg, 6gGRtiXRdUS2PbFlu2QmZQ, krPxbT49l0ffv2S53znp-Q, qLfujrTBF9XXGa9MaNNv4Q, Vz2ouW-nkOuX0Fet7nc_cg, 0XaQ6vvgy5pi5XAaz12mOg, uYy52H-UGQvZ8pXriv2yYw, kJkoabUt9Vpt8FE3NkU08w, nAvWIxkcP39OLMRHtJluTg, UVxY0iyPaqY7s4BSFtt-xA, kGGapvfP1SZH2ZOikdSpNA, ciCuqqFRpSoh8ZZ_a9ELqg, 85k4u8kP9yb8uwKNZ_aWig, Od5HdH_uUvsjGMTgOKiieg, PFyclb0Agx6HmlyMyYqjkA, 0ynxX4zKNh-Y4-NLW4eaGQ, eW97I1zicAT7Qv6j_Ad1wg, 2jBo5YXj6eflYJH-Rle0fw, nMeCE5-xsdleyxYuNZ_7rA, E5bgk6POk8u_EWeCgrlDuA, y3HFVx8nbNmomSc-PWOy-g, qoyf4UgwuF37St-2VdkJZQ, 6bsqA3UTH37wyCOFrt17vQ, Thc2zV-K-KLcvJn3fMPdqQ, v0O7miDEH4XX2diEr7ij2w, 64fujm3m9rYNbCypvHxQGQ, LQALTuDeCRLwR9NOxUWS5A, 4bfqW66F5CFu6Yr_S92EOw, sDX-Wm9s1DeT0aiAxbnugg, dE9YaRaUtkDm-xJrW3BSPg, 7WfLyV9sV-MU7f6k7xgiJA, HuBgs7uHyUz7DzcaScZqjg, MoFiqXxCMV9AiqIg1ymKwA, J6hurmbHzrqxFYL-56YPYA, TN2HEqm1p62d-HNC2zxQ7g, vzw1ZryOiTYGzl8N1yILtw, ZVdHmpsUWMQUfyJsYd5p4g, 4n0eMAeCSvWRl6an5Z8OGg, suF-uONlHQcTlqbXyJ9kgQ, mCwl2apJVmNxH8PqT3ZOOw, sFxvRllDeR5ZLjBhfXOEWw, YjuCEt8TPPDCkmY0LmvLtw, Nd0ocN6CmzrwHf8zeABVsg, GerMhlVWTNkcyI77oQ8Ckw, J9c0XM-wV_KQmtZYxvIFFQ, G6M2NiuST-sK5ZAR4VrfmQ, QVK2aHwCL55_uhq6eBk5rg, cTtDPzQSGHzC7rdOFylU1Q, hRIeyrM1zhL5nhk_cr7yyA, muvrSTpKkOlsdme1AMZ78w, ucAN8VJoiA-_ysMCgZev1w, LOcifzqw4pDMpjaDs5R3oA, 6p1NDChnIpGl29Ce3cMKWg, yjUtVmn9QCgu-p0aG0EhgQ, ottOuy7FZtUV2HnBfhVk0w, G-mWHSm6XVp1oe9PN7NUPg, 61meSfN9Morngpe3a-D-Sw, OGDSD2XeOBBdb1pka5tZVg, yLW8OrR8Ns4X1oXJmkKYgg, Aic2V_XB37mbK6tqzSLuKA, TwPlaNvnziaN2wB3lk_9Mw, qtR8zoqViSlbggc7gaRmvA, RX0GPUmx4wJ8zxP1Mq0tPA, nYryL_iwwwqcYQarn8_lbw, H58nmfUs-Nz_wwcYfWN3Dg, vd0X9jRPbc3-Q0DhZlYTzg, sWt4M6Drth0Lyt4vT8Mo_w, RUMzmM64bNGfKw8Oe_Q8nA, 9kgj54sYGd0qc5emszjpHA, CwMnwuXOV4IBDvDYTAK8Fg, tJN26kuHD2FHpdOCLPJUEQ, CWuZMpIht24ApriIklLKMg, B_taR9fTDA1quy6Lqpt6AA, fG9Bq9aU09w79iLvxXivzw, 9fO8HBgLnMei8zZUz1Ysbg, 7OvtYnfscIWBahX6hL2xkQ, RIq_z44y265BWS8DXDzQqQ, eFbmEFi1-dBlEVrxZCNp_Q, ysDmEwP547KGbzW7h_hlrQ, rMKIHfnjkJlbohF2HExnPA, KKYN4LPphTk-ZBz8YxsDbQ, UNGVRzFrjeilD4d9xEUAjQ, B73Hnya4RxPrQg7CNVAZVQ, g6eN8HGLYDNKqO10FZ4BJw, 1FjbFIhkxgPO35Ak0nozJA, S7d9QLjgw0yt1tWKgoyrKQ, 2r1FTE8e7n9IJznypedWJw, c7pPoQPgSUZERW8XVfV0gQ, ZE3XemEXMfTs-g4Bi71HyA, uJTEn40MZuwQSwziAJxOSg, AGo9oQr6aPCIOskjiTdNNA, O_GWZZfQx7qv-n-CN7hsIA, Ccoapq4XJg78LdyhU4lZng, 4tWyQ6sykZf1qzJydWtgqw, kIpGUhKWzHZHljMbAgnWUA, Ryxj0u0AW3mRsRypdYli2A, Q0St62dXpD3Z_UHvSPcutw, du7qMZ2LGnKI8jtwNaXfzA, QWi-9TOuCN1PMDLzDj1k3Q']),\n",
       " ('zZUnPeh2hEp0WydbAZEOOg',\n",
       "  ['Uwlk0txjQBPw_JhHsQnyeg, Ybxr1tSCkv3lYA0I1qmnPQ, DNmeLov3wXNxlxjN5feBoQ, x7n69vEsYFh9xnW3D5lPPQ, -AaBjWJYiQxXkCMDlXfPGw, COXnA2hnzFDai3ywx_iM8A, dUFoyswTt5ZQbleF3_4TCg, uj2AWSvsspbrkebc_jqt4w, MWa8PTsb96FQAP4xrrVANg, G2AYDJ-mezLYLciNMcTXjQ, gEO11MjHUlxqM3z5UFO5uw, zHeeVKXN1A86-EMRAgq_Bw, 3Pewj4lcZzlUvhmJGKFpqw, 1HC_-rWi1oaB-N3BjqGKoQ, KavG2RBt77vRLqG1_6RBvQ, 7cmEMOLyD4GS1XbjctJpoQ, ZnxSdo0cVyH4HEdDlwlv-w, RT1w-Z_QCgJACmpOELpPhw, 62V-Kyj1MD0IVGgZYkxy7w, LBEdgyT8eQJqlV0ZWmkAzA, vhnQz6huUOwuu_X7Qjbpcg, x9g-i1DsB-VjSDGVOdRonA, 6sLKnFnV29EXW67d6wABLw, XpRfQFXFPLBxWdMi32_CSw, 2O-ONoy3ddNCfSQ34CFgiA, 93ZaU3GfaXSr-RjabsaQ2Q, _LbK9H21Hm6nx7FzjeGpEg, lkI9-dcDhNloFvI-HM_Jbg, Cvvu2V_FO3FjxIHpartSMg, 2g_7xUuWYKlHGnghJ3Zpjw, jU9aSDYxNIXb7j7oESxe2w, ekGZOsYf7lAOpQlD_j8t5Q, nkN_do3fJ9xekchVC-v68A, KKlGiwN0g8p89eQkMyhvKg, h-sDf97w0r_JDOVUtzLT8Q']),\n",
       " ('QaELAmRcDc5TfJEylaaP8g',\n",
       "  ['iog3Nyg1i4jeumiTVG_BSA, M92xWY2Vr9w0xoH8bPplfQ, So46aZ3y7zRl2VmFK35vCQ, vrZmtsiaIZBr42KwAve5qA, SaNDaz5rBQs-5gyhOkO1MA, xTcuKbp7ocDcZDD_bcK9hw, PpzliPkE_fzsI6r15UMZFA, Ygr_c6So7Aba0kDQW01FDQ, RL8CEnHK-FRA7tQd_0q8Sg, xXiVvsK9nnRRCfCMwj85Ag, p21bx7Flt4Svr5TgfMpZ3w, nOdmcHSwcaIMurQphLwD5Q, 8iboMve0kaB1tunZkYENKg, bR0DnaZHT1zZpCWzmLHntA, 36Vr9BASkR2v9NKNoZtiSA, FLjrwZRr6wgZVtIm9dWYEA, YctWPgIfkCyAw4EChKPFqA, UW9DSt9nuTGdKc6oi1R8mg, v9qZhWaRltc0uCzXmGaHmg, aipw_nbOkMRoxJRSpes1cg, 3aAAJqybpkD0pc7WvmY3Rg, EBc59diO4gfwoGR0j0hfWA, kyP4gdfQ-7GZzI5jSWDf4w, UwmtWzBdbi4AAJiuBrXrQA, pZjpnDqiORF1lVqXLnYRyQ, NUTZv6QmHZz6dxnBhLNzEQ, 7Zd4e4JOuqsR29IpojC0kQ, xY-_P4jUJD4zs4agSjWbrg, IyKJLgLAHGXyAc3xgrsCzg, m2R7pydiZ7vezHD-oZt6-g, hizGc5W1tBHPghM5YKCAtg, GbvhM38d3jqb3Iar2MuoJg, E_fl5lyRMMXOZ4jQZNEiTg, 4UfHUgieOvWQo1XGQ5oYFg, ZOPLjrmR1qjc0fk6hFPM5w, mZfae6-3AkHzd_AzSgV6qw, mcG523uA11CIk8OP4ieRGQ, kWZd_XPvezquaZlnR-cGcQ, UOCPrE6sz_dsdACdnkjApA, FEBiHCf5qT69Bo12F0n_og, Vo1zWPMfzT1y0U7wHd4Qbg, wc18MFwqzm75P5JMscAtIg, 9_I0lDod67yMUxFJSyTXgw, ueClFWN0WePrtUSayd2FaA, _3Jmz1ImI4-e1roLYPxDAg, Y0nXlvDrp5u1lIPfobN2Dg, ebYpHPQWSKoxlzCPJFsFjA, 6XiXp88SLli7Ls-rU_rAIA, 04uPXZ-QrZ3boQ2CHPgkNA, tAMMm7RO4xYEyh3YGZyNRg, tpXwIuoClyyAnA63giKT0A, v-pGGrjLlnJPUpblDCAVCQ, pSRS0q6xbWlRYd6HA41h0w, IkEwgKW8Ay3S7AK-3R0PsQ, Thc2zV-K-KLcvJn3fMPdqQ, 5xyUUCEtv0fLEQrmJuZnRA, ZlDSUd9ZnLRxkdpQk6FHHA, 5YaP2AZqZRzYP0taTSCNzQ, dWUpHH4b4cScT2ymMaoEGg, aI8SRtS5igDFHd0ZNo-KMw, CZzdVwvQmewOlwzLyNC1CQ, TFB0TYC5OrdJNjxPB74PCA, 7terxram9WYIdwVCIBkvDQ, mTRMuXEmozVVw0StZDGrPg, CajMs6IdJF6RjGQaBAOILA, tEvOR9v9QANUq8tNpX98aw, 6dVx8ommZz5On09cXFHgyw, blCCwjBjMWbyuopwX9oUDQ, PNa2-EjHe_ApIgZXD6kxBg, JiAyMJrdqZkcul5tRWPByA, tMgH4wDvCXunT8rfC0jvnA, NB1zy90YDtxI5fRUR4vQmg, QMya6jHkwyrwpfgpF1chNA, iAILYmwCQiqpyXQkbMks6w, YRPs1xvjd1aNwHegUbwjQA, CNyitHSWyHFn-lHjJxKaDw, PoKVnj3QpJEQRZDijSAz_Q, xBLGb1lrLwTjWgEYgCeOEQ, X8oFqYnnwbb3fUQBvHzIDg, knBXcAmTwQ6yP9L04dmZjQ, d7iJj0a372sinfbSs_W8BA, QMqSgBqSrlRhz2B0UiORjw, vNNU6htwtCpClw_AZ2gb4w, w2ODFJvfvG6VEA0fpJ7nLw, xksSZOLEs8hyMa2PMs-u8Q, K8rj3ZEPY6CjQWS-uP3K6Q, 4zpUSSpundqCrk8gHONgew, AUP2CmIEdeBqF-47U8ZhIw, Lg7Zfv48MR8IIaoU1tKejg, bGgf84dQurLiTha3ru0QDQ, uIn6NOzyBEeTikigZgxuEw, 720FSwm6M9xRL2eUu3N50Q, kF95hNEblFmCe2B3UJgxjw, ERrOa3Az1ohyL6O-vLqj2A, rLdPfte3FE-HYJ-t6rVdXw, 7LgoIUC3y5GAZAfkG5xtfQ, h5cXTu-93TqCrFnbopkbew, V2JeIFpLdli0khGsfqrCQA, dLrGzLtYgFepEtn_LC-MDg, K27pxNGQWceO7XXBiS4m0w, Iw-UXs0qSKfxfDasEDrDuA, idJ35gltZ90eFFCm2YvtXQ, FQLskXjZ8xUbkWMihFDiyA, xuvLQE19fPrisRrgMRXfQQ, P-AD6uzK8Pg8OqmviAwIMg, Lq9P-y8gWMHYnYnOP7SjSQ, Gj_a4TEQqunhcNxQNal7ug, dkInfCtRcvnqKEEbS1V3_A, v3nHr6tKjYL79gocKwaHCw, ivGkKD0is0F2pBZWAPEaBw, kQTLrAanBX44x2Mfn-I3GQ, V-kZOpiwmqjjWudWApylPA, LGidSe8ghgfdqGsSOXr8tg, GmQPLhAj7NMbhUf766-uiQ, 6LoSM5hgpTdQ07AlSlIe9A, 3g4pfmQWVd6o9mggWw7IiA, nKXMLvWzxW0G58HIEXn3DA, U1CTiAmf7T81PJK4NxngTg, a8UgC5l8juHSqQMIi-o2cA, q3dCZIYhKnCT747C9-Bi4w, yPVa6e52o5Ao5K65D9wsPQ, RgXbXzGEsq5ys0RRm3jfVA, RvFgTBaLmRGClncUPGOS2w, cQIFLm6ws1aH_I-Nt1W54A, b2FQaAkTrmRdbvXpI1x4rg, A_rIi9kLh2aoeBGBNyjtQQ, T4WrL0OkzDtZgx_00v8QxQ, ee--wzykQsIUuC1VAbmmKA, hZm8pEgyJl2L0bn7fykcsg, d2FjqGUNuAiFHcPdd3FuNg, rjxgtBNG-e5FAyD8e57_Rw, 73q_SWtiBzb9u3mLLbksWw, Oi6Z1vBoERUELx7bsvWrAg, d3eP7O8LNLRQOGsCjgmOug, 03qtVp_XohUOnFZGCHTcYQ, CMUXo9oDDAImZwp5kial0w, A-XfojPFGvBkiDIc2IolAA, xYqOJJjSkCL-J0dMBUELZw, 7EBkuytBvApvUhoToVQqnw, BbryXW35KHHIj6KBMcqUAQ, iWHW7iFxQBaonTpC2hTntw, 8mwoQkSMPsaHzX9WQJ05IA, yqnveJlr263GK4vdmLpspw, AW0kk52WgpxovbxjxQ6zSg, 3G5xgbgXuV4GTpko2j17VQ, N2u2LfwhGs4p2LxMn6v5YA, pPqWDTJr-kPAy4TXZebndQ, _5L-ucix72TKWcE6SJ4aBA, YHzZUV_ji6aDBrNEyfbp8g, b2kzQ0OYaGZG4CbpH4Cu_A, -xK4wS_paMlVYn0sD-xu7Q, bb8sDmOeH-foJePyxyKfGQ, t9-7T-ri2741XTn09zt4HA, axdHGMOHNVZULE-Oqw_hGQ, DsiW3YrFsVSOBHzI1UCslw, DNpyA2he-Ql2GPJcwTsECg, t401RQlrFcyb4Z3IJZT1bw, kkDKh7p5IJwJ-8ueKuc6-g, D0YT9WPERx44JGuU96uFnA, XsXNl7-7iG7ziLe7n5JNZg, lMHHHbgt7S1ECx9_RLDYNg, 3RUupRunV6rQGAybGIKANQ, nUUd_oILvvsW0IyY1YMIoQ, fu3cOEyBxxotI7qkiZJjuA, BQofWToAC2ZUrDh6n2x1gQ, mAkgoItGaK_57gdVeP8ICg, Xd7i-elY8qVXX9Bs1gpD8Q, FJ6peuwF0Tha3j_2gHkw4Q, iyQXrxWOINZmfybiVX0k9g, rIikCs8hOhQO7sAXzqAphQ, IEEMCTBnvZRq-Fj7hxq87w, eUy5wXizgMxjZc3JMD2vrA, 0dvTKYj04bCrGg5XRZueOg']),\n",
       " ('ttumcu6hWshk_EJVWrduDg',\n",
       "  ['1pKOc55fFx09J5t2rPzTxw, HYpE14yYEKSgu3VNVzObHA, bW2AQqcSPascYvKXsF0S-g, sa5zd7bwBQzajQB48Y9SUw, GISGKvSU9j-71TQaopfFog, k0Qt0Lo7uEOBOPQU3RZU8w, KhQlPlX0FEBZSWnt7N_03A, _u3fnAioKgbcMRczm1cjbA, 13oHusx9NQiXOtzGLHkWKA, 5w7lSpikd7rt88KZGqAq3Q, GOWBkpDlkJY4jvHL0xWGlg, gVQRvH2Ee07x8cK7GoQgNQ, 0S6OtXUGAZX__HuXlqIO0g, x-UEmeYnm-guCKVEsBLqjA, WBpPeK_eDwP6dzDXML4eQA, fxxDma1W3aahZzLNP89WAA, 9GpMrHTbb_1lQuVB5UF4qA, Dfhd4xa16wnivWEZzvnZ_Q, mqX4eUbe-FloqluSb1w1DQ, FepUxtZ5xOPts7dGIUmipA, hjEzRcAf__Ggc1DqPGbeeQ, huMZyHKofLRnVqXIrdnE-w, Fr1AHwaEhj1zryGBR49Z5Q, 5i96QHviF0zFGDpiydAEzA, fGILVLvubXC6-91Uy0rydQ, _Ac7EfJcJoIFRJf6a9Tcag, GfJAY8vU4giYXMIy0UXFjg, eWAhBfihO8WhWhNAwaokbA, zV4ax3qXTbYea_RaGRYvtQ, KJX8uKN3_xu_lLa4Ft4ASQ, RG5yLxmEZpaMCtuUXdfpEQ, X2rDsx9adK0JxC0obtiJxg, CBjPeXSf9uaWTMoaL8rgIQ, FrtD1XOePjNdKFH6W8zvug, Ls8rf3FZcJ6RmyImHKTffQ, 27GaPineE0MDuE9vmWZJqA, zPNrEv30Piqoig3YG4en2g, KODINr-h-thP2MGilpnmAg, 0DwuPj48w9XdhieNqW4tag, o61ROQwHjYi5i2fg3yz8TA, 5xCLty_K07Pgsd9WA7icHA, WclUwvw9uGqRA2I1MrZE3A, WQm1tGfkIJ7juGc1VA5z4g, Uculq5MpH2CgisAycXH5mg, v8Jq2U_AYZJKjeVq7MifNw, 2LOJdL3rxMeCHDpyRBF14Q, 8XAR61VqjWvB-g9a0oF3BQ, SmnOvLrEpIBFDg12yrLuwA, sF_lpRgwMgHJrSWyNF7r-g, u5gWQo4Rw6bpT__D6mvtdA, l0R1xDBG2DnzAJaUJC9BRQ, _D0dOvbRvvWmQlA-WIJoAQ, uk4oFeDGDGWcYec6s3RAyw, 2C0EX0T_IpvqvreAJeyZLw']),\n",
       " ('f4_MRNHvN-yRn7EA8YWRxg',\n",
       "  ['c-Dja5bexzEWBufNsHfRrQ, 02HJNyOzzYXvEKVApJb8GQ, LQAUMQARsR94BVzWf2HXNg, 09D7Y6dbzmVQ0F15MH1AQw, MbBhClrXyu8-Mk5wW5y8tg, JhR7MuY6D8IdbxlhOE2vAg, T59IgClImQPLdBFt9XVqpg, VH18dyRNF2zrJly76eMppQ, CDTNjO41RmvUjUIAvS1y2A, PyLXZFT7fIjwRb3NGAHjBg, JtbiimeugaEB29Uwac6EBw, -8EnCioUmDygAbsYZmTeRQ, VSwB0IT2PaV_O5ZYI4LPAg, CpG2l-CLsFn3hiI_7ZZ8xA, IqApkrBj1daDO2RH6LuVvA, 9GhiQOLaM6ZGrrFG-SppwQ, bEbLwLpJauEG-HW0w_0IKw, r6dKOf0mcEZsryd7L4ZlvA, uDuDPNcX6-ORxpejL5nbjw, qzbPv64K36TnRA7Ki7EDaQ, 6DC0wklyCCirKpglOOCyow, _pSiINA3UTCMcpn9Mp6evA, gGhH9cwzkhk5qwAH-w08PA, fTdHtQNJga7RZ9ludpLMrQ, 8q7ceN8jbrDEIq3eE-NTEA, IR7eXsHAT6Yl4NpnhJYqtw, Lp3YKesc6hahMLgXcv3L2w, UQa9RqoJZWAawzqN-2pT2Q, d-3StI1blPyV3ZjiUhfAQg, dTJ-jHXnw-UeYT8p_5AXkQ, WpltxEEeSyYPwjPsNZMB5Q, fBzm1K3MAms_7zQYz8PTwA, q-m5ihnO-qHtal5tDGYC5A, 72sDyd8DWp-wPRjon6ZQpA, YKRIub2IPqLWGZMLZSW7Gg, txf48fRdZZ__htlGJYQ1Og, C43ClX21cFtCZoC0_TrxTw, 0_vS5V7tHlDx68TofKOVpQ, nj3syiLs3lABLtPVyL0ivA, ik0UUieUX38rPg24heeVgw, Y7Ou3JAQj_it5CQ7ui5VLQ, 661vYo0gi1bHA6fdUbYHxw, OHEe6hgYmX-QdWy69jQHpQ, mt13qyT-kfh2xQmYmOglyw, ed5-pdCODkRkFN-382Jq2Q, 2owIH8reTkZzlhHLNa6Xsw, -agXmrO2wiP31DMRFQtKuw, 6xpcfPZd2DFgRpruSvx6aw, m8nDqQ7a3zQWfkNK1_vwnQ, aROjSCe0apl0_IZsPxUbEA, 4RoPeP_B2BipLz5q55rK2g, RrKRWiee9f3HqsLG_7o6_Q, Gi5D1n6GFQQpf7fXCGGfhg, 0hMC8tPtc_K_ACAj7pss_Q, _d6ghMpGvKOlY7jNcV22_w, WC2vra21_G9eORjwFq41pQ, QY_CL2YeU4On8HsWgf07NQ, EEslA8XEw0IMDoRGZlu7lQ, 1MhPtfUC2Uw0bU3ewkb6PQ, oLtKs3OSxxlsq8Milg6Sgg, jzZY9AOkpVt8qhx1qkI5zA, 9wwhdHPxRtIy0CK-tMEBAQ, bxjZ3RQmBYlzhNNSfTmZlw, J1aurUGR360LS7GRnuW5PA, mgE3Em0bbFewVaMrADoEHw, i6pCe_ObrsIniB8n1Dp9pA, dW7LlwmVU3bsuRyxaJgdLg, fAmHXDfRV0ifnBZINifArQ, Z7u9DykUBOX82Kyk-m0fSg, -cv9PPT7IHux7XUc9dOpkg, 1friL58WZW3fSh45P2P3gQ, CVrNt-3FmhzM5abjbCS4eA, MLI70eXQepmC7t6GDA32Ww, ZZL2767-LgjVzK1s_yuM6w, YN79oTS2G_Gjt-e3FN2eJQ, 3tOlYl6Za51A-I2HFpsbjw, UCQXjZTdPrq7FZ9eGQnkaQ, 13f_vtUZEmlzweL91bmVng, VCMYANRTxn1euOqZgB4dEQ, E4UUqPlwClhSZ_JaRHvXPQ, F5pebI_8JJotqfrVGex9QQ, 3zOjpBROoghU54Iorqno_Q, 7bk3LkqE3bcic9scw2SoRg, iB029G-QpK_VeH70KpwBvg, HiNYmTYLz7OBnghsA0B4wA, 0cyp4yH4XUkOKcQuP3_G7A, ZmXrXIsWyloJ0OPwRI82WA, qIqHUdv0tl9QlaOaZGvz0A, 4P-mQXsgRvv94n8yd_8u3w, i3cqjYNRycsPgp4A-qUpBg, jnXecwujFjCKhMYLgUS_eQ, u5ev21A1KomGLmRBDiHgUw, Z5_KJ2U86Xe1YyckqhgOdg, jqBgWZfvrKHqA_Y94tpSOg, q-XIjEYIdhlKHY2QzQlYxQ, _Hk8qyql7mb0C-GPMHnukg, BfBXCzskhU05fVyeC5H30w, Ub1wFVC8-cWf0BWSqwm5vg, iPDevMjxcWproJ6mcsIfPg, ZPXAvRUG-rQNEMLVQnZ5lA, JUYakF5Zht3Xf5SmaOfe8w, JXt_vd2l_SkhFZdablieUg, aVXpaLiJyozoau_i8NuT6A, -PGA8UaQrjfV2k3V80vfzA, LyrAjv8V6HWkceuTB4Xtkw, ZaWbwSvAH5eOsQVxZ4wmLg, J1NTcoN_LgPSIwmb4Po6nA, 6iShvMPfeDS3dq6grbmmbg, _midxswbtOTdK8CQ_azk9Q, TgYyeSd-J-z3-dkr4p7AGA, OTQ15oAzbeum9ZHCn5vAiQ, 3lBt1J_bdtg4dOzdrIXNNQ, zcabDoWrjhExwsksVrcbhA, zkwvGp9_wjVRUMAp-GusBg, nvHLV4qbwvbKHSCP37xT-w, gZLmqJAkAaHlLOE6UsKzUw, 2esyx8s04Vrde3Pn8GMNsQ, AbMjnKOwg736fcIu8apuyQ, DJWpV3mFWBK_SuIFZHihyw, yhdwc7zvDAUwDxMxKWIluw, DN0MGxAPkf9PLoogszhYwg, m3iL4GlmoNYzioWXgU5VKw, UaVUQOzC8iGkWNfC6E1HCA, hizGc5W1tBHPghM5YKCAtg, uKxUtSvo1An9d1xbQOiidA, pKHu_qH6uEn9j0zDL7ZdqA, cw_wBVpWG9VSWKaRf_5U4A, YOLuQOaQHbLrgYXK1xm2vg, fQXELLXLJd8X-4IOQ6NAlw, sA4W5zhogcs-K7CsfCGbhw, 84FcN7Bq9BnL3wPtnyye6w, MvdbOHV5s0C4paEbfpFvug, VdGROLLl2il5-gXmdKkUMQ, r5jDbpVVDMGYe9PUQyfGzg, P_GF0rCpPysW5Mskj1L16Q, lBgPXxUwdzUz7YJkykeccA, uYy52H-UGQvZ8pXriv2yYw, 2RMjV0PoOcyxZvchYpn9_g, OcKDQAcLTowTxHuH9tFRJA, WzH4gATEBPE0vNucAl2D9w, VuZ_RvKHF_vsbad6-kOQNA, 6sVNq2y54baL-F-Hbykr3g, sCMoMzlOS5q0dfXJVCY2sQ, KAicY9FbQfFiCFPBLNwk8w, 7soAWztLrol12wVxgkomIQ, MqzDIQcObkbBEOFU1fqdNg, WLo2ZDq495BISJafHs37Wg, 4VbB9qS2Xvk-bjAI1bNlGw, w2d_Ea6P8_nNMWT4-yuf-g, FuwvoiQRJiCNI5y6oaOaSg, XthcMhRCJfZkxVdUTELf_A, ILvXe0EWKAH45eyUUxlv0g, k6c1_Zq-jXHnTBIoEDpafw, 0uEqdNTVj-I7zM83bbcgsg, 96hshSuowB8Zqe5aklFJRw, 9rNvnFxkQy-p1kCYgOg99Q, n95OvLHfD_lm8DT5fIazzw, GXR1TjiTBmZjYz-SAkjO-Q, inNUfHhxIAwe6vp-2ptYWA, SBDQBj2VEE9fbZfaQLeT_g, IxB8uybfnHxuALjnArSCtg, 4hAVAjkgmEur-WvpuAVgTw, 52oH4DrRvzzl8wh5UXyU0A, pguYQRrx1unOfqLV8vEQQg, v6Pbcy6I5kDb-uk2Ychvgw, M4g64KUEia1qgcn-qNlYsw, IMeE45PestLnZWLl78dIyw, X7LknRBqZNpI2RKSc7ZEJQ, jziM2RRRtPFRhD9nEpO48A, 112FWlK6vSVGpKQbE-K2_Q, U7zUJUsuKPZr7ydskd6TUg, hVyA7MhMwNvNVgQrESoC9g, kCc_LEwahsduN1GR4PFRaw, lConjPFTZqz4zWELK_EJtw, W5D-vYYIHCEb1305Jo3wyA, TmfhtQFHQDqoxhNP_liyzA, pJTVvfFHZ-e21_6OcfDrWA, 1vXJWH7L0IMEz5-8aU3SOA, 4qAplW-E3MctdfJSW7RDiw, T5iUJpBJJyHw-hnOK9DnJQ, JDLz58fybPKukTwfOXUdJQ, SUTWFZMeyBNubEKSn8QaOA, -3GwonyrKEu4tHSO11bSRQ, 8DGFWco9VeBAxjqsuh1aSw, QSA05SquUKJZnxasypxvjg, uNBCQ12gGQoJi8MKyrtMhg, aGCpn2bRjnqkXSe9UwZrJg, XxLrAHTDBOEluF0AWyERTQ, IZ3K3X2PUUZI7x0yXmKMcQ, dyNs-XGOqKKMumkE0UlFUw, eEGXguOrxgdy5dIWLLYx1Q, rrakozIOzTvZgEfw_ZqaEw, TOUrBqphlczlsv--Bn7IZg, TV5JcDcCybgoU3VTzE1OVQ, gEry2gghMX0hgB7N3KYAJQ, YUx_I99dRSO4z4PE_-z10w, XgvVNPDZIjDQAvBJxjv31g, 9akppeqi5dnaIqPyJ75aCw, bWI6Ng9-rhelhozUnXgwxQ, FEZTRNz8YQlPp3T_BaCvBw, ztJWCATVXFxkF2aDsq60Hw, L5ywH9t0tkNbfPp1Z4tw1Q, xvJsdSefA_lv_twdLcMlAw, Mi1VEqRHfJ75ESxPuAV9MQ, lqKJ_gxGJmF5YWAloFCm4g, 8UVRmij1AQZMG7WXoyjyhQ, 03lZQY6fVVzF9No4wPXwnA, 3MpzuK6s93p3pIX2GfZCWg, C9WHeAxjoR9Nxo7l-Y-F0g, 418F_vnEiJMlU-sKpGttHA, l8a9wO5N7SyMz0T18aGYgw, RcqK8bvud5RezCoI8tQu3Q, cXSTO2eo546IKqDeW9T-6g, DGszSnRNWoAOtD8WGf9wpg, eZKyqqZUG06YxG2N-9nhKQ, D3kM83KJ-0TceDEOyqKflA, jxHIOfXLyecXn6PMU7evfg, DFyrOKhrN9p3_JGKI1NjVw, H183Fg4ku9mIQsmAa0fsOQ, fgwI3rYHOv1ipfVfCSx7pg, md1oHvwVTJ2PDgIOJAH56g, Jy7BwojX8fRcq14_Lmigcg, Uz2dNGFqvtnaMgCj-uo1RA, I9FBzF1gdaegOkQbJZcXEA, ZIOCmdFaMIF56FR-nWr_2A, -uBmDm-WLzhue5KQUiol9g, VpYLnaKTed41JHAft-tJjg, cHeKpbWe6rW5YZDUt34taA, WmbjeLL67_K8fkheVFZaFA, pK2hJ-8fJC5YUz7Ti5QYBg, b_ED_rPl7OLwEpUlr4VI5A, EMMzx-gGDKsU4enmbae6dw, wZlYCTyJzrybxSWLyf_Kqg, bKjEQgQhXK7XuucRzn7pzQ, ljYHRWb6FXgdZpNZEy4X8g, 9u1ad0h4JY5pWr8sM9dgZA, 1Bx7Pg9t89DinwsGwSDB-Q, DBvQvSt0cCxst4NkzEUtyA, 1IrH7GC93zCRq9r5KxaONw, xbCj56zJ7uKQBivrh-CFbQ, iAiuVtf_vzqDIA_MfcF_Kg, BBTEsNWBFEx2hUDlQ7-nZQ, ij7kqaoPR_Zwtcrxn11kXQ, zB5pccOK0deVGWJn-iFkPg, S03SVVQLXME8ZnCheDjRZQ, O3s8Oc8nBxhpuUFTcoCDcQ, WAHDqdC96ZzF19FBeMPdbg, VXLmitqVLVjtrw9T6YxMbQ, zlsZjH76jWTXiG7fyyUzEw, wud3mpvvW5yoSB_ZjS-Oig, Y6XH1iNsuuGAcO5nODI6rg, Cvvu2V_FO3FjxIHpartSMg, VDGuO-7PNR9lTLpgiC0nvw, sIVejYnO_Ig0fN4IyZt4Fw, 7an-zIbFKvGxjpeNN9H9ow, xpQpECbeuFmJtjgCECKAtg, Yh3B6c8cXa37fqKEaqdTBg, 7u3G-vKcpnQ0K7-5-nct1g, xOR7O-Kbjv4DemA7aAaiPA, 0wYuREI8lQncPuDw5ztWIA, c-c64rURhBR8V8scSbwo7Q, o_dPk6REa-SPz0RD4J04Zw, s-0poQ45eTsojzBJnc22hg, 39UXxT8JwxidG1kd_kkuNA, u7kmxocTMXUv7Zj3JkN61Q, _-kGNRpLES4vvC9iOSpKnA, nGZCrmy_nms-TMBVQjp3aw, EjTuHWrmBJcxJM6XoKsAeQ, 7uvfAKXezRXrLWNo1VZWbA, -70AWfIFQfmoc3Zolvp73g, l16BrLjIzPHcy7wJA7dtJA, AMP14kl74ZmETwdNposPNw, _4KzxQnSQEyeDAKLdOQYqg, 7yBDpjOaQ2cFLzu_4JDESg, vXCi4JXoLfy_WZWsbHHOug, -cbtUptKWKvTSp0CTGFaYA, 8qiH1WJnJK_Zu_9xGE-DiA, nZhcv7BQbemMPjz_mcdlVw, LPbpq2mlDxHo_dDObvIH3w, 8Ae5cP3FzMERCc5pnifcxQ, 8z2lPfrf2n90tMMtAYpvYQ, MLd0wBN9zotkd5FbXxsVSw, Beshuwksw4qhblerZGOtfg, CxRWv5XoTbU-4PJGcb8EtQ, xcI-0dGP71r4RKSmAYbq7A, H84tbTziLKTaLsWQMmn8lw, duihVwxxVm8iD1NVPwiWCA, 6K5DfPqc8lynYTk9aK9kyA, 8ZltQWq5Q1C-D8VMVEUBwQ, BvW3MBulUF0mZn1pTkv3jg, oF3-S8n_UfQHyj-4HugH6w, D055o1iFupUNYqOnL7uzYQ, VAMU_bvMF4KjccZO_JXovQ, 3HZKZ5EEkkPmc7baT6zcbw, yLW8OrR8Ns4X1oXJmkKYgg, Px7Wv8upFSmB4660i9bOsg, oHTIkFpaHC9XCjYip0_vUQ, PLCijWEcAk74aiYxHb_tYA, wIlu9IkKGZKj2TaxKoQO5w, pDvDLpD7CiMlIebsDPCRSQ, HpJzEFN1kyuH6VAF_usqKg, K2eK3hO6o-8dWKq7NFU3aA, Ml_u3dL82-zLY7GlK_EOMw, St-BJl91Y8k1MUborKBRhA, ZAE-XPDbuayz7qWwOI5dPA, NsWwfedmrdU8Km2E-dfBBw, FjjnZJfRu1W0BFcbbbFY6Q, qewG3X2O4X6JKskxyyqFwQ, RPrT8-YjQ14aRgJqZ8rHuA, 1yAa95hjob9E7ii-J0d_CQ, Rfn8waNHWzXb3kUdIqZX2Q, 0j3tlj2GGMdTL0Zg5cmTUw, 7RLTk4rftgaUIDSau7RLTA, jiCmWRyQuHiZbUDQo_aS4w, oC_52MUbcytwNKLZEzOzgw, S5IMQL1N5ODD2ji5-uvdJQ, OGpozbg4T3DXjrNSZHgKfQ, Thc2zV-K-KLcvJn3fMPdqQ, HipNu3vK_MSJ-IIGsKFbfg, qwONwL783a0hvPQl2TVWjg, C6O6lsngnkwGrp7FeNpzJg, 0Q-MfQzk3O6ue-GTra8DKw, QzAmLGM7sD7rHBJg8ALkmg, 6l7VXFVWb79Cv0vezDvq2Q, CrnxiszahgWFIYnxKUmM1A, g2suJFocl9hulyB67UQCVA, 5VqlD037_fIN2S8C6LBYjA, -2iqRtc6w1AXjVhT3CKuwg, gokkWEFKps8211I68N_kzA, Cl-C49EE1aA9s4tk-PpX9g, u7Fm4lu_JvzCOfCEwknMOg, cSURwE50g6X68-3BQMqw9A, 4r8gbWobkjA1Zp3S8rmx_A, 9jfAkb7vxHLGRI-GyIoRXQ, aNhTazkPZ2dkbjMhLOcZJg, bqG47CW9PzIHQNQgHmHJFQ, pk_Sf3sHoJYBOq3PcnUBww, p0Iez-n9zPWNcn_8yA2hMA, 0XaQ6vvgy5pi5XAaz12mOg, m2xNyRzz2atpDQ-Wqd_TkQ, LNQylgySLXYSiAe3i_nvYQ, qUGMYSGV24KD8QFCdGGIlQ, BQQm7tybQj_bEYIsPL1cCg, TYCkjEHPSJSnFb6m6GDluw, DLWwpS70SF_nbl1Y_rJ4Fw, b8ltXlLRDz9filrgukJIrg, BE4fE4R3TaVn8xy4sYYjbg, rW6qkpXG6hRHLw9rUbIXtg, _qKvTNlfNrJh9ZhjO4lJKw, 8KBFIuH514vkoi4_Ovv4UA, k7fUNPAGinUKwGf0EGkOJQ, BwOei7KoyzDxBC3t91xGDw, xpHYr6tcEzLedwa9CqS9-Q, Y0DSxhhChQwzoQsLeDuvRw, GbgRaYCME4jD8e4qX9O8Ig, qU7Ct1nJjLTtXc_J6YgsTA, a2gM--iWLvn9cClHBky5YQ, qiEgqJetYtjDxLZ6HwDkhw, 53dkR4-xyhjsCVHfrwiGaQ, fQq-PBKARvUGfBnmch9Dqg, HiZSNk5gaZQXnSWdK_JGcw, -8uVKhYv4IWG-j91-Tetvg, PmlV88sQq-KC3tvCnFvldw, Di964I79XhXngk__6I4uOg, ZI6xOlqFW-W3qErG230JAg, NYH5GRSK8X5IbXFaDuEhIg, PQiquMq7UugwCM0C3bAK4w, CcRfRjqvHkMTWK7aU4bnPw, VzzxTAOi3jFaPlwgkVC5IA, _epX-5txP44x7i8zknEoiQ, Klk8F4ywzZ11g5XjAZ4_0Q, nlq0YF4wl41LMqjkAqqxhw, 3-t_uaPKVQQmOUAIu7C-PA, ceHr_dfChpybjiPd3IhbtQ, DEYacDD0g8nhN5Ofz7Kjuw, QAE0XP3rKLg1q3KOG34EQw, MrFHF-J0ie0EG6mF9ILg_g, EBfKhipZzJobk_aUHeVo2A, xLXHImWHVNcR4hkFxliy4w, K3Ux26gKKPPNwPwEaC1kDw, 3hWhXTkU83jsm3jIA-rkIg, jVYzrVblDFSuL3GHtt8ZSA, V9XzXUcEFOEh17r83GjLvA, asgzFsLgd_HtTgioSktm3w, 4ENBFSuIT-8vfRHZysQHag, xuPc5g7lXQbYzIk_hU1odg, vRLleC9utWYKGscj93tprg, 02kuX8eTojX5FU-5Bj2uhQ, xaB0Ys9zV42eBBUEJ12EuA, o3Zv4AolGeRr-xX7QhESUg, l5J_HyR1xn8PkqZO3CVV1A, HuBgs7uHyUz7DzcaScZqjg, miFeoTfTfRCU9OWnnFwKcQ, 81xvUD45cij5iArjvaW6Vw, LmC7BgZVDMQS4RXnqxYYSA, oyXIV-9GRBBZrFydPCaR2w, 0mPoOl_Rx46jaHOG9pybzQ, UnJlPZO3iImOSViixe81mw, 2C8FAHRhQy7AMtwotOJzDg, VFfHhEw5Jkc-ejcv0FzpCQ, ZrysxDdlnUx6Y7NSm38sGw, Go8HGtNTD7xqVmc9rL4lpg, OapLWhQI4_Gm32-nYbHmUA, ULGRMtMyzIoMJxmMNW8yEA, o4tYl3Hz0oDfpNn4k02DCw, L1Cf9w9jwtiYVMFjIQyHkg, BV8r2fafr-tzqTtNrHs58g, Vr9dusuVgxTyknLN0L_WLg, o8Lo2pvM19nyYPBBycgSVg, L01sjA8ajv8S18LMxi4JRg, 9RTI7hIaNM4Qkz_9WqCDOA, djeZJ-FEy4j0PMcsyFzomQ, dMvs7AzNmnXweaZ6SJlNrw, gbuyZZgba2gdYAJkrKVLBg, saDYN_zBEoNheolWPh5RcA, pYAywZ8I0v7BIeH3nwccZw, E5l7BhnJPugSNgupBlShHA, K_yjrrDZBSic30Gr-dopqA, NVndhVfffw7ScRKviRdRYw, gg_PAWQwZDrGtKx_6vJ49A, TzNFe9Mp1BQBmpZwBjcrgQ, W2BFyhVvcjOTnkfUV7KpmA, NzEacAjFU5wXrFK1tq08bw, UNrRFid8GHilhwMhJ-zm_g, yTd4Nv_Hdqum1KxoXVxW1g, 8RhA5uJ7NBFjsoBxJAjljQ, c_kSlhF82DDLOriQCwmZXg, rqXQ6i49alW44P4hPe4ufQ, kPxaGkN-Wx64-symp8olmQ, 0qk8CQdy8soyACnd19zrnA, z0l1Jh46ar63j9tjYiihLg, 34SZ-CU6YzI4kuwHHiAnEg, Wl3djbQ-NExiMCM6hSUNxw, e3-W6kzr0xaUDKX4Onj_aw, yiil_yUI80L7LyfgTZoRmw, 6tDMGnbO4m8ENlUvG7r0eA, yvBryjwrj0atLDz24LQ6vQ, WItmi0by6gmtA7mJHbCBPQ, iUY4cW-dYcGtJH_OIXjGpg, 8K-GdEg3NZ8LS-OiDh3L4Q, 60uaMp4f8f8zCFq9dxc5cA, o_8sVoYIFnoVun5YY_lAEg, Nz-avBT9DAqw6Xt0_Ni4Ug, Dit9fxJlPB0EE-4uuh9lXQ, kci_qVbhAdVorI38__SMZA, nMoIFAEfDGEbzULmC0HnAQ, OnMSdElNtboMIx1fXo82fg, BZoGL96MK-yL9YKFxasX_g, WT1kawqQ43mXUNS2xL3Iyg, EUZjKmmPjbwzxmmuKCd9Ug, H2M1UHKXyDU1-IM7lMB2gQ, GHDBL_w6on4z8InL0_4-tQ, V0SV3KSaVO7YVY-1pgBnKA, jGLFM4ot-s2wIMNrDHXsGw, SNstdS00KR0R1fX5DvNHnA, sy0MNBrbdFQXyyVWRoGcTQ, ON6iSqel9rB324tQlnCwCg, V7up8nHZ62olEq42b6LhUg, _pBzBgtCTN9PNUPfgPDI8A, LcaoMdHq-gO3FHejfooGpA, K1eMK0qdfqjzVpqwN8dDJA, IYtMkKM830vCg_Yh86Up7g, augJQotyLB503iq1gVJ_tg, N4WD9p53f5ltdLvWfVuPPg, _i3c_aow84D2Q7dPaS7ilw, Cit5yho-DqotA0BnXHErTQ, I6ldsIrEdUuN4hrKato8-g, sKsOfppBrbhDkES1ziLoTg, PkNs-Rw6MHQfu6j5pBZMMw, SxM495i0ywoA7A16ZJ6Snw, 8wKZ9gJYJtTdSVWgW7Or6Q, sPksYz22qDXP2Zh475Pi1g, yybSVkpg116F9q4bQOpWJQ, oD05kQs__0xae_g3qvys8g, X9ma4iPwVEZFBpWVODBgJg, OofGFEyrcCssuDmokfYBHA, YCMLGlQQnUCoRY9MWhaoUw, Z050g0t-eFGMJot7RJa6Bw, duggeI5w1iC_3Lq-SfqyWA, N6llta3D8IVSPQ2k_rvWbA, a010w8zqtYr51YN1Fsh-wA, qEX4Rz0nzYFlxK3cAvI7tQ, 8Yh0gnLTltEPmxXAXYlbsQ, v2y831HOXISrvrLKTLcyLg, QtT8tBXKhZI3Ehe4oUfbGw, 6cKqMlDIkd3nJsNPKWSCug, Czl35ZANxfMSNxV3r4J5qA, PhRu552RJxOvQQ6XAsaoBA, V7uS5US4oTf-S9u36HJQCQ, apzp44CuuAimwF2klvVtGw, F3jGTvBG-XeNMfw8oKqD_g, j5yfS1QjGwNLQ0h4_wDyxg, peuxbSQwXed-81cSqL7Ykw, PpKzE49uYvved7kU7PvnXg, F3BKBM9eCKwD8pE9XzqSQw, SS-fhzVj5nrfwAKm6iF-eA, 8FmYnLjV1aHXn2G1ejxQKA, zAefBXGlIab5hRAwRtgsvw, rGDUVTdzkWkVTKgoik9nlg, 4xLFSRqfUsaRdXr-N7td5w, TGl6Qqk1NUWo__YMqLAlgw, lSgRHaq1uGMMC9WGfnipMQ, IS9yw8P2uAPBX6FNLLX4KA, cnJe2sx3NjQ7bfXSAMt_dw, pofybHn6RDEoyhXP3jXj6g, sgOnmK4mN9dDM2Ph7MUApg, 6x3zxKZ9GAu1HGH3fDbYyA, f8W2Qv9QosVaP-dRQwLEyw, A3eAIFfkvfudRM9QeEaIJw, AE8nHSRPFlB4nh7CP8PlGQ, ep0zdhHhN_RdF8mAlQN8Zg, SB8-dJJTpvwxBrNS_i8ZEw, ucAN8VJoiA-_ysMCgZev1w, NZP5ZN3u_HuG19sDsx_pXw, 4ZfcCa4m5RWvO4EFzfYm1A, cZ7V8VPXi1HAnylgahCHOA, xsT4KZTu_KnOVavtuXn4RA, T34ctmve_WadnWB3k2gw_g, A3RNfsoCdjH3UmYGm3BMVQ, dbYku-4BVChojQRCDrjsgA, lKChkgGqVOgrhFXBwe7ZQA, dSqu2Ceicm1qkA9ENHtmNQ, HMpmiapmnLKpaipmLjgQEQ, m9DG0cfHJi6FCgukXIy15A, ynMgRHXEeskwa6nRdKWzDQ, 03FWBi8ackcSksjO1o2GSQ, opWrQDoY7xHa2ga8AcN0Hw, APG_9lB0XUPfnFtW8c2euA, z8wN6EQuw_JF-zTjcNgsLw, UKqhsKglClg9S--RjP_ohw, DuEHJugNqM_g6O5qLuvvUA, IDIdQVkh40kwVzfdOAujrQ, p2kTIZ5f-KnmlNzXOJwemA, xabsCbWbizYKbxpy6yeVPA, EuAXyJP6_UOeUBExsF0i1A, uKp-Vgwl2ETw5Pji-cK_iA, wWnIx1GMBPcvXMf-Vd8fJg, Z2qtyrFoar4ZyQqi6dQqag, exIZyA7e9dukrjPP_X8xEw, Pui1HPGa-LZC0s8e2M6CCw, LP59kBNEHmASJZWynra29g, f43zKjg92ylQECQUzVDiRg, sPtDugMu4NBroqCzNXHYlw, MU1OQTXKm-c_q9B12KE1dg, 8n-d77mwiPjSbb1TntHsGg, 0JJrchH24gp_6Mobc-pFgQ, Pg4BVgLJVpGEESdgDnKHbg, Q98kfoJ9CjQKxCitWAkuWg, wTcAXp4eV7OowBmc2uxzcg, evDmfYHbxqDAy8_27bAUNg, lqV6VgZlVL4bhC0tfsa5UQ, Aci0gmJAmSpj6WttEBJYIg, qojyEqPWiipM6Fqw0nb2Ug, u9B0auwZo6EOAsehoEi9kA, YsLO27XZBiEennSx9OV0Fg, Azkt7v-m9iBLjMZtCMxorg, EwBw6qVUfuTql453Rzvbyw, jHeXPU7_ppsoV-G34P3rig, DC3dWmmiExUeil94ns4TDg, jqIsXz-GX9wFKmJih2oNbQ, PjjxS9YFL8TwkyzEUH91-g, BzLUyHSJrl-lUVWw9rqlvQ, MpJyuTT1_x6Unx11DKl64w, trAgaopRYs3-yNpSdnAvTg, u_tsaDmAgGnmOUGdbA2tNg, H2X5Rijv-W7twO47UVy17w, oSN3M4_WKdlTsnpgqPDiBg, ocv3RMJZFScAMHmudpqWpQ, Ye5Cv-NXgLlAnhMi7KfW5w, HYQoxBC1y1DGPq6pGP09Tw, bNpy0uzbh7BT2Wnd5eReTw, Oc7qwKXeYklY6z_xqz9OOQ, VDnD3RKPGjIA66cAULW9iQ, rplzMW65JoaMhETvkAKacQ, H74c_2LheXJmtEJd2EV6WQ, B8CqppjOne8X4RSJ5KYOvQ, dkYfyv8iAI6D51oqYnnEQw, _nfEdnMB4Xr4bN2EinQ-8Q, 7UYkPrdGE2w2GCTaCZF95Q, xyarQVB0cZGUIUcJ8bgzpQ, 2dv7J4F9WDUu0fF2PH02ZQ, ftk886078mGVj8C7kVQZRg, 6oJUMkExhwgbsnlkV2lE3Q, pO0Ny_5_wuEzk0s6q9Q4iQ, Khh_zoydh8gcPT-rQtXFBg, 0PNsO8GXVuiGsOaAbpaMIA, nxWrhF_hyX0wwjrEkQX8uQ, rj38CCUaquE9AQQRAQPoxg, bIsW255vsUMdZYk_IV7Xhw, Ox0BcuSxuV4zzCCNGLO_Ow, MiDcQ-bgIg4B91reFV4Qaw, C_fXKv-HB3sjjk5GzBLjew, YwxbVUr_j8o_d6-ljRyWrg, MSCVDZf_2AygHxLg-bz8kQ, 4h3kxMDU4Yk_6qm2b8-9FQ, WDpvs6U_TCx4799oxXcnag, Dz1pqzh4ECXxQI6y3sg8bw, HwmATPNPrSiP1WR8SRiLuQ, ncvgNeEsAIAuMWYFN2blhg, xxB5F6TJ4J1MlNufCdqz2Q, lRLcKoE3J5p_JI0NgpIlRw, 4z9TxVKiI1itVivk0ArPIg, HbLdaNIJJQAvmBH0917BWQ, w9oW1PJoAjZfv85hxZbnEg, D0CNNFo5-ut11tMQ1__Rxw, CZz9iFuILPC9FDYVG_zunQ, 0gjhJz1pS47DfOmvL_9Ixw, 2WNF5PiFkBmMlKFcxiijZA, U39tz4YSeYNOJ_CMxVWZtQ, w3iWJP7Ct1NJYCPYF2UViQ, 4kJxIEgk432xnp_inBhyKA, 3uR1JrMD6P9ltOx9jLtgcQ, a4G3Ux_TXBU-BzT3NIzSqQ, pBnEvjCc5vL41Wqrm6XaXg, RX0GPUmx4wJ8zxP1Mq0tPA, uy04JGFYMkEjNCZ2gIBqWw, Wd4FRRD30avk-Mj6C_O2ow, Ry4Qxi__pgkvL2Dqdlolww, 1tSvkXMy2ZFjGHIvrecjZw, 5T_2RWFzvf-nMZYD0RsvWg, n8YKNoz1xJHJDe-_jxfbcQ, PhmMWBBQda24K9z6b9R-sA, D6NsLsG5WxswkObyuCVvfA, dbPN3e1Pizw-8DBUanXdvA, CMwSOrfL1m4Pel1XnCMJjg, w62s4HjFp_JW94c9dIfb4Q, eveKqHeXxhGFiHWNzfqbgA, FTfr7IJurqo_Ika3NoZ-Kw, 4G_dQCsTYK9pfDkOq37bVg, doqjzWCz8eXnDh4gDh3o8A, 8Z3kcbaTUvAWJw4o5_Sk4A, _IqyilgT5iUlTnjpi9FqQg, zNaH_4m0X4aitj-VHZ2pPA, SRcmpMtVnu8SZRFBh9uVwQ, sICr3-csqXQhFmMY6bki6g, I9m56qSmf-3ibj8oSTzxIQ, hAMWxSj22KVpXjRCeC45BQ, laPPf5dSZwvg4pA94HfknA, jb6T9k4GYjUXdLtiY8hiPw, ydIdyGQyO8eZe0yqgs0DfA, 8k9-TeLS5pcDRl6y2LQ8uQ, UrmRwOOOtLqqfchIdN9CEQ, gCfM5H9ynGqYVUCAXAgYpA, bxoXR5JnwDK0FcrF6NULtA, Z1CTP838UYySWLRUNjYWUg, 0f_0XfO2qcgNwSJAHwfR9g, ZDEZyPUDqxO9ww4Yf7pi0g, dkHCH6D3c4mHbpKMxzTB-g, 1pgT-Eeh-GIOlhOgHMMRZA, DOj9NanlJP3xntULCy5Uow, 8rohEvjPINC2am6C3XlZAA, NsfDi3M_XwkP_Tlmqvq1Gg, VlyHGaMz3gbbQz5hytCeGA, 568IHnuzEzb_Hk5TLNfxXQ, I0UYYufhMaIL52Eqvx1oLA, 0x9xu_b0Ct_6hG6jaxpztw, m3FleKsUG-1UNqJsJZid9A, uI5Rve_2YWFrhX2rowdkUg, VUhZCfChpTSiO8TkmSn18g, hkO94fU62gwwZvKFpoG1KA, KWlkb7nC1H6W873VZSy5gg, ET7J8uMkO8mD9ushpocnHA, 7KS1PJ3kYyuSCvCrLohUpw, jHgD2QJCU8WhFmgBZrEBeg, SZiiBWN8n8wWg0fYp8M_qQ, A8SUYD9goHqo4iIYefTbow, PfNhxnEqmJsgnB28ICCsLA, Puyo8RVtzXrQ2KPNcE7Qpg, WwSqawZkwBWXSxchxhjQ-w, 65FPzOitrWrRM9SVbyqOtw, Vi_qBZBXgkNbsO1qXXkoVw, 8drMKNHWavs2g6uf0pLtvg, 7-BFcAaR41aedsC_F3O_sw, _IMk6JtXdCe1lVBQKsLvgw, h6xFdFCWFMHkePgqNDsjqg, l_jBQiQQ41_mjl767nUseA, RS4AjuF4glgClCkdgD4nDA, 4loeD62selwnx3y6ab9Rsw, bZMwS8SzOL97Solrr2Gefw, sWDGavGeP9kMU5rOaNfeUA, hAfhJD9m6o4e73Sqmr27Pw, R6_jIc_78OpAjRwQ52IyrA, 9m0GXweSQJSsxuK93421lw, D5yJMAEvkAt74s0r6A_lWg, XXqspxyaoS9b5SZ1se5TDg, 0MolFeE6qem5HQAVh61GAg, JoQfAVNtWn_nAWQpx3btEQ, pTfYqd5MaTTIRHyoUZbu1Q, fNcNkqhRH1F15F6zK-SE0Q, 3Av38uh8aHDvZMV_1eojQA, 7bPWz3DZfpMlAmlpNd_ijw, HXrbjKuqQS2I1RVGf5XTIg, e5WByNv2tXHJtyW0GZcyaw, bOsE3oqfD0TSiiJSUXF02A, 0WdEhGM8b2kSmgjCDe4quA, tF0gB-4gcc51r5yZNHIqag, uBr83F_RITHSnnqqg83SGg, B1m44jSEkCCyH6Hnyt4f1A, wvqJuQD0V6ShBAeZEq8W7Q, m2Mg99PhKztYgYufaewbng, 3hNcKDtKbdzJUwekOQeD9w, 41M9YRLuJverE7Ta0seUZA, LiNr0wVEsP2yDiR885VBow, 4Ls-orAsLec4pBeI18wQUQ, HwZb3zFhnRD50pa6wM9M0g, -K_Y8NLXDDMKlYMWR4-L-A, Woj9ipxPzg1D8IMSm-eO4A, chhv5egoLSXHs4my1HCJeg, 4UwWb_WBziRCjzZli04x6g, cz4H3lKrT9KbT7tibGPuSw, Bfzuxs28-J7zQjKTvzXEXw, 0r5ziLTmKo7YbGxDAL6XcQ, mzUhvr5Do7UhoiN1a_8whw, JN9u_i6GUzp6SbafK8XI-Q, ufb1C8Oqczl4vzoxMwYnIA, iue7_9Cn_iXVD9hFOz64WQ, qenJq3UlW-J_gFSsMcYZpw, bFun_ZTupj_-VJTzT8jw_A, ee5oo-RBWCNOLqH3nQuzTg, 6d3tbNGe4_3VyDf1BHyeWQ, 1xA4Kg5GX3LgO2ASusQV8g, CPUo5VLVWNSNASEVMjJhDw, GUaSi-yG5P8Ij0yPGrlcjw, NQneSryqcYatcqH-BpODnw, E7k91Jb9z0UPTLndK6zx8g, 6V2p2mCSHti-rvMz-mr2IA, HhH75qUFQ0Gyk_oYNPIWIg, JPAG48FosEyouWSY_HrnXQ, rLjOqL-lv2Ax36PjcVX-Rw, RX3fOZAPN2GN2KcS90rZwA, 3NnPbhmv_vEfPTBp2pnn9Q, xwpsCOJOq224wmb2KV-Qig, KtMBaPrHLPwbvzPnlUHT_g, BSe90X2blwtHeuGNIrnnQQ, PpaOqi9pj1PKEsn95nkibw, Q8HEI1l4PMDZ-VV-Z-PFjQ, THU0eXkboAWId-ZlWCMl2g, DH0U5bti1DSIFFEE_Rni3g, wYlael7ejt4I3vjaXmpGnA, qnF-Fo5VDP5Tp2PxFsBNkQ, 5ImJ4oNILl5uwUMG81NS_w, EJA8fd15jggOMkQRcWbpHw, jgDkUAJXUvTFxfBlipDGGg, Yn8sPay1Xgy-aX_yuTcdyA, AuScWRM8HfReG0gG0nP3GQ, y5zqSJE-rFihsKmUZRbbRg, 6LwJ_G0CfV9hwboM_R1xRw, R_xjmz2nZgyOkqFKPmkjnA, tCqLhaJmsrucFfk5w-fLnw, bhPeedW1kn2hi10UdEu9xw, AVRA4twLTQ0g17ikxWcs6w, bNjAsdsi3gjSzK30r-j-ng, 8khsnn53Pbsud57bJypNgA, TdCeQnHVjA2FgwBnA9lx_g, N8KY5W3UXAZrAGMYO2IDFw']),\n",
       " ('UYACF30806j2mfbB5vdmJA',\n",
       "  ['YwaKGmRNnSa3R3N4Hf9jLw, v9YpDzYkJarRbzvVIY-63g, RtAlyHZrqu1FNvNyKnhkAA, nw6uu4vqUor5FPnh3rcWIg, vENR70IrUsDNTDebbuxyQA, qak6DrwR37EBa7OeT3RZeA, eFo8VL97-4hpruIlGrGR0A, u-wyrq0MGgcoz3QzGBhd8w, TfG7QdAKhRkcTV7zzRfYIQ, rOo0t8cvGkn0SI9SojaFcQ, zboWPUp0vHJwE13C5cy0Sg, c9juf0u4TKvdgKjG7pZcEQ, B8IjaZZRjZUxTUf71N04rw, yxEuejFvm-EccGAKNaH9-A, myql3o3x22_ygECb8gVo7A, 6HWaWcjCveUMEjtgrDBw2Q, 5sDNTzwt_eXdSNF7RNz0IQ, dLkOEK2tAe8B-LNV6x_HoA, X38-VcqPImjX3e0oRSKKkw, gFWmjc5UED8YaXFhZAm3qw, HZ3Cj3ne6YT54CwlLjIqtQ, -gQm-IoK2_BMEMx9OgtQnw, cOeAgvd89HE4DpTjYJYjCw, 4M25m7sE45Q_hNOch4b8fA, UpLvK1Bw5cvwWTZlSGqOhw, wYs4Jv4gP_2Hi6tgoIivEw, MjA21jK_XRHJvMjtvvnxow, 013oZ9i6NUQ_Rh6139QjsA, G4GGq1seb7j61awp8TBJKg, FXfnEG86a6jRAVseLG9now, _0X4rXtG3Kr2jEQhkHPEdQ, g3a-Ve7NU5pb0kdTcSP1fg, Vrk8LqIz3qS__-Zi1TQJcw, kECDGHJuocmloSDqQEtROw, qK8bMIc9nvg-FxzUOBE2rQ, Pwbf4tkrVUbuw2X2Cn5UKA, DEH2FRyh7cKwv2xFHM6AtQ, vm-HJHZZCKvz8XP0UkFTng, TwhQ6TYOfnix0t2X7VZyVw, CzDL0p5WUBjiUTEXmhDAvQ, Vi34Ohnn426oACHOkGECGA, sjzpz7oCW0t7m7sI_3hHeg, -NIopdD4X-FX7V0ucTg2Vg, E0QcmZTpjkUcqGJID0_KEg, QW-Uz3uwsC0vvBjGBtmFsA, -KhU5kfr1r0b0s7Vaj55jA, qewG3X2O4X6JKskxyyqFwQ, lsZlV02ZdqEzR-qILdT7Cw, stTzNRYXn4BLRwbUH7Qtkw, GJSN7MjCCQCRjyjWp2SWTw, cyckMdtsRuYnC4bnGvW1IQ, MahtB8bQOLUVokLtdQo8CA, 4vDqBps97whoXa1ZT13dpA, 3JBAmEZX_pceOiPI17nJ_g, oMfus8fy8lEnpTITF2J2Jw, P7ZGnVOdm7LDtUFb1PQp9g, wTlr-S5gPaUEusDxWJFp1Q, bEVFXdlFYzZzXsYY1DmXQg, GTbF3tO_AC-r9VJDhq8vCA, 0jh6FM1kd6ecYs1ESjFZKA, 4a6PvQf-F9RhURXUCTieRw, tuoe8AK91V2aQEmVI0xpwQ, wYTKE9ad0qWMgYPgNCnoQA, GPi0gMnEhiYWZrQwWRBVlA, SguLsyrszNbrg3t0djKnZw, NCvwFANdkO7WLbIX8_vVqg, YiHv7K1K6fRbfhYjkCzv-Q, Q3ooVTEixg9YUk_FbJL56A, yj9G1d7jvprVxWR83QY99Q, -fzk0slIjoFQD1eWjx1uWw, M0YSrg8UBLjInttDCIzcow, PspDTd6CrF1aUtdC_k73-w, wa8CJfgOVjOQ_ZJAPz8GtA, efoa3ojR0ejb05mkg6m9ZQ, bXEVwQSxtU7J_-ZQHlJA1w, Wt54Db0e-Zi7E98q49n9mg, 7sYWU6bsW0nyJ0MS5MTMGA, jrBhGWbl2svmD9gVHhGe7w, hV1DuyLT67hwgDyLZ0Xl6g, D_04s5PteVzGm3U_2F6fMw, 8S65oR6l96eex__P3Y2HGA, vdxAcV6NRLV8fSbz7t9pHQ, nHAxfzANOtaSz5CoYRPFTw, BJ9TjaXWs5xOWQrzsdbLYg, X-_KxI1FfMe-G2aQx-zzEw']),\n",
       " ('f6YuZP6iennHFVlnFJOXLQ',\n",
       "  ['FnTvI5HtztNRhrNGp2GKsQ, LaAPGLcUPM35FuVyBLRQ1g, wABVpbdyKgTclnu_R4KALQ, o5Q1gYEU9wK9d52uqnJBqQ, wxZoGizQlqkd2Eg8r5M_uQ, 0V44Yx8pIOt_acaWixmW2Q, 8T1f500CGZMaWsrjLClbUw, mCJ47DgR8NbFSaKAvraejQ, gbk_FDUeZK1ZaPGuWOg_Iw, 6MM9Yqn7UBM8tmpSHQHAAg, 0M8nPQCmxufKNY7MlphLbg, yqRMd3P1NCSE8j9rYJJYMg, Eu2jChbwTpokPRq-rwNWHQ, jFJR_0J1p8d1QHbxF0fjew, ylT3yucPqLuCiaOhN1o4-Q, eBT2Udt3BAL6Z6jqkpkSAw, 25EZM18ntCfTEGSBdDAAAg, Oc9f9O3jVS4mYxyWUrRPlQ, RRBfHWW6THUkzWZFZy4_cA, skgCzzb5mrjgpM4WO3M5kQ, Wc5L6iuvSNF5WGBlqIO8nw, FMqasiSODeBp2jIoApZz5A, qi6_jTMHYLeSnm_qokg1dA, 7-BhdC2fEv7cJC9-_jUuuw, r47qibSN1oMBzZiV2fjRYA, OICX2kPmYX9NYh7G89Bmsw, uzuZC4o95OA2Ay07NnrV8g']),\n",
       " ('I_6wY8_RsewziNnKhGZg4g',\n",
       "  ['OGa2q6LvuQLYFUG_RCcALw, 0uM2R-uMBemiNlrFG5j56A, 8gYDk0qh586uzePzzU763g, om5ZiponkpRqUNa3pVPiRg, 5MCBLBxr10NLUKZ4AboAMg, sDLs5dcqFdIcajAeco4qzw, oGlx3d0sCBWfqV1qFoNxIw, ura1UHtfw997ceaoI88hOQ, qxiR0Y5DoUevdUBhYoPX6w, H32QTRV87Q6CGTVUm1Z4QA, GNOX8PWWmaeKO1_3UlTygg, LmSTOXf2nldK9KDZ7tPiZA, CjqaK89fVRuQsUBS13Msag, 4bdffuUiz7XRYcqbDO11fQ, b2Ct9t-cRDfquuHSGCJHYQ, 7pi5q0cT60nBNwlHV0wLKQ, LZwRtRSIR7Jv6LdBfqQyfA, UsXqCXRZwSCSw0AT7y1uBg, nkN_do3fJ9xekchVC-v68A, OzdqM7BbvL27AnrTZ27g-w, thi-jmMx-himXfCw_EuDSw, pFBeUN4O6mgChLfYI9oIPQ, HgPx2ktVfFvdkGhAFaQQ_Q, HfUK21HFoFy1x5lLqNen-g, kCVPl2RumlSgSDx9PMfXDA, ZhBppt_sn8CNJ76PbZeMyw, bmtNNp1vzcLZ-TyVudQFIw, DzglYnezufQMqrwsppQgvw, qewG3X2O4X6JKskxyyqFwQ, yQIEobCnsPgwAwVF5JalIQ, zZ7Jv1LONquJKkWT4VaSAw, MGPQVLsODMm9ZtYQW-g_OA, 6PDZZVsXb6Eigxnam_s0wg, aAanjtk0T303f9OR3N6jUQ, xTSaCzz-ar63UxkvkMuKIg, UuIr2WKA0gZRyRvWIlAduQ, kOCVkIY5hhCb0rLQca7zAQ, PTdPYwJ4MCR2QFWm34Mxnw, 02UPjSGAD1SKkSsVND0FOA, ZYZNcugF3xUEGyLOVGiZ0Q, 3yVoLX19pKAIPKFDjR3pqw, VbkGTm9AZyucWF2Yd2Jpng, 5GP4shn3W-cmCQpxN6CElA, ysVDDjHnjHhaamhHzA0pKg, oZK2DjCiA-8Xq6utMi4AYA, xa5ZusEM-o3oFsBms1F3RA, FMYREoJ5dhK-hiP19rDd2A, FSw_xXw_xfwfti2owzusrA, j15b0iIothmQpH7RWSBzFg, DsKm53QrsVk5GZ9QgYQmyQ, RO3vznPVVw5NWcgfP3k17A, SlmtW5_j_C5Yac6wPMxOnw, gH3JDpHQfVcMEGaAaCJPjA, rxKExTR7-oCAlQNABDrtUw, NrEajJmuxIWboI4nDEh0uQ, c_1j2RMp_2jnWOEjlP9twQ, To0GTLW5MGZwOg5TxxZIQA, ehIpQo8mQHxhNIq7WAwKFw, tAHMuChEo1Fs6qaRJ7pPng, Md_8xUc4MF8VA56zm5FK_Q, E375UvHAlhFcNt50wmfAzg, 6lWQLz4SA9nwz58NzAE_ng, gbjV9zjtvg2Ae5GeI5Ijbw, dIIKEfOgo0KqUfGQvGikPg, hfAeE0-WPvQAksJey29Y9Q, SaHQtjBdJtbjQBdq80cRMg, FDQpUh4pC3PAP9rfRuaXmQ, ZFk7gWowvL5XFcGZRvZUDw, zmyUS3lUlVY-_eUf6dHSZw, ZxCXhyVB7V4eXBqRSQYhDQ, Lfv4hefW1VbvaC2gatTFWA, XNSyl47aXuPsvC5zXm5uhw, LRwRkjfxv8EWynwGL9NROA, 5x6x5Gwsr2QAh-nkujDMrg, Cvvu2V_FO3FjxIHpartSMg, tlBAeXcW6KAS5foV0FOTCw, WJEKL8rKLH54E3RgRnnlhQ, OgYi5x02MBukfxPNFe1ePg, H8YDEtV2j8AGPLAQxrxTdg, BUB_t_Rvzs1yPEzZipkWjw, 44HONjiGTj7DgH94u-j-3g, sZ3mumX9WjJqp6qrjPPUBQ, KfsS3nxwuAYeTWgVPLm12Q, RwWnkX1__4wQJyq6Uwl5kw, m3qH3d97shbvSCtmUrpDFA, B7AjB8W2BWJtXPjweJs9pw, wnrnYHov0saZaABuVe1vyg, aXizMGtsUPmaM8EkyILlog, YSfAlm6XNaym-JOrRjv3Tg, x7GK6tZABEZ7YKPLDV0WeA, 0G-QF457q_0Z_jKqh6xWiA, nHxQfB9CRettoPKJmkDx_A, TwPlaNvnziaN2wB3lk_9Mw, NNl2r7ppPk6t6TQki_7E_g, AHRrG3T1gJpHvtpZ-K0G_g, HpQ6AMW-v2iDFPOE6fkm0Q, ICwMfseYkrB0ZEK8tDUOHw, BFLXmLtb1VT8JaSFk_kb1A, VR5md9M9j-3VzcBc6sJ36g, w7ie2xwRGcijbcwl_u7SCw, SHxSFnDNOu1M-Bg0yhPZcA, UtjN8sLR7ht_A8bnHLKVtw, WItmi0by6gmtA7mJHbCBPQ, 722_fCJ6HiUcidSi2nGkZA, jmhAZXgDDeuPMyxrnBA77g, BwH09AdfMsuH6HxiXwEg5g, 5dcgVwy_SgPJCC6qfuiJew, 92bwt0QmXGFndUjO6Hs5Kg, Z6W09yz3d_FU1VQubdd43w, -0-DbdhS2CIoq7cfuSzQ2w, fZmtRfXZnIFyxaDJxEPKYg, lWRqTcBUcy39RWGmILPurA, IeCTX3TSQooqJrRsj5-NNg, J9c0XM-wV_KQmtZYxvIFFQ, zyEWeoMiTduGGaGU0i7jTw, yLW8OrR8Ns4X1oXJmkKYgg, Cqw4fJYJwkufdQSmLXEnug, Otl9zGyGozPQmYt3QC6GZA, aYAfJgD_RqCqKcASPG6M9Q, QAiPpdYKvN5r9t0nPq_ETg, rXvsM4vsvrhmLKXu10HRbQ, SultsYEZAa3b7H32VpptpA, 35QNLI_bu9S-kNAwX4a8yw, vDCCEp_bOJ6kcyxZOfkedQ, WGY8Wug1J4jL1QKmTa7kLQ, aQkCQ1m2Ugo1v2TKdL952A, BNfc4zSmf5Y7WlntqpvK-A, zHvS1F_6wOPSLUk6vpDEGA, ox8j0BRwYVVjNxFPosoJ3Q, xBO_ClBsdYKYLwWxLJSQDQ, brusNHUP0EQ0zsaGmHudfw, rr6MSytEzTwMYtkYRwDrlw, kA7sIBVKgWXVwWbpXsUHQg, OMzQAdzm9cJusfLvJi-htg, SoQTWrwKcRPi4yDH23qo8w, R5R9HVs4N3TOoXPZD6IzUA, IJytHzH09jStflMTv_UMpA, 3wDRFdjpeq36Es97Zj2iVw, 74RcThaOb_qaLZekG23hZA, 7M5bKXDcTjbPl90K3SUGdA, T8fWS6LVOFE4g0CdCxczZw, wrZ0Y1cFIkEQwut093rN2Q, 4Qzu3MooyeO_vB-tNiQ1RQ, cP8p6pdBJK0cdhAAxVKN9Q, 8DDgJuKgsPySrqn-dAf_xQ, GIq6IJ4VMR2D-VNeoumqjw, RltxaRS89a5jtGW2KniNKQ, EPin5aI2A-cEiLRm8GI4_A, UwV6jBuTR1S9acT6bPTBPw, xcHbdehh049rEehuds0I7w, o2iirO07Fml8NpmwD0NIDg, yWA8xYalMdCkCpf9CCtCWw, pnvboTWNGI3rh9cDVMMYZA, X5gGjglI25f8kGASfxfFQw, dGND9DDQe5L6Lli2TolF1A, _kjNNKOcqDFKZJjFvDIA-A, nXPMJRY9Mhzq8yY4sRzsfQ, mOj5PCfYVdD7xyg6rjoC2Q, m6OZG66JPXVIZRkqm6reDg, Z88N6qly3Dp5C06XbZ9IMQ, kSHq2KXVinaAnGzdRUF_jg, jAG7lP7yMYx5U2jD1VxLVg, cA64mID-MyZXgp0SiExD8w, HlrpEmrZBAGvefqTnBdQHA, qQOCfYSK69g5WHAXHWSOoQ, p9GsapAOFZN6gudxQEhUBw, eActOACqipoT9tt0TJrQhg, kxA0vTDi1KABuA5Tgg1HKA, 7w9P9uiq2fjwxNvcpn81gw, 17zSC-r0ckwRnRNEcuNNjA, zAOSb0UladctfhSbrrOxHw, kjIKK-xuZ-l20amlPLf_iw, okZhb0_kR7TNjkFuDFMyRw, 5_H4bn-xNf2qHBx4ZmVCZA, zKY6NM9CxxWxcY5JJXUB7g, Tc3tdt7gQ2Ckg9LxKlUGZw, kUCwlYPk-9aQsD531CQWUQ, j7m8LlSBWI7K0pMvVUX59Q, 0G-bcpdR48tfZy6koGUiTQ, 7PtUMFXJKOqGxblr_jCgxw, _inRKZBeHkwfgI1nkssHDQ, GB1wNOUbzMkI4kwoh2DtAQ, GEkww4CD1di7LZkNvoayJw, y9qahnfaCjYLRsn6P-FGVg, 7JpPvfDAE_14vA1xgFOFjw, qrn9HPQ9Au2nE5E9dGkzKg, IU86PZPgTDCFwJEuAg2j7g, FjV8-FhCkNFv4XwlaOUPgQ, mm4qD-yj943XjHqywaaY1A, QnIrewrXxFnssw_gG1gF-Q, uPifAul4hJIqy72ah1GKSA, C_aCzdTcV6g57UbfvbflSg, w_RNfd0fTGSbhamIym88Ew, 2PfNH0lr-Kv6wrU-Nu7nuA, dYEHTYJeDJ4v8AUiExaVsw, XBomRKII_TfQbKkL8QH9rQ, LbeHQ0frxP6sJew2fKZ8fw, ajCBUlkRk7sdNqwIgvPh3Q, p-tPvAMlmmZQxMyahKDSJQ, 0Kz8_kEnQcnztdGrovnWFw, eGo1URU1t6eKwKM4v_IxyQ, lgQGVwMo0XKxihP7fZDMlg, d6wDZX7kTu17tF0KOxJfXQ, 0asik0bcjZV19XbKLVY8ag, Pn7isO6sB4-J8PYWfxbiRg, 4Zkv2tsS0hZbm5N-O_6k2w, hpQoR5IiN0s3RgtexLEIIg, lknrA5w_Mem6e4_6kRizBQ, 9SuIxD8KvPY-2jIBpZ6-ag, hizGc5W1tBHPghM5YKCAtg']),\n",
       " ('q-v8elVPvKz0KvK69QSj1Q',\n",
       "  ['rt1KveqwFMnkN6dXKg5Qyg, NfnKx3z7zFottS3yHabw1g, H0jfY5R0W__smHIwYZ0niQ, B7ecAeAIrXg7sgmabS38pg, Y1q1tQV-MRmNmXg59PPVuA, 6QfkjPi0E2DP8n37CgJHnA, 5ND4p0rvTvjWilQG6Z8LiA, TKSoV9RFqhaUhZRg9UZtgg, A_Ftwpx-PXgo8y_WkCyJ9Q, JxbOYBzGdRhI1Ip9-chmkg, 04tkmJ-qZ9waV0t5n4_6sg, 2oiPE2rww3Ofw09aishi2A, JpBtLSlYXdrts7VGPVYflw, 4qzuqkYUrXWlcBImGp5oRQ, ISF8J60dilGeHKcLPlev4w, jVYzrVblDFSuL3GHtt8ZSA, pWVy4iCapVG-3DDb6celgA, aN3bpfDLsMjQloJ_4-P13Q, 2woU927sw2EM9HFFnuZM8g, Wx7cbLDqYEL3_aVZwh82Ww, -lLuGyseNbCXzhfYvOFJJA, y4k-G_W69QRMgbfrVqEBXg, CDsG_HB8ZghDmR91sDYguw, vUbBLitXfn7aeaRCOoKjdg, NC6tvKSt2mL8w8VN7S_EmQ, A3eAIFfkvfudRM9QeEaIJw, cGa4vDjLuXMZSUaWvnmlqA, TAE4Pf9T52wYMUfjis92ew, 1h1DD2hgfgud7V4NCE9mVg, nHoV323Fh7ZHSgXuNbDxkw, 28jl4Zl98ddSHxvue_KBcA, e0wirbsHLo8g-Ls1epPdiA, WyVh94BghK3ojOc9gKYccg, BbNhbZbPAPOIhsth4DdWWA, wI-g2UsyogOv2LtpJ4ek5Q, oORWfRFf8wnyo6gkghViJA, BidqjIJxDsJQ88AAJUSGmg, -ZzhWTKwcD_3TTLkZeRqXA, 6H4GQG0x5IX2v-nWvrT3tg, sKEFXFpooEsMl7wsye9dcQ, gT44uobf1CKKgxg5zLlHyw, VgHN3jAmsHgGbH85XRbntA, wJcCy8b1UJ5C0XSTtlm2Mg, _epX-5txP44x7i8zknEoiQ, XQXs9Wfd1_L7uVDIjBaJdg, P_zJ0bvns-RgGdCC2sNi2Q, 2sR35GQ-jC0CCAYXt2Godw, 5OIKkKF5fPniTSdJv78RWw, CYTJ_RxbtSI7LLKZ95enbg, nDyEOdSPkDboIcyBEYgHkA, CksR_s4mNuULDY0gwbRBaQ, S10Q9h_W-MKyog8IdcCNCQ, aelVPHWFKyfc_OjAzV21lA, E3dfnSs-DAQCw4Qf7J6zGg, RtGqdDBvvBCjcu5dUqwfzA, pK5BlSii9KS5_ovOkIPRpQ, r1hav1pF2_m1GfJVagQ9Xw, jVyR4PSFQDAmXpzDZmnBlg, HlF7XHaTXANjLbhTjDHssA, IxB8uybfnHxuALjnArSCtg, JOY8jc3hYxAx6vHjG0pQMQ, RojeuWOU_dAuHKMbNK4Kow, Bf8yk0xZhgh8ehWFqq9P6g, eSlOI3GhroEtcbaD_nFXJQ, seXTwb8kz5HRIKny2wdugw, blDEPiHngPNj-qYUYrZVww, TKwN4rNuu7SJsuA9WbURag, dTYO6-81GrNZbILGxNKI6A, jdhGeJvOLjRDsWKcIHIRVw, vPXuKul3kI4t4G4QgQ9_HQ, fQq-PBKARvUGfBnmch9Dqg, X4D391TEtq3ZrwkIoLsmFQ, GD-xwehQD3gTOvGmUk4RJg, fP0CUfc3SD5c_Y1lZu1VVw, 7JyF4a2Ulwypb33PFmYmuA, o2wOHahV_ZSWi7X-aA5VOw, QSA05SquUKJZnxasypxvjg, AyYKTOCL5qM8589oBsqbfA, gKeixh1jzbuhn_UL92KG8w, m88QjTDg-dYK6Xox6L-s1A, IdvKBHQQwUT2FpiZdtWX4A, p-Hrq3oTk-IJKf2vFHXpaA, c7FbfIkKsP_b-lQxRxv5YA, 4a47VWO-p7Xwk2Is60RGwQ, n8YKNoz1xJHJDe-_jxfbcQ, PjVUJl7XQfJXgwVQxWeCpQ, gBBaQ6_LGbFRguPcZFMDOQ, QzAmLGM7sD7rHBJg8ALkmg, pxSp4EiPpXA9r-FAtQ9HQw, eW97I1zicAT7Qv6j_Ad1wg, TknUHJrrsbPtJO9TWpgxIg, 3Gyy-Qtw6VsmDozjmu3IFA, 8n-d77mwiPjSbb1TntHsGg, ocVGNHZQKOGmaTEBZ1ITpw, OrV3OWnpYlSVXBf0QG-xhQ, Ed6XAdbOAx9Y_G-SMAGs_w, _nc-w6yOVYdmLsI57wRACw, XqK4uNkfhE2KbMBRghrZOQ, augJQotyLB503iq1gVJ_tg, vgaA8bqGtd2uYj3KuWC9yw, AZsFdmWhUq27BHGjKeNUMw, R0Lcd299zaGgAi_tpqmB2A, H2X5Rijv-W7twO47UVy17w, SYCCiFg7ltXnAXJMg1p-1A, dBSNeTDOoLKqq9yyvIKKNw, Pf7FI0OukC_CEcCz0ZxoUw, ywZyz1-jXkqZzAU-WJT8NA, ZUQzjdRrvVpBrSzVnCncJg, b0ekv3dDprfcXFWOHuNlvA, BeHXYL02odHKh7moZUbFrA, vI4Q1v-7dAgDFKtdtQiYLw, JH7UxS7w2fI6pNxup2y73Q, U39tz4YSeYNOJ_CMxVWZtQ, qF0zZHtqaMbFF3UePDCaHg, hTamvAysSLziudbhmUsH8A, NaYxTWiqXWi8ZwBtU7eO0g, RFIkhJBSfQRnY97vDnHnSQ, yfy3v_n7BWiGs6pTf58i6A, Xwnf20FKuikiHcSpcEbpKQ, DVrTzBruMKob_ktFtFY87g, 5im4B9HQjhKpxNto52yFvA, iY5KM7Wj2l4Kxrxak79ZwA, R2SXizMkOvk0KTRYFpVIDg, VCh1c-0ANnMN4nEj_dzWTg, paNtPIcJtA_7TqwC8q27-g, XE1qcdeK_nUHD6AkG9RYtA, qDei0gdB6KConMGnjGSfJg, hCwePxOlnC7vlkrZQRh05Q, xKlEu0Bz8yZUjDdRwJs89A, T2OjnWfeaZakeQlpqlxSQQ, rL1rSdS08VW1SURkgzD_ig, qvKzIPjqMHM8nANywRgMPg, un1p18Y-WzRnbYmTWIhLsA, ynMgRHXEeskwa6nRdKWzDQ, TOkW-RuqftALEh8E99UazQ, zmp5oQbN9V-gAWThHOLfMg, Omh03lUYA2ak32RdQv87Jg, WdRABBlRA-MCiO8C-0lKog, LD09FlM3nR6FbqYQOn68XQ, AmnSI2kXiyed5OPVVoqrjA, 3KDsQUkFa5_2XCXu9I3JCw, xbfFwxIVFLSKAgDZ-JIIuQ, FSSbzKoCcqnCvJv1QG8X6w, dnNXTy0eh1M4UmZo-_zNxA, qak6DrwR37EBa7OeT3RZeA, v8LsrRdGGniNzXtw5-Z92Q, TV5KY6-zSqyXnDKx2juIeA, ZIyBx1PgMLP79PWc1ibNmQ, p-8oWXtsAtPXSpW6VS8CNg, 6jxF47TF349WLQCK-oNZtw, lRsM3yr_CnF_HV42AuMZLw, Icw_1UFR1oE5UweAnnzqbw, Z09ch-7xv-S0VoXnvp-mkw, e_l0SsOgPXu3wvqvz2D2Kg, mAy1_88KpZ3Xk-Zm4TChCA, B393RKS1yuQdkiynXKa1iQ, YJROSH6sKgYaQEFyoreF6w, 2WpbLyxX36oyQVwrpIuxPg, UsXqCXRZwSCSw0AT7y1uBg, vhdw-eYQ-1ti5JBSGWoBEA, b_HEbQsDMAyv_vbalxuXTQ, 4n0eMAeCSvWRl6an5Z8OGg, JZHUtop1IOfJSdlSR8IF_Q, WG3w_73scm_JUWJ_3Lgn0Q, MsFzmAB-i4xYeawXnGR7rg, LUNa9bXZ7G4lXs9PySc_Sg, _Z8JVZm-ywG38haIKxMmDA, buS2OdS5fQT_UrXy0kswdw, 4RKq0POQ5jpToRkiiUvJLg, PpJlIMHeM7L6rhdvFFYYEg, MSHLx8DN5TyBGnGskmasKA, aFHU-JsptZSXaXKW1VlLfw, Lmao9-TJYor1KxYuX4AwHA, gAte0ZKM_uJwfdQHBrE3Sg, mGvVBHcG0YEi8epcDBJHXQ, 8Y8QGKe-Qz7crRXW_vT65g, 0XaQ6vvgy5pi5XAaz12mOg, 7advvmeJ90VHHozURvTDtg, AA0feDS2Z7UkOR1JKdVEPA, a_amzPmwoXWtL4eKhGa7-g, sgYjUinyeirKQ5aXWKjidQ, Vc-w8-7QIrrN07oveskT3g, 0o8HUzggoNKay9-ZMj3HqQ, 3wB-JjsUjkvdNUDRnChsVg, sJ9uysr78dSAz7VVpMdhIg, -Vrb0dmE3AxJuJ0dyVY4NA, PV0VEhlmhc2BjzMZEbpWlg, w96DMHYXiRtkftMj7Y0Z1w, nT45X7F7-wOLgyMTm5mA1w, -e2RPXS-436wEKMSxxMDag, 2bHSZhM0huV8LRh3YHaOSQ, jUtaYycgNE1XCdUO2RS6ug, TgW-w80-ketnwdUsjsAaNw, J-eH1fKKmDlSZYHWnoMkvQ, DTOErzkuQn7tN5o55B9ZNg, N4TxtzExVKNL68G0Ub93qA, BTu8xCCFc83VcslAf8if2Q, 0pHZKWkHsIhNtQAaOpafEg, CcRfRjqvHkMTWK7aU4bnPw, 2KnoduMAam0OkBERfv6Uvg, loiTFg3_APTGtJ6VsiiIcw, Xs8zIbrA39arHgSzlhaWRQ, rKM7YsPYAGtpOYzd0Wa4aQ, qGX30M2p4n5XnDtV3unTQg, 3F5ldEGLbR3BYJrPJNNfkA, CnNc5qcRH1Z4wI7yki2RPw, x2GpOshwwydimGikLAGF3g, HH8qS3R-rBRpnMhfGNFmpA, LOerghtJQMoq48MDCRjNig, jrMxBHW3SlUGVGYWvPsHWA, 8Rghj35OuBNI49RIgAvRqA, Do0Swutt1Af8PKUxJnyv7g, j5yfS1QjGwNLQ0h4_wDyxg, LiwBM-SE1vpwVjX7fVR92Q, RurNXc3bkmrwsky_aQNivg, Ocz_Adp2JGTakaUq2m04fg, FzAZ4Nd5ZSsJx6M321eqYg, wHe-OqXMvs6yQDUtKuFbuw, kV55np4sGJrQJB0n_cFEMw, Nu2kOyS4ircX7rajM9msgQ, J0zyjICS-Z5n62cT9QyK1w, vc9F-BWLxooluLzV2jAeMA, p9wUjnik7B9SANjDni_Cgw, AQADGj5FEHggCzgTLDPcNw, cxMb4rbPoqvnN0C0xIfiIQ, U7NLhaVfOJrHb9XLsZbJnQ, G3h8pIclwUbuu3itJqF7ug, qcClEpPb6iW1xvNHrDvL4g, F4OmF3ZOMNoJCpd4frLluA, iVm0UjuFeelUAxJtun-k2w, u-3VusvtH5FLlaZQUnAnJw, muFw9usmr2nCfp7Yz8x92g, XPyGdwAkcuDfuo5UAhLdbA, jojeMY2FBXZIYTGp7Y2L6A, TGSUM7qI4-VAsphVBaTufA, c6xaDR8wMXF7FMax3FxUiA, 8R4224hVh0NP6mY73dVAPA, wxITDGm7hmBiK7XPfLRugw, 2HrccHVXvZYPXRUXHYdOew, cufhYFdyrUAt4SWe-m0grQ, Oi1qbcz2m2SnwUeztGYcnQ, BgZwJBhVWKq1Urs4rKBdiA, V7qab4QxayXPu5snK_597Q, FpB44ccQnPntnZQmWTTKDA, gxJtfB1BNg1IZghMHgXQ6Q, FoZ6QIJGbd-2DZ12f34FtQ, t8DXjEXBr9_2Rn5SUPKzdw, FOvWgXp5L23vcx3RNl823A, 6UbNiZZwFyXCrmbq3gzQvQ, yr0L5WlIKrf1v2tc7IgrOg, yG6WtyaSv9dDnPZGKIBF0Q, 8Ae5cP3FzMERCc5pnifcxQ, mmRVIJYTNEhCDStGgirS2Q, UluVffFpjwHkwGpmxIRVNA, HuBgs7uHyUz7DzcaScZqjg, kRLjlNHCrdvDPA2FyHsnxw, LZwRtRSIR7Jv6LdBfqQyfA, p28aLODcqUTz7tlko3e9iw, _Oh_YYX6_HVhSRnCdeQGAw, pLS_vVRy_tuBnqy5UvrM5A, wO8ETDZS_ip9KA68Z6keHg, pMLCWPNK3Vln8L86yD0Gyg, vsRYTy8eT6YY_0NgWdA_dA, YwbzhZXbXjiBnE8aISusFw, pIaxgE57Txg3kMCxYpQX7w, R5hlviLotv1qxiEkQUPlTA, ZwHE01vJN7Zod17adEw8Kw, _h8yLxCCHnTTZ1ss_8t2Cw, 1nzuQk2bo89rg44wOs6iwA, bxjZ3RQmBYlzhNNSfTmZlw, HOwHGGm_E_DZXW0hoCevNA, ahh93S9jJIBiy5M1PVC1VQ, wz7SG4m2rBGHZgwwlxMODA, qolJVR7HE5vbvzQppINCCQ, ZyR2sW8VLD6DOxw1WGGQUg, agbynAfW-VQnrfEHLtwHsg, qCUF1Bw46qebwlvTlqHXww, 3cbEkaaC13_IPo2iKUYcgA, vmf5vayKMwPWAee9xpcHQw, RqqYDlCAUh-cWPpMQigyhg, dE9YaRaUtkDm-xJrW3BSPg, 5MCBLBxr10NLUKZ4AboAMg, nXhEQbAuaNugXpLj9pBBnA, DH1RJp2dUrq2U94-70HELw, K4s1syxZCtryRxi8MqYO9g, MRpJZdCY56ye9IlD_84H6Q, cqjRzEUUGfFVvNodtHNKRw, ZD_X21BNUV1vFfWHcWiDMg, tqPHeppkiAByeLokT_v5Ww, 2GAK4FwI1OYDza2foJhHGQ, ZuXfJebiCZTQAy-3p5YCgw, 4arQkU3temmIVgOKybJ8fQ, pxki_5AWgk2HskcKOcqOKA, ZIsE7LgFjGCdmCJ9VMHX9A, ZgYe5NVwIK78LAU_if3KfA, v6dvYJfgm1MrdYPD2t7IUw, l3PwucYApxLwgnyWSoQizg, RQT9QoVcQd9gnKhayD5cUw, dboAKYo-6jWm0QkoU4Gw_A, m57XZTDJA5FnOH0xMwUFNg, rYFr36_C27pv-J_emqfWVQ, nbEpeDTZtN8D8J8vvCS-OQ, LfCXoF1SW6HfVDugNY7GkQ, CU_Ldu738DKGD8n5Aj6fcg, o3MDwb-e1VjbyR67WoEKPA, fH_dw32ggjRwyUKjVm4-NA, e-I4P_38hHLs3x-PsfzTYQ, CbwJmOCldNyzO1nh9ouNJA, iUCz56fvzZtSznR5qYwYew, EOtfx09T6U1IaarmfmxR1g, HiXU4r3XC6vlJ7jEg7Berw, -0O2d7C1KFutGQmdCtJmYA, X-4oEzDAoVSCStcqZo2l2g, folrEgAZrAsVu8iESKIzkQ, H5TEwR-OD0XxILGNaewohA, 4awtOXNHyZI8Sd5YgMfM8g, k9DAL-PU3ITw64EmDsFOTA, ZuQrv9NkvEn3PoqONl_Epw, _jKKITc9obl1EmEQbUPqUA, XJezAZS3n7W-aWkkQvkYqw, RHQf4Ym7iOfozLAwic9viw, DOj9NanlJP3xntULCy5Uow, l17tR0Zh06LYFSc6FG6gEQ, oXl7nXFg6fECM_lnj_fYgg, lQcqeQ0nYhxHs2QMeFGwXQ, Px7Wv8upFSmB4660i9bOsg, Nu8Y3TLO-e58x8_WZyKf1A, 1g4LT1td9IygaM7APP6j4Q, 1_fV4V9Cq05As-aI7RukDw, pWwPOURdrfGr64wqIJP7Nw, Ve0LUwcrzxL7w0RYgY4Aaw, wnW6smL9AlTqSfnKYwgEiQ, LRvClMU0r_suvfNRdqE0ug, Tm8Moaj6lelnjPNmiB-d_g, CiwUM5slBPKiztlubzqbaQ, CmtuQZUXTRN0R19Nxo0B1Q, PeLGa5vUR8_mcsn-fn42Jg, 3Fu5670zY-oGGqf8N5ixRQ, xkM26UGl94s8OksWy2Dydg, SnMDxQ5tnBmJj4gHVS1yLw, TvPnSqHGeSvy79WR0GbIZw, cO1ZQiLCSWxmq4qJ0WdtwA, S4oF6j_b1mWqV5SvK5XMlw, Zsucq1c-sjuGxs5jZuUEEg, vRDPasWQ0MaWqE3Op19Lhw, YIk6u1Y9k1jXSOYqqNjt4Q, JJnDsuFyszxOS_UyWjTCfQ, Yvuu0gZkpdjrfdfdW0ijFQ, 51J7B4-Fv4YFcyv2Fv-dZw, pdJUrJOpcNXkbjcsxtdiMg, hrAuV7_lm4iDUMWGb2E4UQ, AoBIeUb1Vk1l6tlAifDQfg, 0Wcvn1p1-ezlGA6_sYEuUw, om5ZiponkpRqUNa3pVPiRg, sZOGhfMB7kyx5B9Wvv_eVw, 5jz-BicrPZGCp-Mi-oBRUw, ZCD-1Fif43ALxX2KT6WYrA, vax-HGv-Ig91y1-5Em47Zg, 6omYIh_HF-LkJLB3BLyCLw, zsm4IEB14VSsfDeWh_3y0Q, DLcP7LyBa_KBNzJ_ofLbUw, QOtEturTt15MvbuExM0kqg, fphEFmtmjafb65j7TCt5hA, -motpvSiTbUKG0l5y1ynRg, xgXb2fXQ92IWnc7IGv2eCw, 5tO-8NUJX5k9wF_F7mAivw, c5X1vxV7CbPLLGxYGUjs2w, uHZr3XbjKvRTwdXLXrFuvg, CozGguiwx7JEVk7cAwdvpA, TGslJNYtjNGIHWOjXe_6Ag, jBFks0gnmO0daEX1GyBKSA, ZHb7SVMM_1Z2Svcsx4YlFw, uGgp-rKHgWpBiQA2flvV9w, LSEb6qiuQyYu0PnKn5aPaA, H-Mh7JcGrpN7ykIMrl9tIw, TkjePbCEhJ3ZoYvHraPsnA, 3MJf8lAojG1QRLIl1FikFQ, wQxtHpZw1D2t9C-on7as4A, ha6Da-Mt4zZ7F9_LVwXjtQ, 03FWBi8ackcSksjO1o2GSQ, Mj77Ho3AbTYuuA92d56rVg, uKJJpvnchj5yGoyTo3mtbw, n6bjHqNKucxIppEzIF7hew, G-z6VzOv-6TJmboidvwgow, oCh_fZj76g6UBqkltWHsVQ, Hsfy3_Hn03BsWHgbr2Ebvg, zZ_wSncgj11otB8KkMl3Ow, Ww62u1XXumQMWdrDe-2VJA, D7IWDQrUrlQY9QCjl3rDTQ, pAFCmuqDWyLiKREXn3i66w, IkZ24T92yy38XuRaPqSKxw, rJ0KeIlydo4LbwWTl8rMag, C402DyMoqQ-4g8exhpNmVw, WjNQDpiqj5oHcb_e4UuMpA, l7snvWeSdoGxofRe6JIGjw, T2fKVLiztWZbEYEBuwK0xA, gUhtT4k6n4yjADt7jd-jwA, sc96k99aZlUrhIDMPzYfdA, -IxAxTicu9TXP-_HqctcMA, qX_U1mWpSKknGvQGuhut4w, JiaC0AaInMxdA6Nl8JVSMA, e3X3HhvndvXRnpevNnE__A, Mv2986Y7NVnvTLkT1nLgCw, DseI3nQk01cJZ2PCmB8s6A, RhJY69zHKpJLeME_IrZ8-A, 3r0TyM0LH1X6I1KtVgnYxQ, sJ3fXDIyGLMsKQ08Xlmoog, rfmRIR55ZRjO90oWPDdRwQ, m0DvPkOxUxciLwJ4lZsofQ, P0wENWX4LNg84G-nsqcGFg, t8y1B5tjlOzZPeP37Mv3AA, u7kmxocTMXUv7Zj3JkN61Q, q3RK8zKIgjOIt6wVMCIK-g, DuEHJugNqM_g6O5qLuvvUA, 1i8fovoS4odEkDkFjC-Afw, CrLEQZm_xfoRznGgl7ELrw, KYrwWAcb6yX-DLJZzxdXxg, ha_6oLXYPbT8A-ttu4WfTw, -DFCC64NXgqrxlO8aLU5rg, wpuR1jPNjmdMEK8kXipYmQ, pfzMb4ROIOzfdBj5Q0bF2g, o9QRRcHMf-eKDTyY8PwBcQ, QuqqY0tOUVyV17NilmKQyA, 3aDdScz--xm7AE5jiRE57A, EjeNnnZSQBxAKULRmX3ORA, QSv3GBIZ-z4dsMvCrEujaQ, cYnz3zoBcxA-kd6ETY-FKw, S5IMQL1N5ODD2ji5-uvdJQ, JsT-fW-r__7UnjbGuNbymQ, YSb8JRyI75M8FkbYWLH4UA, u_s9qts1DZU__pG_sBnaqg, BAm09ZyCIygB5iih92pnVw, Tq9tVmi8rZCmfqKJQIEJbw, WNZfkL4DBspueoGSUOMAqA, BIyo1Hf23H6EIujLSYzw2g, AE8nHSRPFlB4nh7CP8PlGQ, 7NV6kcM2Mq5qY1drWD7LIg, 041W8Bns4vlzag02Ih3nSg, CKWi3QPxFLiprTeR7lrdyw, 3csK1iRWPtoNTV80X8I49g, JFmecRLYyXDhgLvDx-m7lA, NZ5CvFZhNK1VivFi5tPt2g, ZsVPGtXVWCewa9UXMLDK8w, mH_vxQd4iLSX-ru29bbLaw, GmYe7X1js7ArVjFWP6-sQA, c2IQFYS1DDB_gVO3c2zO4A, 8QkYr9ftTna9oZTcjHH0tA, Dr1wLpdUSnGj_EO7HAIZxA, cVrM2BvOvPV0Vi_rC8kepQ, vSUEtwePRALUqx25_qGceA, CjZM5qBCf6z2Icmul9PgJA, hD2p1CFI7ZYjzjc2rVSRpA, hkSiQAfl6w3882JJQzRTlQ, rJFtMZ_XWaSevzLc_TSJyQ, E_GAXhVA1_lVC2aFpMQElA, PhlDlXqEPxye-sw-iBi2Fg, LSHe6afWMNyTcCdEXDnOKQ, 32Y8ZSJ11chiJJuraiVB_Q, vrtpXsg4OWwjKmd2P87fUA, Mo7w8cSOXwhcntbOvwol0g, hFuYkfDXDd6cu6FLSDO_Qg, skSrUPhvET6dE-tnmFYaRw, vICjSW6NEMAOvdq1k7uGEA, WQFkxrhocRNW5OPHfp4tbg, p_ISVFcmKtDwsjiVt4kcAg, WbhObUClLx0BmRhtfx0gNg, 15lpaZIh72pwP6lixe6jhQ, fCMJMDsUxZGBc3fI4TRCYg, 1OuMzfhk8gDH1fz8N_wugA, p7CWesCdgT2KIdcHfBuscQ, qVOFK_M5RR8EPG5dbhImzQ, pRUwTOTHtK7o4rREnUhm1g, tgrs5VQ6thhouiEtMU-N_w, ht96YcQVXop2gtVl0YXTuw, A9RKvWz-as6hzSKS_xwVrw, BqiH4Ih9Ouv_u6vMYqrw0w, lDN7CkuacXid3ombLRYNLA, 0dGi59C6bWFAzrhUjm_cKQ, gsJ44AzR3lnWJfnJeRn7vw, hLlbH2QbtVi5S0sNXubilw, zolX3jmCD8ktHOxje9xEzg, F24MkiTWOqRBvdYqmsMDew, V96SVvibg1Nn0xhpyzT3Iw, O_GWZZfQx7qv-n-CN7hsIA, QA4K9_IYGodlhim-dpVB8A, vSo1onC0sufySEWLQZD4gQ, HAciNxeuESR39x_1-mKr1A, lZgGf83NCctO5mkGWXcAlQ, j_sYdmfPAFt_YvlA4YBklA, anTwBga5mwuYRt5uSs9tow, qdCj3RbvjaHoSmkpR4pshw, m-NRBFdOa18ESaiBh8e4BQ, X9edYUh3I4MwVmF-NseJyw, Vct__D5BVLY3WkCCtSI_Fg, 0ot7-ihirRKwYOpg1tZTrw, OyAdiLMLxnhi3qGp-IaL8Q, GeIrStSVyOosriBQd9uAeQ, L_XLvNrxL3OKljbq00OJLw, vjZAld4njZs155muGhvZ-g, FAvqfh6psBPDa49FC0VamA, _3UJ0maBZqNx6B-ryTQTjw, 7mL1UBEkMZSV7c9re4huRA, QHITWBf699xKiAUs0f4ONQ, 2_YcHdQ3MerhbJwpt3wCzA, QwspLdHEfPASfW4eut20hg, VerygxV8YKJe7ZJWn8VyYQ, jxEqAhpWM3zFMoOwOhE77Q, re6fN6eb3NTL7hKK-5CYUQ, cyphrTOWbWSbKJS2XjsBRw, UYCZG4AzQKjXR54HBu2NlA, g0Ti8LCLkR9Bt6wYIafHXg, 0Ix18j7idRc8OD06oCwcXQ, uVxMHi-YrzmsNXKVklCxlw, dQ6dmxmrB10im_UhrKSEOw, refycixpdYC9p1Ax1sSXPg, TIeazEkCQA5os-quxNCXiA, ZO_1Pxb0GGm5VPMrArBGtA, lCdQU9n2pQ3enBGh2zPtjw, mcspOEE4eCzWUsd0X-Tp6g, 6GtDNtEc7g9RcWaBOxfqbQ, 2OfMxEhkL8LW-bV4Vp40iw, is5vAvanYvmF-28i9no2LQ, AG8U8Wv7IjP9Sc5KJhJb-g, CpZEkpyzKS9H8A-TQlR9QQ, FMgE6aHxcTh7d0dkKcR-Dg, RPrT8-YjQ14aRgJqZ8rHuA, wktMii8vZ0P4iHaOCDjZTw, jd-veodUaXfDQ53_7414Og, yoa61s3IdHwi8q5_gLvzaw, OiRnzvW40RQ6tqcgk4jv1Q, dkaBTE4ogdNisqxRmcvzMw, fl1XQYxi3yxIPNvaFT9-fA, znW9RhsyBE_xtrw-T1nJ2w, K88fXQU0uO1yko85k0RruQ, 84EopsfQPrmekSBQcQtasQ, DZu6tSvmy9KFX-eIkiLxmA, r2wysZVjMKfOjyLR-ryQzw, QPRdVqh_qtZVzIOKfqlgQw, aLD0aldJW3dKerPAuyHtkA, AxfLs-3fwGyBM0KJd7ttdA, 1kjQTYOuyO_D31fB4kPZvw, 4-iajgT9l-6TxP80y12Jxg, sqXHWa4C8zarwdxUuDF9PA, piwcc36E-2uXhvLUj_FfPQ, tkLhmLjvj6r13cAZfRWONA, DFjBlpkDKYc253lWimvhOg, 7t_-ZcUlNBPjK40TfM1bBw, s8gK7sdVzJcYKcPv2dkZXw, 8DopZSRlR9pYkPrxcS7zYQ, IWoiXJ78usdxnS43u_L9FQ, hiq7qyqKceiFWOTwUb6VMQ, cGHF_MdiYxPvrcFJSzeiGg, gV8M56h3EmiKz-wClg_P-w, 9WHF_oZfkIIW32xGLo3mvg, G7NYDDsGBw8XB7mplugGIA, JtjnGTZejClempqv1OaLqQ, xHYHgJq83qAkD91SD4WMDA, 1Cr-s2yiWewGyoaRqjJ6KA, BYTHJf7WE6HJKAfhcbLS_Q, t4pnSvRQTtwE_R8ArloMcA, bJQq1ShvhitmZMLVfidfvw, N4CPyGVoPrdPlyexqoxK-Q, QuaEwPOA0FPBn31r35cByQ, k5uG3uFJ7q2MmSeL_vONwg, lcXbqEmj1LFPdi6EON4t3w, EReCOvgJo4_jYaW56qCZJQ, B-SazvzvFqmeonv6Qe6r6w, rWxJKFRojGJ6GgU9WnXWHA, hg71CGHy9bwpgY8cGVVg4w, koZNzFgi9-lNt0bHjb6qJw, t9ZWbYd2XbbXLQdrATGMoA, zHi7Nw7XjKpNvd9TdB6hiA, 85JNDfQ0HwOYvY1LhVGGxg, XAhrMHiS0tjgcZDHYX5yeQ, PWhpJO0Pyr2x1UJW5sSrgg, 2AsLnTtS9J8O05w5MKiGlg, ejcUHf6iHq7qt0OMBAanXg, clPPtv-iwLUYKt9Xy2OLyg, fy_13gu5wDE0s9HX_Dmg4w, dziAn94vfG1pCgYlLBs1kQ, hUYzIBPLAT5ujg_pipp78Q, QnIrewrXxFnssw_gG1gF-Q, ryKgufwebb0es7mGddLH-g, uKK-zzi-m1b4sE9tcvkr-A, UiRx8jyS6H957ItwFsP2nQ, QTj11G4F9CbYQ7tKhnYCSQ, eA2TuRRKWAjAL_zR3Q8kqQ, yTeJx7NcW2lf3e0ym2D7BA, bNda5krdDrNEtUYMxzOOOQ, kbvrKUqzY0uWp1IqmvM06Q, PAx6EkkOO19tvNtjuBzVgw, yGvGbceX5l5djzhd7Kq6PQ, Ezj4B5x1wJp6LxiFJptbfw, Nukulm8uVSjn0zMWk_u4IA, M4Vt5VQESOURWwVqTGWzuQ, L5-b9b5FFdqj7ZJ6dbmpJg, m1IYrFif8u7Tn1VYRDmZvA, BxUKeMb9rq-mmGr7oJf14Q, WSwF2c0nIIqr0gy5KHNWFQ, cTA0xNt7i6bTAR8geI8m_w, kyqvhn4xQiHulrqOibDWhA, ROZgW8Ar0i0i3BWA4ynNgg, k4Sh-1_J_1B82cKOLAF42w, zm-ZYS_eXlwNqNnybLKvQQ, Egek2oD1fGzbiYVAAHja3Q, s55E-iE2AmQjUlmV2OwipQ, dXsIjOIMQbcrmcTpZ2CIMQ, 1TsY_wvCLQvL3mNHUcHo4A, oWrgKtsWMQdvw2S5EwOd3Q, w3iWJP7Ct1NJYCPYF2UViQ, 34Z0PGUc2_LcEYB1CPpHvg, jbGIMoecQm9zG8Ppmx-Y-Q, sIz02nAyQIrDtFavxZtfTQ, Fpi1EewUq0xOk2z0Jt95kQ, VH18dyRNF2zrJly76eMppQ, I3GUt28IyY4IO2XxekcjvQ, wYhofficNtE5kE7anu0VTA, FT-ygbbne9mmzYhEBVet2g, PlnW7asnCxLOTtydxtk1hw, q35pRh6jnBaTOSqUDWi8rg, m1yqi_ubMTy823JtUntBCA, KzagTwPd4xcccW75fgV4lQ, I7XQIPkHfmbCGOG6Rob1mQ, qFhLMK-2MmN3vDVAOM8XBg, a6N8JHlndWAgYmJB0IF0Cg, xh-Cf8lRl2NE757hmIeRdw, Z5_KJ2U86Xe1YyckqhgOdg, 1EchcNeHE0DU7rcCkZJbVA, kSK0aXzk6vTGkLpXWiy7Aw, xlzE7EJE5RxGpL-luI0vDw, 5ECtmLzrurE0RcNpmTwXaA, szUuLvEUeHCUIsOki3RmgQ, FWodOIIW9xWChxAjl7DlTA, M0Y3lcoX3BAj2hD4-yr_Wg, -x1516ZG5GllZiBjDQlRkA, WquwDhemqp8IQTYA9zuRLQ, 2PgWZ6Nu44AXKfGiBOjOIw, IMV5ICFhLEJVGp07egGeiw, 0AH6aXsgCCk3nbG3b7_ELQ, NZDyr0_Kqdx5QmWfa3PxoQ, DXh8yxwZCg5Ckj5kmDvKXw, xlT5MnoMuiglL8_J9vOvZQ, X_14Pe-kpmR_QiU-SRJvgg, l7zNh37n0Pjumdsxc9oDEw, ntspBvDrmT3okL_ayVLKTA, U4Uuqcm4tqPfNqOYx6HBiw, zAbk9LczypGpjdb3YXB3vg, xHng1ETB6UFGX7Vcr9Ef1w, fzV-0gh2m5anmq7onUnUtQ, LILzX_U_z-1RDsY63UNiow, DkErWCJfD6kF1-jGiB4izg, SXWGFZP9EfAEktNO3mtpzQ, jfhVZZl4w237XT57HID4qw, GYMIDghm2k7gSTpyKNid1Q, PiSJ0pS2R5LKvRcby6f9jw, 8l2B2t6bXUzmKt7QpAjpsw, iLsfSX_JeNp7HgSYW2nZbw, vD70BeOF2tjl1VcapsIAEA, X8XtoFBoAiHrw3rZ4v8cRQ, HduHfYjJUFjQUrrQ1Ets-A, CP3vEH-SjQFk1z7igp4-3g, HrtR_gijmNMthywbTtkG-w, jmIZRiDzRj8XgxBeFfrBfA, Ew7W4FpQnLxFYmQ8jOwjaA, TdipT0P_byRoqrYynLPW6w, ONQLlnU1iK_xkuXFaF5a-w, 93ThwvSgzDnpbsLuXQ1RSw, AlnUuE0s4_2kVODzFmBbQQ, y0EMHQC6tNHQTqR4a4015A, C224slk1zOUOMNF3prklCA, cn7cpKMIlGIgjGnhjh9AXw, ZbutyIWkOyyoO_a1MMUSHQ, L7HlyS_M3RE1ZzeGlCF6Iw, wWOCeITIZ-tkAEkYtJZr4Q, vavCigEC9fnUC_7-GSgCOA, qzQWcjQGJk9BtWU01_v_qQ, sXBnCnjJlEuzIx95KqkQuw, ySkZxKSRVs2gcd6JhN5rEg, p9zrlXtnWjgBIARylhDrnA, M5EfUfNBSqGYa1VeLDGB4A, PK3EmRHbtPxxuJuEyHnI5A, R3OgS9WdI3WuWPUBb0R8Qw, SWS0xWtD0MHDa88pNt80PQ, efBSr5FVqtW5dJT1weGKmQ, rQVwrnJodTQ3P9IC8OmvaA, jhxJkFzYX2tI_dy9S5JifA, lKT4U1-Nz0g5kMcKSiSk6w, mgytZAasaiBf-END4aZD9w, MByYNutOWC938H_-MjyjoA, jTW2PHloyNWPdYOeInhr-A, cqf8dqO5_QUxjfo6WiM7yg, YvBMIlwCY9Fgsf9HPVp_9w, GYLIjGosx4F-ZUu7MEl8aw, AMP14kl74ZmETwdNposPNw, pihUzlGRVyohhCpkTkCBKg, I-02Mz45H7siHsjjgVxPgQ, bn8wvYVKdcC8cCQXeA6XtA, qpOr9xRbSMmKzg5bGboZDg, HJQUikI7arFymAclOEx4Mw, BNZ_H94bMt1xqVifEdzF5Q, lKVrn4Jdh2Joc7WzpPBhdA, G08ooJYXO89nBNQ7QWaawA, ZCx0wfnb_JtD0ZcmT-K9fg, Rcxb65dtZZlk-HjBaP5DKw, p3heVCnq3M0H2LMxIuuc5g, UqkrP5O2ToeXRcYbp7okIA, AYQGK2AZkIPkrqgAb72Qkg, MevUlhwc0PIJdo5O3zTlNg, vtT90Q6QitvWAsipzH5P3A, hjo8gNMJgtr35f5m6MwSIw, qUZChsmWvaQJnpX2TE2ZOg, WubOk-_VVaV3DOEoTCD4vQ, 6Hh_ZVi7rdJqB8H33SzhrA, pXP85xU-xsPq5CnyjiwunQ, q2RxQN4ralRMPUX8LzR7CA, IN3FmtxapnqWUwa9APshWQ, PtveTjQI9FDxlLgegiCO9w, iB0FOdMo9hPUhLa5R4E0Vw, yL60onlTh1BmJKVLli_K3g, BdJVYqBB_0L6JYQdFnO4Kg, 9BKXXBFxys5dYLztPbQuog, q12n8SZUfFPRpakb8nFeag, NZOTHK7fVn_4L966mk25EQ, rS_OV4vl9rH61hd7w97Z-w, Wy1rla47qUr83YSQPXvP3w, jTwOPsjTOUGCpu-J9lwtCQ, UV000ImwJ_BDRBLubxUtOg, HPrVtUcrEOD1PN5BCpC-RQ, gJTohB-0fzIyQ792oHjMxw, xz6yTeUSTAsyhDly9DupAw, c4CDRASAWhb4otOPSmZiZw, Ws3FKOGCLigwj08p0483vw, WEjLW55qNXkL6d4kEaY7nQ, vrU29HTtkdh2_9gHgkiEbA, EXKDLuYoZUKUNNNYA7TlGQ, XgGHG7hj5Gi1APWYL5LipQ, tl7BzUtnzAj_r1WYFXLiug, SG5TAnKR2v9YP81fPvIH-Q, TsL6VXZPLzy_S3z_maTuPA, o5g082jeVsk7HVr7p6LvFg, 7ujGjfJlULLESAtcB1kQQg, 52oH4DrRvzzl8wh5UXyU0A, Dxlinyt22A-JgUjW3r7Krg, fu3BYCqU6PIsgC9HHI4pyQ, Tfnf6hjdNkW0ARqSHjndnA, 8nKol8j758vqED0KQdwuvQ, hZh969rawDSh4wmwdqVHeA, H4HPzkK0pCJ3vQqZccPrag, lGciH_Ej_ofLfu5T98PcyQ, CqCUaPsaYmqHdioLxCaeSg, LCD4AMkaFl_Df3j3YeDqmw, ERBRwGsBt0-TZgcuBcJp5Q, VbLkEPawzIPGWF1QiRDNHQ, LZ6IVvfitr_eFGxaFmND-A, NTYYpl3zfxqE5Dli2x8CqA, Lm0k0_OLu0gmaduZ_97upA, 4KDriLdMCPIXlC-yLEIrvQ, I8OS9Vou3FIGqMILP-U29Q, eS8Y5mjSaMPcdp2cljgTTA, VZpzm3HG_YXPHvY97m05qg, axtxQS0NeY8S9SMxlXM7aw, tHtNJVCveRt9IvFKmcC2GQ, WPEQXGtV-eog_3jSqyTg_A, qHbzv9WmGl3ITsxuqL-C4g, _kCPjPG1ISddtymYh4QfFw, vp8rk86fpNziz0ghCtIhVA, VgpMtd936y0LtThprIMWPQ, i5CY2947WlaCr72V5l2Cag, 5Bu5-1eSGJGGVDuP2U3GNA, 0LH1mll4w-uG-u44bRJV0g, jocx3ILrW4lIfn3jWJ45BA, a1WjTnYkyUesHb6gDixYTQ, ClwX_LRyd9Lmf39m5rKyew, dYgI6fbzpufmcbc26GrMiA, rKoNlAX-ARVNLH8FXTxBnA, O3xQttNxtkiYJd8PbB04wg, s-6Gb60xMIdih4gIq5oTiw, f5K81kHTFniTSJAVewcuDg, J80vTHGWfNmOiM4XU5_EKw, xLSTszQHVefHmgVKD0hStg, yxVQtw9aN6bzmoCw4aY4-g, DfCnfqiK2lJMViVcuxjO6Q, k7DgPgVyCssJIKTKuPnWZg, tyPm7EfK4lTxfDnCXB-qLw, wNmPSzW37_zDE5Bd8R2RBA, rN2WEDEJFQgQzj4z3E3a4g, hSNMUzk86SuPBVlVAqVPLA, fIfKT5J7OWnr_sNP7VKkAw, 6s26H2mDn4Rgvbsxw0GQDg, mta4GdbarB7Z9nVfxoTBPg, h6rYx1vmOt-Cm3lTuGVoIQ, N-paQBfMHKwbSGO9wGpwjA, Z8EwtP8-Ilx_ZCpdOPTA3g, LjXvhd-m9vWApjuDflh6Fw, w9gIR34b4s6RXSVPtRwIDg, 1V9VrN4q7GmGEY3hypnBxw, _McrRzAwJKlIAsBIeZX7Sg, MGamtDVpwIkZMrwyuxM0Lw, j3-sZwD7us4cIJQdZiB4qQ, TBOtic8s1ckCx1O0XId_rQ, Hm5PtShXQbFUMdsL9yJVGQ, Cjc5LyYnai8ZNAcLeyeosg, Gsd8iShe0T_hi7sAm6uq5g, BVLxEzRrnSDKMko6qTsvVw, yVcRdAW17smcGqBPjs3TYA, iIEWzikBabu5XXrNFX8RVQ, bdPdwasX2EtJSnniPdJ47g, 8I03UvaTLrAV0FB1EMhmqw, BMCeM0it9jneh9c5WzikUA, R2DCqBUafr0OcqA4hoE92Q, R9peHhzw_whcQuTs8LRFsw, SxLf0-X5tcfstEXF24q59A, OPtv-lFAgcddoUuHCcTHUQ, ZfwBuQTAIctn7m2KF20JtA, 4D4-1CdVJrFCMxEyYmXsVg, TEyl8ytmy2KoiHLAZk4HDw, XnKlE3aNCrT4M408w-jdPQ, uvYzmeegLOMrhXVv3FWAtw, nAQ1DCDPESTbKpZ58xmDQw, pni6Sb0Zil2qb9aADfsK-g, T7y36Mk6bWNV5D5zSGYusQ, NS0ViqKKOfte8rIYAOELcw, 5i-mCjF2o5u7NQb1QUDi0w, mvK1pv-x0Z5rP4Hz9cWBWw, 3eEZVXkcBcwnqXuHffyyWQ, epr2BCJPpSMvNcVvjZzaJQ, zASeBKzUEqh3WAkeT121Vw, R5ODoDS-kkBOv_RdIW_vIg, hFy3pG3uBnWbzYk79nntVQ, CoVs4RwcgEwGSIXo6-yGqQ, ijCBu04swpIO8sGC1ofSDw, 2zs2mt6c5plfyf6PdDrnnw, CRt52QUh3p-f5Z88s-MCWQ, yLW8OrR8Ns4X1oXJmkKYgg, PUx5KWODerm6IzdfemCbag, Nw7hfuYzQUfup1k_gWNfdQ, 5e4gHypPjeelfSOL6Y01vQ, tnrRQcaoczvlzEB42tY-9g, CXY3I1G_nPTQk6KSUXyWrw, dhMSQzqMigb5sx-Z-CPJNQ, yk5b-3XsIlFGhNpIdpIhbw, xarTWd_oJDj82VyVM39rEQ, MoCD_-Eh_j6-dI0V57hG9g, hE9FCBh0BPd2hEhTMNFp3A, LpIhqzoMk0H4WQnG_GbJeg, OMzQAdzm9cJusfLvJi-htg, ucAN8VJoiA-_ysMCgZev1w, qceo43uo8tu4vnL5Ujkowg, HURHW-bsdjbFxi46tDvKDQ, yFOhA0a7toBwUffjC68FrA, 27hyqoJVv66JN_Z8pduSBA, aO98X5th8GtVWTtWUsXB0g, NnD-RegFqU4FyHU4AWcHPA, 188LBFTZF7ZwUiXoYSKUKQ, hn1MDEFxtkunLPjvGtsN0g, PVoBdb4xo1a0w9uPYRrjGg, PCYst--rkKLlHzHoupbK4Q, FTO4z2R54xFhEaxbGPY-KA, ei_pmjzzaRUDihanZEipJg, LLbtaIr9GgDzVX4VxAHqmQ, 4k6KsD9cACAlLnEJA6cU3Q, lGj7s42BJx_Xg7ZgaO_dmA, 0iuWgNb-KbM8zY_xUKqObw, LH8Anwr7OSjF17Di0VoaWQ, XX4YxdSnB5WRP74PydBpNA, LD7HH9IrwOf2jiu1jReHxg, DRvEKbaHoSN7WSuSFnaoQg, 2uaD3oqEwLdPdlfPJNG0gw, gbaUHclx6yoxxP0Gv4uw2g, ovjIQRNC7xmAyTjkYM3Tjw, iki81fv_IvQ8ik9ssuf_uw, XvcQPAX1BkJfj3a4kG0lXQ, zh2zLq0AmjdCf4QM6dLqeA, GB8Ts1bKi20uPufp6b614g, nICbZrPn5WkYZLaZnjqBYg, V7uS5US4oTf-S9u36HJQCQ, eNgNNZu8M9HM3NccBhzyBg, sXJYAIzzChDi46ARRnGNIQ, d8Fzz6Ob0lcBewFb1OUc5A, XYChhPu_Q890eAApdmgZZQ, 6K7j8OiLChFflIrh95Pn4A, nWxvB7rz4_FkG1ATKQuy5Q, 4R_2IRQyfoeHhak0jhUZWw, q2oQ6qzpLnC0Ku1zeSLdgg, _zXiQ-4TOW0w4qw5AkPy_Q, mcSv7ii4MzGpm7lplClVDw, HAoZ23PLEeLcVwkIcvGL5w, wC34hIBq2rHCBijwl5-HYQ, 4pCccUOx_iBWCwtv-ObTBQ, Wmm4aFO-9shvGCGxN14Oog, CCNQuC2JRD-OD8B8leWLzQ, 0rK89TS8xqy1wI4nYI1wfw, 0_KEJhsgpzLVALP0wtGhXQ, rlQ45FAgCkt5253G198ZqA, 5R-7hv9rEMlPlLbRnXwgVQ, 8OIBeLymvPwEJjMoe-xp9g, jIZ9hSbuoqJWghsi4XVuzQ, bYf6vOOUaPcvTeSzrNbVVg, O_esoIeO2OY4Rp0yV5BYOQ, mjK6soCULVd2PFjs1p20lw, npicAO0BM9ngWRIgBcL6Zw, zh-hKSpfxe2hfGVzJy0xpg, 2T831jY4sLwbbDQP3nhoKQ, cYxQM_ZkOAFgivpR6P-Npg, G-mWHSm6XVp1oe9PN7NUPg, 78c_llOEjlJ5lW35bL137w, U6ag_rWZo4SaqFfZZ7ublQ, e-T8-w0en0VZ1EOIqIShxw, VeiCrZPfE9qJiZRfkkpxHw, uG35h72BAMutvXAWdRpqCQ, j0Vt_WtYh0J3_HUxsvE8FQ, oHpAJUmLa2UBlJdWFp70fA, 7zLo9lWuNCHGOr_T4JR4TA, dfR1b_NPegBT5PXqx2TZ1Q, Rm8-fxKLpNwDj34qeSQpAw, Kz_f6n9DpVinBZAnOHPHeA, b04v2r8jaHlKTsPaZJ8exg, NT_SovXuQIHNRAHPb8SlNA, ykMoOwslQwQ1zYzkefKuvg, JMpsaF8Gqy4UvDX3IIHFdA, 2r585qa9BIsMebWmiHk6eg, PEdZr9OzZ5rdxTkG5lgdkw, h6QDP6AUXnFlk9-ERM9Z9g, e-DgfiojWRjbyEjS22mJmA, nB0tpu6uRRZzoPyyQVp_Kw, KOAY-HiJR7VnNc1XTh-Lyw, u1_rQRTWdppoGHNZ6AGxMg, ulnBWgR4ay_NoLlP_W07Nw, RMGpO-wqlXEsQTa4s5zWYA, lAshBHp_LyDnEd5C-I9qdg, q_rup-l0WG7t6LpYlD4Gtg, YhQJlASTFXJQFC1e9ll2EQ, yFY8wveTclT1mRQxWAEewA, 41LC_pGKcncF7XcNw4w-YQ, Kh34OUwUgLGSRguPV_MPdw, MmEYowrsA4j3K4gc9Th53g, bSZf1byIvkBZ9rhqD-EItA, 5_O799C1r9RAL9fW2k8nww, vRjVhl3ONG2GfWY4NXJZbQ, zSZgK7UtuQQLCSEYTeADUg, DPL9OV4vNQF8wvrV89aPSA, ELA9hkyJrbA3TFZeyKm-fQ, 3N-1OsHiKvU9ZQ2dG9MrdA, pz2B7MGcEnH0yO4_J4OpBA, W7o-AY6Hpyb5WkgxwGH_Yw, i3MDO5H4huxEs1jI2Gzs-w, QdfFtp430K_-BP1GTPNnDg, KD2MMvGF8pz_7idF2urNyA, wruKmvmEHaAkXR-gm8dW_g, saDYN_zBEoNheolWPh5RcA, upOjrtlqsRI9e1Ob0iA1lQ, xFJ5Ja8y40CdMa1sfC4-gg, rMzHs5cxI_ExNOVBQuVqZA, NcIVAyjpdXVNomQej-bATA, kaT1Zxq9--9_n7ycxhADYA, Y8UTUzqG-JJGKGC0Fv643w, UfzPJTLY20rsF72lGasYOA, jDSzMndkrWzYD9jOf84pMg, BO0qKvTic8Z6NKyg7bOd4w, lhTHkMVi8c1t_V8B5MKNPg, 2UG4fIKOfBDTjy3jSAXgsw, 4Q06BUOyKYJNWmqouKeqOg, 1lQ7WMjqBifWEj71UplAxA, 6fSKNvcpt2VL6Llx_6sTBg, Ntr2fPtU_IFxpkepmimt2w, 3b3eaCa7QpU41DJMZN-vug, Bmal_-d1E8y1pz0Upwisyw, woAQrIYXALiotKay013WlA, dsMXGdyB29U7U5-elAhmVg, 16d9H0CLAL5x92POAYxXrg, fX23D3UJKmB7hvbDmx_GxA, DWbTrBhfh0kVRAYCreAiyw, hFFs6QvOcVdCLmv60PGVsQ, NCl-SUArODRtGcEnFHJOSQ, xPkrhqkBerFVlTqobsh1GA, Y0CKkx4QxN1_NFsmA5geWA, jkrqCh2jC23opztIbysgVQ, l5SCVvyPMWXDWZ2IsogzoA, yBIF5pxRQQzhR2d8jpccyQ, XAlgPQYihaK-r3ZsKNYVcg, i97jtFfeCfg7PANpp4WYmA, HqAKhMOJP69DU7NZ6ZFgoA, zy2kP-RdV78yKbF7eTJclQ, kZYteRqvLVVWMNcGgyUMBw, t4Y2T5n72rgPN7ozHmq7uA, X5iqs0F26AVSbu1rby0GlQ, TRmKQsFZGZq08lppipS99g, 2NWZz-DSe53qx-DHtkBMuA, Khh_zoydh8gcPT-rQtXFBg, Oa8QbpKSo2SBPreHO9FJHA, SBDikjNS44J6vElDbCSgjw, 8aQwYlL5ibrr9XoMrnsDPw, XbphkKOAUmc_cS_HBhQEUQ, S-B4bsp4hYpqbC0_z0aTRQ, kFwgYDCO95EWgnWLIlgIMQ, 3uMk5jCkvbIveB0BbGDaSw, 8ZltQWq5Q1C-D8VMVEUBwQ, CEPutBCpqe5LLw9dMiLanw, D5uMny1pAVWhNGDvFDPp8g, trUFnQXasV8l2iJSzZKXrg, TISh9VgOJk57S7Izfp6IrQ, kMosK2d9zLt0UjWmTEbV5g, xIL17GxIrVFHuE0cZNKQEA, S0KhozNyuA7mOTNPg91s5g, YRhwHXrg8MCisKdYMCNzWA, fmhO8d--SOFSrmMKoogX_A, 8fplxDoE06YTwMSkLGKNmg, 6iQF02aNgeOk8s8dougtKA, 7xum1MWf77uibDaSoQyFkA, Fkhx-4Gf_tPj-f07tA29WQ, 1NpHqzoBIvwJKS426-J0Wg, gjh7wuybkgCyMKpMNQgaCA, Rmj9Q6WZBabFpTRzYsUIjg, x95zvROjIbCqQiLcO6tFhw, ZOO3Iq-oPzu2WddvWBDCOA, uyEatuFhLs4hN2ECny2P9A, Ao2VYIw9AMKOTiCUwe_T9A, -aVxYJeDcoUuWDzoFN73-A, K_6UBbR3SvUXTQ6J9W7aeQ, pOk4rxPH_dKSG22l64C_NA, nd08jecqusgOxPwl0k1mkA, _Z7D2uGmvFGPlavLo2EGFg, lrx2eV_rzTCAorcgZhkjwg, 7SAm70a3UEGGHGHiwBSEXA, IrhF89eewnB3NcXL2R8GZg, xDDrstHBUe4vws0_Qfu44w, vhDXdBeje8e7xYIIFmbYpw, VxTeOElQlNTIW1FDg7zuQg, I_LZ1lA1Ek1WcehsNLoYmQ, KnT1G7_kSp04KizsZcdUAw, m7ZQEZmVrU35T59lWgIHsQ, 7zuRuBKovY2_q0Eyks9kZQ, RVoeHYQ61x9CJ10hIWqxFw, 80bhTVC9Ks1KlkmhrowJhQ, W1vZvhcM5kAIZ9xIAosFnA, 7DhwmWFGa4Ej9xHUehmFmA, 5Ujdrr6RwPMjoZskZGj2cw, Pjs5dCs9ChJUSVSBArJMrA, Uv2w0adcdzDm_w5_zHZmYg, 8PB0YtPbdedKfMGQZ18IlA, 0_G_LkSvzderJ5zQhVXYMA, 59QzQ3-dmOD1USV2hQpwkw, dnAomr0qnQolK3BevV4Uew, okNTdZixJh10W8v_Njeu6g, rEFFf6R4MmzvaR6OwYyFxw, fOV-c5SiQGxXQ69KA1qbww, oyXIV-9GRBBZrFydPCaR2w, uECwaWsyxxv6mY5OZjds_g, 6ce1NSAUt1Kr7efrLI8XQA, rhPurVl4MCCkvordlD06dw, Gqp_UDRbbfgKHMZm3udm6A, rplzMW65JoaMhETvkAKacQ, _4D8Uz6SzBenufe7_3obrg, kT0W0Hw3XiT1tHYKeq3f4A, fGfrz7mGoqsT_cvEgMc8Vw, s7MEV9vyE2jW_kE_OGOKrA, czdkuQZeit1EtLxse9LSng, N6zEqzLSAxlXclIdeF7Lhw, eIA8r-Tt33i4eyYcwpnXVw, fjckdImR7BuOy7F0GjORzg, GKf-pqSasx_gVv_hjfQaiQ, r3ov7FgibBx41_W74I1KiA, _gA8CbAXdW5qsOR9o4wR6w, ue5cLHxHoJX8V8AwcsOP_A, 8WKFwTWG9Qa-MMj_vPw0Qg, 5VaOUbsODRiqG3pGjYSnHw, GL-V4EMe8tUU2C7pQhVZHw, gHdJ4fMg3EkkNHBI_a-LAA, MbC307BAt8TBr3sY5RAj9w, zxF7vwh32ccSN3CbCMlalw, o_9Lm9wGlt-cjOyNYNJmAA, zYhybsKtX4QBJNOO0azNBA, PSj6DtfUWk05SlideJXgPQ, XmNdpYQUlqzHps4et3nulg, 9eKk90OB9wKDacTDyYvFWg, -rNBjkV3icUJlXeRQ7RABw, YeJ_iBpGfgi374TYPvgYew, iz8cTCWtKs6_yCyqBOwGFA, 1ZItuPNTHuCPZDLUPcHJvg, ZnpFjbNQXgh4EkFMn-2CoA, xAnSGMPkCxNIr-_tC7BeYg, aSwdqe4a3bej56spD4bsng, 3FTdQGS6uQfAqEbfNLbGzQ, 2H_-of5RQx-LSZ7qAUXkFw, d46ugY0_v5qafDF8EaAIQQ, Hfqp3EB9EZ7eBmTudSBuZQ, MOKG02vMLnzChSJKcx_ysw, fwU7stBHazg-KJZmQPyJOw, IJBp8ItnJT52ojQKE427aA, 9koMAkDZBr_Ucn07DAsfVQ, ULGRMtMyzIoMJxmMNW8yEA, zDFL0ZO3EGsIaXAwIg6C9A, A01ORjN093dtHvx0BuWYCw, veuMZqGfG0lSNgLGUKFKbg, -exvXUUTiQeHhtvpzhKq7A, Xp-N19LYi8WGayKF18UYfQ, iDxBVu4ur92rY90CC-8Sxg, g3DfIMyhToar9Nz1QBdS1A, ez24d08Qyqb7mCKEuTaifQ, eFxhnqpk_bXHxSdYZ5XAoQ, O3i4PB1xrWw1VY8iqseHHg, jfo-BpubgzjpbkSnpmBbBg, Ebh05hxkJptsdw85cDfTfQ, -QcAv0XWyzAJScEOCpC35g, ofG_dvVDH5y_fiRkiNcOMg, 5ni2bacPC7scIAHAb9DmlQ, ZZCNQQSTOUV3AFGoMOEQTw, nvKiEf6qmmF-E5zqmrJUFA, -l9Qi3AR42uRd1WTIUbD5Q, SAU1oT73aS-IovaRIWHm-Q, 2zlGZQV5Xy8-ukwMZgbblQ, JcTwRDVsPrGebIG8xBbv3A, AbQGilNni_VCzCVtHmUIyA, Sjs7B8wrtV0iOjGjjGWQsg, X6NxB3s8tfw2AZI5iHW13w, PhUqhfyk3jdaS0Xb619RJQ, RVSbsheLxpVlNVidOiv2hg, p9n2VmL-QJnNY9AHVcz4VQ, T_1nQ2UO7p43KiUN7ndk0A, MbdJ_gl7sAQcdvBkCVs8ZQ, cfNFEZ7xE6ldtY5ARcQVWQ, PkeDOqXbgEOkR-aKUHoQ_A, hLNayQpPYyH6ivYkuLofhA, qBAPE8XKPaiVi2iHVtdzKQ, GX04QgeBrm6IStsEfttGbg, 9cADNwDg7oQkXDDbGUO3BA, WhLq2HG340CR18ALdfaUKQ, uxgU5qcy3Gid6mLTXmv3Zg, 5Js-8knF2b4QINhl6dgtcA, jtPlhO8WIrXqnwlDaLm47A, Cg9Y1f_oXsWPP_4A9VT1Lg, FM-RcaTENaXVBTLqYBw5SQ, JdUAZYwzgmFoUDu1FL4WSw, fBrL7DNj8kmIj5zlD_aoPQ, OFZFVR8QOy61PEO3RHTcaw, ofeLGyYo5yACoVzahgExZg, AhzdOOgvtTBNZUJN5p2BcA, -vI3ValxArljdmvOTn2Gwg, Lz_wwo1EFL45ccvGKJ7baQ, LNPyE5X1K5B_flcTCH9StQ, ssw9pdkfzhj8jMl59lw3xw, RAeQit8R2rGFYKj7-RkiPw, vEzGYPfguL4K2ZMqN3EHjA, E0UEc8L5GMc3cWzs6imRKA, CGtLZd9WxjRQxZR0H8sQLg, 8gqe6Ajy3eHH-Vb_0ityAQ, YX7jkIZ5Z1ppqE8EjGBFig, owbC7FP8SNAlwv6f9S5Stw, YGzg_AOh5uRnYVHFNIuEYA, MmQZbZPAren9r9RJyttfMQ, ghYZ_IcP8fUuCNh3m-rGqA, NR-6b7PB0JgR9pVdDHZ2RQ, QyCFpUmpacEg7mZLaLfhZg, kSYCCuBj89Cdpc7yN_BHAg, UkIYB1hw7xee-nMXTrZtkQ, jwrsLpyl9sawFnRs3B4vIQ, R-WW3NJRI1jPNQqOb4LkBA, E9i80LuCXKMr6HrVfuObdQ, uEh3bohrTgb5ptAL2tWH6Q, ye91LBMS0DhmCSznsOgQLQ, adagBeRTdc_TtoYNyR-J8g, _kTMQVcxA7392yY_0yncrw, vDa2Q5bNNlbZA5SN24cnuQ, PpzliPkE_fzsI6r15UMZFA, XOSpgbzbQve5MNQ6os43kA, yvXEJcXRtffR2GuWULbRjg, dC3WoJjDnSOjF1oVywT7mQ, PJwyYfwsI0CJto1eYxuKtA, HXZox6rnDegmnC_t0dJdmQ, xZIS0iyY463Pxv9_v8GBTg, NjCWwTsHdKb10EjGR2uCYg, wnO99pBbGqwqOoTQM25iCw, DBHCFW3mSmmOEpONHVu1rQ, XMmAJfiKPkXTZGs5QIwycA, REY__nNBapIvF6O3n18iSQ, LoeULN8v7HoUyvelKJqEZg, PCEeX8Tg7rTP274_cg9Tag, 3xlBfGV9vFUmZapiT5NPfg, TcEbWWSZ1yUYuIUBULxV5w, w20oNBJ8yuJq3U8_aDX_hA, TPFmcLZwL3Udk-7eXHWmYA, mFwRTTDW0Yr-rFkTF2cFsw, I0KaRT-193ojpUz-SO9-IA, iDx1NCLBORSjnyXAwq3B2A, ChM7ZL6LOPFmEy-zxrmIkg, uuOEYpaBQewS1yN8tzdU2w, Z-zqou983XYSQh_STwn26w, _fnwcQLS7VyA8T5FyhHtCw, 51Q5V_XrpmcVn8ctfS-kVw, vN9XaRrHUbWK8dIrknccbw, CYwJhO60IRRgck46fGW18A, IO_H2257SoaGuwpY9LwUFw, RLM_ddOd89-62bSYBoPgCw, hlBjT5WITYsbJFs9nRsY3Q, y4FRqoq6dEayI2tlLM3Uqg, M7mni_BNPiIVoYIMotwQiQ, 9mdcqJAAUUsgGwvxRohKhw, 7Ei4dx-mqXQFT4O-Y2ypfQ, jfeeVbOzgDm8ZfYfVvRJiQ, a6oIleQwNh6OVxFBXzcE8w, w12vL1tRjNcsaUhjJ2jqDA, knCXLV6dhr02ECdKXB9AbA, P2epFHigkHzKhggZqb4hOg, VlUnabA1_1P_KMpQdIv88Q, phPuUWJNJgfMBpMJCqvs6A, vfNdZtqPc0l2ecxT7eRhuA, 7JpPvfDAE_14vA1xgFOFjw, QXXksosdR52Zt72RY5UxaA, Mt2F5uWbZ04ObR3_pExl6Q, X4s64eemnxtpk5NMBDiDPA, JQnXiuIRwHjB-sEXbu_W3g, ouJe6FxnYkZyzdJByhLXgQ, ZngF2uBYrqyFjXd6LvuluQ, Gx6A4kqfsPfO35wvIZYVLQ, Db80SCez0BdYaHdC0xmzoQ, roxewAQO_FVC0rCF0EpGUw, MHK9s1Rd8tOqdE8eNNo3Mg, 8bvl07qk2_eNnfHbcZYwFA, B4RNz76csoOubyznUyk1Hw, _2J3r3CBlZ0WTeeP_N_I4w, q_4hROexlyg9iGLhw9HVLw, 0Kz8_kEnQcnztdGrovnWFw, ZmlShUYuLAxqszmzf402Lw, xivNEtw9SPgpDCyMEywLEA, P-SKPOpjGXmeoAEZrDhrUg, n2LM24lHn0f6aeUI_JJYJA, RUIHA_H4c0GNxNerhm4gpw, 4WmI_NsITL5Wk4mgN4xRuQ, 8ceF7v8eeRVmH5RmWoTaTg, 135DbbQnr3BEkQbBzZ9T1A, OxtiTAWyXOKzFjVY3zMoqA, p99BGa4KWXL0rZ8SQqfpkQ, yNRdYkghcvZ7gNx4pAYPiA, OAulef5lIdJha2wgEqSe0A, sTa8yUY_yJl2jGdxb554KQ, 3pN9ztp725OpYK74sp00ig, hbjlUQaMJkQf-pj88__jvg, Jeq6e3dtkxg9mt3vCcIW1A, DZX8gYuOpgoUXAQFuKKgSA, vehNJlWk7F-LyAV7x3gSxA, ZPDj0KynzjbdC8KHR7TmPw, pDyptEUJ5hGyiXi5jhlZmQ, EIKa1xJapcV2wfVz2VbSOw, fQiJXOxIGWQ8FXwK7LmdIg, yD9jBWZj4i11jLHUDBwF5A, zq0wIG8uvPR1zjtnaau39g, nNMFgFUGbnfDS_kTrNc-DQ, psISCUPJIJZx8DeLr-ZYWw, NwVyki35xOcaxhMzHNtHDQ, 9fpECUsOcsOPVy0WXMWgjg, z-fK1Dp4y1ODvKBxUU6czg, VuY4nWfZVLtE6HgCaxtLow, pazeYPyJ2ycDiNDcmamntQ, 47f_WPZdFYwbwmE_4YunaA, p8k-oINtUQKxbQYcJbfmlA, gUM3mHwwogLnGN1e5Y0aEA, 1ibYu0H9uHrxKUGhlhtocA, cVm9wukTh2q41AGejfDWHw, HFZSDmukOwSoKtyBsPGeCw, -XZOz3ViFET3IZFRGFoOpQ, Qw1aPCUilGH8HXcQ05cG9A, fBBof4ISCYyRgaybvnGPnA, 77pXShGJF-2kxqi8IQyZPw, 16dXWqrPH0r1ptPjPB4arQ, JKVjgDqf6CFQtD4BWih7BQ, tK1XsoUodz_hSfVTDQjzGA, deyF2Bevbo4yJcRrFrKKbw, I5q561Q5UTlUqpi-VOoiOw, HRSLCyImknA9VLhtfa7Tag, 2YEsnvfvC4_fpT8YrIK9aw, RAgjPVLpdtUVlybHgquwxA, -sY2CW2w_Og0tRF6zln2jg, hweOoW6mOpvHlbg9cDxCXw, tV8xNTfe5nWqZu3j8rW3vw, ofKkIpXx4pF31ECp8jjdSg, 2dtANFXM9MvwYBwHePbtbQ, J1Uj8qFCBhP_AvEaf2d9vw, o5fO-VHeKSgYK37keSbxkA, 3NnPbhmv_vEfPTBp2pnn9Q, KUZjT6kvZAfB_HS9YrCuXg, 2HXzmRsuudk9k9UMRsILGQ, gkW2qPfcfAWbYyejZ7VqhA, yQwbwOjXiTKhU620LcvoOg, T2Qu0unUAcgkASTssItsdQ, EdrZZEfl6CHkgw-BjDcHsA, Yjc8YxfmJaev-KEn77SGZA, yu69zHkYPlMHsSBBGTxRUg, _ee95opWLnHPT_u38BY9WQ, jpTUf7-eNjo2tSHypXvPqg, UIXGqSKEo3if5g5OVd7-wQ, 9-yYlwngc7PjsAVu_k-Ugg, ON5mVLjRjBlhCH-GBcdLpw, 4yJmm_dsTGX1DfxaPCxxgw, Yad5X4QkuyjYNCJSCGx3bA, O67_GwXOecWY5Qoor6VFdQ, kq086jP3X-qY5TL2szTZXw, Yqs3rMdj9Q4_L7josKO9aw, HSiz-rO_OsdKx7NWXqTihw, v22Vu-9Yzdfxe1Vg7wTEQQ, pQLdSLur5O-tFLuPS1mqGQ, 4hexjmPerlF_1l4E3qqSvQ, vdlzXC0nHa4QVm0Hs2pKVw, 6xcIaj3_QKUOg3Disxaheg, pBOp9DQMMJQKlg4by5GOAw, 5Yz_xQ7IbIccVMpYBnGtzg, ZtXkAIUAvh4s39GtL-4XlQ, 75z9W54jqv3ngahQkcozGQ, xiXLFWGZbNRaxSze4TeYlA, TMstreNkEnxI0i_VvxpYBw, Mh-EFERkbli63djl_SwVzg, cz1TX8kdIST3uGiw4FgH_g, hqhM-gpy7f1qlPXQHsqSfw, S4nU8cuoAcUPIf2XdzXOQg, ZW_tfvS3tJA5AE5IDIKxHg, iW3z4BeKJjLoPAZeXC2E9Q, Yw699SbIZ9xAaCRgv2GpQg, srlAwL7dNVWYiK3qSXmUOg, UjYbaW1ZvnMYwcUTBUovfw, 2-3a1lAZmpFanWCxHkfhcw, tRDF1on0DUixYDqfviAO3A, y3jHyynTjbreqvMM6vofrQ, h3jt7wqehwNhXxc7tcNhKg, CjMOYthBBgV-pcm8vBXi8g, aUhcscNphAJQlZe1R_WRow, fgwI3rYHOv1ipfVfCSx7pg, NgvE2ebtaLPQVLwAsowFWg, kJJmEwgNgNo8uvdAFcCRKA, ZKdJglTyJqn0cGGKFOXu3w, oVyOBiN5v9QcQAkyokCr3A, W_aRFQhEPRFimP9nNN0E7w, m2Ki-neaARi3s6j21O7LzQ, frmGJjAEPaGWhBG9nxzzsg, 3_DkYdorBEo23mneNGahoA, 3jec7-dwqXAyS82l7-auDw, VUD2hINfEzBUbJxqewm12w, vKJ3bd6tJE0VsXlKtOPcZA, Oehc9pHqbIUF4pY1kZM5pA, od0m4pC6C37I5Eco0EHNnQ, 6rTHSXqbz-Fu-1YtBAalgw, Y5t7YHevrmsHYHStNfFHCw, xicKPoVo3K0Pri3x2bMhbg, 2AUNklKFt-GUW5-jQVrE-Q, z1aE5EXdEIY2MyO25NoIPQ, EMKS-j8tXRAt76HJsl4UxQ, XJZY2LuWybBG9sYA3qyPBA, YH7mJNyLbqp_CU5G-i4Sqw, w-nbjIT8FCOgRBoW6GmBpw, 7AzzVhp29y2Ck9dORXLGtg, _Dhp-hUcsoLHLiR1n-8MoA, 8YPnvp6qZgSYeU12SBlu7g, hkFvvGe3hvLUfCH0JdfbDg, l5YEhv4OlMPescMaVvK90Q, ACUVZ4SiN0gni7dzVDm9EQ, 0PficXDJdmXOiQ3enz-D2A, G6mdc6PJhfq4qnEtwyNhHw, nZhcv7BQbemMPjz_mcdlVw, ecsWsuu_5QqTnIA753l4Yg, SFpz2n75v5GCz4YKjD4flQ, I5TD-DdJvIrFwMuFp95r5g, KVJX58ly3LRDlff0ink_FQ, hHTQ9gSp4FlWaKKlsBjoqg, aD263WOD4RShoqgvVhcKqQ, HW-3Pu9XWUEqswUEWHkDHQ, -FZBTkAZEXoP7CYvRV2ZwQ, GOc2ycIDME_TXQ-ImUQW0w, iAPpaZRGTaB4jEhVssaKoQ, EleQKGrUDo_-zvpfOVHYMQ, eVUvBlU9_DNeyDd3K5MtIg, dgxQTFFpMVwcPF6lpQiTBA, F0snisqR579PnL2UsNotgw, m6OZG66JPXVIZRkqm6reDg, J-_GR-XSIolqphozf4K-KA, B8PO3z0Fy-FHlOvD2moCNw, psmNc_O5cwyGyFM4wySJ-w, xfYaqZgbPwQmrYkpUOU9ow, ajCBUlkRk7sdNqwIgvPh3Q, szQDt5eQAEewbI1G2kuwYg, KbJk0d2URzL0V1mwiq5sQg, M7nN9ZqeDOWw_TaWh_RgoA, DC-eUCITuotmQ1Fyl4-Jtg, dv6PiNojlEDhYX9w2Jtl4g, Egx2cIBOUMjfvVfKGYIY_w, 0gjhJz1pS47DfOmvL_9Ixw, 3NWJJzg3va68Mg4GALq4sw, I4I8jRlLqqyxwRb0yBkAHg, eu5ksQDUmeSdzslHWQwTXA, BJumHS_8LU8qobGKRe_S3w, YZbfmhKsWCqoq8P0_iFv9w, LzTCpNPcIeJyoWEcnBoFRw, UPyyAYLeXdU3-t502I6DSA, a76XohkwnNGxd7SC1VMgrw, kS6gd7McklTUkVwAbtMPLg, JYg8meqw-VdbNe-P_Oc0Ag, SRXAWZIjasKBhDkGtDjeug, VWJ8PSz6Sg5_AlBvQyGvpw, gAPKWMLbP9FrayBXTiRxbw, -ki-qIZHP4zZ2D49-b8ZzA, QpaTFRTZpfs4rjsDsIDWrQ, 11amb5uyNqJJ5iQsGRDu3Q, 6FmeOxLVL0DVr7KHBC1kVA, IYWxE89mzwtvuPn9AeJtJw, 6rUxAXG7UJ6vje_lwQleTA, Hqo9SnTFLi00syuWo22JOg, JFe1BzkltAS0HqLhDSvwPw, IJletdUvvNjV5B9OSBsf5w, 4CFOo6AU2OmENg2jWjMHWQ, 7qEvhV8Sy-VECw8kHyTk1w, m5ZWCkP93Gh7qzUVfpjajA, HA_UjpAN9Brh5WdtxHPBPA, 2r0L3KBF6VQd4aKx3fy--A, W0I0kYa9-qAvWJW92CjObg, I8SK3sm0b5f22Z6BW1e3IA, cBFgmOCBdhYa0xoFEAzp_g, 8lN2U-Rfk11FOZ-u-vxntA, 1jh3kDKXuF4jyN3H6fdDkA, EHtPiFT8BqwvldTMdMSiag, yDgBhl1QH-z7UMb6i98SOA, 68ovjAO3Vub-mVhpNN7FXA, qFu6JqjQbQbl63qZ6fOkqw, I_WhuKvtXVrkFuX1g371mg, 3fCb2So6bBV_EK8RUQ6cug, tN0lpNS8j9Rpu4ZEZ-KwKQ, LbeHQ0frxP6sJew2fKZ8fw, dX3hR2AU-3xZqAfdvnQwqw, AStTppA8-jqhDxF2kajwaw, 0Q6vh9xJ_zi6G_IuxfmZxQ, uN7B-Y3-5elyZ1bP53v4cA, p3X4_d_u10uiLbwwzQL2Zw, XlS51TcH7iak22sKTxel_A, v4CYNq3M9pfX3rPc5eeaCw, XBkGQOSDZrNKsv5KGiec1A, HyW_I_Xfah65zeRDHwYKCg, MsSXzoUyWXAVa5obTqTPMQ, wKmF01XhtgFj739gh1JATw, _-oTR-yaPtsgm5OGFFzr_g, B99rJaOMtkH1txcQhUl24w, Nh2xCqJcwAuP8l1Aq_r5Bg, pYSZIYu7oyCN8ibDjSIZKQ, cc0xKvJzyGbq0y8ana2Dcw, 4uJXindoZlYPawRRJp4LZQ, YkFOjXpZcTHRdt6FNQCvWg, t-nB38eHbeFuabXBdJMwvg, 7hlgOp4AYkKlA0xvx37MNw, UU9aCh4ZN2N1nfFXAiJz_g, QfG6xQj6GW23AeCKvcCViw, zG0CVWlJYwK3OywaWzfabw, TbVpbQvL9aA5CTWXXaD-tA, VT5jPDEp4kSf9Bwz0HjsQw, Y822YwOMrcUhgflVdzi6Tw, I3DarPF6aeBxPOx_92eZTA, 9k8pZv3HgWUHaiVFzRI55Q, Q5getrPigiQiXdpFeo6QJg, wbBwxh2QEb85RYm36VYICw, obN3eHaYQOiueB809MasyA, zvROD2htkqhc0nRAzGWYUg, beVmX3FcKP6K1Rs10pIAEw, arYeAqyz7m7LBw0rmQ1Yeg, ZIOCmdFaMIF56FR-nWr_2A, o7IOtMxNqOzHbYWQact6ng, R07Q1lB4bfnkRGEAwaecxw, 0lOSGSPpahLaJJKODrUTzQ, _kl707a3yaNwhzeEFPsPzA, xn4tDUBqmYNMVws4aDE_Ug, js6sOVcaV3PnLue_IEpwcw, DC0Ua_eK50ICmoI1Z3IZmQ, QuP_LXAH2ykJ-AwRwx0Clg, ywwsU25haUBEBk8XzE3Ppw, bBJCqT2aDtT_1f6s2IjFYw, EpFhzcXF9cVRgLodKAUWUQ, TbPxb0cZkcW1Gc_iZU13rg, cw_UXTYvfR30Yweh-jnF-Q, fh9-4q6a49G0tRBsNSPGHw, t8PN1mFxF-FHQc9cNfmWBQ, XsQ53pNe-72cyh0c3CBEWQ, 1wpZne83Bqn_ri7QVcDNDA, p71-l0fbCmBCP1mvxQdaWg, bRzr5YuEIncFzG6_vYSwcw, lT_l05saID4b_FuEiIBbWA, XIfssJFuMVYh5ehOtLyYvA, -TdnnNdi7xAW-xR7lcEXXQ, NTYF6CpBkLLfmm1jMAs41g, Pui1HPGa-LZC0s8e2M6CCw, prq3JOYIgX5n8crcAa6EHA, hwTu2ZpU0J6oGlIFVvXQKA, rsCGzmAGhJ9AtNW-wSohag, -xDW3gYiYaoeVASXywTPgw, 8EAI3tGH55jzRhTol2wcgg, reZkc5zyXLyx-O3bmDmvhg, 23wNTRDtDy0WhXrjTwwqew, cIQv8bJRhOrE0YHSWqqTZg, fnkjdhvRC20zWUjB-fwMvA, vQeJzkI8U6Gk1rS22K0NFg, NHDp--MWQeqhO0tMEjCczg, MGpHiGVoz8RrcsR1SAsBtQ, q-xvGLC4B_yWf2yJtnBdNg, hTUv5oh2do6Z3OppPuuiJA, V-w4_SEMPJpCnpQYU9tD-w, 8YT_sJaRVZrU0tXxSCUVFA, rhwkRZymEBiBTjGgh2_M0A, _kSblQwLU5_rug19G4MHbw, 0OSUuXJpKpW56TEz0a6ZoQ, j9vih1KD2r-NLlaHfZPkRA, J1FmDhSdMz1K9P4j5IzAQQ, dVlQCO4BxWnlxHOB1fGkyQ, QjvI0nUbE4FkGGw9hzoO5Q, 9wdfZc6fBqeEjp9xur9MEg, Xqo1ru1F7srvbUJaCNHkvQ, Fh5X-2Qo2rgsMTIs38Q2lg, Sdai6ywiZCa7q46ghuoVYQ, vOhr4PncEShAa_falHl6vw, H_cdSVdL-SGegdn5JqJVKQ, ygWVTPjHFtqH_Ah3xwG76g, cW9itslAnCq__8bPqE4SSA, UKg_iwakPkK1k0Q-mQRLZg, ENoEj7wa1z-D1PE50ckytg, EndVjTSvMWPEewMtg8u0Qg, eanq3D9b_F7IxvQc_6mnOw, ZWD8UH1T7QXQr0Eq-mcWYg, 3FRDgXJ_vBQ50J1UKMa2cA, -op9zxgn_c8xLskiJZwxlA, 30R8FPQSzQILhLAYpeKx2A, QHX3NxFAlda3I32taYzI8w, pbao2FW7uzAPIU68ea1okA, xVHzezCNka5ThEiyRRZdJw, 5hwrqDhwu6EjjDb753OD4A, tO3dSwVYcVJCVxBAc2DGfQ, g3OtN8WeIjXuu2A0pBBb9Q, gLqKmd298wqx5uUFshDblQ, AkIZlaQe7GUXttx_epYcfg, oa3GEjK95JJ57sYqtAOKgg, OOaQ0FxCSOXrZRowq73Wtg, qXhHMDYumpf-BdyIZI29uA, fRJpK_b0rrjpBgRZjvfvgA, tHdpAd45A-EvAdUcfOQVbA, C4XOS_V3MHFOL07QoZJrWg, a2YGSalRjmXSlTYt8l-EVw, R_ePuVLLmq9W-KQAEq4i-w, GhuMWMeqDTvKHJ-jEDH72w, RYjt1X8Plwayx0cf6aLobA, EyBe-64c1QbmK4GHBNuQlA, y3RLnCRGWcItbp6stojOHw, OWceZuM42Q4cBFZJP2YDfw, 3Z_h24o8gi4-e9MffnmS4A, Rqyopl4UX2Yuksn97yR2PQ, ckG7-tdMfxiukdA4jEnE1Q, WR6033peFiviFPzAV0yhJg, C7Vo14RpRTG5Bc84l4q6DQ, CDvhiRiczAq0M5pktyiyog, svdwrwuL9YHyF3rOgjbB1w, lKAta6C212j8vkL7uLgs4Q, j2Eu9pE22Rp_DRoSp3KgQg, X344QaqTE4ty24C8Ww4wzA, MtY6CCWYBreBo6hrNpQu5w, djxnI8Ux8ZYQJhiOQkrRhA, YttDgOC9AlM4HcAlDsbB2A, YwNLEnHC43zD6wSY2d-_rg, OTOFnHm5-kes8brKFeLJ1Q, 21_G22pBPgtpi9Bue0cTEw, 1mTwtjhs_QLnniVQN3iZiw, 5GFGyQzu03HZgbjBheNDdg, 77lef7kKkoOVupY-7AmieQ, V7LRNklGj_YAOIU5HSDzUQ, N26-dXhOoB3gHhX6meMMNw, XpJVDTgMze3FaEFi0bCMHw, D8JswSWcY-fznIm05Y3WZA, 1T-rePv-lLJDO5gVGFyfFQ, EA1RJyvxQabzt5B976tbWA, yx8vNXUL0D0HS8rUIC7AFA, 0cD3qzBX-jPynTHzg9oc3g, u4BNqWVSdGv0HZZYwSiufQ, mnc2mcLdiWK5l3aWZWLvfA, PJk2VsULok6ZCjxtkP3VhQ, GZSs3gYlfFFAIlRhb1DK5g, mCeBquP_yOxyrE9Yno3jbA, oVurP8wy3lKHDC-1CTo_wg, ydIdyGQyO8eZe0yqgs0DfA, V6mfsOW5-Mn4wkXNwtkxKw, Yn6A7uj9Xxls7FUNF3yE9A, DBMx1_LeqV_bl-G2mIg0pQ, 3_LUsftOY897bf6Y9G4R8Q, r6_B9482C89MQhKvthrtAA, HDcmXum8C62fUYVvexFNAg, Kjs_2iKxQnEbSHVNNMM0mg, zoi5de1rTiQax3KZ-LbP0A, r-PXZstljKgTkwdWvhQMmA, le3Xn9Mheb1hNxWurF7RSw, 9z2f1uRbixe0WunEwGKl6A, PP3JmEh_ixsyRZTOo_ZjIw, Za-gp_TRQ3K1D0kb8Qwm4Q, PqWGRIAjE0WvNVJ17Mq62A, VybwGYQuLBfSxF7AG5pcXg, vy3BO-jg1xDTePVyuPCfUw, MSXg0YpWkTC6oP_WzAASUA, 1VXRv9Nd_PsznzTyWgTfnA, 0dlEZg10gqswCj954EbvgA, zT3Xa5VA-u_wjBh479gqGw, h7l9rdBwafO63BUxqcMZqg, LcGXI4rHSNoXvYRcJ5ScxA, MEl4qEvnV6Vui5TFDvFfHA, 1ff4hQ__r7BMGanYtb4PKw, TwjiWvK0ZP15lzGC049oIQ, hcmewCutQRhW_IYq41CEfg, kvJN7kWB_DmAsoQ2Mi0ZNA, Cp10iqqbOWOmzgW-EmrmaA, 16_XT7JUdJrlg4TAwEXAqg, FX0rUpVOllmSteJOIqQy_Q, o4IpZwrYumiHFrYNngxldw, fO-V4ZTC0RCHcOUQaDGpYQ, baA8uBkt1zvupqb6FyS8mw, tmqDsD7ZqrA_BYI6dFHaDA, 2XBXYuRnnOUdG-pBzmKtkQ, 4SkjUHrVMEjzlB50RToJ5w, G1LAgM0S-matIPEAveZNEA, 7U2cRTa3L6KUOD05L-5gew, CIfw2DKFYNMrbkK-dsYDDA, Kr6OkY7bhUr377Jgsj3Hbg, 7slIYnqlDYrvF-dqDVSt7g, RbMta8rXN3nBaKbloDWeng, WDFDRmKp5Wu2doYSXJDeDQ, euehtz84cPglYCi81oW-IA, wDbNahd4N2bmgmtgXeDbSA, JZicKqXG2uMUKGk-FlczRA, 6pzA8EDhHgW3A5-rBObhBA, Jt-1_3VilSO4krIqk71AWg, WFZIMqctBkMzzBV6IV7Pjg, KCX2mwnMAljsduSyIzXAQg, gf6DLRu-68QQgSbnjLmJGA, ol4WxweKYfn2ncAXHrFh6g, HJEEATrmqbT5LkHfv9XgYw, BXjG6ljYq306T25Fqu71Fw, r-Z6R22YzCQD0qMwKbEA9Q, Mm58TZoduSwBHof3ORPs7g, 3HYMGGvS6mG0aoZohy0tTw, JHoVhFzGUlTN6A_NgZUyZQ, 93vyTaJgzQRQO4Zs9Cg_pw, wL_tb9Q25-JEtWJeW1J09w, ba3TYasak-mGXcXPiPFF8Q, 47Tr0aFI5cMYHUFFXLHasw, iwADKIkWiIYKqiZSQIPsYQ, iurqdzlBw5eQV24in91OSA, tjee6K21pvUvLhstXIKFyQ, bUHVZ3OswVLJtvwDECwGKg, -13RX4Gy_F-zoLIenWAo-w, 6OBCwMG7CwwpFJdLuhy1lQ, WDpvs6U_TCx4799oxXcnag, ql4ogqNGYQR1LgIGtfCxbA, bzapbb28xMO0NE9oRK27gg, XEMIP3q5MbFv6hw3UZnW6A, EhSqaZE_cBxr3skmg-f-5g, b8jHoiUsiALLRacLtVpuxQ, fsKTNHcGi3QNIVguYcRIdQ, chG58EhXagCSvub2-a73RA, b4Davvun4iKbb47bUNK0Ow, 4EvQjgBlu6A6JeJnOH4cPA, vOO12vDBWFe1_Iphs4muvQ, 8R-yPVsE2bHDrY6xORQ5-A, 1_114Jt7SpBhxctVawi_ZA, uEnP8G6jSMaaI0OnWj4rjQ, 1lad9hCBGpHAS2uMSrKCPw, FL2n5HIe8ZluLpeTJwJ3cg, 0gDRi8i9xps3PYQHVihB2Q, GWs9J6lIUqrySTxl6uXO0A, bJDPU2kuukmCjdI7HmRAxA, _wmfPZ-UE7UcqXUKZet5Pg, cdcO-5sO5I7-OXPt2tTh5A, WJ402rZZYPF8ctX7nLYXGQ, TA-wRnDB3Xv7_pSajJIUBg, VMmz7VNoLwCi6IuImICp1g, TcFRVTmyHYZY_KX70xDAkA, xvT2q0W8JPDAn50Yj0scXA, mNVMNYP7o0PCAqz1uWUnYA, q31EUrvDx23rKLzqtjRg9g, CjOQAU5AIpfue5-QeHtMTg, zdV9SNsPQ7E7vC1nWfx_lg, mp97f8V_6rx4Xep0fDBmfg, GD0AnaoQO2ymuLXw0P1PRA, J0cwjDJsYt4Ocbw0IRIwNg, 2VOq1i2KHpVV5GLUAYfqSg, kfAs5S1XGtZZyO0QCuXD_g, 9tpjq2BZQnqagBi-uaOeAg, jXqB4QsveqYs-swmYIQWkQ, qcGI3xJFkY_-qqfw-3Jx3g, 5-LONx6se-XXnoZFlEkstg, x2o1ofZkPms5MYmu02ygwA, PdXE6YNxzO8q4H0jxEf7eQ, NDhDMKqSiBc0L06jKlFnmg, aXbE5xBGWhXqVRcrgknSXg, gEtxCRxiw66qjdtSrDxkxw, rzp8IvRt3pMn35Ub3eS-PA, 8hkfwBcLeUfTq2T0ivN4Kw, qIIWAMJ_LwlJi0fntUpsjg, o1QAhT9-HOVzyso46he00w, ZT6SExiHk-kgoVID1eSmgA, Kr38ub29S1nU6Uk7IoVlOg, mn5-C28maRP3ysg3W7pCSw, _xPAwujLOvvOAq2wYc8uUA, w7RP1MZad3YO7Vjgp3s3Dg, dwmofvTZSTu0BMVMXQBX9g, OnGeBXTYpnOtMJBLUqJDCg, mh5Va2aGZE0uYQMKH0bjMA, p9G-uXu9iKr7lgAHf2SL8Q, ORwD5EVSZeFV9LfFMeeH8g, 9bpmB7lUBw1KSwQ1jgLGYg, bLbSNkLggFnqwNNzzq-Ijw, gWhCe6VmI56HfR2ALF5tcg, 1z15R9baqiCh3aWG8YMtmQ, 3fELjJEddkt6Sj9SiB39cg, d_jFqEuSL5PIH7QPsJrdyA, fy4vOa5DPVKhwyyqW6BiPw, 6IIrIdHfwPk6680r2ZABYQ, ZbTvuR-d0NNHy6N40QSwQw, cnQXH0wqMce-s8P5gnUO3Q, KOHMVDx-A0gEwcS1-QFdCQ, IZwld8_MT3ib9mv4vPCVgQ, W9I2L4sM97nF9yLbpRwy0A, rxMXbZSE6R67Ni0EGTL_iQ, fbqb-z8c6e7d6SiyM2tHPg, S5fC5lDZw7Epl_wyCQwTOQ, v5BWctqKAPNH3IUc1G2gEg, V5egPuG_WM0HaitpnmXFew, 1GH6Hnh6jLfCT951zmcUYw, 5cBfwjuOT9HV2539Rucz5Q, JyCdr4RjcOlCLKRYZk-bog, lUO6ba9f952pc-wlIpnpVA, rkdE06BbheP4gEhb3ooH0w, 0IwjuFljIWqyQobixrWdeA, YbewFhCGlJDYfGuNVxYQhA, 3FoLYfpw1aZbTbQEBrZP0g, 78j2g1GGlXfzdh99PGfjbg, u-b1ekU-sTpUqD-ub7Jppg, 6bwgPSMLB5Ei8gn_4JzfEw, 3gRfkaVcEWri-Ju7OQX7uQ, A7L0vneock0E4pqb6kCGmg, HReh9WcVvF8Rq4mnJzSTQQ, -enikl6EKMAPYJoq7BcEng, tRiD_GAxF6nM-OzHwIiwQg, SPiC1nKXY8mYZp_dAwK8xw, Dw_WE1QkJHgF1pzRM7XjBg, 0QNRU_A6aruI-SrZdG0OrQ, Cb66YzhBEA8letpkLlsedA, SfLEswYFE7T5TejJGNgy7w, 4bemntNU6Bjy1KJAecpl3Q, DCgsCzczEWG4lTNpHVsQhA, jK-KsCNgCF34TRIDmsolXA, VTR-U9JZ4PdLqqJm2gJ5mw, zfk0Rnse6fPKCpMYHdSC3w, hK8pYc3Og0VaFCTM6fJ1xg, yBuCBbFXP4p4lXwPg1mLKg, VflY5laxx9PlFR7v8GNoEA, WrTT4lqqOHcMFYHjgBFSdA, ppdWizYp4Rlvu20PTIdwPA, XtquGHUFmVUu3OXUB8Gtgw, jc-UuoobkuYXjKb_Zp1Qfw, gQFxuoXWvEPIakUGPomqYw, xWbw3HMpmMtOCFUNeEnL5Q, 0pFEhpL8NDbzG540-p3cjA, U3pUjfYNZZjmpjVE1tKboA, JaqqF9MPoAFmqxwbH2lkNQ, U9vzPwV9-g2qwH3LDMk3ew, oryuix8iNfXp7O-mv225pA, r4RvHiChaTEtJ3s3QNVIqg, seiYuTlYan31aBOIJ7z35w, 5hBFXfX9qQJFvJ8Fkf0rtQ, A6UFji7zQJe-q-EiZugXUg, 4rbQmwKZ555BxO19BxpNpw, jgDkUAJXUvTFxfBlipDGGg, Z_7o3tSCpYkvbDcPmrcMQw, fJCJoil-iCHi108Mny2Q8g, AJ7OBUjRaf0FZDq7VFxNTA, F4XhdOu8SQZzf3026UfjIg, Qs_MYKfkw4dASKgG7rWeLg, eAYt9b03B3tpz3USTU91yA, QNhglkR-K46hWME--n8lpw, ImB1QxTAz6FC2zpueQkvxA, c1c7Yy-F8RxngG20DlsYqw, ZIcOl9d1KsgfQE9JrUwd2Q, tAR2_h79Gh_XJHFBHXkZtQ, hNlq0BtXl4s_rN-jvKQBOg, bMK6giajaU2RuwCD7XZMYw, cUTAO7xfjpRuOcXefbF2Bw, XXqspxyaoS9b5SZ1se5TDg, gfR80SvOyWL45S8vPMZxNw, _X1reCPOuH-4YooWCxakbw, u6qneG_ib__7CpuL-QaqWQ, 70ne6bmd8xDPXZ_z1LCFgg, BYRWGPZNp0101zWka-GdaA, BfEm-HcWuDtzrnWUXr8zYA, 6JehEvdoCvZPJ_XIxnzIIw, xhNMsatQmQTMd3oIx05u_A, vG70gnNEnRVL2fMBvhhZ0g, m5BQt9HLSvSfFrcfo_VGiw, 3dr-hF1vQaCcqzkmcHRhng, GIDLh4DZk-j0-IfTemev3A, 2nis_qe_sZimmcDmpaSbrA, G9mGw0uCsVD-R_GyAUsw6Q, jh8p26zQ2EsIqJzufnXbQg, dfL7WuNF3HvDH1DV3EAQFw, h3q7CXdmUX5cisXHk3dkHQ, 9kWgStB4Zl9QRQ7rHTkinw, BlCn4HrbQCyR6vJRTT0Z1w, xirjSwnrFjF87rYT97EG4g, aVAdb10QVBGiNadllJYZ0Q, tdCqnYRCX_UCp7w3OQSSHw, R6Q9ciU4VYLuDZDbikxtqA, VS19G7pF6tAjzbYiAAsdGA, WVwznGbyNaIEeWxkI3RetA, X9GEWxw-1H_pGYgL-LjoYg, itG0qs8E0Zvnnr4OiDGFqQ, 1GsJLHGsAJIpbTyRAULt4A, FZTkBavnUWVQRK3ULOxePQ, P9b_KkQVxpToHJfQZ9hGJw, VFowivTCeNz6KoeHjX2MBQ, FmKGPsASJJAYceZPFs1mfA, 1po_dDPQOKC1QzqpagyC7g, E2s0553qA1KOVpLkLOdVVQ, hI7j6i4z3SG6QVh58RccJA, YvIHNmATZ8qWJbNhxXXI9g, VfHM5XFUavrMVqncH43pCQ, 8bo5LnQBHsUh3BaxKrtiKg, 3icymaPm-C6OOTXBMCGhvw, w57Yn8npGhdDHmHFGKk2jA, vbAkd65YSOJOT9DkW_QjrA, XD27p7rbMYfarSR-AZlR8g, M8XMqVEhGPn27e8eDjJsww, rm92EiaA7h5lLbAK5dJKcw, oaWfFptmll-E_BqGL75EwQ, G6DsO7ViO-XX7_xQF4Y3OA, DKFVR3rof_LXMbqO9N4-_Q, bUkj8njB8u7Ja3cXQsipCA, YX7KNp129kR5O0MkIlM3IA, CFT0gDzxPZAiNywAndSHMw, 3_hxOJYB2PqWpcAmvJXjWg, 4bEa92BgIGFASguRckjXIw, 53rq_bTpQOkvpy7VL1MVcA, 6H4Zj-c7FqM9mCsXvwaEQw, EPYNZQFuSKqLi-on3U9dFg, wf_tfgN1eBhKEPxwQWgucg, EEEwjPiLP5eHtDr9iiw_LA, iE8LYUabwsnCd7fTlF9N5Q, D7cfKzVRO3qXWlwKqEJG6A, xHft2o2T2lff2yd0bEQ1vw, -soqdQNpLjb1SzYlXnzKVw, 4qzUlhCihrVWdQAz3CgpPw, 5NrM6LjqJPRYj1zs6xHneA, gLtjfQKhdWQ5wvw8rvVOxg, NZKgAXB3weu9f_DQbiJY7A, wQtaZZ54z-Bfc3HUV0fpFw, MeDuKsZcnI3IU2g7OlV-hQ, YziRZOh5MrqN5b84dQ9AIQ, eAYyPwGQ-Am-sOvCHI8Hqw, teoOS0OUNyvKu65WN_aJhQ, uuiqVVZpI1C88c-1HUvKOA, kdM4zCje91vBR6ZRfQpKmg, MEYWD3nf64p3INCsJ5KOaA, qYIGDVld5kDGmeqbBZ4fmQ'])]"
      ]
     },
     "execution_count": 124,
     "metadata": {},
     "output_type": "execute_result"
    }
   ],
   "source": [
    "links = graph_data.map(lambda x: (parseJSONFriends(x))) \\\n",
    "        .groupByKey() \\\n",
    "        .mapValues(list)\n",
    "links.take(10)"
   ]
  },
  {
   "cell_type": "code",
   "execution_count": null,
   "id": "c95356a3",
   "metadata": {},
   "outputs": [],
   "source": []
  }
 ],
 "metadata": {
  "kernelspec": {
   "display_name": "Python 3",
   "language": "python",
   "name": "python3"
  },
  "language_info": {
   "codemirror_mode": {
    "name": "ipython",
    "version": 3
   },
   "file_extension": ".py",
   "mimetype": "text/x-python",
   "name": "python",
   "nbconvert_exporter": "python",
   "pygments_lexer": "ipython3",
   "version": "3.6.9"
  }
 },
 "nbformat": 4,
 "nbformat_minor": 5
}
