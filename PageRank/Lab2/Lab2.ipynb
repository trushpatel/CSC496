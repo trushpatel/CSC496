{
 "cells": [
  {
   "cell_type": "markdown",
   "id": "897d5503",
   "metadata": {},
   "source": [
    "# Lab 2"
   ]
  },
  {
   "cell_type": "code",
   "execution_count": 1,
   "id": "3c8645c2",
   "metadata": {},
   "outputs": [],
   "source": [
    "import os\n",
    "import sys\n",
    "spark_path = os.environ['SPARK_HOME']\n",
    "sys.path.append(spark_path + \"/bin\")\n",
    "sys.path.append(spark_path + \"/python\")\n",
    "sys.path.append(spark_path + \"/python/pyspark/\")\n",
    "sys.path.append(spark_path + \"/python/lib\")\n",
    "sys.path.append(spark_path + \"/python/lib/pyspark.zip\")\n",
    "sys.path.append(spark_path + \"/python/lib/py4j-0.10.9-src.zip\")\n",
    "\n",
    "import findspark\n",
    "findspark.init()\n",
    "import pyspark"
   ]
  },
  {
   "cell_type": "code",
   "execution_count": null,
   "id": "96adad3f",
   "metadata": {},
   "outputs": [],
   "source": [
    "number_cores = 6\n",
    "memory_gb = 16\n",
    "conf = (pyspark.SparkConf().setMaster('local[{}]'.format(number_cores)).set('spark.driver.memory', '{}g'.format(memory_gb)))\n",
    "sc = pyspark.SparkContext(conf=conf)"
   ]
  },
  {
   "cell_type": "code",
   "execution_count": null,
   "id": "6302f425",
   "metadata": {},
   "outputs": [],
   "source": [
    "!ls /users/trush/CSC496/PageRank/Lab2"
   ]
  },
  {
   "cell_type": "code",
   "execution_count": null,
   "id": "be009215",
   "metadata": {},
   "outputs": [],
   "source": [
    "auth_log = sc.textFile(\"/users/trush/CSC496/PageRank/Lab2/data\")\n",
    "auth_log.take(5)"
   ]
  },
  {
   "cell_type": "markdown",
   "id": "20819762",
   "metadata": {},
   "source": [
    "## 1. How many failed attempts to access the server as root are there? List all countries from which these attempts where carried out."
   ]
  },
  {
   "cell_type": "code",
   "execution_count": null,
   "id": "c4fd3677",
   "metadata": {},
   "outputs": [],
   "source": [
    "# Total failed attempts to login\n",
    "#total_failed_attempts = auth_log.filter(lambda x: \"sshd\" in x)\n",
    "#total_failed_attempts.count()\n",
    "\n",
    "# Number of failed attempts to login as root\n",
    "failed_attempts = auth_log.filter(lambda x: \"root\" in x and \"sshd\" in x)\n",
    "#failed_attempts.take(5)\n",
    "failed_attempts.count()"
   ]
  },
  {
   "cell_type": "code",
   "execution_count": null,
   "id": "3841e0c3",
   "metadata": {},
   "outputs": [],
   "source": [
    "import IP2Location\n",
    "import re\n",
    "\n",
    "database = IP2Location.IP2Location(os.path.join(\"data\", \"/users/trush/CSC496/PageRank/Lab2/IP-COUNTRY.BIN\"))\n",
    "\n",
    "def get_country_name(x):\n",
    "    ip = re.split(pattern=r'(\\d{1,3}\\.\\d{1,3}\\.\\d{1,3}\\.\\d{1,3})', string=x)[1]\n",
    "    rec = database.get_all(x).country_long\n",
    "    #print(type(rec))\n",
    "    return rec\n",
    "\n",
    "#get_country_name('218.92.0.248')"
   ]
  },
  {
   "cell_type": "code",
   "execution_count": null,
   "id": "0611dc95",
   "metadata": {},
   "outputs": [],
   "source": [
    "failed_root_countries = failed_attempts.map(lambda line: get_country_name(line))\n",
    "#failed_root_countries.take(5)\n",
    "failed_root_countries.distinct.collect()"
   ]
  },
  {
   "cell_type": "markdown",
   "id": "1fd56cdf",
   "metadata": {},
   "source": [
    "## 2. How many failed attempts to access the server as non-root users are there? What are the attempted usernames? List all countries from which these attempts where carried out. "
   ]
  },
  {
   "cell_type": "code",
   "execution_count": null,
   "id": "2defbcb4",
   "metadata": {},
   "outputs": [],
   "source": [
    "# Number of failed attempts to login as non-root\n",
    "failed_nonroot = auth_log.filter(lambda x: \"root\" not in x and \"sshd\" in x and \"user unknown\" not in x)\n",
    "#failed_nonroot.take(5)\n",
    "failed_nonroot.count()"
   ]
  },
  {
   "cell_type": "code",
   "execution_count": null,
   "id": "c0b93047",
   "metadata": {},
   "outputs": [],
   "source": [
    "failed_nonroot_countries = failed_attempts_nonroot.map(lambda line: get_country_name(line))\n",
    "#failed_nonroot_countries.take(5)\n",
    "failed_nonroot_countries.distinct().collect()"
   ]
  },
  {
   "cell_type": "code",
   "execution_count": null,
   "id": "7b8f388f",
   "metadata": {},
   "outputs": [],
   "source": [
    "#failed_nonroot_usernames = failed_attempts_nonroot.map(lambda line: re.split(pattern=r'(user )', string=line).rsplit(' from'))\n",
    "#failed_nonroot_usernames.take(5)\n",
    "#failed_nonroot_usernames.distinct().collect()"
   ]
  },
  {
   "cell_type": "markdown",
   "id": "03d385b3",
   "metadata": {},
   "source": [
    "## 3. Through out the durations of the log files, which date has the highest number of attack attempts? Anything interesting about that particular date?"
   ]
  },
  {
   "cell_type": "code",
   "execution_count": null,
   "id": "3079f677",
   "metadata": {},
   "outputs": [],
   "source": [
    "# Something to do with Chinese Labor Day (May 1)\n",
    "dates = auth_log.map(lambda line: (re.split(pattern = r'\\S{3}\\W{1,2}\\D{2}', string=line)[0], 1))\n",
    "dates.take(5)\n",
    "#countsByKey = dates.countByKey()\n",
    "#countsByKey"
   ]
  },
  {
   "cell_type": "code",
   "execution_count": null,
   "id": "ab275b23",
   "metadata": {},
   "outputs": [],
   "source": []
  }
 ],
 "metadata": {
  "kernelspec": {
   "display_name": "Python 3",
   "language": "python",
   "name": "python3"
  },
  "language_info": {
   "codemirror_mode": {
    "name": "ipython",
    "version": 3
   },
   "file_extension": ".py",
   "mimetype": "text/x-python",
   "name": "python",
   "nbconvert_exporter": "python",
   "pygments_lexer": "ipython3",
   "version": "3.6.9"
  }
 },
 "nbformat": 4,
 "nbformat_minor": 5
}
