{
 "cells": [
  {
   "cell_type": "code",
   "execution_count": null,
   "id": "32e150df",
   "metadata": {},
   "outputs": [],
   "source": [
    "import os\n",
    "import sys\n",
    "spark_path = os.environ['SPARK_HOME']\n",
    "sys.path.append(spark_path + \"/bin\")\n",
    "sys.path.append(spark_path + \"/python\")\n",
    "sys.path.append(spark_path + \"/python/pyspark/\")\n",
    "sys.path.append(spark_path + \"/python/lib\")\n",
    "sys.path.append(spark_path + \"/python/lib/pyspark.zip\")\n",
    "sys.path.append(spark_path + \"/python/lib/py4j-0.10.9-src.zip\")\n",
    "\n",
    "import findspark\n",
    "findspark.init()\n",
    "import pyspark"
   ]
  },
  {
   "cell_type": "code",
   "execution_count": null,
   "id": "a09ab199",
   "metadata": {},
   "outputs": [],
   "source": [
    "number_cores = 6\n",
    "memory_gb = 16\n",
    "conf = (pyspark.SparkConf().setMaster('local[{}]'.format(number_cores)).set(\"spark.driver.maxResultSize\", \"5g\"))\n",
    "sc = pyspark.SparkContext(conf=conf)"
   ]
  },
  {
   "cell_type": "code",
   "execution_count": null,
   "id": "4479586a",
   "metadata": {},
   "outputs": [],
   "source": [
    "!dir /users/trush/CSC496/Labs/Lab4"
   ]
  },
  {
   "cell_type": "code",
   "execution_count": null,
   "id": "b46eb221",
   "metadata": {},
   "outputs": [],
   "source": [
    "!ls -lh /users/trush/CSC496/Labs/Lab4/data"
   ]
  },
  {
   "cell_type": "markdown",
   "id": "f80842d3",
   "metadata": {},
   "source": [
    "# 1. Identify 100 users with highest number of ratings/reviews/followers.  You can decide/justify this ranking and decide the importance of ratings/reviews/followers. "
   ]
  },
  {
   "cell_type": "code",
   "execution_count": null,
   "id": "8a2b6e55",
   "metadata": {},
   "outputs": [],
   "source": [
    "# Step 1: Load the data using SQL Context\n",
    "\n",
    "from pyspark.sql import SQLContext\n",
    "sqlContext = SQLContext(sc)"
   ]
  },
  {
   "cell_type": "code",
   "execution_count": null,
   "id": "40631a68",
   "metadata": {},
   "outputs": [],
   "source": [
    "# Get SQL table\n",
    "df_json = sqlContext.read.json(\"/users/trush/CSC496/Labs/Lab4/data/yelp_academic_dataset_user.json.gz\")"
   ]
  },
  {
   "cell_type": "code",
   "execution_count": null,
   "id": "4bc3f806",
   "metadata": {},
   "outputs": [],
   "source": [
    "df_json.printSchema()"
   ]
  },
  {
   "cell_type": "code",
   "execution_count": null,
   "id": "b84cac01",
   "metadata": {},
   "outputs": [],
   "source": [
    "df_json.registerTempTable(\"tbl_json\")"
   ]
  },
  {
   "cell_type": "code",
   "execution_count": null,
   "id": "fc145873",
   "metadata": {},
   "outputs": [],
   "source": [
    "# Using Python\n",
    "import json\n",
    "def parseJSONReviews(x):\n",
    "    res = json.loads(x)\n",
    "    return (res['user_id'], int(res['review_count']), res['fans'])"
   ]
  },
  {
   "cell_type": "code",
   "execution_count": null,
   "id": "3a6cac2c",
   "metadata": {},
   "outputs": [],
   "source": [
    "df_data = sc.textFile(\"/users/trush/CSC496/Labs/Lab4/data/yelp_academic_dataset_user.json.gz\")\n",
    "print(df_data.count())\n",
    "df_data.take(1)"
   ]
  },
  {
   "cell_type": "code",
   "execution_count": null,
   "id": "a0bf7b77",
   "metadata": {},
   "outputs": [],
   "source": [
    "df_highest = df_data.map(lambda x: parseJSONReviews(x)).takeOrdered(100, lambda x: -x[2])\n",
    "df_highest"
   ]
  },
  {
   "cell_type": "code",
   "execution_count": null,
   "id": "bd773d0b",
   "metadata": {},
   "outputs": [],
   "source": [
    "# Using SQL\n",
    "highest_fan = sqlContext.sql(\"SELECT user_id, review_count, fans FROM tbl_json ORDER BY fans DESC LIMIT 100\")"
   ]
  },
  {
   "cell_type": "code",
   "execution_count": null,
   "id": "bd655ec5",
   "metadata": {},
   "outputs": [],
   "source": [
    "highest_fan.show()"
   ]
  },
  {
   "cell_type": "markdown",
   "id": "29cacaf5",
   "metadata": {},
   "source": [
    "# 2. Extract the reviews of these users and combine it with the business information."
   ]
  },
  {
   "cell_type": "markdown",
   "id": "769f5c53",
   "metadata": {},
   "source": [
    "### a. Are they continental, regional, or local eaters?\n",
    "- Look at review data for business data. Look at business data for location.\n",
    "- Variations in latitude and longitude of reviewed businesses (distance between furthest pair of restaurants, cluster into 3)"
   ]
  },
  {
   "cell_type": "markdown",
   "id": "7fe68616",
   "metadata": {},
   "source": [
    "### b. Is there a preference in restaurant/food style of their reviews?\n",
    "- Frequent itemsets\n",
    "    - per user\n",
    "        - set of items: categories\n",
    "        - set of baskets: restaurants"
   ]
  },
  {
   "cell_type": "markdown",
   "id": "9899a645",
   "metadata": {},
   "source": [
    "### c. Can you infer the locations of these users?\n",
    "- Locations of businesses most frequently visited (consider timestamp for users who go on trips to review restaurants)"
   ]
  },
  {
   "cell_type": "markdown",
   "id": "ad2c7c00",
   "metadata": {},
   "source": [
    "#### How to prepare data to answer questions?\n",
    "- List of users with highest fans (user_id, review_count, fans) - local\n",
    "- Map users to reviews"
   ]
  },
  {
   "cell_type": "code",
   "execution_count": null,
   "id": "b00bfab5",
   "metadata": {},
   "outputs": [],
   "source": [
    "#raw_review_df.filter(lambda x: json.loads(x)[\"user_id\"] in df_top_users)"
   ]
  },
  {
   "cell_type": "code",
   "execution_count": null,
   "id": "6422ffce",
   "metadata": {},
   "outputs": [],
   "source": [
    "def extract_id(x):\n",
    "    x_json = json.loads(x)\n",
    "    return (x_json[\"user_id\"])\n",
    "tmp = df_data.take(1)\n",
    "extract_id(tmp[0])"
   ]
  },
  {
   "cell_type": "code",
   "execution_count": null,
   "id": "19832080",
   "metadata": {},
   "outputs": [],
   "source": []
  },
  {
   "cell_type": "markdown",
   "id": "b4d227db",
   "metadata": {},
   "source": [
    "# 3. Identify one of your favorite restaurants that is available on Yelp. Search for all reviews and reviewers for this restaurants.  "
   ]
  },
  {
   "cell_type": "markdown",
   "id": "a3d143ae",
   "metadata": {},
   "source": [
    "### a. Is this restaurant frequented by non-local reviewers (how do you know)?\n",
    "- Coach's"
   ]
  },
  {
   "cell_type": "markdown",
   "id": "8a96da59",
   "metadata": {},
   "source": [
    "### b. What are the positive things about this restaurant (study higher-rated reviews)\n",
    "- sentiment analysis"
   ]
  },
  {
   "cell_type": "markdown",
   "id": "b35c91e5",
   "metadata": {},
   "source": [
    "### c. What are the negative things about this restaurant (study lower-rated reviews)\n",
    "- sentiment analysis"
   ]
  },
  {
   "cell_type": "code",
   "execution_count": null,
   "id": "e5a8d4a7",
   "metadata": {},
   "outputs": [],
   "source": [
    "raw_review_df = sc.textFile(\"/users/trush/CSC496/Labs/Lab4/data/yelp_academic_dataset_review.json.gz\")\n",
    "print(raw_review_df)\n",
    "raw_review_df.take(1)"
   ]
  },
  {
   "cell_type": "code",
   "execution_count": null,
   "id": "e62d6c72",
   "metadata": {},
   "outputs": [],
   "source": [
    "user_reviews = df_user_review.map(lambda x: (x[1], 1))\n",
    "user_reviews.take(10)"
   ]
  },
  {
   "cell_type": "code",
   "execution_count": null,
   "id": "ea0905de",
   "metadata": {},
   "outputs": [],
   "source": [
    "df_user_reviews = raw_review_df.filter(lambda x: json.loads(x)[\"user_id\"] in df_data)\n",
    "print(df_user_reviews.count())\n",
    "df_user_reviews.take(10)"
   ]
  },
  {
   "cell_type": "code",
   "execution_count": null,
   "id": "ef7968cb",
   "metadata": {},
   "outputs": [],
   "source": [
    "df_test = raw_review_df.take(1)\n",
    "json.loads(df_test)[\"user_id\"]"
   ]
  },
  {
   "cell_type": "code",
   "execution_count": null,
   "id": "338a7f8a",
   "metadata": {},
   "outputs": [],
   "source": [
    "sum = 0\n",
    "for item in df_top_users:\n",
    "    sum = sum + int(item[1])\n",
    "sum"
   ]
  }
 ],
 "metadata": {
  "kernelspec": {
   "display_name": "Python 3",
   "language": "python",
   "name": "python3"
  },
  "language_info": {
   "codemirror_mode": {
    "name": "ipython",
    "version": 3
   },
   "file_extension": ".py",
   "mimetype": "text/x-python",
   "name": "python",
   "nbconvert_exporter": "python",
   "pygments_lexer": "ipython3",
   "version": "3.6.9"
  }
 },
 "nbformat": 4,
 "nbformat_minor": 5
}
