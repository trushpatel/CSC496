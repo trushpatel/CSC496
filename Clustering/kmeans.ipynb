{
 "cells": [
  {
   "cell_type": "code",
   "execution_count": null,
   "id": "aaa54a81",
   "metadata": {},
   "outputs": [],
   "source": [
    "import os\n",
    "import sys\n",
    "\n",
    "spark_path = os.environ['SPARK_HOME']\n",
    "sys.path.append(spark_path + \"/bin\")\n",
    "sys.path.append(spark_path + \"/python\")\n",
    "sys.path.append(spark_path + \"/python/pyspark/\")\n",
    "sys.path.append(spark_path + \"/python/lib\")\n",
    "sys.path.append(spark_path + \"/python/lib/pyspark.zip\")\n",
    "sys.path.append(spark_path + \"/python/lib/py4j-0.10.9-src.zip\")\n",
    "\n",
    "import findspark\n",
    "findspark.init()\n",
    "\n",
    "import pyspark"
   ]
  },
  {
   "cell_type": "code",
   "execution_count": null,
   "id": "f4488261",
   "metadata": {},
   "outputs": [],
   "source": [
    "number_cores = 8\n",
    "memory_gb = 8\n",
    "conf = (pyspark.SparkConf().setMaster('local[{}]'.format(number_cores)).set('spark.driver.memory', '{}g'.format(memory_gb)))\n",
    "sc = pyspark.SparkContext(conf=conf)"
   ]
  },
  {
   "cell_type": "code",
   "execution_count": null,
   "id": "a9dbecda",
   "metadata": {},
   "outputs": [],
   "source": [
    "from pyspark.ml.linalg import Vectors\n",
    "data = [(Vectors.dense([0.0, 0.0]), 2.0), (Vectors.dense([1.0, 1.0]), 2.0),\n",
    "        (Vectors.dense([9.0, 8.0]), 2.0), (Vectors.dense([8.0, 9.0]), 2.0)]"
   ]
  },
  {
   "cell_type": "code",
   "execution_count": null,
   "id": "73e26148",
   "metadata": {},
   "outputs": [],
   "source": [
    "from pyspark.sql import SQLContext\n",
    "sqlContext= SQLContext(sc)\n",
    "df = sqlContext.createDataFrame(data, [\"features\", \"weighCol\"])"
   ]
  },
  {
   "cell_type": "code",
   "execution_count": null,
   "id": "20e985cd",
   "metadata": {},
   "outputs": [],
   "source": [
    "from pyspark.ml.clustering import KMeans\n",
    "kmeans = KMeans(k=2)\n",
    "kmeans.setSeed(1)\n",
    "kmeans.setWeightCol(\"weighCol\")\n",
    "kmeans.setMaxIter(10)\n",
    "kmeans.getMaxIter()\n",
    "10"
   ]
  },
  {
   "cell_type": "code",
   "execution_count": null,
   "id": "af079de1",
   "metadata": {},
   "outputs": [],
   "source": [
    "kmeans.clear(kmeans.maxIter)\n",
    "model = kmeans.fit(df)\n",
    "model.getDistanceMeasure()"
   ]
  },
  {
   "cell_type": "code",
   "execution_count": null,
   "id": "400d5007",
   "metadata": {},
   "outputs": [],
   "source": [
    "model.setPredictionCol(\"newPrediction\")\n",
    "model.predict(df.head().features)"
   ]
  },
  {
   "cell_type": "code",
   "execution_count": null,
   "id": "6b45b773",
   "metadata": {},
   "outputs": [],
   "source": [
    "centers = model.clusterCenters()\n",
    "len(centers)"
   ]
  },
  {
   "cell_type": "code",
   "execution_count": null,
   "id": "5ded7def",
   "metadata": {},
   "outputs": [],
   "source": [
    "transformed = model.transform(df).select(\"features\", \"newPrediction\")\n",
    "rows = transformed.collect()\n",
    "rows"
   ]
  },
  {
   "cell_type": "markdown",
   "id": "96b6684e",
   "metadata": {},
   "source": [
    "## Run the model for Bisecting KMeans based on the API"
   ]
  },
  {
   "cell_type": "code",
   "execution_count": null,
   "id": "51801fd1",
   "metadata": {},
   "outputs": [],
   "source": []
  },
  {
   "cell_type": "markdown",
   "id": "d741e8b8",
   "metadata": {},
   "source": [
    "## Reddit Crypto Data\n",
    "\n",
    "- Download the [Reddit Crypto data](https://www.cs.wcupa.edu/lngo/data2/reddit_crypto.zip)\n",
    "- Unzip the crypto data.\n",
    "- Review [the metadata](https://www.kaggle.com/pavellexyr/reddit-cryptocurrency-data-for-august-2021)\n",
    "- Perform a K-mean clustering on the text of posts and comments. Address the followings:\n",
    "  - What data point to remove, what not to remove?\n",
    "  - How to clean up text data?\n",
    "  - How to make the resulting cluster data more meaningful?"
   ]
  },
  {
   "cell_type": "code",
   "execution_count": null,
   "id": "b96da7fa",
   "metadata": {},
   "outputs": [],
   "source": []
  }
 ],
 "metadata": {
  "kernelspec": {
   "display_name": "Python 3",
   "language": "python",
   "name": "python3"
  },
  "language_info": {
   "codemirror_mode": {
    "name": "ipython",
    "version": 3
   },
   "file_extension": ".py",
   "mimetype": "text/x-python",
   "name": "python",
   "nbconvert_exporter": "python",
   "pygments_lexer": "ipython3",
   "version": "3.6.13"
  }
 },
 "nbformat": 4,
 "nbformat_minor": 5
}
