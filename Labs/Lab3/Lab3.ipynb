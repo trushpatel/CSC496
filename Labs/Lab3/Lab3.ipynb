{
 "cells": [
  {
   "cell_type": "code",
   "execution_count": 1,
   "id": "3bc2342e",
   "metadata": {},
   "outputs": [],
   "source": [
    "import os\n",
    "import sys\n",
    "spark_path = os.environ['SPARK_HOME']\n",
    "sys.path.append(spark_path + \"/bin\")\n",
    "sys.path.append(spark_path + \"/python\")\n",
    "sys.path.append(spark_path + \"/python/pyspark/\")\n",
    "sys.path.append(spark_path + \"/python/lib\")\n",
    "sys.path.append(spark_path + \"/python/lib/pyspark.zip\")\n",
    "sys.path.append(spark_path + \"/python/lib/py4j-0.10.9-src.zip\")\n",
    "\n",
    "import findspark\n",
    "findspark.init()\n",
    "import pyspark"
   ]
  },
  {
   "cell_type": "code",
   "execution_count": 2,
   "id": "476af424",
   "metadata": {},
   "outputs": [],
   "source": [
    "number_cores = 6\n",
    "memory_gb = 16\n",
    "conf = (pyspark.SparkConf().setMaster('local[{}]'.format(number_cores)).set('spark.driver.memory', '{}g'.format(memory_gb)))\n",
    "sc = pyspark.SparkContext(conf=conf)"
   ]
  },
  {
   "cell_type": "code",
   "execution_count": 3,
   "id": "3d388d67",
   "metadata": {},
   "outputs": [
    {
     "name": "stdout",
     "output_type": "stream",
     "text": [
      "data  Lab3.ipynb\r\n"
     ]
    }
   ],
   "source": [
    "!dir /users/trush/CSC496/Labs/Lab3"
   ]
  },
  {
   "cell_type": "markdown",
   "id": "94dad922",
   "metadata": {},
   "source": [
    "## How do you parse JSON?"
   ]
  },
  {
   "cell_type": "code",
   "execution_count": 4,
   "id": "fa46dfac",
   "metadata": {},
   "outputs": [
    {
     "data": {
      "text/plain": [
       "'ntlvfPzc8eglqvk92iDIAw'"
      ]
     },
     "execution_count": 4,
     "metadata": {},
     "output_type": "execute_result"
    }
   ],
   "source": [
    "import json\n",
    "\n",
    "def parseJSON(t):\n",
    "    res = json.loads(t)\n",
    "    return res['user_id']\n",
    "\n",
    "test = '{\"user_id\":\"ntlvfPzc8eglqvk92iDIAw\",\"name\":\"Rafael\",\"review_count\":553,\"yelping_since\":\"2007-07-06 03:27:11\",\"useful\":628,\"funny\":225,\"cool\":227,\"elite\":\"\",\"friends\":\"oeMvJh94PiGQnx_6GlndPQ, wm1z1PaJKvHgSDRKfwhfDg, IkRib6Xs91PPW7pon7VVig, A8Aq8f0-XvLBcyMk2GJdJQ, eEZM1kogR7eL4GOBZyPvBA, e1o1LN7ez5ckCpQeAab4iw, _HrJVzFaRFUhPva8cwBjpQ, pZeGZGzX-ROT_D5lam5uNg, 0S6EI51ej5J7dgYz3-O0lA, woDt8raW-AorxQM_tIE2eA, hWUnSE5gKXNe7bDc8uAG9A, c_3LDSO2RHwZ94_Q6j_O7w, -uv1wDiaplY6eXXS0VwQiA, QFjqxXn3acDC7hckFGUKMg, ErOqapICmHPTN8YobZIcfQ, mJLRvqLOKhqEdkgt9iEaCQ, VKX7jlScJSA-ja5hYRw12Q, ijIC9w5PRcj3dWVlanjZeg, CIZGlEw-Bp0rmkP8M6yQ9Q, OC6fT5WZ8EU7tEVJ3bzPBQ, UZSDGTDpycDzrlfUlyw2dQ, deL6e_z9xqZTIODKqnvRXQ, 5mG2ENw2PylIWElqHSMGqg, Uh5Kug2fvDd51RYmsNZkGg, 4dI4uoShugD9z84fYupelQ, EQpFHqGT9Tk6YSwORTtwpg, o4EGL2-ICGmRJzJ3GxB-vw, s8gK7sdVzJcYKcPv2dkZXw, vOYVZgb_GVe-kdtjQwSUHw, wBbjgHsrKr7BsPBrQwJf2w, p59u2EC_qcmCmLeX1jCi5Q, VSAZI1eHDrOPRWMK4Q2DIQ, efMfeI_dkhpeGykaRJqxfQ, x6qYcQ8_i0mMDzSLsFCbZg, K_zSmtNGw1fu-vmxyTVfCQ, 5IM6YPQCK-NABkXmHhlRGQ, U_w8ZMD26vnkeeS1sD7s4Q, AbfS_oXF8H6HJb5jFqhrLw, hbcjX4_D4KIfonNnwrH-cg, UKf66_MPz0zHCP70mF6p1g, hK2gYbxZRTqcqlSiQQcrtQ, 2Q45w_Twx_T9dXqlE16xtQ, BwRn8qcKSeA77HLaOTbfiQ, jouOn4VS_DtFPtMR2w8VDA, ESteyJabbfvqas6CEDs3pQ\",\"fans\":14,\"average_stars\":3.57,\"compliment_hot\":3,\"compliment_more\":2,\"compliment_profile\":1,\"compliment_cute\":0,\"compliment_list\":1,\"compliment_note\":11,\"compliment_plain\":15,\"compliment_cool\":22,\"compliment_funny\":22,\"compliment_writer\":10,\"compliment_photos\":0}'\n",
    "parseJSON(test)"
   ]
  },
  {
   "cell_type": "code",
   "execution_count": 18,
   "id": "cc56544a",
   "metadata": {},
   "outputs": [
    {
     "data": {
      "text/plain": [
       "['{\"user_id\":\"ntlvfPzc8eglqvk92iDIAw\",\"name\":\"Rafael\",\"review_count\":553,\"yelping_since\":\"2007-07-06 03:27:11\",\"useful\":628,\"funny\":225,\"cool\":227,\"elite\":\"\",\"friends\":\"oeMvJh94PiGQnx_6GlndPQ, wm1z1PaJKvHgSDRKfwhfDg, IkRib6Xs91PPW7pon7VVig, A8Aq8f0-XvLBcyMk2GJdJQ, eEZM1kogR7eL4GOBZyPvBA, e1o1LN7ez5ckCpQeAab4iw, _HrJVzFaRFUhPva8cwBjpQ, pZeGZGzX-ROT_D5lam5uNg, 0S6EI51ej5J7dgYz3-O0lA, woDt8raW-AorxQM_tIE2eA, hWUnSE5gKXNe7bDc8uAG9A, c_3LDSO2RHwZ94_Q6j_O7w, -uv1wDiaplY6eXXS0VwQiA, QFjqxXn3acDC7hckFGUKMg, ErOqapICmHPTN8YobZIcfQ, mJLRvqLOKhqEdkgt9iEaCQ, VKX7jlScJSA-ja5hYRw12Q, ijIC9w5PRcj3dWVlanjZeg, CIZGlEw-Bp0rmkP8M6yQ9Q, OC6fT5WZ8EU7tEVJ3bzPBQ, UZSDGTDpycDzrlfUlyw2dQ, deL6e_z9xqZTIODKqnvRXQ, 5mG2ENw2PylIWElqHSMGqg, Uh5Kug2fvDd51RYmsNZkGg, 4dI4uoShugD9z84fYupelQ, EQpFHqGT9Tk6YSwORTtwpg, o4EGL2-ICGmRJzJ3GxB-vw, s8gK7sdVzJcYKcPv2dkZXw, vOYVZgb_GVe-kdtjQwSUHw, wBbjgHsrKr7BsPBrQwJf2w, p59u2EC_qcmCmLeX1jCi5Q, VSAZI1eHDrOPRWMK4Q2DIQ, efMfeI_dkhpeGykaRJqxfQ, x6qYcQ8_i0mMDzSLsFCbZg, K_zSmtNGw1fu-vmxyTVfCQ, 5IM6YPQCK-NABkXmHhlRGQ, U_w8ZMD26vnkeeS1sD7s4Q, AbfS_oXF8H6HJb5jFqhrLw, hbcjX4_D4KIfonNnwrH-cg, UKf66_MPz0zHCP70mF6p1g, hK2gYbxZRTqcqlSiQQcrtQ, 2Q45w_Twx_T9dXqlE16xtQ, BwRn8qcKSeA77HLaOTbfiQ, jouOn4VS_DtFPtMR2w8VDA, ESteyJabbfvqas6CEDs3pQ\",\"fans\":14,\"average_stars\":3.57,\"compliment_hot\":3,\"compliment_more\":2,\"compliment_profile\":1,\"compliment_cute\":0,\"compliment_list\":1,\"compliment_note\":11,\"compliment_plain\":15,\"compliment_cool\":22,\"compliment_funny\":22,\"compliment_writer\":10,\"compliment_photos\":0}',\n",
       " '{\"user_id\":\"FOBRPlBHa3WPHFB5qYDlVg\",\"name\":\"Michelle\",\"review_count\":564,\"yelping_since\":\"2008-04-28 01:29:25\",\"useful\":790,\"funny\":316,\"cool\":400,\"elite\":\"2008,2009,2010,2011,2012,2013\",\"friends\":\"ly7EnE8leJmyqyePVYFlug, pRlR63iDytsnnniPb3AOug, kc-rnN-ndnFTdHG4TfIgeQ, GYndf-h6dAwpGP0lDBz2Wg, FPo3SwQuAK53QVZm_eIyBg, 9fF_T3pQu3ay1oA7h_VYNA, G5T3bd6dUs5zkQ2VMZtRUw, tufuEc5f9TWR05_yko46QQ, 4lMab047cJsEt8puhy8dew, bEbLwLpJauEG-HW0w_0IKw, xz9o3T3uJxyeLZ6Cyb8cFQ, LxBh46T0wO9VlsJUK5q2cw, dUALcXVUTC7NYHuE5GKjtw, LM6pxbcfdyUS8M2jWoQk1g, nQG7XkgrsG4MXXXfexJwAA, 8t6qbx5mNimrLrqs01VIvg, A-pcQqvtlsxd-JgBOIdwHw, 2i2NOMPClqwUA64SkzyIvQ, bnf7t21SCFw3HWfV_soG_Q, b_ED_rPl7OLwEpUlr4VI5A, Avlw4sAK8uGpcQY89Gk0Tg, euxheBcyvFLJqNQSbsFsJQ, 1Ksjxp5WuG2Cni24Ipal6w, nH5NCbQ7eacONPMV8VpdEw, AMqRKxavwt1yTBzlMrG8sQ, f71r-LEp9O8yJu76XhPadQ, cjotiAHFSbFuvbxTWmGi1Q, _KfzNJcprrOQlvoAOawS2Q, PjdEARXumUBwx5zj6jTkng, mGTObjvjjIVy6C3FLNH2pw, wwHxfdwZoGLGmvYznFMvgw, 1hup0FxTWkjNAcVf4Xvj6w, GMzlmv2K6jvLnSQcipGKGA, -zfHj6Ar9FeTAcVyK_xpFA, JyMizIjW3qhGahAYq6CFmQ, czJvKmduyIljcLWfX-9NCw, AIhfuFmX62k7a22gXXAB2Q, 8vU81Y40XNCPykYAfaxyjQ, dsNJ3rcIqO8GETxyQwrL9g, PeLGa5vUR8_mcsn-fn42Jg, Cvvu2V_FO3FjxIHpartSMg, lsSiIjAKVl-QRxKjRErBeg, ITfHnc90OfdNYmin4wDQ1g, DuWB9jtjdfGR3ey9b2GUiA, Jc0T3q_8bOjg9pPlJb3MBQ, jQNE4kG65Pyplz8MiVDJXw, t4uPIUnmF7zdAb6cWT3yTA, RLAR2Vnb2klcb2UsfF6FUQ, v0JtfrbTDNPvSp3rXv8IRg, RvoPAtu1iSSwUfhD3tg1Nw, K68lvhWO_Ln39vdmWns2HA, -fQPzH-e-ubDIiLQhybEjQ, X3S5AhlmLhyiTlaiTF7NyA, n9lFMzaSM30dNHFcl93AJw, NQZDDxDG5_Im6SxYSPcGYA, skzHFVplaHoOinPtymI04w, MpOMfaq4ikuhmFqj2tJx1g, u4NQ1BZ2nXIxRY1gxsPYgw, Y1ICO26IsN7i_1OVD0Inyw, pHqOWnVzU_0JeLPm3wHUbQ, eijfUFNF6flY-cY4Ff6BIA, QJI9OSEn6ujRCtrX06vs1w, 9_ME--bvyZStdz6iwGzMCw, CYQNdjHCL9nedkLMfKLHmg, tTppOboFA2OaNelu3l8-pg, 3lU1iYLNW434mDJ-3dpZ0w, wy4NZPGAonzuz9RzSDtDNA, LGQ7Fu_Ev33lWLtpshou-g, ME6G91A0axSfSYK9YBnWQg, MjGdUi8Yje6x5HhbvwnlDg, gBEihTFxWQ5CzOH1tGjAPw, 4Y0ha2qM31Ea8jZE2hMUKQ, ZnQmJclqMNM1rl2vDFnm5w, BoNlCPHJoYmimuGjpQXWuw, soaCrgXmwdR6SkUZ7Qc3Mg, TE9o4cWvNXg5IYcjAwI5hg, dIIKEfOgo0KqUfGQvGikPg, TVf0-xIHIEsmN2dAKGAIiA, _ey5n3llYV2RfdCDCy6jhw, TUpdK4l8GAWIsdcD8JbkVw, jL2o3huthRW2lo73ezLHdw, RaNkWBMywhBqCZOQWSN_SQ, 9AFhmlMesozq-sq2KFE-gw, ij7kqaoPR_Zwtcrxn11kXQ, dSS5gT5Ajmv-NKoxna4e4w, Ez7OB58ciPCfLVqofd6YQg, VLhnqw7pzxObaQZ4Tpzp9w, v1wa0SP2l6yB11orrh0PEg, DMHPVjHKaUStUBMPH2TjNA, n6hHjOuv8NAWubj0U7LFLA, 6rvdsoYos-0udWV7mcNtOg, u1rtE-FomZXg9vuOVqTCjQ, 0qR6SusZ-m4YVzl3V1UfDA, RZkc9rgACbOsX9mpa2TDXg, eFuUcwjyBgX9vG-i_3hLfQ, Cuk2vdOMwTz71NjBuCF0Mg, zk_mInlLMmLLqMk6IvXm9g, GGWjA8v479feCo6OPTLQOg, FOvWgXp5L23vcx3RNl823A, 94ci59pEqujuw_P1HLW5XQ, ouJuVAEPnnEC_zhcrSf5GA, hxDeqPbPwkKEFXOfK7av9A, x5SbZmP74zu-UMc86YN4XA, ZjDs4lRCaTHugz2EW_nQyA, BECNMzLRiFj3y5k7G4rshA, sDGwhNAQIubV36t_fex6VA, OsElvMpJD17xc3A_nwF5NQ, ns7KN6l_O39R3U3IKfz3mQ, YwT2RxiC4H_8JT_Dkmzb5g, W92S95QwdQERvx7lvxmeKg, HtCPdVujYJAZF4FKr-C9Lg, qzbPv64K36TnRA7Ki7EDaQ, k2aTPsAOfrlFN9LLrWrCLg, UmXzwFM2OkZHWJ5cJZlqkg, UG4EKu13JRwzRix6ESINdg, 6gGRtiXRdUS2PbFlu2QmZQ, krPxbT49l0ffv2S53znp-Q, qLfujrTBF9XXGa9MaNNv4Q, Vz2ouW-nkOuX0Fet7nc_cg, 0XaQ6vvgy5pi5XAaz12mOg, uYy52H-UGQvZ8pXriv2yYw, kJkoabUt9Vpt8FE3NkU08w, nAvWIxkcP39OLMRHtJluTg, UVxY0iyPaqY7s4BSFtt-xA, kGGapvfP1SZH2ZOikdSpNA, ciCuqqFRpSoh8ZZ_a9ELqg, 85k4u8kP9yb8uwKNZ_aWig, Od5HdH_uUvsjGMTgOKiieg, PFyclb0Agx6HmlyMyYqjkA, 0ynxX4zKNh-Y4-NLW4eaGQ, eW97I1zicAT7Qv6j_Ad1wg, 2jBo5YXj6eflYJH-Rle0fw, nMeCE5-xsdleyxYuNZ_7rA, E5bgk6POk8u_EWeCgrlDuA, y3HFVx8nbNmomSc-PWOy-g, qoyf4UgwuF37St-2VdkJZQ, 6bsqA3UTH37wyCOFrt17vQ, Thc2zV-K-KLcvJn3fMPdqQ, v0O7miDEH4XX2diEr7ij2w, 64fujm3m9rYNbCypvHxQGQ, LQALTuDeCRLwR9NOxUWS5A, 4bfqW66F5CFu6Yr_S92EOw, sDX-Wm9s1DeT0aiAxbnugg, dE9YaRaUtkDm-xJrW3BSPg, 7WfLyV9sV-MU7f6k7xgiJA, HuBgs7uHyUz7DzcaScZqjg, MoFiqXxCMV9AiqIg1ymKwA, J6hurmbHzrqxFYL-56YPYA, TN2HEqm1p62d-HNC2zxQ7g, vzw1ZryOiTYGzl8N1yILtw, ZVdHmpsUWMQUfyJsYd5p4g, 4n0eMAeCSvWRl6an5Z8OGg, suF-uONlHQcTlqbXyJ9kgQ, mCwl2apJVmNxH8PqT3ZOOw, sFxvRllDeR5ZLjBhfXOEWw, YjuCEt8TPPDCkmY0LmvLtw, Nd0ocN6CmzrwHf8zeABVsg, GerMhlVWTNkcyI77oQ8Ckw, J9c0XM-wV_KQmtZYxvIFFQ, G6M2NiuST-sK5ZAR4VrfmQ, QVK2aHwCL55_uhq6eBk5rg, cTtDPzQSGHzC7rdOFylU1Q, hRIeyrM1zhL5nhk_cr7yyA, muvrSTpKkOlsdme1AMZ78w, ucAN8VJoiA-_ysMCgZev1w, LOcifzqw4pDMpjaDs5R3oA, 6p1NDChnIpGl29Ce3cMKWg, yjUtVmn9QCgu-p0aG0EhgQ, ottOuy7FZtUV2HnBfhVk0w, G-mWHSm6XVp1oe9PN7NUPg, 61meSfN9Morngpe3a-D-Sw, OGDSD2XeOBBdb1pka5tZVg, yLW8OrR8Ns4X1oXJmkKYgg, Aic2V_XB37mbK6tqzSLuKA, TwPlaNvnziaN2wB3lk_9Mw, qtR8zoqViSlbggc7gaRmvA, RX0GPUmx4wJ8zxP1Mq0tPA, nYryL_iwwwqcYQarn8_lbw, H58nmfUs-Nz_wwcYfWN3Dg, vd0X9jRPbc3-Q0DhZlYTzg, sWt4M6Drth0Lyt4vT8Mo_w, RUMzmM64bNGfKw8Oe_Q8nA, 9kgj54sYGd0qc5emszjpHA, CwMnwuXOV4IBDvDYTAK8Fg, tJN26kuHD2FHpdOCLPJUEQ, CWuZMpIht24ApriIklLKMg, B_taR9fTDA1quy6Lqpt6AA, fG9Bq9aU09w79iLvxXivzw, 9fO8HBgLnMei8zZUz1Ysbg, 7OvtYnfscIWBahX6hL2xkQ, RIq_z44y265BWS8DXDzQqQ, eFbmEFi1-dBlEVrxZCNp_Q, ysDmEwP547KGbzW7h_hlrQ, rMKIHfnjkJlbohF2HExnPA, KKYN4LPphTk-ZBz8YxsDbQ, UNGVRzFrjeilD4d9xEUAjQ, B73Hnya4RxPrQg7CNVAZVQ, g6eN8HGLYDNKqO10FZ4BJw, 1FjbFIhkxgPO35Ak0nozJA, S7d9QLjgw0yt1tWKgoyrKQ, 2r1FTE8e7n9IJznypedWJw, c7pPoQPgSUZERW8XVfV0gQ, ZE3XemEXMfTs-g4Bi71HyA, uJTEn40MZuwQSwziAJxOSg, AGo9oQr6aPCIOskjiTdNNA, O_GWZZfQx7qv-n-CN7hsIA, Ccoapq4XJg78LdyhU4lZng, 4tWyQ6sykZf1qzJydWtgqw, kIpGUhKWzHZHljMbAgnWUA, Ryxj0u0AW3mRsRypdYli2A, Q0St62dXpD3Z_UHvSPcutw, du7qMZ2LGnKI8jtwNaXfzA, QWi-9TOuCN1PMDLzDj1k3Q\",\"fans\":27,\"average_stars\":3.84,\"compliment_hot\":36,\"compliment_more\":4,\"compliment_profile\":5,\"compliment_cute\":2,\"compliment_list\":1,\"compliment_note\":33,\"compliment_plain\":37,\"compliment_cool\":63,\"compliment_funny\":63,\"compliment_writer\":21,\"compliment_photos\":5}',\n",
       " '{\"user_id\":\"zZUnPeh2hEp0WydbAZEOOg\",\"name\":\"Martin\",\"review_count\":60,\"yelping_since\":\"2008-08-28 23:40:05\",\"useful\":151,\"funny\":125,\"cool\":103,\"elite\":\"2010\",\"friends\":\"Uwlk0txjQBPw_JhHsQnyeg, Ybxr1tSCkv3lYA0I1qmnPQ, DNmeLov3wXNxlxjN5feBoQ, x7n69vEsYFh9xnW3D5lPPQ, -AaBjWJYiQxXkCMDlXfPGw, COXnA2hnzFDai3ywx_iM8A, dUFoyswTt5ZQbleF3_4TCg, uj2AWSvsspbrkebc_jqt4w, MWa8PTsb96FQAP4xrrVANg, G2AYDJ-mezLYLciNMcTXjQ, gEO11MjHUlxqM3z5UFO5uw, zHeeVKXN1A86-EMRAgq_Bw, 3Pewj4lcZzlUvhmJGKFpqw, 1HC_-rWi1oaB-N3BjqGKoQ, KavG2RBt77vRLqG1_6RBvQ, 7cmEMOLyD4GS1XbjctJpoQ, ZnxSdo0cVyH4HEdDlwlv-w, RT1w-Z_QCgJACmpOELpPhw, 62V-Kyj1MD0IVGgZYkxy7w, LBEdgyT8eQJqlV0ZWmkAzA, vhnQz6huUOwuu_X7Qjbpcg, x9g-i1DsB-VjSDGVOdRonA, 6sLKnFnV29EXW67d6wABLw, XpRfQFXFPLBxWdMi32_CSw, 2O-ONoy3ddNCfSQ34CFgiA, 93ZaU3GfaXSr-RjabsaQ2Q, _LbK9H21Hm6nx7FzjeGpEg, lkI9-dcDhNloFvI-HM_Jbg, Cvvu2V_FO3FjxIHpartSMg, 2g_7xUuWYKlHGnghJ3Zpjw, jU9aSDYxNIXb7j7oESxe2w, ekGZOsYf7lAOpQlD_j8t5Q, nkN_do3fJ9xekchVC-v68A, KKlGiwN0g8p89eQkMyhvKg, h-sDf97w0r_JDOVUtzLT8Q\",\"fans\":5,\"average_stars\":3.44,\"compliment_hot\":9,\"compliment_more\":6,\"compliment_profile\":0,\"compliment_cute\":1,\"compliment_list\":0,\"compliment_note\":3,\"compliment_plain\":7,\"compliment_cool\":17,\"compliment_funny\":17,\"compliment_writer\":4,\"compliment_photos\":1}',\n",
       " '{\"user_id\":\"QaELAmRcDc5TfJEylaaP8g\",\"name\":\"John\",\"review_count\":206,\"yelping_since\":\"2008-09-20 00:08:14\",\"useful\":233,\"funny\":160,\"cool\":84,\"elite\":\"2009\",\"friends\":\"iog3Nyg1i4jeumiTVG_BSA, M92xWY2Vr9w0xoH8bPplfQ, So46aZ3y7zRl2VmFK35vCQ, vrZmtsiaIZBr42KwAve5qA, SaNDaz5rBQs-5gyhOkO1MA, xTcuKbp7ocDcZDD_bcK9hw, PpzliPkE_fzsI6r15UMZFA, Ygr_c6So7Aba0kDQW01FDQ, RL8CEnHK-FRA7tQd_0q8Sg, xXiVvsK9nnRRCfCMwj85Ag, p21bx7Flt4Svr5TgfMpZ3w, nOdmcHSwcaIMurQphLwD5Q, 8iboMve0kaB1tunZkYENKg, bR0DnaZHT1zZpCWzmLHntA, 36Vr9BASkR2v9NKNoZtiSA, FLjrwZRr6wgZVtIm9dWYEA, YctWPgIfkCyAw4EChKPFqA, UW9DSt9nuTGdKc6oi1R8mg, v9qZhWaRltc0uCzXmGaHmg, aipw_nbOkMRoxJRSpes1cg, 3aAAJqybpkD0pc7WvmY3Rg, EBc59diO4gfwoGR0j0hfWA, kyP4gdfQ-7GZzI5jSWDf4w, UwmtWzBdbi4AAJiuBrXrQA, pZjpnDqiORF1lVqXLnYRyQ, NUTZv6QmHZz6dxnBhLNzEQ, 7Zd4e4JOuqsR29IpojC0kQ, xY-_P4jUJD4zs4agSjWbrg, IyKJLgLAHGXyAc3xgrsCzg, m2R7pydiZ7vezHD-oZt6-g, hizGc5W1tBHPghM5YKCAtg, GbvhM38d3jqb3Iar2MuoJg, E_fl5lyRMMXOZ4jQZNEiTg, 4UfHUgieOvWQo1XGQ5oYFg, ZOPLjrmR1qjc0fk6hFPM5w, mZfae6-3AkHzd_AzSgV6qw, mcG523uA11CIk8OP4ieRGQ, kWZd_XPvezquaZlnR-cGcQ, UOCPrE6sz_dsdACdnkjApA, FEBiHCf5qT69Bo12F0n_og, Vo1zWPMfzT1y0U7wHd4Qbg, wc18MFwqzm75P5JMscAtIg, 9_I0lDod67yMUxFJSyTXgw, ueClFWN0WePrtUSayd2FaA, _3Jmz1ImI4-e1roLYPxDAg, Y0nXlvDrp5u1lIPfobN2Dg, ebYpHPQWSKoxlzCPJFsFjA, 6XiXp88SLli7Ls-rU_rAIA, 04uPXZ-QrZ3boQ2CHPgkNA, tAMMm7RO4xYEyh3YGZyNRg, tpXwIuoClyyAnA63giKT0A, v-pGGrjLlnJPUpblDCAVCQ, pSRS0q6xbWlRYd6HA41h0w, IkEwgKW8Ay3S7AK-3R0PsQ, Thc2zV-K-KLcvJn3fMPdqQ, 5xyUUCEtv0fLEQrmJuZnRA, ZlDSUd9ZnLRxkdpQk6FHHA, 5YaP2AZqZRzYP0taTSCNzQ, dWUpHH4b4cScT2ymMaoEGg, aI8SRtS5igDFHd0ZNo-KMw, CZzdVwvQmewOlwzLyNC1CQ, TFB0TYC5OrdJNjxPB74PCA, 7terxram9WYIdwVCIBkvDQ, mTRMuXEmozVVw0StZDGrPg, CajMs6IdJF6RjGQaBAOILA, tEvOR9v9QANUq8tNpX98aw, 6dVx8ommZz5On09cXFHgyw, blCCwjBjMWbyuopwX9oUDQ, PNa2-EjHe_ApIgZXD6kxBg, JiAyMJrdqZkcul5tRWPByA, tMgH4wDvCXunT8rfC0jvnA, NB1zy90YDtxI5fRUR4vQmg, QMya6jHkwyrwpfgpF1chNA, iAILYmwCQiqpyXQkbMks6w, YRPs1xvjd1aNwHegUbwjQA, CNyitHSWyHFn-lHjJxKaDw, PoKVnj3QpJEQRZDijSAz_Q, xBLGb1lrLwTjWgEYgCeOEQ, X8oFqYnnwbb3fUQBvHzIDg, knBXcAmTwQ6yP9L04dmZjQ, d7iJj0a372sinfbSs_W8BA, QMqSgBqSrlRhz2B0UiORjw, vNNU6htwtCpClw_AZ2gb4w, w2ODFJvfvG6VEA0fpJ7nLw, xksSZOLEs8hyMa2PMs-u8Q, K8rj3ZEPY6CjQWS-uP3K6Q, 4zpUSSpundqCrk8gHONgew, AUP2CmIEdeBqF-47U8ZhIw, Lg7Zfv48MR8IIaoU1tKejg, bGgf84dQurLiTha3ru0QDQ, uIn6NOzyBEeTikigZgxuEw, 720FSwm6M9xRL2eUu3N50Q, kF95hNEblFmCe2B3UJgxjw, ERrOa3Az1ohyL6O-vLqj2A, rLdPfte3FE-HYJ-t6rVdXw, 7LgoIUC3y5GAZAfkG5xtfQ, h5cXTu-93TqCrFnbopkbew, V2JeIFpLdli0khGsfqrCQA, dLrGzLtYgFepEtn_LC-MDg, K27pxNGQWceO7XXBiS4m0w, Iw-UXs0qSKfxfDasEDrDuA, idJ35gltZ90eFFCm2YvtXQ, FQLskXjZ8xUbkWMihFDiyA, xuvLQE19fPrisRrgMRXfQQ, P-AD6uzK8Pg8OqmviAwIMg, Lq9P-y8gWMHYnYnOP7SjSQ, Gj_a4TEQqunhcNxQNal7ug, dkInfCtRcvnqKEEbS1V3_A, v3nHr6tKjYL79gocKwaHCw, ivGkKD0is0F2pBZWAPEaBw, kQTLrAanBX44x2Mfn-I3GQ, V-kZOpiwmqjjWudWApylPA, LGidSe8ghgfdqGsSOXr8tg, GmQPLhAj7NMbhUf766-uiQ, 6LoSM5hgpTdQ07AlSlIe9A, 3g4pfmQWVd6o9mggWw7IiA, nKXMLvWzxW0G58HIEXn3DA, U1CTiAmf7T81PJK4NxngTg, a8UgC5l8juHSqQMIi-o2cA, q3dCZIYhKnCT747C9-Bi4w, yPVa6e52o5Ao5K65D9wsPQ, RgXbXzGEsq5ys0RRm3jfVA, RvFgTBaLmRGClncUPGOS2w, cQIFLm6ws1aH_I-Nt1W54A, b2FQaAkTrmRdbvXpI1x4rg, A_rIi9kLh2aoeBGBNyjtQQ, T4WrL0OkzDtZgx_00v8QxQ, ee--wzykQsIUuC1VAbmmKA, hZm8pEgyJl2L0bn7fykcsg, d2FjqGUNuAiFHcPdd3FuNg, rjxgtBNG-e5FAyD8e57_Rw, 73q_SWtiBzb9u3mLLbksWw, Oi6Z1vBoERUELx7bsvWrAg, d3eP7O8LNLRQOGsCjgmOug, 03qtVp_XohUOnFZGCHTcYQ, CMUXo9oDDAImZwp5kial0w, A-XfojPFGvBkiDIc2IolAA, xYqOJJjSkCL-J0dMBUELZw, 7EBkuytBvApvUhoToVQqnw, BbryXW35KHHIj6KBMcqUAQ, iWHW7iFxQBaonTpC2hTntw, 8mwoQkSMPsaHzX9WQJ05IA, yqnveJlr263GK4vdmLpspw, AW0kk52WgpxovbxjxQ6zSg, 3G5xgbgXuV4GTpko2j17VQ, N2u2LfwhGs4p2LxMn6v5YA, pPqWDTJr-kPAy4TXZebndQ, _5L-ucix72TKWcE6SJ4aBA, YHzZUV_ji6aDBrNEyfbp8g, b2kzQ0OYaGZG4CbpH4Cu_A, -xK4wS_paMlVYn0sD-xu7Q, bb8sDmOeH-foJePyxyKfGQ, t9-7T-ri2741XTn09zt4HA, axdHGMOHNVZULE-Oqw_hGQ, DsiW3YrFsVSOBHzI1UCslw, DNpyA2he-Ql2GPJcwTsECg, t401RQlrFcyb4Z3IJZT1bw, kkDKh7p5IJwJ-8ueKuc6-g, D0YT9WPERx44JGuU96uFnA, XsXNl7-7iG7ziLe7n5JNZg, lMHHHbgt7S1ECx9_RLDYNg, 3RUupRunV6rQGAybGIKANQ, nUUd_oILvvsW0IyY1YMIoQ, fu3cOEyBxxotI7qkiZJjuA, BQofWToAC2ZUrDh6n2x1gQ, mAkgoItGaK_57gdVeP8ICg, Xd7i-elY8qVXX9Bs1gpD8Q, FJ6peuwF0Tha3j_2gHkw4Q, iyQXrxWOINZmfybiVX0k9g, rIikCs8hOhQO7sAXzqAphQ, IEEMCTBnvZRq-Fj7hxq87w, eUy5wXizgMxjZc3JMD2vrA, 0dvTKYj04bCrGg5XRZueOg\",\"fans\":6,\"average_stars\":3.08,\"compliment_hot\":2,\"compliment_more\":1,\"compliment_profile\":0,\"compliment_cute\":0,\"compliment_list\":0,\"compliment_note\":7,\"compliment_plain\":14,\"compliment_cool\":7,\"compliment_funny\":7,\"compliment_writer\":2,\"compliment_photos\":0}']"
      ]
     },
     "execution_count": 18,
     "metadata": {},
     "output_type": "execute_result"
    }
   ],
   "source": [
    "graph_data = sc.textFile(\"/users/trush/CSC496/Labs/Lab3/data/yelp_small.json\")\n",
    "graph_data.take(4)"
   ]
  },
  {
   "cell_type": "markdown",
   "id": "372bb804",
   "metadata": {},
   "source": [
    "## Key points:\n",
    "Always try and make your data smaller. Cache often if possible."
   ]
  },
  {
   "cell_type": "markdown",
   "id": "2a3bd19d",
   "metadata": {},
   "source": [
    "### Hands-on:\n",
    "1. How do you apply pagerank on num_num?\n",
    "2. How do you link the answers back to the actual page of hollies.dat?"
   ]
  },
  {
   "cell_type": "code",
   "execution_count": 6,
   "id": "5b507704",
   "metadata": {},
   "outputs": [],
   "source": [
    "from pyspark.sql import SQLContext\n",
    "sqlContext = SQLContext(sc)"
   ]
  },
  {
   "cell_type": "code",
   "execution_count": 7,
   "id": "709104c4",
   "metadata": {},
   "outputs": [],
   "source": [
    "json_df = sqlContext.read.json(\"/users/trush/CSC496/Labs/Lab3/data/yelp_small.json\")"
   ]
  },
  {
   "cell_type": "code",
   "execution_count": 8,
   "id": "e0f37e72",
   "metadata": {},
   "outputs": [
    {
     "name": "stdout",
     "output_type": "stream",
     "text": [
      "CPU times: user 1.05 ms, sys: 2.39 ms, total: 3.44 ms\n",
      "Wall time: 1.39 s\n"
     ]
    },
    {
     "data": {
      "text/plain": [
       "1000"
      ]
     },
     "execution_count": 8,
     "metadata": {},
     "output_type": "execute_result"
    }
   ],
   "source": [
    "%%time\n",
    "json_df.count()"
   ]
  },
  {
   "cell_type": "code",
   "execution_count": 9,
   "id": "ae288e2d",
   "metadata": {},
   "outputs": [
    {
     "name": "stdout",
     "output_type": "stream",
     "text": [
      "CPU times: user 2.4 ms, sys: 1.33 ms, total: 3.73 ms\n",
      "Wall time: 255 ms\n"
     ]
    },
    {
     "data": {
      "text/plain": [
       "1000"
      ]
     },
     "execution_count": 9,
     "metadata": {},
     "output_type": "execute_result"
    }
   ],
   "source": [
    "%%time\n",
    "json_df.count()"
   ]
  },
  {
   "cell_type": "code",
   "execution_count": 10,
   "id": "e44001b0",
   "metadata": {},
   "outputs": [
    {
     "name": "stdout",
     "output_type": "stream",
     "text": [
      "root\n",
      " |-- average_stars: double (nullable = true)\n",
      " |-- compliment_cool: long (nullable = true)\n",
      " |-- compliment_cute: long (nullable = true)\n",
      " |-- compliment_funny: long (nullable = true)\n",
      " |-- compliment_hot: long (nullable = true)\n",
      " |-- compliment_list: long (nullable = true)\n",
      " |-- compliment_more: long (nullable = true)\n",
      " |-- compliment_note: long (nullable = true)\n",
      " |-- compliment_photos: long (nullable = true)\n",
      " |-- compliment_plain: long (nullable = true)\n",
      " |-- compliment_profile: long (nullable = true)\n",
      " |-- compliment_writer: long (nullable = true)\n",
      " |-- cool: long (nullable = true)\n",
      " |-- elite: string (nullable = true)\n",
      " |-- fans: long (nullable = true)\n",
      " |-- friends: string (nullable = true)\n",
      " |-- funny: long (nullable = true)\n",
      " |-- name: string (nullable = true)\n",
      " |-- review_count: long (nullable = true)\n",
      " |-- useful: long (nullable = true)\n",
      " |-- user_id: string (nullable = true)\n",
      " |-- yelping_since: string (nullable = true)\n",
      "\n"
     ]
    }
   ],
   "source": [
    "json_df.printSchema()"
   ]
  },
  {
   "cell_type": "code",
   "execution_count": 11,
   "id": "4e00ba59",
   "metadata": {},
   "outputs": [],
   "source": [
    "json_df.registerTempTable(\"tbl_json\")"
   ]
  },
  {
   "cell_type": "markdown",
   "id": "0437ba11",
   "metadata": {},
   "source": [
    "## 1. How many unique users are there in the dataset?"
   ]
  },
  {
   "cell_type": "code",
   "execution_count": 12,
   "id": "ea7168b3",
   "metadata": {},
   "outputs": [],
   "source": [
    "# map with just user_id .distinct().count()"
   ]
  },
  {
   "cell_type": "markdown",
   "id": "f4fad9c7",
   "metadata": {},
   "source": [
    "## 2. Identify the user(s) with the highest number of reviews. What is(are) the average/median review scores for these user(s)?"
   ]
  },
  {
   "cell_type": "code",
   "execution_count": 13,
   "id": "fa039a75",
   "metadata": {},
   "outputs": [],
   "source": [
    "# map with user_id and review_count"
   ]
  },
  {
   "cell_type": "markdown",
   "id": "62f60d73",
   "metadata": {},
   "source": [
    "## 3. Identify several (two or more) interesting user attributes and think of and carry out one interesting analysis. Interesting is relative, and you should use Markdown cell to describe why/how these are interesting!"
   ]
  },
  {
   "cell_type": "code",
   "execution_count": 14,
   "id": "0dd5b2a6",
   "metadata": {},
   "outputs": [],
   "source": [
    "# friends, fans, elite"
   ]
  },
  {
   "cell_type": "markdown",
   "id": "56ba2223",
   "metadata": {},
   "source": [
    "## 4. Identify the top-ten most influential users from the Yelp dataset. Justify the attribute(s) that you pick to measure the level of influence!  "
   ]
  },
  {
   "cell_type": "code",
   "execution_count": 16,
   "id": "4923a5fc",
   "metadata": {},
   "outputs": [],
   "source": [
    "# PageRank"
   ]
  }
 ],
 "metadata": {
  "kernelspec": {
   "display_name": "Python 3",
   "language": "python",
   "name": "python3"
  },
  "language_info": {
   "codemirror_mode": {
    "name": "ipython",
    "version": 3
   },
   "file_extension": ".py",
   "mimetype": "text/x-python",
   "name": "python",
   "nbconvert_exporter": "python",
   "pygments_lexer": "ipython3",
   "version": "3.6.9"
  }
 },
 "nbformat": 4,
 "nbformat_minor": 5
}
