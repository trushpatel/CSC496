{
 "cells": [
  {
   "cell_type": "code",
   "execution_count": 1,
   "id": "aaa54a81",
   "metadata": {},
   "outputs": [],
   "source": [
    "import os\n",
    "import sys\n",
    "\n",
    "spark_path = os.environ['SPARK_HOME']\n",
    "sys.path.append(spark_path + \"/bin\")\n",
    "sys.path.append(spark_path + \"/python\")\n",
    "sys.path.append(spark_path + \"/python/pyspark/\")\n",
    "sys.path.append(spark_path + \"/python/lib\")\n",
    "sys.path.append(spark_path + \"/python/lib/pyspark.zip\")\n",
    "sys.path.append(spark_path + \"/python/lib/py4j-0.10.9-src.zip\")\n",
    "\n",
    "import findspark\n",
    "findspark.init()\n",
    "\n",
    "import pyspark"
   ]
  },
  {
   "cell_type": "code",
   "execution_count": 2,
   "id": "f4488261",
   "metadata": {},
   "outputs": [],
   "source": [
    "number_cores = 8\n",
    "memory_gb = 8\n",
    "conf = (pyspark.SparkConf().setMaster('local[{}]'.format(number_cores)).set('spark.driver.memory', '{}g'.format(memory_gb)))\n",
    "sc = pyspark.SparkContext(conf=conf)"
   ]
  },
  {
   "cell_type": "code",
   "execution_count": 3,
   "id": "a9dbecda",
   "metadata": {},
   "outputs": [],
   "source": [
    "from pyspark.ml.linalg import Vectors\n",
    "data = [(Vectors.dense([0.0, 0.0]), 2.0),\n",
    "        (Vectors.dense([1.0, 1.0]), 1.0),\n",
    "        (Vectors.dense([9.0, 8.0]), 2.0),\n",
    "        (Vectors.dense([8.0, 9.0]), 2.0)]"
   ]
  },
  {
   "cell_type": "code",
   "execution_count": 4,
   "id": "73e26148",
   "metadata": {},
   "outputs": [],
   "source": [
    "from pyspark.sql import SQLContext\n",
    "sqlContext= SQLContext(sc)\n",
    "df = sqlContext.createDataFrame(data, [\"features\", \"weighCol\"])"
   ]
  },
  {
   "cell_type": "code",
   "execution_count": 5,
   "id": "20e985cd",
   "metadata": {},
   "outputs": [
    {
     "data": {
      "text/plain": [
       "10"
      ]
     },
     "execution_count": 5,
     "metadata": {},
     "output_type": "execute_result"
    }
   ],
   "source": [
    "from pyspark.ml.clustering import KMeans\n",
    "kmeans = KMeans(k=2)\n",
    "kmeans.setSeed(1)\n",
    "kmeans.setWeightCol(\"weighCol\")\n",
    "kmeans.setMaxIter(10)\n",
    "kmeans.getMaxIter()\n",
    "10"
   ]
  },
  {
   "cell_type": "code",
   "execution_count": 6,
   "id": "af079de1",
   "metadata": {},
   "outputs": [
    {
     "data": {
      "text/plain": [
       "'euclidean'"
      ]
     },
     "execution_count": 6,
     "metadata": {},
     "output_type": "execute_result"
    }
   ],
   "source": [
    "kmeans.clear(kmeans.maxIter)\n",
    "model = kmeans.fit(df)\n",
    "model.getDistanceMeasure()"
   ]
  },
  {
   "cell_type": "code",
   "execution_count": 7,
   "id": "400d5007",
   "metadata": {},
   "outputs": [
    {
     "data": {
      "text/plain": [
       "0"
      ]
     },
     "execution_count": 7,
     "metadata": {},
     "output_type": "execute_result"
    }
   ],
   "source": [
    "model.setPredictionCol(\"newPrediction\")\n",
    "model.predict(df.head().features)"
   ]
  },
  {
   "cell_type": "code",
   "execution_count": 8,
   "id": "6b45b773",
   "metadata": {},
   "outputs": [
    {
     "data": {
      "text/plain": [
       "2"
      ]
     },
     "execution_count": 8,
     "metadata": {},
     "output_type": "execute_result"
    }
   ],
   "source": [
    "centers = model.clusterCenters()\n",
    "len(centers)"
   ]
  },
  {
   "cell_type": "code",
   "execution_count": 9,
   "id": "5ded7def",
   "metadata": {},
   "outputs": [
    {
     "data": {
      "text/plain": [
       "[Row(features=DenseVector([0.0, 0.0]), newPrediction=0),\n",
       " Row(features=DenseVector([1.0, 1.0]), newPrediction=0),\n",
       " Row(features=DenseVector([9.0, 8.0]), newPrediction=1),\n",
       " Row(features=DenseVector([8.0, 9.0]), newPrediction=1)]"
      ]
     },
     "execution_count": 9,
     "metadata": {},
     "output_type": "execute_result"
    }
   ],
   "source": [
    "transformed = model.transform(df).select(\"features\", \"newPrediction\")\n",
    "rows = transformed.collect()\n",
    "rows"
   ]
  },
  {
   "cell_type": "markdown",
   "id": "96b6684e",
   "metadata": {},
   "source": [
    "## Run the model for Bisecting KMeans based on the API"
   ]
  },
  {
   "cell_type": "code",
   "execution_count": 11,
   "id": "51801fd1",
   "metadata": {},
   "outputs": [],
   "source": [
    "#data = [(Vectors.dense([0.0, 0.0]), 2.0), (Vectors.dense([1.0, 1.0]), 2.0),\n",
    "#        (Vectors.dense([9.0, 8.0]), 2.0), (Vectors.dense([8.0, 9.0]), 2.0)]"
   ]
  },
  {
   "cell_type": "code",
   "execution_count": 12,
   "id": "8eba88fe",
   "metadata": {},
   "outputs": [],
   "source": [
    "#df = sqlContext.createDataFrame(data, [\"features\", \"weighCol\"])"
   ]
  },
  {
   "cell_type": "code",
   "execution_count": 13,
   "id": "d9adde79",
   "metadata": {},
   "outputs": [],
   "source": [
    "#bkm = BisectingKMeans(k=2, minDivisibleClusterSize=1.0)"
   ]
  },
  {
   "cell_type": "code",
   "execution_count": 14,
   "id": "a1f19796",
   "metadata": {},
   "outputs": [],
   "source": [
    "#bkm.setMaxIter(10)"
   ]
  },
  {
   "cell_type": "code",
   "execution_count": 15,
   "id": "1882cfb2",
   "metadata": {},
   "outputs": [],
   "source": [
    "#bkm.getMaxIter()"
   ]
  },
  {
   "cell_type": "code",
   "execution_count": 16,
   "id": "4a21440a",
   "metadata": {},
   "outputs": [],
   "source": [
    "#bkm.clear(bkm.maxIter)"
   ]
  },
  {
   "cell_type": "code",
   "execution_count": 17,
   "id": "ad84288d",
   "metadata": {},
   "outputs": [],
   "source": [
    "#bkm.setSeed(1)"
   ]
  },
  {
   "cell_type": "code",
   "execution_count": 18,
   "id": "4b2b9af2",
   "metadata": {},
   "outputs": [],
   "source": [
    "#bkm.setWeightCol(\"weighCol\")"
   ]
  },
  {
   "cell_type": "code",
   "execution_count": 19,
   "id": "73c44475",
   "metadata": {},
   "outputs": [],
   "source": [
    "#bkm.getSeed()"
   ]
  },
  {
   "cell_type": "code",
   "execution_count": 20,
   "id": "e07d3933",
   "metadata": {},
   "outputs": [],
   "source": [
    "#bkm.clear(bkm.seed)"
   ]
  },
  {
   "cell_type": "code",
   "execution_count": 21,
   "id": "cf810954",
   "metadata": {},
   "outputs": [],
   "source": [
    "#model = bkm.fit(df)"
   ]
  },
  {
   "cell_type": "code",
   "execution_count": 22,
   "id": "d2fbf165",
   "metadata": {},
   "outputs": [],
   "source": [
    "#model.getMaxIter()"
   ]
  },
  {
   "cell_type": "code",
   "execution_count": 23,
   "id": "94bb8601",
   "metadata": {},
   "outputs": [],
   "source": [
    "#model.setPredictionCol(\"newPrediction\")"
   ]
  },
  {
   "cell_type": "code",
   "execution_count": 24,
   "id": "6dc26241",
   "metadata": {},
   "outputs": [],
   "source": [
    "#model.predict(df.head().features)"
   ]
  },
  {
   "cell_type": "code",
   "execution_count": 25,
   "id": "7c29d8ea",
   "metadata": {},
   "outputs": [],
   "source": [
    "#centers = model.clusterCenters()"
   ]
  },
  {
   "cell_type": "code",
   "execution_count": 26,
   "id": "2133028d",
   "metadata": {},
   "outputs": [],
   "source": [
    "#len(centers)"
   ]
  },
  {
   "cell_type": "code",
   "execution_count": 27,
   "id": "4c7a9f4d",
   "metadata": {},
   "outputs": [],
   "source": [
    "#model.computeCost(df)"
   ]
  },
  {
   "cell_type": "code",
   "execution_count": 28,
   "id": "aba0a2e6",
   "metadata": {},
   "outputs": [],
   "source": [
    "#model.hasSummary"
   ]
  },
  {
   "cell_type": "code",
   "execution_count": 29,
   "id": "788e1546",
   "metadata": {},
   "outputs": [],
   "source": [
    "#summary = model.summary"
   ]
  },
  {
   "cell_type": "code",
   "execution_count": 30,
   "id": "b1ffaaea",
   "metadata": {},
   "outputs": [],
   "source": [
    "#summary.k"
   ]
  },
  {
   "cell_type": "code",
   "execution_count": 31,
   "id": "fee7b36c",
   "metadata": {},
   "outputs": [],
   "source": [
    "#summary.clusterSizes"
   ]
  },
  {
   "cell_type": "code",
   "execution_count": 32,
   "id": "e54e9806",
   "metadata": {},
   "outputs": [],
   "source": [
    "#summary.trainingCost"
   ]
  },
  {
   "cell_type": "code",
   "execution_count": 33,
   "id": "b38cdbc6",
   "metadata": {},
   "outputs": [],
   "source": [
    "#transformed = model.transform(df).select(\"features\", \"newPrediction\")"
   ]
  },
  {
   "cell_type": "code",
   "execution_count": 34,
   "id": "351c3cee",
   "metadata": {},
   "outputs": [],
   "source": [
    "#rows = transformed.collect()"
   ]
  },
  {
   "cell_type": "code",
   "execution_count": 35,
   "id": "c72e46ca",
   "metadata": {},
   "outputs": [],
   "source": [
    "#rows[0].newPrediction == rows[1].newPrediction"
   ]
  },
  {
   "cell_type": "code",
   "execution_count": 36,
   "id": "aa2b09fd",
   "metadata": {},
   "outputs": [],
   "source": [
    "#rows[2].newPrediction == rows[3].newPrediction"
   ]
  },
  {
   "cell_type": "code",
   "execution_count": 37,
   "id": "647e7344",
   "metadata": {},
   "outputs": [],
   "source": [
    "#bkm_path = temp_path + \"/bkm\""
   ]
  },
  {
   "cell_type": "code",
   "execution_count": 38,
   "id": "3d6cec96",
   "metadata": {},
   "outputs": [],
   "source": [
    "#bkm.save(bkm_path)"
   ]
  },
  {
   "cell_type": "code",
   "execution_count": 39,
   "id": "c911e8db",
   "metadata": {},
   "outputs": [],
   "source": [
    "#bkm2 = BisectingKMeans.load(bkm_path)"
   ]
  },
  {
   "cell_type": "code",
   "execution_count": 40,
   "id": "82fa949c",
   "metadata": {},
   "outputs": [],
   "source": [
    "#bkm2.getK()"
   ]
  },
  {
   "cell_type": "code",
   "execution_count": 41,
   "id": "b4f2b9b3",
   "metadata": {},
   "outputs": [],
   "source": [
    "#bkm2.getDistanceMeasure()"
   ]
  },
  {
   "cell_type": "code",
   "execution_count": 42,
   "id": "3f094138",
   "metadata": {},
   "outputs": [],
   "source": [
    "#model_path = temp_path + \"/bkm_model\""
   ]
  },
  {
   "cell_type": "code",
   "execution_count": 43,
   "id": "f0f51d5a",
   "metadata": {},
   "outputs": [],
   "source": [
    "#model.save(model_path)"
   ]
  },
  {
   "cell_type": "code",
   "execution_count": 44,
   "id": "bf12ffb8",
   "metadata": {},
   "outputs": [],
   "source": [
    "#model2 = BisectingKMeansModel.load(model_path)"
   ]
  },
  {
   "cell_type": "code",
   "execution_count": 45,
   "id": "92e97e16",
   "metadata": {},
   "outputs": [],
   "source": [
    "#model2.hasSummary"
   ]
  },
  {
   "cell_type": "code",
   "execution_count": 46,
   "id": "d6c74292",
   "metadata": {},
   "outputs": [],
   "source": [
    "#model.clusterCenters()[0] == model2.clusterCenters()[0]"
   ]
  },
  {
   "cell_type": "code",
   "execution_count": 47,
   "id": "e03563c0",
   "metadata": {},
   "outputs": [],
   "source": [
    "#model.clusterCenters()[1] == model2.clusterCenters()[1]"
   ]
  },
  {
   "cell_type": "code",
   "execution_count": 48,
   "id": "9f3e2329",
   "metadata": {},
   "outputs": [],
   "source": [
    "#model.transform(df).take(1) == model2.transform(df).take(1)"
   ]
  },
  {
   "cell_type": "markdown",
   "id": "d741e8b8",
   "metadata": {},
   "source": [
    "## Reddit Crypto Data\n",
    "\n",
    "- Download the [Reddit Crypto data](https://www.cs.wcupa.edu/lngo/data2/reddit_crypto.zip)\n",
    "- Unzip the crypto data.\n",
    "- Review [the metadata](https://www.kaggle.com/pavellexyr/reddit-cryptocurrency-data-for-august-2021)\n",
    "- Perform a K-mean clustering on the text of posts and comments. Address the followings:\n",
    "  - What data point to remove, what not to remove?\n",
    "  - How to clean up text data?\n",
    "  - How to make the resulting cluster data more meaningful?"
   ]
  },
  {
   "cell_type": "code",
   "execution_count": 49,
   "id": "f28ce72b",
   "metadata": {},
   "outputs": [],
   "source": [
    "#spark = pyspark.sql.SparkSession(sc)\n",
    "#df_posts = spark.read.csv(\"/users/trush/CSC496/Clustering/data/crypto-aug-2021-comments.csv\", header=True, inferSchema=True)"
   ]
  },
  {
   "cell_type": "code",
   "execution_count": 50,
   "id": "b96da7fa",
   "metadata": {},
   "outputs": [
    {
     "name": "stdout",
     "output_type": "stream",
     "text": [
      "root\n",
      " |-- type: string (nullable = true)\n",
      " |-- id: string (nullable = true)\n",
      " |-- subreddit.id: string (nullable = true)\n",
      " |-- subreddit.name: string (nullable = true)\n",
      " |-- subreddit.nsfw: string (nullable = true)\n",
      " |-- created_utc: string (nullable = true)\n",
      " |-- permalink: string (nullable = true)\n",
      " |-- body: string (nullable = true)\n",
      " |-- sentiment: string (nullable = true)\n",
      " |-- score: string (nullable = true)\n",
      "\n"
     ]
    }
   ],
   "source": [
    "#df_posts.printSchema()"
   ]
  },
  {
   "cell_type": "code",
   "execution_count": 52,
   "id": "d782edd8",
   "metadata": {},
   "outputs": [
    {
     "data": {
      "text/plain": [
       "[Row(type='comment', id='hb4hdni', subreddit.id='9e4pv', subreddit.name='cryptomoonshots', subreddit.nsfw='false', created_utc='1630454394', permalink='https://old.reddit.com/r/CryptoMoonShots/comments/pfi1nw/next_generation_safe_token_with_cake_rewards_meth/hb4hdni/', body='Be sure to do your own diligence. Assume that every project posted is a scam/rug/honeypot until proven otherwise. Use tools such as http://www.bscheck.eu/ and https://tokensniffer.com to help you determine if this project is legitimate, but do not solely rely on these tools. Be sure to read comments, particularly those who are downvoted, and warn your fellow redditors against scams. Feel free to join in on our newly made Telegram at https://t.me/CryptoMoonShots to discover and submit projects as well.', sentiment=None, score=None)]"
      ]
     },
     "execution_count": 52,
     "metadata": {},
     "output_type": "execute_result"
    }
   ],
   "source": [
    "#df_posts.take(1)"
   ]
  },
  {
   "cell_type": "code",
   "execution_count": 1,
   "id": "e4f750c9",
   "metadata": {},
   "outputs": [
    {
     "ename": "NameError",
     "evalue": "name 'sc' is not defined",
     "output_type": "error",
     "traceback": [
      "\u001b[0;31m---------------------------------------------------------------------------\u001b[0m",
      "\u001b[0;31mNameError\u001b[0m                                 Traceback (most recent call last)",
      "\u001b[0;32m<ipython-input-1-6e5aece76852>\u001b[0m in \u001b[0;36m<module>\u001b[0;34m\u001b[0m\n\u001b[0;32m----> 1\u001b[0;31m \u001b[0mdf_posts\u001b[0m \u001b[0;34m=\u001b[0m \u001b[0msc\u001b[0m\u001b[0;34m.\u001b[0m\u001b[0mTextFile\u001b[0m\u001b[0;34m(\u001b[0m\u001b[0;34m\"/users/trush/CSC496/Clustering/data/crypto-aug-2021-comments.csv\"\u001b[0m\u001b[0;34m)\u001b[0m\u001b[0;34m.\u001b[0m\u001b[0mcache\u001b[0m\u001b[0;34m(\u001b[0m\u001b[0;34m)\u001b[0m\u001b[0;34m\u001b[0m\u001b[0;34m\u001b[0m\u001b[0m\n\u001b[0m\u001b[1;32m      2\u001b[0m \u001b[0mdf_posts\u001b[0m\u001b[0;34m.\u001b[0m\u001b[0mcount\u001b[0m\u001b[0;34m(\u001b[0m\u001b[0;34m)\u001b[0m\u001b[0;34m\u001b[0m\u001b[0;34m\u001b[0m\u001b[0m\n",
      "\u001b[0;31mNameError\u001b[0m: name 'sc' is not defined"
     ]
    }
   ],
   "source": [
    "df_posts = sc.TextFile(\"/users/trush/CSC496/Clustering/data/crypto-aug-2021-comments.csv\").cache()\n",
    "df_posts.count()"
   ]
  },
  {
   "cell_type": "code",
   "execution_count": null,
   "id": "4eed7a9b",
   "metadata": {},
   "outputs": [],
   "source": [
    "df_posts.take(5)"
   ]
  }
 ],
 "metadata": {
  "kernelspec": {
   "display_name": "Python 3",
   "language": "python",
   "name": "python3"
  },
  "language_info": {
   "codemirror_mode": {
    "name": "ipython",
    "version": 3
   },
   "file_extension": ".py",
   "mimetype": "text/x-python",
   "name": "python",
   "nbconvert_exporter": "python",
   "pygments_lexer": "ipython3",
   "version": "3.6.9"
  }
 },
 "nbformat": 4,
 "nbformat_minor": 5
}
