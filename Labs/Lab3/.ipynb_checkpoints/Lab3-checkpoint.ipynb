{
 "cells": [
  {
   "cell_type": "code",
   "execution_count": 1,
   "id": "3bc2342e",
   "metadata": {},
   "outputs": [],
   "source": [
    "import os\n",
    "import sys\n",
    "spark_path = os.environ['SPARK_HOME']\n",
    "sys.path.append(spark_path + \"/bin\")\n",
    "sys.path.append(spark_path + \"/python\")\n",
    "sys.path.append(spark_path + \"/python/pyspark/\")\n",
    "sys.path.append(spark_path + \"/python/lib\")\n",
    "sys.path.append(spark_path + \"/python/lib/pyspark.zip\")\n",
    "sys.path.append(spark_path + \"/python/lib/py4j-0.10.9-src.zip\")\n",
    "\n",
    "import findspark\n",
    "findspark.init()\n",
    "import pyspark"
   ]
  },
  {
   "cell_type": "code",
   "execution_count": 2,
   "id": "476af424",
   "metadata": {},
   "outputs": [],
   "source": [
    "number_cores = 6\n",
    "memory_gb = 16\n",
    "conf = (pyspark.SparkConf().setMaster('local[{}]'.format(number_cores)).set('spark.driver.memory', '{}g'.format(memory_gb)))\n",
    "sc = pyspark.SparkContext(conf=conf)"
   ]
  },
  {
   "cell_type": "code",
   "execution_count": 3,
   "id": "3d388d67",
   "metadata": {},
   "outputs": [
    {
     "name": "stdout",
     "output_type": "stream",
     "text": [
      "data  Lab3.ipynb\r\n"
     ]
    }
   ],
   "source": [
    "!dir /users/trush/CSC496/Labs/Lab3"
   ]
  },
  {
   "cell_type": "markdown",
   "id": "94dad922",
   "metadata": {},
   "source": [
    "## How do you parse JSON?"
   ]
  },
  {
   "cell_type": "code",
   "execution_count": 36,
   "id": "fa46dfac",
   "metadata": {},
   "outputs": [
    {
     "data": {
      "text/plain": [
       "{'user_id': 'ntlvfPzc8eglqvk92iDIAw',\n",
       " 'name': 'Rafael',\n",
       " 'review_count': 553,\n",
       " 'yelping_since': '2007-07-06 03:27:11',\n",
       " 'useful': 628,\n",
       " 'funny': 225,\n",
       " 'cool': 227,\n",
       " 'elite': '',\n",
       " 'friends': 'oeMvJh94PiGQnx_6GlndPQ, wm1z1PaJKvHgSDRKfwhfDg, IkRib6Xs91PPW7pon7VVig, A8Aq8f0-XvLBcyMk2GJdJQ, eEZM1kogR7eL4GOBZyPvBA, e1o1LN7ez5ckCpQeAab4iw, _HrJVzFaRFUhPva8cwBjpQ, pZeGZGzX-ROT_D5lam5uNg, 0S6EI51ej5J7dgYz3-O0lA, woDt8raW-AorxQM_tIE2eA, hWUnSE5gKXNe7bDc8uAG9A, c_3LDSO2RHwZ94_Q6j_O7w, -uv1wDiaplY6eXXS0VwQiA, QFjqxXn3acDC7hckFGUKMg, ErOqapICmHPTN8YobZIcfQ, mJLRvqLOKhqEdkgt9iEaCQ, VKX7jlScJSA-ja5hYRw12Q, ijIC9w5PRcj3dWVlanjZeg, CIZGlEw-Bp0rmkP8M6yQ9Q, OC6fT5WZ8EU7tEVJ3bzPBQ, UZSDGTDpycDzrlfUlyw2dQ, deL6e_z9xqZTIODKqnvRXQ, 5mG2ENw2PylIWElqHSMGqg, Uh5Kug2fvDd51RYmsNZkGg, 4dI4uoShugD9z84fYupelQ, EQpFHqGT9Tk6YSwORTtwpg, o4EGL2-ICGmRJzJ3GxB-vw, s8gK7sdVzJcYKcPv2dkZXw, vOYVZgb_GVe-kdtjQwSUHw, wBbjgHsrKr7BsPBrQwJf2w, p59u2EC_qcmCmLeX1jCi5Q, VSAZI1eHDrOPRWMK4Q2DIQ, efMfeI_dkhpeGykaRJqxfQ, x6qYcQ8_i0mMDzSLsFCbZg, K_zSmtNGw1fu-vmxyTVfCQ, 5IM6YPQCK-NABkXmHhlRGQ, U_w8ZMD26vnkeeS1sD7s4Q, AbfS_oXF8H6HJb5jFqhrLw, hbcjX4_D4KIfonNnwrH-cg, UKf66_MPz0zHCP70mF6p1g, hK2gYbxZRTqcqlSiQQcrtQ, 2Q45w_Twx_T9dXqlE16xtQ, BwRn8qcKSeA77HLaOTbfiQ, jouOn4VS_DtFPtMR2w8VDA, ESteyJabbfvqas6CEDs3pQ',\n",
       " 'fans': 14,\n",
       " 'average_stars': 3.57,\n",
       " 'compliment_hot': 3,\n",
       " 'compliment_more': 2,\n",
       " 'compliment_profile': 1,\n",
       " 'compliment_cute': 0,\n",
       " 'compliment_list': 1,\n",
       " 'compliment_note': 11,\n",
       " 'compliment_plain': 15,\n",
       " 'compliment_cool': 22,\n",
       " 'compliment_funny': 22,\n",
       " 'compliment_writer': 10,\n",
       " 'compliment_photos': 0}"
      ]
     },
     "execution_count": 36,
     "metadata": {},
     "output_type": "execute_result"
    }
   ],
   "source": [
    "import json\n",
    "\n",
    "def parseJSON(t):\n",
    "    res = json.loads(t)\n",
    "    return res\n",
    "\n",
    "test = '{\"user_id\":\"ntlvfPzc8eglqvk92iDIAw\",\"name\":\"Rafael\",\"review_count\":553,\"yelping_since\":\"2007-07-06 03:27:11\",\"useful\":628,\"funny\":225,\"cool\":227,\"elite\":\"\",\"friends\":\"oeMvJh94PiGQnx_6GlndPQ, wm1z1PaJKvHgSDRKfwhfDg, IkRib6Xs91PPW7pon7VVig, A8Aq8f0-XvLBcyMk2GJdJQ, eEZM1kogR7eL4GOBZyPvBA, e1o1LN7ez5ckCpQeAab4iw, _HrJVzFaRFUhPva8cwBjpQ, pZeGZGzX-ROT_D5lam5uNg, 0S6EI51ej5J7dgYz3-O0lA, woDt8raW-AorxQM_tIE2eA, hWUnSE5gKXNe7bDc8uAG9A, c_3LDSO2RHwZ94_Q6j_O7w, -uv1wDiaplY6eXXS0VwQiA, QFjqxXn3acDC7hckFGUKMg, ErOqapICmHPTN8YobZIcfQ, mJLRvqLOKhqEdkgt9iEaCQ, VKX7jlScJSA-ja5hYRw12Q, ijIC9w5PRcj3dWVlanjZeg, CIZGlEw-Bp0rmkP8M6yQ9Q, OC6fT5WZ8EU7tEVJ3bzPBQ, UZSDGTDpycDzrlfUlyw2dQ, deL6e_z9xqZTIODKqnvRXQ, 5mG2ENw2PylIWElqHSMGqg, Uh5Kug2fvDd51RYmsNZkGg, 4dI4uoShugD9z84fYupelQ, EQpFHqGT9Tk6YSwORTtwpg, o4EGL2-ICGmRJzJ3GxB-vw, s8gK7sdVzJcYKcPv2dkZXw, vOYVZgb_GVe-kdtjQwSUHw, wBbjgHsrKr7BsPBrQwJf2w, p59u2EC_qcmCmLeX1jCi5Q, VSAZI1eHDrOPRWMK4Q2DIQ, efMfeI_dkhpeGykaRJqxfQ, x6qYcQ8_i0mMDzSLsFCbZg, K_zSmtNGw1fu-vmxyTVfCQ, 5IM6YPQCK-NABkXmHhlRGQ, U_w8ZMD26vnkeeS1sD7s4Q, AbfS_oXF8H6HJb5jFqhrLw, hbcjX4_D4KIfonNnwrH-cg, UKf66_MPz0zHCP70mF6p1g, hK2gYbxZRTqcqlSiQQcrtQ, 2Q45w_Twx_T9dXqlE16xtQ, BwRn8qcKSeA77HLaOTbfiQ, jouOn4VS_DtFPtMR2w8VDA, ESteyJabbfvqas6CEDs3pQ\",\"fans\":14,\"average_stars\":3.57,\"compliment_hot\":3,\"compliment_more\":2,\"compliment_profile\":1,\"compliment_cute\":0,\"compliment_list\":1,\"compliment_note\":11,\"compliment_plain\":15,\"compliment_cool\":22,\"compliment_funny\":22,\"compliment_writer\":10,\"compliment_photos\":0}'\n",
    "parseJSON(test)"
   ]
  },
  {
   "cell_type": "code",
   "execution_count": 5,
   "id": "cc56544a",
   "metadata": {},
   "outputs": [
    {
     "data": {
      "text/plain": [
       "['{\"user_id\":\"ntlvfPzc8eglqvk92iDIAw\",\"name\":\"Rafael\",\"review_count\":553,\"yelping_since\":\"2007-07-06 03:27:11\",\"useful\":628,\"funny\":225,\"cool\":227,\"elite\":\"\",\"friends\":\"oeMvJh94PiGQnx_6GlndPQ, wm1z1PaJKvHgSDRKfwhfDg, IkRib6Xs91PPW7pon7VVig, A8Aq8f0-XvLBcyMk2GJdJQ, eEZM1kogR7eL4GOBZyPvBA, e1o1LN7ez5ckCpQeAab4iw, _HrJVzFaRFUhPva8cwBjpQ, pZeGZGzX-ROT_D5lam5uNg, 0S6EI51ej5J7dgYz3-O0lA, woDt8raW-AorxQM_tIE2eA, hWUnSE5gKXNe7bDc8uAG9A, c_3LDSO2RHwZ94_Q6j_O7w, -uv1wDiaplY6eXXS0VwQiA, QFjqxXn3acDC7hckFGUKMg, ErOqapICmHPTN8YobZIcfQ, mJLRvqLOKhqEdkgt9iEaCQ, VKX7jlScJSA-ja5hYRw12Q, ijIC9w5PRcj3dWVlanjZeg, CIZGlEw-Bp0rmkP8M6yQ9Q, OC6fT5WZ8EU7tEVJ3bzPBQ, UZSDGTDpycDzrlfUlyw2dQ, deL6e_z9xqZTIODKqnvRXQ, 5mG2ENw2PylIWElqHSMGqg, Uh5Kug2fvDd51RYmsNZkGg, 4dI4uoShugD9z84fYupelQ, EQpFHqGT9Tk6YSwORTtwpg, o4EGL2-ICGmRJzJ3GxB-vw, s8gK7sdVzJcYKcPv2dkZXw, vOYVZgb_GVe-kdtjQwSUHw, wBbjgHsrKr7BsPBrQwJf2w, p59u2EC_qcmCmLeX1jCi5Q, VSAZI1eHDrOPRWMK4Q2DIQ, efMfeI_dkhpeGykaRJqxfQ, x6qYcQ8_i0mMDzSLsFCbZg, K_zSmtNGw1fu-vmxyTVfCQ, 5IM6YPQCK-NABkXmHhlRGQ, U_w8ZMD26vnkeeS1sD7s4Q, AbfS_oXF8H6HJb5jFqhrLw, hbcjX4_D4KIfonNnwrH-cg, UKf66_MPz0zHCP70mF6p1g, hK2gYbxZRTqcqlSiQQcrtQ, 2Q45w_Twx_T9dXqlE16xtQ, BwRn8qcKSeA77HLaOTbfiQ, jouOn4VS_DtFPtMR2w8VDA, ESteyJabbfvqas6CEDs3pQ\",\"fans\":14,\"average_stars\":3.57,\"compliment_hot\":3,\"compliment_more\":2,\"compliment_profile\":1,\"compliment_cute\":0,\"compliment_list\":1,\"compliment_note\":11,\"compliment_plain\":15,\"compliment_cool\":22,\"compliment_funny\":22,\"compliment_writer\":10,\"compliment_photos\":0}']"
      ]
     },
     "execution_count": 5,
     "metadata": {},
     "output_type": "execute_result"
    }
   ],
   "source": [
    "graph_data = sc.textFile(\"/users/trush/CSC496/Labs/Lab3/data/yelp_small.json\")\n",
    "graph_data.take(1)"
   ]
  },
  {
   "cell_type": "markdown",
   "id": "372bb804",
   "metadata": {},
   "source": [
    "## Key points:\n",
    "Always try and make your data smaller. Cache often if possible."
   ]
  },
  {
   "cell_type": "markdown",
   "id": "2a3bd19d",
   "metadata": {},
   "source": [
    "### Hands-on:\n",
    "1. How do you apply pagerank on num_num?\n",
    "2. How do you link the answers back to the actual page of hollies.dat?"
   ]
  },
  {
   "cell_type": "code",
   "execution_count": 6,
   "id": "5b507704",
   "metadata": {},
   "outputs": [],
   "source": [
    "from pyspark.sql import SQLContext\n",
    "sqlContext = SQLContext(sc)"
   ]
  },
  {
   "cell_type": "code",
   "execution_count": 7,
   "id": "709104c4",
   "metadata": {},
   "outputs": [],
   "source": [
    "json_df = sqlContext.read.json(\"/users/trush/CSC496/Labs/Lab3/data/yelp_small.json\")"
   ]
  },
  {
   "cell_type": "code",
   "execution_count": 8,
   "id": "e0f37e72",
   "metadata": {},
   "outputs": [
    {
     "name": "stdout",
     "output_type": "stream",
     "text": [
      "CPU times: user 3.7 ms, sys: 0 ns, total: 3.7 ms\n",
      "Wall time: 932 ms\n"
     ]
    },
    {
     "data": {
      "text/plain": [
       "1000"
      ]
     },
     "execution_count": 8,
     "metadata": {},
     "output_type": "execute_result"
    }
   ],
   "source": [
    "%%time\n",
    "json_df.count()"
   ]
  },
  {
   "cell_type": "code",
   "execution_count": 9,
   "id": "ae288e2d",
   "metadata": {},
   "outputs": [
    {
     "name": "stdout",
     "output_type": "stream",
     "text": [
      "CPU times: user 3.44 ms, sys: 0 ns, total: 3.44 ms\n",
      "Wall time: 301 ms\n"
     ]
    },
    {
     "data": {
      "text/plain": [
       "1000"
      ]
     },
     "execution_count": 9,
     "metadata": {},
     "output_type": "execute_result"
    }
   ],
   "source": [
    "%%time\n",
    "json_df.count()"
   ]
  },
  {
   "cell_type": "code",
   "execution_count": 10,
   "id": "e44001b0",
   "metadata": {},
   "outputs": [
    {
     "name": "stdout",
     "output_type": "stream",
     "text": [
      "root\n",
      " |-- average_stars: double (nullable = true)\n",
      " |-- compliment_cool: long (nullable = true)\n",
      " |-- compliment_cute: long (nullable = true)\n",
      " |-- compliment_funny: long (nullable = true)\n",
      " |-- compliment_hot: long (nullable = true)\n",
      " |-- compliment_list: long (nullable = true)\n",
      " |-- compliment_more: long (nullable = true)\n",
      " |-- compliment_note: long (nullable = true)\n",
      " |-- compliment_photos: long (nullable = true)\n",
      " |-- compliment_plain: long (nullable = true)\n",
      " |-- compliment_profile: long (nullable = true)\n",
      " |-- compliment_writer: long (nullable = true)\n",
      " |-- cool: long (nullable = true)\n",
      " |-- elite: string (nullable = true)\n",
      " |-- fans: long (nullable = true)\n",
      " |-- friends: string (nullable = true)\n",
      " |-- funny: long (nullable = true)\n",
      " |-- name: string (nullable = true)\n",
      " |-- review_count: long (nullable = true)\n",
      " |-- useful: long (nullable = true)\n",
      " |-- user_id: string (nullable = true)\n",
      " |-- yelping_since: string (nullable = true)\n",
      "\n"
     ]
    }
   ],
   "source": [
    "json_df.printSchema()"
   ]
  },
  {
   "cell_type": "code",
   "execution_count": 11,
   "id": "4e00ba59",
   "metadata": {},
   "outputs": [],
   "source": [
    "json_df.registerTempTable(\"tbl_json\")"
   ]
  },
  {
   "cell_type": "markdown",
   "id": "0437ba11",
   "metadata": {},
   "source": [
    "## 1. How many unique users are there in the dataset?"
   ]
  },
  {
   "cell_type": "code",
   "execution_count": 40,
   "id": "7fb4b086",
   "metadata": {},
   "outputs": [
    {
     "data": {
      "text/plain": [
       "1000"
      ]
     },
     "execution_count": 40,
     "metadata": {},
     "output_type": "execute_result"
    }
   ],
   "source": [
    "# map with just user_id .distinct().count()\n",
    "users = graph_data.map(lambda x: parseJSONUser(x))\n",
    "users.take(5)\n",
    "users.distinct().count()\n",
    "#graph_data.countByKey()"
   ]
  },
  {
   "cell_type": "markdown",
   "id": "da661f30",
   "metadata": {},
   "source": [
    "There are 1000 unique users in the small dataset."
   ]
  },
  {
   "cell_type": "markdown",
   "id": "f4fad9c7",
   "metadata": {},
   "source": [
    "## 2. Identify the user(s) with the highest number of reviews. What is(are) the average/median review scores for these user(s)?"
   ]
  },
  {
   "cell_type": "code",
   "execution_count": 37,
   "id": "b0865ecc",
   "metadata": {},
   "outputs": [],
   "source": [
    "def parseJSONUser(x):\n",
    "    res = json.loads(x)\n",
    "    return res['user_id']"
   ]
  },
  {
   "cell_type": "code",
   "execution_count": 58,
   "id": "61c74019",
   "metadata": {},
   "outputs": [],
   "source": [
    "def parseJSONReviews(x):\n",
    "    res = json.loads(x)\n",
    "    return (res['user_id'], int(res['review_count']))"
   ]
  },
  {
   "cell_type": "code",
   "execution_count": null,
   "id": "6077c174",
   "metadata": {},
   "outputs": [],
   "source": [
    "# map with user_id and review_count\n",
    "users = graph_data.map(lambda x: parseJSON(x))\n",
    "#users.take(1)\n",
    "# How many users to average/median (top 100?)?\n",
    "highest_num_reviews = graph_data.map(lambda x: parseJSONReviews(x)).sortBy(lambda x: (x[1]), ascending = False)\n",
    "highest_num_reviews.take(10)\n",
    "#highest_reviews = users.map(lambda x: x).sortBy((lambda x: ((int)(x[1]))), ascending = False)\n",
    "#highest_reviews.take(10)\n",
    "#avg_highest_reviews = highest_reviews.map(lambda x: ((int)(x[1])))\n",
    "#avg_highest_reviews.take(5)"
   ]
  },
  {
   "cell_type": "markdown",
   "id": "62f60d73",
   "metadata": {},
   "source": [
    "## 3. Identify several (two or more) interesting user attributes and think of and carry out one interesting analysis. Interesting is relative, and you should use Markdown cell to describe why/how these are interesting!"
   ]
  },
  {
   "cell_type": "code",
   "execution_count": 26,
   "id": "64bc6ac5",
   "metadata": {},
   "outputs": [
    {
     "data": {
      "text/plain": [
       "[{'user_id': 'ntlvfPzc8eglqvk92iDIAw',\n",
       "  'name': 'Rafael',\n",
       "  'review_count': 553,\n",
       "  'yelping_since': '2007-07-06 03:27:11',\n",
       "  'useful': 628,\n",
       "  'funny': 225,\n",
       "  'cool': 227,\n",
       "  'elite': '',\n",
       "  'friends': 'oeMvJh94PiGQnx_6GlndPQ, wm1z1PaJKvHgSDRKfwhfDg, IkRib6Xs91PPW7pon7VVig, A8Aq8f0-XvLBcyMk2GJdJQ, eEZM1kogR7eL4GOBZyPvBA, e1o1LN7ez5ckCpQeAab4iw, _HrJVzFaRFUhPva8cwBjpQ, pZeGZGzX-ROT_D5lam5uNg, 0S6EI51ej5J7dgYz3-O0lA, woDt8raW-AorxQM_tIE2eA, hWUnSE5gKXNe7bDc8uAG9A, c_3LDSO2RHwZ94_Q6j_O7w, -uv1wDiaplY6eXXS0VwQiA, QFjqxXn3acDC7hckFGUKMg, ErOqapICmHPTN8YobZIcfQ, mJLRvqLOKhqEdkgt9iEaCQ, VKX7jlScJSA-ja5hYRw12Q, ijIC9w5PRcj3dWVlanjZeg, CIZGlEw-Bp0rmkP8M6yQ9Q, OC6fT5WZ8EU7tEVJ3bzPBQ, UZSDGTDpycDzrlfUlyw2dQ, deL6e_z9xqZTIODKqnvRXQ, 5mG2ENw2PylIWElqHSMGqg, Uh5Kug2fvDd51RYmsNZkGg, 4dI4uoShugD9z84fYupelQ, EQpFHqGT9Tk6YSwORTtwpg, o4EGL2-ICGmRJzJ3GxB-vw, s8gK7sdVzJcYKcPv2dkZXw, vOYVZgb_GVe-kdtjQwSUHw, wBbjgHsrKr7BsPBrQwJf2w, p59u2EC_qcmCmLeX1jCi5Q, VSAZI1eHDrOPRWMK4Q2DIQ, efMfeI_dkhpeGykaRJqxfQ, x6qYcQ8_i0mMDzSLsFCbZg, K_zSmtNGw1fu-vmxyTVfCQ, 5IM6YPQCK-NABkXmHhlRGQ, U_w8ZMD26vnkeeS1sD7s4Q, AbfS_oXF8H6HJb5jFqhrLw, hbcjX4_D4KIfonNnwrH-cg, UKf66_MPz0zHCP70mF6p1g, hK2gYbxZRTqcqlSiQQcrtQ, 2Q45w_Twx_T9dXqlE16xtQ, BwRn8qcKSeA77HLaOTbfiQ, jouOn4VS_DtFPtMR2w8VDA, ESteyJabbfvqas6CEDs3pQ',\n",
       "  'fans': 14,\n",
       "  'average_stars': 3.57,\n",
       "  'compliment_hot': 3,\n",
       "  'compliment_more': 2,\n",
       "  'compliment_profile': 1,\n",
       "  'compliment_cute': 0,\n",
       "  'compliment_list': 1,\n",
       "  'compliment_note': 11,\n",
       "  'compliment_plain': 15,\n",
       "  'compliment_cool': 22,\n",
       "  'compliment_funny': 22,\n",
       "  'compliment_writer': 10,\n",
       "  'compliment_photos': 0},\n",
       " {'user_id': 'FOBRPlBHa3WPHFB5qYDlVg',\n",
       "  'name': 'Michelle',\n",
       "  'review_count': 564,\n",
       "  'yelping_since': '2008-04-28 01:29:25',\n",
       "  'useful': 790,\n",
       "  'funny': 316,\n",
       "  'cool': 400,\n",
       "  'elite': '2008,2009,2010,2011,2012,2013',\n",
       "  'friends': 'ly7EnE8leJmyqyePVYFlug, pRlR63iDytsnnniPb3AOug, kc-rnN-ndnFTdHG4TfIgeQ, GYndf-h6dAwpGP0lDBz2Wg, FPo3SwQuAK53QVZm_eIyBg, 9fF_T3pQu3ay1oA7h_VYNA, G5T3bd6dUs5zkQ2VMZtRUw, tufuEc5f9TWR05_yko46QQ, 4lMab047cJsEt8puhy8dew, bEbLwLpJauEG-HW0w_0IKw, xz9o3T3uJxyeLZ6Cyb8cFQ, LxBh46T0wO9VlsJUK5q2cw, dUALcXVUTC7NYHuE5GKjtw, LM6pxbcfdyUS8M2jWoQk1g, nQG7XkgrsG4MXXXfexJwAA, 8t6qbx5mNimrLrqs01VIvg, A-pcQqvtlsxd-JgBOIdwHw, 2i2NOMPClqwUA64SkzyIvQ, bnf7t21SCFw3HWfV_soG_Q, b_ED_rPl7OLwEpUlr4VI5A, Avlw4sAK8uGpcQY89Gk0Tg, euxheBcyvFLJqNQSbsFsJQ, 1Ksjxp5WuG2Cni24Ipal6w, nH5NCbQ7eacONPMV8VpdEw, AMqRKxavwt1yTBzlMrG8sQ, f71r-LEp9O8yJu76XhPadQ, cjotiAHFSbFuvbxTWmGi1Q, _KfzNJcprrOQlvoAOawS2Q, PjdEARXumUBwx5zj6jTkng, mGTObjvjjIVy6C3FLNH2pw, wwHxfdwZoGLGmvYznFMvgw, 1hup0FxTWkjNAcVf4Xvj6w, GMzlmv2K6jvLnSQcipGKGA, -zfHj6Ar9FeTAcVyK_xpFA, JyMizIjW3qhGahAYq6CFmQ, czJvKmduyIljcLWfX-9NCw, AIhfuFmX62k7a22gXXAB2Q, 8vU81Y40XNCPykYAfaxyjQ, dsNJ3rcIqO8GETxyQwrL9g, PeLGa5vUR8_mcsn-fn42Jg, Cvvu2V_FO3FjxIHpartSMg, lsSiIjAKVl-QRxKjRErBeg, ITfHnc90OfdNYmin4wDQ1g, DuWB9jtjdfGR3ey9b2GUiA, Jc0T3q_8bOjg9pPlJb3MBQ, jQNE4kG65Pyplz8MiVDJXw, t4uPIUnmF7zdAb6cWT3yTA, RLAR2Vnb2klcb2UsfF6FUQ, v0JtfrbTDNPvSp3rXv8IRg, RvoPAtu1iSSwUfhD3tg1Nw, K68lvhWO_Ln39vdmWns2HA, -fQPzH-e-ubDIiLQhybEjQ, X3S5AhlmLhyiTlaiTF7NyA, n9lFMzaSM30dNHFcl93AJw, NQZDDxDG5_Im6SxYSPcGYA, skzHFVplaHoOinPtymI04w, MpOMfaq4ikuhmFqj2tJx1g, u4NQ1BZ2nXIxRY1gxsPYgw, Y1ICO26IsN7i_1OVD0Inyw, pHqOWnVzU_0JeLPm3wHUbQ, eijfUFNF6flY-cY4Ff6BIA, QJI9OSEn6ujRCtrX06vs1w, 9_ME--bvyZStdz6iwGzMCw, CYQNdjHCL9nedkLMfKLHmg, tTppOboFA2OaNelu3l8-pg, 3lU1iYLNW434mDJ-3dpZ0w, wy4NZPGAonzuz9RzSDtDNA, LGQ7Fu_Ev33lWLtpshou-g, ME6G91A0axSfSYK9YBnWQg, MjGdUi8Yje6x5HhbvwnlDg, gBEihTFxWQ5CzOH1tGjAPw, 4Y0ha2qM31Ea8jZE2hMUKQ, ZnQmJclqMNM1rl2vDFnm5w, BoNlCPHJoYmimuGjpQXWuw, soaCrgXmwdR6SkUZ7Qc3Mg, TE9o4cWvNXg5IYcjAwI5hg, dIIKEfOgo0KqUfGQvGikPg, TVf0-xIHIEsmN2dAKGAIiA, _ey5n3llYV2RfdCDCy6jhw, TUpdK4l8GAWIsdcD8JbkVw, jL2o3huthRW2lo73ezLHdw, RaNkWBMywhBqCZOQWSN_SQ, 9AFhmlMesozq-sq2KFE-gw, ij7kqaoPR_Zwtcrxn11kXQ, dSS5gT5Ajmv-NKoxna4e4w, Ez7OB58ciPCfLVqofd6YQg, VLhnqw7pzxObaQZ4Tpzp9w, v1wa0SP2l6yB11orrh0PEg, DMHPVjHKaUStUBMPH2TjNA, n6hHjOuv8NAWubj0U7LFLA, 6rvdsoYos-0udWV7mcNtOg, u1rtE-FomZXg9vuOVqTCjQ, 0qR6SusZ-m4YVzl3V1UfDA, RZkc9rgACbOsX9mpa2TDXg, eFuUcwjyBgX9vG-i_3hLfQ, Cuk2vdOMwTz71NjBuCF0Mg, zk_mInlLMmLLqMk6IvXm9g, GGWjA8v479feCo6OPTLQOg, FOvWgXp5L23vcx3RNl823A, 94ci59pEqujuw_P1HLW5XQ, ouJuVAEPnnEC_zhcrSf5GA, hxDeqPbPwkKEFXOfK7av9A, x5SbZmP74zu-UMc86YN4XA, ZjDs4lRCaTHugz2EW_nQyA, BECNMzLRiFj3y5k7G4rshA, sDGwhNAQIubV36t_fex6VA, OsElvMpJD17xc3A_nwF5NQ, ns7KN6l_O39R3U3IKfz3mQ, YwT2RxiC4H_8JT_Dkmzb5g, W92S95QwdQERvx7lvxmeKg, HtCPdVujYJAZF4FKr-C9Lg, qzbPv64K36TnRA7Ki7EDaQ, k2aTPsAOfrlFN9LLrWrCLg, UmXzwFM2OkZHWJ5cJZlqkg, UG4EKu13JRwzRix6ESINdg, 6gGRtiXRdUS2PbFlu2QmZQ, krPxbT49l0ffv2S53znp-Q, qLfujrTBF9XXGa9MaNNv4Q, Vz2ouW-nkOuX0Fet7nc_cg, 0XaQ6vvgy5pi5XAaz12mOg, uYy52H-UGQvZ8pXriv2yYw, kJkoabUt9Vpt8FE3NkU08w, nAvWIxkcP39OLMRHtJluTg, UVxY0iyPaqY7s4BSFtt-xA, kGGapvfP1SZH2ZOikdSpNA, ciCuqqFRpSoh8ZZ_a9ELqg, 85k4u8kP9yb8uwKNZ_aWig, Od5HdH_uUvsjGMTgOKiieg, PFyclb0Agx6HmlyMyYqjkA, 0ynxX4zKNh-Y4-NLW4eaGQ, eW97I1zicAT7Qv6j_Ad1wg, 2jBo5YXj6eflYJH-Rle0fw, nMeCE5-xsdleyxYuNZ_7rA, E5bgk6POk8u_EWeCgrlDuA, y3HFVx8nbNmomSc-PWOy-g, qoyf4UgwuF37St-2VdkJZQ, 6bsqA3UTH37wyCOFrt17vQ, Thc2zV-K-KLcvJn3fMPdqQ, v0O7miDEH4XX2diEr7ij2w, 64fujm3m9rYNbCypvHxQGQ, LQALTuDeCRLwR9NOxUWS5A, 4bfqW66F5CFu6Yr_S92EOw, sDX-Wm9s1DeT0aiAxbnugg, dE9YaRaUtkDm-xJrW3BSPg, 7WfLyV9sV-MU7f6k7xgiJA, HuBgs7uHyUz7DzcaScZqjg, MoFiqXxCMV9AiqIg1ymKwA, J6hurmbHzrqxFYL-56YPYA, TN2HEqm1p62d-HNC2zxQ7g, vzw1ZryOiTYGzl8N1yILtw, ZVdHmpsUWMQUfyJsYd5p4g, 4n0eMAeCSvWRl6an5Z8OGg, suF-uONlHQcTlqbXyJ9kgQ, mCwl2apJVmNxH8PqT3ZOOw, sFxvRllDeR5ZLjBhfXOEWw, YjuCEt8TPPDCkmY0LmvLtw, Nd0ocN6CmzrwHf8zeABVsg, GerMhlVWTNkcyI77oQ8Ckw, J9c0XM-wV_KQmtZYxvIFFQ, G6M2NiuST-sK5ZAR4VrfmQ, QVK2aHwCL55_uhq6eBk5rg, cTtDPzQSGHzC7rdOFylU1Q, hRIeyrM1zhL5nhk_cr7yyA, muvrSTpKkOlsdme1AMZ78w, ucAN8VJoiA-_ysMCgZev1w, LOcifzqw4pDMpjaDs5R3oA, 6p1NDChnIpGl29Ce3cMKWg, yjUtVmn9QCgu-p0aG0EhgQ, ottOuy7FZtUV2HnBfhVk0w, G-mWHSm6XVp1oe9PN7NUPg, 61meSfN9Morngpe3a-D-Sw, OGDSD2XeOBBdb1pka5tZVg, yLW8OrR8Ns4X1oXJmkKYgg, Aic2V_XB37mbK6tqzSLuKA, TwPlaNvnziaN2wB3lk_9Mw, qtR8zoqViSlbggc7gaRmvA, RX0GPUmx4wJ8zxP1Mq0tPA, nYryL_iwwwqcYQarn8_lbw, H58nmfUs-Nz_wwcYfWN3Dg, vd0X9jRPbc3-Q0DhZlYTzg, sWt4M6Drth0Lyt4vT8Mo_w, RUMzmM64bNGfKw8Oe_Q8nA, 9kgj54sYGd0qc5emszjpHA, CwMnwuXOV4IBDvDYTAK8Fg, tJN26kuHD2FHpdOCLPJUEQ, CWuZMpIht24ApriIklLKMg, B_taR9fTDA1quy6Lqpt6AA, fG9Bq9aU09w79iLvxXivzw, 9fO8HBgLnMei8zZUz1Ysbg, 7OvtYnfscIWBahX6hL2xkQ, RIq_z44y265BWS8DXDzQqQ, eFbmEFi1-dBlEVrxZCNp_Q, ysDmEwP547KGbzW7h_hlrQ, rMKIHfnjkJlbohF2HExnPA, KKYN4LPphTk-ZBz8YxsDbQ, UNGVRzFrjeilD4d9xEUAjQ, B73Hnya4RxPrQg7CNVAZVQ, g6eN8HGLYDNKqO10FZ4BJw, 1FjbFIhkxgPO35Ak0nozJA, S7d9QLjgw0yt1tWKgoyrKQ, 2r1FTE8e7n9IJznypedWJw, c7pPoQPgSUZERW8XVfV0gQ, ZE3XemEXMfTs-g4Bi71HyA, uJTEn40MZuwQSwziAJxOSg, AGo9oQr6aPCIOskjiTdNNA, O_GWZZfQx7qv-n-CN7hsIA, Ccoapq4XJg78LdyhU4lZng, 4tWyQ6sykZf1qzJydWtgqw, kIpGUhKWzHZHljMbAgnWUA, Ryxj0u0AW3mRsRypdYli2A, Q0St62dXpD3Z_UHvSPcutw, du7qMZ2LGnKI8jtwNaXfzA, QWi-9TOuCN1PMDLzDj1k3Q',\n",
       "  'fans': 27,\n",
       "  'average_stars': 3.84,\n",
       "  'compliment_hot': 36,\n",
       "  'compliment_more': 4,\n",
       "  'compliment_profile': 5,\n",
       "  'compliment_cute': 2,\n",
       "  'compliment_list': 1,\n",
       "  'compliment_note': 33,\n",
       "  'compliment_plain': 37,\n",
       "  'compliment_cool': 63,\n",
       "  'compliment_funny': 63,\n",
       "  'compliment_writer': 21,\n",
       "  'compliment_photos': 5},\n",
       " {'user_id': 'zZUnPeh2hEp0WydbAZEOOg',\n",
       "  'name': 'Martin',\n",
       "  'review_count': 60,\n",
       "  'yelping_since': '2008-08-28 23:40:05',\n",
       "  'useful': 151,\n",
       "  'funny': 125,\n",
       "  'cool': 103,\n",
       "  'elite': '2010',\n",
       "  'friends': 'Uwlk0txjQBPw_JhHsQnyeg, Ybxr1tSCkv3lYA0I1qmnPQ, DNmeLov3wXNxlxjN5feBoQ, x7n69vEsYFh9xnW3D5lPPQ, -AaBjWJYiQxXkCMDlXfPGw, COXnA2hnzFDai3ywx_iM8A, dUFoyswTt5ZQbleF3_4TCg, uj2AWSvsspbrkebc_jqt4w, MWa8PTsb96FQAP4xrrVANg, G2AYDJ-mezLYLciNMcTXjQ, gEO11MjHUlxqM3z5UFO5uw, zHeeVKXN1A86-EMRAgq_Bw, 3Pewj4lcZzlUvhmJGKFpqw, 1HC_-rWi1oaB-N3BjqGKoQ, KavG2RBt77vRLqG1_6RBvQ, 7cmEMOLyD4GS1XbjctJpoQ, ZnxSdo0cVyH4HEdDlwlv-w, RT1w-Z_QCgJACmpOELpPhw, 62V-Kyj1MD0IVGgZYkxy7w, LBEdgyT8eQJqlV0ZWmkAzA, vhnQz6huUOwuu_X7Qjbpcg, x9g-i1DsB-VjSDGVOdRonA, 6sLKnFnV29EXW67d6wABLw, XpRfQFXFPLBxWdMi32_CSw, 2O-ONoy3ddNCfSQ34CFgiA, 93ZaU3GfaXSr-RjabsaQ2Q, _LbK9H21Hm6nx7FzjeGpEg, lkI9-dcDhNloFvI-HM_Jbg, Cvvu2V_FO3FjxIHpartSMg, 2g_7xUuWYKlHGnghJ3Zpjw, jU9aSDYxNIXb7j7oESxe2w, ekGZOsYf7lAOpQlD_j8t5Q, nkN_do3fJ9xekchVC-v68A, KKlGiwN0g8p89eQkMyhvKg, h-sDf97w0r_JDOVUtzLT8Q',\n",
       "  'fans': 5,\n",
       "  'average_stars': 3.44,\n",
       "  'compliment_hot': 9,\n",
       "  'compliment_more': 6,\n",
       "  'compliment_profile': 0,\n",
       "  'compliment_cute': 1,\n",
       "  'compliment_list': 0,\n",
       "  'compliment_note': 3,\n",
       "  'compliment_plain': 7,\n",
       "  'compliment_cool': 17,\n",
       "  'compliment_funny': 17,\n",
       "  'compliment_writer': 4,\n",
       "  'compliment_photos': 1},\n",
       " {'user_id': 'QaELAmRcDc5TfJEylaaP8g',\n",
       "  'name': 'John',\n",
       "  'review_count': 206,\n",
       "  'yelping_since': '2008-09-20 00:08:14',\n",
       "  'useful': 233,\n",
       "  'funny': 160,\n",
       "  'cool': 84,\n",
       "  'elite': '2009',\n",
       "  'friends': 'iog3Nyg1i4jeumiTVG_BSA, M92xWY2Vr9w0xoH8bPplfQ, So46aZ3y7zRl2VmFK35vCQ, vrZmtsiaIZBr42KwAve5qA, SaNDaz5rBQs-5gyhOkO1MA, xTcuKbp7ocDcZDD_bcK9hw, PpzliPkE_fzsI6r15UMZFA, Ygr_c6So7Aba0kDQW01FDQ, RL8CEnHK-FRA7tQd_0q8Sg, xXiVvsK9nnRRCfCMwj85Ag, p21bx7Flt4Svr5TgfMpZ3w, nOdmcHSwcaIMurQphLwD5Q, 8iboMve0kaB1tunZkYENKg, bR0DnaZHT1zZpCWzmLHntA, 36Vr9BASkR2v9NKNoZtiSA, FLjrwZRr6wgZVtIm9dWYEA, YctWPgIfkCyAw4EChKPFqA, UW9DSt9nuTGdKc6oi1R8mg, v9qZhWaRltc0uCzXmGaHmg, aipw_nbOkMRoxJRSpes1cg, 3aAAJqybpkD0pc7WvmY3Rg, EBc59diO4gfwoGR0j0hfWA, kyP4gdfQ-7GZzI5jSWDf4w, UwmtWzBdbi4AAJiuBrXrQA, pZjpnDqiORF1lVqXLnYRyQ, NUTZv6QmHZz6dxnBhLNzEQ, 7Zd4e4JOuqsR29IpojC0kQ, xY-_P4jUJD4zs4agSjWbrg, IyKJLgLAHGXyAc3xgrsCzg, m2R7pydiZ7vezHD-oZt6-g, hizGc5W1tBHPghM5YKCAtg, GbvhM38d3jqb3Iar2MuoJg, E_fl5lyRMMXOZ4jQZNEiTg, 4UfHUgieOvWQo1XGQ5oYFg, ZOPLjrmR1qjc0fk6hFPM5w, mZfae6-3AkHzd_AzSgV6qw, mcG523uA11CIk8OP4ieRGQ, kWZd_XPvezquaZlnR-cGcQ, UOCPrE6sz_dsdACdnkjApA, FEBiHCf5qT69Bo12F0n_og, Vo1zWPMfzT1y0U7wHd4Qbg, wc18MFwqzm75P5JMscAtIg, 9_I0lDod67yMUxFJSyTXgw, ueClFWN0WePrtUSayd2FaA, _3Jmz1ImI4-e1roLYPxDAg, Y0nXlvDrp5u1lIPfobN2Dg, ebYpHPQWSKoxlzCPJFsFjA, 6XiXp88SLli7Ls-rU_rAIA, 04uPXZ-QrZ3boQ2CHPgkNA, tAMMm7RO4xYEyh3YGZyNRg, tpXwIuoClyyAnA63giKT0A, v-pGGrjLlnJPUpblDCAVCQ, pSRS0q6xbWlRYd6HA41h0w, IkEwgKW8Ay3S7AK-3R0PsQ, Thc2zV-K-KLcvJn3fMPdqQ, 5xyUUCEtv0fLEQrmJuZnRA, ZlDSUd9ZnLRxkdpQk6FHHA, 5YaP2AZqZRzYP0taTSCNzQ, dWUpHH4b4cScT2ymMaoEGg, aI8SRtS5igDFHd0ZNo-KMw, CZzdVwvQmewOlwzLyNC1CQ, TFB0TYC5OrdJNjxPB74PCA, 7terxram9WYIdwVCIBkvDQ, mTRMuXEmozVVw0StZDGrPg, CajMs6IdJF6RjGQaBAOILA, tEvOR9v9QANUq8tNpX98aw, 6dVx8ommZz5On09cXFHgyw, blCCwjBjMWbyuopwX9oUDQ, PNa2-EjHe_ApIgZXD6kxBg, JiAyMJrdqZkcul5tRWPByA, tMgH4wDvCXunT8rfC0jvnA, NB1zy90YDtxI5fRUR4vQmg, QMya6jHkwyrwpfgpF1chNA, iAILYmwCQiqpyXQkbMks6w, YRPs1xvjd1aNwHegUbwjQA, CNyitHSWyHFn-lHjJxKaDw, PoKVnj3QpJEQRZDijSAz_Q, xBLGb1lrLwTjWgEYgCeOEQ, X8oFqYnnwbb3fUQBvHzIDg, knBXcAmTwQ6yP9L04dmZjQ, d7iJj0a372sinfbSs_W8BA, QMqSgBqSrlRhz2B0UiORjw, vNNU6htwtCpClw_AZ2gb4w, w2ODFJvfvG6VEA0fpJ7nLw, xksSZOLEs8hyMa2PMs-u8Q, K8rj3ZEPY6CjQWS-uP3K6Q, 4zpUSSpundqCrk8gHONgew, AUP2CmIEdeBqF-47U8ZhIw, Lg7Zfv48MR8IIaoU1tKejg, bGgf84dQurLiTha3ru0QDQ, uIn6NOzyBEeTikigZgxuEw, 720FSwm6M9xRL2eUu3N50Q, kF95hNEblFmCe2B3UJgxjw, ERrOa3Az1ohyL6O-vLqj2A, rLdPfte3FE-HYJ-t6rVdXw, 7LgoIUC3y5GAZAfkG5xtfQ, h5cXTu-93TqCrFnbopkbew, V2JeIFpLdli0khGsfqrCQA, dLrGzLtYgFepEtn_LC-MDg, K27pxNGQWceO7XXBiS4m0w, Iw-UXs0qSKfxfDasEDrDuA, idJ35gltZ90eFFCm2YvtXQ, FQLskXjZ8xUbkWMihFDiyA, xuvLQE19fPrisRrgMRXfQQ, P-AD6uzK8Pg8OqmviAwIMg, Lq9P-y8gWMHYnYnOP7SjSQ, Gj_a4TEQqunhcNxQNal7ug, dkInfCtRcvnqKEEbS1V3_A, v3nHr6tKjYL79gocKwaHCw, ivGkKD0is0F2pBZWAPEaBw, kQTLrAanBX44x2Mfn-I3GQ, V-kZOpiwmqjjWudWApylPA, LGidSe8ghgfdqGsSOXr8tg, GmQPLhAj7NMbhUf766-uiQ, 6LoSM5hgpTdQ07AlSlIe9A, 3g4pfmQWVd6o9mggWw7IiA, nKXMLvWzxW0G58HIEXn3DA, U1CTiAmf7T81PJK4NxngTg, a8UgC5l8juHSqQMIi-o2cA, q3dCZIYhKnCT747C9-Bi4w, yPVa6e52o5Ao5K65D9wsPQ, RgXbXzGEsq5ys0RRm3jfVA, RvFgTBaLmRGClncUPGOS2w, cQIFLm6ws1aH_I-Nt1W54A, b2FQaAkTrmRdbvXpI1x4rg, A_rIi9kLh2aoeBGBNyjtQQ, T4WrL0OkzDtZgx_00v8QxQ, ee--wzykQsIUuC1VAbmmKA, hZm8pEgyJl2L0bn7fykcsg, d2FjqGUNuAiFHcPdd3FuNg, rjxgtBNG-e5FAyD8e57_Rw, 73q_SWtiBzb9u3mLLbksWw, Oi6Z1vBoERUELx7bsvWrAg, d3eP7O8LNLRQOGsCjgmOug, 03qtVp_XohUOnFZGCHTcYQ, CMUXo9oDDAImZwp5kial0w, A-XfojPFGvBkiDIc2IolAA, xYqOJJjSkCL-J0dMBUELZw, 7EBkuytBvApvUhoToVQqnw, BbryXW35KHHIj6KBMcqUAQ, iWHW7iFxQBaonTpC2hTntw, 8mwoQkSMPsaHzX9WQJ05IA, yqnveJlr263GK4vdmLpspw, AW0kk52WgpxovbxjxQ6zSg, 3G5xgbgXuV4GTpko2j17VQ, N2u2LfwhGs4p2LxMn6v5YA, pPqWDTJr-kPAy4TXZebndQ, _5L-ucix72TKWcE6SJ4aBA, YHzZUV_ji6aDBrNEyfbp8g, b2kzQ0OYaGZG4CbpH4Cu_A, -xK4wS_paMlVYn0sD-xu7Q, bb8sDmOeH-foJePyxyKfGQ, t9-7T-ri2741XTn09zt4HA, axdHGMOHNVZULE-Oqw_hGQ, DsiW3YrFsVSOBHzI1UCslw, DNpyA2he-Ql2GPJcwTsECg, t401RQlrFcyb4Z3IJZT1bw, kkDKh7p5IJwJ-8ueKuc6-g, D0YT9WPERx44JGuU96uFnA, XsXNl7-7iG7ziLe7n5JNZg, lMHHHbgt7S1ECx9_RLDYNg, 3RUupRunV6rQGAybGIKANQ, nUUd_oILvvsW0IyY1YMIoQ, fu3cOEyBxxotI7qkiZJjuA, BQofWToAC2ZUrDh6n2x1gQ, mAkgoItGaK_57gdVeP8ICg, Xd7i-elY8qVXX9Bs1gpD8Q, FJ6peuwF0Tha3j_2gHkw4Q, iyQXrxWOINZmfybiVX0k9g, rIikCs8hOhQO7sAXzqAphQ, IEEMCTBnvZRq-Fj7hxq87w, eUy5wXizgMxjZc3JMD2vrA, 0dvTKYj04bCrGg5XRZueOg',\n",
       "  'fans': 6,\n",
       "  'average_stars': 3.08,\n",
       "  'compliment_hot': 2,\n",
       "  'compliment_more': 1,\n",
       "  'compliment_profile': 0,\n",
       "  'compliment_cute': 0,\n",
       "  'compliment_list': 0,\n",
       "  'compliment_note': 7,\n",
       "  'compliment_plain': 14,\n",
       "  'compliment_cool': 7,\n",
       "  'compliment_funny': 7,\n",
       "  'compliment_writer': 2,\n",
       "  'compliment_photos': 0},\n",
       " {'user_id': 'xvu8G900tezTzbbfqmTKvA',\n",
       "  'name': 'Anne',\n",
       "  'review_count': 485,\n",
       "  'yelping_since': '2008-08-09 00:30:27',\n",
       "  'useful': 1265,\n",
       "  'funny': 400,\n",
       "  'cool': 512,\n",
       "  'elite': '2009,2010,2011,2012,2014,2015,2016,2017,2018',\n",
       "  'friends': '3W3ZMSthojCUirKEqAwGNw, eTIbuu23j9tOgmIa9POyLQ, yFLuIUuiaaIZxHw1H2qT_Q, DiHk5N4pM37l-3Zf9yy-ow, DMygFtzXXy4CZCyjP1TD4w, KxCZKvc_2WXlrHhAQDD9eQ, manoJwmgZmjQ7yjiwNwr2g, LfmM_FwYDIN1VXVcg_HBtQ, RMpC1kFEJw6fZg__aa7gRg, WHaGdY4U18QfIDiXxaYSXw, xWiirESH97dE6U0oT1MSKQ, w_D4h7TEBndcdPICf8eIfw, -o0xWAEO-C2oqlyt9TO8qg, sldgg_7mE9JQ5SUxGlhPXA, xbfFwxIVFLSKAgDZ-JIIuQ, qSEN5HR0wLXHSZRRgLnJ1A, hBicl52tMVsTecdZSVL-lQ, iUhdBdZOPnAs0k34Mc107Q, pfdZizODh654KQ-YkI3PFw, lMJkvCuST8RTXDvLQBYAwQ, _wTLI44Li1un5XWmDNYdSw, tCqYnhAdQhPO3JAAnc09ig, Sbi_YItlH8YwXnQPi137Lg, cDpCG83or3YEgivwrsgzaw, 2UNKXi2x6q79cM_YShyUTw, -zfBMFZ0KySotqh-BAPWXg, 95XXTDRkA4pWSYs-gdVVYQ, BLPFZ4n43BQhecOpyoKheA, 1HDPhw4knpyxj5K4Zt3EHQ, v4G7CXgmzxW6mO6-YOOAtw, BPpRsy-rk4IjJirmmqIz1g, xU3NcJ3H23uN-2RPetoatQ, TATK7JhmINXt3ShXEI2D-Q, gjkeN_T14s0Y1tzQaheDPQ, gKAeAgeThdbLMu-J94JBlA, ma-WF5hkZhz9HZTyTXwRtQ, EFniG2-0xUMG2WX5RrQI_A, 8tHug6uVNHyp4e2HrdhIBA, fn7epUiyscygeRAaZCPH5g, DHniYyCFK9H4uyXWfvcQiw, ixK0mvlsaniRQb85q1oLoA, cF3-D2EmOx0IGEggRSBzEw, wOuqeCjXJ2XxEHjX4RG-0w, SZa_mGwvBJE6ECdZnkAqOA, TLymPiIbmM07H-I6SyCmgg, 1CkK7ZbHD6hf--yi0fL5dw, 9-sg-awD4wBQudDopOufKQ, CdUq9v50tFlgmZP19t8HyQ, Eq1pMFw7esgDsZv7AOYJ_Q, JeWTh9Nqw1FLWnf9VbHyQw, jnQ6HKXkDqebDu-HpohFnA, MKKSHNBIXSl1Agps6Rbqcw, _oK-72eWZrxWKgtkUZpXww, F00bYQx24k0XGWMHN5S3oQ, IL3Oh14W4haIllB6mAtZmQ, hK9lin2Jm2du5yayWDV_uQ, Nbe3UOAL5tWbejE1JFITCA, t2Fu98U_wEKnV8ViY-ZitQ, 0lvbLziPRbz6yxEa2R_KwA, L_2YNKqoRcO-gAajqjj0tg, cr3bIFNBhmq0AuJsvqfIlg, Y6GosB-E8CNVgurIpmFYQw, XW-Gue0vlaYnu9JUaJFEew, UCEp5V7kjsKVIpf71bIbWg, B2507cYdEX7LywdoDUa4Eg, 4RvKw9TvDun7bOGZUDMNHg, hvMfpavwpFW3Qh3cnAZ7bA, vSRbECWHUUZvOdyjzJlAHA, DPiZ_4tSvz6zuFa7ER42aw, 3Tu_E_rnJUMT0nvZt0gLGg, uhkKjqv57lM4PWcP5cFfHA, nr5ClHq-4vyx3VgqN5kdZw, lU0WxV5UjAzmbuNklvrnPQ, EwKwHnD1YBdd2No_cRGyiQ, xc81AJq6csfKQmo2Wx68qA, z-VCunf57z0O_z4lGNcZaw, Sa5HS03LEkxDgsuIpyNXug, jEL3SAOjGFTsRiznhnU9BQ, kJOpmRoY8Vk7eR9RWh6HOg, ih5ab_LY5ZBF96xR3yhPzA, gbx3IYFKB-36HhV5wM3G1w, 4JuheHJaShNKd36ctkMeCw, vJBlQr88EZ4PBo1h-ge5Yg, fmbacdUQTrTOtPwpYA00NA, JrDDyVLXhXSvHqaro8JFbg, OXFpmUiHJrUTPzWbXMt-XA, v1pCoQoHttflQYuy8NCfLQ, 5KCrLbYGN7yYQ_Hfsm3Whw, 1pisMc08p3pykpu1GqhGDw, LOh4vATnBipFcWmPCu0k8A, BUC0NVjJrnotcR5l2rdxnQ, LJoiY_2pPKG8xi4Lkl3ZJQ, A9weu_2okxF3SvSgDT5pEA, j8n8L8Rx73v8HZLaCfWH6A, l2PiSpXeqoQ8RUbP_nrjiA, 71HPiSCscZ7PIvw-9tu2cA, SCdr7qtuBQUhlAGZ1tDyBQ, t0zRAEf5spDf295IFLAaLQ, yFph5MjXMnvu3H3tgLjMJQ, 3Aw5KIMG6xy-oyHgV0-GlQ, oXLz0_Cx2735wXgEgHr6Yg, U3MsNj_Y9QJR3zet2Qie8w, OfRdUkub_3p2QN8RPOSphw, vmcqAzBJLDYNFbW-n1fMAg, Ea0qDDlNJuVHbhLxuJe0ZA, gx3BA_7Xg604rHzMt_kAlA, 2EH5dHIs8nPrmb7AZIvRAw, A-k1MKZ8sLvYQsi7EqYb9w, Jqe7yuFp9M8SPMDOYu0Mzg, Nz6yAfGZ3qbJxzRyrt4wTw, ipmg7k0ohCgDId9sN8rFfw, yYWvkChJtPoRM-U8UcRLfQ, nDwZBm9XpmelGhwjtX9L0g, 1S1t3yw_uLqreagmiEukPA, OQL3UuILSYpLcXWcGNAELQ, u4t0wqjJ-xkZ0iJu48jkXw, ZJtkx_hFEqdCioRsE9Pf0w, 0V9ozGkVEjIoD1bvfT6ESQ, YFJ4aClWcqo9SFRcGY7FDQ, c0cBVKA4lSmf10zrMdgjcQ, jPdh_xqx8NbftgNM2DynfQ, FlqNvqZjcwvgiEKC2Tt0OA, fa0rqQUGmPua_KJmDQdwdw, h_Fgkb9Anxi4DDMZIvijOw, 21ebz1zQTbIaZh4yyo1j5g, NSHCHmd74-8Tqz5LIDT75Q, Z5VJvMRN12js2k2XI7ZjKA, qcQXdNywQdSkwtONRr_5Ug, tM-29M_Nmv6cnnQjula8Tg, d31wiC8swpcod_WEbvT7ew, c41mp1-LPynfReHGJUiyHA, JuuxekdfWW1MG8hZKof3uA, fNBUBT67WaATQIJOw1YfTA, Vh9Et5tPeXTwHPpsrOLx4g, o-1Ri4_LhQQabvfI-VS_9A, 3JmdcESvJDR5Hzwk52lX3g, hUNrOg65JTPhWzTv94-N5Q, XsmOzvfIhpMPdOIc_qejhw, a7t7wyVJcu0r8lz-oUWpfg, LwBsRU0h2KKMvp8ww-n3iA, x2K8YAc3TMOLkTwetvj5IA, 62GjqZbaqjtkZg7FhJOmpA, FMpzbc72kxc1XzKtszTikQ, nW_rPSIj-FdOJRn9ObK4nA, 7mheFq31ocCttS2uo04FtQ, cf9LYsHgN4s2lqdP_y8SkA, QQxNfYNykLHs38bC_NgGwQ, S9eFTnU7SmJn4wNOeohYRw, tO6fPc39fjX-E9WkUa1RQg, i-sGXHantCMU89xGnmvQlw, -I_ZfUrRiKEx05-69rmiTg, ZJpE5qDqlEm7A_JFEDgZRQ, 2vGCJ45xvACOSL3DJ33ibA, lQlhYe-6kVhMOBPAWvYajQ, UkQuKJ_DEqXG52UbPxe4FQ, NhjQOrzAGjDFXRYrZ0-NOw, RnEwTjf5bxhc-YcdezXQOg, JJlisIS4IOVE2TOt8y8a5A, KacEzlmXp8s2tVWkV8LKwQ, OFPgwLm3xm9GpRuj4PFSDA, tkWF8_dpptO04BQurukx-Q, 3o1JaQMfrf4rGt7gj9sghQ, wUZwwaSur6cBVdxaK0cSuA, mOHEiIiExrU8Ep6aDTLoKA, OpOHaljL2FUXcOkdRWLqJA, lyip0vXbZmdJbXlM1Ve39g, 6T8CHNPlckS28U2Sw445_Q, JfQFiwkyMcwIz5B_4U3-yg, bqln0cuhJyQTiqpYuaoZ7A, e9HW3tB34ZNd3HzcswDpTQ, HD21Ye5D42ChK6Dzml7fiw, ysBy15KUcmQnMJ6FVMqztA, c5OnKJaeA3qUC8pTPeZEhA, BkNikjMkN7YtBe0Z8EsIEA, 3smrS2lpcaO04Puip258QQ, a85iST3hLHKQmkRhDk_KcA, KP_lo9475Wxra6PkkxST4w, G-bPUbx61xw70kW33ytTvg, iEONL-v4W46yliYsovCP_g, _C2cJ17vSRvRBiKWJ2ameA, PO52jOgAcr0-lbqzWvA9EA, fqi_FVAWG9bPqGc0j8_Haw, 7vDLXJZKdvKcuktSgF1pUA, fBpg2sPeXcGVn85T6cJQvg, isd7jLA00nt022Da8MqYJQ, FDmR0m4peLNkRh2aXQ3BLQ, ki8exBN1pBjSE7PlRog_Zw, 9DWIu7vW78lfeTT3dZ0bKw, hLXrboOkNwpjbC61fqB9Tg, CEnE_AixMo3tKPGz90qqXg, _3-IgFcAw5HVfJ0n2j4hrw, zSMWLLSsXSdSgHS_56J4Dw, lEoVl2Y4mpvkIfpcRSHNpQ, tYSdUh-rDvbinGhZUssv-g, EK6qXQ_DiPnI2Gl4kTRQeA, JCKBuibfKALrRlJfOAXG6Q, _lDyP391ahvEygYnXX39ww, 2Z5ziIMTaH-rFPVkym6JXw, NNkoRAFEJX4LOaHT-PHohg, b7qDvcH9rC9r8iLDiHMlsw, -3sjuYVkiWZPkQW_x37Ngw, yKFmQ8rE37ZPCc03i9ZQDw, FskmxCtEip8gwjpMotvIfQ, 1Nd1BvPsgCyg5_biSJZrSA, scgj8LDtiSIZz-wchh3fRw, R7RbOGcoj386qUGc-oJtVA, FIqn_W-DbKTXW2OXl5UfrQ, pp4ax-HLbdvGCzTc0L1dlg, dC0brUBqOuG2acjpNYb5Lw, 42P_hSlGg0Lgj6wl9-eDjw, -NZzbQWUZDhoIjl7FGBTZA, fb27beGxhwv3kp5B5CQLpg, T6U7wWwCfVrIqAJ6DE87jA, tbmlt2GB2TsG5whGPgKlIA, 1AHf5XEAITYGvJNPD1FzKQ, ocOFYNa4JG2zdUnXzDKTYQ, 9CsGLOKpNKmYzaUMKrkI_Q, Fcutedb_UpShe3FDXJdZAw, DQLeXLdoj3N83dx9U55sGg, 3ZtI5EB3ce9mAByNl3QJ5g, de1qGBWIeS0fW1XGPxJqNw, l7sPXbqs-tt0xNc4IreexA, 3Wd5sQG9rxBcppJgut9qEw, Y1q1tQV-MRmNmXg59PPVuA, 6GfLyNJC6fq-5SkFacLSEQ, TPlHel4vQUwWuUb1WesiFg, duihVwxxVm8iD1NVPwiWCA, AdnYncaH0p1xX4Qptr2JTg, APG_9lB0XUPfnFtW8c2euA, JSfwSrT-0xg5vcmCXU5E9A, o8taQ1lGwnpHPNW9m8Gl8Q, mhBSh84x1Q3IQ44G_TUx-Q, O1gwXEy8CiVkOcTRhwQh_g, olSaco1RaSXC7FX8-RUDSw, 20gwbEbQ2YiZt-b_lBMFFg, Jwq1WTcGnofIAyyezN1DCA, UcTcInDXv1ir4n2I95eL6A, 1FIiSLfy8-Q-bP_i9vONpA, F09W4BN82-KP2QG5ENCKmw, OeY38rFCblxPjPZOTU5qTw, V96JMZoCyVTBcMLo6tBfJw, nhsvFzvflITLv1KzUYCY_g, A4OsnPxvbqkbWj8LTw6dAA, gx-rLLuML_Qv56fddsIkrg, fxfPnvlHe1KM3PwwiWXoJw, ic2GN2oeACfakY87UsNgIA, Q80j8uPT67NFIaZRz_de9Q, 0wdpaxsCLeC_exmURwqgtQ, -7niRC7XqaeD9k-paumoVg, ZSexQZocb2p2MH0LLQtVhw, WbJOBXGeZeOEzfNmpUCY0Q, Ol0E-A7fd1wiP1761HCtiA, -76T1GLruQ04SyJMFn6hOA, iAjYlvwZQijv-sJQitWDxw, RoMdD2QCJ24FwxOfNPTBMQ, MbC9tk151T2VfCigDvXKwQ, zUcEF4--1BVttP--QCzUug, qShUTjfgcFwHZbqpXwg6tw, Yl-k4fiC2jJyXSkbAd9qbg, wHb1WvbS8EGFfW8WLLyTXA, PZ8RQyf5nuViTh7W0eNicA, rNsgHVf64TkGNdhURs0brQ, 81_GF8Lp8OCQ9ClBxbjcIQ, peC9oY7mzKcHdM4eD9ivFg, maTdma8Zx8HSbStSzcYH7A, IXsxl37WS_mAMqmPR6nO4A, 1X6nQsT319S45ZeXZwbfPg, uqZKTBVL7z5OkOeiL8wvhA, 5mdqni3AgcJ6JZnkbKknAQ, idN0FaGuNgUOcEg1Rv4KeQ, oB1TReHAj1GnF6KL0yHJ5w, 0eMCr01NU2HIT-ZCVmSNqQ, RLwna6EsQCrelJJ_CMdF4w, ECperHcJz1OYdmcr2VQQaA, y-ylpizkh5tSgh7gJlef5A, 69XH8Oav9YnddWlVYUhhAQ, 8cRfVboGSLA_yc94mBwY-w, EKMum74wUMoNaNLPzW2aQQ, u1h3gkRQiiWIn7ZogDk3qA, lqYlCYhglgk4JoYmoQtmGA, yxsB-7F8wCJ8gsdboWcpLw, HrtzkY1_1Vs5MBGmNwDy4g, s_pnBPgEUdtjhIEt-e-zTQ, c315NCoNvWeHEGMXfZWhmQ, q0RMIenA9KFTT0YjtgqeiQ, TtiZMJkZyE8Honw4i98r2Q, eQ2luaCqWrtetl8aK2C-nw, 2TI6aBY7XeQzjW_0Y4CzCQ, SaLuzwzSEBlvng9y5fp-3w, v_JoztTm0cQpDFa5cO_Hcw, cOBfW03LYKiZSSU3f1A8cA, gQxXz8gZcI3PJRHY5XPHBg, tuEj3m__wZbIFUV47C1WMA, oQUVlhpB0tvyzzdbHSCU1A, rNL3gaeqfcSBzcOEmUqEHA, 3RCA560eLLTlBoWZDsNWDQ, b1jSyiVpJNLmLPSS0WbXdA, ZXFTFPEbvgjQu0LcM8NK5Q, L7HDxa902qQhkYbpk41OwA, d7QaDQh6vKJvSKQuQeFcJA, U-EPgANh0rYjspyAubfJJw, NjppReIm8Hof_FSWeTppZw, dVO_MMInwsXyUHv0mdhlrA, mkXoA5xQvo2dx0EHAtWmrg, uDGDBVbgmTYbtxoOtI_CDg, aaRtXRyDz-EWdwm87ZIDEw, h6k_Ux2KLLBrQtCIsxGXzg, StYQdEfYZ8LjGps3dkp-Lg, LFDuz7C2U-Co1W2a2B9dcw, 9tiLHVRQLjX-tMPlxgSrGA, F5Oaneq5FBTF_Wq3qHRrfQ, gvwq_aU7RB7T_Wjtf1YjPQ, zZkUkK9M0v02qHBCCm5zaA, 1dmhJRhGqrQ57q1U0CeD-g, wRLY8U1YPKbEa6G6SIV8Og, ni_s0VyD0XRC94NS-4TIUA, EFxUsGvwea52ewI6ygdRbA, DQkO8xnd6JUp3eehodUMqQ, NqBxzUN6ByA22GlVx94uSQ, gg_PAWQwZDrGtKx_6vJ49A, hkV_CrgjTeJBTAWJWAO46w, EKNksYUT3V3jXYG3nbIk_Q, Gv0OY1DRWePXV5bY0nctyA, gUKYn1gU2kWTsugSC9mIhw, -c4GFlUFGqsR3aWF3-FwXg, deZ1MgQGxSEs-3LbBN7m6w, Wnicsovc3dFzGbZxPV7P9w, FtK5-u4R8n6Bh6HdIPIlgA, FFigwLAAhscYpqemMHnVfg, q_QQ5kBBwlCcbL1s4NVK3g, RKwkYZOg_82sGSnj_7nLtw, 0BkddRbZL0AxS6PYn_f2sA, DJONLS6w3PSccMEmYKSKyA, Jdp96nuCYvrHo4YNFwMdew, FUjz6b4QAs9BS5s92RVpow, 72CdgJNB93O6lyhNPUmmsw, SlTAjMuK8NKNEWcdyQ-i4w, itCQYxlnjfnQPKQBU0K_dw, rliHBeiabUwzy7zdjtSh-A, A-ktB_d4T0MWZVw-YV3I-w, 9SgrCtJ0k7U0rxhcazaiiQ, eynkMymKjJDVdUsfIJtShA, oenYT77jShAyNvfqbZiclg, 6QdnQoWBHaorYoiHvIAQHQ, pr3FIm5CWgl5P_NaNqReLQ, OjjlkJX_7AgeJ5Z0OPKndg, cRbGZMBcOySvHYoYLb6jng, CAO-uQKqaCb834zmegPVuA, rOaoXS2ranIPDMmogoxcHg, DgLOt08hV0dwCKg3nGNGzw, dfMqoJD3kHMrY1KAUVk0MQ, z4Y0t5L2S-8Gbn3edEYyfw, YI5byJNiWTgP34hHxb1-lQ, OMKP75DEKRhU5sD_JFi0gw, OFWsupda8puu52NexVubuA, wTNav0Mw2je0KzC-OUksVA, jdWVDVdh6dDu7hgthzI-gg, vF4kLTg3W9dO4tSdXLWMLw, y4oMRaj5IPvcwJY5HBFQmw, DpjBtmkGpzh8LtX_1vn57A, aLiu2fGbcQMUw9eiNw-AEA, KTQ7l_vw84tEzSwvSOGm9w, ART0de0KPsRNeXGo8ho7ew, Lj4KIbrlZ8UiF9vmND2qYg, LW5X1xzxR317poYRK-qyhw, Bu5HNERCUpz_yqBgXrKqGA, Dycz-tjFSokl4ZO-FHxz8A, tsmqKG8Fu_lsVuRSP9vIMg, VcRiO3RYhzTiIrdL7_8gzQ, b3IUsYRHCcQdoWoCJGM2KQ, 7sxNZQ7IHuS-YKQR-a3FMQ, OY6OhyGyhbfBnQd4CYSuKQ, IbqaS3Q1x612Jiocv8gkcQ, OXpGHJudaZgrZWJBPS35Bg, FOC5dArAp-ZPzMsJLYoZDQ, BdoPpSj_LvxFetqKvpe9cA, Q-6rmcCdzYGHaPbwC_A2Pw, kFSwBhUfkzArjsqQ1rgrcw, sUm1WR-TyDeQBrzqu4GA5Q, dAbFPBuMbJ775Ja3z27QVw, QKlkG20gGZ7ovol0RQ5L9Q, aISCSMvsLXamoguZy89h4A, B5wk5B0hQukgjpBkS6x0pw, muBUiblxLTIq_iXA5KhPRg, k1Cd7lrfZEaQpIdDUGS6Ww, dtr0oicqyWcTZAlRdQxnMg, ipC5pbsw3sGQKkOX37_-cg, tOMKuiaqpqQPpfDZVz66yQ, dQoSRhtUs-X7er34vsxKzw, wJ-c2L2PlHwoXZUH_BUiig, V6OHfljlS0Weu1yTXAXvvw, kmLSylYR-J7MDK16LwR02A, c2xMVQz9XOES8k9mUkcuBA, 2tavUmNms51nE0op4pqUOg, spDS7HPrOUc3wCNRyfSUnA, ggU83b1PBu36_m0QW6dNJw, JoABwII4DUZSm_Ggvb5Iag, 01ehZ6yudnTUlCwW7r_xGg, fnJwneAe1ssUGCmtcV_cAQ, swUxTfJ96XZJ0ufmljJiXQ, h6PpqBWB_5dBA6Z6En2Hag, NhHB2wf1xbM49aYp0WGEeg, s-jFk0SPuxOTgRefoEVnhA, O68-LHas5L-b_KC117Yt3A, OBRh-pTZJMAeiV8kmYRUSw, EBYk847hBf5Gs9jbkMxAdg, EmUHQ1svWyEdksHnm17wag, JuO4YsXmcGQp8d_jZ0S2oA, PjMC73BLj4BfhgAw2TG7Dg, 8u7cbhLCIkO2o1_965YOoQ, U0E6K6QOb1XzAs0IPSkiMQ, iSdVt_xxN-n0goJV4-TIsA, d3rf5HtTsX9E_M7PDexkqA, lkMIEDnfJT76DJZmegvFdw, ARJMnx84TWM-pAudSzuYDA, JWfVJjIwnhk2XoWx3t-_Aw, LGUPaB3a4YSaKLw8pdlCbg, JvFYKQwWTJ3-P80Wmcy6iw, Zyrb4FHJGD0SPvcLKBKDIQ, Z0iHeIwjetHce2z0saUNDg, ciBWLoVpNF37S5NGrMctWw, -A_IilsBqWOffdM9v0wEgw, x11OQ3q4RJV9Ol5toZ0wkQ, pbo1ycfllGw34eREJmROSw, tfRFifsrcbQdZBTyQtir0w, vOwgWTLGsGF_k57tvVi42w, X2o7YitABpUWP5eIaNmtiw, vk97VVHn6HHj2ESw7jE-eQ, xroBj5J89ftnaHsUSJjuGg, VRS39jY2UO9vchUCqcqkXg, Y90ZCzEaPiU-tDrDqGKIbQ, DmXtKTyfX4wLqlYOUGH6sg, pLgglZKkv0nJfSVUTFH2CQ, KRglHV_k7kVmLjRcQsU9SQ, QdDnmWKb-elFcxqtSYPnFA, ZFTcKe3Os8-B3zEqkrz7qQ, nhYsvDpjPzDqn4tjdlqaDA, svKvXGcy2Gbm8tUOocuNWQ, 4w8FyRs_KQQd2xTBqF2ozA, THD2rkIALeWbhb3RsmGveA, VmYpF5C3GL-7wFnvOkhpvg, YVlUxBTWA3-WdNetYTdwjw, K6-zS_78ljPRiZUlxr73Qg, _pBypfnNCSMwOU6atNFA9g, wJs1WVWX3EPCMpdTJVQo2A, Oo2CvmeZm6AAprnxGj4UhA, uA4VxiWlx2JAddre6gvckw, gbMOdEeY-hCBUV0YLeY70A, 66x9PxMde8s7DnQDQJy2Ow, pOdjqpUJOV7N7EC-mE1FCQ, Oi1qbcz2m2SnwUeztGYcnQ, jTEd3ee-lZ5rWhV1CoqAlg, fRUH43O4rYSjXQ46NkYVKA, c1JehE_qeYAlRRcfOmh1QA, ydOR5gUfDBg6LhQcKj0vVQ, v-gWt58dzh6c120EXiIrVg, iCEywLTzIt2Op2NSXa3isA, Vp27qKc7hnN99yJVFYz9Rw, loYvUcSTzhZj3SOzxJuhGA, gx262ad7Ndkp8RloJUoqFg, JkBUhPsN8WkEE7F265qVbA, y-YQSpqFui1dvdhd4cq9mw, fFnndqt3Jm7mMt0eNPdcDQ, DW4qikm-Tt1F1DVJWgs_Fw, ActxnwCtpCGcG4eoftCxWQ, kYZ48tL-nCkOyggg4n-LXQ, FxuDifObogmez8ov_E-EBA, al2yNZO81rTdO1inDYpNgg, zICZDrYzs-FaFMnWyyC_2g, kcThkZ_V0-knmrpvzVf-JA, -K6xdMWTEKJ4d242KQi4Zw, xBZzs9WatWDiA8YiS3JqDA, QJxJRebeiv9ua4Wyf1OsxA, b-dgetVymXX5f6dbfB4QpA, rX68OFe4FjIOwf3Q-IHkTw, Rl2QnRkOMsGxKmO5xt13Yw, ySR9XVfhmaeaHUssJHKt2w, 6jDPuWtdqDkU4KSmrHuL2g, ChqSOqWnh9AT9PZIiVuv6w, gWPZ6Haxd4H639aV_KXE6g, t1xGmdKJkhuZcfvhsAZ0Aw, OXR7GTK96-DVxwSGL_B36g, vPqkPXual5Ag0evu0oBs-w, kH4VMHH6EjbeKOeBU75OUg, uzKEL-HPTdmhZkLiELIYbQ, 9uniMa4DrxzwNdXZfFdm-g, fO2keX0xyH9Ep17wIV0aAQ, 09_Mk4Mdr6cqw0TYP6FHXg, MJYjuNgczvDxh7hpZtqa8g, PXozASIfrPR87_gfDyn8Hg, C6VmC0dhZUqK__ecvomLHg, F3Qc5UQBkOxRaNInIt0M6Q, m6_v2DiZJZb3GCIT5Z0DZA, qYS1JoYZYk2OdcJiRKX-Pg, eypu2XQtxs8Ni5gRQJLb0w, lS62IyC864gXfEQEwoszKw, 41zKF-WDZccKBLG2Q7VYvA, B9oUiFJTFR_6eSMKC-VCWw, 4LWUnNLZzNG6M0I02KKsRw, axqgWX2BbwZVB-w1qyjTRQ, cHvgqyD_BP7tLP_mnhZy9g, SWKiXcheD-im7HMzxRxfxQ, GTS7fBHiTxXFzXWSBP8FCw, K71NW8AvyTxqt9Q9wViWPg, xxBR7nESi9Rt8_v_BLKhAA, pyK1NsV_aSeXY-j1vSzqvQ, 2xefCmSuC_FUM2H4RRs3gQ, KpAIMa59FydKqadTDBp4zg, rS1T130hl2oyoRekp7uWfQ, dw2Kqrfr3LmHhQwutKzgIw, 3TJcP0stfxjWGsLuGQgQdg, 4bu_GvtwrsBjeN-sUUZ1CA, 0beU2rN0ZjzFXQC-YQirtg, 4T80QStBE0oRE7E8NFy-Cg, TxGwYzYaKeT5xvTg4RaGLQ, iP8lkeDm4sgMRaWvnnBXxg, -njSR3hGNDrKEUuqN9T44g, htoM3ZzTac06vV35mCGhwA, S3wqbjgT7IEeU3e7hqhDFA, dZqcuNkFYrqCVlmlVZGx4A, _9ve0UR6uAPWjU2a7p8JcA, hBSA8iAu5plTpCX01K-iNA, EpftuKtBQUaKChxRVkHutw, o01ioyqzlSlX7CrLzBb5XQ, mFa_MI_oxZ-LKvRsFFjvxw, tjXIJJ5nfY2Vs1G49pAquA, sgj0w2140zqTycULVVoW0A, kMq1N-a5YaTvI9dN85DXMQ, LNPyE5X1K5B_flcTCH9StQ, DDvTFlTf2zmMTfVQOxFAcw, ASmdoQWRan5EIW8QOb6rBQ, Lv9M0Qa65DcNgte0XMMKkw, r7dZUACCCQFhYS-EwLiSrQ, E_SR0HC_VSu5DJJt3erfrw, TOWIWSJxqpb81VqRtujswQ, Z58-rEiZ-y2Qhuc2jNF-8A, QmHIoqARLSlj2p5VLF8lwg, _IQinLZcYzkTPnp5FU1IiA, ZmZD6Y56H7YM7zv18T4Awg, sQdU0Cp-uecNVnc49MLwDw, RoR79lWymQoLQHIKLqpXFA, Fbzk7-THPYvFEV_h62ZGfg, MrMOnJ0fdfV_eMT2HM_PfQ, EEwkePA8X4RFnvpTr5Y_kA, G1PObpFoe7cGprJfvGMxjA, hrMsC0osJAYX8yK1PXXgLQ, ICov4vNxnhuuiqbqh77-Lw, zeul4MqRtYWvybbDVD0efw, V9rwIjMzXkxmAV5Belb1DQ, PDEHrNedsj1AhOD90QeRlg, _tkRqmrGQ2oQ3CAxM6_pRA, J3ZMxyyKO0T1V-pVLsj1nQ, ayw8WxOCcsEdwjHb4I4wkg, qqt5vu9WuDtKu5vp2-ifDg, NHgweNqHp3pXkAeSVbzx8w, UYDJCW7CkREjqVSt_HA5Xw, QX24yFpn_aDN18Es9oswDw, 4n1S89sO5tNkWtCtyHh6rQ, TaLwLDuFFQMBvIziCz5RUw, YGHLdzuZ9kzReb5_SGShGQ, YN37N5GMhG2KgRBcQCC-JQ, RKZPqZrxU5vTZX1okEsm-w, PCYst--rkKLlHzHoupbK4Q, 6ZJrzoSXsqIB3pl1sU7V-g, AzM2l3w7my6prQtDohgsXQ, 2BzT-dT5dlB0z_gnsppjyQ, VnQNOTFSAx3XGJNA6FvpLw, zc7wQeHkJS5tliTg78hjJw, -2G6WDPc8dbCl2KGsKJdfA, XMCqpe10SNF4JFQy_kxd6Q, D31nFOviC-OrWgZQ25hYvw, ZpUI9ze0YlA6nMSHwx3ZYQ, 2cB3VodNYT9Yr8FiMCfLmg, MYzVWC0-2kVvHqAIz3Oaag, Bmfo84L4-ExHDQpn-ZNmvQ, QE8nn8aj1R7l7IxG13pfPQ, hKxeLvhaP9WtW1NnPNGSyw, 37cpUoM8hlkSQfReIEBd-Q, yQo_cmJQ7H3CKU4j9TpsNQ, PSiA3JAwQxO3WNVXJD4m5w, cptQglYDaqsoPj8PuOZEtA, drsLhxMw7PXEi2oZE1w0PQ, PpJ6kpbnOngL-upGdJLvSQ, Q85wXP89nZJ8k9kJnwwEag, LH0FkDEJbZmBcvmuoaY5iA, o1sNM3LOFOPrZZ551LVrfQ, xxL-DwwdT5VGvss9mCzOGg, HUWa0lzL3J6KNmqfIQ7QLA, Oq9j8ZH-3plr7pqQdcb_TA, W9KHlhMnjNT34-KyMkubWw, 9uwqqKUozO5BhBWjNMhIWg, d-CfO0lO4qWFt_UrVDfK3g, EEHqDWd2qr8Ts_nUdFVbeQ, H8UFVos_NmuhWcpsGKB8Aw, ARmwEIhLqKEsDspXiJf6SQ, _O_E6_UJPzrqVoC7qEeovQ, lhh3qE7TvnnFJDJAgrRiQA, x1kOEZf5hbkJM8j3XwSt-Q, gBNsLyLwMxUb4WX2Sr7azg, qKzyUec2cFgRKhLY7DHKbQ, tA0p4J4SCQ9y87Duf3wCTg, l_U3dpzEcAQsidVyPUPQTQ, 9xMBkkKghIr54xc0Tg5B-w, Bar3at_6cHUag4u2AzRX5A, VknUU_gF9HDPiODU6sNGLw, 3TbCnDr0KeB7CKb7U5AKUg, LH-3SpRJ7QlV_DvY7vD34Q, cFHpfQ7tr4OOWtzlXgDeRA, 80bhTVC9Ks1KlkmhrowJhQ, fVBNRXfbFvkzWLkOiyNzBQ, 9tav_Og2maRV0ZRZs_fSKQ, 038Tt3fNhn9G7xkjg2Au-Q, 16xIUxD8TbCJSOrBf7lnbw, B8k1tHYXgBd71TP1eBf0MQ, WJrBfOvAE2Y_MgtCmJF5jg, yv_jJFMnt5a-YFO2n2fMDQ, ZPDj0KynzjbdC8KHR7TmPw, XU8KQKnPnTWEB8PIiuuUSg, xywXoLnG7qWIayFu8oZQgQ, OTMf2wGoSDOAWTCF6pPxfQ, IjpxyKxLqVfmj7qmY8YBvA, ZEgloBlsKF2caOweGy6wzg, ETurXpf1YN2RBwzO-yEddA, 2nw3C7U3-eHo1XrP6Kdgiw, PZdz5MVUYAg_zWLL1O5Y_g, I2FQpojjkkJ7pd_IToYkLA, vPCBtUe4MDkUgNbo4HqldA, 1uWt3rL2GJiptcflQa35Jg, i6SPpQsnb1nxy1vVzGAQSA, 7CLxFpFuPq7fwTN1nwoNzg, wthEfIlrXQNO0B8nRBAlUw, y6zl_HjIE-hiVxPH8f0yyA, eK0Rgl1i9XnEQ42yVZTrCA, NxZdu2xZVIof68VRwvi2xw, rUV1FUhji5xMjNBpcq5SXg, mEXaK1DmR8pd9pnUTRDymQ, FQqDP65yqE5du2cQAWhALg, UN4lPQA7Q6F9hc98xtJq9g, 1VojU4JrvaFK8UYMTnzQkQ, jLOq_pbS1zRjJZLzdJRG3g, ZclOuVu6ZedMffpQMPfoCg, hTdKJcrDVtZofWxyLW-XWw, VURC-GOYgv3wtjkNWRZbgQ, i3C7zdTrhpDxs2S10ZFjag, KEICrWDNUGVZCXyEzxqsXg, w0YlnvEogLdPm9q1D3P7YQ, J7yd-9hN9yulUPJ4w-wnLg, AhEUk_zgM0Y0TnNXGd6fBg, 1n0rXkevJ86fiRHKEK0A7g, SXxO9vVjd4_u-khNpPUMYg, RD8dH7_dLO_0FU9D6xYnSg, znzqNyW2pJ0Q9wlqvu4YGw, RA4XqDfosRAERmQvsumdig, g2mnD1pj9ufRjVBicVJq0Q, tP-kyu26EMpIJag6j0Z5qg, VM6Z418-PCY5s81jorF4eQ, wCWp_WaUgelZkDXoREc2iA, WIhUXAn7ZtFg0FdOjvKsZQ, CRl3Eg-LFfxb2YTGjfpKnA, ubbGbHvjqix9-fl1plBE0g, nyV-b6v54CVmO6_r2AUcAA, Xp6gbDHT6tmFIqfY4yD_GA, YGAbjf1gVnA0J7s8kJUnzw, hT6l-5Nl7aMIcCyNq5kM6Q, UUqGHQFu2tQDGv5r3yJWPA, GWlOOcBnW06xBUO6vpfnbA, gVYxXTV_9lvvuu4o1Of-dg, SAk6q67ERgq-5kiK-Qzs2Q, YSb8JRyI75M8FkbYWLH4UA, 6Lz_sKxV_1vgsKNWhyLLPQ, dJRTAvuIUX1kUEIqFEuf3w, 2qaY-YdSfV4mejTo2RgxbA, CVC4uPK13GKoDjG0-G0xvQ, tPyXP1mFurflg0o6lyRtqA, hyE6LFCzzwjtznRfPephTg, e1Z8qy69PXdSgZkPajbHig, 24R3L-_Y3Wo3s0XG2GxZkA, L-D8A9Td8mKZvI1l5_nKvw, trrLVPA3gfDRSM3ZbCIGKg, XE_O3FgZfqeL3YaEmhlK2w, V07oNVXXeLUnLAXl3AgF1w, aVCopHCMLO8BP0zuvbeI3g, Y1c9hq9DDrALFVao87daPw, VzvlG6oXAvY89bURD1Rhqw, JapsODq2leyIn5JTgjOvkQ, 78lZ5I6A1WFyrTQ1aEqe3A, EBj4pEHlDWnYItZTP5aWzg, OmyyzQUdazPvKAS6AMz9Qg, AgzavLRKNcSiQMwk7yEy9Q, YM5OF33p70JUq8tI0qADFQ, Q5AWod_pEw161dzC5Na09w, oPmMbyow9CWs8f6An4kAxA, p6HUDajKxGSZlIdFCKYs5A, D9T_jSn90kSHaT6dBV-c1g, nBLuibi-dUn5l9pMOd90xw, COFV0pscu5ox3AzG9eQBwg, TjCS-ZDDpgp38DNKv6bhJA, qRqa-EJpeOlNH8FaL3uKtA, iguvFjVOeABwl1gcozsHsg, Ka-UzZFhgGT2BIfgU76dyQ, 0Hf85r3hTBO5_h4Ufs0yFA, FTJe5TIhWTUnF7ak8Jt30g, ZD84600Tw1WqeKpVuNiKzg, e05KY1rRbzt-OakI3I86RQ, qlEvuh3V8sS7yGSMW08Qzg, 4uJXindoZlYPawRRJp4LZQ, jhvreOViehq5zA4p2dgSVg, mV4lknblF-zOKSF8nlGqDA, 1jIn4eal-gIRxRz0B8_edA, atyXZVf1jx_l7cUkG2otgw, 3Hi5jy1yQFJkZbQpYHITNg, FGmWx0hFD-h3YuTEql1x2Q, ZOAJ6tt9hRhJNl-ICdgjBA, VWQSWUY77fyaouPRlS_xvw, KhE9TLrENrh-Pd73UDwlVQ, TKkmt6JG-r5soPmlCuLamA, zzMtE76TkkMG_Kgj6-Z_TQ, dW7QmI3bwMs7vxX3luIS2A, 4mDJjL6or5jeKJBxrUxTTw, Kf5PVQUdDvQYf-MXoeWqZA, quqenegbmesnD1nHZc9R6Q, PKF3fTh2wCynSm2i5DyIWQ, RIeUvUKJ5fzGxC01JAECwA, Zx65B4F4WYv9Azpfpkw7IQ, 6SknGLG591hmasAGNMphlg, y2J52oE5CsWJwWlJL3TMRQ, jnKAhw3A9ASM3Nn9wXdA6A, Z4P3KGSlPcYzW6iXV_WBGw, qrem7cB77ZJKMkgEit2G6w, Ol83uVUP_A6i9Nxy-FNpXg, kyGqWXeqhLWnxD4YMsd74A, O5S7S79mG-wcke6Q-GLmpQ, XuPTdx2xrV9lBe73SffyWg, eR6GiArl5dSUPkP-fjp5jg, 2K15Op1yYaa2cqE9w-zk6g, xMzXfqw1nDO53muzD4uOTQ, De2VS5Lm4FtleCffTDGq8A, 2ZtBCnJsrJZ-XivwIWkJgg, xZIS0iyY463Pxv9_v8GBTg, grkxsXfCPvJ5mBMI5ZdEBw, -H-RZ6Wx7VJ27kmx_Aj0Cw, rQ9rPGL7Wcr9t3S3Mm0m5A, TA3upannKxVJ-4gS87x5NQ, OYlCDEZ03lKDDIucQOgC8Q, fPVRQLcd0Z-bVzsenvR-PA, 90vXmlvgknv80grsoz2VBg, ITaxs592iYpJdPwyik6zxA, IqCyPV_Mg3M_CaWQyYMrDQ, _pE9wtP4DhTxlPw_fbwrlQ, DU6E0ry3tY9Hu_QJAcUlkA, kkb9q1tD7E1u6S_POUDMGA, xL_-eFFDUfh7OPdELDyAZw, N61hkQVfKF0GXP3UIVnbWw, zUa3yNmx50srypTM42oaNA, CDlnzDBknZHaL8T3fwVaig, I0p74B-gOmltMPObXz90mA, aZp6I5gjqDXpIYWoZlG0Yw, 2OTLYD6gCofuM4pfWWyB2g, cI7KHT3XcB1LiU8wRBoEpw, JaXogQFVjzGRAeBvzamBHg, FokgHC5GuMddOY-E5Qco9g, zag_RdqQwcOtxKhy_yWiHw, 0FOV-77_5lSOzf-87YD58Q, GJ8Rhp_ypu6mWA9bmeEuAw, C7Vo14RpRTG5Bc84l4q6DQ, rDUgAXiQ7JOBBLWS1BYNQA, 9DfRpSUCek69v98bqkRs6w, s208fvmlOBwsWq_cQAFGmw, mlp8gUPmbGqGhFdYNvoDZw, Jyua2Cuir_t561ldsrlSLw, ens7LiIE4Cs4RjW5Mz65Mw, wm61ALFiZ-7BCbX57evHPw, M_yYgZq-uNsDA73Ns9pZMw, Kh1aTOYnJJQfUs6xKUivrw, veYDLMt_PgP9Vm2T0B1EnA, Cb_qVz1_gVzSKcUa0NyokA, 1N4HNCbMIead4r_22jseHw, lVhcz_c2BQZE-MpltB1a-g, DsHkwKjrwl-RUxTvmFcO_w, amVt0he3X9PTExDY8MwGow, vMh9OFIFFd5WX2M1E8fyvQ, C7eEct-OSQx1TEoAMELzXA, MKDVsEzQK48og5S0MItoyg, pJHg-bdR2SLO_-r8FCLzEQ, Qk6aLX4oElfsJSpVsL7qzw, 8Cjy2hyEc9Xf0ncmRa1OkQ, r3AgFX2baFPV96gRGAplzg, A21q3ZenowJP27kOgnUsGQ, kdnn5aIA7sBbIOpMgop7pg, zm5rHl38Of38yKj_L8KVTQ, tvLU1kOukJM-U9-i8cZ0eg, ehKGWFe_HUoSb-coFZh4AA, li32PKb6HnR4pGXCTq9ZoA, iN0A6QIrEFYoSGHFaknh8Q, LqD6Zwyk9gtPKE65Uww0_Q, eUxgpeELKKSvvnJ3Cz68TA, dBwgFpXb91CKHiSYVyUWMQ, AqR9SsmS6ehOnWV4-gO68Q, EiT_pSuIb08oRn4CfwfMJg, YSRCCxecUP4zmBwPDeK2_A, 55Hphx_uynxCdtT_zyyDDw, BAXqpS21alyoX4-Z5611Hg, W8PCus77Hunrmo21Wh98bg, p9wO2VZnHARdpa1dOFfIUg, 2now5CYoT7cAzmqEvo23kA, 3-qAkgDsq9XL0W7G2-xyGw, 9pa8ipfAvl6Ht-y1XuKq2Q, ruKz_hc3oAqmX7PlIpV3SQ, KzazJnTB2nErHt4uZfhiTA, xjntKbmGuNUARof_EslgyQ, 8uw2U_qFlNWAbLYZ8VoTlw, AoQI0h3gvajBzU37LENNrA, h0TX3pcrn-0gyBWEkBj9rg, uPLU3ap9svvX8WuI3CS9ig, VNskK7HOSboBipchRx1YBQ, 6jYpVib2IG7a5Q2G6AccUw, a3GFpumABE36ik5cPDL8PA, vp1JJ74X9ja48qP1lZlAgA, aXbE5xBGWhXqVRcrgknSXg, dLmRxHX_bond4TbkNdCV0Q, UrxGablw6fV-52vCxOtsLQ, KcHmgYf9NddPRhs6JhNwwA, vnpCQWUF-BTuljYrAY49nw, RfQnYC5bUved-Svl7gJwDA, WPbOwOcrBT8WQ_NXfmimuA, hK2gYbxZRTqcqlSiQQcrtQ, wlWNPP84F70It_l6OP2_mA, 2oNfIz8SOcUIclduAKXlwA, und96IAAKIfaGvzV92DsVg, 3RLY4D7FvBXf-ASj-WELPA, TWO4FhgJJQkz3bUWp-kk8w, 97TqoCDwrQEHonGIlYMhBw, v5hIYom09aZEr_QTVRD50Q, vTSR9YOaG1q5HyDxtuXdzg, MS5gy05k_10R0CDp4HBqRA, FSfQzpkOripe90CLG5_MVw, iZmpVIO_RyyALF1Bj-m9sQ, uaKe3Or1Lbp6ooc8VFbUPQ, cJ8IIP9kSe4GefBXJXEoyw, rNTEsL8GxdtAao8T5UeSvA, pMklRHD4FVOMRfHvk1xrqw, mXuOdJZj4bJK6IOaVWRHZQ, w7RP1MZad3YO7Vjgp3s3Dg, sKHgMg-OLlcfP_BEZDN3aQ, oCYxjlqjpnW5WJAo6HNR0A, OV6JZ1M5ov65F8PWQzhG-Q, 9OWzJquTAFnCkDLKIOx49w, 6Ft1I5n3tKGbu5jGn5XwOg, d4UEft3BhFl8oQo-jlgbhA, 0QNRU_A6aruI-SrZdG0OrQ, RbPdGsW4p7RMc9V1WF5Jxg, 1bSo9vqRaZnl1mwsoZJP5g, cUTAO7xfjpRuOcXefbF2Bw, GDwRp9KXn56PhKv8-g2NsA, Ls2StWJi63YkwCN00A_17w, p_Hvwg7zgyldr9uFNnwikA, lloH0WufxlWFtFiq5M2P7g, fDAFjdMX93n2fUOib6_GWQ, 6kJFLAHV-tNsBEZaRTqEWQ, z6oS_YSXCKbH0ShvblTYaQ, r4RvHiChaTEtJ3s3QNVIqg, Ai19LmNyWslcj9jPp0JcPw, RM_dvs9GymqilwLCm9gj8w, AmMd7xpnaf8axS_roCBFRw, MnYfi2DODiZkLIwJFuwB2g, XD8zIa8e2JjDyEHKefdOLQ, Xt6HpFX-vtjfYBnYSfv1Fg, p-g_9CsSnMoPA-fU42FGSA, 3gRk7YgFIELBsoVzzla22w, ouODopBKF3AqfCkuQEnrDg, 4RzdojCzvJhHxyXGi7S8Mg, 5cBfwjuOT9HV2539Rucz5Q, cun967dZl0Q9nMwg_riaIQ, TYCkjEHPSJSnFb6m6GDluw, CSvgpDZt8i_JvThh7E9Otw, DcQFqJRsqBhvxwHHc6RBCA, 9aPhTC34PILldShZHzPi5g, GOVm1Ba9xx5JNKfMqcDGUA, 0V4Ra6jCmSAgFtCiORr4QA, h7cX02YMLzyobfZ7E-mg-Q, -FZBTkAZEXoP7CYvRV2ZwQ, WiCPJSERjA2bMEKA51DUDg, 61eX_jnhqUIWpJDKGReA7g, hpw7UrWf51aaWKbaGGJ2hA, 8SiTOg3SauqpqejFCS3Geg, NpQpqH6yQhnve2Q5aoqz1Q, ClwWkS1CltuqZBbuDKpjmw, vIuEBI6oTyNxFWkW0fQWEg, M8XMqVEhGPn27e8eDjJsww, TdCeQnHVjA2FgwBnA9lx_g, 4oVaNhsPu5ETYHowmXaOyw, cqW3sX5drpiazwnF4Ajy1w, mC3oCWEg1Im-flyA3xAxbg, Zez2Sf_vLT2mVpi66vuMIw, R5JpISmPeTa6SnPVU2VieA',\n",
       "  'fans': 78,\n",
       "  'average_stars': 4.37,\n",
       "  'compliment_hot': 8,\n",
       "  'compliment_more': 9,\n",
       "  'compliment_profile': 2,\n",
       "  'compliment_cute': 1,\n",
       "  'compliment_list': 1,\n",
       "  'compliment_note': 22,\n",
       "  'compliment_plain': 28,\n",
       "  'compliment_cool': 31,\n",
       "  'compliment_funny': 31,\n",
       "  'compliment_writer': 19,\n",
       "  'compliment_photos': 31}]"
      ]
     },
     "execution_count": 26,
     "metadata": {},
     "output_type": "execute_result"
    }
   ],
   "source": [
    "# friends, fans, elite\n",
    "user_data = graph_data.map(lambda x: parseJSON(x))\n",
    "user_data.take(5)"
   ]
  },
  {
   "cell_type": "markdown",
   "id": "56ba2223",
   "metadata": {},
   "source": [
    "## 4. Identify the top-ten most influential users from the Yelp dataset. Justify the attribute(s) that you pick to measure the level of influence!  "
   ]
  },
  {
   "cell_type": "code",
   "execution_count": null,
   "id": "89c0fb4f",
   "metadata": {},
   "outputs": [],
   "source": [
    "# PageRank: add weight for certain attributes"
   ]
  }
 ],
 "metadata": {
  "kernelspec": {
   "display_name": "Python 3",
   "language": "python",
   "name": "python3"
  },
  "language_info": {
   "codemirror_mode": {
    "name": "ipython",
    "version": 3
   },
   "file_extension": ".py",
   "mimetype": "text/x-python",
   "name": "python",
   "nbconvert_exporter": "python",
   "pygments_lexer": "ipython3",
   "version": "3.6.9"
  }
 },
 "nbformat": 4,
 "nbformat_minor": 5
}
