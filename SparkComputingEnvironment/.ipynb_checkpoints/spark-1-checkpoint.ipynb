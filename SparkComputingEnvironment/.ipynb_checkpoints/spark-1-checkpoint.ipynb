{
 "cells": [
  {
   "cell_type": "code",
   "execution_count": 1,
   "id": "8620247d",
   "metadata": {},
   "outputs": [],
   "source": [
    "import os\n",
    "import sys\n",
    "spark_path = os.environ['SPARK_HOME']\n",
    "sys.path.append(spark_path + \"/bin\")\n",
    "sys.path.append(spark_path + \"/python\")\n",
    "sys.path.append(spark_path + \"/python/pyspark/\")\n",
    "sys.path.append(spark_path + \"/python/lib\")\n",
    "sys.path.append(spark_path + \"/python/lib/pyspark.zip\")\n",
    "sys.path.append(spark_path + \"/python/lib/py4j-0.10.9-src.zip\")\n",
    "\n",
    "import findspark\n",
    "findspark.init()\n",
    "import pyspark"
   ]
  },
  {
   "cell_type": "code",
   "execution_count": 2,
   "id": "2b698fdc",
   "metadata": {},
   "outputs": [],
   "source": [
    "number_cores = 6\n",
    "memory_gb = 16\n",
    "conf = (pyspark.SparkConf().setMaster('local[{}]'.format(number_cores)).set('spark.driver.memory', '{}g'.format(memory_gb)))\n",
    "sc = pyspark.SparkContext(conf=conf)"
   ]
  },
  {
   "cell_type": "code",
   "execution_count": 4,
   "id": "f65aa306",
   "metadata": {},
   "outputs": [],
   "source": [
    "textFile = sc.textFile(\"/users/trush/CSC496/SparkComputingEnvironment/data/shakespeare/shakespeare-complete.txt\")\n",
    "wordcount = textFile.flatMap(lambda line: line.split(\" \")) \\\n",
    "            .map(lambda word: (word, 1)) \\\n",
    "            .reduceByKey(lambda a, b: a + b)\n",
    "wordcount.saveAsTextFile(\"/users/trush/CSC496/SparkComputingEnvironment/data/output/output-wordcount-01\")"
   ]
  },
  {
   "cell_type": "code",
   "execution_count": 5,
   "id": "a13d9fed",
   "metadata": {},
   "outputs": [
    {
     "data": {
      "text/plain": [
       "2"
      ]
     },
     "execution_count": 5,
     "metadata": {},
     "output_type": "execute_result"
    }
   ],
   "source": [
    "textFile.getNumPartitions()"
   ]
  },
  {
   "cell_type": "code",
   "execution_count": 6,
   "id": "361a5117",
   "metadata": {},
   "outputs": [
    {
     "data": {
      "text/plain": [
       "4"
      ]
     },
     "execution_count": 6,
     "metadata": {},
     "output_type": "execute_result"
    }
   ],
   "source": [
    "textFile_4 = textFile.repartition(4)\n",
    "textFile_4.getNumPartitions()"
   ]
  },
  {
   "cell_type": "code",
   "execution_count": 7,
   "id": "4ef95dd9",
   "metadata": {},
   "outputs": [],
   "source": [
    "wordcount = textFile_4.flatMap(lambda line: line.split(\" \")) \\\n",
    "            .map(lambda word: (word, 1)) \\\n",
    "            .reduceByKey(lambda a, b: a + b)\n",
    "wordcount.saveAsTextFile(\"../data/output/out-wordcount-02\")"
   ]
  },
  {
   "cell_type": "code",
   "execution_count": 8,
   "id": "3f230458",
   "metadata": {},
   "outputs": [
    {
     "name": "stdout",
     "output_type": "stream",
     "text": [
      "PythonRDD[34] at RDD at PythonRDD.scala:53\n"
     ]
    }
   ],
   "source": [
    "wordcount = textFile_4.flatMap(lambda line: line.split(\" \")) \\\n",
    "            .map(lambda word: (word, 1)) \\\n",
    "            .reduceByKey(lambda a, b: a + b)\n",
    "print(wordcount)"
   ]
  },
  {
   "cell_type": "code",
   "execution_count": 9,
   "id": "9bb39e09",
   "metadata": {},
   "outputs": [
    {
     "data": {
      "text/plain": [
       "[('of', 16819),\n",
       " ('Shakespeare', 5),\n",
       " ('', 264326),\n",
       " ('Author:', 1),\n",
       " ('Date:', 1),\n",
       " ('[eBook', 1),\n",
       " ('16,', 1),\n",
       " ('Language:', 1),\n",
       " ('Character', 2),\n",
       " ('set', 423)]"
      ]
     },
     "execution_count": 9,
     "metadata": {},
     "output_type": "execute_result"
    }
   ],
   "source": [
    "wordcount.take(10)"
   ]
  },
  {
   "cell_type": "code",
   "execution_count": 11,
   "id": "dd984048",
   "metadata": {},
   "outputs": [
    {
     "name": "stdout",
     "output_type": "stream",
     "text": [
      "[('Shakespeare', 5), ('', 264326), ('Author:', 1), ('Date:', 1), ('[eBook', 1), ('16,', 1), ('Language:', 1), ('Character', 2), ('set', 423)]\n"
     ]
    }
   ],
   "source": [
    "local_words = wordcount.collect()\n",
    "print(local_words[1:10])"
   ]
  },
  {
   "cell_type": "code",
   "execution_count": 12,
   "id": "f38aa44b",
   "metadata": {},
   "outputs": [
    {
     "data": {
      "text/plain": [
       "['Title: The Complete Works of William Shakespeare',\n",
       " '',\n",
       " 'Author: William Shakespeare',\n",
       " '',\n",
       " 'Release Date: January 1994 [eBook #100]',\n",
       " '[Most recently updated: August 16, 2021]',\n",
       " '',\n",
       " 'Language: English',\n",
       " '',\n",
       " 'Character set encoding: UTF-8']"
      ]
     },
     "execution_count": 12,
     "metadata": {},
     "output_type": "execute_result"
    }
   ],
   "source": [
    "textFile_4.take(10)"
   ]
  },
  {
   "cell_type": "code",
   "execution_count": 13,
   "id": "d8286dd5",
   "metadata": {},
   "outputs": [
    {
     "data": {
      "text/plain": [
       "['Title:',\n",
       " 'The',\n",
       " 'Complete',\n",
       " 'Works',\n",
       " 'of',\n",
       " 'William',\n",
       " 'Shakespeare',\n",
       " '',\n",
       " 'Author:',\n",
       " 'William']"
      ]
     },
     "execution_count": 13,
     "metadata": {},
     "output_type": "execute_result"
    }
   ],
   "source": [
    "wordcount_1 = textFile_4.flatMap(lambda line: line.split(\" \"))\n",
    "wordcount_1.take(10)"
   ]
  },
  {
   "cell_type": "code",
   "execution_count": 14,
   "id": "70823985",
   "metadata": {},
   "outputs": [
    {
     "data": {
      "text/plain": [
       "[('Title:', 1),\n",
       " ('The', 1),\n",
       " ('Complete', 1),\n",
       " ('Works', 1),\n",
       " ('of', 1),\n",
       " ('William', 1),\n",
       " ('Shakespeare', 1),\n",
       " ('', 1),\n",
       " ('Author:', 1),\n",
       " ('William', 1)]"
      ]
     },
     "execution_count": 14,
     "metadata": {},
     "output_type": "execute_result"
    }
   ],
   "source": [
    "wordcount_2 = wordcount_1.map(lambda word: (word, 1))\n",
    "wordcount_2.take(10)"
   ]
  },
  {
   "cell_type": "code",
   "execution_count": 15,
   "id": "bedce2ff",
   "metadata": {},
   "outputs": [
    {
     "data": {
      "text/plain": [
       "[('of', 16819),\n",
       " ('Shakespeare', 5),\n",
       " ('', 264326),\n",
       " ('Author:', 1),\n",
       " ('Date:', 1),\n",
       " ('[eBook', 1),\n",
       " ('16,', 1),\n",
       " ('Language:', 1),\n",
       " ('Character', 2),\n",
       " ('set', 423)]"
      ]
     },
     "execution_count": 15,
     "metadata": {},
     "output_type": "execute_result"
    }
   ],
   "source": [
    "wordcount_3 = wordcount_2.reduceByKey(lambda a, b: a + b)\n",
    "wordcount_3.take(10)"
   ]
  },
  {
   "cell_type": "code",
   "execution_count": null,
   "id": "0eb52ee3",
   "metadata": {},
   "outputs": [],
   "source": []
  }
 ],
 "metadata": {
  "kernelspec": {
   "display_name": "Python 3",
   "language": "python",
   "name": "python3"
  },
  "language_info": {
   "codemirror_mode": {
    "name": "ipython",
    "version": 3
   },
   "file_extension": ".py",
   "mimetype": "text/x-python",
   "name": "python",
   "nbconvert_exporter": "python",
   "pygments_lexer": "ipython3",
   "version": "3.6.9"
  }
 },
 "nbformat": 4,
 "nbformat_minor": 5
}
