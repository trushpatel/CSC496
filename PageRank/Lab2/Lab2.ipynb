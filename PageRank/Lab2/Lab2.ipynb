{
 "cells": [
  {
   "cell_type": "markdown",
   "id": "897d5503",
   "metadata": {},
   "source": [
    "# Lab 2"
   ]
  },
  {
   "cell_type": "code",
   "execution_count": 1,
   "id": "87aff78d",
   "metadata": {},
   "outputs": [],
   "source": [
    "#pip install IP2Location"
   ]
  },
  {
   "cell_type": "code",
   "execution_count": 2,
   "id": "3c8645c2",
   "metadata": {},
   "outputs": [],
   "source": [
    "import os\n",
    "import sys\n",
    "spark_path = os.environ['SPARK_HOME']\n",
    "sys.path.append(spark_path + \"/bin\")\n",
    "sys.path.append(spark_path + \"/python\")\n",
    "sys.path.append(spark_path + \"/python/pyspark/\")\n",
    "sys.path.append(spark_path + \"/python/lib\")\n",
    "sys.path.append(spark_path + \"/python/lib/pyspark.zip\")\n",
    "sys.path.append(spark_path + \"/python/lib/py4j-0.10.9-src.zip\")\n",
    "\n",
    "import findspark\n",
    "findspark.init()\n",
    "import pyspark"
   ]
  },
  {
   "cell_type": "code",
   "execution_count": 3,
   "id": "96adad3f",
   "metadata": {},
   "outputs": [],
   "source": [
    "number_cores = 6\n",
    "memory_gb = 16\n",
    "conf = (pyspark.SparkConf().setMaster('local[{}]'.format(number_cores)).set('spark.driver.memory', '{}g'.format(memory_gb)))\n",
    "sc = pyspark.SparkContext(conf=conf)"
   ]
  },
  {
   "cell_type": "code",
   "execution_count": 4,
   "id": "6302f425",
   "metadata": {},
   "outputs": [
    {
     "name": "stdout",
     "output_type": "stream",
     "text": [
      "data  IP-COUNTRY.BIN  Lab2.ipynb\r\n"
     ]
    }
   ],
   "source": [
    "!ls /users/trush/CSC496/PageRank/Lab2"
   ]
  },
  {
   "cell_type": "code",
   "execution_count": 5,
   "id": "be009215",
   "metadata": {},
   "outputs": [
    {
     "data": {
      "text/plain": [
       "['Nov 15 00:07:01 submitty CRON[31671]: pam_unix(cron:session): session opened for user submitty_daemon by (uid=0)',\n",
       " 'Nov 15 00:07:01 submitty CRON[31671]: pam_unix(cron:session): session closed for user submitty_daemon',\n",
       " 'Nov 15 00:07:21 submitty sshd[31682]: pam_unix(sshd:auth): authentication failure; logname= uid=0 euid=0 tty=ssh ruser= rhost=218.92.0.248  user=root',\n",
       " 'Nov 15 00:07:23 submitty sshd[31682]: Failed password for root from 218.92.0.248 port 11673 ssh2',\n",
       " 'Nov 15 00:07:27 submitty sshd[31682]: Failed password for root from 218.92.0.248 port 11673 ssh2']"
      ]
     },
     "execution_count": 5,
     "metadata": {},
     "output_type": "execute_result"
    }
   ],
   "source": [
    "auth_log = sc.textFile(\"/users/trush/CSC496/PageRank/Lab2/data\")\n",
    "auth_log.take(5)"
   ]
  },
  {
   "cell_type": "markdown",
   "id": "20819762",
   "metadata": {},
   "source": [
    "## 1. How many failed attempts to access the server as root are there? List all countries from which these attempts where carried out."
   ]
  },
  {
   "cell_type": "code",
   "execution_count": 6,
   "id": "c4fd3677",
   "metadata": {},
   "outputs": [
    {
     "data": {
      "text/plain": [
       "['Nov 15 00:07:21 submitty sshd[31682]: pam_unix(sshd:auth): authentication failure; logname= uid=0 euid=0 tty=ssh ruser= rhost=218.92.0.248  user=root',\n",
       " 'Nov 15 00:07:23 submitty sshd[31682]: Failed password for root from 218.92.0.248 port 11673 ssh2',\n",
       " 'Nov 15 00:07:27 submitty sshd[31682]: Failed password for root from 218.92.0.248 port 11673 ssh2',\n",
       " 'Nov 15 00:11:45 submitty sshd[31831]: pam_unix(sshd:auth): authentication failure; logname= uid=0 euid=0 tty=ssh ruser= rhost=112.85.42.98  user=root',\n",
       " 'Nov 15 00:11:47 submitty sshd[31831]: Failed password for root from 112.85.42.98 port 11028 ssh2',\n",
       " 'Nov 15 00:11:51 submitty sshd[31831]: Failed password for root from 112.85.42.98 port 11028 ssh2',\n",
       " 'Nov 15 00:16:28 submitty sshd[31926]: pam_unix(sshd:auth): authentication failure; logname= uid=0 euid=0 tty=ssh ruser= rhost=218.92.0.165  user=root',\n",
       " 'Nov 15 00:16:30 submitty sshd[31926]: Failed password for root from 218.92.0.165 port 19498 ssh2',\n",
       " 'Nov 15 00:16:33 submitty sshd[31926]: Failed password for root from 218.92.0.165 port 19498 ssh2',\n",
       " 'Nov 15 00:20:35 submitty sshd[31997]: pam_unix(sshd:auth): authentication failure; logname= uid=0 euid=0 tty=ssh ruser= rhost=61.177.172.177  user=root']"
      ]
     },
     "execution_count": 6,
     "metadata": {},
     "output_type": "execute_result"
    }
   ],
   "source": [
    "'''\n",
    "# Total failed attempts to login\n",
    "total_attempts = auth_log.count()\n",
    "print(total_attempts)\n",
    "total_successful_attempts = auth_log.filter(lambda x: \"CRON\" in x)\n",
    "print(total_successful_attempts.count())\n",
    "total_failed_attempts = auth_log.filter(lambda x: \"sshd\" in x)\n",
    "print(total_failed_attempts.count())\n",
    "\n",
    "other_attempts = auth_log.filter(lambda x: \"sshd\" not in x and \"CRON\" not in x)\n",
    "other_attempts.take(50)\n",
    "'''\n",
    "# Number of failed attempts to login as root\n",
    "failed_attempts = auth_log.filter(lambda x: \"root\" in x and \"sshd\" in x)\n",
    "failed_attempts.take(10)\n",
    "#print(failed_attempts.count())"
   ]
  },
  {
   "cell_type": "code",
   "execution_count": 22,
   "id": "3841e0c3",
   "metadata": {},
   "outputs": [
    {
     "data": {
      "text/plain": [
       "'China'"
      ]
     },
     "execution_count": 22,
     "metadata": {},
     "output_type": "execute_result"
    }
   ],
   "source": [
    "import IP2Location\n",
    "import re\n",
    "\n",
    "\n",
    "def get_country_name(x):\n",
    "    database = IP2Location.IP2Location(os.path.join(\"data\", \"/users/trush/CSC496/PageRank/Lab2/IP-COUNTRY.BIN\"))\n",
    "    ip = re.split(pattern='(\\d{1,3}\\.\\d{1,3}\\.\\d{1,3}\\.\\d{1,3})', string=x)[1]\n",
    "    #print(ip)\n",
    "    rec = database.get_all(ip).country_long\n",
    "    #print(type(rec))\n",
    "    return str(rec)\n",
    "\n",
    "get_country_name('Nov 15 00:07:21 submitty sshd[31682]: pam_unix(sshd:auth): authentication failure; logname= uid=0 euid=0 tty=ssh ruser= rhost=218.92.0.248  user=root')"
   ]
  },
  {
   "cell_type": "code",
   "execution_count": 24,
   "id": "0611dc95",
   "metadata": {},
   "outputs": [
    {
     "data": {
      "text/plain": [
       "['Korea, Republic of',\n",
       " 'Viet Nam',\n",
       " 'India',\n",
       " 'Canada',\n",
       " 'Ukraine',\n",
       " 'Belgium',\n",
       " 'Germany',\n",
       " 'Thailand',\n",
       " 'New Zealand',\n",
       " 'Japan',\n",
       " 'Romania',\n",
       " 'Syrian Arab Republic',\n",
       " 'United Arab Emirates',\n",
       " 'Iran, Islamic Republic of',\n",
       " 'Poland',\n",
       " 'Serbia',\n",
       " 'Malaysia',\n",
       " 'Guatemala',\n",
       " 'Uruguay',\n",
       " 'Bangladesh',\n",
       " 'Uganda',\n",
       " 'Denmark',\n",
       " 'Finland',\n",
       " 'Tunisia',\n",
       " 'Mongolia',\n",
       " 'Cambodia',\n",
       " 'Saudi Arabia',\n",
       " 'Zimbabwe',\n",
       " 'United Kingdom',\n",
       " '-',\n",
       " 'Netherlands',\n",
       " 'Mexico',\n",
       " 'Australia',\n",
       " 'Venezuela, Bolivarian Republic of',\n",
       " 'Norway',\n",
       " 'Chile',\n",
       " 'Senegal',\n",
       " 'Bolivia, Plurinational State of',\n",
       " 'Algeria',\n",
       " 'Mozambique',\n",
       " 'Macao',\n",
       " 'Panama',\n",
       " 'Cyprus',\n",
       " 'Slovenia',\n",
       " 'Taiwan, Province of China',\n",
       " 'Argentina',\n",
       " 'Peru',\n",
       " 'Spain',\n",
       " 'Bulgaria',\n",
       " 'Morocco',\n",
       " 'Portugal',\n",
       " 'Uzbekistan',\n",
       " 'Ecuador',\n",
       " 'Ethiopia',\n",
       " 'Azerbaijan',\n",
       " 'Costa Rica',\n",
       " 'Austria',\n",
       " 'China',\n",
       " 'Pakistan',\n",
       " 'Hungary',\n",
       " 'Greece',\n",
       " 'Indonesia',\n",
       " 'Colombia',\n",
       " 'Kazakhstan',\n",
       " 'Tanzania, United Republic of',\n",
       " 'Croatia',\n",
       " 'Sweden',\n",
       " 'Czech Republic',\n",
       " 'Kenya',\n",
       " 'Sri Lanka',\n",
       " 'Paraguay',\n",
       " 'Ireland',\n",
       " 'Malta',\n",
       " 'United States',\n",
       " 'France',\n",
       " 'Italy',\n",
       " 'Singapore',\n",
       " 'Russian Federation',\n",
       " 'Hong Kong',\n",
       " 'South Africa',\n",
       " 'Brazil',\n",
       " 'Philippines',\n",
       " 'Egypt',\n",
       " 'Turkey',\n",
       " 'Dominican Republic',\n",
       " 'Nigeria',\n",
       " 'Guadeloupe',\n",
       " 'Switzerland',\n",
       " 'Lithuania',\n",
       " 'Jordan',\n",
       " 'Palestine, State of',\n",
       " 'Honduras']"
      ]
     },
     "execution_count": 24,
     "metadata": {},
     "output_type": "execute_result"
    }
   ],
   "source": [
    "failed_root_countries = failed_attempts.map(lambda line: get_country_name(line))\n",
    "#failed_root_countries.take(5)\n",
    "failed_root_countries.distinct().collect()"
   ]
  },
  {
   "cell_type": "markdown",
   "id": "1626383c",
   "metadata": {},
   "source": [
    "There are a total of 75,630 failed attempts to access the server as root. A filter on the log files returns all entries with attempts to login as root (sshd log receives unauthorized login attempts, and CRON log represents successful logins). The function get_country_name splits each line in failed attempts to isolate the IP address and uses the IP2Location database to identify the country location. Then, failed_root_countries is assigned to a map of each country relative to each failed attempt's IP address. Finally, the distinct country names are outputted to identify all countries from which failed attempts were carried out."
   ]
  },
  {
   "cell_type": "markdown",
   "id": "1fd56cdf",
   "metadata": {},
   "source": [
    "## 2. How many failed attempts to access the server as non-root users are there? What are the attempted usernames? List all countries from which these attempts where carried out. "
   ]
  },
  {
   "cell_type": "code",
   "execution_count": null,
   "id": "2defbcb4",
   "metadata": {},
   "outputs": [],
   "source": [
    "# Number of failed attempts to login as non-root\n",
    "failed_nonroot = auth_log.filter(lambda x: \"root\" not in x and \"sshd\" in x and \"user unknown\" not in x)\n",
    "#failed_nonroot.take(5)\n",
    "print(failed_nonroot.count())"
   ]
  },
  {
   "cell_type": "code",
   "execution_count": null,
   "id": "6aec69c3",
   "metadata": {},
   "outputs": [],
   "source": [
    "def get_username(x):\n",
    "    line = re.split(pattern=r'user ', string=x)[1]\n",
    "    line = re.split(pattern=r' from', string=line)[0]\n",
    "    line = re.split(pattern=r'(\\d{1,3}\\.\\d{1,3}\\.\\d{1,3}\\.\\d{1,3})', string=line)[0]\n",
    "    return line"
   ]
  },
  {
   "cell_type": "code",
   "execution_count": null,
   "id": "7b8f388f",
   "metadata": {},
   "outputs": [],
   "source": [
    "failed_usernames = failed_nonroot.filter(lambda x: 'user ' in x)\n",
    "#failed_usernames.take(5)\n",
    "failed_nonroot_usernames = failed_usernames.map(lambda line: get_username(line))\n",
    "#failed_nonroot_usernames.take(50)\n",
    "failed_nonroot_usernames.distinct().collect()"
   ]
  },
  {
   "cell_type": "code",
   "execution_count": null,
   "id": "0b926065",
   "metadata": {
    "scrolled": false
   },
   "outputs": [],
   "source": [
    "failed_nonroot_countries = failed_nonroot.map(lambda line: get_country_name(line))\n",
    "#failed_nonroot_countries.take(5)\n",
    "failed_nonroot_countries.distinct().collect()"
   ]
  },
  {
   "cell_type": "markdown",
   "id": "9cff969f",
   "metadata": {},
   "source": [
    "There are 76,541 failed attempts to access the server as non-root. A filter on the log files identifies all non-root entries, (explain sshd) with known usernames. All entries with a user name are filtered from failed_nonroot and assigned to failed_usernames. The values are then mapped according to the username in each entry using the get_username function. Each distinct value is outputted as list that identifies every username associated with failed login attempts."
   ]
  },
  {
   "cell_type": "markdown",
   "id": "03d385b3",
   "metadata": {},
   "source": [
    "## 3. Through out the durations of the log files, which date has the highest number of attack attempts? Anything interesting about that particular date?"
   ]
  },
  {
   "cell_type": "code",
   "execution_count": null,
   "id": "82142070",
   "metadata": {},
   "outputs": [],
   "source": [
    "def get_date(x):\n",
    "    line = re.split(pattern=r'(Jan?|Feb?|Mar?|Apr?|May?|Jun?|Jul?|Aug?|Sep?|Oct?|Nov?|Dec?\\s+\\d{1,2})', string=x)[1] + re.split(pattern=r'(Jan?|Feb?|Mar?|Apr?|May?|Jun?|Jul?|Aug?|Sep?|Oct?|Nov?|Dec?\\s+\\d{1,2})', string=x)[2]\n",
    "    line = re.split(pattern=r'\\d{2}\\:\\d{2}\\:\\d{2}', string=line)[0]\n",
    "    return line"
   ]
  },
  {
   "cell_type": "code",
   "execution_count": null,
   "id": "3079f677",
   "metadata": {},
   "outputs": [],
   "source": [
    "dates = failed_attempts.map(lambda line: (get_date(line), 1))\n",
    "dates.take(5)\n",
    "countsByKey = dates.countByKey()\n",
    "countsByKey"
   ]
  },
  {
   "cell_type": "markdown",
   "id": "6f1b972c",
   "metadata": {},
   "source": [
    "The log files are mapped by the date which is formatted as one A-Z, two a-z, one or two whitespace characters, and two 0-9. The .countByKey() method outputs the number of attack attempts per date. The date with the most number of attacks is December 6, but it is important to note the high volume of attempts from December 2 through December 8. These dates are important because (EXPLAIN)."
   ]
  },
  {
   "cell_type": "code",
   "execution_count": null,
   "id": "a8397af1",
   "metadata": {},
   "outputs": [],
   "source": []
  }
 ],
 "metadata": {
  "kernelspec": {
   "display_name": "Python 3",
   "language": "python",
   "name": "python3"
  },
  "language_info": {
   "codemirror_mode": {
    "name": "ipython",
    "version": 3
   },
   "file_extension": ".py",
   "mimetype": "text/x-python",
   "name": "python",
   "nbconvert_exporter": "python",
   "pygments_lexer": "ipython3",
   "version": "3.6.9"
  }
 },
 "nbformat": 4,
 "nbformat_minor": 5
}
