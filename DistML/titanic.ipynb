{
 "cells": [
  {
   "cell_type": "code",
   "execution_count": 32,
   "id": "981d9148",
   "metadata": {},
   "outputs": [],
   "source": [
    "import os\n",
    "import sys\n",
    "\n",
    "spark_path = os.environ['SPARK_HOME']\n",
    "sys.path.append(spark_path + \"/bin\")\n",
    "sys.path.append(spark_path + \"/python\")\n",
    "sys.path.append(spark_path + \"/python/pyspark/\")\n",
    "sys.path.append(spark_path + \"/python/lib\")\n",
    "sys.path.append(spark_path + \"/python/lib/pyspark.zip\")\n",
    "sys.path.append(spark_path + \"/python/lib/py4j-0.10.9-src.zip\")\n",
    "\n",
    "import findspark\n",
    "findspark.init()\n",
    "\n",
    "import pyspark"
   ]
  },
  {
   "cell_type": "code",
   "execution_count": 33,
   "id": "603a789a",
   "metadata": {},
   "outputs": [],
   "source": [
    "from pyspark.mllib.regression import LabeledPoint\n",
    "from pyspark.mllib.classification import SVMWithSGD\n",
    "import numpy\n",
    "from pyspark.mllib.linalg import Matrix, Matrices, Vectors, DenseMatrix, SparseVector"
   ]
  },
  {
   "cell_type": "code",
   "execution_count": 34,
   "id": "06114368",
   "metadata": {},
   "outputs": [],
   "source": [
    "number_cores = 8\n",
    "memory_gb = 16\n",
    "conf = (pyspark.SparkConf().setMaster('local[{}]'.format(number_cores)).set('spark.driver.memory', '{}g'.format(memory_gb)))\n",
    "sc = pyspark.SparkContext(conf=conf)"
   ]
  },
  {
   "cell_type": "code",
   "execution_count": 35,
   "id": "c5c6944c",
   "metadata": {},
   "outputs": [
    {
     "name": "stdout",
     "output_type": "stream",
     "text": [
      "gender_submission.csv  test.csv  train.csv\r\n"
     ]
    }
   ],
   "source": [
    "!dir ./data"
   ]
  },
  {
   "cell_type": "code",
   "execution_count": 36,
   "id": "4d14178a",
   "metadata": {},
   "outputs": [],
   "source": [
    "spark = pyspark.sql.SparkSession(sc)"
   ]
  },
  {
   "cell_type": "code",
   "execution_count": 37,
   "id": "80a694e1",
   "metadata": {},
   "outputs": [
    {
     "name": "stdout",
     "output_type": "stream",
     "text": [
      "root\n",
      " |-- PassengerId: integer (nullable = true)\n",
      " |-- Survived: integer (nullable = true)\n",
      " |-- Pclass: integer (nullable = true)\n",
      " |-- Name: string (nullable = true)\n",
      " |-- Sex: string (nullable = true)\n",
      " |-- Age: double (nullable = true)\n",
      " |-- SibSp: integer (nullable = true)\n",
      " |-- Parch: integer (nullable = true)\n",
      " |-- Ticket: string (nullable = true)\n",
      " |-- Fare: double (nullable = true)\n",
      " |-- Cabin: string (nullable = true)\n",
      " |-- Embarked: string (nullable = true)\n",
      "\n"
     ]
    }
   ],
   "source": [
    "df = spark.read.csv('./data/train.csv', header = True, inferSchema = True)\n",
    "df.printSchema()"
   ]
  },
  {
   "cell_type": "markdown",
   "id": "f3ad2640",
   "metadata": {},
   "source": [
    "- PassengerID\n",
    "- Sex (Women and children first)\n",
    "- Age (Male > 10 considered adult)\n",
    "- Cabin (Numbers increase back to front, front sank first; A-F in decreasing class order)\n",
    "- PClass (higher classes were further away from boiler room/rising water)"
   ]
  },
  {
   "cell_type": "code",
   "execution_count": 38,
   "id": "aeedcdf7",
   "metadata": {},
   "outputs": [
    {
     "data": {
      "text/plain": [
       "[Row(PassengerId=1, Survived=0, Pclass=3, Name='Braund, Mr. Owen Harris', Sex='male', Age=22.0, SibSp=1, Parch=0, Ticket='A/5 21171', Fare=7.25, Cabin=None, Embarked='S'),\n",
       " Row(PassengerId=2, Survived=1, Pclass=1, Name='Cumings, Mrs. John Bradley (Florence Briggs Thayer)', Sex='female', Age=38.0, SibSp=1, Parch=0, Ticket='PC 17599', Fare=71.2833, Cabin='C85', Embarked='C'),\n",
       " Row(PassengerId=3, Survived=1, Pclass=3, Name='Heikkinen, Miss. Laina', Sex='female', Age=26.0, SibSp=0, Parch=0, Ticket='STON/O2. 3101282', Fare=7.925, Cabin=None, Embarked='S'),\n",
       " Row(PassengerId=4, Survived=1, Pclass=1, Name='Futrelle, Mrs. Jacques Heath (Lily May Peel)', Sex='female', Age=35.0, SibSp=1, Parch=0, Ticket='113803', Fare=53.1, Cabin='C123', Embarked='S'),\n",
       " Row(PassengerId=5, Survived=0, Pclass=3, Name='Allen, Mr. William Henry', Sex='male', Age=35.0, SibSp=0, Parch=0, Ticket='373450', Fare=8.05, Cabin=None, Embarked='S')]"
      ]
     },
     "execution_count": 38,
     "metadata": {},
     "output_type": "execute_result"
    }
   ],
   "source": [
    "df.take(5)"
   ]
  },
  {
   "cell_type": "code",
   "execution_count": 63,
   "id": "7933386c",
   "metadata": {},
   "outputs": [],
   "source": [
    "df.registerTempTable('df')"
   ]
  },
  {
   "cell_type": "code",
   "execution_count": 203,
   "id": "0f88ab3a",
   "metadata": {},
   "outputs": [],
   "source": [
    "df1 = spark.sql(\"SELECT Survived, PassengerID, Pclass, Sex, Age, Cabin FROM df\")"
   ]
  },
  {
   "cell_type": "code",
   "execution_count": 204,
   "id": "2d2c1b78",
   "metadata": {},
   "outputs": [
    {
     "name": "stdout",
     "output_type": "stream",
     "text": [
      "+--------+-----------+------+------+----+-----+\n",
      "|Survived|PassengerID|Pclass|   Sex| Age|Cabin|\n",
      "+--------+-----------+------+------+----+-----+\n",
      "|       0|          1|     3|  male|22.0| null|\n",
      "|       1|          2|     1|female|38.0|  C85|\n",
      "|       1|          3|     3|female|26.0| null|\n",
      "|       1|          4|     1|female|35.0| C123|\n",
      "|       0|          5|     3|  male|35.0| null|\n",
      "|       0|          6|     3|  male|null| null|\n",
      "|       0|          7|     1|  male|54.0|  E46|\n",
      "|       0|          8|     3|  male| 2.0| null|\n",
      "|       1|          9|     3|female|27.0| null|\n",
      "|       1|         10|     2|female|14.0| null|\n",
      "|       1|         11|     3|female| 4.0|   G6|\n",
      "|       1|         12|     1|female|58.0| C103|\n",
      "|       0|         13|     3|  male|20.0| null|\n",
      "|       0|         14|     3|  male|39.0| null|\n",
      "|       0|         15|     3|female|14.0| null|\n",
      "|       1|         16|     2|female|55.0| null|\n",
      "|       0|         17|     3|  male| 2.0| null|\n",
      "|       1|         18|     2|  male|null| null|\n",
      "|       0|         19|     3|female|31.0| null|\n",
      "|       1|         20|     3|female|null| null|\n",
      "+--------+-----------+------+------+----+-----+\n",
      "only showing top 20 rows\n",
      "\n"
     ]
    }
   ],
   "source": [
    "df1.show()"
   ]
  },
  {
   "cell_type": "code",
   "execution_count": 205,
   "id": "4a5a47c9",
   "metadata": {},
   "outputs": [
    {
     "name": "stdout",
     "output_type": "stream",
     "text": [
      "[Row(Survived=1), Row(Survived=0)]\n"
     ]
    }
   ],
   "source": [
    "unique_survivors = df.select('Survived').distinct().collect()\n",
    "print(unique_survivors)"
   ]
  },
  {
   "cell_type": "code",
   "execution_count": 206,
   "id": "954941bc",
   "metadata": {},
   "outputs": [
    {
     "name": "stdout",
     "output_type": "stream",
     "text": [
      "['Survived', 'PassengerID', 'Pclass', 'Sex', 'Age', 'Cabin']\n"
     ]
    }
   ],
   "source": [
    "columns = df1.columns\n",
    "print(columns)"
   ]
  },
  {
   "cell_type": "code",
   "execution_count": 207,
   "id": "00cd98d7",
   "metadata": {},
   "outputs": [],
   "source": [
    "cat_columns = ['Survived', 'PassengerID', 'Pclass', 'Sex', 'Age', 'Cabin']"
   ]
  },
  {
   "cell_type": "code",
   "execution_count": 306,
   "id": "005b7708",
   "metadata": {},
   "outputs": [
    {
     "ename": "TypeError",
     "evalue": "unsupported operand type(s) for -: 'int' and 'NoneType'",
     "output_type": "error",
     "traceback": [
      "\u001b[0;31m---------------------------------------------------------------------------\u001b[0m",
      "\u001b[0;31mTypeError\u001b[0m                                 Traceback (most recent call last)",
      "\u001b[0;32m<ipython-input-306-03e490a2ce26>\u001b[0m in \u001b[0;36m<module>\u001b[0;34m\u001b[0m\n\u001b[1;32m     13\u001b[0m             \u001b[0mcat_dictionary\u001b[0m\u001b[0;34m[\u001b[0m\u001b[0mc\u001b[0m\u001b[0;34m]\u001b[0m\u001b[0;34m[\u001b[0m\u001b[0;34m'male'\u001b[0m\u001b[0;34m]\u001b[0m \u001b[0;34m=\u001b[0m \u001b[0;36m0\u001b[0m\u001b[0;34m\u001b[0m\u001b[0;34m\u001b[0m\u001b[0m\n\u001b[1;32m     14\u001b[0m         \u001b[0;32melif\u001b[0m \u001b[0mc\u001b[0m \u001b[0;34m==\u001b[0m \u001b[0;34m\"Age\"\u001b[0m\u001b[0;34m:\u001b[0m\u001b[0;34m\u001b[0m\u001b[0;34m\u001b[0m\u001b[0m\n\u001b[0;32m---> 15\u001b[0;31m             \u001b[0mcat_dictionary\u001b[0m\u001b[0;34m[\u001b[0m\u001b[0mc\u001b[0m\u001b[0;34m]\u001b[0m\u001b[0;34m[\u001b[0m\u001b[0mv\u001b[0m\u001b[0;34m[\u001b[0m\u001b[0mc\u001b[0m\u001b[0;34m]\u001b[0m\u001b[0;34m]\u001b[0m \u001b[0;34m=\u001b[0m \u001b[0;36m100\u001b[0m\u001b[0;34m-\u001b[0m\u001b[0mv\u001b[0m\u001b[0;34m[\u001b[0m\u001b[0mc\u001b[0m\u001b[0;34m]\u001b[0m\u001b[0;34m\u001b[0m\u001b[0;34m\u001b[0m\u001b[0m\n\u001b[0m\u001b[1;32m     16\u001b[0m         \u001b[0;32melse\u001b[0m\u001b[0;34m:\u001b[0m\u001b[0;34m\u001b[0m\u001b[0;34m\u001b[0m\u001b[0m\n\u001b[1;32m     17\u001b[0m             \u001b[0mcat_dictionary\u001b[0m\u001b[0;34m[\u001b[0m\u001b[0mc\u001b[0m\u001b[0;34m]\u001b[0m\u001b[0;34m[\u001b[0m\u001b[0mv\u001b[0m\u001b[0;34m[\u001b[0m\u001b[0mc\u001b[0m\u001b[0;34m]\u001b[0m\u001b[0;34m]\u001b[0m \u001b[0;34m=\u001b[0m \u001b[0mi\u001b[0m\u001b[0;34m\u001b[0m\u001b[0;34m\u001b[0m\u001b[0m\n",
      "\u001b[0;31mTypeError\u001b[0m: unsupported operand type(s) for -: 'int' and 'NoneType'"
     ]
    }
   ],
   "source": [
    "cat_dictionary = {}\n",
    "\n",
    "for c in cat_columns:\n",
    "    unique_c = df1.select(c).distinct().collect()\n",
    "    #print(c + \": \" + str(len(unique_c)))\n",
    "    cat_dictionary[c] = {}\n",
    "    i = 0\n",
    "    for v in unique_c:\n",
    "        if c == \"PassengerID\":\n",
    "            cat_dictionary[c][v[c]] = 0\n",
    "        elif c == \"Sex\":\n",
    "            cat_dictionary[c]['female'] = 1\n",
    "            cat_dictionary[c]['male'] = 0\n",
    "        elif c == \"Age\":\n",
    "            cat_dictionary[c][v[c]] = 100-v[c]\n",
    "        else:\n",
    "            cat_dictionary[c][v[c]] = i\n",
    "            i += 1"
   ]
  },
  {
   "cell_type": "code",
   "execution_count": 305,
   "id": "73aeb8bf",
   "metadata": {},
   "outputs": [],
   "source": [
    "#df1.select(\"Age\").distinct().collect()"
   ]
  },
  {
   "cell_type": "code",
   "execution_count": null,
   "id": "8d12ea5f",
   "metadata": {},
   "outputs": [],
   "source": [
    "# feature vector that we will multiply the weights to\n",
    "print(cat_dictionary)"
   ]
  },
  {
   "cell_type": "code",
   "execution_count": 267,
   "id": "5bc367df",
   "metadata": {},
   "outputs": [],
   "source": [
    "def dataPrep(r):\n",
    "    key = 0\n",
    "    value = []\n",
    "    for c in columns:\n",
    "        if c == 'Survived':\n",
    "            key = cat_dictionary[c][r[columns.index(c)]]\n",
    "        else:\n",
    "            if c in cat_columns:\n",
    "                value.append(cat_dictionary[c][r[columns.index(c)]])\n",
    "            else:\n",
    "                value.append(r[columns.index(c)])\n",
    "    return LabeledPoint(key, value)"
   ]
  },
  {
   "cell_type": "code",
   "execution_count": 268,
   "id": "bc697105",
   "metadata": {},
   "outputs": [
    {
     "data": {
      "text/plain": [
       "[LabeledPoint(1.0, [0.0,1.0,0.0,48.0,45.0]),\n",
       " LabeledPoint(0.0, [0.0,0.0,1.0,64.0,74.0]),\n",
       " LabeledPoint(0.0, [0.0,1.0,1.0,81.0,45.0]),\n",
       " LabeledPoint(0.0, [0.0,0.0,1.0,12.0,48.0]),\n",
       " LabeledPoint(1.0, [0.0,1.0,0.0,12.0,45.0])]"
      ]
     },
     "execution_count": 268,
     "metadata": {},
     "output_type": "execute_result"
    }
   ],
   "source": [
    "# values of each feature for each row\n",
    "df_clean = df1.rdd.map(dataPrep)\n",
    "df_clean.take(5)"
   ]
  },
  {
   "cell_type": "code",
   "execution_count": 269,
   "id": "69e5098d",
   "metadata": {},
   "outputs": [
    {
     "data": {
      "text/plain": [
       "0"
      ]
     },
     "execution_count": 269,
     "metadata": {},
     "output_type": "execute_result"
    }
   ],
   "source": [
    "columns.index(\"Survived\")"
   ]
  },
  {
   "cell_type": "code",
   "execution_count": 270,
   "id": "9bc3d62b",
   "metadata": {},
   "outputs": [],
   "source": [
    "# Split data for training set and testing set (in reality you want 3, training, testing, and validating)\n",
    "df_svm = df_clean.randomSplit([0.8, 0.2], 1234)"
   ]
  },
  {
   "cell_type": "code",
   "execution_count": 271,
   "id": "9a49d2e9",
   "metadata": {},
   "outputs": [
    {
     "name": "stdout",
     "output_type": "stream",
     "text": [
      "891\n",
      "710\n",
      "181\n"
     ]
    }
   ],
   "source": [
    "print(df_clean.count())\n",
    "print(df_svm[0].count())\n",
    "print(df_svm[1].count())"
   ]
  },
  {
   "cell_type": "code",
   "execution_count": 272,
   "id": "6644636f",
   "metadata": {},
   "outputs": [],
   "source": [
    "svm_titanic = SVMWithSGD.train(df_svm[0], iterations=200)"
   ]
  },
  {
   "cell_type": "code",
   "execution_count": 273,
   "id": "90f5730e",
   "metadata": {},
   "outputs": [
    {
     "data": {
      "text/plain": [
       "0"
      ]
     },
     "execution_count": 273,
     "metadata": {},
     "output_type": "execute_result"
    }
   ],
   "source": [
    "svm_titanic.predict([0.0,1.0,1.0,48.0,45.0])"
   ]
  },
  {
   "cell_type": "code",
   "execution_count": 274,
   "id": "35709be3",
   "metadata": {},
   "outputs": [],
   "source": [
    "def testPrediction(p):\n",
    "    prediction = svm_titanic.predict(p.features)\n",
    "    if prediction == p.label:\n",
    "        return (\"correct\", 1)\n",
    "    else:\n",
    "        return (\"incorrect\", 1)"
   ]
  },
  {
   "cell_type": "code",
   "execution_count": 275,
   "id": "afeb484d",
   "metadata": {},
   "outputs": [
    {
     "data": {
      "text/plain": [
       "[('incorrect', 88), ('correct', 93)]"
      ]
     },
     "execution_count": 275,
     "metadata": {},
     "output_type": "execute_result"
    }
   ],
   "source": [
    "df_results = df_svm[1].map(testPrediction).reduceByKey(lambda x, y: x + y)\n",
    "df_results.collect()"
   ]
  },
  {
   "cell_type": "code",
   "execution_count": 278,
   "id": "8f9389c8",
   "metadata": {},
   "outputs": [
    {
     "data": {
      "text/plain": [
       "0.5138121546961326"
      ]
     },
     "execution_count": 278,
     "metadata": {},
     "output_type": "execute_result"
    }
   ],
   "source": [
    "93/(88+93)"
   ]
  },
  {
   "cell_type": "code",
   "execution_count": 277,
   "id": "3e4a3286",
   "metadata": {},
   "outputs": [
    {
     "data": {
      "text/plain": [
       "[LabeledPoint(0.0, [0.0,0.0,1.0,40.0,52.0]),\n",
       " LabeledPoint(1.0, [0.0,1.0,0.0,42.0,45.0]),\n",
       " LabeledPoint(1.0, [0.0,2.0,0.0,11.0,45.0]),\n",
       " LabeledPoint(0.0, [0.0,0.0,1.0,24.0,124.0]),\n",
       " LabeledPoint(0.0, [0.0,2.0,1.0,69.0,45.0]),\n",
       " LabeledPoint(0.0, [0.0,0.0,1.0,13.0,14.0]),\n",
       " LabeledPoint(1.0, [0.0,1.0,0.0,13.0,45.0]),\n",
       " LabeledPoint(0.0, [0.0,2.0,1.0,68.0,45.0]),\n",
       " LabeledPoint(0.0, [0.0,2.0,0.0,82.0,45.0]),\n",
       " LabeledPoint(1.0, [0.0,2.0,0.0,59.0,45.0])]"
      ]
     },
     "execution_count": 277,
     "metadata": {},
     "output_type": "execute_result"
    }
   ],
   "source": [
    "df_svm[0].sample(False, 0.01).collect()"
   ]
  },
  {
   "cell_type": "code",
   "execution_count": 25,
   "id": "6b161cd1",
   "metadata": {},
   "outputs": [],
   "source": [
    "sc.stop()"
   ]
  }
 ],
 "metadata": {
  "kernelspec": {
   "display_name": "Python 3",
   "language": "python",
   "name": "python3"
  },
  "language_info": {
   "codemirror_mode": {
    "name": "ipython",
    "version": 3
   },
   "file_extension": ".py",
   "mimetype": "text/x-python",
   "name": "python",
   "nbconvert_exporter": "python",
   "pygments_lexer": "ipython3",
   "version": "3.6.9"
  }
 },
 "nbformat": 4,
 "nbformat_minor": 5
}
