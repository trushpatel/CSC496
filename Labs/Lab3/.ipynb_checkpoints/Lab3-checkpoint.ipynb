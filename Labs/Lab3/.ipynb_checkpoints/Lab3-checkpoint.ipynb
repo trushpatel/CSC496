{
 "cells": [
  {
   "cell_type": "code",
   "execution_count": 1,
   "id": "3bc2342e",
   "metadata": {},
   "outputs": [],
   "source": [
    "import os\n",
    "import sys\n",
    "spark_path = os.environ['SPARK_HOME']\n",
    "sys.path.append(spark_path + \"/bin\")\n",
    "sys.path.append(spark_path + \"/python\")\n",
    "sys.path.append(spark_path + \"/python/pyspark/\")\n",
    "sys.path.append(spark_path + \"/python/lib\")\n",
    "sys.path.append(spark_path + \"/python/lib/pyspark.zip\")\n",
    "sys.path.append(spark_path + \"/python/lib/py4j-0.10.9-src.zip\")\n",
    "\n",
    "import findspark\n",
    "findspark.init()\n",
    "import pyspark"
   ]
  },
  {
   "cell_type": "code",
   "execution_count": 2,
   "id": "476af424",
   "metadata": {},
   "outputs": [],
   "source": [
    "number_cores = 6\n",
    "memory_gb = 16\n",
    "conf = (pyspark.SparkConf().setMaster('local[{}]'.format(number_cores)).set('spark.driver.memory', '{}g'.format(memory_gb)))\n",
    "sc = pyspark.SparkContext(conf=conf)"
   ]
  },
  {
   "cell_type": "code",
   "execution_count": 3,
   "id": "3d388d67",
   "metadata": {},
   "outputs": [
    {
     "name": "stdout",
     "output_type": "stream",
     "text": [
      "data  Lab3.ipynb\r\n"
     ]
    }
   ],
   "source": [
    "!dir /users/trush/CSC496/Labs/Lab3"
   ]
  },
  {
   "cell_type": "markdown",
   "id": "94dad922",
   "metadata": {},
   "source": [
    "## How do you parse JSON?"
   ]
  },
  {
   "cell_type": "code",
   "execution_count": 36,
   "id": "fa46dfac",
   "metadata": {},
   "outputs": [
    {
     "data": {
      "text/plain": [
       "{'user_id': 'ntlvfPzc8eglqvk92iDIAw',\n",
       " 'name': 'Rafael',\n",
       " 'review_count': 553,\n",
       " 'yelping_since': '2007-07-06 03:27:11',\n",
       " 'useful': 628,\n",
       " 'funny': 225,\n",
       " 'cool': 227,\n",
       " 'elite': '',\n",
       " 'friends': 'oeMvJh94PiGQnx_6GlndPQ, wm1z1PaJKvHgSDRKfwhfDg, IkRib6Xs91PPW7pon7VVig, A8Aq8f0-XvLBcyMk2GJdJQ, eEZM1kogR7eL4GOBZyPvBA, e1o1LN7ez5ckCpQeAab4iw, _HrJVzFaRFUhPva8cwBjpQ, pZeGZGzX-ROT_D5lam5uNg, 0S6EI51ej5J7dgYz3-O0lA, woDt8raW-AorxQM_tIE2eA, hWUnSE5gKXNe7bDc8uAG9A, c_3LDSO2RHwZ94_Q6j_O7w, -uv1wDiaplY6eXXS0VwQiA, QFjqxXn3acDC7hckFGUKMg, ErOqapICmHPTN8YobZIcfQ, mJLRvqLOKhqEdkgt9iEaCQ, VKX7jlScJSA-ja5hYRw12Q, ijIC9w5PRcj3dWVlanjZeg, CIZGlEw-Bp0rmkP8M6yQ9Q, OC6fT5WZ8EU7tEVJ3bzPBQ, UZSDGTDpycDzrlfUlyw2dQ, deL6e_z9xqZTIODKqnvRXQ, 5mG2ENw2PylIWElqHSMGqg, Uh5Kug2fvDd51RYmsNZkGg, 4dI4uoShugD9z84fYupelQ, EQpFHqGT9Tk6YSwORTtwpg, o4EGL2-ICGmRJzJ3GxB-vw, s8gK7sdVzJcYKcPv2dkZXw, vOYVZgb_GVe-kdtjQwSUHw, wBbjgHsrKr7BsPBrQwJf2w, p59u2EC_qcmCmLeX1jCi5Q, VSAZI1eHDrOPRWMK4Q2DIQ, efMfeI_dkhpeGykaRJqxfQ, x6qYcQ8_i0mMDzSLsFCbZg, K_zSmtNGw1fu-vmxyTVfCQ, 5IM6YPQCK-NABkXmHhlRGQ, U_w8ZMD26vnkeeS1sD7s4Q, AbfS_oXF8H6HJb5jFqhrLw, hbcjX4_D4KIfonNnwrH-cg, UKf66_MPz0zHCP70mF6p1g, hK2gYbxZRTqcqlSiQQcrtQ, 2Q45w_Twx_T9dXqlE16xtQ, BwRn8qcKSeA77HLaOTbfiQ, jouOn4VS_DtFPtMR2w8VDA, ESteyJabbfvqas6CEDs3pQ',\n",
       " 'fans': 14,\n",
       " 'average_stars': 3.57,\n",
       " 'compliment_hot': 3,\n",
       " 'compliment_more': 2,\n",
       " 'compliment_profile': 1,\n",
       " 'compliment_cute': 0,\n",
       " 'compliment_list': 1,\n",
       " 'compliment_note': 11,\n",
       " 'compliment_plain': 15,\n",
       " 'compliment_cool': 22,\n",
       " 'compliment_funny': 22,\n",
       " 'compliment_writer': 10,\n",
       " 'compliment_photos': 0}"
      ]
     },
     "execution_count": 36,
     "metadata": {},
     "output_type": "execute_result"
    }
   ],
   "source": [
    "import json\n",
    "\n",
    "def parseJSON(t):\n",
    "    res = json.loads(t)\n",
    "    return res\n",
    "\n",
    "test = '{\"user_id\":\"ntlvfPzc8eglqvk92iDIAw\",\"name\":\"Rafael\",\"review_count\":553,\"yelping_since\":\"2007-07-06 03:27:11\",\"useful\":628,\"funny\":225,\"cool\":227,\"elite\":\"\",\"friends\":\"oeMvJh94PiGQnx_6GlndPQ, wm1z1PaJKvHgSDRKfwhfDg, IkRib6Xs91PPW7pon7VVig, A8Aq8f0-XvLBcyMk2GJdJQ, eEZM1kogR7eL4GOBZyPvBA, e1o1LN7ez5ckCpQeAab4iw, _HrJVzFaRFUhPva8cwBjpQ, pZeGZGzX-ROT_D5lam5uNg, 0S6EI51ej5J7dgYz3-O0lA, woDt8raW-AorxQM_tIE2eA, hWUnSE5gKXNe7bDc8uAG9A, c_3LDSO2RHwZ94_Q6j_O7w, -uv1wDiaplY6eXXS0VwQiA, QFjqxXn3acDC7hckFGUKMg, ErOqapICmHPTN8YobZIcfQ, mJLRvqLOKhqEdkgt9iEaCQ, VKX7jlScJSA-ja5hYRw12Q, ijIC9w5PRcj3dWVlanjZeg, CIZGlEw-Bp0rmkP8M6yQ9Q, OC6fT5WZ8EU7tEVJ3bzPBQ, UZSDGTDpycDzrlfUlyw2dQ, deL6e_z9xqZTIODKqnvRXQ, 5mG2ENw2PylIWElqHSMGqg, Uh5Kug2fvDd51RYmsNZkGg, 4dI4uoShugD9z84fYupelQ, EQpFHqGT9Tk6YSwORTtwpg, o4EGL2-ICGmRJzJ3GxB-vw, s8gK7sdVzJcYKcPv2dkZXw, vOYVZgb_GVe-kdtjQwSUHw, wBbjgHsrKr7BsPBrQwJf2w, p59u2EC_qcmCmLeX1jCi5Q, VSAZI1eHDrOPRWMK4Q2DIQ, efMfeI_dkhpeGykaRJqxfQ, x6qYcQ8_i0mMDzSLsFCbZg, K_zSmtNGw1fu-vmxyTVfCQ, 5IM6YPQCK-NABkXmHhlRGQ, U_w8ZMD26vnkeeS1sD7s4Q, AbfS_oXF8H6HJb5jFqhrLw, hbcjX4_D4KIfonNnwrH-cg, UKf66_MPz0zHCP70mF6p1g, hK2gYbxZRTqcqlSiQQcrtQ, 2Q45w_Twx_T9dXqlE16xtQ, BwRn8qcKSeA77HLaOTbfiQ, jouOn4VS_DtFPtMR2w8VDA, ESteyJabbfvqas6CEDs3pQ\",\"fans\":14,\"average_stars\":3.57,\"compliment_hot\":3,\"compliment_more\":2,\"compliment_profile\":1,\"compliment_cute\":0,\"compliment_list\":1,\"compliment_note\":11,\"compliment_plain\":15,\"compliment_cool\":22,\"compliment_funny\":22,\"compliment_writer\":10,\"compliment_photos\":0}'\n",
    "parseJSON(test)"
   ]
  },
  {
   "cell_type": "code",
   "execution_count": 5,
   "id": "cc56544a",
   "metadata": {},
   "outputs": [
    {
     "data": {
      "text/plain": [
       "['{\"user_id\":\"ntlvfPzc8eglqvk92iDIAw\",\"name\":\"Rafael\",\"review_count\":553,\"yelping_since\":\"2007-07-06 03:27:11\",\"useful\":628,\"funny\":225,\"cool\":227,\"elite\":\"\",\"friends\":\"oeMvJh94PiGQnx_6GlndPQ, wm1z1PaJKvHgSDRKfwhfDg, IkRib6Xs91PPW7pon7VVig, A8Aq8f0-XvLBcyMk2GJdJQ, eEZM1kogR7eL4GOBZyPvBA, e1o1LN7ez5ckCpQeAab4iw, _HrJVzFaRFUhPva8cwBjpQ, pZeGZGzX-ROT_D5lam5uNg, 0S6EI51ej5J7dgYz3-O0lA, woDt8raW-AorxQM_tIE2eA, hWUnSE5gKXNe7bDc8uAG9A, c_3LDSO2RHwZ94_Q6j_O7w, -uv1wDiaplY6eXXS0VwQiA, QFjqxXn3acDC7hckFGUKMg, ErOqapICmHPTN8YobZIcfQ, mJLRvqLOKhqEdkgt9iEaCQ, VKX7jlScJSA-ja5hYRw12Q, ijIC9w5PRcj3dWVlanjZeg, CIZGlEw-Bp0rmkP8M6yQ9Q, OC6fT5WZ8EU7tEVJ3bzPBQ, UZSDGTDpycDzrlfUlyw2dQ, deL6e_z9xqZTIODKqnvRXQ, 5mG2ENw2PylIWElqHSMGqg, Uh5Kug2fvDd51RYmsNZkGg, 4dI4uoShugD9z84fYupelQ, EQpFHqGT9Tk6YSwORTtwpg, o4EGL2-ICGmRJzJ3GxB-vw, s8gK7sdVzJcYKcPv2dkZXw, vOYVZgb_GVe-kdtjQwSUHw, wBbjgHsrKr7BsPBrQwJf2w, p59u2EC_qcmCmLeX1jCi5Q, VSAZI1eHDrOPRWMK4Q2DIQ, efMfeI_dkhpeGykaRJqxfQ, x6qYcQ8_i0mMDzSLsFCbZg, K_zSmtNGw1fu-vmxyTVfCQ, 5IM6YPQCK-NABkXmHhlRGQ, U_w8ZMD26vnkeeS1sD7s4Q, AbfS_oXF8H6HJb5jFqhrLw, hbcjX4_D4KIfonNnwrH-cg, UKf66_MPz0zHCP70mF6p1g, hK2gYbxZRTqcqlSiQQcrtQ, 2Q45w_Twx_T9dXqlE16xtQ, BwRn8qcKSeA77HLaOTbfiQ, jouOn4VS_DtFPtMR2w8VDA, ESteyJabbfvqas6CEDs3pQ\",\"fans\":14,\"average_stars\":3.57,\"compliment_hot\":3,\"compliment_more\":2,\"compliment_profile\":1,\"compliment_cute\":0,\"compliment_list\":1,\"compliment_note\":11,\"compliment_plain\":15,\"compliment_cool\":22,\"compliment_funny\":22,\"compliment_writer\":10,\"compliment_photos\":0}']"
      ]
     },
     "execution_count": 5,
     "metadata": {},
     "output_type": "execute_result"
    }
   ],
   "source": [
    "graph_data = sc.textFile(\"/users/trush/CSC496/Labs/Lab3/data/yelp_small.json\")\n",
    "graph_data.take(1)"
   ]
  },
  {
   "cell_type": "markdown",
   "id": "372bb804",
   "metadata": {},
   "source": [
    "## Key points:\n",
    "Always try and make your data smaller. Cache often if possible."
   ]
  },
  {
   "cell_type": "markdown",
   "id": "2a3bd19d",
   "metadata": {},
   "source": [
    "### Hands-on:\n",
    "1. How do you apply pagerank on num_num?\n",
    "2. How do you link the answers back to the actual page of hollies.dat?"
   ]
  },
  {
   "cell_type": "code",
   "execution_count": 6,
   "id": "5b507704",
   "metadata": {},
   "outputs": [],
   "source": [
    "from pyspark.sql import SQLContext\n",
    "sqlContext = SQLContext(sc)"
   ]
  },
  {
   "cell_type": "code",
   "execution_count": 7,
   "id": "709104c4",
   "metadata": {},
   "outputs": [],
   "source": [
    "json_df = sqlContext.read.json(\"/users/trush/CSC496/Labs/Lab3/data/yelp_small.json\")"
   ]
  },
  {
   "cell_type": "code",
   "execution_count": 8,
   "id": "e0f37e72",
   "metadata": {},
   "outputs": [
    {
     "name": "stdout",
     "output_type": "stream",
     "text": [
      "CPU times: user 3.7 ms, sys: 0 ns, total: 3.7 ms\n",
      "Wall time: 932 ms\n"
     ]
    },
    {
     "data": {
      "text/plain": [
       "1000"
      ]
     },
     "execution_count": 8,
     "metadata": {},
     "output_type": "execute_result"
    }
   ],
   "source": [
    "%%time\n",
    "json_df.count()"
   ]
  },
  {
   "cell_type": "code",
   "execution_count": 9,
   "id": "ae288e2d",
   "metadata": {},
   "outputs": [
    {
     "name": "stdout",
     "output_type": "stream",
     "text": [
      "CPU times: user 3.44 ms, sys: 0 ns, total: 3.44 ms\n",
      "Wall time: 301 ms\n"
     ]
    },
    {
     "data": {
      "text/plain": [
       "1000"
      ]
     },
     "execution_count": 9,
     "metadata": {},
     "output_type": "execute_result"
    }
   ],
   "source": [
    "%%time\n",
    "json_df.count()"
   ]
  },
  {
   "cell_type": "code",
   "execution_count": 10,
   "id": "e44001b0",
   "metadata": {},
   "outputs": [
    {
     "name": "stdout",
     "output_type": "stream",
     "text": [
      "root\n",
      " |-- average_stars: double (nullable = true)\n",
      " |-- compliment_cool: long (nullable = true)\n",
      " |-- compliment_cute: long (nullable = true)\n",
      " |-- compliment_funny: long (nullable = true)\n",
      " |-- compliment_hot: long (nullable = true)\n",
      " |-- compliment_list: long (nullable = true)\n",
      " |-- compliment_more: long (nullable = true)\n",
      " |-- compliment_note: long (nullable = true)\n",
      " |-- compliment_photos: long (nullable = true)\n",
      " |-- compliment_plain: long (nullable = true)\n",
      " |-- compliment_profile: long (nullable = true)\n",
      " |-- compliment_writer: long (nullable = true)\n",
      " |-- cool: long (nullable = true)\n",
      " |-- elite: string (nullable = true)\n",
      " |-- fans: long (nullable = true)\n",
      " |-- friends: string (nullable = true)\n",
      " |-- funny: long (nullable = true)\n",
      " |-- name: string (nullable = true)\n",
      " |-- review_count: long (nullable = true)\n",
      " |-- useful: long (nullable = true)\n",
      " |-- user_id: string (nullable = true)\n",
      " |-- yelping_since: string (nullable = true)\n",
      "\n"
     ]
    }
   ],
   "source": [
    "json_df.printSchema()"
   ]
  },
  {
   "cell_type": "code",
   "execution_count": 11,
   "id": "4e00ba59",
   "metadata": {},
   "outputs": [],
   "source": [
    "json_df.registerTempTable(\"tbl_json\")"
   ]
  },
  {
   "cell_type": "markdown",
   "id": "0437ba11",
   "metadata": {},
   "source": [
    "## 1. How many unique users are there in the dataset?"
   ]
  },
  {
   "cell_type": "code",
   "execution_count": 40,
   "id": "7fb4b086",
   "metadata": {},
   "outputs": [
    {
     "data": {
      "text/plain": [
       "1000"
      ]
     },
     "execution_count": 40,
     "metadata": {},
     "output_type": "execute_result"
    }
   ],
   "source": [
    "# map with just user_id .distinct().count()\n",
    "users = graph_data.map(lambda x: parseJSONUser(x))\n",
    "users.take(5)\n",
    "users.distinct().count()\n",
    "#graph_data.countByKey()"
   ]
  },
  {
   "cell_type": "markdown",
   "id": "da661f30",
   "metadata": {},
   "source": [
    "There are 1000 unique users in the small dataset."
   ]
  },
  {
   "cell_type": "markdown",
   "id": "f4fad9c7",
   "metadata": {},
   "source": [
    "## 2. Identify the user(s) with the highest number of reviews. What is(are) the average/median review scores for these user(s)?"
   ]
  },
  {
   "cell_type": "code",
   "execution_count": 37,
   "id": "77b79c59",
   "metadata": {},
   "outputs": [],
   "source": [
    "def parseJSONUser(x):\n",
    "    res = json.loads(x)\n",
    "    return res['user_id']"
   ]
  },
  {
   "cell_type": "code",
   "execution_count": 58,
   "id": "ae606463",
   "metadata": {},
   "outputs": [],
   "source": [
    "def parseJSONReviews(x):\n",
    "    res = json.loads(x)\n",
    "    return (res['user_id'], int(res['review_count']))"
   ]
  },
  {
   "cell_type": "code",
   "execution_count": 71,
   "id": "d6d159c0",
   "metadata": {},
   "outputs": [
    {
     "data": {
      "text/plain": [
       "[('8k3aO-mPeyhbR5HUucA5aA', 14455),\n",
       " ('hWDybu_KvYLSdEFzGrniTw', 12487),\n",
       " ('Hi10sGSZNxQH3NLyWSZ1oA', 11112),\n",
       " ('XYSDrIef7g4Gmp3lNFVO6A', 4828),\n",
       " ('CQUDh80m48xnzUkx-X5NAw', 4181),\n",
       " ('YttDgOC9AlM4HcAlDsbB2A', 3379),\n",
       " ('ITa3vh5ERI90G_WP4SmGUQ', 3079),\n",
       " ('PkNs-Rw6MHQfu6j5pBZMMw', 2978),\n",
       " ('ZIOCmdFaMIF56FR-nWr_2A', 2922),\n",
       " ('Ryxj0u0AW3mRsRypdYli2A', 2642)]"
      ]
     },
     "execution_count": 71,
     "metadata": {},
     "output_type": "execute_result"
    }
   ],
   "source": [
    "# map with user_id and review_count\n",
    "user_data = graph_data.map(lambda x: parseJSON(x))\n",
    "#user_data.take(1)\n",
    "# ** HOW MANY USERS TO AVERAGE (TOP 100?)? ** ** DO YOU WANT USER_ID OR NAME? **\n",
    "highest_num_reviews = graph_data.map(lambda x: parseJSONReviews(x)).sortBy(lambda x: (x[1]), ascending = False)\n",
    "highest_num_reviews.take(10)\n",
    "#highest_reviews = users.map(lambda x: x).sortBy((lambda x: ((int)(x[1]))), ascending = False)\n",
    "#highest_reviews.take(10)\n",
    "#avg_highest_reviews = highest_reviews.map(lambda x: ((int)(x[1])))\n",
    "#avg_highest_reviews.take(5)"
   ]
  },
  {
   "cell_type": "markdown",
   "id": "a9cbf9ca",
   "metadata": {},
   "source": [
    "The top 5 users with the highest number of reviews are 8k3aO-mPeyhbR5HUucA5aA with 14455 reviews, hWDybu_KvYLSdEFzGrniTw with 12487 reviews, Hi10sGSZNxQH3NLyWSZ1oA with 11112 reviews, XYSDrIef7g4Gmp3lNFVO6A with 4828 reviews, and CQUDh80m48xnzUkx-X5NAw with 4181 reviews."
   ]
  },
  {
   "cell_type": "markdown",
   "id": "62f60d73",
   "metadata": {},
   "source": [
    "## 3. Identify several (two or more) interesting user attributes and think of and carry out one interesting analysis. Interesting is relative, and you should use Markdown cell to describe why/how these are interesting!"
   ]
  },
  {
   "cell_type": "code",
   "execution_count": 72,
   "id": "64bc6ac5",
   "metadata": {},
   "outputs": [
    {
     "data": {
      "text/plain": [
       "[{'user_id': 'ntlvfPzc8eglqvk92iDIAw',\n",
       "  'name': 'Rafael',\n",
       "  'review_count': 553,\n",
       "  'yelping_since': '2007-07-06 03:27:11',\n",
       "  'useful': 628,\n",
       "  'funny': 225,\n",
       "  'cool': 227,\n",
       "  'elite': '',\n",
       "  'friends': 'oeMvJh94PiGQnx_6GlndPQ, wm1z1PaJKvHgSDRKfwhfDg, IkRib6Xs91PPW7pon7VVig, A8Aq8f0-XvLBcyMk2GJdJQ, eEZM1kogR7eL4GOBZyPvBA, e1o1LN7ez5ckCpQeAab4iw, _HrJVzFaRFUhPva8cwBjpQ, pZeGZGzX-ROT_D5lam5uNg, 0S6EI51ej5J7dgYz3-O0lA, woDt8raW-AorxQM_tIE2eA, hWUnSE5gKXNe7bDc8uAG9A, c_3LDSO2RHwZ94_Q6j_O7w, -uv1wDiaplY6eXXS0VwQiA, QFjqxXn3acDC7hckFGUKMg, ErOqapICmHPTN8YobZIcfQ, mJLRvqLOKhqEdkgt9iEaCQ, VKX7jlScJSA-ja5hYRw12Q, ijIC9w5PRcj3dWVlanjZeg, CIZGlEw-Bp0rmkP8M6yQ9Q, OC6fT5WZ8EU7tEVJ3bzPBQ, UZSDGTDpycDzrlfUlyw2dQ, deL6e_z9xqZTIODKqnvRXQ, 5mG2ENw2PylIWElqHSMGqg, Uh5Kug2fvDd51RYmsNZkGg, 4dI4uoShugD9z84fYupelQ, EQpFHqGT9Tk6YSwORTtwpg, o4EGL2-ICGmRJzJ3GxB-vw, s8gK7sdVzJcYKcPv2dkZXw, vOYVZgb_GVe-kdtjQwSUHw, wBbjgHsrKr7BsPBrQwJf2w, p59u2EC_qcmCmLeX1jCi5Q, VSAZI1eHDrOPRWMK4Q2DIQ, efMfeI_dkhpeGykaRJqxfQ, x6qYcQ8_i0mMDzSLsFCbZg, K_zSmtNGw1fu-vmxyTVfCQ, 5IM6YPQCK-NABkXmHhlRGQ, U_w8ZMD26vnkeeS1sD7s4Q, AbfS_oXF8H6HJb5jFqhrLw, hbcjX4_D4KIfonNnwrH-cg, UKf66_MPz0zHCP70mF6p1g, hK2gYbxZRTqcqlSiQQcrtQ, 2Q45w_Twx_T9dXqlE16xtQ, BwRn8qcKSeA77HLaOTbfiQ, jouOn4VS_DtFPtMR2w8VDA, ESteyJabbfvqas6CEDs3pQ',\n",
       "  'fans': 14,\n",
       "  'average_stars': 3.57,\n",
       "  'compliment_hot': 3,\n",
       "  'compliment_more': 2,\n",
       "  'compliment_profile': 1,\n",
       "  'compliment_cute': 0,\n",
       "  'compliment_list': 1,\n",
       "  'compliment_note': 11,\n",
       "  'compliment_plain': 15,\n",
       "  'compliment_cool': 22,\n",
       "  'compliment_funny': 22,\n",
       "  'compliment_writer': 10,\n",
       "  'compliment_photos': 0},\n",
       " {'user_id': 'FOBRPlBHa3WPHFB5qYDlVg',\n",
       "  'name': 'Michelle',\n",
       "  'review_count': 564,\n",
       "  'yelping_since': '2008-04-28 01:29:25',\n",
       "  'useful': 790,\n",
       "  'funny': 316,\n",
       "  'cool': 400,\n",
       "  'elite': '2008,2009,2010,2011,2012,2013',\n",
       "  'friends': 'ly7EnE8leJmyqyePVYFlug, pRlR63iDytsnnniPb3AOug, kc-rnN-ndnFTdHG4TfIgeQ, GYndf-h6dAwpGP0lDBz2Wg, FPo3SwQuAK53QVZm_eIyBg, 9fF_T3pQu3ay1oA7h_VYNA, G5T3bd6dUs5zkQ2VMZtRUw, tufuEc5f9TWR05_yko46QQ, 4lMab047cJsEt8puhy8dew, bEbLwLpJauEG-HW0w_0IKw, xz9o3T3uJxyeLZ6Cyb8cFQ, LxBh46T0wO9VlsJUK5q2cw, dUALcXVUTC7NYHuE5GKjtw, LM6pxbcfdyUS8M2jWoQk1g, nQG7XkgrsG4MXXXfexJwAA, 8t6qbx5mNimrLrqs01VIvg, A-pcQqvtlsxd-JgBOIdwHw, 2i2NOMPClqwUA64SkzyIvQ, bnf7t21SCFw3HWfV_soG_Q, b_ED_rPl7OLwEpUlr4VI5A, Avlw4sAK8uGpcQY89Gk0Tg, euxheBcyvFLJqNQSbsFsJQ, 1Ksjxp5WuG2Cni24Ipal6w, nH5NCbQ7eacONPMV8VpdEw, AMqRKxavwt1yTBzlMrG8sQ, f71r-LEp9O8yJu76XhPadQ, cjotiAHFSbFuvbxTWmGi1Q, _KfzNJcprrOQlvoAOawS2Q, PjdEARXumUBwx5zj6jTkng, mGTObjvjjIVy6C3FLNH2pw, wwHxfdwZoGLGmvYznFMvgw, 1hup0FxTWkjNAcVf4Xvj6w, GMzlmv2K6jvLnSQcipGKGA, -zfHj6Ar9FeTAcVyK_xpFA, JyMizIjW3qhGahAYq6CFmQ, czJvKmduyIljcLWfX-9NCw, AIhfuFmX62k7a22gXXAB2Q, 8vU81Y40XNCPykYAfaxyjQ, dsNJ3rcIqO8GETxyQwrL9g, PeLGa5vUR8_mcsn-fn42Jg, Cvvu2V_FO3FjxIHpartSMg, lsSiIjAKVl-QRxKjRErBeg, ITfHnc90OfdNYmin4wDQ1g, DuWB9jtjdfGR3ey9b2GUiA, Jc0T3q_8bOjg9pPlJb3MBQ, jQNE4kG65Pyplz8MiVDJXw, t4uPIUnmF7zdAb6cWT3yTA, RLAR2Vnb2klcb2UsfF6FUQ, v0JtfrbTDNPvSp3rXv8IRg, RvoPAtu1iSSwUfhD3tg1Nw, K68lvhWO_Ln39vdmWns2HA, -fQPzH-e-ubDIiLQhybEjQ, X3S5AhlmLhyiTlaiTF7NyA, n9lFMzaSM30dNHFcl93AJw, NQZDDxDG5_Im6SxYSPcGYA, skzHFVplaHoOinPtymI04w, MpOMfaq4ikuhmFqj2tJx1g, u4NQ1BZ2nXIxRY1gxsPYgw, Y1ICO26IsN7i_1OVD0Inyw, pHqOWnVzU_0JeLPm3wHUbQ, eijfUFNF6flY-cY4Ff6BIA, QJI9OSEn6ujRCtrX06vs1w, 9_ME--bvyZStdz6iwGzMCw, CYQNdjHCL9nedkLMfKLHmg, tTppOboFA2OaNelu3l8-pg, 3lU1iYLNW434mDJ-3dpZ0w, wy4NZPGAonzuz9RzSDtDNA, LGQ7Fu_Ev33lWLtpshou-g, ME6G91A0axSfSYK9YBnWQg, MjGdUi8Yje6x5HhbvwnlDg, gBEihTFxWQ5CzOH1tGjAPw, 4Y0ha2qM31Ea8jZE2hMUKQ, ZnQmJclqMNM1rl2vDFnm5w, BoNlCPHJoYmimuGjpQXWuw, soaCrgXmwdR6SkUZ7Qc3Mg, TE9o4cWvNXg5IYcjAwI5hg, dIIKEfOgo0KqUfGQvGikPg, TVf0-xIHIEsmN2dAKGAIiA, _ey5n3llYV2RfdCDCy6jhw, TUpdK4l8GAWIsdcD8JbkVw, jL2o3huthRW2lo73ezLHdw, RaNkWBMywhBqCZOQWSN_SQ, 9AFhmlMesozq-sq2KFE-gw, ij7kqaoPR_Zwtcrxn11kXQ, dSS5gT5Ajmv-NKoxna4e4w, Ez7OB58ciPCfLVqofd6YQg, VLhnqw7pzxObaQZ4Tpzp9w, v1wa0SP2l6yB11orrh0PEg, DMHPVjHKaUStUBMPH2TjNA, n6hHjOuv8NAWubj0U7LFLA, 6rvdsoYos-0udWV7mcNtOg, u1rtE-FomZXg9vuOVqTCjQ, 0qR6SusZ-m4YVzl3V1UfDA, RZkc9rgACbOsX9mpa2TDXg, eFuUcwjyBgX9vG-i_3hLfQ, Cuk2vdOMwTz71NjBuCF0Mg, zk_mInlLMmLLqMk6IvXm9g, GGWjA8v479feCo6OPTLQOg, FOvWgXp5L23vcx3RNl823A, 94ci59pEqujuw_P1HLW5XQ, ouJuVAEPnnEC_zhcrSf5GA, hxDeqPbPwkKEFXOfK7av9A, x5SbZmP74zu-UMc86YN4XA, ZjDs4lRCaTHugz2EW_nQyA, BECNMzLRiFj3y5k7G4rshA, sDGwhNAQIubV36t_fex6VA, OsElvMpJD17xc3A_nwF5NQ, ns7KN6l_O39R3U3IKfz3mQ, YwT2RxiC4H_8JT_Dkmzb5g, W92S95QwdQERvx7lvxmeKg, HtCPdVujYJAZF4FKr-C9Lg, qzbPv64K36TnRA7Ki7EDaQ, k2aTPsAOfrlFN9LLrWrCLg, UmXzwFM2OkZHWJ5cJZlqkg, UG4EKu13JRwzRix6ESINdg, 6gGRtiXRdUS2PbFlu2QmZQ, krPxbT49l0ffv2S53znp-Q, qLfujrTBF9XXGa9MaNNv4Q, Vz2ouW-nkOuX0Fet7nc_cg, 0XaQ6vvgy5pi5XAaz12mOg, uYy52H-UGQvZ8pXriv2yYw, kJkoabUt9Vpt8FE3NkU08w, nAvWIxkcP39OLMRHtJluTg, UVxY0iyPaqY7s4BSFtt-xA, kGGapvfP1SZH2ZOikdSpNA, ciCuqqFRpSoh8ZZ_a9ELqg, 85k4u8kP9yb8uwKNZ_aWig, Od5HdH_uUvsjGMTgOKiieg, PFyclb0Agx6HmlyMyYqjkA, 0ynxX4zKNh-Y4-NLW4eaGQ, eW97I1zicAT7Qv6j_Ad1wg, 2jBo5YXj6eflYJH-Rle0fw, nMeCE5-xsdleyxYuNZ_7rA, E5bgk6POk8u_EWeCgrlDuA, y3HFVx8nbNmomSc-PWOy-g, qoyf4UgwuF37St-2VdkJZQ, 6bsqA3UTH37wyCOFrt17vQ, Thc2zV-K-KLcvJn3fMPdqQ, v0O7miDEH4XX2diEr7ij2w, 64fujm3m9rYNbCypvHxQGQ, LQALTuDeCRLwR9NOxUWS5A, 4bfqW66F5CFu6Yr_S92EOw, sDX-Wm9s1DeT0aiAxbnugg, dE9YaRaUtkDm-xJrW3BSPg, 7WfLyV9sV-MU7f6k7xgiJA, HuBgs7uHyUz7DzcaScZqjg, MoFiqXxCMV9AiqIg1ymKwA, J6hurmbHzrqxFYL-56YPYA, TN2HEqm1p62d-HNC2zxQ7g, vzw1ZryOiTYGzl8N1yILtw, ZVdHmpsUWMQUfyJsYd5p4g, 4n0eMAeCSvWRl6an5Z8OGg, suF-uONlHQcTlqbXyJ9kgQ, mCwl2apJVmNxH8PqT3ZOOw, sFxvRllDeR5ZLjBhfXOEWw, YjuCEt8TPPDCkmY0LmvLtw, Nd0ocN6CmzrwHf8zeABVsg, GerMhlVWTNkcyI77oQ8Ckw, J9c0XM-wV_KQmtZYxvIFFQ, G6M2NiuST-sK5ZAR4VrfmQ, QVK2aHwCL55_uhq6eBk5rg, cTtDPzQSGHzC7rdOFylU1Q, hRIeyrM1zhL5nhk_cr7yyA, muvrSTpKkOlsdme1AMZ78w, ucAN8VJoiA-_ysMCgZev1w, LOcifzqw4pDMpjaDs5R3oA, 6p1NDChnIpGl29Ce3cMKWg, yjUtVmn9QCgu-p0aG0EhgQ, ottOuy7FZtUV2HnBfhVk0w, G-mWHSm6XVp1oe9PN7NUPg, 61meSfN9Morngpe3a-D-Sw, OGDSD2XeOBBdb1pka5tZVg, yLW8OrR8Ns4X1oXJmkKYgg, Aic2V_XB37mbK6tqzSLuKA, TwPlaNvnziaN2wB3lk_9Mw, qtR8zoqViSlbggc7gaRmvA, RX0GPUmx4wJ8zxP1Mq0tPA, nYryL_iwwwqcYQarn8_lbw, H58nmfUs-Nz_wwcYfWN3Dg, vd0X9jRPbc3-Q0DhZlYTzg, sWt4M6Drth0Lyt4vT8Mo_w, RUMzmM64bNGfKw8Oe_Q8nA, 9kgj54sYGd0qc5emszjpHA, CwMnwuXOV4IBDvDYTAK8Fg, tJN26kuHD2FHpdOCLPJUEQ, CWuZMpIht24ApriIklLKMg, B_taR9fTDA1quy6Lqpt6AA, fG9Bq9aU09w79iLvxXivzw, 9fO8HBgLnMei8zZUz1Ysbg, 7OvtYnfscIWBahX6hL2xkQ, RIq_z44y265BWS8DXDzQqQ, eFbmEFi1-dBlEVrxZCNp_Q, ysDmEwP547KGbzW7h_hlrQ, rMKIHfnjkJlbohF2HExnPA, KKYN4LPphTk-ZBz8YxsDbQ, UNGVRzFrjeilD4d9xEUAjQ, B73Hnya4RxPrQg7CNVAZVQ, g6eN8HGLYDNKqO10FZ4BJw, 1FjbFIhkxgPO35Ak0nozJA, S7d9QLjgw0yt1tWKgoyrKQ, 2r1FTE8e7n9IJznypedWJw, c7pPoQPgSUZERW8XVfV0gQ, ZE3XemEXMfTs-g4Bi71HyA, uJTEn40MZuwQSwziAJxOSg, AGo9oQr6aPCIOskjiTdNNA, O_GWZZfQx7qv-n-CN7hsIA, Ccoapq4XJg78LdyhU4lZng, 4tWyQ6sykZf1qzJydWtgqw, kIpGUhKWzHZHljMbAgnWUA, Ryxj0u0AW3mRsRypdYli2A, Q0St62dXpD3Z_UHvSPcutw, du7qMZ2LGnKI8jtwNaXfzA, QWi-9TOuCN1PMDLzDj1k3Q',\n",
       "  'fans': 27,\n",
       "  'average_stars': 3.84,\n",
       "  'compliment_hot': 36,\n",
       "  'compliment_more': 4,\n",
       "  'compliment_profile': 5,\n",
       "  'compliment_cute': 2,\n",
       "  'compliment_list': 1,\n",
       "  'compliment_note': 33,\n",
       "  'compliment_plain': 37,\n",
       "  'compliment_cool': 63,\n",
       "  'compliment_funny': 63,\n",
       "  'compliment_writer': 21,\n",
       "  'compliment_photos': 5}]"
      ]
     },
     "execution_count": 72,
     "metadata": {},
     "output_type": "execute_result"
    }
   ],
   "source": [
    "# friends, fans, elite\n",
    "# numFriends relative to numFans\n",
    "# Are numFriends and/or numFans correlated to elite status?\n",
    "user_data.take(2)"
   ]
  },
  {
   "cell_type": "markdown",
   "id": "56ba2223",
   "metadata": {},
   "source": [
    "## 4. Identify the top-ten most influential users from the Yelp dataset. Justify the attribute(s) that you pick to measure the level of influence!  "
   ]
  },
  {
   "cell_type": "code",
   "execution_count": 73,
   "id": "89c0fb4f",
   "metadata": {},
   "outputs": [],
   "source": [
    "# PageRank: add weight for elite attribute\n",
    "# Use numFriends and/or numFans according to findings from 3"
   ]
  }
 ],
 "metadata": {
  "kernelspec": {
   "display_name": "Python 3",
   "language": "python",
   "name": "python3"
  },
  "language_info": {
   "codemirror_mode": {
    "name": "ipython",
    "version": 3
   },
   "file_extension": ".py",
   "mimetype": "text/x-python",
   "name": "python",
   "nbconvert_exporter": "python",
   "pygments_lexer": "ipython3",
   "version": "3.6.9"
  }
 },
 "nbformat": 4,
 "nbformat_minor": 5
}
