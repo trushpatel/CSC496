{
 "cells": [
  {
   "cell_type": "code",
   "execution_count": null,
   "id": "8620247d",
   "metadata": {},
   "outputs": [],
   "source": [
    "import os\n",
    "import sys\n",
    "spark_path = os.environ['SPARK_HOME']\n",
    "sys.path.append(spark_path + \"/bin\")\n",
    "sys.path.append(spark_path + \"/python\")\n",
    "sys.path.append(spark_path + \"/python/pyspark/\")\n",
    "sys.path.append(spark_path + \"/python/lib\")\n",
    "sys.path.append(spark_path + \"/python/lib/pyspark.zip\")\n",
    "sys.path.append(spark_path + \"/python/lib/py4j-0.10.9-src.zip\")\n",
    "\n",
    "import findspark\n",
    "findspark.init()\n",
    "import pyspark"
   ]
  },
  {
   "cell_type": "code",
   "execution_count": null,
   "id": "2b698fdc",
   "metadata": {},
   "outputs": [],
   "source": [
    "number_cores = 6\n",
    "memory_gb = 16\n",
    "conf = (pyspark.SparkConf().setMaster('local[{}]'.format(number_cores)).set('spark.driver.memory', '{}g'.format(memory_gb)))\n",
    "sc = pyspark.SparkContext(conf=conf)"
   ]
  },
  {
   "cell_type": "code",
   "execution_count": null,
   "id": "a9def3a2",
   "metadata": {},
   "outputs": [],
   "source": [
    "ls -lh /users/trush/CSC496/DataParallelComputing/data/ml-latest"
   ]
  },
  {
   "cell_type": "code",
   "execution_count": null,
   "id": "07a46bf2",
   "metadata": {},
   "outputs": [],
   "source": [
    "!ls"
   ]
  },
  {
   "cell_type": "code",
   "execution_count": null,
   "id": "c50356e8",
   "metadata": {},
   "outputs": [],
   "source": [
    "ratings = sc.textFile(\"/users/trush/CSC496/DataParallelComputing/data/ml-latest/ratings.csv\")"
   ]
  },
  {
   "cell_type": "code",
   "execution_count": null,
   "id": "65c61814",
   "metadata": {},
   "outputs": [],
   "source": [
    "ratings.take(5)"
   ]
  },
  {
   "cell_type": "code",
   "execution_count": null,
   "id": "327eb815",
   "metadata": {},
   "outputs": [],
   "source": [
    "ratings.cache()"
   ]
  },
  {
   "cell_type": "code",
   "execution_count": null,
   "id": "6c090880",
   "metadata": {},
   "outputs": [],
   "source": [
    "%%time\n",
    "ratings.count()"
   ]
  },
  {
   "cell_type": "code",
   "execution_count": null,
   "id": "34546bd4",
   "metadata": {},
   "outputs": [],
   "source": [
    "%%time\n",
    "ratings.count()"
   ]
  },
  {
   "cell_type": "code",
   "execution_count": null,
   "id": "2da19db0",
   "metadata": {},
   "outputs": [],
   "source": [
    "%%time\n",
    "ratings.count()"
   ]
  },
  {
   "cell_type": "markdown",
   "id": "e3e5d7d1",
   "metadata": {},
   "source": [
    "# Average ratings over the years of every movie"
   ]
  },
  {
   "cell_type": "code",
   "execution_count": null,
   "id": "b52eea0e",
   "metadata": {},
   "outputs": [],
   "source": [
    "ratingHeader = ratings.first()\n",
    "print(ratingHeader)"
   ]
  },
  {
   "cell_type": "code",
   "execution_count": null,
   "id": "a1eece56",
   "metadata": {},
   "outputs": [],
   "source": [
    "ratingsOnly = ratings.filter(lambda x : x != ratingHeader)\n",
    "ratingsOnly.take(5)"
   ]
  },
  {
   "cell_type": "code",
   "execution_count": null,
   "id": "2eedce81",
   "metadata": {},
   "outputs": [],
   "source": [
    "s = '1,307,3.5,1256677221'\n",
    "s.split(\",\")[2]"
   ]
  },
  {
   "cell_type": "code",
   "execution_count": null,
   "id": "b06042d4",
   "metadata": {},
   "outputs": [],
   "source": [
    "movieRatings = ratingsOnly.map(lambda line : (line.split(\",\")[1], float(line.split(\",\")[2])))\n",
    "movieRatings.take(5)"
   ]
  },
  {
   "cell_type": "markdown",
   "id": "873ca60e",
   "metadata": {},
   "source": [
    "## Possible approaches in aggregating data\n",
    " - groupByKey and mapValues\n",
    " - reduceByKey and countByKey"
   ]
  },
  {
   "cell_type": "markdown",
   "id": "2b270097",
   "metadata": {},
   "source": [
    "_groupByKey_ and _mapValues_"
   ]
  },
  {
   "cell_type": "code",
   "execution_count": null,
   "id": "030761c8",
   "metadata": {},
   "outputs": [],
   "source": [
    "groupByKeyRatings = movieRatings.groupByKey()\n",
    "#groupByKeyRatings\n",
    "groupByKeyRatings.take(5)"
   ]
  },
  {
   "cell_type": "code",
   "execution_count": null,
   "id": "f19e89a6",
   "metadata": {},
   "outputs": [],
   "source": [
    "mapValuesToListRatings = groupByKeyRatings.mapValues(list)\n",
    "#mapValuesToListRatings\n",
    "mapValuesToListRatings.take(5)"
   ]
  },
  {
   "cell_type": "code",
   "execution_count": null,
   "id": "947591cb",
   "metadata": {},
   "outputs": [],
   "source": [
    "avgRatings01 = mapValuesToListRatings.mapValues(lambda V: sum(V) / float(len(V)))\n",
    "#avgRatings01\n",
    "avgRatings01.take(5)"
   ]
  },
  {
   "cell_type": "code",
   "execution_count": null,
   "id": "9c37432a",
   "metadata": {},
   "outputs": [],
   "source": [
    "test = [2.0, 4.0, 3.0]\n",
    "sum(test) / len(test)"
   ]
  },
  {
   "cell_type": "markdown",
   "id": "0d8bd507",
   "metadata": {},
   "source": [
    "_reduceByKey_ and _countByKey_"
   ]
  },
  {
   "cell_type": "code",
   "execution_count": null,
   "id": "ee035503",
   "metadata": {},
   "outputs": [],
   "source": [
    "countsByKey = movieRatings.countByKey()\n",
    "countsByKey"
   ]
  },
  {
   "cell_type": "code",
   "execution_count": null,
   "id": "3835fc54",
   "metadata": {},
   "outputs": [],
   "source": [
    "def sumValues(x, y):\n",
    "    return (x + y)"
   ]
  },
  {
   "cell_type": "code",
   "execution_count": null,
   "id": "74ca76e3",
   "metadata": {},
   "outputs": [],
   "source": [
    "sumRatings = movieRatings.reduceByKey(sumValues)\n",
    "sumRatings.take(10)"
   ]
  },
  {
   "cell_type": "code",
   "execution_count": null,
   "id": "1671b463",
   "metadata": {},
   "outputs": [],
   "source": [
    "avgRatings02 = sumRatings.map(lambda x: (x[0], x[1]/countsByKey.get(x[0])))\n",
    "avgRatings02.take(10)"
   ]
  },
  {
   "cell_type": "code",
   "execution_count": null,
   "id": "90d17c76",
   "metadata": {},
   "outputs": [],
   "source": [
    "movies = sc.textFile(\"/users/trush/CSC496/DataParallelComputing/data/ml-latest/movies.csv\")\n",
    "movies.take(5)"
   ]
  },
  {
   "cell_type": "code",
   "execution_count": null,
   "id": "ca66f2b5",
   "metadata": {},
   "outputs": [],
   "source": [
    "movieHeader = movies.first()\n",
    "movieInfo = movies.filter(lambda x: x != movieHeader)\n",
    "movieInfo.take(5)"
   ]
  },
  {
   "cell_type": "code",
   "execution_count": null,
   "id": "f39d2899",
   "metadata": {},
   "outputs": [],
   "source": [
    "# rsplit handles movies with commas in the title\n",
    "movieTitles = movieInfo.map(lambda line: (line.split(\",\",1)[0], line.rsplit(\",\",1)[0].split(\",\",1)[1]))\n",
    "movieTitles.take(5)"
   ]
  },
  {
   "cell_type": "code",
   "execution_count": null,
   "id": "9f76c399",
   "metadata": {},
   "outputs": [],
   "source": [
    "s = '1,Toy Story (1995),Adventure|Animation|Children|Comedy|Fantasy'\n",
    "print(s.split(\",\"))\n",
    "print(s.rsplit(\",\",1)[0])\n",
    "print(s.rsplit(\",\",1)[0].split(\",\",1)[1])"
   ]
  },
  {
   "cell_type": "code",
   "execution_count": null,
   "id": "509ed73b",
   "metadata": {},
   "outputs": [],
   "source": [
    "augmentedRatings = avgRatings01.join(movieTitles)\n",
    "augmentedRatings.take(5)"
   ]
  },
  {
   "cell_type": "code",
   "execution_count": null,
   "id": "34f871ff",
   "metadata": {},
   "outputs": [],
   "source": [
    "augmentedRatings.takeOrdered(50, key = lambda x: -x[1][0])"
   ]
  },
  {
   "cell_type": "markdown",
   "id": "146b0ad9",
   "metadata": {},
   "source": [
    "## Challenge:\n",
    "   report the average ratings for movies with ratings higher than 3.75 and the number of ratings total more than 100"
   ]
  },
  {
   "cell_type": "code",
   "execution_count": null,
   "id": "52b1501c",
   "metadata": {},
   "outputs": [],
   "source": [
    "# Number of Ratings per title\n",
    "# countsByKey\n",
    "\n",
    "# Average Rating per title\n",
    "# avgRatings02\n",
    "\n",
    "avgRatings03 = sumRatings.map(lambda x: (x[0], x[1]/countsByKey.get(x[0]), countsByKey.get(x[0])))\n",
    "avgRatings03 = avgRatings03.filter(lambda x: x[1] > 3.75)\n",
    "avgRatings03 = avgRatings03.filter(lambda x: x[2] > 100)\n",
    "avgRatings03.take(5)"
   ]
  },
  {
   "cell_type": "code",
   "execution_count": null,
   "id": "37e47c87",
   "metadata": {},
   "outputs": [],
   "source": []
  }
 ],
 "metadata": {
  "kernelspec": {
   "display_name": "Python 3",
   "language": "python",
   "name": "python3"
  },
  "language_info": {
   "codemirror_mode": {
    "name": "ipython",
    "version": 3
   },
   "file_extension": ".py",
   "mimetype": "text/x-python",
   "name": "python",
   "nbconvert_exporter": "python",
   "pygments_lexer": "ipython3",
   "version": "3.6.9"
  }
 },
 "nbformat": 4,
 "nbformat_minor": 5
}
