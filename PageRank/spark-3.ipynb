{
 "cells": [
  {
   "cell_type": "code",
   "execution_count": null,
   "id": "0be93a18",
   "metadata": {},
   "outputs": [],
   "source": [
    "import os\n",
    "import sys\n",
    "spark_path = os.environ['SPARK_HOME']\n",
    "sys.path.append(spark_path + \"/bin\")\n",
    "sys.path.append(spark_path + \"/python\")\n",
    "sys.path.append(spark_path + \"/python/pyspark/\")\n",
    "sys.path.append(spark_path + \"/python/lib\")\n",
    "sys.path.append(spark_path + \"/python/lib/pyspark.zip\")\n",
    "sys.path.append(spark_path + \"/python/lib/py4j-0.10.9-src.zip\")\n",
    "\n",
    "import findspark\n",
    "findspark.init()\n",
    "import pyspark"
   ]
  },
  {
   "cell_type": "code",
   "execution_count": null,
   "id": "e19f3c1a",
   "metadata": {},
   "outputs": [],
   "source": [
    "number_cores = 6\n",
    "memory_gb = 16\n",
    "conf = (pyspark.SparkConf().setMaster('local[{}]'.format(number_cores)).set('spark.driver.memory', '{}g'.format(memory_gb)))\n",
    "sc = pyspark.SparkContext(conf=conf)"
   ]
  },
  {
   "cell_type": "code",
   "execution_count": null,
   "id": "d60aff67",
   "metadata": {},
   "outputs": [],
   "source": [
    "!dir /users/trush/CSC496/PageRank"
   ]
  },
  {
   "cell_type": "code",
   "execution_count": null,
   "id": "e4bd131b",
   "metadata": {},
   "outputs": [],
   "source": [
    "! cat /users/trush/CSC496/PageRank/data/small_graph.dat"
   ]
  },
  {
   "cell_type": "code",
   "execution_count": null,
   "id": "b3df5f89",
   "metadata": {},
   "outputs": [],
   "source": [
    "graph_data = sc.textFile(\"/users/trush/CSC496/PageRank/data/small_graph.dat\")\n",
    "graph_data.take(10)"
   ]
  },
  {
   "cell_type": "code",
   "execution_count": null,
   "id": "3d6dc1e8",
   "metadata": {},
   "outputs": [],
   "source": [
    "# Incoming and outgoing links in a page\n",
    "links = graph_data.map(lambda line: (line.split(\" \")[0], line.split(\" \")[1])) \\\n",
    "        .groupByKey() \\\n",
    "        .mapValues(list)\n",
    "links.take(10)"
   ]
  },
  {
   "cell_type": "code",
   "execution_count": null,
   "id": "1c8b879a",
   "metadata": {},
   "outputs": [],
   "source": [
    "N = links.count()\n",
    "ranks = links.map(lambda line: (line[0], 1/N))\n",
    "ranks.take(N)"
   ]
  },
  {
   "cell_type": "code",
   "execution_count": null,
   "id": "11d927b0",
   "metadata": {},
   "outputs": [],
   "source": [
    "votes = ranks.join(links)\n",
    "votes.take(N)"
   ]
  },
  {
   "cell_type": "code",
   "execution_count": null,
   "id": "89169ef6",
   "metadata": {},
   "outputs": [],
   "source": [
    "def calculateVotes(t):\n",
    "    res = []\n",
    "    for item in t[1][1]:\n",
    "        count = len(t[1][1])\n",
    "        res.append((item, t[1][0]/count))\n",
    "    return res\n",
    "# Weight of votes from original source\n",
    "calculateVotes(('y', (0.3333333333333333, ['y', 'a'])))"
   ]
  },
  {
   "cell_type": "code",
   "execution_count": null,
   "id": "acaf9a00",
   "metadata": {},
   "outputs": [],
   "source": [
    "votes = ranks.join(links) \\\n",
    "        .flatMap(calculateVotes)\n",
    "votes.collect()"
   ]
  },
  {
   "cell_type": "code",
   "execution_count": null,
   "id": "6c73c06c",
   "metadata": {},
   "outputs": [],
   "source": [
    "ranks.collect()"
   ]
  },
  {
   "cell_type": "code",
   "execution_count": null,
   "id": "1484ff0e",
   "metadata": {},
   "outputs": [],
   "source": [
    "ranks = votes.reduceByKey(lambda x, y: x + y)\n",
    "ranks.collect()"
   ]
  },
  {
   "cell_type": "code",
   "execution_count": null,
   "id": "3df298f8",
   "metadata": {},
   "outputs": [],
   "source": [
    "%%time\n",
    "for i in range(10):\n",
    "    votes = ranks.join(links) \\\n",
    "        .flatMap(calculateVotes)\n",
    "    ranks = votes.reduceByKey(lambda x, y: x + y)\n",
    "    print(ranks.collect())"
   ]
  },
  {
   "cell_type": "code",
   "execution_count": null,
   "id": "8e5e283e",
   "metadata": {},
   "outputs": [],
   "source": [
    "%%time\n",
    "\n",
    "N = links.count()\n",
    "ranks = links.map(lambda line: (line[0], 1/N))\n",
    "ranks.take(N)\n",
    "sum = 1\n",
    "\n",
    "while sum > 0.1:\n",
    "    old_ranks = ranks\n",
    "    votes = ranks.join(links) \\\n",
    "            .flatMap(calculateVotes)\n",
    "    ranks = votes.reduceByKey(lambda x, y: x + y)\n",
    "    errors = old_ranks.join(ranks).mapValues(lambda v: abs(v[0] - v[1]))\n",
    "    sum = errors.values().sum()\n",
    "    print(sum)\n",
    "ranks.collect()"
   ]
  },
  {
   "cell_type": "code",
   "execution_count": null,
   "id": "526fb4f1",
   "metadata": {},
   "outputs": [],
   "source": []
  }
 ],
 "metadata": {
  "kernelspec": {
   "display_name": "Python 3",
   "language": "python",
   "name": "python3"
  },
  "language_info": {
   "codemirror_mode": {
    "name": "ipython",
    "version": 3
   },
   "file_extension": ".py",
   "mimetype": "text/x-python",
   "name": "python",
   "nbconvert_exporter": "python",
   "pygments_lexer": "ipython3",
   "version": "3.6.9"
  }
 },
 "nbformat": 4,
 "nbformat_minor": 5
}
