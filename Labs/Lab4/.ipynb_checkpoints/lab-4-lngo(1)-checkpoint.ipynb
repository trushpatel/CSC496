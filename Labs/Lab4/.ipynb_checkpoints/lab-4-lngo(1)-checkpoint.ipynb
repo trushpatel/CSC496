{
 "cells": [
  {
   "cell_type": "code",
   "execution_count": 1,
   "metadata": {},
   "outputs": [],
   "source": [
    "import os\n",
    "import sys\n",
    "spark_path = os.environ['SPARK_HOME']\n",
    "sys.path.append(spark_path + \"/bin\")\n",
    "sys.path.append(spark_path + \"/python\")\n",
    "sys.path.append(spark_path + \"/python/pyspark/\")\n",
    "sys.path.append(spark_path + \"/python/lib\")\n",
    "sys.path.append(spark_path + \"/python/lib/pyspark.zip\")\n",
    "sys.path.append(spark_path + \"/python/lib/py4j-0.10.9-src.zip\")\n",
    "\n",
    "import findspark\n",
    "findspark.init()\n",
    "import pyspark"
   ]
  },
  {
   "cell_type": "code",
   "execution_count": 2,
   "metadata": {},
   "outputs": [],
   "source": [
    "number_cores = 6\n",
    "memory_gb = 16\n",
    "conf = (pyspark.SparkConf().setMaster('local[{}]'.format(number_cores)).set(\"spark.driver.maxResultSize\", \"5g\"))\n",
    "sc = pyspark.SparkContext(conf=conf)"
   ]
  },
  {
   "cell_type": "code",
   "execution_count": 3,
   "metadata": {},
   "outputs": [
    {
     "name": "stdout",
     "output_type": "stream",
     "text": [
      "yelp_academic_dataset_business.json.gz\tyelp_academic_dataset_user.json.gz\r\n",
      "yelp_academic_dataset_review.json.gz\r\n"
     ]
    }
   ],
   "source": [
    "!dir /users/trush/CSC496/Labs/Lab4/data"
   ]
  },
  {
   "cell_type": "code",
   "execution_count": 4,
   "metadata": {},
   "outputs": [
    {
     "name": "stdout",
     "output_type": "stream",
     "text": [
      "total 4.2G\r\n",
      "-rw-r--r-- 1 trush PDC-edu-Lab  25M Nov 22 06:49 yelp_academic_dataset_business.json.gz\r\n",
      "-rw-r--r-- 1 trush PDC-edu-Lab 2.4G Nov 22 06:54 yelp_academic_dataset_review.json.gz\r\n",
      "-rw-r--r-- 1 trush PDC-edu-Lab 1.8G Nov 22 06:53 yelp_academic_dataset_user.json.gz\r\n"
     ]
    }
   ],
   "source": [
    "!ls -lh /users/trush/CSC496/Labs/Lab4/data"
   ]
  },
  {
   "cell_type": "markdown",
   "metadata": {},
   "source": [
    "### Identify 100 users with highest number of ratings/fans.  \n",
    "\n",
    "- User dataset\n",
    "- You can decide/justify this ranking and decide the importance of ratings/fans. \n",
    "- Focusing on fans is better. \n"
   ]
  },
  {
   "cell_type": "markdown",
   "metadata": {},
   "source": [
    "#### Step 1: \n",
    "- Load the data:\n",
    "  - We can use SQL: SQlContext"
   ]
  },
  {
   "cell_type": "code",
   "execution_count": 5,
   "metadata": {},
   "outputs": [],
   "source": [
    "# Step 1: Load the data using SQL Context\n",
    "\n",
    "from pyspark.sql import SQLContext\n",
    "sqlContext = SQLContext(sc)"
   ]
  },
  {
   "cell_type": "code",
   "execution_count": 6,
   "metadata": {},
   "outputs": [],
   "source": [
    "# get SQL table\n",
    "df_json = sqlContext.read.json(\"/users/trush/CSC496/Labs/Lab4/data/yelp_academic_dataset_user.json.gz\")"
   ]
  },
  {
   "cell_type": "code",
   "execution_count": 7,
   "metadata": {
    "scrolled": true
   },
   "outputs": [
    {
     "name": "stdout",
     "output_type": "stream",
     "text": [
      "root\n",
      " |-- average_stars: double (nullable = true)\n",
      " |-- compliment_cool: long (nullable = true)\n",
      " |-- compliment_cute: long (nullable = true)\n",
      " |-- compliment_funny: long (nullable = true)\n",
      " |-- compliment_hot: long (nullable = true)\n",
      " |-- compliment_list: long (nullable = true)\n",
      " |-- compliment_more: long (nullable = true)\n",
      " |-- compliment_note: long (nullable = true)\n",
      " |-- compliment_photos: long (nullable = true)\n",
      " |-- compliment_plain: long (nullable = true)\n",
      " |-- compliment_profile: long (nullable = true)\n",
      " |-- compliment_writer: long (nullable = true)\n",
      " |-- cool: long (nullable = true)\n",
      " |-- elite: string (nullable = true)\n",
      " |-- fans: long (nullable = true)\n",
      " |-- friends: string (nullable = true)\n",
      " |-- funny: long (nullable = true)\n",
      " |-- name: string (nullable = true)\n",
      " |-- review_count: long (nullable = true)\n",
      " |-- useful: long (nullable = true)\n",
      " |-- user_id: string (nullable = true)\n",
      " |-- yelping_since: string (nullable = true)\n",
      "\n"
     ]
    }
   ],
   "source": [
    "df_json.printSchema()"
   ]
  },
  {
   "cell_type": "code",
   "execution_count": 8,
   "metadata": {},
   "outputs": [],
   "source": [
    "df_json.registerTempTable(\"tbl_json\")"
   ]
  },
  {
   "cell_type": "markdown",
   "metadata": {},
   "source": [
    "  - PySpark way"
   ]
  },
  {
   "cell_type": "code",
   "execution_count": 9,
   "metadata": {},
   "outputs": [
    {
     "name": "stdout",
     "output_type": "stream",
     "text": [
      "1968703\n"
     ]
    },
    {
     "data": {
      "text/plain": [
       "['{\"user_id\":\"ntlvfPzc8eglqvk92iDIAw\",\"name\":\"Rafael\",\"review_count\":553,\"yelping_since\":\"2007-07-06 03:27:11\",\"useful\":628,\"funny\":225,\"cool\":227,\"elite\":\"\",\"friends\":\"oeMvJh94PiGQnx_6GlndPQ, wm1z1PaJKvHgSDRKfwhfDg, IkRib6Xs91PPW7pon7VVig, A8Aq8f0-XvLBcyMk2GJdJQ, eEZM1kogR7eL4GOBZyPvBA, e1o1LN7ez5ckCpQeAab4iw, _HrJVzFaRFUhPva8cwBjpQ, pZeGZGzX-ROT_D5lam5uNg, 0S6EI51ej5J7dgYz3-O0lA, woDt8raW-AorxQM_tIE2eA, hWUnSE5gKXNe7bDc8uAG9A, c_3LDSO2RHwZ94_Q6j_O7w, -uv1wDiaplY6eXXS0VwQiA, QFjqxXn3acDC7hckFGUKMg, ErOqapICmHPTN8YobZIcfQ, mJLRvqLOKhqEdkgt9iEaCQ, VKX7jlScJSA-ja5hYRw12Q, ijIC9w5PRcj3dWVlanjZeg, CIZGlEw-Bp0rmkP8M6yQ9Q, OC6fT5WZ8EU7tEVJ3bzPBQ, UZSDGTDpycDzrlfUlyw2dQ, deL6e_z9xqZTIODKqnvRXQ, 5mG2ENw2PylIWElqHSMGqg, Uh5Kug2fvDd51RYmsNZkGg, 4dI4uoShugD9z84fYupelQ, EQpFHqGT9Tk6YSwORTtwpg, o4EGL2-ICGmRJzJ3GxB-vw, s8gK7sdVzJcYKcPv2dkZXw, vOYVZgb_GVe-kdtjQwSUHw, wBbjgHsrKr7BsPBrQwJf2w, p59u2EC_qcmCmLeX1jCi5Q, VSAZI1eHDrOPRWMK4Q2DIQ, efMfeI_dkhpeGykaRJqxfQ, x6qYcQ8_i0mMDzSLsFCbZg, K_zSmtNGw1fu-vmxyTVfCQ, 5IM6YPQCK-NABkXmHhlRGQ, U_w8ZMD26vnkeeS1sD7s4Q, AbfS_oXF8H6HJb5jFqhrLw, hbcjX4_D4KIfonNnwrH-cg, UKf66_MPz0zHCP70mF6p1g, hK2gYbxZRTqcqlSiQQcrtQ, 2Q45w_Twx_T9dXqlE16xtQ, BwRn8qcKSeA77HLaOTbfiQ, jouOn4VS_DtFPtMR2w8VDA, ESteyJabbfvqas6CEDs3pQ\",\"fans\":14,\"average_stars\":3.57,\"compliment_hot\":3,\"compliment_more\":2,\"compliment_profile\":1,\"compliment_cute\":0,\"compliment_list\":1,\"compliment_note\":11,\"compliment_plain\":15,\"compliment_cool\":22,\"compliment_funny\":22,\"compliment_writer\":10,\"compliment_photos\":0}']"
      ]
     },
     "execution_count": 9,
     "metadata": {},
     "output_type": "execute_result"
    }
   ],
   "source": [
    "df_data = sc.textFile(\"/users/trush/CSC496/Labs/Lab4/data/yelp_academic_dataset_user.json.gz\")\n",
    "print(df_data.count())\n",
    "df_data.take(1)"
   ]
  },
  {
   "cell_type": "markdown",
   "metadata": {},
   "source": [
    "#### Step 2:\n",
    "  - Get the information using SQL Statement"
   ]
  },
  {
   "cell_type": "code",
   "execution_count": 10,
   "metadata": {},
   "outputs": [
    {
     "name": "stdout",
     "output_type": "stream",
     "text": [
      "root\n",
      " |-- average_stars: double (nullable = true)\n",
      " |-- compliment_cool: long (nullable = true)\n",
      " |-- compliment_cute: long (nullable = true)\n",
      " |-- compliment_funny: long (nullable = true)\n",
      " |-- compliment_hot: long (nullable = true)\n",
      " |-- compliment_list: long (nullable = true)\n",
      " |-- compliment_more: long (nullable = true)\n",
      " |-- compliment_note: long (nullable = true)\n",
      " |-- compliment_photos: long (nullable = true)\n",
      " |-- compliment_plain: long (nullable = true)\n",
      " |-- compliment_profile: long (nullable = true)\n",
      " |-- compliment_writer: long (nullable = true)\n",
      " |-- cool: long (nullable = true)\n",
      " |-- elite: string (nullable = true)\n",
      " |-- fans: long (nullable = true)\n",
      " |-- friends: string (nullable = true)\n",
      " |-- funny: long (nullable = true)\n",
      " |-- name: string (nullable = true)\n",
      " |-- review_count: long (nullable = true)\n",
      " |-- useful: long (nullable = true)\n",
      " |-- user_id: string (nullable = true)\n",
      " |-- yelping_since: string (nullable = true)\n",
      "\n"
     ]
    }
   ],
   "source": [
    "df_json.printSchema()"
   ]
  },
  {
   "cell_type": "code",
   "execution_count": 11,
   "metadata": {},
   "outputs": [],
   "source": [
    "# 100 users with highest number of ratings/fans.\n",
    "highest_fan = sqlContext.sql(\"SELECT user_id, review_count, fans FROM tbl_json ORDER BY fans DESC LIMIT 100\")"
   ]
  },
  {
   "cell_type": "code",
   "execution_count": 12,
   "metadata": {},
   "outputs": [
    {
     "name": "stdout",
     "output_type": "stream",
     "text": [
      "+--------------------+------------+-----+\n",
      "|             user_id|review_count| fans|\n",
      "+--------------------+------------+-----+\n",
      "|37cpUoM8hlkSQfReI...|        1787|11568|\n",
      "|hizGc5W1tBHPghM5Y...|        1629| 3315|\n",
      "|eKUGKQRE-Ywi5dY55...|        2430| 2916|\n",
      "|Hi10sGSZNxQH3NLyW...|       11112| 2718|\n",
      "|j14WgRoU_-2ZE1aw1...|        3566| 2634|\n",
      "|iLjMdZi0Tm7DQxX1C...|        2431| 2516|\n",
      "|JjXuiru1_ONzDkYVr...|        1207| 2316|\n",
      "|ITa3vh5ERI90G_WP4...|        3079| 2280|\n",
      "|UsXqCXRZwSCSw0AT7...|        2919| 2263|\n",
      "|VHdY6oG2JPVNjihWh...|        1979| 2140|\n",
      "|fgwI3rYHOv1ipfVfC...|        1847| 2113|\n",
      "|nkN_do3fJ9xekchVC...|        1363| 2046|\n",
      "|m07sy7eLtOjVdZ8oN...|        4913| 2034|\n",
      "|peuxbSQwXed-81cSq...|        1592| 1916|\n",
      "|AHRrG3T1gJpHvtpZ-...|        2109| 1747|\n",
      "|WG3w_73scm_JUWJ_3...|        5013| 1733|\n",
      "|NfU0zDaTMEQ4-X9db...|        1137| 1726|\n",
      "|lt7bNHl-TXziny4FE...|         802| 1708|\n",
      "|3zxy3LVBV3ttxoYbY...|        1894| 1696|\n",
      "|ysCBsXWPB-LAiewVS...|        3687| 1672|\n",
      "+--------------------+------------+-----+\n",
      "only showing top 20 rows\n",
      "\n"
     ]
    }
   ],
   "source": [
    "highest_fan.show()"
   ]
  },
  {
   "cell_type": "markdown",
   "metadata": {},
   "source": [
    "  - Get the information using PySpark Statement"
   ]
  },
  {
   "cell_type": "code",
   "execution_count": 13,
   "metadata": {},
   "outputs": [
    {
     "data": {
      "text/plain": [
       "['{\"user_id\":\"ntlvfPzc8eglqvk92iDIAw\",\"name\":\"Rafael\",\"review_count\":553,\"yelping_since\":\"2007-07-06 03:27:11\",\"useful\":628,\"funny\":225,\"cool\":227,\"elite\":\"\",\"friends\":\"oeMvJh94PiGQnx_6GlndPQ, wm1z1PaJKvHgSDRKfwhfDg, IkRib6Xs91PPW7pon7VVig, A8Aq8f0-XvLBcyMk2GJdJQ, eEZM1kogR7eL4GOBZyPvBA, e1o1LN7ez5ckCpQeAab4iw, _HrJVzFaRFUhPva8cwBjpQ, pZeGZGzX-ROT_D5lam5uNg, 0S6EI51ej5J7dgYz3-O0lA, woDt8raW-AorxQM_tIE2eA, hWUnSE5gKXNe7bDc8uAG9A, c_3LDSO2RHwZ94_Q6j_O7w, -uv1wDiaplY6eXXS0VwQiA, QFjqxXn3acDC7hckFGUKMg, ErOqapICmHPTN8YobZIcfQ, mJLRvqLOKhqEdkgt9iEaCQ, VKX7jlScJSA-ja5hYRw12Q, ijIC9w5PRcj3dWVlanjZeg, CIZGlEw-Bp0rmkP8M6yQ9Q, OC6fT5WZ8EU7tEVJ3bzPBQ, UZSDGTDpycDzrlfUlyw2dQ, deL6e_z9xqZTIODKqnvRXQ, 5mG2ENw2PylIWElqHSMGqg, Uh5Kug2fvDd51RYmsNZkGg, 4dI4uoShugD9z84fYupelQ, EQpFHqGT9Tk6YSwORTtwpg, o4EGL2-ICGmRJzJ3GxB-vw, s8gK7sdVzJcYKcPv2dkZXw, vOYVZgb_GVe-kdtjQwSUHw, wBbjgHsrKr7BsPBrQwJf2w, p59u2EC_qcmCmLeX1jCi5Q, VSAZI1eHDrOPRWMK4Q2DIQ, efMfeI_dkhpeGykaRJqxfQ, x6qYcQ8_i0mMDzSLsFCbZg, K_zSmtNGw1fu-vmxyTVfCQ, 5IM6YPQCK-NABkXmHhlRGQ, U_w8ZMD26vnkeeS1sD7s4Q, AbfS_oXF8H6HJb5jFqhrLw, hbcjX4_D4KIfonNnwrH-cg, UKf66_MPz0zHCP70mF6p1g, hK2gYbxZRTqcqlSiQQcrtQ, 2Q45w_Twx_T9dXqlE16xtQ, BwRn8qcKSeA77HLaOTbfiQ, jouOn4VS_DtFPtMR2w8VDA, ESteyJabbfvqas6CEDs3pQ\",\"fans\":14,\"average_stars\":3.57,\"compliment_hot\":3,\"compliment_more\":2,\"compliment_profile\":1,\"compliment_cute\":0,\"compliment_list\":1,\"compliment_note\":11,\"compliment_plain\":15,\"compliment_cool\":22,\"compliment_funny\":22,\"compliment_writer\":10,\"compliment_photos\":0}']"
      ]
     },
     "execution_count": 13,
     "metadata": {},
     "output_type": "execute_result"
    }
   ],
   "source": [
    "df_data.take(1)"
   ]
  },
  {
   "cell_type": "code",
   "execution_count": 14,
   "metadata": {},
   "outputs": [
    {
     "data": {
      "text/plain": [
       "[('ntlvfPzc8eglqvk92iDIAw', 553, 14)]"
      ]
     },
     "execution_count": 14,
     "metadata": {},
     "output_type": "execute_result"
    }
   ],
   "source": [
    "import json\n",
    "\n",
    "df_top_users1 = df_data.map(lambda x: json.loads(x)).map(lambda x: (x[\"user_id\"], x[\"review_count\"], x[\"fans\"]))\n",
    "df_top_users1.take(1)"
   ]
  },
  {
   "cell_type": "code",
   "execution_count": 15,
   "metadata": {},
   "outputs": [
    {
     "data": {
      "text/plain": [
       "('ntlvfPzc8eglqvk92iDIAw', 553, 14)"
      ]
     },
     "execution_count": 15,
     "metadata": {},
     "output_type": "execute_result"
    }
   ],
   "source": [
    "def extract_user(x):\n",
    "    x_json = json.loads(x)\n",
    "    return (x_json[\"user_id\"], x_json[\"review_count\"], x_json[\"fans\"])\n",
    "\n",
    "tmp = df_data.take(1)\n",
    "extract_user(tmp[0])"
   ]
  },
  {
   "cell_type": "code",
   "execution_count": 16,
   "metadata": {
    "scrolled": true
   },
   "outputs": [
    {
     "data": {
      "text/plain": [
       "[('37cpUoM8hlkSQfReIEBd-Q', 1787, 11568),\n",
       " ('hizGc5W1tBHPghM5YKCAtg', 1629, 3315),\n",
       " ('eKUGKQRE-Ywi5dY55_zChg', 2430, 2916),\n",
       " ('Hi10sGSZNxQH3NLyWSZ1oA', 11112, 2718),\n",
       " ('j14WgRoU_-2ZE1aw1dXrJg', 3566, 2634),\n",
       " ('iLjMdZi0Tm7DQxX1C1_2dg', 2431, 2516),\n",
       " ('JjXuiru1_ONzDkYVrHN0aw', 1207, 2316),\n",
       " ('ITa3vh5ERI90G_WP4SmGUQ', 3079, 2280),\n",
       " ('UsXqCXRZwSCSw0AT7y1uBg', 2919, 2263),\n",
       " ('VHdY6oG2JPVNjihWhOooAQ', 1979, 2140),\n",
       " ('fgwI3rYHOv1ipfVfCSx7pg', 1847, 2113),\n",
       " ('nkN_do3fJ9xekchVC-v68A', 1363, 2046),\n",
       " ('m07sy7eLtOjVdZ8oN9JKag', 4913, 2034),\n",
       " ('peuxbSQwXed-81cSqL7Ykw', 1592, 1916),\n",
       " ('AHRrG3T1gJpHvtpZ-K0G_g', 2109, 1747),\n",
       " ('WG3w_73scm_JUWJ_3Lgn0Q', 5013, 1733),\n",
       " ('NfU0zDaTMEQ4-X9dbQWd9A', 1137, 1726),\n",
       " ('lt7bNHl-TXziny4FETu8nA', 802, 1708),\n",
       " ('3zxy3LVBV3ttxoYbY4rQ8A', 1894, 1696),\n",
       " ('ysCBsXWPB-LAiewVS3jZfQ', 3687, 1672),\n",
       " ('wEE-YMx5pmSuagLtNxMPKA', 1845, 1653),\n",
       " ('djxnI8Ux8ZYQJhiOQkrRhA', 2315, 1614),\n",
       " ('G9Vb6yQ047TC3O_-GG4WZA', 1540, 1574),\n",
       " ('JADdo9NEeO5Az9aOYbyvZA', 2382, 1464),\n",
       " ('58yXn5Y4409kc9q88YwU6w', 1538, 1411),\n",
       " ('AbMjnKOwg736fcIu8apuyQ', 2867, 1408),\n",
       " ('23J4vG9_xxxdnmi8CBX7Ng', 1667, 1379),\n",
       " ('B7ecAeAIrXg7sgmabS38pg', 2603, 1363),\n",
       " ('q_QQ5kBBwlCcbL1s4NVK3g', 1218, 1354),\n",
       " ('IU86PZPgTDCFwJEuAg2j7g', 2138, 1313),\n",
       " ('lZbotco47bHU7oE5b3d1DA', 642, 1307),\n",
       " ('cufhYFdyrUAt4SWe-m0grQ', 2380, 1282),\n",
       " ('8k3aO-mPeyhbR5HUucA5aA', 14455, 1271),\n",
       " ('QnIrewrXxFnssw_gG1gF-Q', 2768, 1244),\n",
       " ('IDVFG1pNSHIHoVuoLuZpcQ', 1502, 1233),\n",
       " ('zFYs8gSUYDvXkb6O7YkRkw', 894, 1216),\n",
       " ('3mNz5nQFTIBQm0oU5mBR0w', 2737, 1208),\n",
       " ('ET8n-r7glWYqZhuR6GcdNw', 2112, 1202),\n",
       " ('pnTiEaqM4slogpY97n9Kvg', 1167, 1189),\n",
       " ('o5STsEtfvD1Ig0J7Z-1uxA', 1932, 1174),\n",
       " ('gjhzKWsqCIrpEd9pevbKZw', 3179, 1173),\n",
       " ('mvK1pv-x0Z5rP4Hz9cWBWw', 1653, 1140),\n",
       " ('nxWrhF_hyX0wwjrEkQX8uQ', 1254, 1138),\n",
       " ('Ve0LUwcrzxL7w0RYgY4Aaw', 1987, 1110),\n",
       " ('5MCBLBxr10NLUKZ4AboAMg', 2773, 1100),\n",
       " ('W7DHyQlY_kXls2iXt-_2Ag', 2924, 1099),\n",
       " ('U4INQZOPSUaj8hMjLlZ3KA', 4631, 1090),\n",
       " ('6s-g2vFu12OemhiK3FJuOQ', 2368, 1073),\n",
       " ('_aSs5dSAabuwnXUGBPzASw', 392, 1065),\n",
       " ('oazuTtSyKV6zrhbsgbdbUQ', 657, 1056),\n",
       " ('yh8_9Ix1wp9dekvyOZbilQ', 2091, 1040),\n",
       " ('i_DR3vdE73nVm2GlMbGpGA', 951, 1033),\n",
       " ('GFyA9ULGAeD-xZEPto2y7A', 1305, 1028),\n",
       " ('ZIOCmdFaMIF56FR-nWr_2A', 2922, 1023),\n",
       " ('WwulXySQN8t2hwqH_yWurA', 839, 1018),\n",
       " ('w-w-k-QXosIKQ8HQVwU6IQ', 2740, 1014),\n",
       " ('I2XEhv9zBeAJcwYIrnMf1g', 1061, 1014),\n",
       " ('mgytZAasaiBf-END4aZD9w', 1622, 984),\n",
       " ('hcJzh-FFDEfYKGpyM0TpZA', 790, 982),\n",
       " ('aIJ-2R1q5G7oqzBSgK_Vvw', 1229, 979),\n",
       " ('dIIKEfOgo0KqUfGQvGikPg', 2061, 971),\n",
       " ('2qKOL7C7WbG_M3EOWvTFxA', 1325, 959),\n",
       " ('Pf7FI0OukC_CEcCz0ZxoUw', 2362, 952),\n",
       " ('WWnhqRnWWjutMqh-2SzEuQ', 3729, 940),\n",
       " ('om5ZiponkpRqUNa3pVPiRg', 2677, 924),\n",
       " ('f1MFQxTZAWJnRQdrouLg_A', 1513, 918),\n",
       " ('giJqvuH8EC62Hi5WboZ08w', 90, 917),\n",
       " ('To7EBxWC-Yz011V2-tdTvA', 572, 915),\n",
       " ('1vXJWH7L0IMEz5-8aU3SOA', 825, 914),\n",
       " ('rcU7ysY41qGppbw4pQgjqg', 1893, 913),\n",
       " ('9lU5zOPluc6Y8JZUL9nzsQ', 809, 912),\n",
       " ('1kpMAKRZuAz3OzxBav3XTg', 1197, 889),\n",
       " ('0G-QF457q_0Z_jKqh6xWiA', 1877, 860),\n",
       " ('bsMGQruRQGgQZK4KA9Q4Aw', 1626, 860),\n",
       " ('9HGR8sU_zm15sI109H-SGQ', 924, 859),\n",
       " ('jt49xjEjQisu6wTTGn6B3A', 1727, 857),\n",
       " ('vHc-UrI9yfL_pnnc6nJtyQ', 931, 857),\n",
       " ('l3S1srqK1CvjB_S4r-ZBeg', 1143, 849),\n",
       " ('nmdkHL2JKFx55T3nq5VziA', 7626, 842),\n",
       " ('pou3BbKsIozfH50rxmnMew', 2447, 836),\n",
       " ('CdeyZZ6ZGhvs7YCzVheeRg', 505, 834),\n",
       " ('qI3uzegMdq3q3WxAajECGw', 916, 831),\n",
       " ('NNL1zLTP2J_SOputgoPYeQ', 1642, 831),\n",
       " ('NRGJ4IvauajqqCbhT640cw', 1239, 830),\n",
       " ('SQXsow-nuLYYQnTcsIedIA', 546, 829),\n",
       " ('DS0Idr2XDhz5e7ZfSy0dYA', 1493, 826),\n",
       " ('idJ35gltZ90eFFCm2YvtXQ', 1197, 825),\n",
       " ('QiciohgD8N6vCty4vGL3pQ', 878, 824),\n",
       " ('MGPQVLsODMm9ZtYQW-g_OA', 1806, 823),\n",
       " ('4Y81J2Tdq5XAnkeYmCZ2ow', 1413, 818),\n",
       " ('--2vR0DIsmQ6WfcSzKWigw', 1498, 808),\n",
       " ('ACUVZ4SiN0gni7dzVDm9EQ', 2093, 805),\n",
       " ('RgDVC3ZUBqpEe6Y1kPhIpw', 1279, 802),\n",
       " ('lYp818T-xh8Ss79To5Azhw', 1523, 793),\n",
       " ('59GSwMflQFllOAWvw0F5mw', 694, 790),\n",
       " ('7IV3JXTXufasWNSkDEdrcQ', 734, 790),\n",
       " ('CxDOIDnH8gp9KXzpBHJYXw', 6633, 789),\n",
       " ('kPgNVSxXnhkyWBkqTcW45g', 910, 788),\n",
       " ('8DEyKVyplnOcSKx39vatbg', 836, 786),\n",
       " ('bLbSNkLggFnqwNNzzq-Ijw', 4627, 785)]"
      ]
     },
     "execution_count": 16,
     "metadata": {},
     "output_type": "execute_result"
    }
   ],
   "source": [
    "df_top_users2 = df_data.map(extract_user).takeOrdered(100, lambda x: -x[2])\n",
    "df_top_users2"
   ]
  },
  {
   "cell_type": "code",
   "execution_count": 17,
   "metadata": {},
   "outputs": [
    {
     "name": "stdout",
     "output_type": "stream",
     "text": [
      "+--------------------+------------+-----+\n",
      "|             user_id|review_count| fans|\n",
      "+--------------------+------------+-----+\n",
      "|37cpUoM8hlkSQfReI...|        1787|11568|\n",
      "|hizGc5W1tBHPghM5Y...|        1629| 3315|\n",
      "|eKUGKQRE-Ywi5dY55...|        2430| 2916|\n",
      "|Hi10sGSZNxQH3NLyW...|       11112| 2718|\n",
      "|j14WgRoU_-2ZE1aw1...|        3566| 2634|\n",
      "|iLjMdZi0Tm7DQxX1C...|        2431| 2516|\n",
      "|JjXuiru1_ONzDkYVr...|        1207| 2316|\n",
      "|ITa3vh5ERI90G_WP4...|        3079| 2280|\n",
      "|UsXqCXRZwSCSw0AT7...|        2919| 2263|\n",
      "|VHdY6oG2JPVNjihWh...|        1979| 2140|\n",
      "|fgwI3rYHOv1ipfVfC...|        1847| 2113|\n",
      "|nkN_do3fJ9xekchVC...|        1363| 2046|\n",
      "|m07sy7eLtOjVdZ8oN...|        4913| 2034|\n",
      "|peuxbSQwXed-81cSq...|        1592| 1916|\n",
      "|AHRrG3T1gJpHvtpZ-...|        2109| 1747|\n",
      "|WG3w_73scm_JUWJ_3...|        5013| 1733|\n",
      "|NfU0zDaTMEQ4-X9db...|        1137| 1726|\n",
      "|lt7bNHl-TXziny4FE...|         802| 1708|\n",
      "|3zxy3LVBV3ttxoYbY...|        1894| 1696|\n",
      "|ysCBsXWPB-LAiewVS...|        3687| 1672|\n",
      "+--------------------+------------+-----+\n",
      "only showing top 20 rows\n",
      "\n"
     ]
    }
   ],
   "source": [
    "highest_fan.show()"
   ]
  },
  {
   "cell_type": "markdown",
   "metadata": {},
   "source": [
    "### Extract the reviews of these users and combine it with the business information. \n",
    "\n",
    "\n",
    "- Are they continental, regional, or local eaters? \n",
    "    - Look at review data for business data, look at business data for location. \n",
    "    - A dataset exists, is posted on Discord. \n",
    "    - Second options: distance between furthest pair of restaurants, cluster into three. \n",
    "- Is there a preference in restaurant/food style of their reviews? \n",
    "    - How/Can we phrase this as a frequent items question?\n",
    "        - per user\n",
    "            - set of items: categories\n",
    "            - set of baskets: restaurants\n",
    "- Can you infer the locations of these users?\n",
    "    - pay attention to timing patterns of review"
   ]
  },
  {
   "cell_type": "markdown",
   "metadata": {},
   "source": [
    "#### How to prepare data to answer the questions?\n",
    "\n",
    "- List of users with highest fans (user_id, review_count, fans) - local \n",
    "- We need to map users to reviews"
   ]
  },
  {
   "cell_type": "code",
   "execution_count": 18,
   "metadata": {},
   "outputs": [],
   "source": [
    "# in the review.json, they have user_id, so we \n",
    "# conditional statement in the parsedJson .. \n",
    "#raw_review_df.filter(lambda x: json.loads(x)[\"user_id\"] in user_list)"
   ]
  },
  {
   "cell_type": "code",
   "execution_count": 19,
   "metadata": {},
   "outputs": [
    {
     "name": "stdout",
     "output_type": "stream",
     "text": [
      "8021122\n"
     ]
    },
    {
     "data": {
      "text/plain": [
       "['{\"review_id\":\"xQY8N_XvtGbearJ5X4QryQ\",\"user_id\":\"OwjRMXRC0KyPrIlcjaXeFQ\",\"business_id\":\"-MhfebM0QIsKt87iDN-FNw\",\"stars\":2.0,\"useful\":5,\"funny\":0,\"cool\":0,\"text\":\"As someone who has worked with many museums, I was eager to visit this gallery on my most recent trip to Las Vegas. When I saw they would be showing infamous eggs of the House of Faberge from the Virginia Museum of Fine Arts (VMFA), I knew I had to go!\\\\n\\\\nTucked away near the gelateria and the garden, the Gallery is pretty much hidden from view. It\\'s what real estate agents would call \\\\\"cozy\\\\\" or \\\\\"charming\\\\\" - basically any euphemism for small.\\\\n\\\\nThat being said, you can still see wonderful art at a gallery of any size, so why the two *s you ask? Let me tell you:\\\\n\\\\n* pricing for this, while relatively inexpensive for a Las Vegas attraction, is completely over the top. For the space and the amount of art you can fit in there, it is a bit much.\\\\n* it\\'s not kid friendly at all. Seriously, don\\'t bring them.\\\\n* the security is not trained properly for the show. When the curating and design teams collaborate for exhibitions, there is a definite flow. That means visitors should view the art in a certain sequence, whether it be by historical period or cultural significance (this is how audio guides are usually developed). When I arrived in the gallery I could not tell where to start, and security was certainly not helpful. I was told to \\\\\"just look around\\\\\" and \\\\\"do whatever.\\\\\" \\\\n\\\\nAt such a *fine* institution, I find the lack of knowledge and respect for the art appalling.\",\"date\":\"2015-04-15 05:21:16\"}']"
      ]
     },
     "execution_count": 19,
     "metadata": {},
     "output_type": "execute_result"
    }
   ],
   "source": [
    "raw_review_df = sc.textFile(\"/users/trush/CSC496/Labs/Lab4/data/yelp_academic_dataset_review.json.gz\")\n",
    "print(raw_review_df.count())\n",
    "raw_review_df.take(1)"
   ]
  },
  {
   "cell_type": "code",
   "execution_count": 28,
   "metadata": {},
   "outputs": [
    {
     "data": {
      "text/plain": [
       "False"
      ]
     },
     "execution_count": 28,
     "metadata": {},
     "output_type": "execute_result"
    }
   ],
   "source": [
    "review = raw_review_df.take(1)\n",
    "json.loads(review[0])[\"user_id\"] in df_top_users2"
   ]
  },
  {
   "cell_type": "code",
   "execution_count": 29,
   "metadata": {},
   "outputs": [
    {
     "data": {
      "text/plain": [
       "['OwjRMXRC0KyPrIlcjaXeFQ']"
      ]
     },
     "execution_count": 29,
     "metadata": {},
     "output_type": "execute_result"
    }
   ],
   "source": [
    "df_test = raw_review_df.map(lambda x: json.loads(x)[\"user_id\"])\n",
    "df_test.take(1)"
   ]
  },
  {
   "cell_type": "code",
   "execution_count": 30,
   "metadata": {
    "scrolled": true
   },
   "outputs": [
    {
     "data": {
      "text/plain": [
       "['37cpUoM8hlkSQfReIEBd-Q',\n",
       " 'hizGc5W1tBHPghM5YKCAtg',\n",
       " 'eKUGKQRE-Ywi5dY55_zChg',\n",
       " 'Hi10sGSZNxQH3NLyWSZ1oA',\n",
       " 'j14WgRoU_-2ZE1aw1dXrJg',\n",
       " 'iLjMdZi0Tm7DQxX1C1_2dg',\n",
       " 'JjXuiru1_ONzDkYVrHN0aw',\n",
       " 'ITa3vh5ERI90G_WP4SmGUQ',\n",
       " 'UsXqCXRZwSCSw0AT7y1uBg',\n",
       " 'VHdY6oG2JPVNjihWhOooAQ',\n",
       " 'fgwI3rYHOv1ipfVfCSx7pg',\n",
       " 'nkN_do3fJ9xekchVC-v68A',\n",
       " 'm07sy7eLtOjVdZ8oN9JKag',\n",
       " 'peuxbSQwXed-81cSqL7Ykw',\n",
       " 'AHRrG3T1gJpHvtpZ-K0G_g',\n",
       " 'WG3w_73scm_JUWJ_3Lgn0Q',\n",
       " 'NfU0zDaTMEQ4-X9dbQWd9A',\n",
       " 'lt7bNHl-TXziny4FETu8nA',\n",
       " '3zxy3LVBV3ttxoYbY4rQ8A',\n",
       " 'ysCBsXWPB-LAiewVS3jZfQ',\n",
       " 'wEE-YMx5pmSuagLtNxMPKA',\n",
       " 'djxnI8Ux8ZYQJhiOQkrRhA',\n",
       " 'G9Vb6yQ047TC3O_-GG4WZA',\n",
       " 'JADdo9NEeO5Az9aOYbyvZA',\n",
       " '58yXn5Y4409kc9q88YwU6w',\n",
       " 'AbMjnKOwg736fcIu8apuyQ',\n",
       " '23J4vG9_xxxdnmi8CBX7Ng',\n",
       " 'B7ecAeAIrXg7sgmabS38pg',\n",
       " 'q_QQ5kBBwlCcbL1s4NVK3g',\n",
       " 'IU86PZPgTDCFwJEuAg2j7g',\n",
       " 'lZbotco47bHU7oE5b3d1DA',\n",
       " 'cufhYFdyrUAt4SWe-m0grQ',\n",
       " '8k3aO-mPeyhbR5HUucA5aA',\n",
       " 'QnIrewrXxFnssw_gG1gF-Q',\n",
       " 'IDVFG1pNSHIHoVuoLuZpcQ',\n",
       " 'zFYs8gSUYDvXkb6O7YkRkw',\n",
       " '3mNz5nQFTIBQm0oU5mBR0w',\n",
       " 'ET8n-r7glWYqZhuR6GcdNw',\n",
       " 'pnTiEaqM4slogpY97n9Kvg',\n",
       " 'o5STsEtfvD1Ig0J7Z-1uxA',\n",
       " 'gjhzKWsqCIrpEd9pevbKZw',\n",
       " 'mvK1pv-x0Z5rP4Hz9cWBWw',\n",
       " 'nxWrhF_hyX0wwjrEkQX8uQ',\n",
       " 'Ve0LUwcrzxL7w0RYgY4Aaw',\n",
       " '5MCBLBxr10NLUKZ4AboAMg',\n",
       " 'W7DHyQlY_kXls2iXt-_2Ag',\n",
       " 'U4INQZOPSUaj8hMjLlZ3KA',\n",
       " '6s-g2vFu12OemhiK3FJuOQ',\n",
       " '_aSs5dSAabuwnXUGBPzASw',\n",
       " 'oazuTtSyKV6zrhbsgbdbUQ',\n",
       " 'yh8_9Ix1wp9dekvyOZbilQ',\n",
       " 'i_DR3vdE73nVm2GlMbGpGA',\n",
       " 'GFyA9ULGAeD-xZEPto2y7A',\n",
       " 'ZIOCmdFaMIF56FR-nWr_2A',\n",
       " 'WwulXySQN8t2hwqH_yWurA',\n",
       " 'w-w-k-QXosIKQ8HQVwU6IQ',\n",
       " 'I2XEhv9zBeAJcwYIrnMf1g',\n",
       " 'mgytZAasaiBf-END4aZD9w',\n",
       " 'hcJzh-FFDEfYKGpyM0TpZA',\n",
       " 'aIJ-2R1q5G7oqzBSgK_Vvw',\n",
       " 'dIIKEfOgo0KqUfGQvGikPg',\n",
       " '2qKOL7C7WbG_M3EOWvTFxA',\n",
       " 'Pf7FI0OukC_CEcCz0ZxoUw',\n",
       " 'WWnhqRnWWjutMqh-2SzEuQ',\n",
       " 'om5ZiponkpRqUNa3pVPiRg',\n",
       " 'f1MFQxTZAWJnRQdrouLg_A',\n",
       " 'giJqvuH8EC62Hi5WboZ08w',\n",
       " 'To7EBxWC-Yz011V2-tdTvA',\n",
       " '1vXJWH7L0IMEz5-8aU3SOA',\n",
       " 'rcU7ysY41qGppbw4pQgjqg',\n",
       " '9lU5zOPluc6Y8JZUL9nzsQ',\n",
       " '1kpMAKRZuAz3OzxBav3XTg',\n",
       " '0G-QF457q_0Z_jKqh6xWiA',\n",
       " 'bsMGQruRQGgQZK4KA9Q4Aw',\n",
       " '9HGR8sU_zm15sI109H-SGQ',\n",
       " 'jt49xjEjQisu6wTTGn6B3A',\n",
       " 'vHc-UrI9yfL_pnnc6nJtyQ',\n",
       " 'l3S1srqK1CvjB_S4r-ZBeg',\n",
       " 'nmdkHL2JKFx55T3nq5VziA',\n",
       " 'pou3BbKsIozfH50rxmnMew',\n",
       " 'CdeyZZ6ZGhvs7YCzVheeRg',\n",
       " 'qI3uzegMdq3q3WxAajECGw',\n",
       " 'NNL1zLTP2J_SOputgoPYeQ',\n",
       " 'NRGJ4IvauajqqCbhT640cw',\n",
       " 'SQXsow-nuLYYQnTcsIedIA',\n",
       " 'DS0Idr2XDhz5e7ZfSy0dYA',\n",
       " 'idJ35gltZ90eFFCm2YvtXQ',\n",
       " 'QiciohgD8N6vCty4vGL3pQ',\n",
       " 'MGPQVLsODMm9ZtYQW-g_OA',\n",
       " '4Y81J2Tdq5XAnkeYmCZ2ow',\n",
       " '--2vR0DIsmQ6WfcSzKWigw',\n",
       " 'ACUVZ4SiN0gni7dzVDm9EQ',\n",
       " 'RgDVC3ZUBqpEe6Y1kPhIpw',\n",
       " 'lYp818T-xh8Ss79To5Azhw',\n",
       " '59GSwMflQFllOAWvw0F5mw',\n",
       " '7IV3JXTXufasWNSkDEdrcQ',\n",
       " 'CxDOIDnH8gp9KXzpBHJYXw',\n",
       " 'kPgNVSxXnhkyWBkqTcW45g',\n",
       " '8DEyKVyplnOcSKx39vatbg',\n",
       " 'bLbSNkLggFnqwNNzzq-Ijw']"
      ]
     },
     "execution_count": 30,
     "metadata": {},
     "output_type": "execute_result"
    }
   ],
   "source": [
    "user_list = []\n",
    "for item in df_top_users2:\n",
    "    user_list.append(item[0])\n",
    "user_list"
   ]
  },
  {
   "cell_type": "code",
   "execution_count": 31,
   "metadata": {},
   "outputs": [
    {
     "data": {
      "text/plain": [
       "True"
      ]
     },
     "execution_count": 31,
     "metadata": {},
     "output_type": "execute_result"
    }
   ],
   "source": [
    "'JjXuiru1_ONzDkYVrHN0aw' in user_list"
   ]
  },
  {
   "cell_type": "code",
   "execution_count": 59,
   "metadata": {},
   "outputs": [
    {
     "name": "stdout",
     "output_type": "stream",
     "text": [
      "16937\n"
     ]
    },
    {
     "data": {
      "text/plain": [
       "['{\"review_id\":\"x_AWd7i9NVCCynAyvk99VQ\",\"user_id\":\"U4INQZOPSUaj8hMjLlZ3KA\",\"business_id\":\"pKOy7-pP-BdSVcCrtQo_ww\",\"stars\":5.0,\"useful\":3,\"funny\":0,\"cool\":1,\"text\":\"This is a review of Pliner\\'s approach and style (truly original, but certainly \\\\\"not for everyone,) this location, and especially their sales person - Milijana, or Mia as she introduced herself.  Making my purchase on 12\\\\/18 during their holiday sale I literally tried on 25 pairs of shoes before making my final selection - a half-lacquered pair of black suede shoes unlike anything I\\'ve previously seen.\\\\n\\\\nWhile the store did not have my size in stock, Mia brought me shoes made from the same mold and informed me that not only could the size I need (11) be mailed to my home, but it could be accomplished with no tax and free shipping since I lived in Ohio.\\\\n\\\\nIn retrospect I wish I\\'d have bought more pairs of shoes while I was there, but as it stands they\\'ve guaranteed I\\'ll return on my next Vegas visit.\",\"date\":\"2011-01-08 22:46:24\"}']"
      ]
     },
     "execution_count": 59,
     "metadata": {},
     "output_type": "execute_result"
    }
   ],
   "source": [
    "df_user_reviews = raw_review_df.filter(lambda x: json.loads(x)[\"user_id\"] in user_list)\n",
    "print(df_user_reviews.count())\n",
    "df_user_reviews.take(1)"
   ]
  },
  {
   "cell_type": "code",
   "execution_count": 34,
   "metadata": {},
   "outputs": [
    {
     "data": {
      "text/plain": [
       "214382"
      ]
     },
     "execution_count": 34,
     "metadata": {},
     "output_type": "execute_result"
    }
   ],
   "source": [
    "sum = 0\n",
    "for item in df_top_users2:\n",
    "    sum = sum + int(item[1])\n",
    "sum"
   ]
  },
  {
   "cell_type": "markdown",
   "metadata": {},
   "source": [
    "### Identify one of your favorite restaurants that is available on Yelp. Search for all reviews and reviewers for this restaurants. \n",
    "\n",
    "- Is this restaurant frequented by non-local reviewers (how do you know)?\n",
    "- What are the positive things about this restaurant (study higher-rated reviews)\n",
    "- What are the negative things about this restaurant (study lower-rated reviews)"
   ]
  },
  {
   "cell_type": "code",
   "execution_count": 35,
   "metadata": {},
   "outputs": [
    {
     "name": "stdout",
     "output_type": "stream",
     "text": [
      "209393\n"
     ]
    },
    {
     "data": {
      "text/plain": [
       "['{\"business_id\":\"f9NumwFMBDn751xgFiRbNA\",\"name\":\"The Range At Lake Norman\",\"address\":\"10913 Bailey Rd\",\"city\":\"Cornelius\",\"state\":\"NC\",\"postal_code\":\"28031\",\"latitude\":35.4627242,\"longitude\":-80.8526119,\"stars\":3.5,\"review_count\":36,\"is_open\":1,\"attributes\":{\"BusinessAcceptsCreditCards\":\"True\",\"BikeParking\":\"True\",\"GoodForKids\":\"False\",\"BusinessParking\":\"{\\'garage\\': False, \\'street\\': False, \\'validated\\': False, \\'lot\\': True, \\'valet\\': False}\",\"ByAppointmentOnly\":\"False\",\"RestaurantsPriceRange2\":\"3\"},\"categories\":\"Active Life, Gun\\\\/Rifle Ranges, Guns & Ammo, Shopping\",\"hours\":{\"Monday\":\"10:0-18:0\",\"Tuesday\":\"11:0-20:0\",\"Wednesday\":\"10:0-18:0\",\"Thursday\":\"11:0-20:0\",\"Friday\":\"11:0-20:0\",\"Saturday\":\"11:0-20:0\",\"Sunday\":\"13:0-18:0\"}}']"
      ]
     },
     "execution_count": 35,
     "metadata": {},
     "output_type": "execute_result"
    }
   ],
   "source": [
    "raw_business_df = sc.textFile(\"/users/trush/CSC496/Labs/Lab4/data/yelp_academic_dataset_business.json.gz\")\n",
    "print(raw_business_df.count())\n",
    "raw_business_df.take(1)"
   ]
  },
  {
   "cell_type": "code",
   "execution_count": 36,
   "metadata": {},
   "outputs": [
    {
     "data": {
      "text/plain": [
       "16937"
      ]
     },
     "execution_count": 36,
     "metadata": {},
     "output_type": "execute_result"
    }
   ],
   "source": [
    "df_business = df_user_reviews.map(lambda x: json.loads(x)[\"business_id\"])\n",
    "df_business.count()"
   ]
  },
  {
   "cell_type": "code",
   "execution_count": 37,
   "metadata": {},
   "outputs": [
    {
     "data": {
      "text/plain": [
       "11863"
      ]
     },
     "execution_count": 37,
     "metadata": {},
     "output_type": "execute_result"
    }
   ],
   "source": [
    "df_business.distinct().count()"
   ]
  },
  {
   "cell_type": "code",
   "execution_count": 38,
   "metadata": {},
   "outputs": [
    {
     "data": {
      "text/plain": [
       "['pKOy7-pP-BdSVcCrtQo_ww', 'w9pwbsusI9DI637UYqMctQ']"
      ]
     },
     "execution_count": 38,
     "metadata": {},
     "output_type": "execute_result"
    }
   ],
   "source": [
    "df_business.take(2)"
   ]
  },
  {
   "cell_type": "code",
   "execution_count": 39,
   "metadata": {},
   "outputs": [],
   "source": [
    "df_unique_business = df_business.distinct().collect()"
   ]
  },
  {
   "cell_type": "code",
   "execution_count": 40,
   "metadata": {},
   "outputs": [],
   "source": [
    "#df_user_reviews = raw_review_df.filter(lambda x: json.loads(x)[\"user_id\"] in user_list)\n",
    "#print(df_user_reviews.count())\n",
    "#df_user_reviews.take(1)"
   ]
  },
  {
   "cell_type": "code",
   "execution_count": 41,
   "metadata": {},
   "outputs": [
    {
     "data": {
      "text/plain": [
       "['pKOy7-pP-BdSVcCrtQo_ww',\n",
       " 'w9pwbsusI9DI637UYqMctQ',\n",
       " 'tDYcVluqZwieulc1iqxGXg',\n",
       " 'ZI8Aa41WiFj1XYJRUC54ug',\n",
       " 'eva56motCJcevOwKzyQO1g',\n",
       " '5nZVVPO_cYH9aQeClTP9zA',\n",
       " 'kICgNgVRkIh4doz0atyMMA',\n",
       " 'T8jY7FB0JEK62CwOeXBa9w',\n",
       " 'FaCxpKgHPgUO9vqyOny5CA',\n",
       " 'lpel3pRFAzlow7u2TJMz4Q']"
      ]
     },
     "execution_count": 41,
     "metadata": {},
     "output_type": "execute_result"
    }
   ],
   "source": [
    "df_unique_business[:10]"
   ]
  },
  {
   "cell_type": "code",
   "execution_count": 42,
   "metadata": {},
   "outputs": [],
   "source": [
    "# option 1:\n",
    "df_user_businesses = raw_business_df.filter(lambda x: json.loads(x)[\"business_id\"] in df_unique_business)"
   ]
  },
  {
   "cell_type": "code",
   "execution_count": 43,
   "metadata": {},
   "outputs": [
    {
     "name": "stdout",
     "output_type": "stream",
     "text": [
      "11863\n"
     ]
    },
    {
     "data": {
      "text/plain": [
       "['{\"business_id\":\"uZuh51lXu7tsrC8RAwkg1A\",\"name\":\"Manolo Blahnik\",\"address\":\"3131 Las Vegas Blvd\",\"city\":\"Las Vegas\",\"state\":\"NV\",\"postal_code\":\"89109\",\"latitude\":36.1257322229,\"longitude\":-115.1676084101,\"stars\":4.5,\"review_count\":32,\"is_open\":0,\"attributes\":{\"BusinessParking\":\"{\\'garage\\': True, \\'street\\': False, \\'validated\\': False, \\'lot\\': False, \\'valet\\': False}\",\"BusinessAcceptsCreditCards\":\"True\",\"BikeParking\":\"True\",\"RestaurantsPriceRange2\":\"4\"},\"categories\":\"Shopping, Shoe Stores, Fashion\",\"hours\":null}']"
      ]
     },
     "execution_count": 43,
     "metadata": {},
     "output_type": "execute_result"
    }
   ],
   "source": [
    "print(df_user_businesses.count())\n",
    "df_user_businesses.take(1)"
   ]
  },
  {
   "cell_type": "code",
   "execution_count": 44,
   "metadata": {},
   "outputs": [],
   "source": [
    "def extract_latlong(x):\n",
    "    ref = json.loads(x)\n",
    "    return (ref[\"business_id\"], ref[\"lat\"], ref[\"long\"])"
   ]
  },
  {
   "cell_type": "code",
   "execution_count": 45,
   "metadata": {},
   "outputs": [
    {
     "name": "stdout",
     "output_type": "stream",
     "text": [
      "11863\n"
     ]
    },
    {
     "data": {
      "text/plain": [
       "[('uZuh51lXu7tsrC8RAwkg1A', 36.1257322229, -115.1676084101),\n",
       " ('03x6ZlJ7s39DHqfTJU1Ecg', 41.461448, -81.470127)]"
      ]
     },
     "execution_count": 45,
     "metadata": {},
     "output_type": "execute_result"
    }
   ],
   "source": [
    "df_latlong = df_user_businesses.map(lambda x: (json.loads(x)[\"business_id\"],json.loads(x)[\"latitude\"],json.loads(x)[\"longitude\"]))\n",
    "print(df_latlong.count())\n",
    "df_latlong.take(2)"
   ]
  },
  {
   "cell_type": "markdown",
   "metadata": {},
   "source": [
    "On Spark cluster:\n",
    "- user_id, reviews, fans: 100 data items\n",
    "- review_id, user_id, business_id,...: 16937 items\n",
    "- business_id, lat, long: 11863 items\n",
    "\n",
    "How to bring them all together?\n",
    "1. Convert everything to SparkSQL, do SQL things\n",
    "2. Filter data down to smaller items, bring them all back to the notebook, do Python things"
   ]
  },
  {
   "cell_type": "code",
   "execution_count": 60,
   "metadata": {},
   "outputs": [
    {
     "name": "stdout",
     "output_type": "stream",
     "text": [
      "[('ntlvfPzc8eglqvk92iDIAw', 553, 14)]\n",
      "\n",
      "['{\"review_id\":\"x_AWd7i9NVCCynAyvk99VQ\",\"user_id\":\"U4INQZOPSUaj8hMjLlZ3KA\",\"business_id\":\"pKOy7-pP-BdSVcCrtQo_ww\",\"stars\":5.0,\"useful\":3,\"funny\":0,\"cool\":1,\"text\":\"This is a review of Pliner\\'s approach and style (truly original, but certainly \\\\\"not for everyone,) this location, and especially their sales person - Milijana, or Mia as she introduced herself.  Making my purchase on 12\\\\/18 during their holiday sale I literally tried on 25 pairs of shoes before making my final selection - a half-lacquered pair of black suede shoes unlike anything I\\'ve previously seen.\\\\n\\\\nWhile the store did not have my size in stock, Mia brought me shoes made from the same mold and informed me that not only could the size I need (11) be mailed to my home, but it could be accomplished with no tax and free shipping since I lived in Ohio.\\\\n\\\\nIn retrospect I wish I\\'d have bought more pairs of shoes while I was there, but as it stands they\\'ve guaranteed I\\'ll return on my next Vegas visit.\",\"date\":\"2011-01-08 22:46:24\"}']\n",
      "\n",
      "[('uZuh51lXu7tsrC8RAwkg1A', 36.1257322229, -115.1676084101)]\n"
     ]
    }
   ],
   "source": [
    "print(df_top_users1.take(1))\n",
    "print()\n",
    "print(df_user_reviews.take(1))\n",
    "print()\n",
    "print(df_latlong.take(1))"
   ]
  },
  {
   "cell_type": "markdown",
   "metadata": {},
   "source": [
    "__(user, [(review_id: business_id, lat, long)])__"
   ]
  },
  {
   "cell_type": "markdown",
   "metadata": {},
   "source": [
    "## Save data and checkpoint"
   ]
  },
  {
   "cell_type": "code",
   "execution_count": 76,
   "metadata": {},
   "outputs": [],
   "source": [
    "#df_latlong.write.csv('/users/trush/CSC496/Labs/Lab4/data/df_latlong.csv')"
   ]
  },
  {
   "cell_type": "code",
   "execution_count": 75,
   "metadata": {},
   "outputs": [],
   "source": [
    "df_latlong.saveAsTextFile('/users/trush/CSC496/Labs/Lab4/data/df_latlong')"
   ]
  },
  {
   "cell_type": "code",
   "execution_count": 83,
   "metadata": {},
   "outputs": [],
   "source": [
    "df_top_users1.saveAsTextFile('/users/trush/CSC496/Labs/Lab4/data/df_top_users')"
   ]
  },
  {
   "cell_type": "code",
   "execution_count": 84,
   "metadata": {},
   "outputs": [],
   "source": [
    "df_user_reviews.saveAsTextFile('/users/trush/CSC496/Labs/Lab4/data/df_user_reviews')"
   ]
  },
  {
   "cell_type": "code",
   "execution_count": 89,
   "metadata": {},
   "outputs": [],
   "source": [
    "df1 = df_user_reviews.map(lambda x: (json.loads(x)[\"user_id\"], json.loads(x)[\"business_id\"],))"
   ]
  },
  {
   "cell_type": "code",
   "execution_count": 91,
   "metadata": {},
   "outputs": [
    {
     "data": {
      "text/plain": [
       "[('U4INQZOPSUaj8hMjLlZ3KA', 'pKOy7-pP-BdSVcCrtQo_ww'),\n",
       " ('CxDOIDnH8gp9KXzpBHJYXw', 'w9pwbsusI9DI637UYqMctQ'),\n",
       " ('dIIKEfOgo0KqUfGQvGikPg', 'tDYcVluqZwieulc1iqxGXg'),\n",
       " ('CxDOIDnH8gp9KXzpBHJYXw', 'ZI8Aa41WiFj1XYJRUC54ug'),\n",
       " ('NNL1zLTP2J_SOputgoPYeQ', 'eva56motCJcevOwKzyQO1g'),\n",
       " ('dIIKEfOgo0KqUfGQvGikPg', '5nZVVPO_cYH9aQeClTP9zA'),\n",
       " ('peuxbSQwXed-81cSqL7Ykw', 'kICgNgVRkIh4doz0atyMMA'),\n",
       " ('U4INQZOPSUaj8hMjLlZ3KA', 'T8jY7FB0JEK62CwOeXBa9w'),\n",
       " ('CxDOIDnH8gp9KXzpBHJYXw', 'FaCxpKgHPgUO9vqyOny5CA'),\n",
       " ('NfU0zDaTMEQ4-X9dbQWd9A', 'lpel3pRFAzlow7u2TJMz4Q')]"
      ]
     },
     "execution_count": 91,
     "metadata": {},
     "output_type": "execute_result"
    }
   ],
   "source": [
    "df1.take(10)"
   ]
  },
  {
   "cell_type": "code",
   "execution_count": 96,
   "metadata": {},
   "outputs": [],
   "source": [
    "df2 = df1.groupByKey().mapValues(list)"
   ]
  },
  {
   "cell_type": "code",
   "execution_count": null,
   "metadata": {},
   "outputs": [],
   "source": [
    "df2.take(10)"
   ]
  },
  {
   "cell_type": "markdown",
   "metadata": {},
   "source": [
    "1. filter df_user_reviews to only include the user_ids in df_top_users\n",
    "2. map with user_id and list of business ids\n",
    "3. map with user_id and list of lat, long"
   ]
  },
  {
   "cell_type": "code",
   "execution_count": null,
   "metadata": {},
   "outputs": [],
   "source": []
  }
 ],
 "metadata": {
  "kernelspec": {
   "display_name": "Python 3",
   "language": "python",
   "name": "python3"
  },
  "language_info": {
   "codemirror_mode": {
    "name": "ipython",
    "version": 3
   },
   "file_extension": ".py",
   "mimetype": "text/x-python",
   "name": "python",
   "nbconvert_exporter": "python",
   "pygments_lexer": "ipython3",
   "version": "3.6.9"
  }
 },
 "nbformat": 4,
 "nbformat_minor": 4
}
