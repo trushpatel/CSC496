{
 "cells": [
  {
   "cell_type": "code",
   "execution_count": 1,
   "id": "8620247d",
   "metadata": {},
   "outputs": [],
   "source": [
    "import os\n",
    "import sys\n",
    "spark_path = os.environ['SPARK_HOME']\n",
    "sys.path.append(spark_path + \"/bin\")\n",
    "sys.path.append(spark_path + \"/python\")\n",
    "sys.path.append(spark_path + \"/python/pyspark/\")\n",
    "sys.path.append(spark_path + \"/python/lib\")\n",
    "sys.path.append(spark_path + \"/python/lib/pyspark.zip\")\n",
    "sys.path.append(spark_path + \"/python/lib/py4j-0.10.9-src.zip\")\n",
    "\n",
    "import findspark\n",
    "findspark.init()\n",
    "import pyspark"
   ]
  },
  {
   "cell_type": "code",
   "execution_count": 2,
   "id": "2b698fdc",
   "metadata": {},
   "outputs": [],
   "source": [
    "number_cores = 6\n",
    "memory_gb = 16\n",
    "conf = (pyspark.SparkConf().setMaster('local[{}]'.format(number_cores)).set('spark.driver.memory', '{}g'.format(memory_gb)))\n",
    "sc = pyspark.SparkContext(conf=conf)"
   ]
  },
  {
   "cell_type": "code",
   "execution_count": 3,
   "id": "f65aa306",
   "metadata": {},
   "outputs": [],
   "source": [
    "textFile = sc.textFile(\"/users/trush/CSC496/SparkComputingEnvironment/data/shakespeare/shakespeare-complete.txt\")\n",
    "wordcount = textFile.flatMap(lambda line: line.split(\" \")) \\\n",
    "            .map(lambda word: (word, 1)) \\\n",
    "            .reduceByKey(lambda a, b: a + b)\n",
    "wordcount.saveAsTextFile(\"/users/trush/CSC496/SparkComputingEnvironment/data/output/output-wordcount-01\")"
   ]
  },
  {
   "cell_type": "code",
   "execution_count": 4,
   "id": "a13d9fed",
   "metadata": {},
   "outputs": [
    {
     "data": {
      "text/plain": [
       "2"
      ]
     },
     "execution_count": 4,
     "metadata": {},
     "output_type": "execute_result"
    }
   ],
   "source": [
    "textFile.getNumPartitions()"
   ]
  },
  {
   "cell_type": "code",
   "execution_count": 5,
   "id": "361a5117",
   "metadata": {},
   "outputs": [
    {
     "data": {
      "text/plain": [
       "4"
      ]
     },
     "execution_count": 5,
     "metadata": {},
     "output_type": "execute_result"
    }
   ],
   "source": [
    "textFile_4 = textFile.repartition(4)\n",
    "textFile_4.getNumPartitions()"
   ]
  },
  {
   "cell_type": "code",
   "execution_count": 6,
   "id": "4ef95dd9",
   "metadata": {},
   "outputs": [],
   "source": [
    "wordcount = textFile_4.flatMap(lambda line: line.split(\" \")) \\\n",
    "            .map(lambda word: (word, 1)) \\\n",
    "            .reduceByKey(lambda a, b: a + b)\n",
    "wordcount.saveAsTextFile(\"/users/trush/CSC496/SparkComputingEnvironment/data/output/out-wordcount-02\")"
   ]
  },
  {
   "cell_type": "code",
   "execution_count": 7,
   "id": "3f230458",
   "metadata": {},
   "outputs": [
    {
     "name": "stdout",
     "output_type": "stream",
     "text": [
      "PythonRDD[25] at RDD at PythonRDD.scala:53\n"
     ]
    }
   ],
   "source": [
    "wordcount = textFile_4.flatMap(lambda line: line.split(\" \")) \\\n",
    "            .map(lambda word: (word, 1)) \\\n",
    "            .reduceByKey(lambda a, b: a + b)\n",
    "print(wordcount)"
   ]
  },
  {
   "cell_type": "code",
   "execution_count": 8,
   "id": "9bb39e09",
   "metadata": {},
   "outputs": [
    {
     "data": {
      "text/plain": [
       "[('of', 16819),\n",
       " ('Shakespeare', 5),\n",
       " ('', 264326),\n",
       " ('Author:', 1),\n",
       " ('Date:', 1),\n",
       " ('[eBook', 1),\n",
       " ('16,', 1),\n",
       " ('Language:', 1),\n",
       " ('Character', 2),\n",
       " ('set', 423)]"
      ]
     },
     "execution_count": 8,
     "metadata": {},
     "output_type": "execute_result"
    }
   ],
   "source": [
    "wordcount.take(10)"
   ]
  },
  {
   "cell_type": "code",
   "execution_count": 9,
   "id": "dd984048",
   "metadata": {},
   "outputs": [
    {
     "name": "stdout",
     "output_type": "stream",
     "text": [
      "[('Shakespeare', 5), ('', 264326), ('Author:', 1), ('Date:', 1), ('[eBook', 1), ('16,', 1), ('Language:', 1), ('Character', 2), ('set', 423)]\n"
     ]
    }
   ],
   "source": [
    "local_words = wordcount.collect()\n",
    "print(local_words[1:10])"
   ]
  },
  {
   "cell_type": "code",
   "execution_count": 10,
   "id": "f38aa44b",
   "metadata": {},
   "outputs": [
    {
     "data": {
      "text/plain": [
       "['Title: The Complete Works of William Shakespeare',\n",
       " '',\n",
       " 'Author: William Shakespeare',\n",
       " '',\n",
       " 'Release Date: January 1994 [eBook #100]',\n",
       " '[Most recently updated: August 16, 2021]',\n",
       " '',\n",
       " 'Language: English',\n",
       " '',\n",
       " 'Character set encoding: UTF-8']"
      ]
     },
     "execution_count": 10,
     "metadata": {},
     "output_type": "execute_result"
    }
   ],
   "source": [
    "textFile_4.take(10)"
   ]
  },
  {
   "cell_type": "code",
   "execution_count": 11,
   "id": "d8286dd5",
   "metadata": {},
   "outputs": [
    {
     "data": {
      "text/plain": [
       "['Title:',\n",
       " 'The',\n",
       " 'Complete',\n",
       " 'Works',\n",
       " 'of',\n",
       " 'William',\n",
       " 'Shakespeare',\n",
       " '',\n",
       " 'Author:',\n",
       " 'William']"
      ]
     },
     "execution_count": 11,
     "metadata": {},
     "output_type": "execute_result"
    }
   ],
   "source": [
    "wordcount_1 = textFile_4.flatMap(lambda line: line.split(\" \"))\n",
    "wordcount_1.take(10)"
   ]
  },
  {
   "cell_type": "code",
   "execution_count": 12,
   "id": "70823985",
   "metadata": {},
   "outputs": [
    {
     "data": {
      "text/plain": [
       "[('Title:', 1),\n",
       " ('The', 1),\n",
       " ('Complete', 1),\n",
       " ('Works', 1),\n",
       " ('of', 1),\n",
       " ('William', 1),\n",
       " ('Shakespeare', 1),\n",
       " ('', 1),\n",
       " ('Author:', 1),\n",
       " ('William', 1)]"
      ]
     },
     "execution_count": 12,
     "metadata": {},
     "output_type": "execute_result"
    }
   ],
   "source": [
    "wordcount_2 = wordcount_1.map(lambda word: (word, 1))\n",
    "wordcount_2.take(10)"
   ]
  },
  {
   "cell_type": "code",
   "execution_count": 13,
   "id": "bedce2ff",
   "metadata": {},
   "outputs": [
    {
     "data": {
      "text/plain": [
       "[('of', 16819),\n",
       " ('Shakespeare', 5),\n",
       " ('', 264326),\n",
       " ('Author:', 1),\n",
       " ('Date:', 1),\n",
       " ('[eBook', 1),\n",
       " ('16,', 1),\n",
       " ('Language:', 1),\n",
       " ('Character', 2),\n",
       " ('set', 423)]"
      ]
     },
     "execution_count": 13,
     "metadata": {},
     "output_type": "execute_result"
    }
   ],
   "source": [
    "wordcount_3 = wordcount_2.reduceByKey(lambda a, b: a + b)\n",
    "wordcount_3.take(10)"
   ]
  },
  {
   "cell_type": "code",
   "execution_count": 14,
   "id": "0eb52ee3",
   "metadata": {},
   "outputs": [
    {
     "data": {
      "text/plain": [
       "[('project', 100),\n",
       " ('gutenberg', 31),\n",
       " ('ebook', 13),\n",
       " ('of', 18804),\n",
       " ('shakespeare', 10),\n",
       " ('', 264489),\n",
       " ('this', 7145),\n",
       " ('is', 9690),\n",
       " ('use', 360),\n",
       " ('anyone', 12),\n",
       " ('anywhere', 8),\n",
       " ('in', 12241),\n",
       " ('united', 20),\n",
       " ('other', 725),\n",
       " ('world', 674),\n",
       " ('at', 2738),\n",
       " ('no', 4051),\n",
       " ('restrictions', 2),\n",
       " ('whatsoever', 17),\n",
       " ('may', 1803),\n",
       " ('give', 1414),\n",
       " ('away', 907),\n",
       " ('reuse', 2),\n",
       " ('online', 4),\n",
       " ('are', 3720),\n",
       " ('have', 6262),\n",
       " ('check', 32),\n",
       " ('country', 163),\n",
       " ('where', 1362),\n",
       " ('before', 946),\n",
       " ('using', 14),\n",
       " ('title', 98),\n",
       " ('january', 3),\n",
       " ('1994', 1),\n",
       " ('100', 3),\n",
       " ('16', 3),\n",
       " ('language', 44),\n",
       " ('set', 509),\n",
       " ('encoding', 1),\n",
       " ('start', 39),\n",
       " ('contents', 49),\n",
       " ('ends', 55),\n",
       " ('tragedy', 25),\n",
       " ('cleopatra', 266),\n",
       " ('as', 6170),\n",
       " ('like', 1930),\n",
       " ('comedy', 12),\n",
       " ('errors', 15),\n",
       " ('prince', 773),\n",
       " ('denmark', 26),\n",
       " ('king', 2952),\n",
       " ('henry', 629),\n",
       " ('fourth', 54),\n",
       " ('sixth', 36),\n",
       " ('third', 262),\n",
       " ('john', 531),\n",
       " ('julius', 19),\n",
       " ('caesar', 507),\n",
       " ('love’s', 77),\n",
       " ('lost', 284),\n",
       " ('macbeth', 282),\n",
       " ('measure', 99),\n",
       " ('merchant', 62),\n",
       " ('merry', 178),\n",
       " ('wives', 61),\n",
       " ('midsummer', 5),\n",
       " ('dream', 125),\n",
       " ('ado', 20),\n",
       " ('othello', 324),\n",
       " ('moor', 84),\n",
       " ('pericles', 185),\n",
       " ('tyre', 35),\n",
       " ('juliet', 196),\n",
       " ('andronicus', 60),\n",
       " ('troilus', 244),\n",
       " ('cressida', 180),\n",
       " ('twelfth', 3),\n",
       " ('night', 709),\n",
       " ('two', 755),\n",
       " ('gentlemen', 225),\n",
       " ('verona', 33),\n",
       " ('noble', 667),\n",
       " ('winter’s', 15),\n",
       " ('passionate', 11),\n",
       " ('rape', 19),\n",
       " ('lucrece', 44),\n",
       " ('1', 72),\n",
       " ('fairest', 46),\n",
       " ('creatures', 46),\n",
       " ('we', 3544),\n",
       " ('increase', 32),\n",
       " ('thereby', 27),\n",
       " ('beauty’s', 25),\n",
       " ('rose', 80),\n",
       " ('never', 1131),\n",
       " ('die', 516),\n",
       " ('but', 6733),\n",
       " ('riper', 3),\n",
       " ('his', 7575),\n",
       " ('tender', 156)]"
      ]
     },
     "execution_count": 14,
     "metadata": {},
     "output_type": "execute_result"
    }
   ],
   "source": [
    "import string\n",
    "translator = str.maketrans('', '', string.punctuation)\n",
    "wordcount_enhanced = textFile.flatMap(lambda line: line.split(\" \")) \\\n",
    "           .map(lambda word: (word.translate(translator).lower(), 1)) \\\n",
    "           .reduceByKey(lambda a, b: a + b)\n",
    "wordcount_enhanced.take(100)"
   ]
  },
  {
   "cell_type": "code",
   "execution_count": 15,
   "id": "d8ba5b72",
   "metadata": {},
   "outputs": [
    {
     "data": {
      "text/plain": [
       "[('project', 100),\n",
       " ('gutenberg', 31),\n",
       " ('ebook', 13),\n",
       " ('of', 18804),\n",
       " ('shakespeare', 10),\n",
       " ('this', 7145),\n",
       " ('is', 9690),\n",
       " ('use', 360),\n",
       " ('anyone', 12),\n",
       " ('anywhere', 8),\n",
       " ('in', 12241),\n",
       " ('united', 20),\n",
       " ('other', 725),\n",
       " ('world', 674),\n",
       " ('at', 2738),\n",
       " ('no', 4051),\n",
       " ('restrictions', 2),\n",
       " ('whatsoever', 17),\n",
       " ('may', 1803),\n",
       " ('give', 1414),\n",
       " ('away', 907),\n",
       " ('reuse', 2),\n",
       " ('online', 4),\n",
       " ('are', 3720),\n",
       " ('have', 6262),\n",
       " ('check', 32),\n",
       " ('country', 163),\n",
       " ('where', 1362),\n",
       " ('before', 946),\n",
       " ('using', 14),\n",
       " ('title', 98),\n",
       " ('january', 3),\n",
       " ('1994', 1),\n",
       " ('100', 3),\n",
       " ('16', 3),\n",
       " ('language', 44),\n",
       " ('set', 509),\n",
       " ('encoding', 1),\n",
       " ('start', 39),\n",
       " ('contents', 49),\n",
       " ('ends', 55),\n",
       " ('tragedy', 25),\n",
       " ('cleopatra', 266),\n",
       " ('as', 6170),\n",
       " ('like', 1930),\n",
       " ('comedy', 12),\n",
       " ('errors', 15),\n",
       " ('prince', 773),\n",
       " ('denmark', 26),\n",
       " ('king', 2952),\n",
       " ('henry', 629),\n",
       " ('fourth', 54),\n",
       " ('sixth', 36),\n",
       " ('third', 262),\n",
       " ('john', 531),\n",
       " ('julius', 19),\n",
       " ('caesar', 507),\n",
       " ('love’s', 77),\n",
       " ('lost', 284),\n",
       " ('macbeth', 282),\n",
       " ('measure', 99),\n",
       " ('merchant', 62),\n",
       " ('merry', 178),\n",
       " ('wives', 61),\n",
       " ('midsummer', 5),\n",
       " ('dream', 125),\n",
       " ('ado', 20),\n",
       " ('othello', 324),\n",
       " ('moor', 84),\n",
       " ('pericles', 185),\n",
       " ('tyre', 35),\n",
       " ('juliet', 196),\n",
       " ('andronicus', 60),\n",
       " ('troilus', 244),\n",
       " ('cressida', 180),\n",
       " ('twelfth', 3),\n",
       " ('night', 709),\n",
       " ('two', 755),\n",
       " ('gentlemen', 225),\n",
       " ('verona', 33),\n",
       " ('noble', 667),\n",
       " ('winter’s', 15),\n",
       " ('passionate', 11),\n",
       " ('rape', 19),\n",
       " ('lucrece', 44),\n",
       " ('1', 72),\n",
       " ('fairest', 46),\n",
       " ('creatures', 46),\n",
       " ('we', 3544),\n",
       " ('increase', 32),\n",
       " ('thereby', 27),\n",
       " ('beauty’s', 25),\n",
       " ('rose', 80),\n",
       " ('never', 1131),\n",
       " ('die', 516),\n",
       " ('but', 6733),\n",
       " ('riper', 3),\n",
       " ('his', 7575),\n",
       " ('tender', 156),\n",
       " ('heir', 109)]"
      ]
     },
     "execution_count": 15,
     "metadata": {},
     "output_type": "execute_result"
    }
   ],
   "source": [
    "wordcount_filtered = wordcount_enhanced.filter(lambda x: x[0] != '')\n",
    "wordcount_filtered.take(100)"
   ]
  },
  {
   "cell_type": "code",
   "execution_count": null,
   "id": "ff03fc25",
   "metadata": {},
   "outputs": [],
   "source": []
  }
 ],
 "metadata": {
  "kernelspec": {
   "display_name": "Python 3",
   "language": "python",
   "name": "python3"
  },
  "language_info": {
   "codemirror_mode": {
    "name": "ipython",
    "version": 3
   },
   "file_extension": ".py",
   "mimetype": "text/x-python",
   "name": "python",
   "nbconvert_exporter": "python",
   "pygments_lexer": "ipython3",
   "version": "3.6.9"
  }
 },
 "nbformat": 4,
 "nbformat_minor": 5
}
