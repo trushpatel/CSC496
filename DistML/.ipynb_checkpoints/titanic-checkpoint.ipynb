{
 "cells": [
  {
   "cell_type": "code",
   "execution_count": 1,
   "id": "981d9148",
   "metadata": {},
   "outputs": [],
   "source": [
    "import os\n",
    "import sys\n",
    "\n",
    "spark_path = os.environ['SPARK_HOME']\n",
    "sys.path.append(spark_path + \"/bin\")\n",
    "sys.path.append(spark_path + \"/python\")\n",
    "sys.path.append(spark_path + \"/python/pyspark/\")\n",
    "sys.path.append(spark_path + \"/python/lib\")\n",
    "sys.path.append(spark_path + \"/python/lib/pyspark.zip\")\n",
    "sys.path.append(spark_path + \"/python/lib/py4j-0.10.9-src.zip\")\n",
    "\n",
    "import findspark\n",
    "findspark.init()\n",
    "\n",
    "import pyspark"
   ]
  },
  {
   "cell_type": "code",
   "execution_count": 2,
   "id": "603a789a",
   "metadata": {},
   "outputs": [],
   "source": [
    "from pyspark.mllib.regression import LabeledPoint\n",
    "from pyspark.mllib.classification import SVMWithSGD\n",
    "import numpy\n",
    "from pyspark.mllib.linalg import Matrix, Matrices, Vectors, DenseMatrix, SparseVector"
   ]
  },
  {
   "cell_type": "code",
   "execution_count": 3,
   "id": "06114368",
   "metadata": {},
   "outputs": [],
   "source": [
    "number_cores = 8\n",
    "memory_gb = 16\n",
    "conf = (pyspark.SparkConf().setMaster('local[{}]'.format(number_cores)).set('spark.driver.memory', '{}g'.format(memory_gb)))\n",
    "sc = pyspark.SparkContext(conf=conf)"
   ]
  },
  {
   "cell_type": "code",
   "execution_count": 4,
   "id": "c5c6944c",
   "metadata": {},
   "outputs": [
    {
     "name": "stdout",
     "output_type": "stream",
     "text": [
      "gender_submission.csv  output1.csv  output.csv\ttest.csv  train.csv\r\n"
     ]
    }
   ],
   "source": [
    "!dir ./data"
   ]
  },
  {
   "cell_type": "code",
   "execution_count": 5,
   "id": "4d14178a",
   "metadata": {},
   "outputs": [],
   "source": [
    "spark = pyspark.sql.SparkSession(sc)"
   ]
  },
  {
   "cell_type": "code",
   "execution_count": 6,
   "id": "80a694e1",
   "metadata": {},
   "outputs": [
    {
     "name": "stdout",
     "output_type": "stream",
     "text": [
      "root\n",
      " |-- PassengerId: integer (nullable = true)\n",
      " |-- Survived: integer (nullable = true)\n",
      " |-- Pclass: integer (nullable = true)\n",
      " |-- Name: string (nullable = true)\n",
      " |-- Sex: string (nullable = true)\n",
      " |-- Age: double (nullable = true)\n",
      " |-- SibSp: integer (nullable = true)\n",
      " |-- Parch: integer (nullable = true)\n",
      " |-- Ticket: string (nullable = true)\n",
      " |-- Fare: double (nullable = true)\n",
      " |-- Cabin: string (nullable = true)\n",
      " |-- Embarked: string (nullable = true)\n",
      "\n"
     ]
    }
   ],
   "source": [
    "df = spark.read.csv('./data/train.csv', header = True, inferSchema = True)\n",
    "df.printSchema()"
   ]
  },
  {
   "cell_type": "markdown",
   "id": "f3ad2640",
   "metadata": {},
   "source": [
    "- PassengerID\n",
    "- Sex (Women and children first)\n",
    "- Age (Male > 10 considered adult)\n",
    "- Cabin (Numbers increase back to front, front sank first; A-F in decreasing class order)\n",
    "- PClass (higher classes were further away from boiler room/rising water)"
   ]
  },
  {
   "cell_type": "code",
   "execution_count": 7,
   "id": "aeedcdf7",
   "metadata": {},
   "outputs": [
    {
     "data": {
      "text/plain": [
       "[Row(PassengerId=1, Survived=0, Pclass=3, Name='Braund, Mr. Owen Harris', Sex='male', Age=22.0, SibSp=1, Parch=0, Ticket='A/5 21171', Fare=7.25, Cabin=None, Embarked='S'),\n",
       " Row(PassengerId=2, Survived=1, Pclass=1, Name='Cumings, Mrs. John Bradley (Florence Briggs Thayer)', Sex='female', Age=38.0, SibSp=1, Parch=0, Ticket='PC 17599', Fare=71.2833, Cabin='C85', Embarked='C'),\n",
       " Row(PassengerId=3, Survived=1, Pclass=3, Name='Heikkinen, Miss. Laina', Sex='female', Age=26.0, SibSp=0, Parch=0, Ticket='STON/O2. 3101282', Fare=7.925, Cabin=None, Embarked='S'),\n",
       " Row(PassengerId=4, Survived=1, Pclass=1, Name='Futrelle, Mrs. Jacques Heath (Lily May Peel)', Sex='female', Age=35.0, SibSp=1, Parch=0, Ticket='113803', Fare=53.1, Cabin='C123', Embarked='S'),\n",
       " Row(PassengerId=5, Survived=0, Pclass=3, Name='Allen, Mr. William Henry', Sex='male', Age=35.0, SibSp=0, Parch=0, Ticket='373450', Fare=8.05, Cabin=None, Embarked='S')]"
      ]
     },
     "execution_count": 7,
     "metadata": {},
     "output_type": "execute_result"
    }
   ],
   "source": [
    "df.take(5)"
   ]
  },
  {
   "cell_type": "code",
   "execution_count": 8,
   "id": "4ca01bf6",
   "metadata": {},
   "outputs": [],
   "source": [
    "df.registerTempTable('df')"
   ]
  },
  {
   "cell_type": "code",
   "execution_count": 16,
   "id": "110ef4fa",
   "metadata": {},
   "outputs": [],
   "source": [
    "df1 = spark.sql(\"SELECT Survived, PassengerID, Pclass, Sex, Age, Cabin FROM df\")"
   ]
  },
  {
   "cell_type": "code",
   "execution_count": 17,
   "id": "99608b81",
   "metadata": {},
   "outputs": [
    {
     "name": "stdout",
     "output_type": "stream",
     "text": [
      "+--------+-----------+------+------+----+-----+\n",
      "|Survived|PassengerID|Pclass|   Sex| Age|Cabin|\n",
      "+--------+-----------+------+------+----+-----+\n",
      "|       0|          1|     3|  male|22.0| null|\n",
      "|       1|          2|     1|female|38.0|  C85|\n",
      "|       1|          3|     3|female|26.0| null|\n",
      "|       1|          4|     1|female|35.0| C123|\n",
      "|       0|          5|     3|  male|35.0| null|\n",
      "|       0|          6|     3|  male|null| null|\n",
      "|       0|          7|     1|  male|54.0|  E46|\n",
      "|       0|          8|     3|  male| 2.0| null|\n",
      "|       1|          9|     3|female|27.0| null|\n",
      "|       1|         10|     2|female|14.0| null|\n",
      "|       1|         11|     3|female| 4.0|   G6|\n",
      "|       1|         12|     1|female|58.0| C103|\n",
      "|       0|         13|     3|  male|20.0| null|\n",
      "|       0|         14|     3|  male|39.0| null|\n",
      "|       0|         15|     3|female|14.0| null|\n",
      "|       1|         16|     2|female|55.0| null|\n",
      "|       0|         17|     3|  male| 2.0| null|\n",
      "|       1|         18|     2|  male|null| null|\n",
      "|       0|         19|     3|female|31.0| null|\n",
      "|       1|         20|     3|female|null| null|\n",
      "+--------+-----------+------+------+----+-----+\n",
      "only showing top 20 rows\n",
      "\n"
     ]
    }
   ],
   "source": [
    "df1.show()"
   ]
  },
  {
   "cell_type": "code",
   "execution_count": 18,
   "id": "4a5a47c9",
   "metadata": {},
   "outputs": [],
   "source": [
    "#unique_survivors = df.select('Survived').distinct().collect()\n",
    "#print(unique_survivors)"
   ]
  },
  {
   "cell_type": "code",
   "execution_count": 19,
   "id": "954941bc",
   "metadata": {},
   "outputs": [
    {
     "name": "stdout",
     "output_type": "stream",
     "text": [
      "['Survived', 'PassengerID', 'Pclass', 'Sex', 'Age', 'Cabin']\n"
     ]
    }
   ],
   "source": [
    "columns = df1.columns\n",
    "print(columns)"
   ]
  },
  {
   "cell_type": "code",
   "execution_count": 20,
   "id": "00cd98d7",
   "metadata": {},
   "outputs": [],
   "source": [
    "cat_columns = ['Survived', 'PassengerID', 'Pclass', 'Sex', 'Age', 'Cabin']"
   ]
  },
  {
   "cell_type": "code",
   "execution_count": 21,
   "id": "58d2f771",
   "metadata": {},
   "outputs": [],
   "source": [
    "import re\n",
    "def myFunction(s):\n",
    "    return (''.join(c for c in s if c.isdigit()) or None, \n",
    "            ''.join(c for c in s if c.isalpha()) or None)"
   ]
  },
  {
   "cell_type": "markdown",
   "id": "9ef7d335",
   "metadata": {},
   "source": [
    "Source: https://stackoverflow.com/questions/21917989/how-to-split-a-python-string-with-numbers-and-letters"
   ]
  },
  {
   "cell_type": "code",
   "execution_count": 22,
   "id": "005b7708",
   "metadata": {},
   "outputs": [],
   "source": [
    "cat_dictionary = {}\n",
    "\n",
    "for c in cat_columns:\n",
    "    unique_c = df1.select(c).distinct().collect()\n",
    "    #print(c + \": \" + str(len(unique_c)))\n",
    "    cat_dictionary[c] = {}\n",
    "    i = 0\n",
    "    for v in unique_c:\n",
    "        if c == \"PassengerID\":\n",
    "            cat_dictionary[c][v[c]] = 0\n",
    "        elif c == \"Sex\":\n",
    "            cat_dictionary[c]['female'] = 5\n",
    "            cat_dictionary[c]['male'] = 1\n",
    "        elif c == \"Age\":\n",
    "            if v[c] == None:\n",
    "                cat_dictionary[c][v[c]] = 0\n",
    "            elif v[c] < 10:\n",
    "                cat_dictionary[c][v[c]] = 5\n",
    "            else:\n",
    "                cat_dictionary[c][v[c]] = 1\n",
    "        elif c == \"Pclass\":\n",
    "            cat_dictionary[c][v[c]] = 3-v[c]\n",
    "        elif c == \"Cabin\":\n",
    "            if v[c] == None:\n",
    "                cat_dictionary[c][v[c]] = 0\n",
    "            else:\n",
    "                s = v[c].split()\n",
    "                for i in s:\n",
    "                    x = myFunction(i)\n",
    "                    if x[0] == None:\n",
    "                        cat_dictionary[c][v[c]] = 0\n",
    "                    elif int(x[0]) < 36 and x[1] == 'A':\n",
    "                        cat_dictionary[c][v[c]] = 3.5\n",
    "                    elif int(x[0]) >= 36 and x[1] == 'A':\n",
    "                        cat_dictionary[c][v[c]] = 2.5\n",
    "                    elif int(x[0]) < 57 and x[1] == 'B':\n",
    "                        cat_dictionary[c][v[c]] = 3\n",
    "                    elif int(x[0]) >= 57 and x[1] == 'B':\n",
    "                        cat_dictionary[c][v[c]] = 2\n",
    "                    elif int(x[0]) < 57 and x[1] == 'C':\n",
    "                        cat_dictionary[c][v[c]] = 3\n",
    "                    elif int(x[0]) >= 57 and x[1] == 'C':\n",
    "                        cat_dictionary[c][v[c]] = 2\n",
    "                    elif int(x[0]) < 51 and x[1] == 'D':\n",
    "                        cat_dictionary[c][v[c]] = 2\n",
    "                    elif int(x[0]) >= 51 and x[1] == 'D':\n",
    "                        cat_dictionary[c][v[c]] = 1\n",
    "                    elif int(x[0]) < 56 and x[1] == 'E':\n",
    "                        cat_dictionary[c][v[c]] = 2\n",
    "                    elif int(x[0]) >= 56 and x[1] == 'E':\n",
    "                        cat_dictionary[c][v[c]] = 1\n",
    "                    elif int(x[0]) < 65 and x[1] == 'F':\n",
    "                        cat_dictionary[c][v[c]] = 0.5\n",
    "                    elif int(x[0]) >= 65 and x[1] == 'F':\n",
    "                        cat_dictionary[c][v[c]] = 1\n",
    "                    elif int(x[0]) < 40 and x[1] == 'G':\n",
    "                        cat_dictionary[c][v[c]] = 0.5\n",
    "                    elif int(x[0]) >= 56 and x[1] == 'G':\n",
    "                        cat_dictionary[c][v[c]] = 1\n",
    "                    else:\n",
    "                        cat_dictionary[c][v[c]] = 0\n",
    "        else:\n",
    "            cat_dictionary[c][v[c]] = i\n",
    "            i += 1"
   ]
  },
  {
   "cell_type": "code",
   "execution_count": 23,
   "id": "8d12ea5f",
   "metadata": {},
   "outputs": [],
   "source": [
    "# feature vector that we will multiply the weights to\n",
    "#print(cat_dictionary)"
   ]
  },
  {
   "cell_type": "code",
   "execution_count": 24,
   "id": "5bc367df",
   "metadata": {},
   "outputs": [],
   "source": [
    "def dataPrep(r):\n",
    "    key = 0\n",
    "    value = []\n",
    "    for c in columns:\n",
    "        if c == 'Survived':\n",
    "            key = cat_dictionary[c][r[columns.index(c)]]\n",
    "        else:\n",
    "            if c in cat_columns:\n",
    "                value.append(cat_dictionary[c][r[columns.index(c)]])\n",
    "            else:\n",
    "                value.append(r[columns.index(c)])\n",
    "    return LabeledPoint(key, value)"
   ]
  },
  {
   "cell_type": "code",
   "execution_count": 25,
   "id": "bc697105",
   "metadata": {},
   "outputs": [
    {
     "data": {
      "text/plain": [
       "[LabeledPoint(1.0, [0.0,0.0,1.0,1.0,0.0]),\n",
       " LabeledPoint(0.0, [0.0,2.0,5.0,1.0,2.0]),\n",
       " LabeledPoint(0.0, [0.0,0.0,5.0,1.0,0.0]),\n",
       " LabeledPoint(0.0, [0.0,2.0,5.0,1.0,2.0]),\n",
       " LabeledPoint(1.0, [0.0,0.0,1.0,1.0,0.0])]"
      ]
     },
     "execution_count": 25,
     "metadata": {},
     "output_type": "execute_result"
    }
   ],
   "source": [
    "# values of each feature for each row\n",
    "df_clean = df1.rdd.map(dataPrep)\n",
    "df_clean.take(5)"
   ]
  },
  {
   "cell_type": "code",
   "execution_count": 26,
   "id": "69e5098d",
   "metadata": {},
   "outputs": [],
   "source": [
    "#columns.index(\"Survived\")"
   ]
  },
  {
   "cell_type": "code",
   "execution_count": 27,
   "id": "9bc3d62b",
   "metadata": {},
   "outputs": [],
   "source": [
    "# Split data for training set and testing set (in reality you want 3, training, testing, and validating)\n",
    "df_svm = df_clean.randomSplit([0.8, 0.2], 1234)"
   ]
  },
  {
   "cell_type": "code",
   "execution_count": 28,
   "id": "9a49d2e9",
   "metadata": {},
   "outputs": [
    {
     "name": "stdout",
     "output_type": "stream",
     "text": [
      "891\n",
      "710\n",
      "181\n"
     ]
    }
   ],
   "source": [
    "print(df_clean.count())\n",
    "print(df_svm[0].count())\n",
    "print(df_svm[1].count())"
   ]
  },
  {
   "cell_type": "code",
   "execution_count": 64,
   "id": "880429bf",
   "metadata": {},
   "outputs": [
    {
     "data": {
      "text/plain": [
       "[LabeledPoint(1.0, [0.0,0.0,1.0,1.0,0.0])]"
      ]
     },
     "execution_count": 64,
     "metadata": {},
     "output_type": "execute_result"
    }
   ],
   "source": [
    "df_svm[0].take(1)"
   ]
  },
  {
   "cell_type": "code",
   "execution_count": 30,
   "id": "6644636f",
   "metadata": {},
   "outputs": [],
   "source": [
    "svm_titanic = SVMWithSGD.train(df_svm[0], iterations=200)"
   ]
  },
  {
   "cell_type": "code",
   "execution_count": 31,
   "id": "90f5730e",
   "metadata": {},
   "outputs": [],
   "source": [
    "#svm_titanic.predict([0.0,1.0,1.0,48.0,45.0])"
   ]
  },
  {
   "cell_type": "code",
   "execution_count": 32,
   "id": "35709be3",
   "metadata": {},
   "outputs": [],
   "source": [
    "def testPrediction(p):\n",
    "    prediction = svm_titanic.predict(p.features)\n",
    "    if prediction == p.label:\n",
    "        return (\"correct\", 1)\n",
    "    else:\n",
    "        return (\"incorrect\", 1)"
   ]
  },
  {
   "cell_type": "code",
   "execution_count": 33,
   "id": "341f8cdd",
   "metadata": {},
   "outputs": [
    {
     "data": {
      "text/plain": [
       "('correct', 1)"
      ]
     },
     "execution_count": 33,
     "metadata": {},
     "output_type": "execute_result"
    }
   ],
   "source": [
    "testPrediction(LabeledPoint(1.0, [0.0,0.0,1.0,1.0,0.0]))"
   ]
  },
  {
   "cell_type": "code",
   "execution_count": 34,
   "id": "afeb484d",
   "metadata": {},
   "outputs": [
    {
     "data": {
      "text/plain": [
       "[('correct', 481), ('incorrect', 229)]"
      ]
     },
     "execution_count": 34,
     "metadata": {},
     "output_type": "execute_result"
    }
   ],
   "source": [
    "df_results = df_svm[0].map(testPrediction).reduceByKey(lambda x, y: x + y)\n",
    "df_results.collect()"
   ]
  },
  {
   "cell_type": "code",
   "execution_count": 35,
   "id": "8f9389c8",
   "metadata": {},
   "outputs": [
    {
     "data": {
      "text/plain": [
       "0.6774647887323944"
      ]
     },
     "execution_count": 35,
     "metadata": {},
     "output_type": "execute_result"
    }
   ],
   "source": [
    "481/(481+229)"
   ]
  },
  {
   "cell_type": "code",
   "execution_count": 36,
   "id": "55950f96",
   "metadata": {},
   "outputs": [],
   "source": [
    "def output(p):\n",
    "    prediction = svm_titanic.predict(p.features)\n",
    "    return ('-', prediction)"
   ]
  },
  {
   "cell_type": "code",
   "execution_count": 37,
   "id": "9cc8a31e",
   "metadata": {},
   "outputs": [],
   "source": [
    "df_out = df_svm[0].map(lambda x: output(x))"
   ]
  },
  {
   "cell_type": "code",
   "execution_count": 57,
   "id": "314d918c",
   "metadata": {},
   "outputs": [],
   "source": [
    "#df_out.collect()"
   ]
  },
  {
   "cell_type": "code",
   "execution_count": 39,
   "id": "26a05eb8",
   "metadata": {},
   "outputs": [],
   "source": [
    "df_out1 = spark.createDataFrame(df_out, ['arb','result'])"
   ]
  },
  {
   "cell_type": "code",
   "execution_count": 40,
   "id": "3fa81af7",
   "metadata": {},
   "outputs": [],
   "source": [
    "df_out1.registerTempTable(\"df_out1\")"
   ]
  },
  {
   "cell_type": "code",
   "execution_count": 41,
   "id": "0f940916",
   "metadata": {},
   "outputs": [
    {
     "name": "stdout",
     "output_type": "stream",
     "text": [
      "root\n",
      " |-- arb: string (nullable = true)\n",
      " |-- result: long (nullable = true)\n",
      "\n"
     ]
    }
   ],
   "source": [
    "df_out1.printSchema()"
   ]
  },
  {
   "cell_type": "code",
   "execution_count": 42,
   "id": "000b1449",
   "metadata": {},
   "outputs": [],
   "source": [
    "out = spark.sql(\"SELECT result FROM df_out1\")"
   ]
  },
  {
   "cell_type": "code",
   "execution_count": 58,
   "id": "2338d432",
   "metadata": {},
   "outputs": [],
   "source": [
    "#out.show()"
   ]
  },
  {
   "cell_type": "code",
   "execution_count": 44,
   "id": "9c1437d9",
   "metadata": {},
   "outputs": [],
   "source": [
    "out.registerTempTable(\"out\")"
   ]
  },
  {
   "cell_type": "code",
   "execution_count": 59,
   "id": "7bb26d09",
   "metadata": {},
   "outputs": [],
   "source": [
    "#out.printSchema()"
   ]
  },
  {
   "cell_type": "code",
   "execution_count": 46,
   "id": "2531a231",
   "metadata": {},
   "outputs": [],
   "source": [
    "from pyspark.sql.functions import monotonically_increasing_id\n",
    "new_df = out.withColumn(\"id\", monotonically_increasing_id())"
   ]
  },
  {
   "cell_type": "code",
   "execution_count": 47,
   "id": "0590b1e8",
   "metadata": {},
   "outputs": [],
   "source": [
    "new_df.registerTempTable(\"new_df\")"
   ]
  },
  {
   "cell_type": "code",
   "execution_count": 60,
   "id": "f488ccd3",
   "metadata": {},
   "outputs": [],
   "source": [
    "#new_df.show()"
   ]
  },
  {
   "cell_type": "code",
   "execution_count": 49,
   "id": "8bfd7c19",
   "metadata": {},
   "outputs": [],
   "source": [
    "output_rdd = new_df.rdd.map(lambda x: (x[1]+1, x[0]))"
   ]
  },
  {
   "cell_type": "code",
   "execution_count": 61,
   "id": "ee94b194",
   "metadata": {},
   "outputs": [],
   "source": [
    "#output_rdd.take(10)"
   ]
  },
  {
   "cell_type": "code",
   "execution_count": 51,
   "id": "57b0c10b",
   "metadata": {},
   "outputs": [],
   "source": [
    "output = spark.createDataFrame(output_rdd, ['PassengerID', 'Survived'])"
   ]
  },
  {
   "cell_type": "code",
   "execution_count": 62,
   "id": "186008d8",
   "metadata": {},
   "outputs": [],
   "source": [
    "#output.show()"
   ]
  },
  {
   "cell_type": "code",
   "execution_count": 54,
   "id": "ba9fc9d2",
   "metadata": {},
   "outputs": [],
   "source": [
    "output.write.csv('output1.csv')"
   ]
  },
  {
   "cell_type": "code",
   "execution_count": 73,
   "id": "d88f644a",
   "metadata": {},
   "outputs": [],
   "source": [
    "df_test1 = spark.read.csv('./data/test.csv', header = True, inferSchema = True)"
   ]
  },
  {
   "cell_type": "code",
   "execution_count": 86,
   "id": "e06da479",
   "metadata": {},
   "outputs": [],
   "source": [
    "df_test1.registerTempTable('df_test1')"
   ]
  },
  {
   "cell_type": "code",
   "execution_count": 87,
   "id": "8d664312",
   "metadata": {},
   "outputs": [
    {
     "name": "stdout",
     "output_type": "stream",
     "text": [
      "root\n",
      " |-- PassengerId: integer (nullable = true)\n",
      " |-- Pclass: integer (nullable = true)\n",
      " |-- Name: string (nullable = true)\n",
      " |-- Sex: string (nullable = true)\n",
      " |-- Age: double (nullable = true)\n",
      " |-- SibSp: integer (nullable = true)\n",
      " |-- Parch: integer (nullable = true)\n",
      " |-- Ticket: string (nullable = true)\n",
      " |-- Fare: double (nullable = true)\n",
      " |-- Cabin: string (nullable = true)\n",
      " |-- Embarked: string (nullable = true)\n",
      "\n"
     ]
    }
   ],
   "source": [
    "df_test1.printSchema()"
   ]
  },
  {
   "cell_type": "code",
   "execution_count": 88,
   "id": "5cea90ab",
   "metadata": {},
   "outputs": [],
   "source": [
    "df_test = spark.sql(\"SELECT PassengerID, Pclass, Sex, Age, Cabin FROM df_test1\")"
   ]
  },
  {
   "cell_type": "code",
   "execution_count": 89,
   "id": "21b6c0b7",
   "metadata": {},
   "outputs": [
    {
     "data": {
      "text/plain": [
       "[Row(PassengerID=892, Pclass=3, Sex='male', Age=34.5, Cabin=None),\n",
       " Row(PassengerID=893, Pclass=3, Sex='female', Age=47.0, Cabin=None),\n",
       " Row(PassengerID=894, Pclass=2, Sex='male', Age=62.0, Cabin=None),\n",
       " Row(PassengerID=895, Pclass=3, Sex='male', Age=27.0, Cabin=None),\n",
       " Row(PassengerID=896, Pclass=3, Sex='female', Age=22.0, Cabin=None),\n",
       " Row(PassengerID=897, Pclass=3, Sex='male', Age=14.0, Cabin=None),\n",
       " Row(PassengerID=898, Pclass=3, Sex='female', Age=30.0, Cabin=None),\n",
       " Row(PassengerID=899, Pclass=2, Sex='male', Age=26.0, Cabin=None),\n",
       " Row(PassengerID=900, Pclass=3, Sex='female', Age=18.0, Cabin=None),\n",
       " Row(PassengerID=901, Pclass=3, Sex='male', Age=21.0, Cabin=None)]"
      ]
     },
     "execution_count": 89,
     "metadata": {},
     "output_type": "execute_result"
    }
   ],
   "source": [
    "df_test.take(10)"
   ]
  },
  {
   "cell_type": "code",
   "execution_count": 90,
   "id": "96d38fa9",
   "metadata": {},
   "outputs": [],
   "source": [
    "cat_columns = ['PassengerID', 'Pclass', 'Sex', 'Age', 'Cabin']"
   ]
  },
  {
   "cell_type": "code",
   "execution_count": 95,
   "id": "e28f39fe",
   "metadata": {},
   "outputs": [],
   "source": [
    "cat_dictionary = {}\n",
    "\n",
    "for c in cat_columns:\n",
    "    unique_c = df1.select(c).distinct().collect()\n",
    "    #print(c + \": \" + str(len(unique_c)))\n",
    "    cat_dictionary[c] = {}\n",
    "    i = 0\n",
    "    for v in unique_c:\n",
    "        if c == \"PassengerID\":\n",
    "            cat_dictionary[c][v[c]] = 0\n",
    "        elif c == \"Sex\":\n",
    "            cat_dictionary[c]['female'] = 5\n",
    "            cat_dictionary[c]['male'] = 1\n",
    "        elif c == \"Age\":\n",
    "            if v[c] == None:\n",
    "                cat_dictionary[c][v[c]] = 0\n",
    "            elif v[c] < 10:\n",
    "                cat_dictionary[c][v[c]] = 5\n",
    "            else:\n",
    "                cat_dictionary[c][v[c]] = 1\n",
    "        elif c == \"Pclass\":\n",
    "            cat_dictionary[c][v[c]] = 3-v[c]\n",
    "        elif c == \"Cabin\":\n",
    "            if v[c] == None:\n",
    "                cat_dictionary[c][v[c]] = 0\n",
    "            else:\n",
    "                s = v[c].split()\n",
    "                for i in s:\n",
    "                    x = myFunction(i)\n",
    "                    if x[0] == None:\n",
    "                        cat_dictionary[c][v[c]] = 0\n",
    "                    elif int(x[0]) < 36 and x[1] == 'A':\n",
    "                        cat_dictionary[c][v[c]] = 3.5\n",
    "                    elif int(x[0]) >= 36 and x[1] == 'A':\n",
    "                        cat_dictionary[c][v[c]] = 2.5\n",
    "                    elif int(x[0]) < 57 and x[1] == 'B':\n",
    "                        cat_dictionary[c][v[c]] = 3\n",
    "                    elif int(x[0]) >= 57 and x[1] == 'B':\n",
    "                        cat_dictionary[c][v[c]] = 2\n",
    "                    elif int(x[0]) < 57 and x[1] == 'C':\n",
    "                        cat_dictionary[c][v[c]] = 3\n",
    "                    elif int(x[0]) >= 57 and x[1] == 'C':\n",
    "                        cat_dictionary[c][v[c]] = 2\n",
    "                    elif int(x[0]) < 51 and x[1] == 'D':\n",
    "                        cat_dictionary[c][v[c]] = 2\n",
    "                    elif int(x[0]) >= 51 and x[1] == 'D':\n",
    "                        cat_dictionary[c][v[c]] = 1\n",
    "                    elif int(x[0]) < 56 and x[1] == 'E':\n",
    "                        cat_dictionary[c][v[c]] = 2\n",
    "                    elif int(x[0]) >= 56 and x[1] == 'E':\n",
    "                        cat_dictionary[c][v[c]] = 1\n",
    "                    elif int(x[0]) < 65 and x[1] == 'F':\n",
    "                        cat_dictionary[c][v[c]] = 0.5\n",
    "                    elif int(x[0]) >= 65 and x[1] == 'F':\n",
    "                        cat_dictionary[c][v[c]] = 1\n",
    "                    elif int(x[0]) < 40 and x[1] == 'G':\n",
    "                        cat_dictionary[c][v[c]] = 0.5\n",
    "                    elif int(x[0]) >= 56 and x[1] == 'G':\n",
    "                        cat_dictionary[c][v[c]] = 1\n",
    "                    else:\n",
    "                        cat_dictionary[c][v[c]] = 0\n",
    "        else:\n",
    "            cat_dictionary[c][v[c]] = i\n",
    "            i += 1"
   ]
  },
  {
   "cell_type": "code",
   "execution_count": 96,
   "id": "ab61d6e2",
   "metadata": {},
   "outputs": [],
   "source": [
    "def testDataPrep(r):\n",
    "    key = 0\n",
    "    value = []\n",
    "    for c in columns:\n",
    "        if c in cat_columns:\n",
    "            value.append(cat_dictionary[c][r[columns.index(c)]])\n",
    "        else:\n",
    "            value.append(r[columns.index(c)])\n",
    "    return LabeledPoint(key, value)"
   ]
  },
  {
   "cell_type": "code",
   "execution_count": 97,
   "id": "704d3550",
   "metadata": {},
   "outputs": [],
   "source": [
    "df_test_clean = df_test.rdd.map(testDataPrep)"
   ]
  },
  {
   "cell_type": "code",
   "execution_count": null,
   "id": "2fc15fad",
   "metadata": {},
   "outputs": [],
   "source": [
    "df_test_clean.take(10)"
   ]
  },
  {
   "cell_type": "code",
   "execution_count": null,
   "id": "6b161cd1",
   "metadata": {},
   "outputs": [],
   "source": [
    "#sc.stop()"
   ]
  },
  {
   "cell_type": "code",
   "execution_count": null,
   "id": "3b6f58ed",
   "metadata": {},
   "outputs": [],
   "source": []
  }
 ],
 "metadata": {
  "kernelspec": {
   "display_name": "Python 3",
   "language": "python",
   "name": "python3"
  },
  "language_info": {
   "codemirror_mode": {
    "name": "ipython",
    "version": 3
   },
   "file_extension": ".py",
   "mimetype": "text/x-python",
   "name": "python",
   "nbconvert_exporter": "python",
   "pygments_lexer": "ipython3",
   "version": "3.6.9"
  }
 },
 "nbformat": 4,
 "nbformat_minor": 5
}
